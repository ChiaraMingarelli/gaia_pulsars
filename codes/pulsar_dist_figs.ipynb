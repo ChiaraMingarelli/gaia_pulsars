{
 "cells": [
  {
   "cell_type": "code",
   "execution_count": 7,
   "metadata": {},
   "outputs": [],
   "source": [
    "from __future__ import division\n",
    "from IPython.display import display, Math, Latex\n",
    "from math import sin, cos\n",
    "import numpy as np\n",
    "import matplotlib.pyplot as plt\n",
    "from matplotlib.ticker import FormatStrFormatter, LinearLocator, NullFormatter, NullLocator, MultipleLocator\n",
    "import matplotlib.ticker\n",
    "import matplotlib.colors\n",
    "from matplotlib.font_manager import FontProperties\n",
    "from matplotlib import rc, text\n",
    "from scipy.stats import norm\n",
    "import scipy as sp\n",
    "\n",
    "%matplotlib inline\n",
    "%config InlineBackend.figure_format = \"retina\""
   ]
  },
  {
   "cell_type": "code",
   "execution_count": 8,
   "metadata": {},
   "outputs": [],
   "source": [
    "c=2.99792458*(10**8)\n",
    "G=6.67428*(10**(-11))\n",
    "s_mass=G*(1.98892*10**(30))/(c**3)\n",
    "\n",
    "# common function shortcuts\n",
    "log10 = np.log10\n",
    "pi = np.pi\n",
    "sqrt = np.sqrt"
   ]
  },
  {
   "cell_type": "code",
   "execution_count": 9,
   "metadata": {},
   "outputs": [],
   "source": [
    "# pulasrs     (has binary params in par files, X is yes)\n",
    "#J0437-4715      X\n",
    "#J1012+5307      X\n",
    "#J1024-0719      X\n",
    "#J1732-5049      X  \n",
    "#J1910+1256      X \n",
    "#J1955+2908      X"
   ]
  },
  {
   "cell_type": "code",
   "execution_count": 10,
   "metadata": {},
   "outputs": [],
   "source": [
    "# Posterior PDF from Bailor-Jones et al.\n",
    "wzp = -0.029 # Quasar Correction; defined in Bailor-Jones but computed in Lindegren et al. 2018\n",
    "\n",
    "def pOfR(r, px, dpx, Lsph):\n",
    "    \"\"\"\n",
    "    This is Equation 2 in Bailer-Jones et al. 2018.\n",
    "    NB, r > 0\n",
    "    Here, input r in pc's.\n",
    "    \"\"\"\n",
    "    r = r/1000. #convert pc to kpc\n",
    "    #px = px + 0.029 #Quasar correction already accounted for \n",
    "    exponent = -r/Lsph - (px-wzp-1/r)**2/(2*dpx**2)\n",
    "    ans = r**2*np.exp(exponent)\n",
    "    return ans\n",
    "\n",
    "def gaussian(x, mu, sig):\n",
    "    \"\"\"\n",
    "    a gaussian function\n",
    "    \"\"\"\n",
    "    x = x/1000\n",
    "    ans = np.exp(-np.power(x - mu, 2.) / (2 * np.power(sig, 2.)))\n",
    "    return ans"
   ]
  },
  {
   "cell_type": "code",
   "execution_count": 11,
   "metadata": {},
   "outputs": [],
   "source": [
    "# plotting preamble\n",
    "\n",
    "fig_width_pt = 245.27 #513.17           # Get this from LaTeX using \\showthe\\columnwidth\n",
    "inches_per_pt = 1.0/72.27               # Convert pt to inches\n",
    "golden_mean = (np.sqrt(5)-1.0)/2.0      # Aesthetic ratio\n",
    "fig_width = fig_width_pt*inches_per_pt  # width in inches\n",
    "fig_height =fig_width*golden_mean       # height in inches\n",
    "fig_size = [fig_width,fig_height]\n",
    "\n",
    "params = {'backend': 'pdf',\n",
    "        'axes.labelsize': 7,\n",
    "        'lines.markersize': 2,\n",
    "        'font.size': 7,\n",
    "        'xtick.major.size':6,\n",
    "        'xtick.minor.size':3,  \n",
    "        'ytick.major.size':6,\n",
    "        'ytick.minor.size':3, \n",
    "        'xtick.major.width':0.5,\n",
    "        'ytick.major.width':0.5,\n",
    "        'xtick.minor.width':0.5,\n",
    "        'ytick.minor.width':0.5,\n",
    "        'lines.markeredgewidth':1,\n",
    "        'axes.linewidth':1.0,\n",
    "        'legend.fontsize': 7,\n",
    "        'xtick.labelsize': 7,\n",
    "        'ytick.labelsize': 7,\n",
    "        'savefig.dpi':200,\n",
    "        'path.simplify':True,\n",
    "        'font.family': 'serif',\n",
    "        'font.serif':'Times',\n",
    "        'text.latex.preamble': [r'\\usepackage{amsmath}'],\n",
    "        'text.usetex':True,\n",
    "        #'axes.color_cycle': ['b', 'lime', 'r', 'purple', 'g', 'c', 'm', 'orange', 'darkblue', \\\n",
    "        #                        'darkcyan', 'y','orangered','chartreuse','brown','deeppink','lightgreen', 'k'],\n",
    "        #'font.serif':cm,\n",
    "        'figure.figsize': fig_size}\n",
    "plt.rcParams.update(params)"
   ]
  },
  {
   "cell_type": "markdown",
   "metadata": {},
   "source": [
    "# J0437-4715"
   ]
  },
  {
   "cell_type": "code",
   "execution_count": 12,
   "metadata": {},
   "outputs": [],
   "source": [
    "# Parallax measurements"
   ]
  },
  {
   "cell_type": "code",
   "execution_count": 30,
   "metadata": {},
   "outputs": [],
   "source": [
    "# parallax distance measurement from VLBI observations\n",
    "d_pi_PTA_0437 = 156.3 \n",
    "eplus_pi_PTA_0437 = 1.3   # error on this\n",
    "eminus_pi_PTA_0437 = 1.3   # error on this\n",
    "\n",
    "# dispersion measure distance from NE 2001, https://www.nrl.navy.mil/rsd/RORF/ne2001/pulsar.cgi\n",
    "d_DM_NE = 139\n",
    "eplus_DM_NE = 33\n",
    "eminus_DM_NE = 29\n",
    "\n",
    "# YMW 16 DM model, http://www.atnf.csiro.au/research/pulsar/ymw16/\n",
    "d_DM_YMW = 156.1 # no errors reported here..."
   ]
  },
  {
   "cell_type": "code",
   "execution_count": 31,
   "metadata": {},
   "outputs": [],
   "source": [
    "x1 = d_pi_PTA_0437\n",
    "dx1p = x1 + eplus_pi_PTA_0437\n",
    "dx1m = x1 - eminus_pi_PTA_0437"
   ]
  },
  {
   "cell_type": "code",
   "execution_count": 32,
   "metadata": {},
   "outputs": [],
   "source": [
    "# GAIA estimate placeholder\n",
    "# 8.325\t0.6777\n",
    "gx_w = np.linspace(6, 11, 1000)\n",
    "dist_gaia0437 = norm(8.325-wzp, 0.6777)"
   ]
  },
  {
   "cell_type": "code",
   "execution_count": 33,
   "metadata": {},
   "outputs": [
    {
     "ename": "SyntaxError",
     "evalue": "invalid syntax (<ipython-input-33-39bb0b783805>, line 3)",
     "output_type": "error",
     "traceback": [
      "\u001b[0;36m  File \u001b[0;32m\"<ipython-input-33-39bb0b783805>\"\u001b[0;36m, line \u001b[0;32m3\u001b[0m\n\u001b[0;31m    v8 = np.linspace(, 11, 1000)\u001b[0m\n\u001b[0m                     ^\u001b[0m\n\u001b[0;31mSyntaxError\u001b[0m\u001b[0;31m:\u001b[0m invalid syntax\n"
     ]
    }
   ],
   "source": [
    "# from Verbiest et al. 2008\n",
    "\n",
    "v8 = np.linspace(, 11, 1000)\n",
    "dist_V8_0437 = norm(157, 2.4)\n",
    "\n"
   ]
  },
  {
   "cell_type": "code",
   "execution_count": 34,
   "metadata": {},
   "outputs": [
    {
     "data": {
      "text/plain": [
       "<scipy.stats._distn_infrastructure.rv_frozen at 0x1102f9128>"
      ]
     },
     "execution_count": 34,
     "metadata": {},
     "output_type": "execute_result"
    }
   ],
   "source": [
    "dist_gaia0437"
   ]
  },
  {
   "cell_type": "code",
   "execution_count": 35,
   "metadata": {},
   "outputs": [],
   "source": [
    "def testfn(x):\n",
    "    return sp.stats.norm.pdf(x, 8.325-wzp, 0.6777)"
   ]
  },
  {
   "cell_type": "code",
   "execution_count": 36,
   "metadata": {},
   "outputs": [],
   "source": [
    "test = []\n",
    "for xx in gx_w:\n",
    "    test.append(sp.stats.norm.pdf(xx, 8.325-wzp, 0.6777))"
   ]
  },
  {
   "cell_type": "code",
   "execution_count": 37,
   "metadata": {},
   "outputs": [],
   "source": [
    "norm_test = sp.integrate.quad(testfn, 6, 11)"
   ]
  },
  {
   "cell_type": "code",
   "execution_count": 38,
   "metadata": {},
   "outputs": [
    {
     "data": {
      "text/plain": [
       "(0.9996959209570428, 7.256891891875214e-13)"
      ]
     },
     "execution_count": 38,
     "metadata": {},
     "output_type": "execute_result"
    }
   ],
   "source": [
    "norm_test"
   ]
  },
  {
   "cell_type": "code",
   "execution_count": 39,
   "metadata": {},
   "outputs": [
    {
     "data": {
      "text/plain": [
       "166.66666666666666"
      ]
     },
     "execution_count": 39,
     "metadata": {},
     "output_type": "execute_result"
    }
   ],
   "source": [
    "1/6*1000"
   ]
  },
  {
   "cell_type": "code",
   "execution_count": 46,
   "metadata": {},
   "outputs": [
    {
     "data": {
      "text/plain": [
       "[<matplotlib.lines.Line2D at 0x1a17368198>]"
      ]
     },
     "execution_count": 46,
     "metadata": {},
     "output_type": "execute_result"
    },
    {
     "name": "stderr",
     "output_type": "stream",
     "text": [
      "/anaconda2/envs/py3/lib/python3.6/site-packages/matplotlib/font_manager.py:1328: UserWarning: findfont: Font family ['serif'] not found. Falling back to DejaVu Sans\n",
      "  (prop.get_family(), self.defaultFamily[fontext]))\n"
     ]
    },
    {
     "data": {
      "image/png": "[encoded data removed]",
      "text/plain": [
       "<Figure size 244.354x151.019 with 1 Axes>"
      ]
     },
     "metadata": {
      "image/png": {
       "height": 147,
       "width": 226
      }
     },
     "output_type": "display_data"
    }
   ],
   "source": [
    "plt.plot(1/gx_w*1000, np.array(test)/norm_test[0], label = \"GAIA\", color = \"C5\", linestyle='dashed')\n",
    "#plt.plot(dist_BJ, bj_0437/norm_0437[0])\n",
    "plt.plot(dist_BJ, np.array(bj_0437)*53.66327901458907)"
   ]
  },
  {
   "cell_type": "code",
   "execution_count": 41,
   "metadata": {},
   "outputs": [
    {
     "data": {
      "text/plain": [
       "0.5886691771417082"
      ]
     },
     "execution_count": 41,
     "metadata": {},
     "output_type": "execute_result"
    }
   ],
   "source": [
    "max(test)"
   ]
  },
  {
   "cell_type": "code",
   "execution_count": 42,
   "metadata": {},
   "outputs": [
    {
     "ename": "NameError",
     "evalue": "name 'bj_0437' is not defined",
     "output_type": "error",
     "traceback": [
      "\u001b[0;31m---------------------------------------------------------------------------\u001b[0m",
      "\u001b[0;31mNameError\u001b[0m                                 Traceback (most recent call last)",
      "\u001b[0;32m<ipython-input-42-ae0951339576>\u001b[0m in \u001b[0;36m<module>\u001b[0;34m()\u001b[0m\n\u001b[0;32m----> 1\u001b[0;31m \u001b[0mmax\u001b[0m\u001b[0;34m(\u001b[0m\u001b[0mbj_0437\u001b[0m\u001b[0;34m)\u001b[0m\u001b[0;34m\u001b[0m\u001b[0m\n\u001b[0m",
      "\u001b[0;31mNameError\u001b[0m: name 'bj_0437' is not defined"
     ]
    }
   ],
   "source": [
    "max(bj_0437)"
   ]
  },
  {
   "cell_type": "code",
   "execution_count": 43,
   "metadata": {},
   "outputs": [
    {
     "ename": "NameError",
     "evalue": "name 'bj_0437' is not defined",
     "output_type": "error",
     "traceback": [
      "\u001b[0;31m---------------------------------------------------------------------------\u001b[0m",
      "\u001b[0;31mNameError\u001b[0m                                 Traceback (most recent call last)",
      "\u001b[0;32m<ipython-input-43-dc5e3e92756d>\u001b[0m in \u001b[0;36m<module>\u001b[0;34m()\u001b[0m\n\u001b[0;32m----> 1\u001b[0;31m \u001b[0mmax\u001b[0m\u001b[0;34m(\u001b[0m\u001b[0mtest\u001b[0m\u001b[0;34m)\u001b[0m\u001b[0;34m/\u001b[0m\u001b[0mmax\u001b[0m\u001b[0;34m(\u001b[0m\u001b[0mbj_0437\u001b[0m\u001b[0;34m)\u001b[0m\u001b[0;34m\u001b[0m\u001b[0m\n\u001b[0m",
      "\u001b[0;31mNameError\u001b[0m: name 'bj_0437' is not defined"
     ]
    }
   ],
   "source": [
    "max(test)/max(bj_0437)"
   ]
  },
  {
   "cell_type": "code",
   "execution_count": 44,
   "metadata": {},
   "outputs": [],
   "source": [
    "# Corrected Bailer-Jones distance estimate\n",
    "dist_BJ = np.linspace(95, 160, 1000)\n",
    "bj_0437 = []\n",
    "for r in dist_BJ:\n",
    "    bj_0437.append(pOfR(r,8.325,0.6777,0.432138759729853))\n"
   ]
  },
  {
   "cell_type": "code",
   "execution_count": 45,
   "metadata": {},
   "outputs": [
    {
     "data": {
      "text/plain": [
       "[<matplotlib.lines.Line2D at 0x1a16f233c8>]"
      ]
     },
     "execution_count": 45,
     "metadata": {},
     "output_type": "execute_result"
    },
    {
     "name": "stderr",
     "output_type": "stream",
     "text": [
      "/anaconda2/envs/py3/lib/python3.6/site-packages/matplotlib/font_manager.py:1328: UserWarning: findfont: Font family ['serif'] not found. Falling back to DejaVu Sans\n",
      "  (prop.get_family(), self.defaultFamily[fontext]))\n"
     ]
    },
    {
     "data": {
      "image/png": "[encoded data removed]",
      "text/plain": [
       "<Figure size 244.354x151.019 with 1 Axes>"
      ]
     },
     "metadata": {
      "image/png": {
       "height": 147,
       "width": 228
      }
     },
     "output_type": "display_data"
    }
   ],
   "source": [
    "plt.plot(dist_BJ, np.array(bj_0437)*0.5886674457139497*10)"
   ]
  },
  {
   "cell_type": "code",
   "execution_count": 58,
   "metadata": {},
   "outputs": [
    {
     "data": {
      "text/plain": [
       "(0.28015182842441827, 2.2439499133071646e-10)"
      ]
     },
     "execution_count": 58,
     "metadata": {},
     "output_type": "execute_result"
    }
   ],
   "source": [
    "norm_0437                          "
   ]
  },
  {
   "cell_type": "code",
   "execution_count": 59,
   "metadata": {},
   "outputs": [],
   "source": [
    "bj_0437 = np.array(bj_0437)"
   ]
  },
  {
   "cell_type": "code",
   "execution_count": 60,
   "metadata": {},
   "outputs": [],
   "source": [
    "norm_0437 = sp.integrate.quad(pOfR, 91, 166.7, args=(8.325,0.6777,0.432138759729853)) #normalize dist'n"
   ]
  },
  {
   "cell_type": "code",
   "execution_count": 61,
   "metadata": {},
   "outputs": [
    {
     "data": {
      "text/plain": [
       "[<matplotlib.lines.Line2D at 0x10ef1d630>]"
      ]
     },
     "execution_count": 61,
     "metadata": {},
     "output_type": "execute_result"
    },
    {
     "name": "stderr",
     "output_type": "stream",
     "text": [
      "/anaconda2/envs/py3/lib/python3.6/site-packages/matplotlib/font_manager.py:1328: UserWarning: findfont: Font family ['serif'] not found. Falling back to DejaVu Sans\n",
      "  (prop.get_family(), self.defaultFamily[fontext]))\n"
     ]
    },
    {
     "data": {
      "image/png": "[encoded data removed]",
      "text/plain": [
       "<Figure size 244.354x151.019 with 1 Axes>"
      ]
     },
     "metadata": {
      "image/png": {
       "height": 147,
       "width": 228
      }
     },
     "output_type": "display_data"
    }
   ],
   "source": [
    "plt.plot(dist_BJ, bj_0437/norm_0437[0])"
   ]
  },
  {
   "cell_type": "code",
   "execution_count": 62,
   "metadata": {},
   "outputs": [
    {
     "data": {
      "text/plain": [
       "(0.28015182842441827, 2.2439499133071646e-10)"
      ]
     },
     "execution_count": 62,
     "metadata": {},
     "output_type": "execute_result"
    }
   ],
   "source": [
    "norm_0437 # area under the curve"
   ]
  },
  {
   "cell_type": "code",
   "execution_count": 63,
   "metadata": {},
   "outputs": [
    {
     "data": {
      "text/plain": [
       "[<matplotlib.lines.Line2D at 0x10f07cd68>]"
      ]
     },
     "execution_count": 63,
     "metadata": {},
     "output_type": "execute_result"
    },
    {
     "name": "stderr",
     "output_type": "stream",
     "text": [
      "/anaconda2/envs/py3/lib/python3.6/site-packages/matplotlib/font_manager.py:1328: UserWarning: findfont: Font family ['serif'] not found. Falling back to DejaVu Sans\n",
      "  (prop.get_family(), self.defaultFamily[fontext]))\n"
     ]
    },
    {
     "data": {
      "image/png": "[encoded data removed]",
      "text/plain": [
       "<Figure size 244.354x151.019 with 1 Axes>"
      ]
     },
     "metadata": {
      "image/png": {
       "height": 147,
       "width": 226
      }
     },
     "output_type": "display_data"
    }
   ],
   "source": [
    "plt.plot(1/gx_w*1000, dist_gaia0437.pdf(gx_w), label = \"GAIA\", color = \"C5\", linestyle='dashed')"
   ]
  },
  {
   "cell_type": "code",
   "execution_count": null,
   "metadata": {},
   "outputs": [],
   "source": []
  },
  {
   "cell_type": "code",
   "execution_count": null,
   "metadata": {},
   "outputs": [],
   "source": []
  },
  {
   "cell_type": "code",
   "execution_count": null,
   "metadata": {},
   "outputs": [],
   "source": []
  },
  {
   "cell_type": "code",
   "execution_count": 64,
   "metadata": {},
   "outputs": [
    {
     "data": {
      "text/plain": [
       "[<matplotlib.lines.Line2D at 0x10f0e4390>]"
      ]
     },
     "execution_count": 64,
     "metadata": {},
     "output_type": "execute_result"
    },
    {
     "name": "stderr",
     "output_type": "stream",
     "text": [
      "/anaconda2/envs/py3/lib/python3.6/site-packages/matplotlib/font_manager.py:1328: UserWarning: findfont: Font family ['serif'] not found. Falling back to DejaVu Sans\n",
      "  (prop.get_family(), self.defaultFamily[fontext]))\n"
     ]
    },
    {
     "data": {
      "image/png": "[encoded data removed]",
      "text/plain": [
       "<Figure size 244.354x151.019 with 1 Axes>"
      ]
     },
     "metadata": {
      "image/png": {
       "height": 147,
       "width": 228
      }
     },
     "output_type": "display_data"
    }
   ],
   "source": [
    "plt.plot(dist_BJ, np.array(bj_0437/norm_0437[0]))"
   ]
  },
  {
   "cell_type": "code",
   "execution_count": 67,
   "metadata": {},
   "outputs": [
    {
     "name": "stderr",
     "output_type": "stream",
     "text": [
      "/anaconda2/envs/py3/lib/python3.6/site-packages/matplotlib/font_manager.py:1328: UserWarning: findfont: Font family ['serif'] not found. Falling back to DejaVu Sans\n",
      "  (prop.get_family(), self.defaultFamily[fontext]))\n",
      "/anaconda2/envs/py3/lib/python3.6/site-packages/matplotlib/font_manager.py:1328: UserWarning: findfont: Font family ['serif'] not found. Falling back to DejaVu Sans\n",
      "  (prop.get_family(), self.defaultFamily[fontext]))\n",
      "/anaconda2/envs/py3/lib/python3.6/site-packages/matplotlib/font_manager.py:1328: UserWarning: findfont: Font family ['serif'] not found. Falling back to DejaVu Sans\n",
      "  (prop.get_family(), self.defaultFamily[fontext]))\n",
      "/anaconda2/envs/py3/lib/python3.6/site-packages/matplotlib/font_manager.py:1328: UserWarning: findfont: Font family ['serif'] not found. Falling back to DejaVu Sans\n",
      "  (prop.get_family(), self.defaultFamily[fontext]))\n"
     ]
    },
    {
     "data": {
      "image/png": "[encoded data removed]",
      "text/plain": [
       "<Figure size 244.354x151.019 with 1 Axes>"
      ]
     },
     "metadata": {
      "image/png": {
       "height": 149,
       "width": 237
      }
     },
     "output_type": "display_data"
    }
   ],
   "source": [
    "fig, ax1 = plt.subplots()\n",
    "\n",
    "# DM NE 2001 model\n",
    "ax1.axvspan(d_DM_NE - eminus_DM_NE, d_DM_NE+ eplus_DM_NE, alpha=0.3, color = \"C0\", label = \"NE 2001\")\n",
    "plt.axvline(d_DM_NE, ymin=0, ymax=1, color = \"C0\")\n",
    "\n",
    "# DM YMW16 model\n",
    "ax1.axvspan(d_DM_YMW*.8, d_DM_YMW*1.2, alpha=0.35, color = \"C1\", label = \"YMW 16\")\n",
    "plt.axvline(d_DM_YMW, ymin=0, ymax=1, color = \"C1\")\n",
    "\n",
    "# GAIA distance, to be updated\n",
    "#plt.plot(1/gx_w*1000, np.array(test)/norm_test[0], label = \"Gaia px\", color = \"C6\", linestyle='dashed')\n",
    "plt.plot(dist_BJ, np.array(bj_0437)*53.66327901458907, color = \"C5\", linestyle='dashed', label=\"Gaia\")\n",
    "\n",
    "#plt.plot(1/gx_w, dist_gaia0437.pdf(gx_w), label = \"GAIA inv\", color = \"C6\", linestyle='dashed')\n",
    "#plt.plot(dist_BJ, np.array(bj_0437)/norm[0])\n",
    "#plt.plot(dist_BJ, np.array(bj_0437), label = \"GAIA bj\", color = \"C5\", linestyle='dashed')\n",
    "\n",
    "# Deller et al. 2008 VLBI measurements\n",
    "ax1.axvspan(dx1p, dx1m, alpha=0.3, color = \"C3\", label = \"VLBI\")\n",
    "plt.axvline(d_pi_PTA_0437, ymin=0, ymax=1, color = \"C3\")\n",
    "\n",
    "# Verbiest et al. 2008, Pb_dot measurements\n",
    "ax1.axvspan(157-2.4, 157+2.4, alpha=0.3, color = \"C4\",label = \"$D_k$\")\n",
    "plt.axvline(157, ymin=0, ymax=1, color = \"C4\")\n",
    "\n",
    "ax1.set_yticklabels([])\n",
    "plt.yticks([])\n",
    "plt.xlabel(\"Distance (pc)\")\n",
    "plt.tight_layout()\n",
    "plt.legend()\n",
    "#plt.savefig(\"J0437_distances_final.pdf\")"
   ]
  },
  {
   "cell_type": "markdown",
   "metadata": {},
   "source": [
    "# Consistency checks for distance"
   ]
  },
  {
   "cell_type": "code",
   "execution_count": 112,
   "metadata": {},
   "outputs": [],
   "source": [
    "dist0437 = 1/(8.325-0.029)*1000 # distance in pc"
   ]
  },
  {
   "cell_type": "code",
   "execution_count": 165,
   "metadata": {},
   "outputs": [
    {
     "data": {
      "text/plain": [
       "9.846910688331171"
      ]
     },
     "execution_count": 165,
     "metadata": {},
     "output_type": "execute_result"
    }
   ],
   "source": [
    "1/(8.325-0.029)**2*(0.6777)*1000"
   ]
  },
  {
   "cell_type": "code",
   "execution_count": 166,
   "metadata": {},
   "outputs": [],
   "source": [
    "errDist0437 = 1/(8.325-0.029)**2*(0.6777)*1000 # error on distance in pc"
   ]
  },
  {
   "cell_type": "code",
   "execution_count": 167,
   "metadata": {},
   "outputs": [
    {
     "data": {
      "text/plain": [
       "9.846910688331171"
      ]
     },
     "execution_count": 167,
     "metadata": {},
     "output_type": "execute_result"
    }
   ],
   "source": [
    "errDist0437"
   ]
  },
  {
   "cell_type": "code",
   "execution_count": 168,
   "metadata": {},
   "outputs": [
    {
     "data": {
      "text/plain": [
       "-1.8746976892430265"
      ]
     },
     "execution_count": 168,
     "metadata": {},
     "output_type": "execute_result"
    }
   ],
   "source": [
    "# consistency with NE 2001\n",
    "(dist0437 - d_DM_NE)/errDist0437 #1-sigma"
   ]
  },
  {
   "cell_type": "code",
   "execution_count": 169,
   "metadata": {},
   "outputs": [
    {
     "data": {
      "text/plain": [
       "-3.601127484137522"
      ]
     },
     "execution_count": 169,
     "metadata": {},
     "output_type": "execute_result"
    }
   ],
   "source": [
    "# consistency with Deller et al. 2008\n",
    "(dist0437 - 156)/errDist0437 #2.9-sigma"
   ]
  },
  {
   "cell_type": "code",
   "execution_count": 170,
   "metadata": {},
   "outputs": [
    {
     "data": {
      "text/plain": [
       "-3.7026821779548453"
      ]
     },
     "execution_count": 170,
     "metadata": {},
     "output_type": "execute_result"
    }
   ],
   "source": [
    "(dist0437 - 157)/errDist0437 #3-sigma"
   ]
  },
  {
   "cell_type": "code",
   "execution_count": null,
   "metadata": {
    "collapsed": true
   },
   "outputs": [],
   "source": []
  },
  {
   "cell_type": "code",
   "execution_count": 123,
   "metadata": {},
   "outputs": [
    {
     "data": {
      "text/plain": [
       "1090.5125408942201"
      ]
     },
     "execution_count": 123,
     "metadata": {},
     "output_type": "execute_result"
    }
   ],
   "source": [
    "1/0.917*1000"
   ]
  },
  {
   "cell_type": "markdown",
   "metadata": {},
   "source": [
    "## J1012+5307"
   ]
  },
  {
   "cell_type": "code",
   "execution_count": 1,
   "metadata": {},
   "outputs": [],
   "source": [
    "# dispersion measure distance from NE 2001, https://www.nrl.navy.mil/rsd/RORF/ne2001/pulsar.cgi\n",
    "d_DM_NE_1012 = 411\n",
    "eplus_DM_NE_1012 = 59\n",
    "eminus_DM_NE_1012 = 56\n",
    "\n",
    "# YMW 16 DM model, http://www.atnf.csiro.au/research/pulsar/ymw16/\n",
    "d_DM_YMW_1012 = 804.5 # no errors reported here..."
   ]
  },
  {
   "cell_type": "code",
   "execution_count": 40,
   "metadata": {},
   "outputs": [
    {
     "data": {
      "text/plain": [
       "3.271127594519667"
      ]
     },
     "execution_count": 40,
     "metadata": {},
     "output_type": "execute_result"
    }
   ],
   "source": [
    "# s/n of detection\n",
    "(1.32587877+0.029)/0.414193189"
   ]
  },
  {
   "cell_type": "code",
   "execution_count": 41,
   "metadata": {},
   "outputs": [
    {
     "data": {
      "text/plain": [
       "1.35487877"
      ]
     },
     "execution_count": 41,
     "metadata": {},
     "output_type": "execute_result"
    }
   ],
   "source": [
    "1.32587877+0.029"
   ]
  },
  {
   "cell_type": "code",
   "execution_count": null,
   "metadata": {},
   "outputs": [],
   "source": []
  },
  {
   "cell_type": "code",
   "execution_count": null,
   "metadata": {},
   "outputs": [],
   "source": []
  },
  {
   "cell_type": "code",
   "execution_count": 197,
   "metadata": {},
   "outputs": [],
   "source": [
    "# parallax distance measurement from pulsar timing\n",
    "#d_pi_PTA_1012 = 1150\n",
    "#eplus_pi_PTA_1012 = 240   # error on this\n",
    "#eminus_pi_PTA_1012 = 240   # error on this\n",
    "px1012 = np.linspace(0.4, 2, 1000)\n",
    "dist_px1012 = norm(0.91650432571114162888, 0.20031527835021703532 )"
   ]
  },
  {
   "cell_type": "code",
   "execution_count": 198,
   "metadata": {},
   "outputs": [],
   "source": [
    "errP_1012 = (1/0.91650432571114162888)**2*0.20031527835021703532*1000"
   ]
  },
  {
   "cell_type": "code",
   "execution_count": 199,
   "metadata": {},
   "outputs": [
    {
     "data": {
      "text/plain": [
       "238.4761966376742"
      ]
     },
     "execution_count": 199,
     "metadata": {},
     "output_type": "execute_result"
    }
   ],
   "source": [
    "errP_1012"
   ]
  },
  {
   "cell_type": "code",
   "execution_count": 200,
   "metadata": {},
   "outputs": [
    {
     "data": {
      "text/plain": [
       "1.0911023242842546"
      ]
     },
     "execution_count": 200,
     "metadata": {},
     "output_type": "execute_result"
    }
   ],
   "source": [
    "1/0.9165043257111416288"
   ]
  },
  {
   "cell_type": "code",
   "execution_count": 201,
   "metadata": {},
   "outputs": [
    {
     "data": {
      "text/plain": [
       "-2.8518667014702497"
      ]
     },
     "execution_count": 201,
     "metadata": {},
     "output_type": "execute_result"
    }
   ],
   "source": [
    "(.411 - 1/0.91650432571114162888)*1000/errP_1012"
   ]
  },
  {
   "cell_type": "code",
   "execution_count": 202,
   "metadata": {},
   "outputs": [],
   "source": [
    "# GAIA estimate placeholder J1012\n",
    "#1.3259\t0.4142\n",
    "gx1012 = np.linspace(0.5, 2.5, 1000)\n",
    "dist_gaia1012 = norm(1.3259, 0.4142)"
   ]
  },
  {
   "cell_type": "code",
   "execution_count": 51,
   "metadata": {},
   "outputs": [],
   "source": [
    "# Corrected Bailer-Jones distance estimate\n",
    "# r_est\tr_lo\tr_hi\n",
    "# 734.400211678976\t549.321414392381\t1064.06493890205\n",
    "# Corrected Bailer-Jones distance estimate\n",
    "dist_BJ_1012 = np.linspace(150, 2000, 1000)\n",
    "bj_1012 = []\n",
    "for r in dist_BJ_1012:\n",
    "    bj_1012.append(pOfR(r,1.3259,0.4142,0.357583510161317))\n"
   ]
  },
  {
   "cell_type": "code",
   "execution_count": 52,
   "metadata": {},
   "outputs": [
    {
     "data": {
      "text/plain": [
       "[<matplotlib.lines.Line2D at 0x1a177f8cf8>]"
      ]
     },
     "execution_count": 52,
     "metadata": {},
     "output_type": "execute_result"
    },
    {
     "name": "stderr",
     "output_type": "stream",
     "text": [
      "/anaconda2/envs/py3/lib/python3.6/site-packages/matplotlib/font_manager.py:1328: UserWarning: findfont: Font family ['serif'] not found. Falling back to DejaVu Sans\n",
      "  (prop.get_family(), self.defaultFamily[fontext]))\n"
     ]
    },
    {
     "data": {
      "image/png": "[encoded data removed]",
      "text/plain": [
       "<Figure size 244.354x151.019 with 1 Axes>"
      ]
     },
     "metadata": {
      "image/png": {
       "height": 147,
       "width": 228
      }
     },
     "output_type": "display_data"
    }
   ],
   "source": [
    "plt.plot(dist_BJ_1012, np.array(bj_1012))"
   ]
  },
  {
   "cell_type": "code",
   "execution_count": 53,
   "metadata": {},
   "outputs": [],
   "source": [
    "norm_1012 = sp.integrate.quad(pOfR, 0.4, 2.0, args=(1.3259,0.4142,0.357583510161317))"
   ]
  },
  {
   "cell_type": "code",
   "execution_count": 54,
   "metadata": {},
   "outputs": [
    {
     "data": {
      "text/plain": [
       "(0.0, 0.0)"
      ]
     },
     "execution_count": 54,
     "metadata": {},
     "output_type": "execute_result"
    }
   ],
   "source": [
    "norm_1012"
   ]
  },
  {
   "cell_type": "code",
   "execution_count": 56,
   "metadata": {},
   "outputs": [
    {
     "ename": "NameError",
     "evalue": "name 'd_DM_NE_1012' is not defined",
     "output_type": "error",
     "traceback": [
      "\u001b[0;31m---------------------------------------------------------------------------\u001b[0m",
      "\u001b[0;31mNameError\u001b[0m                                 Traceback (most recent call last)",
      "\u001b[0;32m<ipython-input-56-6f9bc1edf6af>\u001b[0m in \u001b[0;36m<module>\u001b[0;34m()\u001b[0m\n\u001b[1;32m      2\u001b[0m \u001b[0;34m\u001b[0m\u001b[0m\n\u001b[1;32m      3\u001b[0m \u001b[0;31m# DM NE 2001 model\u001b[0m\u001b[0;34m\u001b[0m\u001b[0;34m\u001b[0m\u001b[0m\n\u001b[0;32m----> 4\u001b[0;31m \u001b[0max1\u001b[0m\u001b[0;34m.\u001b[0m\u001b[0maxvspan\u001b[0m\u001b[0;34m(\u001b[0m\u001b[0md_DM_NE_1012\u001b[0m \u001b[0;34m-\u001b[0m \u001b[0meminus_DM_NE_1012\u001b[0m\u001b[0;34m,\u001b[0m \u001b[0md_DM_NE_1012\u001b[0m\u001b[0;34m+\u001b[0m \u001b[0meplus_DM_NE_1012\u001b[0m\u001b[0;34m,\u001b[0m \u001b[0malpha\u001b[0m\u001b[0;34m=\u001b[0m\u001b[0;36m0.3\u001b[0m\u001b[0;34m,\u001b[0m \u001b[0mcolor\u001b[0m \u001b[0;34m=\u001b[0m \u001b[0;34m\"C0\"\u001b[0m\u001b[0;34m,\u001b[0m \u001b[0mlabel\u001b[0m \u001b[0;34m=\u001b[0m \u001b[0;34m\"NE 2001\"\u001b[0m\u001b[0;34m)\u001b[0m\u001b[0;34m\u001b[0m\u001b[0m\n\u001b[0m\u001b[1;32m      5\u001b[0m \u001b[0mplt\u001b[0m\u001b[0;34m.\u001b[0m\u001b[0maxvline\u001b[0m\u001b[0;34m(\u001b[0m\u001b[0md_DM_NE_1012\u001b[0m\u001b[0;34m,\u001b[0m \u001b[0mymin\u001b[0m\u001b[0;34m=\u001b[0m\u001b[0;36m0\u001b[0m\u001b[0;34m,\u001b[0m \u001b[0mymax\u001b[0m\u001b[0;34m=\u001b[0m\u001b[0;36m1\u001b[0m\u001b[0;34m,\u001b[0m \u001b[0mcolor\u001b[0m \u001b[0;34m=\u001b[0m \u001b[0;34m\"C0\"\u001b[0m\u001b[0;34m)\u001b[0m\u001b[0;34m\u001b[0m\u001b[0m\n\u001b[1;32m      6\u001b[0m \u001b[0;34m\u001b[0m\u001b[0m\n",
      "\u001b[0;31mNameError\u001b[0m: name 'd_DM_NE_1012' is not defined"
     ]
    },
    {
     "name": "stderr",
     "output_type": "stream",
     "text": [
      "/anaconda2/envs/py3/lib/python3.6/site-packages/matplotlib/font_manager.py:1328: UserWarning: findfont: Font family ['serif'] not found. Falling back to DejaVu Sans\n",
      "  (prop.get_family(), self.defaultFamily[fontext]))\n"
     ]
    },
    {
     "data": {
      "image/png": "[encoded data removed]",
      "text/plain": [
       "<Figure size 244.354x151.019 with 1 Axes>"
      ]
     },
     "metadata": {
      "image/png": {
       "height": 147,
       "width": 226
      }
     },
     "output_type": "display_data"
    }
   ],
   "source": [
    "fig, ax1 = plt.subplots()\n",
    "\n",
    "# DM NE 2001 model\n",
    "ax1.axvspan(d_DM_NE_1012 - eminus_DM_NE_1012, d_DM_NE_1012+ eplus_DM_NE_1012, alpha=0.3, color = \"C0\", label = \"NE 2001\")\n",
    "plt.axvline(d_DM_NE_1012, ymin=0, ymax=1, color = \"C0\")\n",
    "\n",
    "# DM YMW16 model\n",
    "ax1.axvspan(d_DM_YMW_1012*.8, d_DM_YMW_1012*1.2, alpha=0.35, color = \"C1\", label = \"YMW 16\")\n",
    "plt.axvline(d_DM_YMW_1012, ymin=0, ymax=1, color = \"C1\")\n",
    "\n",
    "# GAIA distance, to be updated\n",
    "#plt.plot(1/gx1012*1000, dist_gaia1012.pdf(gx1012), label = \"GAIA naive\", color = \"C6\", linestyle='dashed')\n",
    "plt.plot(dist_BJ_1012*1000, np.array(bj_1012), label = \"GAIA\", color = \"C5\", linestyle='dashed')\n",
    "\n",
    "\n",
    "# PX measurements\n",
    "#ax1.axvspan(d_pi_PTA_1012 - eminus_pi_PTA_1012, d_pi_PTA_1012 + eplus_pi_PTA_1012, alpha=0.3, color = \"C3\", label = \"VLBI\")\n",
    "#plt.axvline(d_pi_PTA_1012, ymin=0, ymax=1, color = \"C3\")\n",
    "#plt.plot(1/px1012*1000, dist_px1012.pdf(px1012), label = \"PTA PX\", color = \"C3\", linestyle='dotted')\n",
    "\n",
    "\n",
    "\n",
    "ax1.set_yticklabels([])\n",
    "plt.yticks([])\n",
    "plt.xlabel(\"Distance (pc)\")\n",
    "plt.legend()\n",
    "plt.tight_layout()\n",
    "\n",
    "#plt.savefig(\"J1012_distances_wbj.pdf\")"
   ]
  },
  {
   "cell_type": "markdown",
   "metadata": {},
   "source": [
    "# J1024−0719"
   ]
  },
  {
   "cell_type": "code",
   "execution_count": 59,
   "metadata": {},
   "outputs": [],
   "source": [
    "# parallax distance measurement\n",
    "#d_pi_PTA_1024 = 1300\n",
    "#eplus_pi_PTA_1024 = 600   # error on this\n",
    "#eminus_pi_PTA_1024 = 300   # error on this\n",
    "\n",
    "# dispersion measure distance from NE 2001, https://www.nrl.navy.mil/rsd/RORF/ne2001/pulsar.cgi\n",
    "d_DM_NE_1024 = 386\n",
    "eplus_DM_NE_1024 = 39\n",
    "eminus_DM_NE_1024 = 38\n",
    "\n",
    "# YMW 16 DM model, http://www.atnf.csiro.au/research/pulsar/ymw16/\n",
    "d_DM_YMW_1024 = 382.3 # no errors reported here..."
   ]
  },
  {
   "cell_type": "code",
   "execution_count": 60,
   "metadata": {},
   "outputs": [],
   "source": [
    "# GAIA estimate placeholder J1024\n",
    "#0.5288\t0.4259\n",
    "gx1024 = np.linspace(0.3,1.6, 1000)\n",
    "dist_gaia1024 = norm(0.5288, 0.4259)"
   ]
  },
  {
   "cell_type": "code",
   "execution_count": 61,
   "metadata": {},
   "outputs": [],
   "source": [
    "# parallax distance measurement\n",
    "# 0.85524949720672699275, 0.14638523179025333953\n",
    "px1024 = np.linspace(0.4,1.6, 1000)\n",
    "dist_px1024 = norm(0.85524949720672699275, 0.14638523179025333953)"
   ]
  },
  {
   "cell_type": "code",
   "execution_count": 62,
   "metadata": {},
   "outputs": [
    {
     "data": {
      "text/plain": [
       "1891.0741301059"
      ]
     },
     "execution_count": 62,
     "metadata": {},
     "output_type": "execute_result"
    }
   ],
   "source": [
    "1/0.5288*1000"
   ]
  },
  {
   "cell_type": "code",
   "execution_count": 68,
   "metadata": {},
   "outputs": [],
   "source": [
    "# Corrected Bailer-Jones distance estimate, BIG DIFFERENCE HERE\n",
    "# r_est\tr_lo\tr_hi, r_len = 425.767399303625, 0.5288, 0.4259\n",
    "#1272.43244550383\t874.816097347358\t1954.594355484\n",
    "# Corrected Bailer-Jones distance estimate\n",
    "dist_BJ_1024 = np.linspace(500, 3000, 1000)\n",
    "bj_1024 = []\n",
    "for r in dist_BJ_1024:\n",
    "    bj_1024.append(pOfR(r,0.5288, 0.4259,0.425767399303625))\n",
    "\n"
   ]
  },
  {
   "cell_type": "code",
   "execution_count": 69,
   "metadata": {},
   "outputs": [
    {
     "ename": "SyntaxError",
     "evalue": "invalid syntax (<ipython-input-69-ee4479963afb>, line 1)",
     "output_type": "error",
     "traceback": [
      "\u001b[0;36m  File \u001b[0;32m\"<ipython-input-69-ee4479963afb>\"\u001b[0;36m, line \u001b[0;32m1\u001b[0m\n\u001b[0;31m    0.528769548 +/- 0.425861846\u001b[0m\n\u001b[0m                 ^\u001b[0m\n\u001b[0;31mSyntaxError\u001b[0m\u001b[0;31m:\u001b[0m invalid syntax\n"
     ]
    }
   ],
   "source": [
    "0.528769548 +/- 0.425861846"
   ]
  },
  {
   "cell_type": "code",
   "execution_count": 70,
   "metadata": {},
   "outputs": [
    {
     "data": {
      "text/plain": [
       "1891.0741301059"
      ]
     },
     "execution_count": 70,
     "metadata": {},
     "output_type": "execute_result"
    }
   ],
   "source": [
    "1/0.5288*1000"
   ]
  },
  {
   "cell_type": "code",
   "execution_count": 71,
   "metadata": {},
   "outputs": [
    {
     "data": {
      "text/plain": [
       "1523.087125590209"
      ]
     },
     "execution_count": 71,
     "metadata": {},
     "output_type": "execute_result"
    }
   ],
   "source": [
    "(1/(0.5288**2))*0.4259*1000\n"
   ]
  },
  {
   "cell_type": "code",
   "execution_count": 72,
   "metadata": {},
   "outputs": [
    {
     "data": {
      "text/plain": [
       "[<matplotlib.lines.Line2D at 0x1a17905d30>]"
      ]
     },
     "execution_count": 72,
     "metadata": {},
     "output_type": "execute_result"
    },
    {
     "name": "stderr",
     "output_type": "stream",
     "text": [
      "/anaconda2/envs/py3/lib/python3.6/site-packages/matplotlib/font_manager.py:1328: UserWarning: findfont: Font family ['serif'] not found. Falling back to DejaVu Sans\n",
      "  (prop.get_family(), self.defaultFamily[fontext]))\n"
     ]
    },
    {
     "data": {
      "image/png": "[encoded data removed]",
      "text/plain": [
       "<Figure size 244.354x151.019 with 1 Axes>"
      ]
     },
     "metadata": {
      "image/png": {
       "height": 147,
       "width": 228
      }
     },
     "output_type": "display_data"
    }
   ],
   "source": [
    "plt.plot(dist_BJ_1024, bj_1024)"
   ]
  },
  {
   "cell_type": "code",
   "execution_count": 73,
   "metadata": {},
   "outputs": [],
   "source": [
    "norm_1024 = sp.integrate.quad(pOfR, .5, 3.1, args=(0.5288, 0.4259,0.425767399303625))"
   ]
  },
  {
   "cell_type": "code",
   "execution_count": 74,
   "metadata": {},
   "outputs": [
    {
     "data": {
      "text/plain": [
       "1.241645742549099"
      ]
     },
     "execution_count": 74,
     "metadata": {},
     "output_type": "execute_result"
    }
   ],
   "source": [
    "0.528769548/0.425861846"
   ]
  },
  {
   "cell_type": "code",
   "execution_count": 76,
   "metadata": {},
   "outputs": [
    {
     "ename": "NameError",
     "evalue": "name 'd_DM_NE_1012' is not defined",
     "output_type": "error",
     "traceback": [
      "\u001b[0;31m---------------------------------------------------------------------------\u001b[0m",
      "\u001b[0;31mNameError\u001b[0m                                 Traceback (most recent call last)",
      "\u001b[0;32m<ipython-input-76-0084d9b079dd>\u001b[0m in \u001b[0;36m<module>\u001b[0;34m()\u001b[0m\n\u001b[1;32m      3\u001b[0m \u001b[0;31m# DM NE 2001 model\u001b[0m\u001b[0;34m\u001b[0m\u001b[0;34m\u001b[0m\u001b[0m\n\u001b[1;32m      4\u001b[0m \u001b[0max1\u001b[0m\u001b[0;34m.\u001b[0m\u001b[0maxvspan\u001b[0m\u001b[0;34m(\u001b[0m\u001b[0md_DM_NE_1024\u001b[0m \u001b[0;34m-\u001b[0m \u001b[0meminus_DM_NE_1024\u001b[0m\u001b[0;34m,\u001b[0m \u001b[0md_DM_NE_1024\u001b[0m\u001b[0;34m+\u001b[0m \u001b[0meplus_DM_NE_1024\u001b[0m\u001b[0;34m,\u001b[0m \u001b[0malpha\u001b[0m\u001b[0;34m=\u001b[0m\u001b[0;36m0.3\u001b[0m\u001b[0;34m,\u001b[0m \u001b[0mcolor\u001b[0m \u001b[0;34m=\u001b[0m \u001b[0;34m\"C0\"\u001b[0m\u001b[0;34m,\u001b[0m \u001b[0mlabel\u001b[0m \u001b[0;34m=\u001b[0m \u001b[0;34m\"NE 2001\"\u001b[0m\u001b[0;34m)\u001b[0m\u001b[0;34m\u001b[0m\u001b[0m\n\u001b[0;32m----> 5\u001b[0;31m \u001b[0mplt\u001b[0m\u001b[0;34m.\u001b[0m\u001b[0maxvline\u001b[0m\u001b[0;34m(\u001b[0m\u001b[0md_DM_NE_1012\u001b[0m\u001b[0;34m,\u001b[0m \u001b[0mymin\u001b[0m\u001b[0;34m=\u001b[0m\u001b[0;36m0\u001b[0m\u001b[0;34m,\u001b[0m \u001b[0mymax\u001b[0m\u001b[0;34m=\u001b[0m\u001b[0;36m1\u001b[0m\u001b[0;34m,\u001b[0m \u001b[0mcolor\u001b[0m \u001b[0;34m=\u001b[0m \u001b[0;34m\"C0\"\u001b[0m\u001b[0;34m)\u001b[0m\u001b[0;34m\u001b[0m\u001b[0m\n\u001b[0m\u001b[1;32m      6\u001b[0m \u001b[0;34m\u001b[0m\u001b[0m\n\u001b[1;32m      7\u001b[0m \u001b[0;31m# DM YMW16 model\u001b[0m\u001b[0;34m\u001b[0m\u001b[0;34m\u001b[0m\u001b[0m\n",
      "\u001b[0;31mNameError\u001b[0m: name 'd_DM_NE_1012' is not defined"
     ]
    },
    {
     "name": "stderr",
     "output_type": "stream",
     "text": [
      "/anaconda2/envs/py3/lib/python3.6/site-packages/matplotlib/font_manager.py:1328: UserWarning: findfont: Font family ['serif'] not found. Falling back to DejaVu Sans\n",
      "  (prop.get_family(), self.defaultFamily[fontext]))\n"
     ]
    },
    {
     "data": {
      "image/png": "[encoded data removed]",
      "text/plain": [
       "<Figure size 244.354x151.019 with 1 Axes>"
      ]
     },
     "metadata": {
      "image/png": {
       "height": 147,
       "width": 225
      }
     },
     "output_type": "display_data"
    }
   ],
   "source": [
    "fig, ax1 = plt.subplots()\n",
    "\n",
    "# DM NE 2001 model\n",
    "ax1.axvspan(d_DM_NE_1024 - eminus_DM_NE_1024, d_DM_NE_1024+ eplus_DM_NE_1024, alpha=0.3, color = \"C0\", label = \"NE 2001\")\n",
    "plt.axvline(d_DM_NE_1012, ymin=0, ymax=1, color = \"C0\")\n",
    "\n",
    "# DM YMW16 model\n",
    "ax1.axvspan(d_DM_YMW_1024*.8, d_DM_YMW_1024*1.2, alpha=0.35, color = \"C1\", label = \"YMW 16\")\n",
    "plt.axvline(d_DM_YMW_1024, ymin=0, ymax=1, color = \"C1\")\n",
    "\n",
    "# GAIA distance, to be updated\n",
    "plt.plot(dist_BJ_1024, bj_1024, label = \"Gaia\", color = \"C5\", linestyle='dashed')\n",
    "\n",
    "# PX measurements\n",
    "#ax1.axvspan(d_pi_PTA_1024 - eminus_pi_PTA_1024, d_pi_PTA_1024 + eplus_pi_PTA_1024, alpha=0.3, color = \"C3\", label = \"VLBI\")\n",
    "#plt.axvline(d_pi_PTA_1024, ymin=0, ymax=1, color = \"C3\")\n",
    "plt.plot(1/px1024*1000, dist_px1024.pdf(px1024), label = \"PTA PX\", color = \"C3\", linestyle='dotted')\n",
    "\n",
    "#plt.plot(dist_BJ_1024*1000, np.array(bj_1024)*3/norm_1024[0], label = \"GAIA\", color = \"C6\", linestyle='dashed')\n",
    "\n",
    "\n",
    "\n",
    "ax1.set_yticklabels([])\n",
    "plt.yticks([])\n",
    "plt.xlabel(\"Distance (pc)\")\n",
    "plt.legend()\n",
    "plt.tight_layout()\n",
    "\n",
    "#plt.savefig(\"J1024_distances_wbj.pdf\")"
   ]
  },
  {
   "cell_type": "markdown",
   "metadata": {},
   "source": [
    "# J1804-2717"
   ]
  },
  {
   "cell_type": "code",
   "execution_count": 32,
   "metadata": {
    "collapsed": true
   },
   "outputs": [],
   "source": [
    "# dispersion measure distance from NE 2001, https://www.nrl.navy.mil/rsd/RORF/ne2001/pulsar.cgi\n",
    "d_DM_NE_1804 = 776\n",
    "eplus_DM_NE_1804 = 102\n",
    "eminus_DM_NE_1804 = 108\n",
    "\n",
    "# YMW 16 DM model, http://www.atnf.csiro.au/research/pulsar/ymw16/\n",
    "d_DM_YMW_1804 = 800.5 # no errors reported here..."
   ]
  },
  {
   "cell_type": "code",
   "execution_count": 33,
   "metadata": {
    "collapsed": true
   },
   "outputs": [],
   "source": [
    "# GAIA estimate placeholder J1804\n",
    "# 0.2395\t0.2565\n",
    "\n",
    "gx1804 = np.linspace(.1, .4, 1000)\n",
    "dist_gaia1804 = norm(0.2395, 0.2565)"
   ]
  },
  {
   "cell_type": "code",
   "execution_count": 34,
   "metadata": {
    "collapsed": true
   },
   "outputs": [],
   "source": [
    "# Corrected Bailer-Jones distance estimate\n",
    "dist_BJ_1804 = np.linspace(1.5, 9, 1000)\n",
    "bj_1804 = []\n",
    "for r in dist_BJ_1804:\n",
    "    bj_1804.append(pOfR(r,0.2395, 0.2565,2.13108557645661))"
   ]
  },
  {
   "cell_type": "code",
   "execution_count": 35,
   "metadata": {},
   "outputs": [
    {
     "data": {
      "text/plain": [
       "[<matplotlib.lines.Line2D at 0x1a1896aa10>]"
      ]
     },
     "execution_count": 35,
     "metadata": {},
     "output_type": "execute_result"
    },
    {
     "data": {
      "image/png": "[encoded data removed]",
      "text/plain": [
       "<matplotlib.figure.Figure at 0x1a1a778150>"
      ]
     },
     "metadata": {
      "image/png": {
       "height": 147,
       "width": 225
      }
     },
     "output_type": "display_data"
    }
   ],
   "source": [
    "plt.plot(dist_BJ_1804, bj_1804)"
   ]
  },
  {
   "cell_type": "code",
   "execution_count": 36,
   "metadata": {
    "collapsed": true
   },
   "outputs": [],
   "source": [
    "norm_1804 = sp.integrate.quad(pOfR, 1.5, 9, args=(0.2395, 0.2565,2.13108557645661))"
   ]
  },
  {
   "cell_type": "code",
   "execution_count": 37,
   "metadata": {},
   "outputs": [
    {
     "data": {
      "image/png": "[encoded data removed]",
      "text/plain": [
       "<matplotlib.figure.Figure at 0x1a1a78ddd0>"
      ]
     },
     "metadata": {
      "image/png": {
       "height": 147,
       "width": 237
      }
     },
     "output_type": "display_data"
    }
   ],
   "source": [
    "fig, ax1 = plt.subplots()\n",
    "\n",
    "# DM YMW16 model\n",
    "ax1.axvspan(d_DM_YMW_1804*.8, d_DM_YMW_1804*1.2, alpha=0.35, color = \"C1\", label = \"YMW 16\")\n",
    "plt.axvline(d_DM_YMW_1804, ymin=0, ymax=1, color = \"C1\")\n",
    "\n",
    "# DM NE 2001 model\n",
    "ax1.axvspan(d_DM_NE_1804 - eminus_DM_NE_1804, d_DM_NE_1804+ eplus_DM_NE_1804, alpha=0.3, color = \"C0\", label = \"NE 2001\")\n",
    "plt.axvline(d_DM_NE_1804, ymin=0, ymax=1, color = \"C0\")\n",
    "\n",
    "# GAIA distance, to be updated\n",
    "#plt.plot(1/gx1804*1000, dist_gaia1804.pdf(gx1804), label = \"GAIA\", color = \"C5\", linestyle='dashed')\n",
    "plt.plot(dist_BJ_1804*1000, np.array(bj_1804)/norm_1804[0], label = \"GAIA\", color = \"C6\", linestyle='dashed')\n",
    "\n",
    "\n",
    "\n",
    "ax1.set_yticklabels([])\n",
    "plt.yticks([])\n",
    "plt.xlabel(\"Distance (pc)\")\n",
    "plt.legend()\n",
    "plt.tight_layout()\n",
    "\n",
    "#plt.savefig(\"J1804_distances_wbj.pdf\")"
   ]
  },
  {
   "cell_type": "markdown",
   "metadata": {},
   "source": [
    "# J1910+1256"
   ]
  },
  {
   "cell_type": "code",
   "execution_count": 38,
   "metadata": {
    "collapsed": true
   },
   "outputs": [],
   "source": [
    "# LK distance parallax distance measurement, Desvignes et al. 2016, Table 9.\n",
    "d_pi_PTA_1910 = 550\n",
    "eplus_pi_PTA_1910 = 460   # error on this\n",
    "eminus_pi_PTA_1910 = 460   # error on this\n",
    "\n",
    "# dispersion measure distance from NE 2001, https://www.nrl.navy.mil/rsd/RORF/ne2001/pulsar.cgi\n",
    "d_DM_NE_1910 = 2327\n",
    "eplus_DM_NE_1910 = 311\n",
    "eminus_DM_NE_1910 = 317\n",
    "\n",
    "# YMW 16 DM model, http://www.atnf.csiro.au/research/pulsar/ymw16/\n",
    "d_DM_YMW_1910 = 1496.0  # no errors reported here..."
   ]
  },
  {
   "cell_type": "code",
   "execution_count": 53,
   "metadata": {
    "collapsed": true
   },
   "outputs": [],
   "source": [
    "# Corrected Bailer-Jones distance estimate, BIG DIFFERENCE HERE\n",
    "# r_est\tr_lo\tr_hi, r_len = 1449.21521296784\n",
    "#3365.90493298969\t1735.68216116912\t6062.47131778724\n",
    "# Corrected Bailer-Jones distance estimate\n",
    "dist_BJ_1910 = np.linspace(.1, 7, 1000)\n",
    "bj_1910 = []\n",
    "for r in dist_BJ_1910:\n",
    "    bj_1910.append(pOfR(r,-0.4219, 0.7972,1.44921521296784))"
   ]
  },
  {
   "cell_type": "code",
   "execution_count": 54,
   "metadata": {
    "collapsed": true
   },
   "outputs": [],
   "source": [
    "#px1910_c = np.linspace(1000, 6000, 1000)\n",
    "#dist_px1910_c = norm(3365.9, 1735.68)"
   ]
  },
  {
   "cell_type": "code",
   "execution_count": 55,
   "metadata": {},
   "outputs": [
    {
     "data": {
      "text/plain": [
       "[<matplotlib.lines.Line2D at 0x1a19b6aa90>]"
      ]
     },
     "execution_count": 55,
     "metadata": {},
     "output_type": "execute_result"
    },
    {
     "data": {
      "image/png": "[encoded data removed]",
      "text/plain": [
       "<matplotlib.figure.Figure at 0x1a196d5cd0>"
      ]
     },
     "metadata": {
      "image/png": {
       "height": 147,
       "width": 225
      }
     },
     "output_type": "display_data"
    }
   ],
   "source": [
    "plt.plot(dist_BJ_1910, bj_1910) #negative parallax"
   ]
  },
  {
   "cell_type": "code",
   "execution_count": 56,
   "metadata": {
    "collapsed": true
   },
   "outputs": [],
   "source": [
    "norm_1910 = sp.integrate.quad(pOfR, 1.5, 6.5, args=(-0.4219, 0.7972,1.44921521296784))"
   ]
  },
  {
   "cell_type": "code",
   "execution_count": 57,
   "metadata": {
    "collapsed": true
   },
   "outputs": [],
   "source": [
    "# PTA LK-corrected PX measurement \n",
    "px1910 = np.linspace(50, 2000, 1000)\n",
    "dist_px1910 = norm(550, 460)"
   ]
  },
  {
   "cell_type": "code",
   "execution_count": 58,
   "metadata": {},
   "outputs": [
    {
     "data": {
      "text/plain": [
       "[<matplotlib.lines.Line2D at 0x1a1a0e2e90>]"
      ]
     },
     "execution_count": 58,
     "metadata": {},
     "output_type": "execute_result"
    },
    {
     "data": {
      "image/png": "[encoded data removed]",
      "text/plain": [
       "<matplotlib.figure.Figure at 0x1121ef910>"
      ]
     },
     "metadata": {
      "image/png": {
       "height": 147,
       "width": 228
      }
     },
     "output_type": "display_data"
    }
   ],
   "source": [
    "#plt.plot(px1910_c, dist_px1910_c.pdf(px1910_c), label = r\"corrected Gaia$\", color = \"C4\", linestyle='dashed')\n",
    "plt.plot(px1910, dist_px1910.pdf(px1910)*100, label = r\"PTA $D_\\pi$\", color = \"C3\", linestyle='dotted')"
   ]
  },
  {
   "cell_type": "code",
   "execution_count": 59,
   "metadata": {
    "collapsed": true
   },
   "outputs": [],
   "source": [
    "# GAIA estimate placeholder J1910\n",
    "#THIS IS A NEGATIVE PARALLAX MU = -0.4219, SIGMA = 0.7972\n",
    "#gx1910 = np.linspace(0.2, .8, 1000)\n",
    "#dist_gaia1910 = norm(-0.4219, 0.7972)"
   ]
  },
  {
   "cell_type": "code",
   "execution_count": 60,
   "metadata": {},
   "outputs": [
    {
     "data": {
      "image/png": "[encoded data removed]",
      "text/plain": [
       "<matplotlib.figure.Figure at 0x1a1adb06d0>"
      ]
     },
     "metadata": {
      "image/png": {
       "height": 147,
       "width": 237
      }
     },
     "output_type": "display_data"
    }
   ],
   "source": [
    "fig, ax1 = plt.subplots()\n",
    "\n",
    "# DM NE 2001 model\n",
    "ax1.axvspan(d_DM_NE_1910 - eminus_DM_NE_1910, d_DM_NE_1910 + eplus_DM_NE_1910, alpha=0.3, color = \"C0\", label = \"NE 2001\")\n",
    "plt.axvline(d_DM_NE_1910, ymin=0, ymax=1, color = \"C0\")\n",
    "\n",
    "# DM YMW16 model\n",
    "ax1.axvspan(d_DM_YMW_1910*.8, d_DM_YMW_1910*1.2, alpha=0.35, color = \"C1\", label = \"YMW 16\")\n",
    "plt.axvline(d_DM_YMW_1910, ymin=0, ymax=1, color = \"C1\")\n",
    "\n",
    "# GAIA distance, to be updated\n",
    "#plt.plot(px1910_c, dist_px1910_c.pdf(px1910_c), label = r\"corrected Gaia\", color = \"C4\", linestyle='dashed')\n",
    "\n",
    "\n",
    "# LK-correcred PX measurements\n",
    "plt.plot(px1910, dist_px1910.pdf(px1910)*280, label = r\"PTA $D_\\pi$\", color = \"C3\", linestyle='dotted')\n",
    "#ax1.axvspan(d_pi_PTA_1910 - eminus_pi_PTA_1910, d_pi_PTA_1910 + eplus_pi_PTA_1910, alpha=0.3, color = \"C3\", label = \"VLBI\")\n",
    "#plt.axvline(d_pi_PTA_1910, ymin=0, ymax=1, color = \"C3\")\n",
    "plt.plot(dist_BJ_1910*1000, np.array(bj_1910)/norm_1910[0], label = \"GAIA\", color = \"C6\", linestyle='dashed')\n",
    "\n",
    "\n",
    "\n",
    "ax1.set_yticklabels([])\n",
    "plt.yticks([])\n",
    "plt.xlabel(\"Distance (pc)\")\n",
    "plt.legend(loc=4)\n",
    "plt.tight_layout()\n",
    "\n",
    "plt.savefig(\"J1910_distances_wbj.pdf\")"
   ]
  },
  {
   "cell_type": "markdown",
   "metadata": {},
   "source": [
    "# J1955+2908"
   ]
  },
  {
   "cell_type": "code",
   "execution_count": 96,
   "metadata": {},
   "outputs": [],
   "source": [
    "# dispersion measure distance from NE 2001, https://www.nrl.navy.mil/rsd/RORF/ne2001/pulsar.cgi\n",
    "d_DM_NE_1955 = 4644\n",
    "eplus_DM_NE_1955 = 577\n",
    "eminus_DM_NE_1955 = 553\n",
    "\n",
    "# YMW 16 DM model, http://www.atnf.csiro.au/research/pulsar/ymw16/\n",
    "d_DM_YMW_1955 = 6306.2  # no errors reported here..."
   ]
  },
  {
   "cell_type": "code",
   "execution_count": 97,
   "metadata": {},
   "outputs": [],
   "source": [
    "# GAIA estimate placeholder J1955\n",
    "# 0.6034\t0.1942\n",
    "gx1955 = np.linspace(0.2,0.8, 1000)\n",
    "dist_gaia1955 = norm(0.603, 0.1942)"
   ]
  },
  {
   "cell_type": "code",
   "execution_count": 107,
   "metadata": {},
   "outputs": [],
   "source": [
    "# Corrected Bailer-Jones distance estimate\n",
    "dist_BJ_1955 = np.linspace(1000, 7500, 1000)\n",
    "bj_1955 = []\n",
    "for r in dist_BJ_1955:\n",
    "    bj_1955.append(pOfR(r,0.603, 0.1942,1.54924098114561))"
   ]
  },
  {
   "cell_type": "code",
   "execution_count": 108,
   "metadata": {},
   "outputs": [
    {
     "data": {
      "text/plain": [
       "[<matplotlib.lines.Line2D at 0x1a182e01d0>]"
      ]
     },
     "execution_count": 108,
     "metadata": {},
     "output_type": "execute_result"
    },
    {
     "name": "stderr",
     "output_type": "stream",
     "text": [
      "/anaconda2/envs/py3/lib/python3.6/site-packages/matplotlib/font_manager.py:1328: UserWarning: findfont: Font family ['serif'] not found. Falling back to DejaVu Sans\n",
      "  (prop.get_family(), self.defaultFamily[fontext]))\n"
     ]
    },
    {
     "data": {
      "image/png": "[encoded data removed]",
      "text/plain": [
       "<Figure size 244.354x151.019 with 1 Axes>"
      ]
     },
     "metadata": {
      "image/png": {
       "height": 147,
       "width": 225
      }
     },
     "output_type": "display_data"
    }
   ],
   "source": [
    "plt.plot(dist_BJ_1955, bj_1955) "
   ]
  },
  {
   "cell_type": "code",
   "execution_count": 109,
   "metadata": {},
   "outputs": [],
   "source": [
    "norm_1955 = sp.integrate.quad(pOfR, 1.5, 6.5, args=(0.603, 0.1942,1.54924098114561 ))"
   ]
  },
  {
   "cell_type": "code",
   "execution_count": 110,
   "metadata": {},
   "outputs": [
    {
     "name": "stderr",
     "output_type": "stream",
     "text": [
      "/anaconda2/envs/py3/lib/python3.6/site-packages/matplotlib/font_manager.py:1328: UserWarning: findfont: Font family ['serif'] not found. Falling back to DejaVu Sans\n",
      "  (prop.get_family(), self.defaultFamily[fontext]))\n",
      "/anaconda2/envs/py3/lib/python3.6/site-packages/matplotlib/font_manager.py:1328: UserWarning: findfont: Font family ['serif'] not found. Falling back to DejaVu Sans\n",
      "  (prop.get_family(), self.defaultFamily[fontext]))\n"
     ]
    },
    {
     "data": {
      "image/png": "[encoded data removed]",
      "text/plain": [
       "<Figure size 244.354x151.019 with 1 Axes>"
      ]
     },
     "metadata": {
      "image/png": {
       "height": 149,
       "width": 237
      }
     },
     "output_type": "display_data"
    }
   ],
   "source": [
    "fig, ax1 = plt.subplots()\n",
    "\n",
    "# DM NE 2001 model\n",
    "ax1.axvspan(d_DM_NE_1955 - eminus_DM_NE_1955, d_DM_NE_1955 + eplus_DM_NE_1955, alpha=0.3, color = \"C0\", label = \"NE 2001\")\n",
    "plt.axvline(d_DM_NE_1955, ymin=0, ymax=1, color = \"C0\", linestyle=':')\n",
    "\n",
    "# DM YMW16 model\n",
    "ax1.axvspan(d_DM_YMW_1955*.8, d_DM_YMW_1955*1.2, alpha=0.35, color = \"C1\", label = \"YMW 16\")\n",
    "plt.axvline(d_DM_YMW_1955, ymin=0, ymax=1, color = \"C1\", linestyle=':')\n",
    "\n",
    "# GAIA distance, to be updated\n",
    "#plt.plot(1/gx1955*1000, dist_gaia1955.pdf(gx1955), label = \"GAIA\", color = \"C5\", linestyle='dashed')\n",
    "plt.plot(dist_BJ_1955, np.array(bj_1955), label = \"Gaia\", color = \"C2\", linestyle='dashed')\n",
    "\n",
    "\n",
    "\n",
    "ax1.set_yticklabels([])\n",
    "plt.yticks([])\n",
    "plt.xlabel(\"Distance (pc)\")\n",
    "plt.legend()\n",
    "plt.tight_layout()\n",
    "\n",
    "#plt.savefig(\"J1955_distances_wbj.pdf\")"
   ]
  },
  {
   "cell_type": "code",
   "execution_count": null,
   "metadata": {
    "collapsed": true
   },
   "outputs": [],
   "source": [
    "newx = dist_BJ_1955\n",
    "newy = (bj_1955)"
   ]
  },
  {
   "cell_type": "code",
   "execution_count": null,
   "metadata": {},
   "outputs": [],
   "source": []
  },
  {
   "cell_type": "code",
   "execution_count": null,
   "metadata": {},
   "outputs": [],
   "source": []
  },
  {
   "cell_type": "code",
   "execution_count": null,
   "metadata": {},
   "outputs": [],
   "source": []
  },
  {
   "cell_type": "markdown",
   "metadata": {},
   "source": [
    "# J1732-5049"
   ]
  },
  {
   "cell_type": "code",
   "execution_count": 77,
   "metadata": {},
   "outputs": [],
   "source": [
    "# dispersion measure distance from NE 2001, https://www.nrl.navy.mil/rsd/RORF/ne2001/pulsar.cgi\n",
    "d_DM_NE_1732 = 1411\n",
    "eplus_DM_NE_1732 = 206\n",
    "eminus_DM_NE_1732 = 198\n",
    "\n",
    "# YMW 16 DM model, http://www.atnf.csiro.au/research/pulsar/ymw16/\n",
    "d_DM_YMW_1732 = 1875.0   # no errors reported here..."
   ]
  },
  {
   "cell_type": "code",
   "execution_count": 78,
   "metadata": {},
   "outputs": [],
   "source": [
    "# GAIA estimate placeholder J1955\n",
    "# NB negative parallax -1.1837\t2.8444\n",
    "gx1732 = np.linspace(.17, 1.5, 1000)\n",
    "dist_gaia1732 = norm(-1.1837, 2.8444)"
   ]
  },
  {
   "cell_type": "code",
   "execution_count": 93,
   "metadata": {},
   "outputs": [],
   "source": [
    "# Corrected Bailer-Jones distance estimate\n",
    "dist_BJ_1732 = np.linspace(500, 12000, 1000)\n",
    "bj_1732 = []\n",
    "for r in dist_BJ_1732:\n",
    "    bj_1732.append(pOfR(r,-1.1837, 2.8444,1.94743888544794))"
   ]
  },
  {
   "cell_type": "code",
   "execution_count": 1,
   "metadata": {},
   "outputs": [
    {
     "data": {
      "text/plain": [
       "-0.4161510336099002"
      ]
     },
     "execution_count": 1,
     "metadata": {},
     "output_type": "execute_result"
    }
   ],
   "source": [
    "-1.1837/2.8444"
   ]
  },
  {
   "cell_type": "code",
   "execution_count": null,
   "metadata": {},
   "outputs": [],
   "source": []
  },
  {
   "cell_type": "code",
   "execution_count": 2,
   "metadata": {},
   "outputs": [
    {
     "ename": "NameError",
     "evalue": "name 'plt' is not defined",
     "output_type": "error",
     "traceback": [
      "\u001b[0;31m---------------------------------------------------------------------------\u001b[0m",
      "\u001b[0;31mNameError\u001b[0m                                 Traceback (most recent call last)",
      "\u001b[0;32m<ipython-input-2-7e0caf385fc2>\u001b[0m in \u001b[0;36m<module>\u001b[0;34m()\u001b[0m\n\u001b[0;32m----> 1\u001b[0;31m \u001b[0mfig\u001b[0m\u001b[0;34m,\u001b[0m \u001b[0max1\u001b[0m \u001b[0;34m=\u001b[0m \u001b[0mplt\u001b[0m\u001b[0;34m.\u001b[0m\u001b[0msubplots\u001b[0m\u001b[0;34m(\u001b[0m\u001b[0;34m)\u001b[0m\u001b[0;34m\u001b[0m\u001b[0m\n\u001b[0m\u001b[1;32m      2\u001b[0m \u001b[0;34m\u001b[0m\u001b[0m\n\u001b[1;32m      3\u001b[0m \u001b[0;31m# DM NE 2001 model\u001b[0m\u001b[0;34m\u001b[0m\u001b[0;34m\u001b[0m\u001b[0m\n\u001b[1;32m      4\u001b[0m \u001b[0max1\u001b[0m\u001b[0;34m.\u001b[0m\u001b[0maxvspan\u001b[0m\u001b[0;34m(\u001b[0m\u001b[0md_DM_NE_1732\u001b[0m \u001b[0;34m-\u001b[0m \u001b[0meminus_DM_NE_1732\u001b[0m\u001b[0;34m,\u001b[0m \u001b[0md_DM_NE_1732\u001b[0m \u001b[0;34m+\u001b[0m \u001b[0meplus_DM_NE_1732\u001b[0m\u001b[0;34m,\u001b[0m \u001b[0malpha\u001b[0m\u001b[0;34m=\u001b[0m\u001b[0;36m0.3\u001b[0m\u001b[0;34m,\u001b[0m \u001b[0mcolor\u001b[0m \u001b[0;34m=\u001b[0m \u001b[0;34m\"C0\"\u001b[0m\u001b[0;34m,\u001b[0m \u001b[0mlabel\u001b[0m \u001b[0;34m=\u001b[0m \u001b[0;34m\"NE 2001\"\u001b[0m\u001b[0;34m)\u001b[0m\u001b[0;34m\u001b[0m\u001b[0m\n\u001b[1;32m      5\u001b[0m \u001b[0mplt\u001b[0m\u001b[0;34m.\u001b[0m\u001b[0maxvline\u001b[0m\u001b[0;34m(\u001b[0m\u001b[0md_DM_NE_1732\u001b[0m\u001b[0;34m,\u001b[0m \u001b[0mymin\u001b[0m\u001b[0;34m=\u001b[0m\u001b[0;36m0\u001b[0m\u001b[0;34m,\u001b[0m \u001b[0mymax\u001b[0m\u001b[0;34m=\u001b[0m\u001b[0;36m1\u001b[0m\u001b[0;34m,\u001b[0m \u001b[0mcolor\u001b[0m \u001b[0;34m=\u001b[0m \u001b[0;34m\"C0\"\u001b[0m\u001b[0;34m,\u001b[0m \u001b[0mlinestyle\u001b[0m \u001b[0;34m=\u001b[0m\u001b[0;34m\":\"\u001b[0m\u001b[0;34m)\u001b[0m\u001b[0;34m\u001b[0m\u001b[0m\n",
      "\u001b[0;31mNameError\u001b[0m: name 'plt' is not defined"
     ]
    }
   ],
   "source": [
    "fig, ax1 = plt.subplots()\n",
    "\n",
    "# DM NE 2001 model\n",
    "ax1.axvspan(d_DM_NE_1732 - eminus_DM_NE_1732, d_DM_NE_1732 + eplus_DM_NE_1732, alpha=0.3, color = \"C0\", label = \"NE 2001\")\n",
    "plt.axvline(d_DM_NE_1732, ymin=0, ymax=1, color = \"C0\", linestyle =\":\")\n",
    "\n",
    "# DM YMW16 model\n",
    "ax1.axvspan(d_DM_YMW_1732*.8, d_DM_YMW_1732*1.2, alpha=0.35, color = \"C1\", label = \"YMW 16\")\n",
    "plt.axvline(d_DM_YMW_1732, ymin=0, ymax=1, color = \"C1\", linestyle =\":\")\n",
    "\n",
    "# GAIA distance, to be updated\n",
    "#plt.plot(1/gx1732*1000, dist_gaia1732.pdf(gx1732), label = \"GAIA\", color = \"C5\", linestyle='dashed')\n",
    "plt.plot(dist_BJ_1732, np.array(bj_1732), label = \"Gaia\", color = \"C2\", linestyle='dashed')\n",
    "\n",
    "\n",
    "\n",
    "ax1.set_yticklabels([])\n",
    "plt.yticks([])\n",
    "plt.xlabel(\"Distance (pc)\")\n",
    "plt.legend()\n",
    "plt.tight_layout()\n",
    "\n",
    "#plt.savefig(\"J1732_distances_wbj.pdf\")"
   ]
  },
  {
   "cell_type": "code",
   "execution_count": 92,
   "metadata": {},
   "outputs": [],
   "source": [
    "MGlist = [15.0112952108918, 3.56911521202147, 10.2381408530516, 7.79997723238792, \n",
    "          11.4246459729484, 9.28347772655008, 7.61507452919485]\n",
    "bprp = [1.548225, 1.106436, 0.274221, 1.834633, 1.530455, 1.691048, 2.919764]"
   ]
  },
  {
   "cell_type": "code",
   "execution_count": null,
   "metadata": {
    "collapsed": true
   },
   "outputs": [],
   "source": [
    "plt.scatter(bprp, MGlist)\n",
    "plt.ylim(16, 0)\n",
    "plt.show()"
   ]
  },
  {
   "cell_type": "markdown",
   "metadata": {},
   "source": []
  },
  {
   "cell_type": "markdown",
   "metadata": {
    "collapsed": true
   },
   "source": [
    "# J1744-1134"
   ]
  },
  {
   "cell_type": "code",
   "execution_count": 13,
   "metadata": {},
   "outputs": [],
   "source": [
    "# dispersion measure distance from NE 2001, https://www.nrl.navy.mil/rsd/RORF/ne2001/pulsar.cgi\n",
    "# DM = 3.13590\n",
    "# l = 14.7939, b = 9.1795\n",
    "\n",
    "d_DM_NE_1744 = 414\n",
    "eplus_DM_NE_1744 = 17\n",
    "eminus_DM_NE_1744 = 16\n",
    "\n",
    "# YMW 16 DM model, http://www.atnf.csiro.au/research/pulsar/ymw16/\n",
    "d_DM_YMW_1744 = 148.1   # no errors reported here..."
   ]
  },
  {
   "cell_type": "code",
   "execution_count": 14,
   "metadata": {},
   "outputs": [],
   "source": [
    "#PX from par file\n",
    "px1744 = np.linspace(2.0, 3.0, 1000)\n",
    "dist_px1744 = norm(2.4666340693407614979, 0.07324684023396225985)\n"
   ]
  },
  {
   "cell_type": "code",
   "execution_count": 15,
   "metadata": {},
   "outputs": [],
   "source": [
    "#GAIA \n",
    "# mu = 1.3528, sigma = 1.3632\n",
    "gx1744 = np.linspace(0.1, 2, 1000)\n",
    "dist_gaia1744 = norm(1.3528, 1.3632)"
   ]
  },
  {
   "cell_type": "code",
   "execution_count": 16,
   "metadata": {},
   "outputs": [
    {
     "data": {
      "text/plain": [
       "(0, 800)"
      ]
     },
     "execution_count": 16,
     "metadata": {},
     "output_type": "execute_result"
    },
    {
     "name": "stderr",
     "output_type": "stream",
     "text": [
      "/anaconda2/envs/py3/lib/python3.6/site-packages/matplotlib/font_manager.py:1328: UserWarning: findfont: Font family ['serif'] not found. Falling back to DejaVu Sans\n",
      "  (prop.get_family(), self.defaultFamily[fontext]))\n",
      "/anaconda2/envs/py3/lib/python3.6/site-packages/matplotlib/font_manager.py:1328: UserWarning: findfont: Font family ['serif'] not found. Falling back to DejaVu Sans\n",
      "  (prop.get_family(), self.defaultFamily[fontext]))\n",
      "/anaconda2/envs/py3/lib/python3.6/site-packages/matplotlib/font_manager.py:1328: UserWarning: findfont: Font family ['serif'] not found. Falling back to DejaVu Sans\n",
      "  (prop.get_family(), self.defaultFamily[fontext]))\n"
     ]
    },
    {
     "data": {
      "image/png": "[encoded data removed]",
      "text/plain": [
       "<Figure size 244.354x151.019 with 1 Axes>"
      ]
     },
     "metadata": {
      "image/png": {
       "height": 147,
       "width": 230
      }
     },
     "output_type": "display_data"
    }
   ],
   "source": [
    "gx1744 = np.linspace(0.01, 4, 1000)\n",
    "dist_gaia1744 = norm(1.3528, 1.3632)\n",
    "plt.plot(1/gx1744*1000, dist_gaia1744.pdf(gx1744), label = \"GAIA\", color = \"C5\", linestyle='dashed')\n",
    "plt.xlim(0,800)"
   ]
  },
  {
   "cell_type": "code",
   "execution_count": 23,
   "metadata": {},
   "outputs": [],
   "source": [
    "# Corrected Bailer-Jones distance estimate\n",
    "#1.3528\t1.3632\n",
    "dist_BJ_1744 = np.linspace(200, 10000, 1000)\n",
    "bj_1744 = []\n",
    "for r in dist_BJ_1744:\n",
    "    bj_1744.append(pOfR(r,1.3528, 1.3632,1.75210341268605))"
   ]
  },
  {
   "cell_type": "code",
   "execution_count": 24,
   "metadata": {},
   "outputs": [
    {
     "data": {
      "text/plain": [
       "[<matplotlib.lines.Line2D at 0x1a158d29e8>]"
      ]
     },
     "execution_count": 24,
     "metadata": {},
     "output_type": "execute_result"
    },
    {
     "name": "stderr",
     "output_type": "stream",
     "text": [
      "/anaconda2/envs/py3/lib/python3.6/site-packages/matplotlib/font_manager.py:1328: UserWarning: findfont: Font family ['serif'] not found. Falling back to DejaVu Sans\n",
      "  (prop.get_family(), self.defaultFamily[fontext]))\n"
     ]
    },
    {
     "data": {
      "image/png": "[encoded data removed]",
      "text/plain": [
       "<Figure size 244.354x151.019 with 1 Axes>"
      ]
     },
     "metadata": {
      "image/png": {
       "height": 147,
       "width": 225
      }
     },
     "output_type": "display_data"
    }
   ],
   "source": [
    "plt.plot(dist_BJ_1744, bj_1744) # look out, negative parallax"
   ]
  },
  {
   "cell_type": "code",
   "execution_count": 28,
   "metadata": {},
   "outputs": [],
   "source": [
    "from numpy import trapz\n",
    "dx = \n"
   ]
  },
  {
   "cell_type": "code",
   "execution_count": 38,
   "metadata": {},
   "outputs": [],
   "source": [
    "areaT = trapz(bj_1744, dist_BJ_1744) # are curves really normalized to 1?"
   ]
  },
  {
   "cell_type": "code",
   "execution_count": 39,
   "metadata": {},
   "outputs": [
    {
     "data": {
      "text/plain": [
       "7159.907483083107"
      ]
     },
     "execution_count": 39,
     "metadata": {},
     "output_type": "execute_result"
    }
   ],
   "source": [
    "areaT"
   ]
  },
  {
   "cell_type": "code",
   "execution_count": 37,
   "metadata": {},
   "outputs": [
    {
     "ename": "AxisError",
     "evalue": "axis -1 is out of bounds for array of dimension 0",
     "output_type": "error",
     "traceback": [
      "\u001b[0;31m---------------------------------------------------------------------------\u001b[0m",
      "\u001b[0;31mAxisError\u001b[0m                                 Traceback (most recent call last)",
      "\u001b[0;32m<ipython-input-37-235e88e47d0a>\u001b[0m in \u001b[0;36m<module>\u001b[0;34m()\u001b[0m\n\u001b[0;32m----> 1\u001b[0;31m \u001b[0mpx1744_norm\u001b[0m \u001b[0;34m=\u001b[0m \u001b[0mtrapz\u001b[0m\u001b[0;34m(\u001b[0m\u001b[0mpx1744\u001b[0m\u001b[0;34m,\u001b[0m \u001b[0;36m1000\u001b[0m\u001b[0;34m)\u001b[0m\u001b[0;34m\u001b[0m\u001b[0m\n\u001b[0m",
      "\u001b[0;32m/anaconda2/envs/py3/lib/python3.6/site-packages/numpy/lib/function_base.py\u001b[0m in \u001b[0;36mtrapz\u001b[0;34m(y, x, dx, axis)\u001b[0m\n\u001b[1;32m   4514\u001b[0m             \u001b[0md\u001b[0m \u001b[0;34m=\u001b[0m \u001b[0md\u001b[0m\u001b[0;34m.\u001b[0m\u001b[0mreshape\u001b[0m\u001b[0;34m(\u001b[0m\u001b[0mshape\u001b[0m\u001b[0;34m)\u001b[0m\u001b[0;34m\u001b[0m\u001b[0m\n\u001b[1;32m   4515\u001b[0m         \u001b[0;32melse\u001b[0m\u001b[0;34m:\u001b[0m\u001b[0;34m\u001b[0m\u001b[0m\n\u001b[0;32m-> 4516\u001b[0;31m             \u001b[0md\u001b[0m \u001b[0;34m=\u001b[0m \u001b[0mdiff\u001b[0m\u001b[0;34m(\u001b[0m\u001b[0mx\u001b[0m\u001b[0;34m,\u001b[0m \u001b[0maxis\u001b[0m\u001b[0;34m=\u001b[0m\u001b[0maxis\u001b[0m\u001b[0;34m)\u001b[0m\u001b[0;34m\u001b[0m\u001b[0m\n\u001b[0m\u001b[1;32m   4517\u001b[0m     \u001b[0mnd\u001b[0m \u001b[0;34m=\u001b[0m \u001b[0my\u001b[0m\u001b[0;34m.\u001b[0m\u001b[0mndim\u001b[0m\u001b[0;34m\u001b[0m\u001b[0m\n\u001b[1;32m   4518\u001b[0m     \u001b[0mslice1\u001b[0m \u001b[0;34m=\u001b[0m \u001b[0;34m[\u001b[0m\u001b[0mslice\u001b[0m\u001b[0;34m(\u001b[0m\u001b[0;32mNone\u001b[0m\u001b[0;34m)\u001b[0m\u001b[0;34m]\u001b[0m\u001b[0;34m*\u001b[0m\u001b[0mnd\u001b[0m\u001b[0;34m\u001b[0m\u001b[0m\n",
      "\u001b[0;32m/anaconda2/envs/py3/lib/python3.6/site-packages/numpy/lib/function_base.py\u001b[0m in \u001b[0;36mdiff\u001b[0;34m(a, n, axis)\u001b[0m\n\u001b[1;32m   1933\u001b[0m     \u001b[0ma\u001b[0m \u001b[0;34m=\u001b[0m \u001b[0masanyarray\u001b[0m\u001b[0;34m(\u001b[0m\u001b[0ma\u001b[0m\u001b[0;34m)\u001b[0m\u001b[0;34m\u001b[0m\u001b[0m\n\u001b[1;32m   1934\u001b[0m     \u001b[0mnd\u001b[0m \u001b[0;34m=\u001b[0m \u001b[0ma\u001b[0m\u001b[0;34m.\u001b[0m\u001b[0mndim\u001b[0m\u001b[0;34m\u001b[0m\u001b[0m\n\u001b[0;32m-> 1935\u001b[0;31m     \u001b[0maxis\u001b[0m \u001b[0;34m=\u001b[0m \u001b[0mnormalize_axis_index\u001b[0m\u001b[0;34m(\u001b[0m\u001b[0maxis\u001b[0m\u001b[0;34m,\u001b[0m \u001b[0mnd\u001b[0m\u001b[0;34m)\u001b[0m\u001b[0;34m\u001b[0m\u001b[0m\n\u001b[0m\u001b[1;32m   1936\u001b[0m \u001b[0;34m\u001b[0m\u001b[0m\n\u001b[1;32m   1937\u001b[0m     \u001b[0mslice1\u001b[0m \u001b[0;34m=\u001b[0m \u001b[0;34m[\u001b[0m\u001b[0mslice\u001b[0m\u001b[0;34m(\u001b[0m\u001b[0;32mNone\u001b[0m\u001b[0;34m)\u001b[0m\u001b[0;34m]\u001b[0m \u001b[0;34m*\u001b[0m \u001b[0mnd\u001b[0m\u001b[0;34m\u001b[0m\u001b[0m\n",
      "\u001b[0;31mAxisError\u001b[0m: axis -1 is out of bounds for array of dimension 0"
     ]
    }
   ],
   "source": [
    "px1744_norm = trapz(px1744, 1000)"
   ]
  },
  {
   "cell_type": "code",
   "execution_count": 36,
   "metadata": {},
   "outputs": [
    {
     "name": "stderr",
     "output_type": "stream",
     "text": [
      "/anaconda2/envs/py3/lib/python3.6/site-packages/matplotlib/font_manager.py:1328: UserWarning: findfont: Font family ['serif'] not found. Falling back to DejaVu Sans\n",
      "  (prop.get_family(), self.defaultFamily[fontext]))\n"
     ]
    },
    {
     "data": {
      "image/png": "[encoded data removed]",
      "text/plain": [
       "<Figure size 244.354x151.019 with 1 Axes>"
      ]
     },
     "metadata": {
      "image/png": {
       "height": 149,
       "width": 243
      }
     },
     "output_type": "display_data"
    }
   ],
   "source": [
    "fig, ax1 = plt.subplots()\n",
    "\n",
    "# DM NE 2001 model\n",
    "ax1.axvspan(d_DM_NE_1744 - eminus_DM_NE_1744, d_DM_NE_1744 + eplus_DM_NE_1744, alpha=0.3, color = \"C0\", label = \"NE 2001\")\n",
    "plt.axvline(d_DM_NE_1744, ymin=0, ymax=1, color = \"C0\")\n",
    "\n",
    "# DM YMW16 model\n",
    "ax1.axvspan(d_DM_YMW_1744*.8, d_DM_YMW_1744*1.2, alpha=0.35, color = \"C1\", label = \"YMW 16\")\n",
    "plt.axvline(d_DM_YMW_1744, ymin=0, ymax=1, color = \"C1\")\n",
    "\n",
    "# GAIA distance\n",
    "#plt.plot(1/gx1744*1000, dist_gaia1744.pdf(gx1744), label = \"GAIA\", color = \"C5\", linestyle='dashed')\n",
    "plt.plot(dist_BJ_1744, np.array(bj_1744)/areaT,label = \"Gaia\", color = \"C2\", linestyle='dashed')\n",
    "\n",
    "\n",
    "# PX from par file\n",
    "plt.plot(1/px1744*1000, dist_px1744.pdf(px1744),  label = \"PTA\", color = \"C3\", linestyle='-.')\n",
    "\n",
    "#ax1.set_yticklabels([])\n",
    "#plt.yticks([])\n",
    "plt.xlim(0,2000)\n",
    "plt.xlabel(\"Distance (pc)\")\n",
    "plt.legend()\n",
    "plt.tight_layout()\n",
    "\n",
    "#plt.savefig(\"J1744_distances_NOTnormed.pdf\")"
   ]
  },
  {
   "cell_type": "markdown",
   "metadata": {
    "collapsed": true
   },
   "source": [
    "# J1843-1113"
   ]
  },
  {
   "cell_type": "code",
   "execution_count": 79,
   "metadata": {
    "collapsed": true
   },
   "outputs": [],
   "source": [
    "# Corrected Bailer-Jones distance estimate\n",
    "# r_est 2843.493203\n",
    "dist_BJ_1843 = np.linspace(1, 7, 1000)\n",
    "bj_1843 = []\n",
    "for r in dist_BJ_1843:\n",
    "    bj_1843.append(pOfR(r,0.786932656, 0.643053785,1.771456574))"
   ]
  },
  {
   "cell_type": "code",
   "execution_count": 80,
   "metadata": {
    "collapsed": true
   },
   "outputs": [],
   "source": [
    "#1.697 kpc (1.484, 1.905)"
   ]
  },
  {
   "cell_type": "code",
   "execution_count": 103,
   "metadata": {
    "collapsed": true
   },
   "outputs": [],
   "source": [
    "#pta_px = 0.30750646886784517101\n",
    "\n",
    "#px1744 = np.linspace(2.0, 10, 1000)\n",
    "#dist_px1744 = norm(2.4666340693407614979, 0.07324684023396225985)\n",
    "\n",
    "\n",
    "\n",
    "px1843 = np.linspace(0.1, 5, 1000)\n",
    "dist_px1843 = norm(3.251, 1.943)"
   ]
  },
  {
   "cell_type": "code",
   "execution_count": 104,
   "metadata": {},
   "outputs": [
    {
     "data": {
      "text/plain": [
       "[<matplotlib.lines.Line2D at 0x1a195446d0>]"
      ]
     },
     "execution_count": 104,
     "metadata": {},
     "output_type": "execute_result"
    },
    {
     "data": {
      "image/png": "[encoded data removed]",
      "text/plain": [
       "<matplotlib.figure.Figure at 0x1a1878d050>"
      ]
     },
     "metadata": {
      "image/png": {
       "height": 147,
       "width": 225
      }
     },
     "output_type": "display_data"
    }
   ],
   "source": [
    "plt.plot(dist_BJ_1843, bj_1843, label = \"Gaia\") # look out, negative parallax\n",
    "plt.plot(1/px1843*1000, dist_px1843.pdf(px1843)*2, label = r\"PTA $D_\\pi$\", color = \"C6\", linestyle='dotted')\n",
    "\n"
   ]
  },
  {
   "cell_type": "code",
   "execution_count": null,
   "metadata": {
    "collapsed": true
   },
   "outputs": [],
   "source": []
  }
 ],
 "metadata": {
  "kernelspec": {
   "display_name": "Python 3",
   "language": "python",
   "name": "python3"
  },
  "language_info": {
   "codemirror_mode": {
    "name": "ipython",
    "version": 3
   },
   "file_extension": ".py",
   "mimetype": "text/x-python",
   "name": "python",
   "nbconvert_exporter": "python",
   "pygments_lexer": "ipython3",
   "version": "3.6.5"
  }
 },
 "nbformat": 4,
 "nbformat_minor": 2
}
