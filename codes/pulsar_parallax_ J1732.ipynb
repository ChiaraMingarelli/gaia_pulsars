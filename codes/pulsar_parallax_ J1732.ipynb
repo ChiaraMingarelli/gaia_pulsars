{
 "cells": [
  {
   "cell_type": "code",
   "execution_count": 1,
   "metadata": {},
   "outputs": [],
   "source": [
    "from __future__ import division\n",
    "from IPython.display import display, Math, Latex\n",
    "from math import sin, cos\n",
    "import numpy as np\n",
    "import matplotlib.pyplot as plt\n",
    "from matplotlib.ticker import FormatStrFormatter, LinearLocator, NullFormatter, NullLocator, MultipleLocator\n",
    "import matplotlib.ticker\n",
    "import matplotlib.colors\n",
    "from matplotlib.font_manager import FontProperties\n",
    "from matplotlib import rc, text\n",
    "from scipy.stats import norm\n",
    "import scipy as sp\n",
    "from scipy.integrate import simps\n",
    "from numpy import trapz\n",
    "\n",
    "%matplotlib inline\n",
    "%config InlineBackend.figure_format = \"retina\""
   ]
  },
  {
   "cell_type": "code",
   "execution_count": 2,
   "metadata": {},
   "outputs": [],
   "source": [
    "c=2.99792458*(10**8)\n",
    "G=6.67428*(10**(-11))\n",
    "s_mass=G*(1.98892*10**(30))/(c**3)\n",
    "\n",
    "# common function shortcuts\n",
    "log10 = np.log10\n",
    "pi = np.pi\n",
    "sqrt = np.sqrt"
   ]
  },
  {
   "cell_type": "code",
   "execution_count": 3,
   "metadata": {},
   "outputs": [],
   "source": [
    "wzp = -0.029 # Quasar Correction; defined in Bailor-Jones but computed in Lindegren et al. 2018"
   ]
  },
  {
   "cell_type": "code",
   "execution_count": 4,
   "metadata": {},
   "outputs": [],
   "source": [
    "# Posterior PDF from Bailor-Jones et al.\n",
    "\n",
    "def pOfR(r, px, dpx, Lsph):\n",
    "    \"\"\"\n",
    "    This is Equation 2 in Bailer-Jones et al. 2018.\n",
    "    NB, r > 0\n",
    "    Here, input r in pc's.\n",
    "    \"\"\"\n",
    "    r = r/1000. #convert pc to kpc\n",
    "    #px = px + 0.029 #Quasar correction already accounted for \n",
    "    exponent = -r/Lsph - (px-wzp-1/r)**2/(2*dpx**2)\n",
    "    ans = r**2*np.exp(exponent)\n",
    "    return ans\n"
   ]
  },
  {
   "cell_type": "code",
   "execution_count": 5,
   "metadata": {},
   "outputs": [],
   "source": [
    "# plotting preamble\n",
    "\n",
    "fig_width_pt = 245.27 #513.17           # Get this from LaTeX using \\showthe\\columnwidth\n",
    "inches_per_pt = 1.0/72.27               # Convert pt to inches\n",
    "golden_mean = (np.sqrt(5)-1.0)/2.0      # Aesthetic ratio\n",
    "fig_width = fig_width_pt*inches_per_pt  # width in inches\n",
    "fig_height =fig_width*golden_mean       # height in inches\n",
    "fig_size = [fig_width,fig_height]\n",
    "\n",
    "params = {'backend': 'pdf',\n",
    "        'axes.labelsize': 7,\n",
    "        'lines.markersize': 2,\n",
    "        'font.size': 7,\n",
    "        'xtick.major.size':6,\n",
    "        'xtick.minor.size':3,  \n",
    "        'ytick.major.size':6,\n",
    "        'ytick.minor.size':3, \n",
    "        'xtick.major.width':0.5,\n",
    "        'ytick.major.width':0.5,\n",
    "        'xtick.minor.width':0.5,\n",
    "        'ytick.minor.width':0.5,\n",
    "        'lines.markeredgewidth':1,\n",
    "        'axes.linewidth':1.0,\n",
    "        'legend.fontsize': 7,\n",
    "        'xtick.labelsize': 7,\n",
    "        'ytick.labelsize': 7,\n",
    "        'savefig.dpi':200,\n",
    "        'path.simplify':True,\n",
    "        #'font.family': 'serif',\n",
    "        'font.serif':'Times',\n",
    "        'text.latex.preamble': [r'\\usepackage{amsmath}'],\n",
    "        'text.usetex':True,\n",
    "        #'axes.color_cycle': ['b', 'lime', 'r', 'purple', 'g', 'c', 'm', 'orange', 'darkblue', \\\n",
    "        #                        'darkcyan', 'y','orangered','chartreuse','brown','deeppink','lightgreen', 'k'],\n",
    "        #'font.serif':cm,\n",
    "        'figure.figsize': fig_size}\n",
    "plt.rcParams.update(params)"
   ]
  },
  {
   "cell_type": "markdown",
   "metadata": {},
   "source": [
    "# J1732 parallax measurements"
   ]
  },
  {
   "cell_type": "code",
   "execution_count": null,
   "metadata": {},
   "outputs": [],
   "source": []
  },
  {
   "cell_type": "code",
   "execution_count": 6,
   "metadata": {},
   "outputs": [],
   "source": [
    "# dispersion measure distance from NE 2001, https://www.nrl.navy.mil/rsd/RORF/ne2001/pulsar.cgi\n",
    "d_DM_NE_1732 = 1411\n",
    "eplus_DM_NE_1732 = 206\n",
    "eminus_DM_NE_1732 = 198\n",
    "\n",
    "# YMW 16 DM model, http://www.atnf.csiro.au/research/pulsar/ymw16/\n",
    "d_DM_YMW_1732 = 1875.0   # no errors reported here..."
   ]
  },
  {
   "cell_type": "code",
   "execution_count": 7,
   "metadata": {},
   "outputs": [],
   "source": [
    "# GAIA estimate placeholder J1955\n",
    "# NB negative parallax -1.1837\t2.8444\n",
    "gx1732 = np.linspace(.17, 1.5, 1000)\n",
    "dist_gaia1732 = norm(-1.1837, 2.8444)"
   ]
  },
  {
   "cell_type": "code",
   "execution_count": 8,
   "metadata": {},
   "outputs": [],
   "source": [
    "# Corrected Bailer-Jones distance estimate\n",
    "dist_BJ_1732 = np.linspace(500, 12000, 1000)\n",
    "bj_1732 = []\n",
    "for r in dist_BJ_1732:\n",
    "    bj_1732.append(pOfR(r,-1.1837, 2.8444,1.94743888544794))"
   ]
  },
  {
   "cell_type": "code",
   "execution_count": null,
   "metadata": {},
   "outputs": [],
   "source": []
  },
  {
   "cell_type": "code",
   "execution_count": null,
   "metadata": {},
   "outputs": [],
   "source": []
  },
  {
   "cell_type": "code",
   "execution_count": null,
   "metadata": {},
   "outputs": [],
   "source": []
  },
  {
   "cell_type": "code",
   "execution_count": 9,
   "metadata": {},
   "outputs": [
    {
     "data": {
      "image/png": "[encoded data removed]",
      "text/plain": [
       "<Figure size 244.354x151.019 with 1 Axes>"
      ]
     },
     "metadata": {
      "image/png": {
       "height": 148,
       "width": 237
      }
     },
     "output_type": "display_data"
    }
   ],
   "source": [
    "fig, ax1 = plt.subplots()\n",
    "\n",
    "# DM NE 2001 model\n",
    "ax1.axvspan(d_DM_NE_1732 - eminus_DM_NE_1732, d_DM_NE_1732 + eplus_DM_NE_1732, alpha=0.3, color = \"C0\", label = \"NE 2001\")\n",
    "plt.axvline(d_DM_NE_1732, ymin=0, ymax=1, color = \"C0\", linestyle =\":\")\n",
    "\n",
    "# DM YMW16 model\n",
    "ax1.axvspan(d_DM_YMW_1732*.8, d_DM_YMW_1732*1.2, alpha=0.35, color = \"C1\", label = \"YMW 16\")\n",
    "plt.axvline(d_DM_YMW_1732, ymin=0, ymax=1, color = \"C1\", linestyle =\":\")\n",
    "\n",
    "# GAIA distance, to be updated\n",
    "#plt.plot(1/gx1732*1000, dist_gaia1732.pdf(gx1732), label = \"GAIA\", color = \"C5\", linestyle='dashed')\n",
    "plt.plot(dist_BJ_1732, np.array(bj_1732), label = \"Gaia\", color = \"C2\", linestyle='dashed')\n",
    "\n",
    "ax1.set_yticklabels([])\n",
    "plt.yticks([])\n",
    "plt.xlabel(\"Distance (pc)\")\n",
    "plt.legend()\n",
    "plt.tight_layout()\n",
    "\n",
    "#plt.savefig(\"J1732_distances_wbj.pdf\")"
   ]
  },
  {
   "cell_type": "code",
   "execution_count": 26,
   "metadata": {},
   "outputs": [],
   "source": [
    "# log transform\n",
    "new1732 = []\n",
    "for ii in bj_1732:\n",
    "    new1732.append(10**(ii))"
   ]
  },
  {
   "cell_type": "code",
   "execution_count": 10,
   "metadata": {},
   "outputs": [],
   "source": [
    "# Can now fit this with a Gaussian"
   ]
  },
  {
   "cell_type": "code",
   "execution_count": 11,
   "metadata": {},
   "outputs": [],
   "source": [
    "# the following code was modified from \n",
    "# https://github.com/Ffisegydd/python-examples/blob/master/examples/scipy/fitting%20a%20gaussian%20with%20scipy%20curve_fit.py"
   ]
  },
  {
   "cell_type": "code",
   "execution_count": 17,
   "metadata": {},
   "outputs": [],
   "source": [
    "from scipy.optimize import curve_fit"
   ]
  },
  {
   "cell_type": "code",
   "execution_count": 27,
   "metadata": {},
   "outputs": [],
   "source": [
    "newx = (dist_BJ_1732/1000)\n",
    "newy = new1732"
   ]
  },
  {
   "cell_type": "code",
   "execution_count": 28,
   "metadata": {},
   "outputs": [],
   "source": [
    "# Create a function which returns a Gaussian (normal) distribution.\n",
    "def gauss(x, *p):\n",
    "    a, b, c, d = p\n",
    "    y = a*np.exp(-np.power((x - b), 2.)/(2. * c**2.)) + d\n",
    "    return y"
   ]
  },
  {
   "cell_type": "code",
   "execution_count": 29,
   "metadata": {},
   "outputs": [],
   "source": [
    "p_initial = [1.0, 4.0, 2.0, 0.0]"
   ]
  },
  {
   "cell_type": "code",
   "execution_count": 30,
   "metadata": {},
   "outputs": [],
   "source": [
    "popt, pcov = curve_fit(gauss, newx, newy, p0=p_initial)"
   ]
  },
  {
   "cell_type": "code",
   "execution_count": 31,
   "metadata": {},
   "outputs": [],
   "source": [
    "y_fit = gauss(newx, *popt)"
   ]
  },
  {
   "cell_type": "code",
   "execution_count": 32,
   "metadata": {},
   "outputs": [
    {
     "data": {
      "text/plain": [
       "[<matplotlib.lines.Line2D at 0x10e31e128>]"
      ]
     },
     "execution_count": 32,
     "metadata": {},
     "output_type": "execute_result"
    },
    {
     "data": {
      "image/png": "[encoded data removed]",
      "text/plain": [
       "<Figure size 244.354x151.019 with 1 Axes>"
      ]
     },
     "metadata": {
      "image/png": {
       "height": 147,
       "width": 223
      }
     },
     "output_type": "display_data"
    }
   ],
   "source": [
    "fig, ax = plt.subplots()\n",
    "ax.plot(newx, y_fit, color = 'red')\n",
    "plt.plot(dist_BJ_1732/1000, newy  , label = \"Combined\", color = \"C4\", linestyle='solid')"
   ]
  },
  {
   "cell_type": "code",
   "execution_count": 33,
   "metadata": {},
   "outputs": [
    {
     "data": {
      "text/plain": [
       "4219.627405177047"
      ]
     },
     "execution_count": 33,
     "metadata": {},
     "output_type": "execute_result"
    }
   ],
   "source": [
    "# mean distance from fit\n",
    "popt[1]*1000"
   ]
  },
  {
   "cell_type": "code",
   "execution_count": 34,
   "metadata": {},
   "outputs": [
    {
     "data": {
      "text/plain": [
       "1365.6522778136632"
      ]
     },
     "execution_count": 34,
     "metadata": {},
     "output_type": "execute_result"
    }
   ],
   "source": [
    "# 1-sigma error on distance fit\n",
    "popt[2]*1000"
   ]
  },
  {
   "cell_type": "code",
   "execution_count": null,
   "metadata": {},
   "outputs": [],
   "source": []
  },
  {
   "cell_type": "code",
   "execution_count": null,
   "metadata": {},
   "outputs": [],
   "source": []
  }
 ],
 "metadata": {
  "kernelspec": {
   "display_name": "Python 3",
   "language": "python",
   "name": "python3"
  },
  "language_info": {
   "codemirror_mode": {
    "name": "ipython",
    "version": 3
   },
   "file_extension": ".py",
   "mimetype": "text/x-python",
   "name": "python",
   "nbconvert_exporter": "python",
   "pygments_lexer": "ipython3",
   "version": "3.6.5"
  }
 },
 "nbformat": 4,
 "nbformat_minor": 2
}
