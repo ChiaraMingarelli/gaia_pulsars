{
 "cells": [
  {
   "cell_type": "code",
   "execution_count": null,
   "metadata": {
    "collapsed": true
   },
   "outputs": [],
   "source": []
  },
  {
   "cell_type": "code",
   "execution_count": 1,
   "metadata": {
    "collapsed": true
   },
   "outputs": [],
   "source": [
    "from __future__ import division\n",
    "from IPython.display import display, Math, Latex\n",
    "from math import sin, cos\n",
    "import numpy as np\n",
    "import matplotlib.pyplot as plt\n",
    "from matplotlib.ticker import FormatStrFormatter, LinearLocator, NullFormatter, NullLocator, MultipleLocator\n",
    "import matplotlib.ticker\n",
    "import matplotlib.colors\n",
    "from matplotlib.font_manager import FontProperties\n",
    "from matplotlib import rc, text\n",
    "#import healpy as hp\n",
    "#from mpl_toolkits.basemap import Basemap\n",
    "from astropy.table import Table, Column, MaskedColumn\n",
    "from astropy.coordinates import SkyCoord, ICRS, Galactic, Angle\n",
    "from astropy import units as u\n",
    "\n",
    "\n",
    "%matplotlib inline\n",
    "%config InlineBackend.figure_format = \"retina\""
   ]
  },
  {
   "cell_type": "code",
   "execution_count": 2,
   "metadata": {
    "collapsed": true
   },
   "outputs": [],
   "source": [
    "c=2.99792458*(10**8)\n",
    "G=6.67428*(10**(-11))\n",
    "s_mass=G*(1.98892*10**(30))/(c**3)\n",
    "\n",
    "# common function shortcuts\n",
    "log10 = np.log10\n",
    "pi = np.pi\n",
    "sqrt = np.sqrt\n",
    "sin = np.sin\n",
    "cos = np.cos\n",
    "arccos = np.arccos"
   ]
  },
  {
   "cell_type": "code",
   "execution_count": 3,
   "metadata": {
    "collapsed": true
   },
   "outputs": [],
   "source": [
    "def semi_a(theta,dist):\n",
    "    \"\"\"\n",
    "    input theta in arcseconds, input distance in pc, output \"a\" (semimajor axis) is AU\n",
    "    \"\"\"\n",
    "    ans = theta*dist\n",
    "    return ans"
   ]
  },
  {
   "cell_type": "code",
   "execution_count": 4,
   "metadata": {
    "collapsed": true
   },
   "outputs": [],
   "source": [
    "AU_sec = 1.496e11/c"
   ]
  },
  {
   "cell_type": "code",
   "execution_count": 5,
   "metadata": {
    "collapsed": true
   },
   "outputs": [],
   "source": [
    "def kep_P(a,Mtot):\n",
    "    \"\"\"\n",
    "    answer in days. \n",
    "    input \"a\" in AU and Mtot in solar masses.\n",
    "    \"\"\"\n",
    "    frac = 4*pi*pi*(a*AU_sec)**3/(Mtot*s_mass)\n",
    "    ans = sqrt(frac)\n",
    "    return ans/60/60/24\n",
    "\n",
    "def kep_a(P,Mtot):\n",
    "    \"\"\"\n",
    "    answer in AU. \n",
    "    input \"P\" in days and Mtot in solar masses.\n",
    "    \"\"\"\n",
    "    frac = (P*24*60*60)**2*(Mtot*s_mass)/(4*pi*pi)\n",
    "    ans = frac**(1/3)\n",
    "    return ans/AU_sec"
   ]
  },
  {
   "cell_type": "code",
   "execution_count": 6,
   "metadata": {
    "collapsed": true
   },
   "outputs": [],
   "source": [
    "# plotting preamble\n",
    "\n",
    "fig_width_pt = 245.27 #513.17           # Get this from LaTeX using \\showthe\\columnwidth\n",
    "inches_per_pt = 1.0/72.27               # Convert pt to inches\n",
    "golden_mean = (np.sqrt(5)-1.0)/2.0      # Aesthetic ratio\n",
    "fig_width = fig_width_pt*inches_per_pt  # width in inches\n",
    "fig_height =fig_width*golden_mean       # height in inches\n",
    "fig_size = [fig_width,fig_height]\n",
    "\n",
    "params = {'backend': 'pdf',\n",
    "        'axes.labelsize': 7,\n",
    "        'lines.markersize': 2,\n",
    "        'font.size': 7,\n",
    "        'xtick.major.size':6,\n",
    "        'xtick.minor.size':3,  \n",
    "        'ytick.major.size':6,\n",
    "        'ytick.minor.size':3, \n",
    "        'xtick.major.width':0.5,\n",
    "        'ytick.major.width':0.5,\n",
    "        'xtick.minor.width':0.5,\n",
    "        'ytick.minor.width':0.5,\n",
    "        'lines.markeredgewidth':1,\n",
    "        'axes.linewidth':1.0,\n",
    "        'legend.fontsize': 7,\n",
    "        'xtick.labelsize': 7,\n",
    "        'ytick.labelsize': 7,\n",
    "        'savefig.dpi':200,\n",
    "        'path.simplify':True,\n",
    "        'font.family': 'serif',\n",
    "        'font.serif':'Times',\n",
    "        'text.latex.preamble': [r'\\usepackage{amsmath}'],\n",
    "        'text.usetex':True,\n",
    "        #'axes.color_cycle': ['b', 'lime', 'r', 'purple', 'g', 'c', 'm', 'orange', 'darkblue', \\\n",
    "        #                        'darkcyan', 'y','orangered','chartreuse','brown','deeppink','lightgreen', 'k'],\n",
    "        #'font.serif':cm,\n",
    "        'figure.figsize': fig_size}\n",
    "plt.rcParams.update(params)"
   ]
  },
  {
   "cell_type": "code",
   "execution_count": 7,
   "metadata": {},
   "outputs": [
    {
     "data": {
      "text/plain": [
       "1.0000576845303153"
      ]
     },
     "execution_count": 7,
     "metadata": {},
     "output_type": "execute_result"
    }
   ],
   "source": [
    "kep_a(365.25,1) # Earth, sanity check"
   ]
  },
  {
   "cell_type": "code",
   "execution_count": 8,
   "metadata": {},
   "outputs": [
    {
     "data": {
      "text/plain": [
       "365.21839836662093"
      ]
     },
     "execution_count": 8,
     "metadata": {},
     "output_type": "execute_result"
    }
   ],
   "source": [
    "kep_P(1,1)"
   ]
  },
  {
   "cell_type": "code",
   "execution_count": 9,
   "metadata": {
    "collapsed": true
   },
   "outputs": [],
   "source": [
    "# ipta_3arcsec_wpm-result.csv"
   ]
  },
  {
   "cell_type": "code",
   "execution_count": 10,
   "metadata": {
    "collapsed": true
   },
   "outputs": [],
   "source": [
    "from astropy.io import ascii"
   ]
  },
  {
   "cell_type": "code",
   "execution_count": 11,
   "metadata": {
    "collapsed": true
   },
   "outputs": [],
   "source": [
    "data = ascii.read(\"xmatch_radiostars_j2000.csv\")"
   ]
  },
  {
   "cell_type": "code",
   "execution_count": 12,
   "metadata": {},
   "outputs": [
    {
     "data": {
      "text/html": [
       "&lt;Table masked=True length=54&gt;\n",
       "<table id=\"table4508402000\" class=\"table-striped table-bordered table-condensed\">\n",
       "<thead><tr><th>col1</th><th>col2</th><th>col3</th><th>col4</th><th>col5</th><th>col6</th><th>col7</th><th>col8</th><th>col9</th><th>col10</th><th>col11</th><th>col12</th><th>col13</th><th>col14</th><th>col15</th><th>col16</th><th>col17</th><th>col18</th><th>col19</th><th>col20</th><th>col21</th><th>col22</th><th>col23</th><th>col24</th><th>col25</th><th>col26</th><th>col27</th><th>col28</th><th>col29</th><th>col30</th><th>col31</th><th>col32</th><th>col33</th><th>col34</th><th>col35</th><th>col36</th><th>col37</th><th>col38</th><th>col39</th><th>col40</th><th>col41</th><th>col42</th><th>col43</th><th>col44</th><th>col45</th><th>col46</th><th>col47</th><th>col48</th></tr></thead>\n",
       "<thead><tr><th>str8</th><th>str5</th><th>str10</th><th>str10</th><th>str4</th><th>str7</th><th>str6</th><th>str7</th><th>str6</th><th>str7</th><th>str7</th><th>str7</th><th>str7</th><th>str9</th><th>str15</th><th>str15</th><th>str10</th><th>str10</th><th>str9</th><th>str19</th><th>str15</th><th>str8</th><th>str15</th><th>str9</th><th>str8</th><th>str14</th><th>str8</th><th>str10</th><th>str8</th><th>str11</th><th>str17</th><th>str16</th><th>str22</th><th>str15</th><th>str17</th><th>str23</th><th>str16</th><th>str17</th><th>str23</th><th>str16</th><th>str9</th><th>str15</th><th>str21</th><th>str8</th><th>str7</th><th>str15</th><th>str10</th><th>str9</th></tr></thead>\n",
       "<tr><td>angDist</td><td>index</td><td>ra</td><td>dec</td><td>no</td><td>ra_hour</td><td>ra_min</td><td>ra_sec</td><td>ra_err</td><td>dec_deg</td><td>dec_min</td><td>dec_sec</td><td>dec_err</td><td>epoch</td><td>ra_epoch2000</td><td>dec_epoch2000</td><td>errHalfMaj</td><td>errHalfMin</td><td>errPosAng</td><td>source_id</td><td>ra</td><td>ra_error</td><td>dec</td><td>dec_error</td><td>parallax</td><td>parallax_error</td><td>pmra</td><td>pmra_error</td><td>pmdec</td><td>pmdec_error</td><td>duplicated_source</td><td>phot_g_mean_flux</td><td>phot_g_mean_flux_error</td><td>phot_g_mean_mag</td><td>phot_bp_mean_flux</td><td>phot_bp_mean_flux_error</td><td>phot_bp_mean_mag</td><td>phot_rp_mean_flux</td><td>phot_rp_mean_flux_error</td><td>phot_rp_mean_mag</td><td>bp_rp</td><td>radial_velocity</td><td>radial_velocity_error</td><td>teff_val</td><td>a_g_val</td><td>e_bp_min_rp_val</td><td>radius_val</td><td>lum_val</td></tr>\n",
       "<tr><td>0.988223</td><td>1</td><td>19.229407</td><td>6.811601</td><td>1011</td><td>1</td><td>16</td><td>55.0576</td><td>1300</td><td>6</td><td>48</td><td>41.762</td><td>2000</td><td>1989.005</td><td>19.22966362740</td><td>6.81170309136</td><td>0.001</td><td>0.001</td><td>90</td><td>2576772264960362112</td><td>19.23003292458</td><td>0.0570</td><td>6.81179337307</td><td>0.0363</td><td>13.9522</td><td>0.0667</td><td>85.167</td><td>0.096</td><td>20.969</td><td>0.080</td><td>0</td><td>5.49432e+06</td><td>2.73274e+04</td><td>8.838582</td><td>2.73561e+06</td><td>4.30143e+04</td><td>9.258753</td><td>3.86148e+06</td><td>5.19578e+04</td><td>8.295036</td><td>0.963717</td><td>--</td><td>--</td><td>5340.63</td><td>0.5120</td><td>0.2670</td><td>1.26</td><td>1.161</td></tr>\n",
       "<tr><td>0.160677</td><td>2</td><td>40.132025</td><td>61.229322</td><td>1022</td><td>2</td><td>40</td><td>31.686</td><td>8000</td><td>61</td><td>13</td><td>45.56</td><td>7000</td><td>1983.789</td><td>40.13193411800</td><td>61.22933087170</td><td>0.001</td><td>0.001</td><td>0</td><td>465645515129855872</td><td>40.13193146963</td><td>0.0285</td><td>61.22933052988</td><td>0.0300</td><td>0.3801</td><td>0.0380</td><td>-0.296</td><td>0.041</td><td>-0.079</td><td>0.067</td><td>1</td><td>1.31225e+06</td><td>1.27159e+03</td><td>10.393323</td><td>5.66375e+05</td><td>1.78851e+03</td><td>10.968629</td><td>1.07958e+06</td><td>3.48015e+03</td><td>9.678779</td><td>1.289850</td><td>--</td><td>--</td><td>4972.00</td><td>--</td><td>--</td><td>26.91</td><td>398.622</td></tr>\n",
       "<tr><td>0.082386</td><td>3</td><td>47.042201</td><td>40.955654</td><td>1026</td><td>3</td><td>8</td><td>10.1283</td><td>300</td><td>40</td><td>57</td><td>20.355</td><td>500</td><td>1983.567</td><td>47.04222797270</td><td>40.95564357020</td><td>0.010</td><td>0.001</td><td>0</td><td>239863001382455424</td><td>47.04222797272</td><td>0.5512</td><td>40.95564357022</td><td>9.9666</td><td>--</td><td>--</td><td>--</td><td>--</td><td>--</td><td>--</td><td>0</td><td>3.46101e+08</td><td>4.06489e+07</td><td>4.340358</td><td>1.41183e+08</td><td>6.95848e+07</td><td>4.976932</td><td>7.33215e+08</td><td>1.10744e+08</td><td>2.598841</td><td>2.378091</td><td>--</td><td>--</td><td>4388.20</td><td>--</td><td>--</td><td>--</td><td>--</td></tr>\n",
       "<tr><td>0.027158</td><td>4</td><td>47.042218</td><td>40.955644</td><td>1026</td><td>3</td><td>8</td><td>10.1323</td><td>1800</td><td>40</td><td>57</td><td>20.318</td><td>2000</td><td>1986.299</td><td>47.04222797270</td><td>40.95564357020</td><td>0.010</td><td>0.001</td><td>0</td><td>239863001382455424</td><td>47.04222797272</td><td>0.5512</td><td>40.95564357022</td><td>9.9666</td><td>--</td><td>--</td><td>--</td><td>--</td><td>--</td><td>--</td><td>0</td><td>3.46101e+08</td><td>4.06489e+07</td><td>4.340358</td><td>1.41183e+08</td><td>6.95848e+07</td><td>4.976932</td><td>7.33215e+08</td><td>1.10744e+08</td><td>2.598841</td><td>2.378091</td><td>--</td><td>--</td><td>4388.20</td><td>--</td><td>--</td><td>--</td><td>--</td></tr>\n",
       "<tr><td>1.815230</td><td>5</td><td>51.64725</td><td>28.715545</td><td>1028</td><td>3</td><td>26</td><td>35.3399</td><td>1000</td><td>28</td><td>42</td><td>55.962</td><td>500</td><td>1983.679</td><td>51.64740170390</td><td>28.71505863920</td><td>0.008</td><td>0.006</td><td>90</td><td>118986060277836160</td><td>51.64762908756</td><td>0.2157</td><td>28.71461990962</td><td>0.1572</td><td>19.8129</td><td>0.2281</td><td>46.317</td><td>0.493</td><td>-101.899</td><td>0.359</td><td>0</td><td>5.54354e+07</td><td>4.86597e+05</td><td>6.328898</td><td>2.53072e+07</td><td>6.68272e+05</td><td>6.843279</td><td>4.41145e+07</td><td>1.18994e+06</td><td>5.650466</td><td>1.192813</td><td>--</td><td>--</td><td>4904.72</td><td>--</td><td>--</td><td>3.47</td><td>6.295</td></tr>\n",
       "<tr><td>2.706836</td><td>7</td><td>54.197184</td><td>0.5885</td><td>1029</td><td>3</td><td>36</td><td>47.3241</td><td>600</td><td>0</td><td>35</td><td>18.6</td><td>5000</td><td>1983.789</td><td>54.19704626460</td><td>0.58776082282</td><td>0.002</td><td>0.002</td><td>90</td><td>3263936692671872384</td><td>54.19690463080</td><td>0.0682</td><td>0.58706430248</td><td>0.0542</td><td>33.7528</td><td>0.0866</td><td>-32.894</td><td>0.131</td><td>-161.772</td><td>0.118</td><td>0</td><td>1.08483e+08</td><td>5.30131e+05</td><td>5.599966</td><td>4.71428e+07</td><td>7.47136e+05</td><td>6.167850</td><td>8.39246e+07</td><td>1.40163e+06</td><td>4.952197</td><td>1.215653</td><td>--</td><td>--</td><td>4696.75</td><td>--</td><td>--</td><td>3.20</td><td>4.499</td></tr>\n",
       "<tr><td>2.634226</td><td>8</td><td>54.19721</td><td>0.588474</td><td>1029</td><td>3</td><td>36</td><td>47.3304</td><td>500</td><td>0</td><td>35</td><td>18.507</td><td>500</td><td>1983.68</td><td>54.19704626460</td><td>0.58776082282</td><td>0.002</td><td>0.002</td><td>90</td><td>3263936692671872384</td><td>54.19690463080</td><td>0.0682</td><td>0.58706430248</td><td>0.0542</td><td>33.7528</td><td>0.0866</td><td>-32.894</td><td>0.131</td><td>-161.772</td><td>0.118</td><td>0</td><td>1.08483e+08</td><td>5.30131e+05</td><td>5.599966</td><td>4.71428e+07</td><td>7.47136e+05</td><td>6.167850</td><td>8.39246e+07</td><td>1.40163e+06</td><td>4.952197</td><td>1.215653</td><td>--</td><td>--</td><td>4696.75</td><td>--</td><td>--</td><td>3.20</td><td>4.499</td></tr>\n",
       "<tr><td>1.327164</td><td>9</td><td>64.560573</td><td>50.295789</td><td>1036</td><td>4</td><td>18</td><td>14.5375</td><td>2000</td><td>50</td><td>17</td><td>44.84</td><td>2000</td><td>1982.4322</td><td>64.56092511890</td><td>50.29549692370</td><td>0.007</td><td>0.006</td><td>0</td><td>270632486391536512</td><td>64.56120427426</td><td>0.5672</td><td>50.29526045407</td><td>0.2573</td><td>9.5584</td><td>0.7627</td><td>41.419</td><td>0.412</td><td>-54.922</td><td>0.439</td><td>1</td><td>2.95654e+08</td><td>7.28912e+05</td><td>4.511408</td><td>1.98025e+08</td><td>4.77801e+05</td><td>4.609589</td><td>1.27565e+08</td><td>4.95712e+05</td><td>4.497592</td><td>0.111997</td><td>--</td><td>--</td><td>8541.00</td><td>0.3470</td><td>0.1710</td><td>--</td><td>--</td></tr>\n",
       "<tr><td>0.367271</td><td>11</td><td>85.165377</td><td>-20.298759</td><td>1060</td><td>5</td><td>40</td><td>39.6904</td><td>1400</td><td>-20</td><td>17</td><td>55.532</td><td>2000</td><td>1989.005</td><td>85.16548541220</td><td>-20.29876732460</td><td>0.002</td><td>0.001</td><td>0</td><td>2965332699193320576</td><td>85.16560270312</td><td>0.0312</td><td>-20.29880018623</td><td>0.0432</td><td>5.5576</td><td>0.0465</td><td>25.550</td><td>0.068</td><td>-7.632</td><td>0.107</td><td>0</td><td>3.45365e+07</td><td>6.97680e+04</td><td>6.842671</td><td>1.46522e+07</td><td>9.47669e+04</td><td>7.436627</td><td>2.81538e+07</td><td>1.79821e+05</td><td>6.138078</td><td>1.298549</td><td>34.34</td><td>7.79</td><td>4804.61</td><td>0.0853</td><td>0.0382</td><td>10.32</td><td>51.163</td></tr>\n",
       "<tr><td>...</td><td>...</td><td>...</td><td>...</td><td>...</td><td>...</td><td>...</td><td>...</td><td>...</td><td>...</td><td>...</td><td>...</td><td>...</td><td>...</td><td>...</td><td>...</td><td>...</td><td>...</td><td>...</td><td>...</td><td>...</td><td>...</td><td>...</td><td>...</td><td>...</td><td>...</td><td>...</td><td>...</td><td>...</td><td>...</td><td>...</td><td>...</td><td>...</td><td>...</td><td>...</td><td>...</td><td>...</td><td>...</td><td>...</td><td>...</td><td>...</td><td>...</td><td>...</td><td>...</td><td>...</td><td>...</td><td>...</td><td>...</td></tr>\n",
       "<tr><td>0.110707</td><td>52</td><td>329.163142</td><td>63.625572</td><td>2478</td><td>21</td><td>56</td><td>39.154</td><td>5000</td><td>63</td><td>37</td><td>32.06</td><td>2000</td><td>1983.6305</td><td>329.16309550100</td><td>63.62554921870</td><td>0.007</td><td>0.007</td><td>0</td><td>2216536246703152256</td><td>329.16307903901</td><td>0.2170</td><td>63.62554870938</td><td>0.2156</td><td>1.6661</td><td>0.2307</td><td>-1.699</td><td>0.462</td><td>-0.118</td><td>0.473</td><td>0</td><td>5.30577e+08</td><td>2.06746e+06</td><td>3.876495</td><td>9.68585e+07</td><td>8.88534e+05</td><td>5.386044</td><td>5.62500e+08</td><td>3.20750e+06</td><td>2.886614</td><td>2.499430</td><td>--</td><td>--</td><td>3494.50</td><td>0.7920</td><td>0.4210</td><td>365.62</td><td>17959.402</td></tr>\n",
       "<tr><td>0.541398</td><td>53</td><td>42.231277</td><td>69.634139</td><td>2601</td><td>2</td><td>48</td><td>55.5065</td><td>3800</td><td>69</td><td>38</td><td>2.901</td><td>2000</td><td>1986.298</td><td>42.23129022340</td><td>69.63428931800</td><td>0.001</td><td>0.001</td><td>0</td><td>541801332594262912</td><td>42.23132626695</td><td>0.0301</td><td>69.63445066585</td><td>0.0383</td><td>15.3148</td><td>0.0502</td><td>2.913</td><td>0.054</td><td>37.474</td><td>0.074</td><td>0</td><td>6.21624e+07</td><td>5.91300e+04</td><td>6.204546</td><td>4.11503e+07</td><td>1.08686e+05</td><td>6.315456</td><td>3.04222e+07</td><td>1.16077e+05</td><td>6.053942</td><td>0.261514</td><td>--</td><td>--</td><td>7870.00</td><td>0.5330</td><td>0.2660</td><td>1.76</td><td>10.732</td></tr>\n",
       "<tr><td>2.918443</td><td>54</td><td>109.866771</td><td>-16.394719</td><td>2603</td><td>7</td><td>19</td><td>28.025</td><td>1400</td><td>-16</td><td>23</td><td>40.988</td><td>2000</td><td>1986.219</td><td>109.86740936700</td><td>-16.39525018130</td><td>0.002</td><td>0.001</td><td>90</td><td>3030977013710528768</td><td>109.86815420273</td><td>0.0512</td><td>-16.39584654668</td><td>0.0538</td><td>23.3532</td><td>0.0706</td><td>165.960</td><td>0.107</td><td>-138.510</td><td>0.094</td><td>0</td><td>1.07046e+08</td><td>2.91645e+05</td><td>5.614437</td><td>6.57862e+07</td><td>3.88377e+05</td><td>5.806051</td><td>5.95626e+07</td><td>6.24946e+05</td><td>5.324485</td><td>0.481566</td><td>--</td><td>--</td><td>7068.33</td><td>0.8110</td><td>0.4745</td><td>1.84</td><td>7.630</td></tr>\n",
       "<tr><td>1.020780</td><td>55</td><td>225.243389</td><td>-8.518904</td><td>2609</td><td>15</td><td>0</td><td>58.4134</td><td>1300</td><td>-8</td><td>31</td><td>8.055</td><td>2000</td><td>1986.218</td><td>225.24310743200</td><td>-8.51895747706</td><td>0.009</td><td>0.007</td><td>90</td><td>6332277920392457472</td><td>225.24284376185</td><td>0.2686</td><td>-8.51897319500</td><td>0.2382</td><td>8.3282</td><td>0.3343</td><td>-60.564</td><td>0.552</td><td>-3.651</td><td>0.457</td><td>0</td><td>2.15456e+08</td><td>9.21230e+05</td><td>4.854968</td><td>1.46880e+08</td><td>1.04235e+06</td><td>4.933985</td><td>9.29408e+07</td><td>1.28901e+06</td><td>4.841404</td><td>0.092581</td><td>--</td><td>--</td><td>8770.25</td><td>0.3958</td><td>0.1920</td><td>--</td><td>--</td></tr>\n",
       "<tr><td>0.163740</td><td>56</td><td>240.420999</td><td>66.802823</td><td>2611</td><td>16</td><td>1</td><td>41.0398</td><td>3400</td><td>66</td><td>48</td><td>10.163</td><td>2000</td><td>1986.298</td><td>240.42088570300</td><td>66.80281421700</td><td>0.001</td><td>0.001</td><td>90</td><td>1642955252784454144</td><td>240.42080771602</td><td>0.0286</td><td>66.80279009657</td><td>0.0246</td><td>0.2101</td><td>0.0268</td><td>-7.135</td><td>0.046</td><td>-5.602</td><td>0.044</td><td>0</td><td>4.01255e+06</td><td>1.52885e+04</td><td>9.179815</td><td>1.38368e+06</td><td>1.33609e+04</td><td>9.998796</td><td>3.74238e+06</td><td>4.15090e+04</td><td>8.329050</td><td>1.669746</td><td>-143.91</td><td>1.29</td><td>4075.65</td><td>--</td><td>--</td><td>151.61</td><td>5714.161</td></tr>\n",
       "<tr><td>0.089403</td><td>57</td><td>289.701694</td><td>19.610454</td><td>2614</td><td>19</td><td>18</td><td>48.4066</td><td>1400</td><td>19</td><td>36</td><td>37.634</td><td>2000</td><td>1985.035</td><td>289.70170159600</td><td>19.61047778100</td><td>0.001</td><td>0.001</td><td>0</td><td>4516549576568929408</td><td>289.70170177049</td><td>0.0348</td><td>19.61048329520</td><td>0.0420</td><td>3.6149</td><td>0.0490</td><td>0.038</td><td>0.072</td><td>1.281</td><td>0.082</td><td>0</td><td>4.91149e+07</td><td>8.43481e+04</td><td>6.460333</td><td>3.48530e+07</td><td>1.12657e+05</td><td>6.495787</td><td>2.18791e+07</td><td>1.60806e+05</td><td>6.411845</td><td>0.083942</td><td>--</td><td>--</td><td>8964.00</td><td>0.3717</td><td>0.1407</td><td>--</td><td>--</td></tr>\n",
       "<tr><td>0.300889</td><td>58</td><td>183.336293</td><td>-9.079694</td><td>2664</td><td>12</td><td>13</td><td>20.7102</td><td>1400</td><td>-9</td><td>4</td><td>46.898</td><td>2000</td><td>1989.0039</td><td>183.33620971000</td><td>-9.07967912703</td><td>0.002</td><td>0.001</td><td>90</td><td>3582095053777917952</td><td>183.33616398616</td><td>0.0517</td><td>-9.07968396996</td><td>0.0511</td><td>6.8862</td><td>0.0655</td><td>-10.487</td><td>0.097</td><td>-1.125</td><td>0.085</td><td>0</td><td>5.18626e+06</td><td>1.46836e+04</td><td>8.901229</td><td>2.04615e+06</td><td>1.82222e+04</td><td>9.574042</td><td>4.46426e+06</td><td>3.50160e+04</td><td>8.137546</td><td>1.436497</td><td>--</td><td>--</td><td>4516.87</td><td>--</td><td>--</td><td>3.83</td><td>5.508</td></tr>\n",
       "<tr><td>0.489263</td><td>59</td><td>65.495121</td><td>28.301925</td><td>2908</td><td>4</td><td>21</td><td>58.829</td><td>1500</td><td>28</td><td>18</td><td>6.93</td><td>2000</td><td>1985.036</td><td>65.49520117660</td><td>28.30180886530</td><td>0.002</td><td>0.001</td><td>90</td><td>164536250037820160</td><td>65.49524523901</td><td>0.0496</td><td>28.30169526304</td><td>0.0234</td><td>7.6728</td><td>0.0516</td><td>9.011</td><td>0.115</td><td>-26.385</td><td>0.072</td><td>1</td><td>5.71633e+06</td><td>5.50335e+03</td><td>8.795573</td><td>2.72552e+06</td><td>8.29141e+03</td><td>9.262766</td><td>4.24291e+06</td><td>9.59893e+03</td><td>8.192760</td><td>1.070006</td><td>--</td><td>--</td><td>5082.89</td><td>--</td><td>--</td><td>2.63</td><td>4.163</td></tr>\n",
       "<tr><td>2.230227</td><td>60</td><td>100.328097</td><td>82.267933</td><td>3003</td><td>6</td><td>41</td><td>18.7432</td><td>9950</td><td>82</td><td>16</td><td>4.557</td><td>2000</td><td>1986.299</td><td>100.32950868300</td><td>82.26734332750</td><td>0.001</td><td>0.001</td><td>90</td><td>1143477013259041920</td><td>100.33090212155</td><td>0.0317</td><td>82.26669193702</td><td>0.0345</td><td>11.7771</td><td>0.0396</td><td>43.546</td><td>0.059</td><td>-151.291</td><td>0.057</td><td>0</td><td>4.11259e+06</td><td>2.85551e+04</td><td>9.153077</td><td>2.08017e+06</td><td>4.80651e+04</td><td>9.556139</td><td>2.90186e+06</td><td>5.55393e+04</td><td>8.605229</td><td>0.950910</td><td>--</td><td>--</td><td>5344.75</td><td>0.4022</td><td>0.2010</td><td>1.29</td><td>1.219</td></tr>\n",
       "<tr><td>0.270972</td><td>61</td><td>109.103084</td><td>73.332552</td><td>3004</td><td>7</td><td>16</td><td>24.7401</td><td>4600</td><td>73</td><td>19</td><td>57.187</td><td>2000</td><td>1986.299</td><td>109.10307650500</td><td>73.33247676080</td><td>0.001</td><td>0.001</td><td>0</td><td>1112113066119992064</td><td>109.10304495405</td><td>0.0193</td><td>73.33240587155</td><td>0.0294</td><td>2.1071</td><td>0.0345</td><td>-2.102</td><td>0.041</td><td>-16.465</td><td>0.049</td><td>0</td><td>1.98095e+06</td><td>5.43444e+03</td><td>9.946182</td><td>9.44906e+05</td><td>7.19198e+03</td><td>10.412916</td><td>1.47273e+06</td><td>1.09935e+04</td><td>9.341610</td><td>1.071306</td><td>--</td><td>--</td><td>5320.74</td><td>--</td><td>--</td><td>5.05</td><td>18.402</td></tr>\n",
       "</table>"
      ],
      "text/plain": [
       "<Table masked=True length=54>\n",
       "  col1    col2    col3       col4    ...      col46        col47      col48  \n",
       "  str8    str5   str10      str10    ...      str15        str10       str9  \n",
       "-------- ----- ---------- ---------- ... --------------- ---------- ---------\n",
       " angDist index         ra        dec ... e_bp_min_rp_val radius_val   lum_val\n",
       "0.988223     1  19.229407   6.811601 ...          0.2670       1.26     1.161\n",
       "0.160677     2  40.132025  61.229322 ...              --      26.91   398.622\n",
       "0.082386     3  47.042201  40.955654 ...              --         --        --\n",
       "0.027158     4  47.042218  40.955644 ...              --         --        --\n",
       "1.815230     5   51.64725  28.715545 ...              --       3.47     6.295\n",
       "2.706836     7  54.197184     0.5885 ...              --       3.20     4.499\n",
       "2.634226     8   54.19721   0.588474 ...              --       3.20     4.499\n",
       "1.327164     9  64.560573  50.295789 ...          0.1710         --        --\n",
       "0.367271    11  85.165377 -20.298759 ...          0.0382      10.32    51.163\n",
       "     ...   ...        ...        ... ...             ...        ...       ...\n",
       "0.110707    52 329.163142  63.625572 ...          0.4210     365.62 17959.402\n",
       "0.541398    53  42.231277  69.634139 ...          0.2660       1.76    10.732\n",
       "2.918443    54 109.866771 -16.394719 ...          0.4745       1.84     7.630\n",
       "1.020780    55 225.243389  -8.518904 ...          0.1920         --        --\n",
       "0.163740    56 240.420999  66.802823 ...              --     151.61  5714.161\n",
       "0.089403    57 289.701694  19.610454 ...          0.1407         --        --\n",
       "0.300889    58 183.336293  -9.079694 ...              --       3.83     5.508\n",
       "0.489263    59  65.495121  28.301925 ...              --       2.63     4.163\n",
       "2.230227    60 100.328097  82.267933 ...          0.2010       1.29     1.219\n",
       "0.270972    61 109.103084  73.332552 ...              --       5.05    18.402"
      ]
     },
     "execution_count": 12,
     "metadata": {},
     "output_type": "execute_result"
    }
   ],
   "source": [
    "data"
   ]
  },
  {
   "cell_type": "code",
   "execution_count": 13,
   "metadata": {
    "collapsed": true
   },
   "outputs": [],
   "source": [
    "# plotting RA, DEC and errors (NB erros are in seconds e-6)\n",
    "ra_col = np.array(data[2][:])\n",
    "ra_err = np.array(data[8][:])\n",
    "dec_col = np.array(data[3][:])\n",
    "dec_err = np.array(data[12][:])"
   ]
  },
  {
   "cell_type": "code",
   "execution_count": 14,
   "metadata": {
    "collapsed": true
   },
   "outputs": [],
   "source": [
    "theta_col = np.array(data[0][:])"
   ]
  },
  {
   "cell_type": "code",
   "execution_count": 15,
   "metadata": {},
   "outputs": [
    {
     "data": {
      "text/plain": [
       "array(['angDist', '0.988223', '0.160677', '0.082386', '0.027158',\n",
       "       '1.815230', '2.706836', '2.634226', '1.327164', '0.367271',\n",
       "       '0.146401', '0.110558', '0.138199', '1.029788', '0.818392',\n",
       "       '0.778120', '0.386252', '1.014459', '0.989220', '1.545911',\n",
       "       '1.418354', '0.457415', '0.804976', '1.376842', '0.152577',\n",
       "       '0.053549', '0.114184', '1.612443', '0.117737', '0.104265',\n",
       "       '0.072266', '1.059032', '1.239698', '0.460953', '0.321559',\n",
       "       '1.523022', '0.166660', '0.135677', '2.614998', '2.072372',\n",
       "       '0.357686', '0.873107', '0.119005', '1.848248', '0.110707',\n",
       "       '0.541398', '2.918443', '1.020780', '0.163740', '0.089403',\n",
       "       '0.300889', '0.489263', '2.230227', '0.270972'],\n",
       "      dtype='|S8')"
      ]
     },
     "execution_count": 15,
     "metadata": {},
     "output_type": "execute_result"
    }
   ],
   "source": [
    "theta_col"
   ]
  },
  {
   "cell_type": "code",
   "execution_count": 16,
   "metadata": {
    "collapsed": true
   },
   "outputs": [],
   "source": [
    "# plotting RA, DEC and errors\n",
    "ra_col =  ra_col[1:].astype(\"float64\")\n",
    "ra_err = ra_err[1:].astype(\"float64\")*1e-6*0.00028\n",
    "dec_col = dec_col[1:].astype(\"float64\")\n",
    "dec_err = dec_err[1:].astype(\"float64\")*1e-5*0.00028"
   ]
  },
  {
   "cell_type": "code",
   "execution_count": 17,
   "metadata": {
    "collapsed": true
   },
   "outputs": [],
   "source": [
    "theta_col = theta_col[1:].astype(\"float64\")"
   ]
  },
  {
   "cell_type": "code",
   "execution_count": 18,
   "metadata": {
    "collapsed": true
   },
   "outputs": [],
   "source": [
    "# plotting RA, DEC and errors from GAIA sources\n",
    "Gra_col = np.array(data[20][:])\n",
    "Gra_err = np.array(data[21][:])\n",
    "Gdec_col = np.array(data[22][:])\n",
    "Gdec_err = np.array(data[23][:])"
   ]
  },
  {
   "cell_type": "code",
   "execution_count": 19,
   "metadata": {},
   "outputs": [
    {
     "data": {
      "text/plain": [
       "array([  5.60000000e-06,   1.96000000e-05,   1.40000000e-06,\n",
       "         5.60000000e-06,   1.40000000e-06,   1.40000000e-05,\n",
       "         1.40000000e-06,   5.60000000e-06,   5.60000000e-06,\n",
       "         1.68000000e-05,   5.60000000e-06,   5.60000000e-06,\n",
       "         2.80000000e-06,   8.40000000e-06,   5.60000000e-06,\n",
       "         5.60000000e-06,   2.80000000e-06,   5.60000000e-06,\n",
       "         2.80000000e-06,   5.60000000e-07,   5.60000000e-06,\n",
       "         5.60000000e-06,   5.60000000e-06,   1.96000000e-05,\n",
       "         5.60000000e-06,   2.80000000e-06,   5.60000000e-06,\n",
       "         2.52000000e-06,   2.80000000e-06,   5.60000000e-06,\n",
       "         5.60000000e-06,   2.80000000e-06,   2.80000000e-06,\n",
       "         1.12000000e-05,   1.96000000e-05,   5.60000000e-06,\n",
       "         5.60000000e-06,   5.60000000e-06,   5.60000000e-06,\n",
       "         5.60000000e-06,   5.60000000e-06,   5.60000000e-06,\n",
       "         5.60000000e-06,   5.60000000e-06,   5.60000000e-06,\n",
       "         5.60000000e-06,   5.60000000e-06,   5.60000000e-06,\n",
       "         5.60000000e-06,   5.60000000e-06,   5.60000000e-06,\n",
       "         5.60000000e-06,   5.60000000e-06])"
      ]
     },
     "execution_count": 19,
     "metadata": {},
     "output_type": "execute_result"
    }
   ],
   "source": [
    "dec_err"
   ]
  },
  {
   "cell_type": "code",
   "execution_count": 20,
   "metadata": {
    "collapsed": true
   },
   "outputs": [],
   "source": [
    "# plotting RA, DEC and errors\n",
    "Gra_col =  Gra_col[1:].astype(\"float64\")\n",
    "Gra_err = Gra_err[1:].astype(\"float64\")\n",
    "Gdec_col = Gdec_col[1:].astype(\"float64\")\n",
    "Gdec_err = Gdec_err[1:].astype(\"float64\")"
   ]
  },
  {
   "cell_type": "code",
   "execution_count": 21,
   "metadata": {},
   "outputs": [
    {
     "data": {
      "text/plain": [
       "array([ 0.0363,  0.03  ,  9.9666,  9.9666,  0.1572,  0.0542,  0.0542,\n",
       "        0.2573,  0.0432,  0.0428,  0.0411,  0.1576,  0.0322,  0.0328,\n",
       "        0.0268,  0.0365,  0.0253,  0.0223,  0.0947,  0.0947,  0.0702,\n",
       "        0.0245,  0.0443,  0.078 ,  0.1712,  0.3021,  0.0998,  0.0291,\n",
       "        0.0302,  0.0485,  0.0264,  0.0227,  0.0535,  0.0535,  0.0202,\n",
       "        0.1322,  0.0899,  0.0273,  0.0226,  0.0294,  0.212 ,  0.0266,\n",
       "        0.0354,  0.2156,  0.0383,  0.0538,  0.2382,  0.0246,  0.042 ,\n",
       "        0.0511,  0.0234,  0.0345,  0.0294])"
      ]
     },
     "execution_count": 21,
     "metadata": {},
     "output_type": "execute_result"
    }
   ],
   "source": [
    "Gdec_err"
   ]
  },
  {
   "cell_type": "code",
   "execution_count": 23,
   "metadata": {},
   "outputs": [
    {
     "data": {
      "text/plain": [
       "Text(0.5,1,u'61 Radio stars in Gaia')"
      ]
     },
     "execution_count": 23,
     "metadata": {},
     "output_type": "execute_result"
    },
    {
     "data": {
      "image/png": "[encoded data removed]",
      "text/plain": [
       "<matplotlib.figure.Figure at 0x105e47d10>"
      ]
     },
     "metadata": {
      "image/png": {
       "height": 155,
       "width": 240
      }
     },
     "output_type": "display_data"
    }
   ],
   "source": [
    "plt.figure()\n",
    "plt.errorbar(Gdec_col, Gra_col, xerr=Gdec_err, yerr=Gra_err, fmt='o', color = \"C1\")\n",
    "plt.errorbar(dec_col, ra_col, xerr=dec_err, yerr=ra_err, fmt='x', color=\"C0\")\n",
    "\n",
    "\n",
    "plt.xlabel(\"DECJ\")\n",
    "plt.ylabel(\"RAJ\")\n",
    "plt.tight_layout()\n",
    "plt.title(\"61 Radio stars in Gaia\")\n",
    "#plt.xlim(-20,-20.5)\n",
    "#plt.ylim(90,105)\n",
    "#plt.savefig(\"xmatched_radioStars.pdf\")"
   ]
  },
  {
   "cell_type": "code",
   "execution_count": null,
   "metadata": {
    "collapsed": true
   },
   "outputs": [],
   "source": [
    "#NB star with large error bars has no parallax measurement."
   ]
  },
  {
   "cell_type": "code",
   "execution_count": null,
   "metadata": {
    "collapsed": true
   },
   "outputs": [],
   "source": []
  },
  {
   "cell_type": "code",
   "execution_count": 24,
   "metadata": {
    "collapsed": true
   },
   "outputs": [],
   "source": [
    "def ang_dist(alpha1, alpha2, delta1, delta2):\n",
    "    \"\"\"\n",
    "    RA (alpha) and DEC (delta) are both in radians.\n",
    "    returns angular distance in arcseconds.\n",
    "    \"\"\"\n",
    "    alpha1 = alpha1*pi/180\n",
    "    alpha2 = alpha2*pi/180\n",
    "    delta1 = delta1*pi/180\n",
    "    delta2 = delta2*pi/180\n",
    "\n",
    "    arg = sin(delta1)*sin(delta2)+cos(delta1)*cos(delta2)*cos(alpha1-alpha2)\n",
    "    theta = arccos(arg)*180/pi*3600\n",
    "    return theta\n"
   ]
  },
  {
   "cell_type": "code",
   "execution_count": 25,
   "metadata": {},
   "outputs": [
    {
     "data": {
      "text/plain": [
       "2.3421505198267427"
      ]
     },
     "execution_count": 25,
     "metadata": {},
     "output_type": "execute_result"
    }
   ],
   "source": [
    "ang_dist(19.229407, 19.23003292458, 6.811601, 6.81179337307)"
   ]
  },
  {
   "cell_type": "code",
   "execution_count": 26,
   "metadata": {
    "collapsed": true
   },
   "outputs": [],
   "source": [
    "theta_lst=[]"
   ]
  },
  {
   "cell_type": "code",
   "execution_count": 27,
   "metadata": {
    "collapsed": true
   },
   "outputs": [],
   "source": [
    "for x in range(len(ra_col)):\n",
    "    theta_lst.append(ang_dist(ra_col[x], Gra_col[x], dec_col[x], Gdec_col[x]))"
   ]
  },
  {
   "cell_type": "code",
   "execution_count": 28,
   "metadata": {
    "collapsed": true
   },
   "outputs": [],
   "source": [
    "frac_diff = (theta_lst - theta_col)/theta_col"
   ]
  },
  {
   "cell_type": "code",
   "execution_count": 29,
   "metadata": {},
   "outputs": [
    {
     "data": {
      "text/plain": [
       "[<matplotlib.lines.Line2D at 0x1115f9590>]"
      ]
     },
     "execution_count": 29,
     "metadata": {},
     "output_type": "execute_result"
    },
    {
     "data": {
      "image/png": "[encoded data removed]",
      "text/plain": [
       "<matplotlib.figure.Figure at 0x1113db3d0>"
      ]
     },
     "metadata": {
      "image/png": {
       "height": 147,
       "width": 225
      }
     },
     "output_type": "display_data"
    }
   ],
   "source": [
    "plt.plot(frac_diff)"
   ]
  },
  {
   "cell_type": "code",
   "execution_count": 30,
   "metadata": {},
   "outputs": [
    {
     "data": {
      "image/png": "[encoded data removed]",
      "text/plain": [
       "<matplotlib.figure.Figure at 0x1113db310>"
      ]
     },
     "metadata": {
      "image/png": {
       "height": 147,
       "width": 240
      }
     },
     "output_type": "display_data"
    }
   ],
   "source": [
    "plt.scatter(ra_col, frac_diff)\n",
    "plt.xlabel(\"RAJ (deg)\")\n",
    "plt.ylabel(\"fractional difference\")\n",
    "plt.tight_layout()\n",
    "#plt.savefig(\"frac_diff_RAJ.pdf\")"
   ]
  },
  {
   "cell_type": "code",
   "execution_count": 31,
   "metadata": {},
   "outputs": [
    {
     "data": {
      "image/png": "[encoded data removed]",
      "text/plain": [
       "<matplotlib.figure.Figure at 0x1113db8d0>"
      ]
     },
     "metadata": {
      "image/png": {
       "height": 147,
       "width": 240
      }
     },
     "output_type": "display_data"
    }
   ],
   "source": [
    "plt.scatter(dec_col, frac_diff)\n",
    "plt.xlabel(\"DECJ (deg)\")\n",
    "plt.ylabel(\"fractional difference\")\n",
    "plt.tight_layout()\n",
    "#plt.savefig(\"frac_diff_DEC.pdf\")"
   ]
  },
  {
   "cell_type": "code",
   "execution_count": 35,
   "metadata": {},
   "outputs": [
    {
     "data": {
      "image/png": "[encoded data removed]",
      "text/plain": [
       "<matplotlib.figure.Figure at 0x11194be10>"
      ]
     },
     "metadata": {
      "image/png": {
       "height": 147,
       "width": 240
      }
     },
     "output_type": "display_data"
    }
   ],
   "source": [
    "plt.scatter(theta_lst, theta_col)\n",
    "plt.scatter(theta_lst, gline, color = \"C1\")\n",
    "plt.xlabel(r\"angular distance (arcsec), this work\")\n",
    "plt.ylabel(r\"angular distance (arsec), cross-match\")\n",
    "plt.tight_layout()\n",
    "#plt.savefig(\"frac_diff_usVsXmatch.pdf\")"
   ]
  },
  {
   "cell_type": "code",
   "execution_count": 33,
   "metadata": {
    "collapsed": true
   },
   "outputs": [],
   "source": []
  },
  {
   "cell_type": "code",
   "execution_count": null,
   "metadata": {
    "collapsed": true
   },
   "outputs": [],
   "source": []
  },
  {
   "cell_type": "code",
   "execution_count": 92,
   "metadata": {},
   "outputs": [
    {
     "data": {
      "text/plain": [
       "<matplotlib.collections.PathCollection at 0x11d730a90>"
      ]
     },
     "execution_count": 92,
     "metadata": {},
     "output_type": "execute_result"
    },
    {
     "name": "stderr",
     "output_type": "stream",
     "text": [
      "/anaconda2/envs/py36/lib/python3.6/site-packages/matplotlib/font_manager.py:1328: UserWarning: findfont: Font family ['serif'] not found. Falling back to DejaVu Sans\n",
      "  (prop.get_family(), self.defaultFamily[fontext]))\n"
     ]
    },
    {
     "data": {
      "image/png": "[encoded data removed]",
      "text/plain": [
       "<Figure size 244.354x151.019 with 1 Axes>"
      ]
     },
     "metadata": {
      "image/png": {
       "height": 147,
       "width": 225
      }
     },
     "output_type": "display_data"
    }
   ],
   "source": [
    "plt.scatter(theta_lst, frac_diff)"
   ]
  },
  {
   "cell_type": "code",
   "execution_count": 93,
   "metadata": {},
   "outputs": [
    {
     "data": {
      "text/plain": [
       "(array([ 5.,  4.,  3.,  2.,  9., 14., 12.,  2.,  1.,  1.]),\n",
       " array([-0.0736883 ,  0.11701857,  0.30772545,  0.49843232,  0.68913919,\n",
       "         0.87984607,  1.07055294,  1.26125981,  1.45196668,  1.64267356,\n",
       "         1.83338043]),\n",
       " <a list of 10 Patch objects>)"
      ]
     },
     "execution_count": 93,
     "metadata": {},
     "output_type": "execute_result"
    },
    {
     "name": "stderr",
     "output_type": "stream",
     "text": [
      "/anaconda2/envs/py36/lib/python3.6/site-packages/matplotlib/font_manager.py:1328: UserWarning: findfont: Font family ['serif'] not found. Falling back to DejaVu Sans\n",
      "  (prop.get_family(), self.defaultFamily[fontext]))\n",
      "/anaconda2/envs/py36/lib/python3.6/site-packages/matplotlib/font_manager.py:1328: UserWarning: findfont: Font family ['serif'] not found. Falling back to DejaVu Sans\n",
      "  (prop.get_family(), self.defaultFamily[fontext]))\n",
      "/anaconda2/envs/py36/lib/python3.6/site-packages/matplotlib/font_manager.py:1328: UserWarning: findfont: Font family ['serif'] not found. Falling back to DejaVu Sans\n",
      "  (prop.get_family(), self.defaultFamily[fontext]))\n"
     ]
    },
    {
     "data": {
      "image/png": "[encoded data removed]",
      "text/plain": [
       "<Figure size 244.354x151.019 with 1 Axes>"
      ]
     },
     "metadata": {
      "image/png": {
       "height": 147,
       "width": 223
      }
     },
     "output_type": "display_data"
    }
   ],
   "source": [
    "plt.hist(frac_diff)"
   ]
  },
  {
   "cell_type": "markdown",
   "metadata": {},
   "source": [
    "# J1955+2908"
   ]
  },
  {
   "cell_type": "code",
   "execution_count": null,
   "metadata": {
    "collapsed": true
   },
   "outputs": [],
   "source": [
    "# GAIA theta = 0.153068\n",
    "# dist = 1739.64867812642"
   ]
  },
  {
   "cell_type": "code",
   "execution_count": null,
   "metadata": {
    "collapsed": true
   },
   "outputs": [],
   "source": [
    "semi_a(0.116353,3.532103245563161*1000) # size of semimajor axis in AU based on pulsar distance (DM) and theta from GAIA"
   ]
  },
  {
   "cell_type": "code",
   "execution_count": null,
   "metadata": {
    "collapsed": true
   },
   "outputs": [],
   "source": [
    "kep_a(117,1.5)"
   ]
  },
  {
   "cell_type": "code",
   "execution_count": null,
   "metadata": {
    "collapsed": true
   },
   "outputs": [],
   "source": [
    "# parallax and error are 0.6034, 0.1942\n",
    "d_est = 1/0.6034"
   ]
  },
  {
   "cell_type": "code",
   "execution_count": null,
   "metadata": {
    "collapsed": true
   },
   "outputs": [],
   "source": [
    "sigma_d = (1/0.1942)/d_est**2 "
   ]
  },
  {
   "cell_type": "code",
   "execution_count": null,
   "metadata": {
    "collapsed": true
   },
   "outputs": [],
   "source": [
    "sigma_d "
   ]
  },
  {
   "cell_type": "code",
   "execution_count": null,
   "metadata": {
    "collapsed": true
   },
   "outputs": [],
   "source": [
    "d_est + sigma_d"
   ]
  },
  {
   "cell_type": "markdown",
   "metadata": {},
   "source": [
    "# J1012+5307"
   ]
  },
  {
   "cell_type": "code",
   "execution_count": null,
   "metadata": {
    "collapsed": true
   },
   "outputs": [],
   "source": [
    "semi_a(0.071544965,0.734400211678976)"
   ]
  },
  {
   "cell_type": "code",
   "execution_count": null,
   "metadata": {
    "collapsed": true
   },
   "outputs": [],
   "source": [
    "kep_a(0.6,1.5)"
   ]
  },
  {
   "cell_type": "markdown",
   "metadata": {},
   "source": [
    "# J0437-4715"
   ]
  },
  {
   "cell_type": "code",
   "execution_count": null,
   "metadata": {
    "collapsed": true
   },
   "outputs": [],
   "source": [
    "semi_a(0.071544965,0.121088886192142)"
   ]
  },
  {
   "cell_type": "code",
   "execution_count": null,
   "metadata": {
    "collapsed": true
   },
   "outputs": [],
   "source": [
    "kep_a(5.7,1.5)"
   ]
  },
  {
   "cell_type": "code",
   "execution_count": null,
   "metadata": {
    "collapsed": true
   },
   "outputs": [],
   "source": []
  },
  {
   "cell_type": "markdown",
   "metadata": {},
   "source": [
    "# J1744-1134"
   ]
  },
  {
   "cell_type": "code",
   "execution_count": null,
   "metadata": {
    "collapsed": true
   },
   "outputs": [],
   "source": [
    "semi_a(1.971,3.18833137078074) "
   ]
  },
  {
   "cell_type": "code",
   "execution_count": null,
   "metadata": {
    "collapsed": true
   },
   "outputs": [],
   "source": [
    "kep_P(6,1.6) # days"
   ]
  },
  {
   "cell_type": "code",
   "execution_count": null,
   "metadata": {
    "collapsed": true
   },
   "outputs": [],
   "source": [
    "kep_P(6,1.6)/365 # years"
   ]
  },
  {
   "cell_type": "code",
   "execution_count": null,
   "metadata": {
    "collapsed": true
   },
   "outputs": [],
   "source": [
    "# Could be in a 4,000 day orbit."
   ]
  },
  {
   "cell_type": "markdown",
   "metadata": {},
   "source": [
    "# J1843-1113"
   ]
  },
  {
   "cell_type": "code",
   "execution_count": null,
   "metadata": {
    "collapsed": true
   },
   "outputs": [],
   "source": [
    "t2 = semi_a(1.485199,2.84349320264736)"
   ]
  },
  {
   "cell_type": "code",
   "execution_count": null,
   "metadata": {
    "collapsed": true
   },
   "outputs": [],
   "source": [
    "t2"
   ]
  },
  {
   "cell_type": "code",
   "execution_count": null,
   "metadata": {
    "collapsed": true
   },
   "outputs": [],
   "source": [
    "kep_P(t2,1.6) # days "
   ]
  },
  {
   "cell_type": "code",
   "execution_count": null,
   "metadata": {
    "collapsed": true
   },
   "outputs": [],
   "source": [
    "kep_P(t2,1.6)/365 # years"
   ]
  },
  {
   "cell_type": "code",
   "execution_count": null,
   "metadata": {
    "collapsed": true
   },
   "outputs": [],
   "source": [
    "# Could be in a 2,500 day orbit. Need to follow up with GAIA data parallax measurements"
   ]
  },
  {
   "cell_type": "markdown",
   "metadata": {},
   "source": [
    "# J1939+2134"
   ]
  },
  {
   "cell_type": "code",
   "execution_count": null,
   "metadata": {
    "collapsed": true
   },
   "outputs": [],
   "source": [
    "t1939 = semi_a(2.138534,4.77262010957524)"
   ]
  },
  {
   "cell_type": "code",
   "execution_count": null,
   "metadata": {
    "collapsed": true
   },
   "outputs": [],
   "source": [
    "kep_P(t1939,1.6) # days"
   ]
  },
  {
   "cell_type": "code",
   "execution_count": null,
   "metadata": {
    "collapsed": true
   },
   "outputs": [],
   "source": [
    "kep_P(t1939,1.6)/365 # years"
   ]
  },
  {
   "cell_type": "markdown",
   "metadata": {},
   "source": [
    "# J1910+1256"
   ]
  },
  {
   "cell_type": "code",
   "execution_count": null,
   "metadata": {
    "collapsed": true
   },
   "outputs": [],
   "source": [
    "t1910 = semi_a(2.138534/7218, 4.77262010957524)"
   ]
  },
  {
   "cell_type": "code",
   "execution_count": null,
   "metadata": {
    "collapsed": true
   },
   "outputs": [],
   "source": [
    "kep_a(t1910,1.5)"
   ]
  },
  {
   "cell_type": "code",
   "execution_count": null,
   "metadata": {
    "collapsed": true
   },
   "outputs": [],
   "source": [
    "t1910"
   ]
  },
  {
   "cell_type": "code",
   "execution_count": null,
   "metadata": {
    "collapsed": true
   },
   "outputs": [],
   "source": [
    "# So if I need to divide 1910 by 7200, and 1955 by 412, what is correct for 1910??"
   ]
  },
  {
   "cell_type": "code",
   "execution_count": null,
   "metadata": {
    "collapsed": true
   },
   "outputs": [],
   "source": [
    "# Could be in ~1,000 - 30,000 year orbit or longer"
   ]
  },
  {
   "cell_type": "code",
   "execution_count": null,
   "metadata": {
    "collapsed": true
   },
   "outputs": [],
   "source": []
  }
 ],
 "metadata": {
  "kernelspec": {
   "display_name": "Python 3",
   "language": "python",
   "name": "python3"
  },
  "language_info": {
   "codemirror_mode": {
    "name": "ipython",
    "version": 3
   },
   "file_extension": ".py",
   "mimetype": "text/x-python",
   "name": "python",
   "nbconvert_exporter": "python",
   "pygments_lexer": "ipython3",
   "version": "3.6.5"
  }
 },
 "nbformat": 4,
 "nbformat_minor": 2
}
