{
 "cells": [
  {
   "cell_type": "code",
   "execution_count": 1,
   "metadata": {},
   "outputs": [],
   "source": [
    "import numpy as np\n",
    "import matplotlib.pyplot as plt\n",
    "from matplotlib.ticker import FormatStrFormatter, LinearLocator, NullFormatter, NullLocator, MultipleLocator\n",
    "import matplotlib.ticker\n",
    "import matplotlib.colors\n",
    "from matplotlib.font_manager import FontProperties\n",
    "from matplotlib import rc, text\n",
    "%matplotlib inline\n",
    "%config InlineBackend.figure_format = \"retina\""
   ]
  },
  {
   "cell_type": "code",
   "execution_count": 2,
   "metadata": {},
   "outputs": [],
   "source": [
    "fig_width_pt = 245.27 #513.17           # Get this from LaTeX using \\showthe\\columnwidth\n",
    "inches_per_pt = 1.0/72.27               # Convert pt to inches\n",
    "golden_mean = (np.sqrt(5)-1.0)/2.0      # Aesthetic ratio\n",
    "fig_width = fig_width_pt*inches_per_pt  # width in inches\n",
    "fig_height =fig_width*golden_mean       # height in inches\n",
    "fig_size = [fig_width,fig_height]\n",
    "\n",
    "params = {'backend': 'pdf',\n",
    "        'axes.labelsize': 7,\n",
    "        'lines.markersize': 2,\n",
    "        'font.size': 7,\n",
    "        'xtick.major.size':6,\n",
    "        'xtick.minor.size':3,  \n",
    "        'ytick.major.size':6,\n",
    "        'ytick.minor.size':3, \n",
    "        'xtick.major.width':0.5,\n",
    "        'ytick.major.width':0.5,\n",
    "        'xtick.minor.width':0.5,\n",
    "        'ytick.minor.width':0.5,\n",
    "        'lines.markeredgewidth':1,\n",
    "        'axes.linewidth':1.0,\n",
    "        'legend.fontsize': 7,\n",
    "        'xtick.labelsize': 7,\n",
    "        'ytick.labelsize': 7,\n",
    "        'savefig.dpi':200,\n",
    "        'path.simplify':True,\n",
    "        'font.family': 'serif',\n",
    "        'font.serif':'Times',\n",
    "        'text.latex.preamble': [r'\\usepackage{amsmath}'],\n",
    "        'text.usetex':True,\n",
    "        #'axes.color_cycle': ['b', 'lime', 'r', 'purple', 'g', 'c', 'm', 'orange', 'darkblue', \\\n",
    "        #                        'darkcyan', 'y','orangered','chartreuse','brown','deeppink','lightgreen', 'k'],\n",
    "        #'font.serif':cm,\n",
    "        'figure.figsize': fig_size}\n",
    "plt.rcParams.update(params)"
   ]
  },
  {
   "cell_type": "code",
   "execution_count": 3,
   "metadata": {},
   "outputs": [],
   "source": [
    "query = \"SELECT TOP 10000 \\\n",
    "phot_g_mean_mag+5*log10(parallax)-10 AS mg, bp_rp FROM gaiadr2.gaia_source \\\n",
    "WHERE parallax_over_error > 20 \\\n",
    "AND phot_g_mean_flux_over_error>50 \\\n",
    "AND phot_rp_mean_flux_over_error>20 \\\n",
    "AND phot_bp_mean_flux_over_error>20 \\\n",
    "AND phot_bp_rp_excess_factor < 1.3+0.06*power(phot_bp_mean_mag-phot_rp_mean_mag,2) \\\n",
    "AND phot_bp_rp_excess_factor > 1.0+0.015*power(phot_bp_mean_mag-phot_rp_mean_mag,2) \\\n",
    "AND visibility_periods_used>8 \\\n",
    "AND astrometric_chi2_al/(astrometric_n_good_obs_al-5)<1.44*greatest(1,exp(-0.4*(phot_g_mean_mag-19.5)))\""
   ]
  },
  {
   "cell_type": "code",
   "execution_count": 4,
   "metadata": {},
   "outputs": [],
   "source": [
    "wd_query = \"SELECT TOP 1000 \\\n",
    "phot_g_mean_mag+5*log10(parallax)-10 AS mg, bp_rp FROM gaiadr2.gaia_source \\\n",
    "WHERE parallax_over_error > 20 \\\n",
    "AND phot_g_mean_flux_over_error>50 \\\n",
    "AND phot_rp_mean_flux_over_error>20 \\\n",
    "AND phot_bp_mean_flux_over_error>20 \\\n",
    "AND phot_bp_rp_excess_factor < 1.3+0.06*power(phot_bp_mean_mag-phot_rp_mean_mag,2) \\\n",
    "AND phot_bp_rp_excess_factor > 1.0+0.015*power(phot_bp_mean_mag-phot_rp_mean_mag,2) \\\n",
    "AND visibility_periods_used>8 \\\n",
    "AND astrometric_chi2_al/(astrometric_n_good_obs_al-5)<1.44*greatest(1,exp(-0.4*(phot_g_mean_mag-19.5))) \\\n",
    "AND bp_rp < 2 \\\n",
    "AND phot_g_mean_mag+5*log10(parallax)-10 > 10+2.6*bp_rp\""
   ]
  },
  {
   "cell_type": "code",
   "execution_count": 5,
   "metadata": {},
   "outputs": [
    {
     "name": "stdout",
     "output_type": "stream",
     "text": [
      "Created TAP+ (v1.0.1) - Connection:\n",
      "\tHost: gea.esac.esa.int\n",
      "\tUse HTTPS: False\n",
      "\tPort: 80\n",
      "\tSSL Port: 443\n"
     ]
    },
    {
     "name": "stderr",
     "output_type": "stream",
     "text": [
      "WARNING: W35: None:5:0: W35: 'value' attribute required for INFO elements [astropy.io.votable.tree]\n",
      "WARNING: W35: None:6:0: W35: 'value' attribute required for INFO elements [astropy.io.votable.tree]\n",
      "WARNING: W35: None:7:0: W35: 'value' attribute required for INFO elements [astropy.io.votable.tree]\n",
      "WARNING: W35: None:8:0: W35: 'value' attribute required for INFO elements [astropy.io.votable.tree]\n",
      "WARNING: W35: None:10:0: W35: 'value' attribute required for INFO elements [astropy.io.votable.tree]\n",
      "WARNING: W06: None:14:0: W06: Invalid UCD 'phot.color': Unknown word 'phot.color' [astropy.io.votable.tree]\n"
     ]
    }
   ],
   "source": [
    "from astroquery.gaia import Gaia\n",
    "job = Gaia.launch_job(wd_query)\n",
    "data = job.get_results()"
   ]
  },
  {
   "cell_type": "code",
   "execution_count": 6,
   "metadata": {},
   "outputs": [
    {
     "data": {
      "text/plain": [
       "(17, -2)"
      ]
     },
     "execution_count": 6,
     "metadata": {},
     "output_type": "execute_result"
    },
    {
     "name": "stderr",
     "output_type": "stream",
     "text": [
      "/anaconda2/envs/py3/lib/python3.6/site-packages/matplotlib/font_manager.py:1328: UserWarning: findfont: Font family ['serif'] not found. Falling back to DejaVu Sans\n",
      "  (prop.get_family(), self.defaultFamily[fontext]))\n",
      "/anaconda2/envs/py3/lib/python3.6/site-packages/matplotlib/font_manager.py:1328: UserWarning: findfont: Font family ['serif'] not found. Falling back to DejaVu Sans\n",
      "  (prop.get_family(), self.defaultFamily[fontext]))\n"
     ]
    },
    {
     "data": {
      "image/png": "[encoded data removed]",
      "text/plain": [
       "<Figure size 244.354x151.019 with 1 Axes>"
      ]
     },
     "metadata": {
      "image/png": {
       "height": 147,
       "width": 230
      }
     },
     "output_type": "display_data"
    }
   ],
   "source": [
    "fig, ax1 = plt.subplots()\n",
    "ax1.scatter(data['bp_rp'], data['mg'])\n",
    "ax1.set_xlim([-1,3])\n",
    "ax1.set_ylim([17,-2])"
   ]
  },
  {
   "cell_type": "code",
   "execution_count": 7,
   "metadata": {},
   "outputs": [],
   "source": [
    "pulsar_data = np.genfromtxt('ipta_3arcsec_wpm-result.csv', \n",
    "                            delimiter=',', names=True, dtype=None, encoding=None)"
   ]
  },
  {
   "cell_type": "code",
   "execution_count": 8,
   "metadata": {},
   "outputs": [],
   "source": [
    "from astropy.table import Table, unique\n",
    "pulsar_data = Table(pulsar_data)\n",
    "pulsar_data.sort(['names', 'angdist'])\n",
    "pulsar_data = unique(pulsar_data, keys='names') # drop less-good duplicate matches"
   ]
  },
  {
   "cell_type": "code",
   "execution_count": 9,
   "metadata": {},
   "outputs": [],
   "source": [
    "names_keep = ['J0437-4715', 'J1012+5307', 'J1024-0719', 'J1732-5049', 'J1910+1256', 'J1955+2908']\n",
    "pulsar_data = pulsar_data[np.isin(pulsar_data['names'], names_keep)] # keep only the sources we wrote about"
   ]
  },
  {
   "cell_type": "code",
   "execution_count": 10,
   "metadata": {},
   "outputs": [],
   "source": [
    "pulsar_data['mg'] = pulsar_data['phot_g_mean_mag'] \\\n",
    "                    - 5.*np.log10(pulsar_data['r_est']/1.e3) - 5.\n",
    "pulsar_data['mg_lo'] = pulsar_data['phot_g_mean_mag'] \\\n",
    "                    - 5.*np.log10(pulsar_data['r_hi']/1.e3) - 5.\n",
    "pulsar_data['mg_hi'] = pulsar_data['phot_g_mean_mag'] \\\n",
    "                    - 5.*np.log10(pulsar_data['r_lo']/1.e3) - 5."
   ]
  },
  {
   "cell_type": "code",
   "execution_count": 11,
   "metadata": {},
   "outputs": [],
   "source": [
    "mg_err = np.vstack((np.abs(pulsar_data['mg_lo'] - pulsar_data['mg']), \n",
    "                    np.abs(pulsar_data['mg_hi'] - pulsar_data['mg'])))"
   ]
  },
  {
   "cell_type": "code",
   "execution_count": 27,
   "metadata": {},
   "outputs": [
    {
     "data": {
      "text/html": [
       "<i>Table length=6</i>\n",
       "<table id=\"table34865963920\" class=\"table-striped table-bordered table-condensed\">\n",
       "<thead><tr><th>names</th><th>bp_rp</th><th>mg</th></tr></thead>\n",
       "<thead><tr><th>str11</th><th>float64</th><th>float64</th></tr></thead>\n",
       "<tr><td>J0437-4715</td><td>1.5482254</td><td>19.993852577575694</td></tr>\n",
       "<tr><td>J1012+5307</td><td>0.27422142</td><td>15.295923033080037</td></tr>\n",
       "<tr><td>J1024-0719</td><td>1.8346329</td><td>13.660346326324227</td></tr>\n",
       "<tr><td>J1732-5049</td><td>1.0322933</td><td>12.892276783218502</td></tr>\n",
       "<tr><td>J1910+1256</td><td>1.3901577</td><td>12.774463772247447</td></tr>\n",
       "<tr><td>J1955+2908</td><td>2.9197636</td><td>12.509740243102563</td></tr>\n",
       "</table>"
      ],
      "text/plain": [
       "<Table length=6>\n",
       "  names      bp_rp            mg        \n",
       "  str11     float64        float64      \n",
       "---------- ---------- ------------------\n",
       "J0437-4715  1.5482254 19.993852577575694\n",
       "J1012+5307 0.27422142 15.295923033080037\n",
       "J1024-0719  1.8346329 13.660346326324227\n",
       "J1732-5049  1.0322933 12.892276783218502\n",
       "J1910+1256  1.3901577 12.774463772247447\n",
       "J1955+2908  2.9197636 12.509740243102563"
      ]
     },
     "execution_count": 27,
     "metadata": {},
     "output_type": "execute_result"
    }
   ],
   "source": [
    "pulsar_data['names', 'bp_rp','mg']"
   ]
  },
  {
   "cell_type": "code",
   "execution_count": 81,
   "metadata": {},
   "outputs": [],
   "source": [
    "import matplotlib.patheffects as path_effects\n"
   ]
  },
  {
   "cell_type": "code",
   "execution_count": 128,
   "metadata": {},
   "outputs": [
    {
     "name": "stderr",
     "output_type": "stream",
     "text": [
      "/anaconda2/envs/py3/lib/python3.6/site-packages/matplotlib/font_manager.py:1328: UserWarning: findfont: Font family ['serif'] not found. Falling back to DejaVu Sans\n",
      "  (prop.get_family(), self.defaultFamily[fontext]))\n",
      "/anaconda2/envs/py3/lib/python3.6/site-packages/matplotlib/font_manager.py:1328: UserWarning: findfont: Font family ['serif'] not found. Falling back to DejaVu Sans\n",
      "  (prop.get_family(), self.defaultFamily[fontext]))\n"
     ]
    },
    {
     "data": {
      "image/png": "[encoded data removed]",
      "text/plain": [
       "<Figure size 244.354x151.019 with 1 Axes>"
      ]
     },
     "metadata": {
      "image/png": {
       "height": 149,
       "width": 243
      }
     },
     "output_type": "display_data"
    }
   ],
   "source": [
    "fig, ax1 = plt.subplots()\n",
    "ax1.scatter(data['bp_rp'], data['mg'], color='C0', alpha=0.7, s=1)\n",
    "ax1.errorbar(pulsar_data['bp_rp'], pulsar_data['mg'], yerr=mg_err, color='C1', fmt='o')\n",
    "ax1.set_xlim([-.7,3])\n",
    "ax1.set_ylim([22,8])\n",
    "ax1.set_xlabel('Bp - Rp (mag)')\n",
    "ax1.set_ylabel('$M_G$')\n",
    "#for ii in range(6):\n",
    "#    ax1.annotate(pulsar_data['names'][ii], (data['bp_rp'][ii], data['mg'][ii]), color = 'black')\n",
    "ax1.annotate(pulsar_data['names'][0], (1.25, 21.5), color = 'black')\n",
    "ax1.annotate(pulsar_data['names'][1], (-.05, 17), color = 'black')\n",
    "ax1.annotate(pulsar_data['names'][2], (1.55,12.5), color = 'black')\n",
    "ax1.text(0.7, 11.2, pulsar_data['names'][3], color = 'black', weight = 'heavy')\n",
    "#text.set_path_effects([path_effects.Stroke(linewidth=1.5, foreground='white'),\n",
    "#                       path_effects.Normal()])\n",
    "ax1.annotate(pulsar_data['names'][4], (1.2,15.2), color = 'black')\n",
    "ax1.annotate(pulsar_data['names'][5], (2.3, 14.3), color = 'black')\n",
    "\n",
    "\n",
    "\n",
    "plt.tight_layout()\n",
    "plt.savefig(\"../figures/hrd_wLabels.pdf\")"
   ]
  },
  {
   "cell_type": "code",
   "execution_count": 13,
   "metadata": {},
   "outputs": [
    {
     "data": {
      "text/html": [
       "&lt;Column name=&apos;bp_rp&apos; dtype=&apos;float64&apos; length=6&gt;\n",
       "<table>\n",
       "<tr><td>1.5482254</td></tr>\n",
       "<tr><td>0.27422142</td></tr>\n",
       "<tr><td>1.8346329</td></tr>\n",
       "<tr><td>1.0322933</td></tr>\n",
       "<tr><td>1.3901577</td></tr>\n",
       "<tr><td>2.9197636</td></tr>\n",
       "</table>"
      ],
      "text/plain": [
       "<Column name='bp_rp' dtype='float64' length=6>\n",
       " 1.5482254\n",
       "0.27422142\n",
       " 1.8346329\n",
       " 1.0322933\n",
       " 1.3901577\n",
       " 2.9197636"
      ]
     },
     "execution_count": 13,
     "metadata": {},
     "output_type": "execute_result"
    }
   ],
   "source": [
    "pulsar_data['bp_rp']"
   ]
  },
  {
   "cell_type": "code",
   "execution_count": 14,
   "metadata": {},
   "outputs": [
    {
     "data": {
      "text/html": [
       "&lt;Column name=&apos;mg&apos; dtype=&apos;float64&apos; length=6&gt;\n",
       "<table>\n",
       "<tr><td>19.993852577575694</td></tr>\n",
       "<tr><td>15.295923033080037</td></tr>\n",
       "<tr><td>13.660346326324227</td></tr>\n",
       "<tr><td>12.892276783218502</td></tr>\n",
       "<tr><td>12.774463772247447</td></tr>\n",
       "<tr><td>12.509740243102563</td></tr>\n",
       "</table>"
      ],
      "text/plain": [
       "<Column name='mg' dtype='float64' length=6>\n",
       "19.993852577575694\n",
       "15.295923033080037\n",
       "13.660346326324227\n",
       "12.892276783218502\n",
       "12.774463772247447\n",
       "12.509740243102563"
      ]
     },
     "execution_count": 14,
     "metadata": {},
     "output_type": "execute_result"
    }
   ],
   "source": [
    "pulsar_data['mg']"
   ]
  },
  {
   "cell_type": "code",
   "execution_count": 15,
   "metadata": {},
   "outputs": [
    {
     "data": {
      "text/plain": [
       "array([[0.19127389, 0.8051767 , 0.93210953, 1.41544365, 1.27773926,\n",
       "        1.16976828],\n",
       "       [0.17620295, 0.63053132, 0.81358984, 1.79136568, 1.43815823,\n",
       "        0.80025377]])"
      ]
     },
     "execution_count": 15,
     "metadata": {},
     "output_type": "execute_result"
    }
   ],
   "source": [
    "mg_err"
   ]
  },
  {
   "cell_type": "code",
   "execution_count": null,
   "metadata": {},
   "outputs": [],
   "source": []
  }
 ],
 "metadata": {
  "kernelspec": {
   "display_name": "Python 3",
   "language": "python",
   "name": "python3"
  },
  "language_info": {
   "codemirror_mode": {
    "name": "ipython",
    "version": 3
   },
   "file_extension": ".py",
   "mimetype": "text/x-python",
   "name": "python",
   "nbconvert_exporter": "python",
   "pygments_lexer": "ipython3",
   "version": "3.6.5"
  }
 },
 "nbformat": 4,
 "nbformat_minor": 2
}
