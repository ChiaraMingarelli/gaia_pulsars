{
 "cells": [
  {
   "cell_type": "markdown",
   "metadata": {},
   "source": [
    "### FAP tests\n",
    "\n",
    "We are testing against the null hypothesis that the white dwarf found was a chance alignment of a random source that just happened to meet our criteria (i.e. appears co-moving with the pulsar, has properties consistent with being a WD) with the pulsar position on the sky."
   ]
  },
  {
   "cell_type": "code",
   "execution_count": null,
   "metadata": {
    "scrolled": true
   },
   "outputs": [],
   "source": [
    "import numpy as np\n",
    "import matplotlib.pyplot as plt\n",
    "from astropy import units as u\n",
    "from astropy.coordinates import SkyCoord, Angle\n",
    "from astropy.time import Time\n",
    "from astropy.table import Table, unique\n",
    "from tqdm import tqdm\n",
    "from astroquery.gaia import Gaia\n",
    "from scipy.special import erfinv, erfcinv, erf, erfc"
   ]
  },
  {
   "cell_type": "code",
   "execution_count": null,
   "metadata": {
    "scrolled": true
   },
   "outputs": [],
   "source": [
    "pulsar_data = np.genfromtxt('ipta_3arcsec_wpm-result.csv', \n",
    "                            delimiter=',', names=True, dtype=None, encoding=None)"
   ]
  },
  {
   "cell_type": "code",
   "execution_count": null,
   "metadata": {
    "scrolled": true
   },
   "outputs": [],
   "source": [
    "pulsar_data = Table(pulsar_data)\n",
    "pulsar_data.sort(['names', 'angdist'])\n",
    "#pulsar_data = unique(pulsar_data, keys='names') # drop less-good duplicate matches"
   ]
  },
  {
   "cell_type": "markdown",
   "metadata": {},
   "source": [
    "This function will reproduce the cuts that we made to determine which nearby sources were candidate matches and which should be thrown out:\n",
    "\n",
    "**NOTE: absolute magnitude > 7 cut was made relatively arbitrarily to weed out main-sequence stars from white dwarfs - this may need to be changed depending on what criteria we settle on for the paper.**"
   ]
  },
  {
   "cell_type": "code",
   "execution_count": null,
   "metadata": {
    "scrolled": true
   },
   "outputs": [],
   "source": [
    "def make_cuts(tbl, pulsar_pmra, pulsar_pmdec):\n",
    "    # take an astropy table, apply cuts\n",
    "    pmra_tol = 3. * tbl['pmra_error'] # 3 sigma\n",
    "    pmdec_tol = 3. * tbl['pmdec_error'] # 3 sigma\n",
    "    idx = np.isfinite(tbl['parallax']) & (np.abs(tbl['pmra'] - pulsar_pmra) <= pmra_tol) \\\n",
    "            & (np.abs(tbl['pmdec'] - pulsar_pmdec) <= pmdec_tol) \n",
    "#            & ((tbl['phot_g_mean_mag'] + 5.*np.log10(tbl['parallax']) - 10.) >= 5.)\n",
    "    return tbl[idx]"
   ]
  },
  {
   "cell_type": "code",
   "execution_count": null,
   "metadata": {
    "scrolled": true
   },
   "outputs": [],
   "source": []
  },
  {
   "cell_type": "code",
   "execution_count": null,
   "metadata": {
    "scrolled": true
   },
   "outputs": [],
   "source": [
    "make_cuts(pulsar_data, \n",
    "          pulsar_data['pmra_1'], \n",
    "          pulsar_data['pmdec_1'])['names']"
   ]
  },
  {
   "cell_type": "markdown",
   "metadata": {},
   "source": [
    "Now we'll randomize each pulsar's coordinates (within 3 degrees in RA and Dec to reflect the actual crowding in the general sky region) and see how many objects in the new area pass our cuts."
   ]
  },
  {
   "cell_type": "code",
   "execution_count": null,
   "metadata": {
    "scrolled": true
   },
   "outputs": [],
   "source": [
    "pulsars_to_test = make_cuts(pulsar_data, \n",
    "          pulsar_data['pmra_1'], \n",
    "          pulsar_data['pmdec_1']) # just the good matches\n",
    "faps = []\n",
    "N_trials = 10000\n",
    "search_radius = u.Quantity(3.0, u.arcsec)\n",
    "p  = pulsars_to_test[3] # do one pulsar at a time\n",
    "print('calculating FAP for pulsar {0}...'.format(p['names']))\n",
    "n_found = np.zeros(N_trials)\n",
    "for n in tqdm(range(N_trials)):\n",
    "    test_ra = p['ra_1'] + np.random.normal(0., 3.) # randomized within 3 degrees\n",
    "    test_dec = p['dec_1'] + np.random.normal(0., 3.) # randomized within 3 degrees\n",
    "    test_coord = SkyCoord(ra=test_ra, dec=test_dec, unit=(u.degree, u.degree))\n",
    "    j = Gaia.cone_search_async(test_coord, search_radius, verbose=False)\n",
    "    r = j.get_results()\n",
    "    n_found[n] = len(make_cuts(r, p['pmra_1'], p['pmdec_1']))\n",
    "    #print('found FAP of {0} in {1}.'.format(np.sum(n_found > 0), N_trials))\n",
    "    f=open('FAPs/FAP_J1732-5049.txt','ab')\n",
    "    np.savetxt(f,n_found)\n",
    "    f.close()\n",
    "faps.append(np.sum(n_found > 0)/N_trials)\n",
    "    \n",
    "    \n"
   ]
  },
  {
   "cell_type": "code",
   "execution_count": null,
   "metadata": {
    "scrolled": true
   },
   "outputs": [],
   "source": [
    "for p,f in zip(pulsars_to_test, faps):\n",
    "    print(\"{0}: FAP {1}\".format(p['names'], f))"
   ]
  },
  {
   "cell_type": "markdown",
   "metadata": {},
   "source": [
    "# FAP of J1843"
   ]
  },
  {
   "cell_type": "code",
   "execution_count": null,
   "metadata": {
    "scrolled": true
   },
   "outputs": [],
   "source": [
    "foundfile1843 = np.loadtxt(\"FAPs/FAP_J1843-1113.txt\")"
   ]
  },
  {
   "cell_type": "code",
   "execution_count": null,
   "metadata": {
    "scrolled": true
   },
   "outputs": [],
   "source": [
    "FAP_1843 = np.sum(foundfile1843)/len(foundfile1843)"
   ]
  },
  {
   "cell_type": "code",
   "execution_count": null,
   "metadata": {
    "scrolled": false
   },
   "outputs": [],
   "source": [
    "len(foundfile1843)"
   ]
  },
  {
   "cell_type": "code",
   "execution_count": null,
   "metadata": {
    "scrolled": true
   },
   "outputs": [],
   "source": [
    "\"%.2e\"%FAP_1843"
   ]
  },
  {
   "cell_type": "code",
   "execution_count": null,
   "metadata": {
    "scrolled": false
   },
   "outputs": [],
   "source": [
    "print(\"This is a {} detection\".format(erfcinv(FAP_1843)*np.sqrt(2)))"
   ]
  },
  {
   "cell_type": "markdown",
   "metadata": {},
   "source": [
    "# FAP of J0437"
   ]
  },
  {
   "cell_type": "code",
   "execution_count": null,
   "metadata": {
    "scrolled": true
   },
   "outputs": [],
   "source": [
    "foundfile0437 = np.loadtxt(\"FAPs/FAP_J0437.txt\")"
   ]
  },
  {
   "cell_type": "code",
   "execution_count": null,
   "metadata": {
    "scrolled": true
   },
   "outputs": [],
   "source": [
    "\"%.2e\"%(1/len(foundfile0437))"
   ]
  },
  {
   "cell_type": "code",
   "execution_count": null,
   "metadata": {
    "scrolled": true
   },
   "outputs": [],
   "source": [
    "FAP_0437 = np.sum(foundfile0437)/len(foundfile0437)\n",
    "print(FAP_0437)"
   ]
  },
  {
   "cell_type": "code",
   "execution_count": null,
   "metadata": {
    "scrolled": true
   },
   "outputs": [],
   "source": [
    "print(\"This is greater than a {} detection\".format(erfcinv(1/len(foundfile0437))*np.sqrt(2)))"
   ]
  },
  {
   "cell_type": "markdown",
   "metadata": {},
   "source": [
    "# FAP of J1012"
   ]
  },
  {
   "cell_type": "code",
   "execution_count": null,
   "metadata": {
    "scrolled": true
   },
   "outputs": [],
   "source": [
    "foundfile1012 = np.loadtxt(\"FAPs/FAP_J1012.txt\")"
   ]
  },
  {
   "cell_type": "code",
   "execution_count": null,
   "metadata": {
    "scrolled": true
   },
   "outputs": [],
   "source": [
    "\"%.2e\"%len(foundfile1012)"
   ]
  },
  {
   "cell_type": "code",
   "execution_count": null,
   "metadata": {
    "scrolled": true
   },
   "outputs": [],
   "source": [
    "FAP_1012 = np.sum(foundfile1012)/len(foundfile1012)\n",
    "print(FAP_1012)"
   ]
  },
  {
   "cell_type": "code",
   "execution_count": null,
   "metadata": {
    "scrolled": true
   },
   "outputs": [],
   "source": [
    "print(\"This is greater than a {} detection\".format(erfcinv(1/len(foundfile1012))*np.sqrt(2)))"
   ]
  },
  {
   "cell_type": "markdown",
   "metadata": {},
   "source": [
    "# FAP of J1024"
   ]
  },
  {
   "cell_type": "code",
   "execution_count": null,
   "metadata": {
    "scrolled": true
   },
   "outputs": [],
   "source": [
    "foundfile1024 = np.loadtxt(\"FAPs/FAP_J1024.txt\")"
   ]
  },
  {
   "cell_type": "code",
   "execution_count": null,
   "metadata": {
    "scrolled": true
   },
   "outputs": [],
   "source": [
    "FAP_1024 = np.sum(foundfile1024)/len(foundfile1024)\n",
    "print(\"FAP of J1024 is less than {0}\".format(1/len(foundfile1024)))"
   ]
  },
  {
   "cell_type": "code",
   "execution_count": null,
   "metadata": {
    "scrolled": true
   },
   "outputs": [],
   "source": [
    "print(\"This is greater than a {} detection\".format(erfcinv(1/len(foundfile1024))*np.sqrt(2)))"
   ]
  },
  {
   "cell_type": "markdown",
   "metadata": {},
   "source": [
    "# FAP of J1732"
   ]
  },
  {
   "cell_type": "code",
   "execution_count": null,
   "metadata": {
    "scrolled": true
   },
   "outputs": [],
   "source": [
    "foundfile1732 = np.loadtxt(\"FAPs/FAP_J1732-5049.txt\")"
   ]
  },
  {
   "cell_type": "code",
   "execution_count": null,
   "metadata": {
    "scrolled": true
   },
   "outputs": [],
   "source": [
    "FAP_1732 = np.sum(foundfile1732)/len(foundfile1732)\n",
    "print(\"%.2e\"%FAP_1732)"
   ]
  },
  {
   "cell_type": "code",
   "execution_count": null,
   "metadata": {
    "scrolled": true
   },
   "outputs": [],
   "source": [
    "print(\"This is a {} detection\".format(erfcinv(FAP_1732)*np.sqrt(2)))"
   ]
  },
  {
   "cell_type": "markdown",
   "metadata": {},
   "source": [
    "# FAP of J1910"
   ]
  },
  {
   "cell_type": "code",
   "execution_count": null,
   "metadata": {
    "scrolled": true
   },
   "outputs": [],
   "source": [
    "foundfile1910 = np.loadtxt(\"FAPs/FAP_J1910+1256.txt\")"
   ]
  },
  {
   "cell_type": "code",
   "execution_count": null,
   "metadata": {
    "scrolled": true
   },
   "outputs": [],
   "source": [
    "\"%.2e\"%len(foundfile1910)"
   ]
  },
  {
   "cell_type": "code",
   "execution_count": null,
   "metadata": {
    "scrolled": true
   },
   "outputs": [],
   "source": [
    "FAP_1910 = np.sum(foundfile1910)/len(foundfile1910)\n",
    "print(\"%.2e\"%FAP_1910)"
   ]
  },
  {
   "cell_type": "code",
   "execution_count": null,
   "metadata": {
    "scrolled": true
   },
   "outputs": [],
   "source": [
    "print(\"This is a {} detection\".format(erfcinv(FAP_1910)*np.sqrt(2)))"
   ]
  },
  {
   "cell_type": "code",
   "execution_count": null,
   "metadata": {
    "scrolled": true
   },
   "outputs": [],
   "source": []
  }
 ],
 "metadata": {
  "kernelspec": {
   "display_name": "Python 3",
   "language": "python",
   "name": "python3"
  },
  "language_info": {
   "codemirror_mode": {
    "name": "ipython",
    "version": 3
   },
   "file_extension": ".py",
   "mimetype": "text/x-python",
   "name": "python",
   "nbconvert_exporter": "python",
   "pygments_lexer": "ipython3",
   "version": "3.6.5"
  }
 },
 "nbformat": 4,
 "nbformat_minor": 2
}
