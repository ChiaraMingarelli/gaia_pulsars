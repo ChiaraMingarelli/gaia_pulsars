{
 "cells": [
  {
   "cell_type": "code",
   "execution_count": 1,
   "metadata": {},
   "outputs": [],
   "source": [
    "import numpy as np\n",
    "import matplotlib.pyplot as plt\n",
    "import glob\n",
    "from astropy import units as u\n",
    "from astropy.io import ascii\n",
    "from astroquery.xmatch import XMatch\n",
    "from astropy.table import Table, vstack\n",
    "from astropy.coordinates import SkyCoord, ICRS, Galactic, Angle\n",
    "from astropy.time import Time\n",
    "from tqdm import tqdm\n",
    "from scipy.stats import norm\n",
    "import scipy.stats"
   ]
  },
  {
   "cell_type": "code",
   "execution_count": 2,
   "metadata": {},
   "outputs": [],
   "source": [
    "pi = np.pi\n",
    "sin = np.sin\n",
    "cos = np.cos\n",
    "log10 = np.log10\n",
    "sqrt = np.sqrt\n",
    "\n",
    "c=2.99792458*(10**8)\n",
    "G=6.67428*(10**(-11))\n",
    "s_mass=G*(1.98892*10**(30))/(c**3)"
   ]
  },
  {
   "cell_type": "code",
   "execution_count": 3,
   "metadata": {},
   "outputs": [],
   "source": [
    "files = glob.glob('../IPTA_DR1/*/*.par')"
   ]
  },
  {
   "cell_type": "code",
   "execution_count": 4,
   "metadata": {},
   "outputs": [],
   "source": [
    "def hist_weight(lst):\n",
    "    return np.ones_like(lst)/len(lst)\n",
    "\n",
    "def auto_bin(bin_size, min_edge, max_edge):\n",
    "    #bin_size = 0.05; min_edge = -3.5; max_edge = -1\n",
    "    N = (max_edge-min_edge)/bin_size; Nplus1 = N + 1\n",
    "    bin_list = np.linspace(min_edge, max_edge, Nplus1)\n",
    "    return bin_list\n",
    "\n",
    "def ang_dist(alpha1, alpha2, delta1, delta2):\n",
    "    \"\"\"\n",
    "    RA (alpha) and DEC (delta) are both in radians.\n",
    "    returns angular distance in arcseconds.\n",
    "    \"\"\"\n",
    "    alpha1 = alpha1*pi/180\n",
    "    alpha2 = alpha2*pi/180\n",
    "    delta1 = delta1*pi/180\n",
    "    delta2 = delta2*pi/180\n",
    "\n",
    "    arg = sin(delta1)*sin(delta2)+cos(delta1)*cos(delta2)*cos(alpha1-alpha2)\n",
    "    theta = np.arccos(arg)*180/pi*3600\n",
    "    est = np.sqrt(2*(1-arg))\n",
    "    return theta\n",
    "\n",
    "# plotting preamble\n",
    "\n",
    "fig_width_pt = 245.27 #513.17           # Get this from LaTeX using \\showthe\\columnwidth\n",
    "inches_per_pt = 1.0/72.27               # Convert pt to inches\n",
    "golden_mean = (np.sqrt(5)-1.0)/2.0      # Aesthetic ratio\n",
    "fig_width = fig_width_pt*inches_per_pt  # width in inches\n",
    "fig_height =fig_width*golden_mean       # height in inches\n",
    "fig_size = [fig_width,fig_height]\n",
    "\n",
    "params = {'backend': 'pdf',\n",
    "        'axes.labelsize': 7,\n",
    "        'lines.markersize': 2,\n",
    "        'font.size': 7,\n",
    "        'xtick.major.size':6,\n",
    "        'xtick.minor.size':3,  \n",
    "        'ytick.major.size':6,\n",
    "        'ytick.minor.size':3, \n",
    "        'xtick.major.width':0.5,\n",
    "        'ytick.major.width':0.5,\n",
    "        'xtick.minor.width':0.5,\n",
    "        'ytick.minor.width':0.5,\n",
    "        'lines.markeredgewidth':1,\n",
    "        'axes.linewidth':1.0,\n",
    "        'legend.fontsize': 7,\n",
    "        'xtick.labelsize': 7,\n",
    "        'ytick.labelsize': 7,\n",
    "        'savefig.dpi':200,\n",
    "        'path.simplify':True,\n",
    "        #'font.family': 'serif',\n",
    "        'font.serif':'Times',\n",
    "        'text.latex.preamble': [r'\\usepackage{amsmath}'],\n",
    "        'text.usetex':True,\n",
    "        #'axes.color_cycle': ['b', 'lime', 'r', 'purple', 'g', 'c', 'm', 'orange', 'darkblue', \\\n",
    "        #                        'darkcyan', 'y','orangered','chartreuse','brown','deeppink','lightgreen', 'k'],\n",
    "        #'font.serif':cm,\n",
    "        'figure.figsize': fig_size}\n",
    "plt.rcParams.update(params)"
   ]
  },
  {
   "cell_type": "code",
   "execution_count": 5,
   "metadata": {},
   "outputs": [],
   "source": [
    "RAs = []\n",
    "DECs = []\n",
    "Names = []\n",
    "pmra = []\n",
    "pmra_err = []\n",
    "pmdec = []\n",
    "pmdec_err = []\n",
    "pepoch = []\n",
    "posepoch = []\n",
    "dmepoch = []\n",
    "dm = []\n",
    "coords = []"
   ]
  },
  {
   "cell_type": "code",
   "execution_count": 6,
   "metadata": {},
   "outputs": [
    {
     "name": "stdout",
     "output_type": "stream",
     "text": [
      "this file is missing uncertainties on RAJ: ../IPTA_DR1/J0437-4715/J0437-4715.par\n",
      "this file is missing uncertainties on DECJ: ../IPTA_DR1/J0437-4715/J0437-4715.par\n",
      "this file is missing uncertainties on PMRA: ../IPTA_DR1/J0437-4715/J0437-4715.par\n",
      "this file is missing uncertainties on PMDEC: ../IPTA_DR1/J0437-4715/J0437-4715.par\n",
      "this file is missing uncertainties on PX: ../IPTA_DR1/J0437-4715/J0437-4715.par\n",
      "this object has galactic coords: J1022+1001\n",
      "this file is missing uncertainties on RAJ: ../IPTA_DR1/J1643-1224/J1643-1224.par\n",
      "this file is missing uncertainties on DECJ: ../IPTA_DR1/J1643-1224/J1643-1224.par\n",
      "this file is missing uncertainties on PMRA: ../IPTA_DR1/J1643-1224/J1643-1224.par\n",
      "this file is missing uncertainties on PMDEC: ../IPTA_DR1/J1643-1224/J1643-1224.par\n",
      "this file is missing uncertainties on PX: ../IPTA_DR1/J1643-1224/J1643-1224.par\n"
     ]
    }
   ],
   "source": [
    "for file in files:\n",
    "    d = {}\n",
    "    with open(file) as f:\n",
    "        for line in f:\n",
    "            key = line.split()[0]\n",
    "            value = line.split()[1]\n",
    "            d[key] = value\n",
    "            if key in ['RAJ', 'DECJ', 'PMRA', 'PMDEC', 'PX']:\n",
    "                try:\n",
    "                    err = line.split()[3]\n",
    "                    d[key+'_ERR'] = err\n",
    "                except:\n",
    "                    print(\"this file is missing uncertainties \\\n",
    "on {0}: {1}\".format(key, file))\n",
    "                    d[key+'_ERR'] = 0.0\n",
    "    \n",
    "    try:\n",
    "        ra = Angle(d['RAJ'], u.hourangle).to(u.deg)\n",
    "        dec = Angle(d['DECJ'], u.degree)\n",
    "        coord = SkyCoord(ra=ra, dec=dec, frame='icrs',\n",
    "                         pm_ra_cosdec = float(d['PMRA'])*u.mas/u.yr,\n",
    "                         pm_dec=float(d['PMDEC'])*u.mas/u.yr,\n",
    "                         obstime=Time(float(d['POSEPOCH']), format='mjd'),\n",
    "                         distance=1. * u.kpc) # HACK\n",
    "        coords.append(coord)\n",
    "        RAs.append(ra.value)\n",
    "        DECs.append(dec.value)\n",
    "        Names.append(d['PSRJ'])\n",
    "        pmra.append(coord.pm_ra_cosdec.value)\n",
    "        pmra_err.append(float(d['PMRA_ERR']))\n",
    "        pmdec.append(coord.pm_dec.value)\n",
    "        pmdec_err.append(float(d['PMDEC_ERR']))\n",
    "        pepoch.append(d['PEPOCH'])\n",
    "        posepoch.append(d['POSEPOCH'])\n",
    "        dmepoch.append(d['DMEPOCH'])\n",
    "        dm.append(d['DM'])\n",
    "        \n",
    "    except KeyError:\n",
    "        lon = float(d['ELONG'])*u.deg\n",
    "        lat = float(d['ELAT'])*u.deg\n",
    "        coord = SkyCoord(l=lon, b=lat, frame='galactic',\n",
    "                             pm_l_cosb = float(d['PMELONG'])*u.mas/u.yr, \n",
    "                             pm_b=float(d['PMELAT'])*u.mas/u.yr,\n",
    "                             obstime=Time(float(d['POSEPOCH']), format='mjd'),\n",
    "                             distance=1. * u.kpc) # HACKITY HACK HACK\n",
    "        icrscoord = coord.transform_to(ICRS)\n",
    "        coords.append(icrscoord)\n",
    "        print(\"this object has galactic coords: {0}\".format(d['PSRJ']))\n",
    "        RAs.append(icrscoord.ra.to(u.deg).value)\n",
    "        DECs.append(icrscoord.dec.to(u.deg).value)\n",
    "        Names.append(d['PSRJ'])\n",
    "        pmra.append(icrscoord.pm_ra_cosdec.value)\n",
    "        pmra_err.append(0.0) # TEMPORARY HACK\n",
    "        pmdec.append(icrscoord.pm_dec.value)\n",
    "        pmdec_err.append(0.0) # TEMPORARY HACK\n",
    "        pepoch.append(d['PEPOCH'])\n",
    "        posepoch.append(d['POSEPOCH'])\n",
    "        dmepoch.append(d['DMEPOCH'])\n",
    "        dm.append(d['DM']) "
   ]
  },
  {
   "cell_type": "code",
   "execution_count": null,
   "metadata": {},
   "outputs": [],
   "source": [
    "#Names"
   ]
  },
  {
   "cell_type": "code",
   "execution_count": null,
   "metadata": {},
   "outputs": [],
   "source": []
  },
  {
   "cell_type": "markdown",
   "metadata": {},
   "source": [
    "### J1910+1256"
   ]
  },
  {
   "cell_type": "code",
   "execution_count": null,
   "metadata": {},
   "outputs": [],
   "source": [
    "ind = np.where(np.array(Names) == 'J1910+1256')[0][0]"
   ]
  },
  {
   "cell_type": "code",
   "execution_count": null,
   "metadata": {},
   "outputs": [],
   "source": [
    "ipta_pmra_err = pmra_err[ind]\n",
    "ipta_pmdec_err = pmdec_err[ind]\n",
    "ipta_posepoch = posepoch[ind]"
   ]
  },
  {
   "cell_type": "code",
   "execution_count": null,
   "metadata": {},
   "outputs": [],
   "source": [
    "ipta_coord = coords[ind]\n",
    "ipta_coord"
   ]
  },
  {
   "cell_type": "code",
   "execution_count": null,
   "metadata": {},
   "outputs": [],
   "source": [
    "gaia_time = Time(57023., format='mjd')\n",
    "gaia_match_coord =  SkyCoord(ra=287.5407215 * u.degree, \n",
    "                             dec=12.94037301 * u.degree, frame='icrs',\n",
    "                         pm_ra_cosdec = -0.672057539 *u.mas/u.yr,\n",
    "                         pm_dec= -5.449112763 *u.mas/u.yr,\n",
    "                         obstime=Time(2015.5, format='decimalyear'),\n",
    "                         distance=1. * u.kpc) # HACK\n",
    "gaia_ra_err = 0.576369178\n",
    "gaia_dec_err = 0.623526292\n",
    "gaia_match_coord"
   ]
  },
  {
   "cell_type": "code",
   "execution_count": null,
   "metadata": {},
   "outputs": [],
   "source": [
    "N = 6000\n",
    "seps = []\n",
    "ipta_ras = []\n",
    "ipta_decs = []\n",
    "gaia_ras = []\n",
    "gaia_decs = []\n",
    "for n in tqdm(range(N)):\n",
    "    c1 = SkyCoord(ra=ipta_coord.ra,\n",
    "                 dec=ipta_coord.dec, frame='icrs',\n",
    "                 pm_ra_cosdec=np.random.normal(ipta_coord.pm_ra_cosdec.value, \n",
    "                                               ipta_pmra_err) * u.mas/u.yr,\n",
    "                 pm_dec=np.random.normal(ipta_coord.pm_dec.value, \n",
    "                                               ipta_pmdec_err) * u.mas/u.yr,\n",
    "                 obstime=ipta_coord.obstime,\n",
    "                 distance=ipta_coord.distance)\n",
    "    c2 = SkyCoord(ra=np.random.normal(gaia_match_coord.ra.arcsec, gaia_ra_err) * u.arcsec,\n",
    "                 dec=np.random.normal(gaia_match_coord.dec.arcsec, gaia_dec_err) * u.arcsec, \n",
    "                 frame='icrs',\n",
    "                 pm_ra_cosdec=gaia_match_coord.pm_ra_cosdec, \n",
    "                 pm_dec=gaia_match_coord.pm_dec, \n",
    "                 obstime=gaia_match_coord.obstime,\n",
    "                 distance=gaia_match_coord.distance)\n",
    "    ipta_ras.append(c1.apply_space_motion(new_obstime=gaia_time).ra.degree)\n",
    "    ipta_decs.append(c1.apply_space_motion(new_obstime=gaia_time).dec.degree)\n",
    "    gaia_ras.append(c2.ra.degree)\n",
    "    gaia_decs.append(c2.dec.degree)\n",
    "    sep = c1.apply_space_motion(new_obstime=gaia_time).separation(c2).arcsec\n",
    "    seps.append(sep)"
   ]
  },
  {
   "cell_type": "code",
   "execution_count": null,
   "metadata": {},
   "outputs": [],
   "source": [
    "gaia_ras = np.array(gaia_ras)-287.54\n",
    "ipta_ras = np.array(ipta_ras)-287.54\n"
   ]
  },
  {
   "cell_type": "code",
   "execution_count": null,
   "metadata": {},
   "outputs": [],
   "source": []
  },
  {
   "cell_type": "code",
   "execution_count": null,
   "metadata": {},
   "outputs": [],
   "source": [
    "bin_list = auto_bin(np.std(gaia_ras)/5,np.min(gaia_ras)-np.std(gaia_ras),np.max(gaia_ras)+np.std(gaia_ras))\n",
    "weights = hist_weight(gaia_ras)"
   ]
  },
  {
   "cell_type": "code",
   "execution_count": null,
   "metadata": {},
   "outputs": [],
   "source": [
    "np.std(gaia_ras)"
   ]
  },
  {
   "cell_type": "code",
   "execution_count": null,
   "metadata": {},
   "outputs": [],
   "source": [
    "(mu, sigma) = norm.fit(gaia_ras)\n",
    "diff = (mu-np.median(ipta_ras))/sigma"
   ]
  },
  {
   "cell_type": "code",
   "execution_count": null,
   "metadata": {},
   "outputs": [],
   "source": [
    "(mu, sigma)"
   ]
  },
  {
   "cell_type": "code",
   "execution_count": null,
   "metadata": {},
   "outputs": [],
   "source": [
    "diff"
   ]
  },
  {
   "cell_type": "code",
   "execution_count": null,
   "metadata": {},
   "outputs": [],
   "source": [
    "# add a 'best fit' line\n",
    "y = norm.fit(gaia_ras)\n",
    "\n",
    "y = scipy.stats.norm.pdf(bin_list, mu, sigma)\n",
    "\n",
    "l = plt.plot(bin_list, y, 'r--', linewidth=2)"
   ]
  },
  {
   "cell_type": "code",
   "execution_count": null,
   "metadata": {},
   "outputs": [],
   "source": [
    "def gaussian(x, mu, sig):\n",
    "    return np.exp(-np.power(x - mu, 2.) / (2 * np.power(sig, 2.)))"
   ]
  },
  {
   "cell_type": "code",
   "execution_count": null,
   "metadata": {},
   "outputs": [],
   "source": [
    "normed = []\n",
    "for xx in range(len(bin_list)):\n",
    "    normed.append(gaussian(bin_list[xx], mu, sigma))"
   ]
  },
  {
   "cell_type": "code",
   "execution_count": null,
   "metadata": {},
   "outputs": [],
   "source": [
    "datos = gaia_ras\n",
    "(mu, sigma) = norm.fit(datos)\n",
    "\n",
    "# the histogram of the data\n",
    "n, bins, patches = plt.hist(datos, 20, normed=.12, facecolor='green', alpha=0.75)\n",
    "\n",
    "# add a 'best fit' line\n",
    "y = scipy.stats.norm.pdf(bins, mu, sigma)\n",
    "\n",
    "l = plt.plot(bins, y, 'r--', linewidth=2)\n",
    "plt.axvline(np.median(ipta_ras), color='red', label = \"IPTA\")\n",
    "\n"
   ]
  },
  {
   "cell_type": "code",
   "execution_count": null,
   "metadata": {},
   "outputs": [],
   "source": [
    "ipta_ras = np.array(ipta_ras)"
   ]
  },
  {
   "cell_type": "code",
   "execution_count": null,
   "metadata": {},
   "outputs": [],
   "source": [
    "fig = plt.figure()\n",
    "ax = fig.add_subplot(111)\n",
    "plt.hist(np.array(gaia_ras), bin_list, weights=weights, alpha = 0.8, align='left', color = 'C0', label = \"Gaia\")\n",
    "plt.axvline(np.median(ipta_ras), color='red', label = \"IPTA\")\n",
    "#y = mlab.normpdf(bin_list, mu, sigma)\n",
    "#plt.plot(bin_list, normed, 'r--', linewidth=2, label=r\"Gaussian Fit\")\n",
    "plt.xlabel(\"RA - 287.54 (deg)\")\n",
    "plt.yticks([])\n",
    "#plt.ylabel(\"Probability\")\n",
    "plt.legend(frameon=False)\n",
    "plt.tight_layout()\n",
    "plt.savefig(\"J1910_RA_IPTA-GAIA-final-24Nov18.pdf\")"
   ]
  },
  {
   "cell_type": "code",
   "execution_count": null,
   "metadata": {},
   "outputs": [],
   "source": [
    "2.8754e2"
   ]
  },
  {
   "cell_type": "code",
   "execution_count": null,
   "metadata": {},
   "outputs": [],
   "source": []
  },
  {
   "cell_type": "code",
   "execution_count": null,
   "metadata": {},
   "outputs": [],
   "source": [
    "sigmaRA"
   ]
  },
  {
   "cell_type": "code",
   "execution_count": null,
   "metadata": {},
   "outputs": [],
   "source": [
    "bin_list = auto_bin(np.std(gaia_decs)/4,np.min(gaia_decs)-np.std(gaia_decs),np.max(gaia_decs)+np.std(gaia_decs))\n",
    "weights = hist_weight(gaia_decs)"
   ]
  },
  {
   "cell_type": "code",
   "execution_count": null,
   "metadata": {},
   "outputs": [],
   "source": [
    "fig = plt.figure()\n",
    "ax = fig.add_subplot(111)\n",
    "plt.hist(gaia_decs, bin_list, weights=weights, alpha = 0.8, align='left', color = 'C0', label = \"Gaia\")\n",
    "plt.axvline(np.median(ipta_decs), color='red', label = \"IPTA\") #0.2 sigma\n",
    "plt.xlabel(\"DEC (deg)\")\n",
    "plt.yticks([])\n",
    "#plt.ylabel(\"Probability\")\n",
    "plt.legend(frameon=False)\n",
    "plt.tight_layout()\n",
    "#plt.savefig(\"J1910_DEC_IPTA-GAIA-final-25Nov.pdf\")"
   ]
  },
  {
   "cell_type": "code",
   "execution_count": null,
   "metadata": {},
   "outputs": [],
   "source": [
    "(mu, sigma) = norm.fit(gaia_decs)\n",
    "diff = (mu-np.median(ipta_decs))/sigma"
   ]
  },
  {
   "cell_type": "code",
   "execution_count": null,
   "metadata": {},
   "outputs": [],
   "source": [
    "diff"
   ]
  },
  {
   "cell_type": "markdown",
   "metadata": {},
   "source": [
    "##  J1012+5307"
   ]
  },
  {
   "cell_type": "code",
   "execution_count": null,
   "metadata": {},
   "outputs": [],
   "source": [
    "ind = np.where(np.array(Names) == 'J1012+5307')[0][0]"
   ]
  },
  {
   "cell_type": "code",
   "execution_count": null,
   "metadata": {},
   "outputs": [],
   "source": [
    "ipta_pmra_err = pmra_err[ind]\n",
    "ipta_pmdec_err = pmdec_err[ind]\n",
    "ipta_posepoch = posepoch[ind]"
   ]
  },
  {
   "cell_type": "code",
   "execution_count": null,
   "metadata": {},
   "outputs": [],
   "source": [
    "ipta_coord = coords[ind]\n",
    "ipta_coord"
   ]
  },
  {
   "cell_type": "code",
   "execution_count": null,
   "metadata": {},
   "outputs": [],
   "source": [
    "gaia_time = Time(57023., format='mjd')\n",
    "gaia_match_coord =  SkyCoord(ra=153.1393303 * u.degree, \n",
    "                             dec=53.11726303 * u.degree, frame='icrs',\n",
    "                         pm_ra_cosdec = 2.976959985 *u.mas/u.yr,\n",
    "                         pm_dec= -26.94384758 *u.mas/u.yr,\n",
    "                         obstime= gaia_time,\n",
    "                         distance=1. * u.kpc) # HACK\n",
    "gaia_ra_err = 0.241174616\n",
    "gaia_dec_err = 0.302546482\n",
    "gaia_match_coord"
   ]
  },
  {
   "cell_type": "code",
   "execution_count": null,
   "metadata": {},
   "outputs": [],
   "source": [
    "N = 5000\n",
    "seps = []\n",
    "ipta_ras = []\n",
    "ipta_decs = []\n",
    "gaia_ras = []\n",
    "gaia_decs = []\n",
    "for n in tqdm(range(N)):\n",
    "    c1 = SkyCoord(ra=ipta_coord.ra,\n",
    "                 dec=ipta_coord.dec, frame='icrs',\n",
    "                 pm_ra_cosdec=np.random.normal(ipta_coord.pm_ra_cosdec.value, \n",
    "                                               ipta_pmra_err) * u.mas/u.yr,\n",
    "                 pm_dec=np.random.normal(ipta_coord.pm_dec.value, \n",
    "                                               ipta_pmdec_err) * u.mas/u.yr,\n",
    "                 obstime=ipta_coord.obstime,\n",
    "                 distance=ipta_coord.distance)\n",
    "    c2 = SkyCoord(ra=np.random.normal(gaia_match_coord.ra.arcsec, gaia_ra_err) * u.arcsec,\n",
    "                 dec=np.random.normal(gaia_match_coord.dec.arcsec, gaia_dec_err) * u.arcsec, \n",
    "                 frame='icrs',\n",
    "                 pm_ra_cosdec=gaia_match_coord.pm_ra_cosdec, \n",
    "                 pm_dec=gaia_match_coord.pm_dec, \n",
    "                 obstime=gaia_match_coord.obstime,\n",
    "                 distance=gaia_match_coord.distance)\n",
    "    ipta_ras.append(c1.apply_space_motion(new_obstime=gaia_time).ra.degree)\n",
    "    ipta_decs.append(c1.apply_space_motion(new_obstime=gaia_time).dec.degree)\n",
    "    gaia_ras.append(c2.ra.degree)\n",
    "    gaia_decs.append(c2.dec.degree)\n",
    "    sep = c1.apply_space_motion(new_obstime=gaia_time).separation(c2).arcsec\n",
    "    seps.append(sep)"
   ]
  },
  {
   "cell_type": "code",
   "execution_count": null,
   "metadata": {},
   "outputs": [],
   "source": [
    "gaia_ras = np.array(gaia_ras) -1.53139e2 #for better plotting"
   ]
  },
  {
   "cell_type": "code",
   "execution_count": null,
   "metadata": {},
   "outputs": [],
   "source": [
    "bin_list = auto_bin(np.std(gaia_ras)/4,np.min(gaia_ras)-np.std(gaia_ras)/2,np.max(gaia_ras)+np.std(gaia_ras)/2)\n",
    "weights = hist_weight(gaia_ras)"
   ]
  },
  {
   "cell_type": "code",
   "execution_count": null,
   "metadata": {},
   "outputs": [],
   "source": [
    "(mu, sigma) = norm.fit(gaia_ras)\n",
    "diff = (mu-np.median(ipta_ras))/sigma"
   ]
  },
  {
   "cell_type": "code",
   "execution_count": null,
   "metadata": {},
   "outputs": [],
   "source": [
    "mu"
   ]
  },
  {
   "cell_type": "code",
   "execution_count": null,
   "metadata": {},
   "outputs": [],
   "source": [
    "diff"
   ]
  },
  {
   "cell_type": "code",
   "execution_count": null,
   "metadata": {},
   "outputs": [],
   "source": [
    "ipta_ras = np.array(ipta_ras) -153.139"
   ]
  },
  {
   "cell_type": "code",
   "execution_count": null,
   "metadata": {},
   "outputs": [],
   "source": [
    "fig = plt.figure()\n",
    "ax = fig.add_subplot(111)\n",
    "plt.hist(np.array(gaia_ras), bin_list, weights=weights, alpha = 0.8, align='left', color = 'C0', label = \"Gaia\")\n",
    "plt.axvline(np.median(ipta_ras), color='red', label = \"PTA\")\n",
    "plt.xlabel(\"RA + 153.139 (deg)\")\n",
    "plt.yticks([])\n",
    "plt.legend(frameon=False)\n",
    "plt.tight_layout()\n",
    "#plt.savefig(\"J1012_RA_IPTA-GAIA-25Nov.pdf\")"
   ]
  },
  {
   "cell_type": "code",
   "execution_count": null,
   "metadata": {},
   "outputs": [],
   "source": [
    "gaia_decs=np.array(gaia_decs) -53.117"
   ]
  },
  {
   "cell_type": "code",
   "execution_count": null,
   "metadata": {},
   "outputs": [],
   "source": [
    "gaia_decs"
   ]
  },
  {
   "cell_type": "code",
   "execution_count": null,
   "metadata": {},
   "outputs": [],
   "source": [
    "bin_list = auto_bin(np.std(gaia_decs)/4,np.min(gaia_decs)-np.std(gaia_decs)/2,np.max(gaia_decs)+np.std(gaia_decs)/2)\n",
    "weights = hist_weight(gaia_decs)"
   ]
  },
  {
   "cell_type": "code",
   "execution_count": null,
   "metadata": {},
   "outputs": [],
   "source": [
    "(mu, sigma) = norm.fit(gaia_decs)\n",
    "diff = (mu-np.median(ipta_decs))/sigma"
   ]
  },
  {
   "cell_type": "code",
   "execution_count": null,
   "metadata": {},
   "outputs": [],
   "source": [
    "ipta_decs = np.array(ipta_decs) - 53.117"
   ]
  },
  {
   "cell_type": "code",
   "execution_count": null,
   "metadata": {},
   "outputs": [],
   "source": [
    "fig = plt.figure()\n",
    "ax = fig.add_subplot(111)\n",
    "plt.hist(np.array(gaia_decs), bin_list, weights=weights, alpha = 0.8, align='left', color = 'C0', label = \"Gaia\")\n",
    "plt.axvline(np.median(ipta_decs), color='red', label = \"IPTA\")\n",
    "plt.xlabel(\"DEC + 53.117 (deg)\")\n",
    "plt.yticks([])\n",
    "plt.legend(frameon=False)\n",
    "plt.tight_layout()\n",
    "#plt.savefig(\"J1012_DEC_IPTA-GAIA-25Nov.pdf\")"
   ]
  },
  {
   "cell_type": "markdown",
   "metadata": {},
   "source": [
    "## Best pulasr, J0437-4715\n"
   ]
  },
  {
   "cell_type": "code",
   "execution_count": null,
   "metadata": {},
   "outputs": [],
   "source": [
    "ind = np.where(np.array(Names) == 'J0437-4715')[0][0]"
   ]
  },
  {
   "cell_type": "code",
   "execution_count": null,
   "metadata": {},
   "outputs": [],
   "source": [
    "ipta_pmra_err = pmra_err[ind]\n",
    "ipta_pmdec_err = pmdec_err[ind]\n",
    "ipta_posepoch = posepoch[ind]"
   ]
  },
  {
   "cell_type": "code",
   "execution_count": null,
   "metadata": {},
   "outputs": [],
   "source": [
    "ipta_pmra_err = 0.052 #Deller et al. 2008, Table 1\n",
    "ipta_pmdec_err = 0.086 #Deller et al. 2008\n",
    "ipta_posepoch = posepoch[ind]"
   ]
  },
  {
   "cell_type": "code",
   "execution_count": null,
   "metadata": {},
   "outputs": [],
   "source": [
    "ipta_posepoch"
   ]
  },
  {
   "cell_type": "code",
   "execution_count": null,
   "metadata": {},
   "outputs": [],
   "source": [
    "arcSec2Deg = 0.000277778"
   ]
  },
  {
   "cell_type": "code",
   "execution_count": null,
   "metadata": {
    "scrolled": true
   },
   "outputs": [],
   "source": [
    "ipta_coord = coords[ind]\n",
    "ipta_coord"
   ]
  },
  {
   "cell_type": "code",
   "execution_count": null,
   "metadata": {
    "scrolled": true
   },
   "outputs": [],
   "source": [
    "gaia_time = Time(57023., format='mjd') # CHECK THAT THIS IS REALLY 2015.5 IN MJD\n",
    "gaia_match_coord =  SkyCoord(ra=69.31660276 * u.degree, \n",
    "                             dec=-47.25267778 * u.degree, frame='icrs',\n",
    "                         pm_ra_cosdec = 122.8637296 *u.mas/u.yr,\n",
    "                         pm_dec= -71.16597382 *u.mas/u.yr,\n",
    "                         obstime=Time(2015.5, format='decimalyear'),\n",
    "                         distance=1. * u.kpc) # HACK\n",
    "gaia_ra_err = 0.582326756\n",
    "gaia_dec_err = 0.738504992\n",
    "gaia_match_coord"
   ]
  },
  {
   "cell_type": "code",
   "execution_count": null,
   "metadata": {},
   "outputs": [],
   "source": [
    "N = 6000\n",
    "seps = []\n",
    "ipta_ras = []\n",
    "ipta_decs = []\n",
    "gaia_ras = []\n",
    "gaia_decs = []\n",
    "for n in tqdm(range(N)):\n",
    "    c1 = SkyCoord(ra=ipta_coord.ra,\n",
    "                 dec=ipta_coord.dec, frame='icrs',\n",
    "                 pm_ra_cosdec=np.random.normal(ipta_coord.pm_ra_cosdec.value, \n",
    "                                               ipta_pmra_err) * u.mas/u.yr,\n",
    "                 pm_dec=np.random.normal(ipta_coord.pm_dec.value, \n",
    "                                               ipta_pmdec_err) * u.mas/u.yr,\n",
    "                 obstime=ipta_coord.obstime,\n",
    "                 distance=ipta_coord.distance)\n",
    "    c2 = SkyCoord(ra=np.random.normal(gaia_match_coord.ra.arcsec, gaia_ra_err) * u.arcsec,\n",
    "                 dec=np.random.normal(gaia_match_coord.dec.arcsec, gaia_dec_err) * u.arcsec, \n",
    "                 frame='icrs',\n",
    "                 pm_ra_cosdec=gaia_match_coord.pm_ra_cosdec, \n",
    "                 pm_dec=gaia_match_coord.pm_dec, \n",
    "                 obstime=gaia_match_coord.obstime,\n",
    "                 distance=gaia_match_coord.distance)\n",
    "    ipta_ras.append(c1.apply_space_motion(new_obstime=gaia_time).ra.degree)\n",
    "    #print(ipta_ras)\n",
    "    ipta_decs.append(c1.apply_space_motion(new_obstime=gaia_time).dec.degree)\n",
    "    gaia_ras.append(c2.ra.degree)\n",
    "    gaia_decs.append(c2.dec.degree)\n",
    "    sep = c1.apply_space_motion(new_obstime=gaia_time).separation(c2).arcsec\n",
    "    seps.append(sep)"
   ]
  },
  {
   "cell_type": "code",
   "execution_count": null,
   "metadata": {
    "scrolled": false
   },
   "outputs": [],
   "source": [
    "ipta_ras = np.array(ipta_ras) - 69.31\n",
    "gaia_ras = np.array(gaia_ras) - 69.31"
   ]
  },
  {
   "cell_type": "code",
   "execution_count": null,
   "metadata": {
    "scrolled": true
   },
   "outputs": [],
   "source": [
    "bin_list = auto_bin(np.std(gaia_ras)/5,np.min(gaia_ras)-np.std(gaia_ras)/2,np.max(gaia_ras)+np.std(gaia_ras)/2)\n",
    "weights = hist_weight(gaia_ras)"
   ]
  },
  {
   "cell_type": "code",
   "execution_count": null,
   "metadata": {},
   "outputs": [],
   "source": [
    "fig = plt.figure()\n",
    "ax = fig.add_subplot(111)\n",
    "plt.hist(gaia_ras, bin_list, weights=weights, alpha = 0.8, align='left', color = 'C0', label = \"Gaia\")\n",
    "plt.axvline(np.median(ipta_ras), color='red', label = \"IPTA\") #0.13 sigma\n",
    "plt.xlabel(\"RA - 69.31(deg)\")\n",
    "plt.yticks([])\n",
    "plt.legend(frameon=False)\n",
    "plt.tight_layout()\n",
    "#plt.savefig(\"J0437_RA_IPTA-GAIA-25Nov.pdf\")"
   ]
  },
  {
   "cell_type": "code",
   "execution_count": null,
   "metadata": {},
   "outputs": [],
   "source": [
    "(mu, sigma) = norm.fit(gaia_ras)\n",
    "diff = (mu-np.median(ipta_ras))/sigma"
   ]
  },
  {
   "cell_type": "code",
   "execution_count": null,
   "metadata": {},
   "outputs": [],
   "source": [
    "diff"
   ]
  },
  {
   "cell_type": "code",
   "execution_count": null,
   "metadata": {},
   "outputs": [],
   "source": [
    "bin_list = auto_bin(np.std(gaia_decs)/4,np.min(gaia_decs)-np.std(gaia_decs)/2,np.max(gaia_decs)+np.std(gaia_decs)/2)\n",
    "weights = hist_weight(gaia_decs)"
   ]
  },
  {
   "cell_type": "code",
   "execution_count": null,
   "metadata": {},
   "outputs": [],
   "source": [
    "ipta_decs = np.array(ipta_decs) - 47.25\n",
    "gaia_decs = np.array(gaia_decs) - 47.25"
   ]
  },
  {
   "cell_type": "code",
   "execution_count": null,
   "metadata": {},
   "outputs": [],
   "source": [
    "ipta_decs"
   ]
  },
  {
   "cell_type": "code",
   "execution_count": null,
   "metadata": {},
   "outputs": [],
   "source": [
    "# DEC plot for J0437\n",
    "plt.hist(gaia_decs, bin_list, weights=weights, alpha = 0.8, align='left', color = 'C0', label = \"Gaia\")\n",
    "plt.axvline(np.median(ipta_decs), color='red', label = \"IPTA\")\n",
    "plt.xlabel(\"DEC - 47.25(deg)\")\n",
    "plt.yticks([])\n",
    "plt.legend(frameon=False)\n",
    "plt.tight_layout()\n",
    "#plt.savefig(\"J0437_DEC_IPTA-GAIA-25Nov.pdf\")"
   ]
  },
  {
   "cell_type": "code",
   "execution_count": null,
   "metadata": {},
   "outputs": [],
   "source": [
    "(mu, sigma) = norm.fit(gaia_decs)\n",
    "diff = (mu-np.median(ipta_decs))/sigma"
   ]
  },
  {
   "cell_type": "code",
   "execution_count": null,
   "metadata": {},
   "outputs": [],
   "source": [
    "diff"
   ]
  },
  {
   "cell_type": "code",
   "execution_count": null,
   "metadata": {},
   "outputs": [],
   "source": [
    "ipta_decs + 47.25"
   ]
  },
  {
   "cell_type": "markdown",
   "metadata": {},
   "source": [
    "## Pulsar J1024-0719"
   ]
  },
  {
   "cell_type": "code",
   "execution_count": null,
   "metadata": {},
   "outputs": [],
   "source": [
    "ind = np.where(np.array(Names) == 'J1024-0719')[0][0]\n",
    "\n",
    "ipta_pmra_err = pmra_err[ind]\n",
    "ipta_pmdec_err = pmdec_err[ind]\n",
    "ipta_posepoch = posepoch[ind]\n",
    "\n",
    "ipta_pmra_err = pmra_err[ind]\n",
    "ipta_pmdec_err = pmdec_err[ind]\n",
    "ipta_posepoch = posepoch[ind]\n",
    "\n",
    "\n",
    "ipta_coord = coords[ind]\n",
    "ipta_coord"
   ]
  },
  {
   "cell_type": "code",
   "execution_count": null,
   "metadata": {},
   "outputs": [],
   "source": [
    "gaia_time = Time(57023., format='mjd')\n",
    "gaia_match_coord =  SkyCoord(ra=156.1610927 * u.degree, \n",
    "                             dec=-7.322165289 * u.degree, frame='icrs',\n",
    "                         pm_ra_cosdec = -35.51929892*u.mas/u.yr,\n",
    "                         pm_dec= -47.93231066 *u.mas/u.yr,\n",
    "                         obstime=Time(2015.5, format='decimalyear'),\n",
    "                         distance=1. * u.kpc) # HACK\n",
    "gaia_ra_err = 0.42985265\n",
    "gaia_dec_err = 0.392656637\n",
    "gaia_match_coord"
   ]
  },
  {
   "cell_type": "code",
   "execution_count": null,
   "metadata": {},
   "outputs": [],
   "source": [
    "N = 6000\n",
    "seps = []\n",
    "ipta_ras = []\n",
    "ipta_decs = []\n",
    "gaia_ras = []\n",
    "gaia_decs = []\n",
    "for n in tqdm(range(N)):\n",
    "    c1 = SkyCoord(ra=ipta_coord.ra,\n",
    "                 dec=ipta_coord.dec, frame='icrs',\n",
    "                 pm_ra_cosdec=np.random.normal(ipta_coord.pm_ra_cosdec.value, \n",
    "                                               ipta_pmra_err) * u.mas/u.yr,\n",
    "                 pm_dec=np.random.normal(ipta_coord.pm_dec.value, \n",
    "                                               ipta_pmdec_err) * u.mas/u.yr,\n",
    "                 obstime=ipta_coord.obstime,\n",
    "                 distance=ipta_coord.distance)\n",
    "    c2 = SkyCoord(ra=np.random.normal(gaia_match_coord.ra.arcsec, gaia_ra_err) * u.arcsec,\n",
    "                 dec=np.random.normal(gaia_match_coord.dec.arcsec, gaia_dec_err) * u.arcsec, \n",
    "                 frame='icrs',\n",
    "                 pm_ra_cosdec=gaia_match_coord.pm_ra_cosdec, \n",
    "                 pm_dec=gaia_match_coord.pm_dec, \n",
    "                 obstime=gaia_match_coord.obstime,\n",
    "                 distance=gaia_match_coord.distance)\n",
    "    ipta_ras.append(c1.apply_space_motion(new_obstime=gaia_time).ra.degree)\n",
    "    ipta_decs.append(c1.apply_space_motion(new_obstime=gaia_time).dec.degree)\n",
    "    gaia_ras.append(c2.ra.degree)\n",
    "    gaia_decs.append(c2.dec.degree)\n",
    "    sep = c1.apply_space_motion(new_obstime=gaia_time).separation(c2).arcsec\n",
    "    seps.append(sep)"
   ]
  },
  {
   "cell_type": "code",
   "execution_count": null,
   "metadata": {},
   "outputs": [],
   "source": [
    "gaia_ras = np.array(gaia_ras) + 1.5616e2"
   ]
  },
  {
   "cell_type": "code",
   "execution_count": null,
   "metadata": {},
   "outputs": [],
   "source": [
    "ipta_ras = np.array(ipta_ras) + 1.5616e2"
   ]
  },
  {
   "cell_type": "code",
   "execution_count": null,
   "metadata": {
    "scrolled": true
   },
   "outputs": [],
   "source": [
    "bin_list = auto_bin(np.std(gaia_ras)/4,np.min(gaia_ras)-np.std(gaia_ras)/2,np.max(gaia_ras)+np.std(gaia_ras)/2)\n",
    "weights = hist_weight(gaia_ras)"
   ]
  },
  {
   "cell_type": "code",
   "execution_count": null,
   "metadata": {},
   "outputs": [],
   "source": [
    "(mu, sigma) = norm.fit(gaia_ras)\n",
    "diff = (mu-np.median(ipta_ras))/sigma"
   ]
  },
  {
   "cell_type": "code",
   "execution_count": null,
   "metadata": {},
   "outputs": [],
   "source": [
    "diff"
   ]
  },
  {
   "cell_type": "code",
   "execution_count": null,
   "metadata": {},
   "outputs": [],
   "source": [
    "fig = plt.figure()\n",
    "ax = fig.add_subplot(111)\n",
    "plt.hist(gaia_ras, bin_list, weights=weights, alpha = 0.8, align='left', color = 'C0', label = \"Gaia\")\n",
    "plt.axvline(np.median(ipta_ras), color='red', label = \"IPTA\") #0.06 sigma, great fit!\n",
    "plt.xlabel(\"RA + 156.16 (deg)\")\n",
    "plt.yticks([])\n",
    "plt.legend(frameon=False)\n",
    "plt.tight_layout()\n",
    "#plt.savefig(\"J1024_RA_IPTA-GAIA.pdf\")"
   ]
  },
  {
   "cell_type": "code",
   "execution_count": null,
   "metadata": {},
   "outputs": [],
   "source": [
    "bin_list = auto_bin(np.std(gaia_decs)/4,np.min(gaia_decs)-np.std(gaia_decs)/2,np.max(gaia_decs)+np.std(gaia_decs)/2)\n",
    "weights = hist_weight(gaia_decs)\n"
   ]
  },
  {
   "cell_type": "code",
   "execution_count": null,
   "metadata": {},
   "outputs": [],
   "source": [
    "(mu, sigma) = norm.fit(gaia_decs)\n",
    "diff = (mu-np.median(ipta_decs))/sigma\n",
    "\n"
   ]
  },
  {
   "cell_type": "code",
   "execution_count": null,
   "metadata": {},
   "outputs": [],
   "source": [
    "diff"
   ]
  },
  {
   "cell_type": "code",
   "execution_count": null,
   "metadata": {},
   "outputs": [],
   "source": [
    "# DEC plot for J1024\n",
    "plt.hist(gaia_decs, bin_list, weights=weights, alpha = 0.8, align='left', color = 'C0', label = \"Gaia\")\n",
    "plt.axvline(np.median(ipta_decs), color='red', label = \"IPTA\") #0.2 sigma away\n",
    "plt.xlabel(\"DEC (deg)\")\n",
    "plt.yticks([])\n",
    "plt.legend(frameon=False)\n",
    "plt.tight_layout()\n",
    "#plt.savefig(\"J1024_DEC_IPTA-GAIA-25Nov.pdf\")"
   ]
  },
  {
   "cell_type": "markdown",
   "metadata": {},
   "source": [
    "## J1732-5049"
   ]
  },
  {
   "cell_type": "code",
   "execution_count": null,
   "metadata": {},
   "outputs": [],
   "source": [
    "ind = np.where(np.array(Names) == 'J1732-5049')[0][0]\n",
    "\n",
    "ipta_pmra_err = pmra_err[ind]\n",
    "ipta_pmdec_err = pmdec_err[ind]\n",
    "ipta_posepoch = posepoch[ind]\n",
    "\n",
    "ipta_pmra_err = pmra_err[ind]\n",
    "ipta_pmdec_err = pmdec_err[ind]\n",
    "ipta_posepoch = posepoch[ind]\n",
    "\n",
    "\n",
    "ipta_coord = coords[ind]\n",
    "ipta_coord"
   ]
  },
  {
   "cell_type": "code",
   "execution_count": null,
   "metadata": {},
   "outputs": [],
   "source": [
    "gaia_time = Time(57023., format='mjd')\n",
    "gaia_match_coord =  SkyCoord(ra=263.200006 * u.degree, \n",
    "                             dec=-50.8166163 * u.degree, frame='icrs',\n",
    "                         pm_ra_cosdec = -0.031849016*u.mas/u.yr,\n",
    "                         pm_dec= -10.483062*u.mas/u.yr,\n",
    "                         obstime=Time(2015.5, format='decimalyear'),\n",
    "                         distance=1. * u.kpc) # HACK\n",
    "gaia_ra_err = 2.168898313\n",
    "gaia_dec_err = 2.010098257\n",
    "gaia_match_coord"
   ]
  },
  {
   "cell_type": "code",
   "execution_count": null,
   "metadata": {},
   "outputs": [],
   "source": [
    "gaia_ipta_sep = ipta_coord.apply_space_motion(new_obstime=gaia_time).separation(gaia_match_coord).arcsec\n",
    "gaia_ipta_sep"
   ]
  },
  {
   "cell_type": "code",
   "execution_count": null,
   "metadata": {},
   "outputs": [],
   "source": [
    "N = 6000\n",
    "seps = []\n",
    "ipta_ras = []\n",
    "ipta_decs = []\n",
    "gaia_ras = []\n",
    "gaia_decs = []\n",
    "for n in tqdm(range(N)):\n",
    "    c1 = SkyCoord(ra=ipta_coord.ra,\n",
    "                 dec=ipta_coord.dec, frame='icrs',\n",
    "                 pm_ra_cosdec=np.random.normal(ipta_coord.pm_ra_cosdec.value, \n",
    "                                               ipta_pmra_err) * u.mas/u.yr,\n",
    "                 pm_dec=np.random.normal(ipta_coord.pm_dec.value, \n",
    "                                               ipta_pmdec_err) * u.mas/u.yr,\n",
    "                 obstime=ipta_coord.obstime,\n",
    "                 distance=ipta_coord.distance)\n",
    "    c2 = SkyCoord(ra=np.random.normal(gaia_match_coord.ra.arcsec, gaia_ra_err) * u.arcsec,\n",
    "                 dec=np.random.normal(gaia_match_coord.dec.arcsec, gaia_dec_err) * u.arcsec, \n",
    "                 frame='icrs',\n",
    "                 pm_ra_cosdec=gaia_match_coord.pm_ra_cosdec, \n",
    "                 pm_dec=gaia_match_coord.pm_dec, \n",
    "                 obstime=gaia_match_coord.obstime,\n",
    "                 distance=gaia_match_coord.distance)\n",
    "    ipta_ras.append(c1.apply_space_motion(new_obstime=gaia_time).ra.degree)\n",
    "    ipta_decs.append(c1.apply_space_motion(new_obstime=gaia_time).dec.degree)\n",
    "    gaia_ras.append(c2.ra.degree)\n",
    "    gaia_decs.append(c2.dec.degree)\n",
    "    sep = c1.apply_space_motion(new_obstime=gaia_time).separation(c2).arcsec\n",
    "    seps.append(sep)"
   ]
  },
  {
   "cell_type": "code",
   "execution_count": null,
   "metadata": {},
   "outputs": [],
   "source": [
    "bin_list = auto_bin(.5,0.0,8.0)\n",
    "weights = hist_weight(seps)"
   ]
  },
  {
   "cell_type": "code",
   "execution_count": null,
   "metadata": {},
   "outputs": [],
   "source": [
    "fig = plt.figure()\n",
    "ax = fig.add_subplot(111)\n",
    "plt.hist(seps, bin_list, weights=weights, alpha = 0.8, align='left', color = 'C0', label = \"Gaia\")\n",
    "plt.axvline(gaia_ipta_sep, color='red', label = \"IPTA\")\n",
    "plt.xlabel(r\"J1732-5049, Angular Separation $\\theta$ (arcsecs)\")\n",
    "plt.ylabel(\"Probability\")\n",
    "plt.legend(frameon=False)\n",
    "plt.tight_layout()\n",
    "#plt.savefig(\"J1732_Theta_IPTA-GAIA.pdf\")"
   ]
  },
  {
   "cell_type": "code",
   "execution_count": null,
   "metadata": {},
   "outputs": [],
   "source": [
    "ipta_ras = np.array(ipta_ras)-263.2"
   ]
  },
  {
   "cell_type": "code",
   "execution_count": null,
   "metadata": {},
   "outputs": [],
   "source": [
    "gaia_ras = np.array(gaia_ras)-263.2"
   ]
  },
  {
   "cell_type": "code",
   "execution_count": null,
   "metadata": {},
   "outputs": [],
   "source": [
    "bin_list = auto_bin(np.std(gaia_ras)/4,np.min(gaia_ras)-np.std(gaia_ras)/2,np.max(gaia_ras)+np.std(gaia_ras)/2)\n",
    "weights = hist_weight(gaia_ras)"
   ]
  },
  {
   "cell_type": "code",
   "execution_count": null,
   "metadata": {},
   "outputs": [],
   "source": [
    "fig = plt.figure()\n",
    "ax = fig.add_subplot(111)\n",
    "plt.hist(gaia_ras, bin_list, weights=weights, alpha = 0.8, align='left', color = 'C0', label = \"Gaia\")\n",
    "plt.axvline(np.median(ipta_ras), color='red', label = \"IPTA\") #1.57 sigma\n",
    "plt.xlabel(\"RA - 263.2 (deg)\")\n",
    "plt.yticks([])\n",
    "plt.legend(frameon=False)\n",
    "plt.tight_layout()\n",
    "plt.savefig(\"J1732_RA_IPTA-GAIA-25Nov.pdf\")"
   ]
  },
  {
   "cell_type": "code",
   "execution_count": null,
   "metadata": {},
   "outputs": [],
   "source": [
    "(mu, sigma) = norm.fit(gaia_ras)\n",
    "diff = (mu-np.median(ipta_ras))/sigma"
   ]
  },
  {
   "cell_type": "code",
   "execution_count": null,
   "metadata": {},
   "outputs": [],
   "source": [
    "mu"
   ]
  },
  {
   "cell_type": "code",
   "execution_count": null,
   "metadata": {},
   "outputs": [],
   "source": [
    "sigma"
   ]
  },
  {
   "cell_type": "code",
   "execution_count": null,
   "metadata": {},
   "outputs": [],
   "source": [
    "diff"
   ]
  },
  {
   "cell_type": "code",
   "execution_count": null,
   "metadata": {},
   "outputs": [],
   "source": [
    "bin_list = auto_bin(np.std(gaia_decs)/4,np.min(gaia_decs)-np.std(gaia_decs)/2,np.max(gaia_decs)+np.std(gaia_decs)/2)\n",
    "weights = hist_weight(gaia_decs)"
   ]
  },
  {
   "cell_type": "code",
   "execution_count": null,
   "metadata": {},
   "outputs": [],
   "source": [
    "gaia_decs = np.array(gaia_decs) - 50.81"
   ]
  },
  {
   "cell_type": "code",
   "execution_count": null,
   "metadata": {},
   "outputs": [],
   "source": [
    "ipta_decs = np.array(ipta_decs) - 50.81"
   ]
  },
  {
   "cell_type": "code",
   "execution_count": null,
   "metadata": {},
   "outputs": [],
   "source": [
    "gaia_decs"
   ]
  },
  {
   "cell_type": "code",
   "execution_count": null,
   "metadata": {},
   "outputs": [],
   "source": [
    "# DEC plot for J1024\n",
    "plt.hist(gaia_decs, bin_list, weights=weights, alpha = 0.8, align='left', color = 'C0', label = \"Gaia\")\n",
    "plt.axvline(np.median(ipta_decs), color='red', label = \"IPTA\") #0.26 sigma away\n",
    "#ax.set_xlim([np.min(ipta_decs),np.max(ipta_decs)])\n",
    "\n",
    "plt.xlabel(\"DEC + 50.81 (deg)\")\n",
    "plt.yticks([])\n",
    "plt.legend(frameon=False)\n",
    "plt.tight_layout()\n",
    "#plt.savefig(\"J1732_DEC_IPTA-GAIA-25Nov.pdf\")"
   ]
  },
  {
   "cell_type": "code",
   "execution_count": null,
   "metadata": {},
   "outputs": [],
   "source": [
    "(mu, sigma) = norm.fit(gaia_decs)\n",
    "diff = (mu-np.median(ipta_decs))/sigma"
   ]
  },
  {
   "cell_type": "code",
   "execution_count": null,
   "metadata": {},
   "outputs": [],
   "source": [
    "diff"
   ]
  },
  {
   "cell_type": "markdown",
   "metadata": {},
   "source": [
    "## Pulsar J1955+2908"
   ]
  },
  {
   "cell_type": "code",
   "execution_count": null,
   "metadata": {},
   "outputs": [],
   "source": [
    "ind = np.where(np.array(Names) == 'J1955+2908')[0][0]\n",
    "\n",
    "ipta_pmra_err = pmra_err[ind]\n",
    "ipta_pmdec_err = pmdec_err[ind]\n",
    "ipta_posepoch = posepoch[ind]\n",
    "\n",
    "ipta_pmra_err = pmra_err[ind]\n",
    "ipta_pmdec_err = pmdec_err[ind]\n",
    "ipta_posepoch = posepoch[ind]\n",
    "\n",
    "\n",
    "ipta_coord = coords[ind]\n",
    "ipta_coord"
   ]
  },
  {
   "cell_type": "code",
   "execution_count": null,
   "metadata": {},
   "outputs": [],
   "source": [
    "gaia_time = Time(57023., format='mjd')\n",
    "gaia_match_coord =  SkyCoord(ra=298.8661015 * u.degree, \n",
    "                             dec=29.14538275 * u.degree, frame='icrs',\n",
    "                         pm_ra_cosdec = -3.092116051*u.mas/u.yr,\n",
    "                         pm_dec= -7.962991888*u.mas/u.yr,\n",
    "                         obstime=Time(2015.5, format='decimalyear'),\n",
    "                         distance=1. * u.kpc) # HACK\n",
    "gaia_ra_err = 0.125519342\n",
    "gaia_dec_err = 0.165511548\n",
    "gaia_match_coord"
   ]
  },
  {
   "cell_type": "code",
   "execution_count": null,
   "metadata": {},
   "outputs": [],
   "source": [
    "gaia_ipta_sep = ipta_coord.apply_space_motion(new_obstime=gaia_time).separation(gaia_match_coord).arcsec\n",
    "gaia_ipta_sep"
   ]
  },
  {
   "cell_type": "code",
   "execution_count": null,
   "metadata": {},
   "outputs": [],
   "source": [
    "N = 6000\n",
    "seps = []\n",
    "ipta_ras = []\n",
    "ipta_decs = []\n",
    "gaia_ras = []\n",
    "gaia_decs = []\n",
    "for n in tqdm(range(N)):\n",
    "    c1 = SkyCoord(ra=ipta_coord.ra,\n",
    "                 dec=ipta_coord.dec, frame='icrs',\n",
    "                 pm_ra_cosdec=np.random.normal(ipta_coord.pm_ra_cosdec.value, \n",
    "                                               ipta_pmra_err) * u.mas/u.yr,\n",
    "                 pm_dec=np.random.normal(ipta_coord.pm_dec.value, \n",
    "                                               ipta_pmdec_err) * u.mas/u.yr,\n",
    "                 obstime=ipta_coord.obstime,\n",
    "                 distance=ipta_coord.distance)\n",
    "    c2 = SkyCoord(ra=np.random.normal(gaia_match_coord.ra.arcsec, gaia_ra_err) * u.arcsec,\n",
    "                 dec=np.random.normal(gaia_match_coord.dec.arcsec, gaia_dec_err) * u.arcsec, \n",
    "                 frame='icrs',\n",
    "                 pm_ra_cosdec=gaia_match_coord.pm_ra_cosdec, \n",
    "                 pm_dec=gaia_match_coord.pm_dec, \n",
    "                 obstime=gaia_match_coord.obstime,\n",
    "                 distance=gaia_match_coord.distance)\n",
    "    ipta_ras.append(c1.apply_space_motion(new_obstime=gaia_time).ra.degree)\n",
    "    ipta_decs.append(c1.apply_space_motion(new_obstime=gaia_time).dec.degree)\n",
    "    gaia_ras.append(c2.ra.degree)\n",
    "    gaia_decs.append(c2.dec.degree)\n",
    "    sep = c1.apply_space_motion(new_obstime=gaia_time).separation(c2).arcsec\n",
    "    seps.append(sep)"
   ]
  },
  {
   "cell_type": "code",
   "execution_count": null,
   "metadata": {},
   "outputs": [],
   "source": []
  },
  {
   "cell_type": "code",
   "execution_count": null,
   "metadata": {},
   "outputs": [],
   "source": []
  },
  {
   "cell_type": "code",
   "execution_count": null,
   "metadata": {},
   "outputs": [],
   "source": [
    "bin_list = auto_bin(.05,0.0,0.8)\n",
    "weights = hist_weight(seps)\n",
    "\n",
    "fig = plt.figure()\n",
    "ax = fig.add_subplot(111)\n",
    "plt.hist(seps, bin_list, weights=weights, alpha = 0.8, align='left', color = 'C0', label = \"Gaia\")\n",
    "plt.axvline(gaia_ipta_sep, color='red', label = \"IPTA\")\n",
    "plt.xlabel(r\"J1955+2908, Angular Separation $\\theta$ (arcsecs)\")\n",
    "plt.ylabel(\"Probability\")\n",
    "plt.legend(frameon=False)\n",
    "plt.tight_layout()\n",
    "#plt.savefig(\"J1955_Theta_IPTA-GAIA.pdf\")"
   ]
  },
  {
   "cell_type": "code",
   "execution_count": null,
   "metadata": {},
   "outputs": [],
   "source": [
    "ipta_ras = np.array(ipta_ras) - 298.85"
   ]
  },
  {
   "cell_type": "code",
   "execution_count": null,
   "metadata": {},
   "outputs": [],
   "source": [
    "gaia_ras = np.array(gaia_ras) - 298.85"
   ]
  },
  {
   "cell_type": "code",
   "execution_count": null,
   "metadata": {},
   "outputs": [],
   "source": [
    "bin_list = auto_bin(np.std(gaia_ras)/4,np.min(gaia_ras)-np.std(gaia_ras)/2,np.max(gaia_ras)+np.std(gaia_ras)/2)\n",
    "weights = hist_weight(gaia_ras)"
   ]
  },
  {
   "cell_type": "code",
   "execution_count": null,
   "metadata": {},
   "outputs": [],
   "source": [
    "fig = plt.figure()\n",
    "ax = fig.add_subplot(111)\n",
    "plt.hist(gaia_ras, bin_list, weights=weights, alpha = 0.8, align='left', color = 'C0', label = \"Gaia\")\n",
    "plt.axvline(np.median(ipta_ras), color='red', label = \"IPTA\") #1.3 sigma\n",
    "plt.xlabel(\"RA - 298.85 (deg)\")\n",
    "plt.yticks([])\n",
    "plt.legend(frameon=False)\n",
    "plt.tight_layout()\n",
    "plt.savefig(\"J1955_RA_IPTA-GAIA-25Nov.pdf\")"
   ]
  },
  {
   "cell_type": "code",
   "execution_count": null,
   "metadata": {},
   "outputs": [],
   "source": [
    "(mu, sigma) = norm.fit(gaia_ras)\n",
    "diff = (mu-np.median(ipta_ras))/sigma"
   ]
  },
  {
   "cell_type": "code",
   "execution_count": null,
   "metadata": {},
   "outputs": [],
   "source": [
    "diff"
   ]
  },
  {
   "cell_type": "code",
   "execution_count": null,
   "metadata": {},
   "outputs": [],
   "source": [
    "gaia_decs = np.array(gaia_decs) - 29.145"
   ]
  },
  {
   "cell_type": "code",
   "execution_count": null,
   "metadata": {},
   "outputs": [],
   "source": [
    "ipta_decs = np.array(ipta_decs) - 29.145"
   ]
  },
  {
   "cell_type": "code",
   "execution_count": null,
   "metadata": {},
   "outputs": [],
   "source": [
    "max(gaia_decs)"
   ]
  },
  {
   "cell_type": "code",
   "execution_count": null,
   "metadata": {},
   "outputs": [],
   "source": [
    "bin_list = auto_bin(np.std(gaia_decs)/4,np.min(gaia_decs)-np.std(gaia_decs)/2,np.max(gaia_decs)+np.std(gaia_decs)/2)\n",
    "weights = hist_weight(gaia_decs)"
   ]
  },
  {
   "cell_type": "code",
   "execution_count": null,
   "metadata": {},
   "outputs": [],
   "source": [
    "# DEC plot for J1732\n",
    "plt.hist(gaia_decs, bin_list, weights=weights, alpha = 0.8, align='left', color = 'C0', label = \"Gaia\")\n",
    "plt.axvline(np.median(ipta_decs), color='red', label = \"IPTA\") #0.4 sigma\n",
    "ax.set_xlim([np.min(ipta_decs),np.max(ipta_decs)])\n",
    "plt.xlabel(\"DEC - 29.145 (deg)\")\n",
    "plt.legend(frameon=False)\n",
    "plt.yticks([])\n",
    "plt.tight_layout()\n",
    "#plt.savefig(\"J1955_DEC_IPTA-GAIA-25Nov.pdf\")"
   ]
  },
  {
   "cell_type": "code",
   "execution_count": null,
   "metadata": {},
   "outputs": [],
   "source": [
    "(mu, sigma) = norm.fit(gaia_decs)\n",
    "diff = (mu-np.median(ipta_decs))/sigma\n"
   ]
  },
  {
   "cell_type": "markdown",
   "metadata": {},
   "source": [
    "# J1843-1113"
   ]
  },
  {
   "cell_type": "code",
   "execution_count": 7,
   "metadata": {},
   "outputs": [
    {
     "data": {
      "text/plain": [
       "<SkyCoord (ICRS): (ra, dec, distance) in (deg, deg, kpc)\n",
       "    (280.92192463, -11.22529681, 1.)\n",
       " (pm_ra_cosdec, pm_dec) in mas / yr\n",
       "    (-1.85612422, -3.7551222)>"
      ]
     },
     "execution_count": 7,
     "metadata": {},
     "output_type": "execute_result"
    }
   ],
   "source": [
    "## Pulsar J1843-1113\n",
    "\n",
    "ind = np.where(np.array(Names) == 'J1843-1113')[0][0]\n",
    "\n",
    "ipta_pmra_err = pmra_err[ind]\n",
    "ipta_pmdec_err = pmdec_err[ind]\n",
    "ipta_posepoch = posepoch[ind]\n",
    "\n",
    "ipta_pmra_err = pmra_err[ind]\n",
    "ipta_pmdec_err = pmdec_err[ind]\n",
    "ipta_posepoch = posepoch[ind]\n",
    "\n",
    "\n",
    "ipta_coord = coords[ind]\n",
    "ipta_coord"
   ]
  },
  {
   "cell_type": "code",
   "execution_count": 8,
   "metadata": {},
   "outputs": [
    {
     "data": {
      "text/plain": [
       "<SkyCoord (ICRS): (ra, dec, distance) in (deg, deg, kpc)\n",
       "    (280.9223272, -11.22530736, 1.)\n",
       " (pm_ra_cosdec, pm_dec) in mas / yr\n",
       "    (-3.24126441, -7.27438383)>"
      ]
     },
     "execution_count": 8,
     "metadata": {},
     "output_type": "execute_result"
    }
   ],
   "source": [
    "gaia_time = Time(57023., format='mjd')\n",
    "gaia_match_coord =  SkyCoord(ra=280.9223272 * u.degree, \n",
    "                             dec=-11.22530736 * u.degree, frame='icrs',\n",
    "                         pm_ra_cosdec = -3.241264413*u.mas/u.yr,\n",
    "                         pm_dec= -7.274383834*u.mas/u.yr,\n",
    "                         obstime=Time(2015.5, format='decimalyear'),\n",
    "                         distance=1. * u.kpc) # HACK\n",
    "gaia_ra_err = 0.666668976\n",
    "gaia_dec_err = 0.644355643\n",
    "gaia_match_coord"
   ]
  },
  {
   "cell_type": "code",
   "execution_count": 9,
   "metadata": {},
   "outputs": [
    {
     "data": {
      "text/plain": [
       "1.4319161444709916"
      ]
     },
     "execution_count": 9,
     "metadata": {},
     "output_type": "execute_result"
    }
   ],
   "source": [
    "gaia_ipta_sep = ipta_coord.apply_space_motion(new_obstime=gaia_time).separation(gaia_match_coord).arcsec\n",
    "gaia_ipta_sep"
   ]
  },
  {
   "cell_type": "code",
   "execution_count": 10,
   "metadata": {},
   "outputs": [
    {
     "name": "stderr",
     "output_type": "stream",
     "text": [
      "100%|██████████| 6000/6000 [13:32<00:00,  7.38it/s]\n"
     ]
    }
   ],
   "source": [
    "N = 6000\n",
    "seps = []\n",
    "ipta_ras = []\n",
    "ipta_decs = []\n",
    "gaia_ras = []\n",
    "gaia_decs = []\n",
    "for n in tqdm(range(N)):\n",
    "    c1 = SkyCoord(ra=ipta_coord.ra,\n",
    "                 dec=ipta_coord.dec, frame='icrs',\n",
    "                 pm_ra_cosdec=np.random.normal(ipta_coord.pm_ra_cosdec.value, \n",
    "                                               ipta_pmra_err) * u.mas/u.yr,\n",
    "                 pm_dec=np.random.normal(ipta_coord.pm_dec.value, \n",
    "                                               ipta_pmdec_err) * u.mas/u.yr,\n",
    "                 obstime=ipta_coord.obstime,\n",
    "                 distance=ipta_coord.distance)\n",
    "    c2 = SkyCoord(ra=np.random.normal(gaia_match_coord.ra.arcsec, gaia_ra_err) * u.arcsec,\n",
    "                 dec=np.random.normal(gaia_match_coord.dec.arcsec, gaia_dec_err) * u.arcsec, \n",
    "                 frame='icrs',\n",
    "                 pm_ra_cosdec=gaia_match_coord.pm_ra_cosdec, \n",
    "                 pm_dec=gaia_match_coord.pm_dec, \n",
    "                 obstime=gaia_match_coord.obstime,\n",
    "                 distance=gaia_match_coord.distance)\n",
    "    ipta_ras.append(c1.apply_space_motion(new_obstime=gaia_time).ra.degree)\n",
    "    ipta_decs.append(c1.apply_space_motion(new_obstime=gaia_time).dec.degree)\n",
    "    gaia_ras.append(c2.ra.degree)\n",
    "    gaia_decs.append(c2.dec.degree)\n",
    "    sep = c1.apply_space_motion(new_obstime=gaia_time).separation(c2).arcsec\n",
    "    seps.append(sep)"
   ]
  },
  {
   "cell_type": "code",
   "execution_count": null,
   "metadata": {},
   "outputs": [],
   "source": [
    "bin_list = auto_bin(.05,0.0,0.8)\n",
    "weights = hist_weight(seps)\n",
    "\n",
    "fig = plt.figure()\n",
    "ax = fig.add_subplot(111)\n",
    "plt.hist(seps, bin_list, weights=weights, alpha = 0.8, align='left', color = 'C0', label = \"Gaia\")\n",
    "plt.axvline(gaia_ipta_sep, color='red', label = \"IPTA\")\n",
    "plt.xlabel(r\"J1955+2908, Angular Separation $\\theta$ (arcsecs)\")\n",
    "plt.ylabel(\"Probability\")\n",
    "plt.legend(frameon=False)\n",
    "plt.tight_layout()\n",
    "#plt.savefig(\"J1955_Theta_IPTA-GAIA.pdf\")"
   ]
  },
  {
   "cell_type": "code",
   "execution_count": null,
   "metadata": {},
   "outputs": [],
   "source": [
    "ipta_ras = np.array(ipta_ras) -280.92 # minus some number which makes plotting easier\n"
   ]
  },
  {
   "cell_type": "code",
   "execution_count": null,
   "metadata": {},
   "outputs": [],
   "source": [
    "gaia_ras = np.array(gaia_ras) -280.92 # minus some number which makes plotting easier"
   ]
  },
  {
   "cell_type": "code",
   "execution_count": null,
   "metadata": {},
   "outputs": [],
   "source": [
    "bin_list = auto_bin(np.std(gaia_ras)/4,np.min(gaia_ras)-np.std(gaia_ras)/2,np.max(gaia_ras)+np.std(gaia_ras)/2)\n",
    "weights = hist_weight(gaia_ras)"
   ]
  },
  {
   "cell_type": "code",
   "execution_count": null,
   "metadata": {},
   "outputs": [],
   "source": [
    "fig = plt.figure()\n",
    "ax = fig.add_subplot(111)\n",
    "plt.hist(gaia_ras, bin_list, weights=weights, alpha = 0.8, align='left', color = 'C0', label = \"Gaia\")\n",
    "plt.axvline(np.median(ipta_ras), color='red', label = \"IPTA\") #1.3 sigma\n",
    "plt.xlabel(\"RA + 280.92 (deg)\")\n",
    "plt.yticks([])\n",
    "plt.legend(frameon=False)\n",
    "plt.tight_layout()\n",
    "#plt.savefig(\"J1843_RA_IPTA-GAIA-29Nov.pdf\")"
   ]
  },
  {
   "cell_type": "code",
   "execution_count": null,
   "metadata": {},
   "outputs": [],
   "source": [
    "(mu, sigma) = norm.fit(gaia_ras)\n",
    "diff = (mu-np.median(ipta_ras))/sigma"
   ]
  },
  {
   "cell_type": "code",
   "execution_count": null,
   "metadata": {},
   "outputs": [],
   "source": [
    "diff"
   ]
  },
  {
   "cell_type": "code",
   "execution_count": null,
   "metadata": {},
   "outputs": [],
   "source": [
    "gaia_decs = np.array(gaia_decs) +11.22#\n",
    "ipta_decs = np.array(ipta_decs)+11.22"
   ]
  },
  {
   "cell_type": "code",
   "execution_count": null,
   "metadata": {},
   "outputs": [],
   "source": [
    "bin_list = auto_bin(np.std(gaia_decs)/4,np.min(gaia_decs)-np.std(gaia_decs)/2,np.max(gaia_decs)+np.std(gaia_decs)/2)\n",
    "weights = hist_weight(gaia_decs)"
   ]
  },
  {
   "cell_type": "code",
   "execution_count": null,
   "metadata": {},
   "outputs": [],
   "source": [
    "# DEC plot for J1843\n",
    "plt.hist(gaia_decs, bin_list, weights=weights, alpha = 0.8, align='left', color = 'C0', label = \"Gaia\")\n",
    "plt.axvline(np.median(ipta_decs), color='red', label = \"IPTA\") #0.4 sigma\n",
    "ax.set_xlim([np.min(ipta_decs),np.max(ipta_decs)])\n",
    "plt.xlabel(\"DEC - 11.22 (deg)\")\n",
    "plt.legend(frameon=False)\n",
    "plt.yticks([])\n",
    "plt.tight_layout()\n",
    "#plt.savefig(\"J1843_DEC_IPTA-GAIA-25Nov.pdf\")"
   ]
  },
  {
   "cell_type": "code",
   "execution_count": null,
   "metadata": {},
   "outputs": [],
   "source": []
  }
 ],
 "metadata": {
  "kernelspec": {
   "display_name": "Python 3",
   "language": "python",
   "name": "python3"
  },
  "language_info": {
   "codemirror_mode": {
    "name": "ipython",
    "version": 3
   },
   "file_extension": ".py",
   "mimetype": "text/x-python",
   "name": "python",
   "nbconvert_exporter": "python",
   "pygments_lexer": "ipython3",
   "version": "3.6.5"
  }
 },
 "nbformat": 4,
 "nbformat_minor": 2
}
