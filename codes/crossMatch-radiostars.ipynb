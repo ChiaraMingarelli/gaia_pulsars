{
 "cells": [
  {
   "cell_type": "code",
   "execution_count": 1,
   "metadata": {},
   "outputs": [],
   "source": [
    "# %load query.py\n",
    "import numpy as np\n",
    "from astropy import units as u\n",
    "from astropy.io import ascii\n",
    "from astroquery.xmatch import XMatch\n",
    "import requests"
   ]
  },
  {
   "cell_type": "code",
   "execution_count": 2,
   "metadata": {},
   "outputs": [],
   "source": [
    "# %load query.py\n",
    "import numpy as np\n",
    "import glob\n",
    "\n",
    "from astropy import units as u\n",
    "from astropy.io import ascii\n",
    "from astroquery.xmatch import XMatch\n",
    "from astropy.table import Table, vstack\n",
    "from astropy.coordinates import SkyCoord, ICRS, Galactic, Angle\n",
    "from astropy.time import Time"
   ]
  },
  {
   "cell_type": "code",
   "execution_count": 3,
   "metadata": {},
   "outputs": [],
   "source": [
    "files = glob.glob('radio_stars.dat')"
   ]
  },
  {
   "cell_type": "code",
   "execution_count": 5,
   "metadata": {},
   "outputs": [
    {
     "ename": "KeyError",
     "evalue": "'ELONG'",
     "output_type": "error",
     "traceback": [
      "\u001b[0;31m---------------------------------------------------------------------------\u001b[0m",
      "\u001b[0;31mKeyError\u001b[0m                                  Traceback (most recent call last)",
      "\u001b[0;32m<ipython-input-5-9ddef7b3e894>\u001b[0m in \u001b[0;36m<module>\u001b[0;34m()\u001b[0m\n\u001b[1;32m     20\u001b[0m     \u001b[0;32mtry\u001b[0m\u001b[0;34m:\u001b[0m\u001b[0;34m\u001b[0m\u001b[0m\n\u001b[0;32m---> 21\u001b[0;31m         \u001b[0mra\u001b[0m \u001b[0;34m=\u001b[0m \u001b[0mAngle\u001b[0m\u001b[0;34m(\u001b[0m\u001b[0md\u001b[0m\u001b[0;34m[\u001b[0m\u001b[0;34m'RAJ'\u001b[0m\u001b[0;34m]\u001b[0m\u001b[0;34m,\u001b[0m \u001b[0mu\u001b[0m\u001b[0;34m.\u001b[0m\u001b[0mhourangle\u001b[0m\u001b[0;34m)\u001b[0m\u001b[0;34m.\u001b[0m\u001b[0mto\u001b[0m\u001b[0;34m(\u001b[0m\u001b[0mu\u001b[0m\u001b[0;34m.\u001b[0m\u001b[0mdeg\u001b[0m\u001b[0;34m)\u001b[0m\u001b[0;34m\u001b[0m\u001b[0m\n\u001b[0m\u001b[1;32m     22\u001b[0m         \u001b[0mdec\u001b[0m \u001b[0;34m=\u001b[0m \u001b[0mAngle\u001b[0m\u001b[0;34m(\u001b[0m\u001b[0md\u001b[0m\u001b[0;34m[\u001b[0m\u001b[0;34m'DECJ'\u001b[0m\u001b[0;34m]\u001b[0m\u001b[0;34m,\u001b[0m \u001b[0mu\u001b[0m\u001b[0;34m.\u001b[0m\u001b[0mdegree\u001b[0m\u001b[0;34m)\u001b[0m\u001b[0;34m\u001b[0m\u001b[0m\n",
      "\u001b[0;31mKeyError\u001b[0m: 'RAJ'",
      "\nDuring handling of the above exception, another exception occurred:\n",
      "\u001b[0;31mKeyError\u001b[0m                                  Traceback (most recent call last)",
      "\u001b[0;32m<ipython-input-5-9ddef7b3e894>\u001b[0m in \u001b[0;36m<module>\u001b[0;34m()\u001b[0m\n\u001b[1;32m     39\u001b[0m \u001b[0;34m\u001b[0m\u001b[0m\n\u001b[1;32m     40\u001b[0m     \u001b[0;32mexcept\u001b[0m \u001b[0mKeyError\u001b[0m\u001b[0;34m:\u001b[0m\u001b[0;34m\u001b[0m\u001b[0m\n\u001b[0;32m---> 41\u001b[0;31m         \u001b[0mlon\u001b[0m \u001b[0;34m=\u001b[0m \u001b[0mfloat\u001b[0m\u001b[0;34m(\u001b[0m\u001b[0md\u001b[0m\u001b[0;34m[\u001b[0m\u001b[0;34m'ELONG'\u001b[0m\u001b[0;34m]\u001b[0m\u001b[0;34m)\u001b[0m\u001b[0;34m*\u001b[0m\u001b[0mu\u001b[0m\u001b[0;34m.\u001b[0m\u001b[0mdeg\u001b[0m\u001b[0;34m\u001b[0m\u001b[0m\n\u001b[0m\u001b[1;32m     42\u001b[0m         \u001b[0mlat\u001b[0m \u001b[0;34m=\u001b[0m \u001b[0mfloat\u001b[0m\u001b[0;34m(\u001b[0m\u001b[0md\u001b[0m\u001b[0;34m[\u001b[0m\u001b[0;34m'ELAT'\u001b[0m\u001b[0;34m]\u001b[0m\u001b[0;34m)\u001b[0m\u001b[0;34m*\u001b[0m\u001b[0mu\u001b[0m\u001b[0;34m.\u001b[0m\u001b[0mdeg\u001b[0m\u001b[0;34m\u001b[0m\u001b[0m\n\u001b[1;32m     43\u001b[0m         coord = SkyCoord(l=lon, b=lat, frame='galactic',\n",
      "\u001b[0;31mKeyError\u001b[0m: 'ELONG'"
     ]
    }
   ],
   "source": [
    "RAs = []\n",
    "DECs = []\n",
    "Names = []\n",
    "pmra = []\n",
    "pmdec = []\n",
    "pepoch = []\n",
    "posepoch = []\n",
    "dmepoch = []\n",
    "dm = []\n",
    "coords = []\n",
    "\n",
    "for file in files:\n",
    "    d = {}\n",
    "    with open(file) as f:\n",
    "        for line in f:\n",
    "            key = line.split()[0]\n",
    "            value = line.split()[1]\n",
    "            d[key] = value\n",
    "            \n",
    "    try:\n",
    "        ra = Angle(d['RAJ'], u.hourangle).to(u.deg)\n",
    "        dec = Angle(d['DECJ'], u.degree)\n",
    "        coord = SkyCoord(ra=ra, dec=dec, frame='icrs',\n",
    "                     pm_ra_cosdec = float(d['PMRA'])*np.cos(dec.to(u.rad))*u.mas/u.yr, \n",
    "                     pm_dec=float(d['PMDEC'])*u.mas/u.yr,\n",
    "                     obstime=Time(float(d['POSEPOCH']), format='mjd'),\n",
    "                     distance=1. * u.kpc) # HACK\n",
    "        coords.append(coord)\n",
    "        RAs.append(ra.value)\n",
    "        #print(d['PSRJ'], d['DECJ'])\n",
    "        DECs.append(dec.value)\n",
    "        Names.append(d['PSRJ'])\n",
    "        pmra.append(coord.pm_ra_cosdec.value)\n",
    "        pmdec.append(coord.pm_dec.value)\n",
    "        pepoch.append(d['PEPOCH'])\n",
    "        posepoch.append(d['POSEPOCH'])\n",
    "        dmepoch.append(d['DMEPOCH'])\n",
    "        dm.append(d['DM'])\n",
    "        \n",
    "    except KeyError:\n",
    "        lon = float(d['ELONG'])*u.deg\n",
    "        lat = float(d['ELAT'])*u.deg\n",
    "        coord = SkyCoord(l=lon, b=lat, frame='galactic',\n",
    "                         pm_l_cosb = float(d['PMELONG'])*np.cos(lat.to(u.rad))*u.mas/u.yr, \n",
    "                         pm_b=float(d['PMELAT'])*u.mas/u.yr,\n",
    "                         obstime=Time(float(d['POSEPOCH']), format='mjd'),\n",
    "                         distance=1. * u.kpc) # HACKITY HACK HACK\n",
    "        icrscoord = coord.transform_to(ICRS)\n",
    "        coords.append(icrscoord)\n",
    "        #print(icrscoord)\n",
    "        #print(d['PSRJ'])\n",
    "        RAs.append(icrscoord.ra.to(u.deg).value)\n",
    "        DECs.append(icrscoord.dec.to(u.deg).value)\n",
    "        Names.append(d['PSRJ'])\n",
    "        pmra.append((icrscoord.pm_ra_cosdec/np.cos(icrscoord.dec.to(u.rad))).value)\n",
    "        pmdec.append(icrscoord.pm_dec.value)\n",
    "        pepoch.append(d['PEPOCH'])\n",
    "        posepoch.append(d['POSEPOCH'])\n",
    "        dmepoch.append(d['DMEPOCH'])\n",
    "        dm.append(d['DM'])        \n",
    "        #coord = SkyCoord(d[''])\n",
    "        \n",
    "        continue\n",
    "        \n",
    "t = Table([Names, RAs, DECs, pmra, pmdec, pepoch, posepoch, dmepoch, dm], names=['names', 'ra', 'dec', 'pmra', 'pmdec', 'dm', 'pepoch', 'posepoch', 'dmepoch'])        \n",
    "#tmin = Table([RAs, DECs], names=['ra', 'dec'])\n"
   ]
  },
  {
   "cell_type": "code",
   "execution_count": null,
   "metadata": {
    "collapsed": true
   },
   "outputs": [],
   "source": [
    "print(coords[0].apply_space_motion(new_obstime=Time(57023., format='mjd')))"
   ]
  },
  {
   "cell_type": "code",
   "execution_count": null,
   "metadata": {
    "collapsed": true
   },
   "outputs": [],
   "source": [
    "gaia_time = Time(57023., format='mjd')"
   ]
  },
  {
   "cell_type": "code",
   "execution_count": null,
   "metadata": {
    "collapsed": true
   },
   "outputs": [],
   "source": [
    "t['ra'] = [c.apply_space_motion(new_obstime=gaia_time).ra.value for c in coords]\n",
    "t['dec'] = [c.apply_space_motion(new_obstime=gaia_time).dec.value for c in coords]"
   ]
  },
  {
   "cell_type": "code",
   "execution_count": null,
   "metadata": {
    "collapsed": true
   },
   "outputs": [],
   "source": [
    "t.write('ipta_data.csv', format='csv', overwrite=True)\n",
    "#tmin.write('ipta_data_nonames.csv', format='csv', overwrite=True)"
   ]
  },
  {
   "cell_type": "code",
   "execution_count": null,
   "metadata": {
    "collapsed": true
   },
   "outputs": [],
   "source": [
    "r = requests.post(\n",
    "'http://cdsxmatch.u-strasbg.fr/xmatch/api/v1/sync',\n",
    "data={'request': 'xmatch', 'distMaxArcsec': 3.0, 'RESPONSEFORMAT': 'csv',\n",
    "'cat2': 'vizier:I/345/gaia2', 'colRA1': 'ra', 'colDec1': 'dec'},\n",
    "files={'cat1': open('ipta_data.csv', 'r')})"
   ]
  },
  {
   "cell_type": "code",
   "execution_count": null,
   "metadata": {
    "collapsed": true
   },
   "outputs": [],
   "source": [
    "print(r.text)"
   ]
  },
  {
   "cell_type": "code",
   "execution_count": null,
   "metadata": {
    "collapsed": true
   },
   "outputs": [],
   "source": [
    "h = open('ipta_crossmatch_3arcsecond_test.csv', 'w')\n",
    "h.write(r.text)\n",
    "h.close()"
   ]
  },
  {
   "cell_type": "code",
   "execution_count": null,
   "metadata": {
    "collapsed": true
   },
   "outputs": [],
   "source": []
  },
  {
   "cell_type": "code",
   "execution_count": null,
   "metadata": {
    "collapsed": true
   },
   "outputs": [],
   "source": []
  },
  {
   "cell_type": "code",
   "execution_count": null,
   "metadata": {
    "collapsed": true
   },
   "outputs": [],
   "source": []
  }
 ],
 "metadata": {
  "kernelspec": {
   "display_name": "Python 3",
   "language": "python",
   "name": "python3"
  },
  "language_info": {
   "codemirror_mode": {
    "name": "ipython",
    "version": 3
   },
   "file_extension": ".py",
   "mimetype": "text/x-python",
   "name": "python",
   "nbconvert_exporter": "python",
   "pygments_lexer": "ipython3",
   "version": "3.6.5"
  }
 },
 "nbformat": 4,
 "nbformat_minor": 2
}
