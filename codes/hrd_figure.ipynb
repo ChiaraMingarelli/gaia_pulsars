{
 "cells": [
  {
   "cell_type": "code",
   "execution_count": null,
   "metadata": {},
   "outputs": [],
   "source": [
    "import numpy as np\n",
    "import matplotlib.pyplot as plt\n",
    "from matplotlib.ticker import FormatStrFormatter, LinearLocator, NullFormatter, NullLocator, MultipleLocator\n",
    "import matplotlib.ticker\n",
    "import matplotlib.colors\n",
    "from matplotlib.font_manager import FontProperties\n",
    "from matplotlib import rc, text\n",
    "from dustmaps.sfd import SFDQuery\n",
    "from dustmaps.bayestar import BayestarQuery\n",
    "import astropy.coordinates as coord\n",
    "import astropy.units as u\n",
    "import scipy.stats\n",
    "from astroquery.gaia import Gaia\n",
    "from astropy.table import Table, unique, Column, hstack, vstack\n",
    "%matplotlib inline\n",
    "%config InlineBackend.figure_format = \"retina\""
   ]
  },
  {
   "cell_type": "code",
   "execution_count": null,
   "metadata": {},
   "outputs": [],
   "source": [
    "def dust(ra, dec, distance, plot=False, max_samples=10, mode='median', model='bayes'):\n",
    "    c = coord.SkyCoord(ra*u.deg, dec*u.deg, distance=distance*u.pc)\n",
    "    sfd = SFDQuery()\n",
    "    bayes = BayestarQuery(max_samples=max_samples)\n",
    "\n",
    "    return sfd(c), bayes(c, mode=mode, return_flags=True) #, iphas(c, mode=mode), marshall(c), chen(c)\n",
    "def getDust(G, bp, rp, ebv, maxnit=100):\n",
    "    \"\"\" Compute the Gaia extinctions assuming relations from Babusieux\n",
    "    Arguments: G, bp, rp, E(B-V)\n",
    "    maxnit -- number of iterations\n",
    "    Returns extinction in G,bp, rp\n",
    "    Author: Sergey Koposov skoposov@cmu.edu\n",
    "    \"\"\"\n",
    "    c1, c2, c3, c4, c5, c6, c7 = [0.9761, -0.1704,\n",
    "                                  0.0086, 0.0011, -0.0438, 0.0013, 0.0099]\n",
    "    d1, d2, d3, d4, d5, d6, d7 = [\n",
    "        1.1517, -0.0871, -0.0333, 0.0173, -0.0230, 0.0006, 0.0043]\n",
    "    e1, e2, e3, e4, e5, e6, e7 = [\n",
    "        0.6104, -0.0170, -0.0026, -0.0017, -0.0078, 0.00005, 0.0006]\n",
    "    A0 = 3.1*ebv\n",
    "    P1 = np.poly1d([c1, c2, c3, c4][::-1])\n",
    "\n",
    "    def F1(bprp): return np.poly1d(\n",
    "        [c1, c2, c3, c4][::-1])(bprp)+c5*A0+c6*A0**2+c7*bprp*A0\n",
    "\n",
    "    def F2(bprp): return np.poly1d(\n",
    "        [d1, d2, d3, d4][::-1])(bprp)+d5*A0+d6*A0**2+d7*bprp*A0\n",
    "\n",
    "    def F3(bprp): return np.poly1d(\n",
    "        [e1, e2, e3, e4][::-1])(bprp)+e5*A0+e6*A0**2+e7*bprp*A0\n",
    "    xind = np.isfinite(bp+rp+G)\n",
    "    curbp = bp-rp\n",
    "    for i in range(maxnit):\n",
    "        AG = F1(curbp)*A0\n",
    "        Abp = F2(curbp)*A0\n",
    "        Arp = F3(curbp)*A0\n",
    "        curbp1 = bp-rp-Abp+Arp\n",
    "\n",
    "        delta = np.abs(curbp1-curbp)[xind]\n",
    "        curbp = curbp1\n",
    "    print(scipy.stats.scoreatpercentile(delta[np.isfinite(delta)], 99))\n",
    "    AG = F1(curbp)*A0\n",
    "    Abp = F2(curbp)*A0\n",
    "    Arp = F3(curbp)*A0\n",
    "    return AG, Abp, Arp\n"
   ]
  },
  {
   "cell_type": "code",
   "execution_count": null,
   "metadata": {},
   "outputs": [],
   "source": [
    "fig_width_pt = 245.27 #513.17           # Get this from LaTeX using \\showthe\\columnwidth\n",
    "inches_per_pt = 1.0/72.27               # Convert pt to inches\n",
    "golden_mean = (np.sqrt(5)-1.0)/2.0      # Aesthetic ratio\n",
    "fig_width = fig_width_pt*inches_per_pt  # width in inches\n",
    "fig_height =fig_width*golden_mean       # height in inches\n",
    "fig_size = [fig_width,fig_height]\n",
    "\n",
    "params = {'backend': 'pdf',\n",
    "        'axes.labelsize': 7,\n",
    "        'lines.markersize': 2,\n",
    "        'font.size': 7,\n",
    "        'xtick.major.size':6,\n",
    "        'xtick.minor.size':3,  \n",
    "        'ytick.major.size':6,\n",
    "        'ytick.minor.size':3, \n",
    "        'xtick.major.width':0.5,\n",
    "        'ytick.major.width':0.5,\n",
    "        'xtick.minor.width':0.5,\n",
    "        'ytick.minor.width':0.5,\n",
    "        'lines.markeredgewidth':1,\n",
    "        'axes.linewidth':1.0,\n",
    "        'legend.fontsize': 7,\n",
    "        'xtick.labelsize': 7,\n",
    "        'ytick.labelsize': 7,\n",
    "        'savefig.dpi':200,\n",
    "        'path.simplify':True,\n",
    "        'font.family': 'serif',\n",
    "        'font.serif':'Times',\n",
    "        'text.latex.preamble': [r'\\usepackage{amsmath}'],\n",
    "        'text.usetex':True,\n",
    "        #'axes.color_cycle': ['b', 'lime', 'r', 'purple', 'g', 'c', 'm', 'orange', 'darkblue', \\\n",
    "        #                        'darkcyan', 'y','orangered','chartreuse','brown','deeppink','lightgreen', 'k'],\n",
    "        #'font.serif':cm,\n",
    "        'figure.figsize': fig_size}\n",
    "plt.rcParams.update(params)"
   ]
  },
  {
   "cell_type": "code",
   "execution_count": null,
   "metadata": {},
   "outputs": [],
   "source": [
    "query = \"SELECT TOP 10000 \\\n",
    "phot_g_mean_mag+5*log10(parallax)-10 AS mg, bp_rp FROM gaiadr2.gaia_source \\\n",
    "WHERE parallax_over_error > 100 \\\n",
    "AND phot_g_mean_flux_over_error>50 \\\n",
    "AND phot_rp_mean_flux_over_error>20 \\\n",
    "AND phot_bp_mean_flux_over_error>20 \\\n",
    "AND phot_bp_rp_excess_factor < 1.3+0.06*power(phot_bp_mean_mag-phot_rp_mean_mag,2) \\\n",
    "AND phot_bp_rp_excess_factor > 1.0+0.015*power(phot_bp_mean_mag-phot_rp_mean_mag,2) \\\n",
    "AND visibility_periods_used>8 \\\n",
    "AND astrometric_chi2_al/(astrometric_n_good_obs_al-5)<1.44*greatest(1,exp(-0.4*(phot_g_mean_mag-19.5))) \\\n",
    "AND (bp_rp > 2 \\\n",
    "OR phot_g_mean_mag+5*log10(parallax)-10 < 10+2.6*bp_rp)\""
   ]
  },
  {
   "cell_type": "code",
   "execution_count": null,
   "metadata": {},
   "outputs": [],
   "source": [
    "wd_query = \"SELECT TOP 1000 \\\n",
    "phot_g_mean_mag+5*log10(parallax)-10 AS mg, bp_rp FROM gaiadr2.gaia_source \\\n",
    "WHERE parallax_over_error > 20 \\\n",
    "AND phot_g_mean_flux_over_error>50 \\\n",
    "AND phot_rp_mean_flux_over_error>20 \\\n",
    "AND phot_bp_mean_flux_over_error>20 \\\n",
    "AND phot_bp_rp_excess_factor < 1.3+0.06*power(phot_bp_mean_mag-phot_rp_mean_mag,2) \\\n",
    "AND phot_bp_rp_excess_factor > 1.0+0.015*power(phot_bp_mean_mag-phot_rp_mean_mag,2) \\\n",
    "AND visibility_periods_used>8 \\\n",
    "AND astrometric_chi2_al/(astrometric_n_good_obs_al-5)<1.44*greatest(1,exp(-0.4*(phot_g_mean_mag-19.5))) \\\n",
    "AND bp_rp < 2 \\\n",
    "AND phot_g_mean_mag+5*log10(parallax)-10 > 10+2.6*bp_rp\""
   ]
  },
  {
   "cell_type": "code",
<<<<<<< HEAD
   "execution_count": null,
   "metadata": {},
   "outputs": [],
   "source": [
    "job = Gaia.launch_job(query)\n",
    "mainsequence = Table(job.get_results())"
   ]
  },
  {
   "cell_type": "code",
   "execution_count": null,
   "metadata": {},
   "outputs": [],
=======
   "execution_count": 6,
   "metadata": {},
   "outputs": [
    {
     "name": "stdout",
     "output_type": "stream",
     "text": [
      "Created TAP+ (v1.0.1) - Connection:\n",
      "\tHost: gea.esac.esa.int\n",
      "\tUse HTTPS: False\n",
      "\tPort: 80\n",
      "\tSSL Port: 443\n",
      "Launched query: 'SELECT TOP 1000 phot_g_mean_mag+5*log10(parallax)-10 AS mg, bp_rp FROM gaiadr2.gaia_source WHERE parallax_over_error > 20 AND phot_g_mean_flux_over_error>50 AND phot_rp_mean_flux_over_error>20 AND phot_bp_mean_flux_over_error>20 AND phot_bp_rp_excess_factor < 1.3+0.06*power(phot_bp_mean_mag-phot_rp_mean_mag,2) AND phot_bp_rp_excess_factor > 1.0+0.015*power(phot_bp_mean_mag-phot_rp_mean_mag,2) AND visibility_periods_used>8 AND astrometric_chi2_al/(astrometric_n_good_obs_al-5)<1.44*greatest(1,exp(-0.4*(phot_g_mean_mag-19.5))) AND bp_rp < 2 AND phot_g_mean_mag+5*log10(parallax)-10 > 10+2.6*bp_rp'\n",
      "Retrieving sync. results...\n",
      "Query finished.\n"
     ]
    },
    {
     "name": "stderr",
     "output_type": "stream",
     "text": [
      "WARNING: W35: None:5:0: W35: 'value' attribute required for INFO elements [astropy.io.votable.tree]\n",
      "WARNING: W35: None:6:0: W35: 'value' attribute required for INFO elements [astropy.io.votable.tree]\n",
      "WARNING: W35: None:7:0: W35: 'value' attribute required for INFO elements [astropy.io.votable.tree]\n",
      "WARNING: W35: None:8:0: W35: 'value' attribute required for INFO elements [astropy.io.votable.tree]\n",
      "WARNING: W35: None:10:0: W35: 'value' attribute required for INFO elements [astropy.io.votable.tree]\n",
      "WARNING: W06: None:14:0: W06: Invalid UCD 'phot.color': Unknown word 'phot.color' [astropy.io.votable.tree]\n"
     ]
    }
   ],
>>>>>>> parent of b35b218... update to J1843 notebook
   "source": [
    "job = Gaia.launch_job(wd_query)\n",
    "data = Table(job.get_results())"
   ]
  },
  {
   "cell_type": "code",
<<<<<<< HEAD
   "execution_count": null,
   "metadata": {},
   "outputs": [],
=======
   "execution_count": 7,
   "metadata": {},
   "outputs": [
    {
     "data": {
      "text/plain": [
       "(17, -2)"
      ]
     },
     "execution_count": 7,
     "metadata": {},
     "output_type": "execute_result"
    },
    {
     "data": {
      "image/png": "iVBORw0KGgoAAAANSUhEUgAAAcwAAAEmCAYAAADvBKBiAAAABHNCSVQICAgIfAhkiAAAAAlwSFlz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\n+P8Jlfz0HLDJ/gAAAABJRU5ErkJggg==\n",
      "text/plain": [
       "<matplotlib.figure.Figure at 0x1a21380f28>"
      ]
     },
     "metadata": {
      "image/png": {
       "height": 147,
       "width": 230
      }
     },
     "output_type": "display_data"
    }
   ],
>>>>>>> parent of b35b218... update to J1843 notebook
   "source": [
    "fig, ax1 = plt.subplots()\n",
    "ax1.scatter(data['bp_rp'], data['mg'])\n",
    "ax1.scatter(mainsequence['bp_rp'], mainsequence['mg'])\n",
    "ax1.set_xlim([-1,3])\n",
    "ax1.set_ylim([17,-2])"
   ]
  },
  {
   "cell_type": "code",
<<<<<<< HEAD
   "execution_count": null,
=======
   "execution_count": 8,
>>>>>>> parent of b35b218... update to J1843 notebook
   "metadata": {},
   "outputs": [],
   "source": [
    "pulsar_data = np.genfromtxt('ipta_3arcsec_wpm-result.csv', \n",
    "                            delimiter=',', names=True, dtype=None)"
   ]
  },
  {
   "cell_type": "code",
<<<<<<< HEAD
   "execution_count": null,
=======
   "execution_count": 9,
>>>>>>> parent of b35b218... update to J1843 notebook
   "metadata": {},
   "outputs": [],
   "source": [
    "pulsar_data = Table(pulsar_data)\n",
    "pulsar_data.sort(['names', 'angdist'])\n",
    "pulsar_data = unique(pulsar_data, keys='names') # drop less-good duplicate matches"
   ]
  },
  {
   "cell_type": "code",
<<<<<<< HEAD
   "execution_count": null,
   "metadata": {},
   "outputs": [],
   "source": [
    "names_keep = ['J0437-4715', 'J1012+5307', 'J1024-0719', 'J1732-5049', 'J1910+1256', 'J1843-1113', 'J1955+2908']\n",
=======
   "execution_count": 10,
   "metadata": {},
   "outputs": [],
   "source": [
    "names_keep = ['J0437-4715', 'J1012+5307', 'J1024-0719', 'J1732-5049', 'J1910+1256', 'J1955+2908']\n",
>>>>>>> parent of b35b218... update to J1843 notebook
    "pulsar_data = pulsar_data[np.isin(pulsar_data['names'], names_keep)] # keep only the sources we wrote about"
   ]
  },
  {
   "cell_type": "code",
<<<<<<< HEAD
   "execution_count": null,
   "metadata": {},
   "outputs": [],
   "source": [
    "distance =      Column([156.7,  907, 1272, 4220, 1162, 1484, 1896], name='distance')\n",
    "distance_low =  Column([156.5,  777, 1072, 2854,  862, 992, 1496], name='distance_low')\n",
    "distance_high = Column([156.9, 1037, 1472, 5586, 1462, 1976, 2269], name='distance_high')\n",
=======
   "execution_count": 11,
   "metadata": {},
   "outputs": [],
   "source": [
    "distance =      Column([156.7,  907, 1272, 4220, 1162, 1896], name='distance')\n",
    "distance_low =  Column([156.5,  777, 1072, 2854,  862, 1496], name='distance_low')\n",
    "distance_high = Column([156.9, 1037, 1472, 5586, 1462, 2269], name='distance_high')\n",
>>>>>>> parent of b35b218... update to J1843 notebook
    "pulsar_data.add_columns([distance, distance_low, distance_high])"
   ]
  },
  {
   "cell_type": "code",
<<<<<<< HEAD
   "execution_count": null,
=======
   "execution_count": 19,
>>>>>>> parent of b35b218... update to J1843 notebook
   "metadata": {},
   "outputs": [],
   "source": [
    "pulsar_data['mg'] = pulsar_data['phot_g_mean_mag']*u.mag - coord.Distance(pulsar_data['distance']*u.pc).distmod\n",
    "pulsar_data['mg_lo'] = pulsar_data['phot_g_mean_mag']*u.mag - coord.Distance(pulsar_data['distance_high']*u.pc).distmod\n",
    "pulsar_data['mg_hi'] = pulsar_data['phot_g_mean_mag']*u.mag - coord.Distance(pulsar_data['distance_low']*u.pc).distmod\n",
    "mg_err = np.vstack((np.abs(pulsar_data['mg_lo'] - pulsar_data['mg']), \n",
    "                    np.abs(pulsar_data['mg_hi'] - pulsar_data['mg'])))\n",
    "color_err = np.sqrt((2.5 / np.log(10)*pulsar_data['phot_bp_mean_flux_error']/pulsar_data['phot_bp_mean_flux'])**2 + \n",
    "                    (2.5 / np.log(10)*pulsar_data['phot_rp_mean_flux_error']/pulsar_data['phot_rp_mean_flux'])**2)"
   ]
  },
  {
   "cell_type": "code",
   "execution_count": null,
   "metadata": {},
   "outputs": [],
   "source": [
    "fig, ax1 = plt.subplots()\n",
    "ax1.scatter(data['bp_rp'], data['mg'], color='C0', alpha=0.7, s=1)\n",
    "ax1.scatter(mainsequence['bp_rp'], mainsequence['mg'], color='C2', alpha=0.7, s=1)\n",
    "ax1.invert_yaxis()\n",
    "ax1.set_xlabel('Bp - Rp (mag)')\n",
    "ax1.set_ylabel('$M_G$')\n",
    "bprp = pulsar_data['bp_rp']\n",
    "absG = pulsar_data['mg']\n",
    "plt.tight_layout()\n",
    "#plt.savefig(\"../figures/hrd_wLabels-cm.pdf\")"
   ]
  },
  {
   "cell_type": "code",
   "execution_count": null,
   "metadata": {},
   "outputs": [],
   "source": [
    "sfd, bayesMid = dust(pulsar_data['ra'], pulsar_data['dec'], pulsar_data['distance'])\n",
    "sfdAG, sfdAbp, sfdArp = getDust(pulsar_data['phot_g_mean_mag'], pulsar_data['phot_bp_mean_mag'], pulsar_data['phot_rp_mean_mag'], sfd)\n",
    "bayesAG, bayesAbp, bayesArp = getDust(pulsar_data['phot_g_mean_mag'], pulsar_data['phot_bp_mean_mag'], pulsar_data['phot_rp_mean_mag'], bayesMid[0])"
   ]
  },
  {
   "cell_type": "code",
   "execution_count": null,
   "metadata": {},
   "outputs": [],
   "source": [
    "bestAG = bayesAG\n",
    "bestAG[np.isnan(bestAG)] = sfdAG[np.isnan(bestAG)]\n",
    "bestArp = bayesArp\n",
    "bestArp[np.isnan(bestArp)] = sfdArp[np.isnan(bestArp)]\n",
    "bestAbp = bayesAbp\n",
    "bestAbp[np.isnan(bestAbp)] = sfdAbp[np.isnan(bestAbp)]\n",
    "fig, ax1 = plt.subplots()\n",
    "bprp = pulsar_data['bp_rp'] - bestAbp + bestArp\n",
    "absG = pulsar_data['mg'] - bestAG\n",
    "ax1.scatter(data['bp_rp'], data['mg'], color='C0', alpha=0.7, s=1)\n",
    "ax1.scatter(mainsequence['bp_rp'], mainsequence['mg'], color='C2', alpha=0.7, s=1)\n",
    "ax1.errorbar(pulsar_data['bp_rp'] - bestAbp + bestArp, pulsar_data['mg'] - bestAG, yerr=mg_err, xerr=color_err, color='C1', fmt='o')\n",
    "ax1.set_xlim([-.7,3.5])\n",
    "ax1.set_ylim([15.5,5])\n",
    "#ax1.invert_yaxis()\n",
    "ax1.set_xlabel('Bp - Rp (mag)')\n",
    "ax1.set_ylabel('$M_G$')\n",
    "#for ii in range(6):\n",
    "#    ax1.annotate(pulsar_data['names'][ii], (data['bp_rp'][ii], data['mg'][ii]), color = 'black')\n",
    "for i in range(len(pulsar_data['names'])):\n",
    "    ax1.annotate(pulsar_data['names'][i], (bprp[i]+0.1, absG[i]), color = 'black')\n",
    "\n",
    "plt.tight_layout()\n",
    "plt.savefig(\"../figures/hrd_wLabels_wDust.pdf\")"
   ]
  },
  {
   "cell_type": "code",
   "execution_count": null,
   "metadata": {},
   "outputs": [],
   "source": [
    "import matplotlib as mpl"
   ]
  },
  {
   "cell_type": "code",
   "execution_count": null,
   "metadata": {},
   "outputs": [],
   "source": [
    "bestAG = bayesAG\n",
    "bestAG[np.isnan(bestAG)] = sfdAG[np.isnan(bestAG)]\n",
    "bestArp = bayesArp\n",
    "bestArp[np.isnan(bestArp)] = sfdArp[np.isnan(bestArp)]\n",
    "bestAbp = bayesAbp\n",
    "bestAbp[np.isnan(bestAbp)] = sfdAbp[np.isnan(bestAbp)]\n",
    "fig, ax1 = plt.subplots()\n",
    "\n",
    "bprp = pulsar_data['bp_rp'] - bestAbp + bestArp\n",
    "absG = pulsar_data['mg'] - bestAG\n",
    "\n",
    "nbins = 100\n",
    "xbins = np.linspace(-1, 3.5, nbins)\n",
    "ybins = np.linspace(4, 16, nbins)\n",
    "alldata = vstack((mainsequence, data))\n",
    "H, xe, ye = np.histogram2d(alldata['bp_rp'], alldata['mg'], bins=(xbins, ybins))\n",
    "cmapchosen = plt.get_cmap('Blues')\n",
    "cmapchosen.set_under(color='white')\n",
    "im = ax1.pcolormesh(xe, ye, H.T + 1,\n",
    "      norm=mpl.colors.LogNorm(), cmap=cmapchosen, vmax=40, vmin=2)#vmax=75))#, vmax=20) #, vmin=-100, vmax=100)\n",
    "im.set_rasterized(True)\n",
    "\n",
    "ax1.errorbar(pulsar_data['bp_rp'] - bestAbp + bestArp, pulsar_data['mg'] - bestAG, yerr=mg_err, xerr=color_err, color='C1', fmt='o')\n",
    "ax1.set_xlim([-.7,3.5])\n",
    "ax1.set_ylim([15.5,4])\n",
    "\n",
    "ax1.set_xlabel('Bp - Rp (mag)')\n",
    "ax1.set_ylabel('$M_G$')\n",
    "\n",
    "for i in range(len(pulsar_data['names'])):\n",
    "    if pulsar_data['names'][i] in ['J0437-4715', 'J1843-1113', 'J1955+2908']: x = bprp[i] - 0.3; y = absG[i] - 0.8\n",
    "    elif pulsar_data['names'][i] in ['J1910+1256', 'J1732-5049']: x = bprp[i] - 1.; y = absG[i] - 0.2\n",
    "    else: x = bprp[i] - 0.3; y = absG[i] + 1.25\n",
    "    ax1.annotate(pulsar_data['names'][i], (x, y), color = 'black')\n",
    "\n",
    "plt.tight_layout()\n",
    "plt.savefig(\"../figures/hrd_wLabels_wDust_hist.pdf\")"
   ]
  },
  {
   "cell_type": "code",
   "execution_count": null,
   "metadata": {},
   "outputs": [],
   "source": [
    "bestAG = sfdAG\n",
    "bestAG[np.isnan(bestAG)] = bayesAG[np.isnan(bestAG)]\n",
    "bestArp = sfdArp\n",
    "bestArp[np.isnan(bestArp)] = bayesArp[np.isnan(bestArp)]\n",
    "bestAbp = sfdAbp\n",
    "bestAbp[np.isnan(bestAbp)] = bayesAbp[np.isnan(bestAbp)]\n",
    "fig, ax1 = plt.subplots()\n",
    "bprp = pulsar_data['bp_rp'] - bestAbp + bestArp\n",
    "absG = pulsar_data['mg'] - bestAG\n",
    "ax1.scatter(data['bp_rp'], data['mg'], color='C0', alpha=0.7, s=1)\n",
    "ax1.scatter(mainsequence['bp_rp'], mainsequence['mg'], color='C2', alpha=0.7, s=1)\n",
    "ax1.errorbar(bprp, absG, yerr=mg_err, xerr=color_err,color='C1', fmt='o')\n",
    "ax1.set_xlim([-1.75,3.5])\n",
    "ax1.set_ylim([15.5,3])\n",
    "#ax1.invert_yaxis()\n",
    "ax1.set_xlabel('Bp - Rp (mag)')\n",
    "ax1.set_ylabel('$M_G$')\n",
    "for i in range(6):\n",
    "    ax1.annotate(pulsar_data['names'][i], (bprp[i]+0.1, absG[i]), color = 'black')\n",
    "plt.tight_layout()\n",
    "plt.savefig(\"../figures/hrd_wLabels_wDustSFD.pdf\")"
   ]
  },
  {
   "cell_type": "code",
   "execution_count": null,
   "metadata": {},
   "outputs": [],
   "source": []
  },
  {
   "cell_type": "code",
   "execution_count": null,
   "metadata": {},
   "outputs": [],
   "source": []
  }
 ],
 "metadata": {
  "kernelspec": {
   "display_name": "Python 3",
   "language": "python",
   "name": "python3"
  },
  "language_info": {
   "codemirror_mode": {
    "name": "ipython",
    "version": 3
   },
   "file_extension": ".py",
   "mimetype": "text/x-python",
   "name": "python",
   "nbconvert_exporter": "python",
   "pygments_lexer": "ipython3",
   "version": "3.6.3"
  }
 },
 "nbformat": 4,
 "nbformat_minor": 2
}
