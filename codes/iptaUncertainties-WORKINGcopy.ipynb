{
 "cells": [
  {
   "cell_type": "code",
   "execution_count": 1,
   "metadata": {},
   "outputs": [],
   "source": [
    "import numpy as np\n",
    "import matplotlib.pyplot as plt\n",
    "import glob\n",
    "from astropy import units as u\n",
    "from astropy.io import ascii\n",
    "from astroquery.xmatch import XMatch\n",
    "from astropy.table import Table, vstack\n",
    "from astropy.coordinates import SkyCoord, ICRS, Galactic, Angle\n",
    "from astropy.time import Time\n",
    "from tqdm import tqdm\n",
    "from scipy.stats import norm\n",
    "import scipy.stats"
   ]
  },
  {
   "cell_type": "code",
   "execution_count": 2,
   "metadata": {},
   "outputs": [],
   "source": [
    "pi = np.pi\n",
    "sin = np.sin\n",
    "cos = np.cos\n",
    "log10 = np.log10\n",
    "sqrt = np.sqrt\n",
    "\n",
    "c=2.99792458*(10**8)\n",
    "G=6.67428*(10**(-11))\n",
    "s_mass=G*(1.98892*10**(30))/(c**3)"
   ]
  },
  {
   "cell_type": "code",
   "execution_count": 3,
   "metadata": {},
   "outputs": [],
   "source": [
    "files = glob.glob('../IPTA_DR1/*/*.par')"
   ]
  },
  {
   "cell_type": "code",
   "execution_count": 4,
   "metadata": {},
   "outputs": [],
   "source": [
    "def hist_weight(lst):\n",
    "    return np.ones_like(lst)/len(lst)\n",
    "\n",
    "def auto_bin(bin_size, min_edge, max_edge):\n",
    "    #bin_size = 0.05; min_edge = -3.5; max_edge = -1\n",
    "    N = (max_edge-min_edge)/bin_size; Nplus1 = N + 1\n",
    "    bin_list = np.linspace(min_edge, max_edge, Nplus1)\n",
    "    return bin_list\n",
    "\n",
    "def ang_dist(alpha1, alpha2, delta1, delta2):\n",
    "    \"\"\"\n",
    "    RA (alpha) and DEC (delta) are both in radians.\n",
    "    returns angular distance in arcseconds.\n",
    "    \"\"\"\n",
    "    alpha1 = alpha1*pi/180\n",
    "    alpha2 = alpha2*pi/180\n",
    "    delta1 = delta1*pi/180\n",
    "    delta2 = delta2*pi/180\n",
    "\n",
    "    arg = sin(delta1)*sin(delta2)+cos(delta1)*cos(delta2)*cos(alpha1-alpha2)\n",
    "    theta = np.arccos(arg)*180/pi*3600\n",
    "    est = np.sqrt(2*(1-arg))\n",
    "    return theta\n",
    "\n",
    "# plotting preamble\n",
    "\n",
    "fig_width_pt = 245.27 #513.17           # Get this from LaTeX using \\showthe\\columnwidth\n",
    "inches_per_pt = 1.0/72.27               # Convert pt to inches\n",
    "golden_mean = (np.sqrt(5)-1.0)/2.0      # Aesthetic ratio\n",
    "fig_width = fig_width_pt*inches_per_pt  # width in inches\n",
    "fig_height =fig_width*golden_mean       # height in inches\n",
    "fig_size = [fig_width,fig_height]\n",
    "\n",
    "params = {'backend': 'pdf',\n",
    "        'axes.labelsize': 7,\n",
    "        'lines.markersize': 2,\n",
    "        'font.size': 7,\n",
    "        'xtick.major.size':6,\n",
    "        'xtick.minor.size':3,  \n",
    "        'ytick.major.size':6,\n",
    "        'ytick.minor.size':3, \n",
    "        'xtick.major.width':0.5,\n",
    "        'ytick.major.width':0.5,\n",
    "        'xtick.minor.width':0.5,\n",
    "        'ytick.minor.width':0.5,\n",
    "        'lines.markeredgewidth':1,\n",
    "        'axes.linewidth':1.0,\n",
    "        'legend.fontsize': 7,\n",
    "        'xtick.labelsize': 7,\n",
    "        'ytick.labelsize': 7,\n",
    "        'savefig.dpi':200,\n",
    "        'path.simplify':True,\n",
    "        #'font.family': 'serif',\n",
    "        'font.serif':'Times',\n",
    "        'text.latex.preamble': [r'\\usepackage{amsmath}'],\n",
    "        'text.usetex':True,\n",
    "        #'axes.color_cycle': ['b', 'lime', 'r', 'purple', 'g', 'c', 'm', 'orange', 'darkblue', \\\n",
    "        #                        'darkcyan', 'y','orangered','chartreuse','brown','deeppink','lightgreen', 'k'],\n",
    "        #'font.serif':cm,\n",
    "        'figure.figsize': fig_size}\n",
    "plt.rcParams.update(params)"
   ]
  },
  {
   "cell_type": "code",
   "execution_count": 5,
   "metadata": {},
   "outputs": [],
   "source": [
    "RAs = []\n",
    "DECs = []\n",
    "Names = []\n",
    "pmra = []\n",
    "pmra_err = []\n",
    "pmdec = []\n",
    "pmdec_err = []\n",
    "pepoch = []\n",
    "posepoch = []\n",
    "dmepoch = []\n",
    "dm = []\n",
    "coords = []"
   ]
  },
  {
   "cell_type": "code",
   "execution_count": 6,
   "metadata": {},
   "outputs": [
    {
     "name": "stdout",
     "output_type": "stream",
     "text": [
      "this file is missing uncertainties on RAJ: ../IPTA_DR1/J0437-4715/J0437-4715.par\n",
      "this file is missing uncertainties on DECJ: ../IPTA_DR1/J0437-4715/J0437-4715.par\n",
      "this file is missing uncertainties on PMRA: ../IPTA_DR1/J0437-4715/J0437-4715.par\n",
      "this file is missing uncertainties on PMDEC: ../IPTA_DR1/J0437-4715/J0437-4715.par\n",
      "this file is missing uncertainties on PX: ../IPTA_DR1/J0437-4715/J0437-4715.par\n",
      "this object has galactic coords: J1022+1001\n",
      "this file is missing uncertainties on RAJ: ../IPTA_DR1/J1643-1224/J1643-1224.par\n",
      "this file is missing uncertainties on DECJ: ../IPTA_DR1/J1643-1224/J1643-1224.par\n",
      "this file is missing uncertainties on PMRA: ../IPTA_DR1/J1643-1224/J1643-1224.par\n",
      "this file is missing uncertainties on PMDEC: ../IPTA_DR1/J1643-1224/J1643-1224.par\n",
      "this file is missing uncertainties on PX: ../IPTA_DR1/J1643-1224/J1643-1224.par\n"
     ]
    }
   ],
   "source": [
    "for file in files:\n",
    "    d = {}\n",
    "    with open(file) as f:\n",
    "        for line in f:\n",
    "            key = line.split()[0]\n",
    "            value = line.split()[1]\n",
    "            d[key] = value\n",
    "            if key in ['RAJ', 'DECJ', 'PMRA', 'PMDEC', 'PX']:\n",
    "                try:\n",
    "                    err = line.split()[3]\n",
    "                    d[key+'_ERR'] = err\n",
    "                except:\n",
    "                    print(\"this file is missing uncertainties \\\n",
    "on {0}: {1}\".format(key, file))\n",
    "                    d[key+'_ERR'] = 0.0\n",
    "    \n",
    "    try:\n",
    "        ra = Angle(d['RAJ'], u.hourangle).to(u.deg)\n",
    "        dec = Angle(d['DECJ'], u.degree)\n",
    "        coord = SkyCoord(ra=ra, dec=dec, frame='icrs',\n",
    "                         pm_ra_cosdec = float(d['PMRA'])*u.mas/u.yr,\n",
    "                         pm_dec=float(d['PMDEC'])*u.mas/u.yr,\n",
    "                         obstime=Time(float(d['POSEPOCH']), format='mjd'),\n",
    "                         distance=1. * u.kpc) # HACK\n",
    "        coords.append(coord)\n",
    "        RAs.append(ra.value)\n",
    "        DECs.append(dec.value)\n",
    "        Names.append(d['PSRJ'])\n",
    "        pmra.append(coord.pm_ra_cosdec.value)\n",
    "        pmra_err.append(float(d['PMRA_ERR']))\n",
    "        pmdec.append(coord.pm_dec.value)\n",
    "        pmdec_err.append(float(d['PMDEC_ERR']))\n",
    "        pepoch.append(d['PEPOCH'])\n",
    "        posepoch.append(d['POSEPOCH'])\n",
    "        dmepoch.append(d['DMEPOCH'])\n",
    "        dm.append(d['DM'])\n",
    "        \n",
    "    except KeyError:\n",
    "        lon = float(d['ELONG'])*u.deg\n",
    "        lat = float(d['ELAT'])*u.deg\n",
    "        coord = SkyCoord(l=lon, b=lat, frame='galactic',\n",
    "                             pm_l_cosb = float(d['PMELONG'])*u.mas/u.yr, \n",
    "                             pm_b=float(d['PMELAT'])*u.mas/u.yr,\n",
    "                             obstime=Time(float(d['POSEPOCH']), format='mjd'),\n",
    "                             distance=1. * u.kpc) # HACKITY HACK HACK\n",
    "        icrscoord = coord.transform_to(ICRS)\n",
    "        coords.append(icrscoord)\n",
    "        print(\"this object has galactic coords: {0}\".format(d['PSRJ']))\n",
    "        RAs.append(icrscoord.ra.to(u.deg).value)\n",
    "        DECs.append(icrscoord.dec.to(u.deg).value)\n",
    "        Names.append(d['PSRJ'])\n",
    "        pmra.append(icrscoord.pm_ra_cosdec.value)\n",
    "        pmra_err.append(0.0) # TEMPORARY HACK\n",
    "        pmdec.append(icrscoord.pm_dec.value)\n",
    "        pmdec_err.append(0.0) # TEMPORARY HACK\n",
    "        pepoch.append(d['PEPOCH'])\n",
    "        posepoch.append(d['POSEPOCH'])\n",
    "        dmepoch.append(d['DMEPOCH'])\n",
    "        dm.append(d['DM']) "
   ]
  },
  {
   "cell_type": "code",
   "execution_count": 7,
   "metadata": {},
   "outputs": [],
   "source": [
    "#Names"
   ]
  },
  {
   "cell_type": "code",
   "execution_count": null,
   "metadata": {},
   "outputs": [],
   "source": []
  },
  {
   "cell_type": "markdown",
   "metadata": {},
   "source": [
    "### a bad case: J1910+1256"
   ]
  },
  {
   "cell_type": "code",
   "execution_count": 8,
   "metadata": {},
   "outputs": [],
   "source": [
    "ind = np.where(np.array(Names) == 'J1910+1256')[0][0]"
   ]
  },
  {
   "cell_type": "code",
   "execution_count": 9,
   "metadata": {},
   "outputs": [],
   "source": [
    "ipta_pmra_err = pmra_err[ind]\n",
    "ipta_pmdec_err = pmdec_err[ind]\n",
    "ipta_posepoch = posepoch[ind]"
   ]
  },
  {
   "cell_type": "code",
   "execution_count": 10,
   "metadata": {},
   "outputs": [
    {
     "data": {
      "text/plain": [
       "<SkyCoord (ICRS): (ra, dec, distance) in (deg, deg, kpc)\n",
       "    (287.54042259, 12.9404131, 1.)\n",
       " (pm_ra_cosdec, pm_dec) in mas / yr\n",
       "    (0.25061013, -6.93472136)>"
      ]
     },
     "execution_count": 10,
     "metadata": {},
     "output_type": "execute_result"
    }
   ],
   "source": [
    "ipta_coord = coords[ind]\n",
    "ipta_coord"
   ]
  },
  {
   "cell_type": "code",
   "execution_count": 11,
   "metadata": {},
   "outputs": [
    {
     "data": {
      "text/plain": [
       "<SkyCoord (ICRS): (ra, dec, distance) in (deg, deg, kpc)\n",
       "    (287.5407215, 12.94037301, 1.)\n",
       " (pm_ra_cosdec, pm_dec) in mas / yr\n",
       "    (-0.67205754, -5.44911276)>"
      ]
     },
     "execution_count": 11,
     "metadata": {},
     "output_type": "execute_result"
    }
   ],
   "source": [
    "gaia_time = Time(57023., format='mjd')\n",
    "gaia_match_coord =  SkyCoord(ra=287.5407215 * u.degree, \n",
    "                             dec=12.94037301 * u.degree, frame='icrs',\n",
    "                         pm_ra_cosdec = -0.672057539 *u.mas/u.yr,\n",
    "                         pm_dec= -5.449112763 *u.mas/u.yr,\n",
    "                         obstime=Time(2015.5, format='decimalyear'),\n",
    "                         distance=1. * u.kpc) # HACK\n",
    "gaia_ra_err = 0.576369178\n",
    "gaia_dec_err = 0.623526292\n",
    "gaia_match_coord"
   ]
  },
  {
   "cell_type": "code",
   "execution_count": 13,
   "metadata": {},
   "outputs": [],
   "source": [
    "# My angular separation calc for 1910\n",
    "\n",
    "mySep = ang_dist(287.54042259, 287.5407215, 12.9404131, 12.94037301)\n"
   ]
  },
  {
   "cell_type": "code",
   "execution_count": 14,
   "metadata": {},
   "outputs": [
    {
     "data": {
      "text/plain": [
       "1.0526847597792082"
      ]
     },
     "execution_count": 14,
     "metadata": {},
     "output_type": "execute_result"
    }
   ],
   "source": [
    "gaia_ipta_sep = ipta_coord.apply_space_motion(new_obstime=gaia_time).separation(gaia_match_coord).arcsec\n",
    "gaia_ipta_sep"
   ]
  },
  {
   "cell_type": "code",
   "execution_count": null,
   "metadata": {},
   "outputs": [],
   "source": []
  },
  {
   "cell_type": "code",
   "execution_count": 15,
   "metadata": {},
   "outputs": [
    {
     "name": "stderr",
     "output_type": "stream",
     "text": [
      "100%|██████████| 6000/6000 [12:28<00:00,  8.02it/s]\n"
     ]
    }
   ],
   "source": [
    "N = 6000\n",
    "seps = []\n",
    "ipta_ras = []\n",
    "ipta_decs = []\n",
    "gaia_ras = []\n",
    "gaia_decs = []\n",
    "for n in tqdm(range(N)):\n",
    "    c1 = SkyCoord(ra=ipta_coord.ra,\n",
    "                 dec=ipta_coord.dec, frame='icrs',\n",
    "                 pm_ra_cosdec=np.random.normal(ipta_coord.pm_ra_cosdec.value, \n",
    "                                               ipta_pmra_err) * u.mas/u.yr,\n",
    "                 pm_dec=np.random.normal(ipta_coord.pm_dec.value, \n",
    "                                               ipta_pmdec_err) * u.mas/u.yr,\n",
    "                 obstime=ipta_coord.obstime,\n",
    "                 distance=ipta_coord.distance)\n",
    "    c2 = SkyCoord(ra=np.random.normal(gaia_match_coord.ra.arcsec, gaia_ra_err) * u.arcsec,\n",
    "                 dec=np.random.normal(gaia_match_coord.dec.arcsec, gaia_dec_err) * u.arcsec, \n",
    "                 frame='icrs',\n",
    "                 pm_ra_cosdec=gaia_match_coord.pm_ra_cosdec, \n",
    "                 pm_dec=gaia_match_coord.pm_dec, \n",
    "                 obstime=gaia_match_coord.obstime,\n",
    "                 distance=gaia_match_coord.distance)\n",
    "    ipta_ras.append(c1.apply_space_motion(new_obstime=gaia_time).ra.degree)\n",
    "    ipta_decs.append(c1.apply_space_motion(new_obstime=gaia_time).dec.degree)\n",
    "    gaia_ras.append(c2.ra.degree)\n",
    "    gaia_decs.append(c2.dec.degree)\n",
    "    sep = c1.apply_space_motion(new_obstime=gaia_time).separation(c2).arcsec\n",
    "    seps.append(sep)"
   ]
  },
  {
   "cell_type": "code",
   "execution_count": 16,
   "metadata": {},
   "outputs": [],
   "source": [
    "gaia_ras = np.array(gaia_ras)-287.54\n",
    "ipta_ras = np.array(ipta_ras)-287.54\n"
   ]
  },
  {
   "cell_type": "code",
   "execution_count": null,
   "metadata": {},
   "outputs": [],
   "source": []
  },
  {
   "cell_type": "code",
   "execution_count": 17,
   "metadata": {},
   "outputs": [
    {
     "name": "stderr",
     "output_type": "stream",
     "text": [
      "/anaconda2/envs/py3/lib/python3.6/site-packages/ipykernel_launcher.py:7: DeprecationWarning: object of type <class 'numpy.float64'> cannot be safely interpreted as an integer.\n",
      "  import sys\n"
     ]
    }
   ],
   "source": [
    "bin_list = auto_bin(np.std(gaia_ras)/5,np.min(gaia_ras)-np.std(gaia_ras),np.max(gaia_ras)+np.std(gaia_ras))\n",
    "weights = hist_weight(gaia_ras)"
   ]
  },
  {
   "cell_type": "code",
   "execution_count": 18,
   "metadata": {},
   "outputs": [
    {
     "data": {
      "text/plain": [
       "0.0001606497118632693"
      ]
     },
     "execution_count": 18,
     "metadata": {},
     "output_type": "execute_result"
    }
   ],
   "source": [
    "np.std(gaia_ras)"
   ]
  },
  {
   "cell_type": "code",
   "execution_count": 19,
   "metadata": {},
   "outputs": [],
   "source": [
    "(mu, sigma) = norm.fit(gaia_ras)\n",
    "diff = (mu-np.median(ipta_ras))/sigma"
   ]
  },
  {
   "cell_type": "code",
   "execution_count": 20,
   "metadata": {},
   "outputs": [
    {
     "data": {
      "text/plain": [
       "(0.0007200869180494749, 0.0001606497118632693)"
      ]
     },
     "execution_count": 20,
     "metadata": {},
     "output_type": "execute_result"
    }
   ],
   "source": [
    "(mu, sigma)"
   ]
  },
  {
   "cell_type": "code",
   "execution_count": 21,
   "metadata": {},
   "outputs": [
    {
     "data": {
      "text/plain": [
       "1.8493704282592887"
      ]
     },
     "execution_count": 21,
     "metadata": {},
     "output_type": "execute_result"
    }
   ],
   "source": [
    "diff"
   ]
  },
  {
   "cell_type": "code",
   "execution_count": 22,
   "metadata": {},
   "outputs": [
    {
     "data": {
      "image/png": "[encoded data removed]",
      "text/plain": [
       "<Figure size 244.354x151.019 with 1 Axes>"
      ]
     },
     "metadata": {},
     "output_type": "display_data"
    }
   ],
   "source": [
    "# add a 'best fit' line\n",
    "y = norm.fit(gaia_ras)\n",
    "\n",
    "y = scipy.stats.norm.pdf(bin_list, mu, sigma)\n",
    "\n",
    "l = plt.plot(bin_list, y, 'r--', linewidth=2)"
   ]
  },
  {
   "cell_type": "code",
   "execution_count": 23,
   "metadata": {},
   "outputs": [],
   "source": [
    "def gaussian(x, mu, sig):\n",
    "    return np.exp(-np.power(x - mu, 2.) / (2 * np.power(sig, 2.)))"
   ]
  },
  {
   "cell_type": "code",
   "execution_count": 24,
   "metadata": {},
   "outputs": [],
   "source": [
    "normed = []\n",
    "for xx in range(len(bin_list)):\n",
    "    normed.append(gaussian(bin_list[xx], mu, sigma))"
   ]
  },
  {
   "cell_type": "code",
   "execution_count": 25,
   "metadata": {},
   "outputs": [
    {
     "name": "stderr",
     "output_type": "stream",
     "text": [
      "/anaconda2/envs/py3/lib/python3.6/site-packages/matplotlib/axes/_axes.py:6462: UserWarning: The 'normed' kwarg is deprecated, and has been replaced by the 'density' kwarg.\n",
      "  warnings.warn(\"The 'normed' kwarg is deprecated, and has been \"\n"
     ]
    },
    {
     "data": {
      "text/plain": [
       "<matplotlib.lines.Line2D at 0x1a14b808d0>"
      ]
     },
     "execution_count": 25,
     "metadata": {},
     "output_type": "execute_result"
    },
    {
     "data": {
      "image/png": "[encoded data removed]",
      "text/plain": [
       "<Figure size 244.354x151.019 with 1 Axes>"
      ]
     },
     "metadata": {},
     "output_type": "display_data"
    }
   ],
   "source": [
    "datos = gaia_ras\n",
    "(mu, sigma) = norm.fit(datos)\n",
    "\n",
    "# the histogram of the data\n",
    "n, bins, patches = plt.hist(datos, 20, normed=.12, facecolor='green', alpha=0.75)\n",
    "\n",
    "# add a 'best fit' line\n",
    "y = scipy.stats.norm.pdf(bins, mu, sigma)\n",
    "\n",
    "l = plt.plot(bins, y, 'r--', linewidth=2)\n",
    "plt.axvline(np.median(ipta_ras), color='red', label = \"IPTA\")\n",
    "\n"
   ]
  },
  {
   "cell_type": "code",
   "execution_count": 26,
   "metadata": {},
   "outputs": [],
   "source": [
    "ipta_ras = np.array(ipta_ras)"
   ]
  },
  {
   "cell_type": "code",
   "execution_count": 27,
   "metadata": {},
   "outputs": [
    {
     "data": {
      "image/png": "[encoded data removed]",
      "text/plain": [
       "<Figure size 244.354x151.019 with 1 Axes>"
      ]
     },
     "metadata": {},
     "output_type": "display_data"
    }
   ],
   "source": [
    "fig = plt.figure()\n",
    "ax = fig.add_subplot(111)\n",
    "plt.hist(np.array(gaia_ras), bin_list, weights=weights, alpha = 0.8, align='left', color = 'C0', label = \"Gaia\")\n",
    "plt.axvline(np.median(ipta_ras), color='red', label = \"IPTA\")\n",
    "#y = mlab.normpdf(bin_list, mu, sigma)\n",
    "#plt.plot(bin_list, normed, 'r--', linewidth=2, label=r\"Gaussian Fit\")\n",
    "plt.xlabel(\"RA - 287.54 (deg)\")\n",
    "plt.yticks([])\n",
    "#plt.ylabel(\"Probability\")\n",
    "plt.legend(frameon=False)\n",
    "plt.tight_layout()\n",
    "plt.savefig(\"J1910_RA_IPTA-GAIA-final-24Nov18.pdf\")"
   ]
  },
  {
   "cell_type": "code",
   "execution_count": 28,
   "metadata": {},
   "outputs": [
    {
     "data": {
      "text/plain": [
       "287.54"
      ]
     },
     "execution_count": 28,
     "metadata": {},
     "output_type": "execute_result"
    }
   ],
   "source": [
    "2.8754e2"
   ]
  },
  {
   "cell_type": "code",
   "execution_count": null,
   "metadata": {},
   "outputs": [],
   "source": []
  },
  {
   "cell_type": "code",
   "execution_count": 29,
   "metadata": {},
   "outputs": [
    {
     "ename": "NameError",
     "evalue": "name 'sigmaRA' is not defined",
     "output_type": "error",
     "traceback": [
      "\u001b[0;31m---------------------------------------------------------------------------\u001b[0m",
      "\u001b[0;31mNameError\u001b[0m                                 Traceback (most recent call last)",
      "\u001b[0;32m<ipython-input-29-62bbcaf65356>\u001b[0m in \u001b[0;36m<module>\u001b[0;34m()\u001b[0m\n\u001b[0;32m----> 1\u001b[0;31m \u001b[0msigmaRA\u001b[0m\u001b[0;34m\u001b[0m\u001b[0m\n\u001b[0m",
      "\u001b[0;31mNameError\u001b[0m: name 'sigmaRA' is not defined"
     ]
    }
   ],
   "source": [
    "sigmaRA"
   ]
  },
  {
   "cell_type": "code",
   "execution_count": 30,
   "metadata": {},
   "outputs": [
    {
     "name": "stderr",
     "output_type": "stream",
     "text": [
      "/anaconda2/envs/py3/lib/python3.6/site-packages/ipykernel_launcher.py:7: DeprecationWarning: object of type <class 'numpy.float64'> cannot be safely interpreted as an integer.\n",
      "  import sys\n"
     ]
    }
   ],
   "source": [
    "bin_list = auto_bin(np.std(gaia_decs)/4,np.min(gaia_decs)-np.std(gaia_decs),np.max(gaia_decs)+np.std(gaia_decs))\n",
    "weights = hist_weight(gaia_decs)"
   ]
  },
  {
   "cell_type": "code",
   "execution_count": 32,
   "metadata": {},
   "outputs": [
    {
     "data": {
      "image/png": "[encoded data removed]",
      "text/plain": [
       "<Figure size 244.354x151.019 with 1 Axes>"
      ]
     },
     "metadata": {},
     "output_type": "display_data"
    }
   ],
   "source": [
    "fig = plt.figure()\n",
    "ax = fig.add_subplot(111)\n",
    "plt.hist(gaia_decs, bin_list, weights=weights, alpha = 0.8, align='left', color = 'C0', label = \"Gaia\")\n",
    "plt.axvline(np.median(ipta_decs), color='red', label = \"IPTA\") #0.2 sigma\n",
    "plt.xlabel(\"DEC (deg)\")\n",
    "plt.yticks([])\n",
    "#plt.ylabel(\"Probability\")\n",
    "plt.legend(frameon=False)\n",
    "plt.tight_layout()\n",
    "#plt.savefig(\"J1910_DEC_IPTA-GAIA-final-25Nov.pdf\")"
   ]
  },
  {
   "cell_type": "code",
   "execution_count": 27,
   "metadata": {},
   "outputs": [],
   "source": [
    "(mu, sigma) = norm.fit(gaia_decs)\n",
    "diff = (mu-np.median(ipta_decs))/sigma"
   ]
  },
  {
   "cell_type": "code",
   "execution_count": 28,
   "metadata": {},
   "outputs": [
    {
     "data": {
      "text/plain": [
       "-0.05788084753940657"
      ]
     },
     "execution_count": 28,
     "metadata": {},
     "output_type": "execute_result"
    }
   ],
   "source": [
    "diff"
   ]
  },
  {
   "cell_type": "code",
   "execution_count": 29,
   "metadata": {},
   "outputs": [
    {
     "name": "stderr",
     "output_type": "stream",
     "text": [
      "/anaconda2/envs/py3/lib/python3.6/site-packages/ipykernel_launcher.py:7: DeprecationWarning: object of type <class 'numpy.float64'> cannot be safely interpreted as an integer.\n",
      "  import sys\n"
     ]
    }
   ],
   "source": [
    "bin_list = auto_bin(np.std(seps)/3,np.min(seps)-np.std(seps),np.max(seps)+np.std(seps))\n",
    "weights = hist_weight(seps)"
   ]
  },
  {
   "cell_type": "code",
   "execution_count": null,
   "metadata": {},
   "outputs": [],
   "source": [
    "fig = plt.figure()\n",
    "ax = fig.add_subplot(111)\n",
    "plt.hist(np.array(seps), bin_list, weights=weights, alpha = 0.8, align='left', color = 'C0', label = \"Gaia\")\n",
    "plt.axvline(np.median(gaia_ipta_sep), color='red', label = \"IPTA\")\n",
    "plt.xlabel(r\"J1910+1256, Angular Separation $\\theta$ (arcsecs)\") #0.35 sigma\n",
    "plt.ylabel(\"Probability\")\n",
    "plt.legend(frameon=False)\n",
    "plt.tight_layout()\n",
    "plt.savefig(\"1910_thetas.pdf\")"
   ]
  },
  {
   "cell_type": "code",
   "execution_count": null,
   "metadata": {},
   "outputs": [],
   "source": [
    "(mu, sigma) = norm.fit(seps)\n",
    "diff = (mu-np.median(gaia_ipta_sep))/sigma"
   ]
  },
  {
   "cell_type": "code",
   "execution_count": null,
   "metadata": {},
   "outputs": [],
   "source": [
    "diff"
   ]
  },
  {
   "cell_type": "code",
   "execution_count": null,
   "metadata": {},
   "outputs": [],
   "source": [
    "bin_listIPTA = auto_bin(np.std(gaia_ipta_sep)/3,np.min(gaia_ipta_sep)\n",
    "                        -np.std(gaia_ipta_sep),np.max(gaia_ipta_sep)+np.std(gaia_ipta_sep))\n",
    "weightsIPTA = hist_weight(gaia_ipta_sep)"
   ]
  },
  {
   "cell_type": "markdown",
   "metadata": {},
   "source": [
    "## a not-so-bad disagreement case: J1012+5307"
   ]
  },
  {
   "cell_type": "code",
   "execution_count": 30,
   "metadata": {},
   "outputs": [],
   "source": [
    "ind = np.where(np.array(Names) == 'J1012+5307')[0][0]"
   ]
  },
  {
   "cell_type": "code",
   "execution_count": 31,
   "metadata": {},
   "outputs": [],
   "source": [
    "ipta_pmra_err = pmra_err[ind]\n",
    "ipta_pmdec_err = pmdec_err[ind]\n",
    "ipta_posepoch = posepoch[ind]"
   ]
  },
  {
   "cell_type": "code",
   "execution_count": 32,
   "metadata": {},
   "outputs": [
    {
     "data": {
      "text/plain": [
       "<SkyCoord (ICRS): (ra, dec, distance) in (deg, deg, kpc)\n",
       "    (153.13932304, 53.1173056, 1.)\n",
       " (pm_ra_cosdec, pm_dec) in mas / yr\n",
       "    (2.62371226, -25.45880892)>"
      ]
     },
     "execution_count": 32,
     "metadata": {},
     "output_type": "execute_result"
    }
   ],
   "source": [
    "ipta_coord = coords[ind]\n",
    "ipta_coord"
   ]
  },
  {
   "cell_type": "code",
   "execution_count": 33,
   "metadata": {},
   "outputs": [
    {
     "data": {
      "text/plain": [
       "<SkyCoord (ICRS): (ra, dec, distance) in (deg, deg, kpc)\n",
       "    (153.1393303, 53.11726303, 1.)\n",
       " (pm_ra_cosdec, pm_dec) in mas / yr\n",
       "    (2.97695999, -26.94384758)>"
      ]
     },
     "execution_count": 33,
     "metadata": {},
     "output_type": "execute_result"
    }
   ],
   "source": [
    "gaia_time = Time(57023., format='mjd')\n",
    "gaia_match_coord =  SkyCoord(ra=153.1393303 * u.degree, \n",
    "                             dec=53.11726303 * u.degree, frame='icrs',\n",
    "                         pm_ra_cosdec = 2.976959985 *u.mas/u.yr,\n",
    "                         pm_dec= -26.94384758 *u.mas/u.yr,\n",
    "                         obstime= gaia_time,\n",
    "                         distance=1. * u.kpc) # HACK\n",
    "gaia_ra_err = 0.241174616\n",
    "gaia_dec_err = 0.302546482\n",
    "gaia_match_coord"
   ]
  },
  {
   "cell_type": "code",
   "execution_count": 34,
   "metadata": {},
   "outputs": [
    {
     "data": {
      "text/plain": [
       "0.012298049411488533"
      ]
     },
     "execution_count": 34,
     "metadata": {},
     "output_type": "execute_result"
    }
   ],
   "source": [
    "gaia_ipta_sep = ipta_coord.apply_space_motion(new_obstime=gaia_time).separation(gaia_match_coord).arcsec\n",
    "gaia_ipta_sep"
   ]
  },
  {
   "cell_type": "code",
   "execution_count": 35,
   "metadata": {},
   "outputs": [
    {
     "name": "stderr",
     "output_type": "stream",
     "text": [
      "100%|██████████| 5000/5000 [08:37<00:00,  9.66it/s]\n"
     ]
    }
   ],
   "source": [
    "N = 5000\n",
    "seps = []\n",
    "ipta_ras = []\n",
    "ipta_decs = []\n",
    "gaia_ras = []\n",
    "gaia_decs = []\n",
    "for n in tqdm(range(N)):\n",
    "    c1 = SkyCoord(ra=ipta_coord.ra,\n",
    "                 dec=ipta_coord.dec, frame='icrs',\n",
    "                 pm_ra_cosdec=np.random.normal(ipta_coord.pm_ra_cosdec.value, \n",
    "                                               ipta_pmra_err) * u.mas/u.yr,\n",
    "                 pm_dec=np.random.normal(ipta_coord.pm_dec.value, \n",
    "                                               ipta_pmdec_err) * u.mas/u.yr,\n",
    "                 obstime=ipta_coord.obstime,\n",
    "                 distance=ipta_coord.distance)\n",
    "    c2 = SkyCoord(ra=np.random.normal(gaia_match_coord.ra.arcsec, gaia_ra_err) * u.arcsec,\n",
    "                 dec=np.random.normal(gaia_match_coord.dec.arcsec, gaia_dec_err) * u.arcsec, \n",
    "                 frame='icrs',\n",
    "                 pm_ra_cosdec=gaia_match_coord.pm_ra_cosdec, \n",
    "                 pm_dec=gaia_match_coord.pm_dec, \n",
    "                 obstime=gaia_match_coord.obstime,\n",
    "                 distance=gaia_match_coord.distance)\n",
    "    ipta_ras.append(c1.apply_space_motion(new_obstime=gaia_time).ra.degree)\n",
    "    ipta_decs.append(c1.apply_space_motion(new_obstime=gaia_time).dec.degree)\n",
    "    gaia_ras.append(c2.ra.degree)\n",
    "    gaia_decs.append(c2.dec.degree)\n",
    "    sep = c1.apply_space_motion(new_obstime=gaia_time).separation(c2).arcsec\n",
    "    seps.append(sep)"
   ]
  },
  {
   "cell_type": "code",
   "execution_count": 36,
   "metadata": {},
   "outputs": [
    {
     "name": "stderr",
     "output_type": "stream",
     "text": [
      "/anaconda2/envs/py3/lib/python3.6/site-packages/ipykernel_launcher.py:7: DeprecationWarning: object of type <class 'numpy.float64'> cannot be safely interpreted as an integer.\n",
      "  import sys\n"
     ]
    }
   ],
   "source": [
    "bin_list = auto_bin(np.std(seps)/4,np.min(seps)-np.std(seps),np.max(seps)+np.std(seps))\n",
    "weights = hist_weight(seps)"
   ]
  },
  {
   "cell_type": "code",
   "execution_count": 37,
   "metadata": {},
   "outputs": [
    {
     "data": {
      "image/png": "[encoded data removed]",
      "text/plain": [
       "<Figure size 244.354x151.019 with 1 Axes>"
      ]
     },
     "metadata": {},
     "output_type": "display_data"
    }
   ],
   "source": [
    "fig = plt.figure()\n",
    "ax = fig.add_subplot(111)\n",
    "plt.hist(np.array(seps), bin_list, weights=weights, alpha = 0.8, align='left', color = 'C0', label = \"Gaia\")\n",
    "plt.axvline(np.median(gaia_ipta_sep), color='red', label = \"IPTA\")\n",
    "plt.xlabel(r\"J1012+5307, Angular Separation $\\theta$ (arcsecs)\") #1.6 sigma\n",
    "plt.ylabel(\"Probability\")\n",
    "plt.legend(frameon=False)\n",
    "plt.tight_layout()\n",
    "plt.savefig(\"1012_thetas_25Nov.pdf\")"
   ]
  },
  {
   "cell_type": "code",
   "execution_count": 38,
   "metadata": {},
   "outputs": [],
   "source": [
    "(mu, sigma) = norm.fit(seps)\n",
    "diff = (mu-np.median(gaia_ipta_sep))/sigma"
   ]
  },
  {
   "cell_type": "code",
   "execution_count": 39,
   "metadata": {},
   "outputs": [
    {
     "data": {
      "text/plain": [
       "1.6133533722627242"
      ]
     },
     "execution_count": 39,
     "metadata": {},
     "output_type": "execute_result"
    }
   ],
   "source": [
    "diff"
   ]
  },
  {
   "cell_type": "code",
   "execution_count": 40,
   "metadata": {},
   "outputs": [
    {
     "data": {
      "text/plain": [
       "<matplotlib.lines.Line2D at 0x1a1c8b7630>"
      ]
     },
     "execution_count": 40,
     "metadata": {},
     "output_type": "execute_result"
    },
    {
     "data": {
      "image/png": "[encoded data removed]",
      "text/plain": [
       "<Figure size 244.354x151.019 with 1 Axes>"
      ]
     },
     "metadata": {},
     "output_type": "display_data"
    }
   ],
   "source": [
    "plt.hist(seps)\n",
    "plt.axvline(gaia_ipta_sep, c='red')"
   ]
  },
  {
   "cell_type": "code",
   "execution_count": 41,
   "metadata": {},
   "outputs": [],
   "source": [
    "gaia_ras = np.array(gaia_ras) -1.53139e2 #for better plotting"
   ]
  },
  {
   "cell_type": "code",
   "execution_count": 42,
   "metadata": {},
   "outputs": [
    {
     "name": "stderr",
     "output_type": "stream",
     "text": [
      "/anaconda2/envs/py3/lib/python3.6/site-packages/ipykernel_launcher.py:7: DeprecationWarning: object of type <class 'numpy.float64'> cannot be safely interpreted as an integer.\n",
      "  import sys\n"
     ]
    }
   ],
   "source": [
    "bin_list = auto_bin(np.std(gaia_ras)/4,np.min(gaia_ras)-np.std(gaia_ras)/2,np.max(gaia_ras)+np.std(gaia_ras)/2)\n",
    "weights = hist_weight(gaia_ras)"
   ]
  },
  {
   "cell_type": "code",
   "execution_count": 43,
   "metadata": {},
   "outputs": [],
   "source": [
    "(mu, sigma) = norm.fit(gaia_ras)\n",
    "diff = (mu-np.median(ipta_ras))/sigma"
   ]
  },
  {
   "cell_type": "code",
   "execution_count": 44,
   "metadata": {},
   "outputs": [
    {
     "data": {
      "text/plain": [
       "0.0003298744804275884"
      ]
     },
     "execution_count": 44,
     "metadata": {},
     "output_type": "execute_result"
    }
   ],
   "source": [
    "mu"
   ]
  },
  {
   "cell_type": "code",
   "execution_count": 45,
   "metadata": {},
   "outputs": [
    {
     "data": {
      "text/plain": [
       "-2334041.005485071"
      ]
     },
     "execution_count": 45,
     "metadata": {},
     "output_type": "execute_result"
    }
   ],
   "source": [
    "diff"
   ]
  },
  {
   "cell_type": "code",
   "execution_count": 46,
   "metadata": {},
   "outputs": [],
   "source": [
    "ipta_ras = np.array(ipta_ras) -153.139"
   ]
  },
  {
   "cell_type": "code",
   "execution_count": 48,
   "metadata": {},
   "outputs": [
    {
     "data": {
      "image/png": "[encoded data removed]",
      "text/plain": [
       "<Figure size 244.354x151.019 with 1 Axes>"
      ]
     },
     "metadata": {},
     "output_type": "display_data"
    }
   ],
   "source": [
    "fig = plt.figure()\n",
    "ax = fig.add_subplot(111)\n",
    "plt.hist(np.array(gaia_ras), bin_list, weights=weights, alpha = 0.8, align='left', color = 'C0', label = \"Gaia\")\n",
    "plt.axvline(np.median(ipta_ras), color='red', label = \"PTA\")\n",
    "#y = mlab.normpdf(bin_list, mu, sigma)\n",
    "#plt.plot(bin_list, normed, 'r--', linewidth=2, label=r\"Gaussian Fit\") # this is 0.04 sigma from mean\n",
    "plt.xlabel(\"RA + 153.139 (deg)\")\n",
    "#plt.ylabel(\"Probability\")\n",
    "plt.yticks([])\n",
    "plt.legend(frameon=False)\n",
    "plt.tight_layout()\n",
    "#plt.savefig(\"J1012_RA_IPTA-GAIA-25Nov.pdf\")"
   ]
  },
  {
   "cell_type": "code",
   "execution_count": 49,
   "metadata": {},
   "outputs": [],
   "source": [
    "gaia_decs=np.array(gaia_decs) -53.117"
   ]
  },
  {
   "cell_type": "code",
   "execution_count": 50,
   "metadata": {},
   "outputs": [
    {
     "data": {
      "text/plain": [
       "array([0.00021917, 0.00030943, 0.00051012, ..., 0.00023939, 0.00022154,\n",
       "       0.00045265])"
      ]
     },
     "execution_count": 50,
     "metadata": {},
     "output_type": "execute_result"
    }
   ],
   "source": [
    "gaia_decs"
   ]
  },
  {
   "cell_type": "code",
   "execution_count": 51,
   "metadata": {},
   "outputs": [
    {
     "name": "stderr",
     "output_type": "stream",
     "text": [
      "/anaconda2/envs/py3/lib/python3.6/site-packages/ipykernel_launcher.py:7: DeprecationWarning: object of type <class 'numpy.float64'> cannot be safely interpreted as an integer.\n",
      "  import sys\n"
     ]
    }
   ],
   "source": [
    "bin_list = auto_bin(np.std(gaia_decs)/4,np.min(gaia_decs)-np.std(gaia_decs)/2,np.max(gaia_decs)+np.std(gaia_decs)/2)\n",
    "weights = hist_weight(gaia_decs)"
   ]
  },
  {
   "cell_type": "code",
   "execution_count": 52,
   "metadata": {},
   "outputs": [],
   "source": [
    "(mu, sigma) = norm.fit(gaia_decs)\n",
    "diff = (mu-np.median(ipta_decs))/sigma"
   ]
  },
  {
   "cell_type": "code",
   "execution_count": 53,
   "metadata": {},
   "outputs": [],
   "source": [
    "ipta_decs = np.array(ipta_decs) - 53.117"
   ]
  },
  {
   "cell_type": "code",
   "execution_count": 54,
   "metadata": {},
   "outputs": [
    {
     "data": {
      "image/png": "[encoded data removed]",
      "text/plain": [
       "<Figure size 244.354x151.019 with 1 Axes>"
      ]
     },
     "metadata": {},
     "output_type": "display_data"
    }
   ],
   "source": [
    "fig = plt.figure()\n",
    "ax = fig.add_subplot(111)\n",
    "plt.hist(np.array(gaia_decs), bin_list, weights=weights, alpha = 0.8, align='left', color = 'C0', label = \"Gaia\")\n",
    "plt.axvline(np.median(ipta_decs), color='red', label = \"IPTA\")\n",
    "#y = mlab.normpdf(bin_list, mu, sigma)\n",
    "#plt.plot(bin_list, normed, 'r--', linewidth=2, label=r\"Gaussian Fit\") # this is 0.04 sigma from mean\n",
    "plt.xlabel(\"DEC + 53.117 (deg)\")\n",
    "#plt.ylabel(\"Probability\")\n",
    "plt.yticks([])\n",
    "plt.legend(frameon=False)\n",
    "plt.tight_layout()\n",
    "#plt.savefig(\"J1012_DEC_IPTA-GAIA-25Nov.pdf\")"
   ]
  },
  {
   "cell_type": "code",
   "execution_count": null,
   "metadata": {},
   "outputs": [],
   "source": [
    "diff \n"
   ]
  },
  {
   "cell_type": "code",
   "execution_count": null,
   "metadata": {},
   "outputs": [],
   "source": []
  },
  {
   "cell_type": "markdown",
   "metadata": {},
   "source": [
    "## Best pulasr, J0437-4715\n"
   ]
  },
  {
   "cell_type": "code",
   "execution_count": 55,
   "metadata": {},
   "outputs": [],
   "source": [
    "ind = np.where(np.array(Names) == 'J0437-4715')[0][0]"
   ]
  },
  {
   "cell_type": "code",
   "execution_count": 56,
   "metadata": {},
   "outputs": [],
   "source": [
    "ipta_pmra_err = pmra_err[ind]\n",
    "ipta_pmdec_err = pmdec_err[ind]\n",
    "ipta_posepoch = posepoch[ind]"
   ]
  },
  {
   "cell_type": "code",
   "execution_count": 57,
   "metadata": {},
   "outputs": [],
   "source": [
    "ipta_pmra_err = 0.052 #Deller et al. 2008, Table 1\n",
    "ipta_pmdec_err = 0.086 #Deller et al. 2008\n",
    "ipta_posepoch = posepoch[ind]\n"
   ]
  },
  {
   "cell_type": "code",
   "execution_count": 58,
   "metadata": {},
   "outputs": [
    {
     "data": {
      "text/plain": [
       "'54500'"
      ]
     },
     "execution_count": 58,
     "metadata": {},
     "output_type": "execute_result"
    }
   ],
   "source": [
    "ipta_posepoch"
   ]
  },
  {
   "cell_type": "code",
   "execution_count": 59,
   "metadata": {},
   "outputs": [],
   "source": [
    "arcSec2Deg = 0.000277778"
   ]
  },
  {
   "cell_type": "code",
   "execution_count": 60,
   "metadata": {
    "scrolled": true
   },
   "outputs": [
    {
     "data": {
      "text/plain": [
       "<SkyCoord (ICRS): (ra, dec, distance) in (deg, deg, kpc)\n",
       "    (69.31623406, -47.25253075, 1.)\n",
       " (pm_ra_cosdec, pm_dec) in mas / yr\n",
       "    (121.43993282, -71.47620158)>"
      ]
     },
     "execution_count": 60,
     "metadata": {},
     "output_type": "execute_result"
    }
   ],
   "source": [
    "ipta_coord = coords[ind]\n",
    "ipta_coord"
   ]
  },
  {
   "cell_type": "code",
   "execution_count": 61,
   "metadata": {
    "scrolled": true
   },
   "outputs": [
    {
     "data": {
      "text/plain": [
       "<SkyCoord (ICRS): (ra, dec, distance) in (deg, deg, kpc)\n",
       "    (69.31660276, -47.25267778, 1.)\n",
       " (pm_ra_cosdec, pm_dec) in mas / yr\n",
       "    (122.8637296, -71.16597382)>"
      ]
     },
     "execution_count": 61,
     "metadata": {},
     "output_type": "execute_result"
    }
   ],
   "source": [
    "gaia_time = Time(57023., format='mjd') # CHECK THAT THIS IS REALLY 2015.5 IN MJD\n",
    "gaia_match_coord =  SkyCoord(ra=69.31660276 * u.degree, \n",
    "                             dec=-47.25267778 * u.degree, frame='icrs',\n",
    "                         pm_ra_cosdec = 122.8637296 *u.mas/u.yr,\n",
    "                         pm_dec= -71.16597382 *u.mas/u.yr,\n",
    "                         obstime=Time(2015.5, format='decimalyear'),\n",
    "                         distance=1. * u.kpc) # HACK\n",
    "gaia_ra_err = 0.582326756\n",
    "gaia_dec_err = 0.738504992\n",
    "gaia_match_coord"
   ]
  },
  {
   "cell_type": "code",
   "execution_count": 62,
   "metadata": {},
   "outputs": [
    {
     "data": {
      "text/plain": [
       "0.07154597070179823"
      ]
     },
     "execution_count": 62,
     "metadata": {},
     "output_type": "execute_result"
    }
   ],
   "source": [
    "gaia_ipta_sep = ipta_coord.apply_space_motion(new_obstime=gaia_time).separation(gaia_match_coord).arcsec\n",
    "gaia_ipta_sep"
   ]
  },
  {
   "cell_type": "code",
   "execution_count": 63,
   "metadata": {},
   "outputs": [
    {
     "data": {
      "text/plain": [
       "0.071544965"
      ]
     },
     "execution_count": 63,
     "metadata": {},
     "output_type": "execute_result"
    }
   ],
   "source": [
    "0.071544965"
   ]
  },
  {
   "cell_type": "code",
   "execution_count": 64,
   "metadata": {},
   "outputs": [
    {
     "name": "stderr",
     "output_type": "stream",
     "text": [
      "100%|██████████| 6000/6000 [13:13<00:00,  7.56it/s]\n"
     ]
    }
   ],
   "source": [
    "N = 6000\n",
    "seps = []\n",
    "ipta_ras = []\n",
    "ipta_decs = []\n",
    "gaia_ras = []\n",
    "gaia_decs = []\n",
    "for n in tqdm(range(N)):\n",
    "    c1 = SkyCoord(ra=ipta_coord.ra,\n",
    "                 dec=ipta_coord.dec, frame='icrs',\n",
    "                 pm_ra_cosdec=np.random.normal(ipta_coord.pm_ra_cosdec.value, \n",
    "                                               ipta_pmra_err) * u.mas/u.yr,\n",
    "                 pm_dec=np.random.normal(ipta_coord.pm_dec.value, \n",
    "                                               ipta_pmdec_err) * u.mas/u.yr,\n",
    "                 obstime=ipta_coord.obstime,\n",
    "                 distance=ipta_coord.distance)\n",
    "    c2 = SkyCoord(ra=np.random.normal(gaia_match_coord.ra.arcsec, gaia_ra_err) * u.arcsec,\n",
    "                 dec=np.random.normal(gaia_match_coord.dec.arcsec, gaia_dec_err) * u.arcsec, \n",
    "                 frame='icrs',\n",
    "                 pm_ra_cosdec=gaia_match_coord.pm_ra_cosdec, \n",
    "                 pm_dec=gaia_match_coord.pm_dec, \n",
    "                 obstime=gaia_match_coord.obstime,\n",
    "                 distance=gaia_match_coord.distance)\n",
    "    ipta_ras.append(c1.apply_space_motion(new_obstime=gaia_time).ra.degree)\n",
    "    #print(ipta_ras)\n",
    "    ipta_decs.append(c1.apply_space_motion(new_obstime=gaia_time).dec.degree)\n",
    "    gaia_ras.append(c2.ra.degree)\n",
    "    gaia_decs.append(c2.dec.degree)\n",
    "    sep = c1.apply_space_motion(new_obstime=gaia_time).separation(c2).arcsec\n",
    "    seps.append(sep)"
   ]
  },
  {
   "cell_type": "code",
   "execution_count": null,
   "metadata": {},
   "outputs": [],
   "source": [
    "bin_list = auto_bin(.05,-0.01,1)\n",
    "weights = hist_weight(seps)"
   ]
  },
  {
   "cell_type": "code",
   "execution_count": 65,
   "metadata": {},
   "outputs": [
    {
     "ename": "ValueError",
     "evalue": "weights should have the same shape as x",
     "output_type": "error",
     "traceback": [
      "\u001b[0;31m---------------------------------------------------------------------------\u001b[0m",
      "\u001b[0;31mValueError\u001b[0m                                Traceback (most recent call last)",
      "\u001b[0;32m<ipython-input-65-9e98471e2389>\u001b[0m in \u001b[0;36m<module>\u001b[0;34m()\u001b[0m\n\u001b[1;32m      1\u001b[0m \u001b[0mfig\u001b[0m \u001b[0;34m=\u001b[0m \u001b[0mplt\u001b[0m\u001b[0;34m.\u001b[0m\u001b[0mfigure\u001b[0m\u001b[0;34m(\u001b[0m\u001b[0;34m)\u001b[0m\u001b[0;34m\u001b[0m\u001b[0m\n\u001b[1;32m      2\u001b[0m \u001b[0max\u001b[0m \u001b[0;34m=\u001b[0m \u001b[0mfig\u001b[0m\u001b[0;34m.\u001b[0m\u001b[0madd_subplot\u001b[0m\u001b[0;34m(\u001b[0m\u001b[0;36m111\u001b[0m\u001b[0;34m)\u001b[0m\u001b[0;34m\u001b[0m\u001b[0m\n\u001b[0;32m----> 3\u001b[0;31m \u001b[0mplt\u001b[0m\u001b[0;34m.\u001b[0m\u001b[0mhist\u001b[0m\u001b[0;34m(\u001b[0m\u001b[0mseps\u001b[0m\u001b[0;34m,\u001b[0m \u001b[0mbin_list\u001b[0m\u001b[0;34m,\u001b[0m \u001b[0mweights\u001b[0m\u001b[0;34m=\u001b[0m\u001b[0mweights\u001b[0m\u001b[0;34m,\u001b[0m \u001b[0malpha\u001b[0m \u001b[0;34m=\u001b[0m \u001b[0;36m0.8\u001b[0m\u001b[0;34m,\u001b[0m \u001b[0malign\u001b[0m\u001b[0;34m=\u001b[0m\u001b[0;34m'left'\u001b[0m\u001b[0;34m,\u001b[0m \u001b[0mcolor\u001b[0m \u001b[0;34m=\u001b[0m \u001b[0;34m'C0'\u001b[0m\u001b[0;34m,\u001b[0m \u001b[0mlabel\u001b[0m \u001b[0;34m=\u001b[0m \u001b[0;34m\"Gaia\"\u001b[0m\u001b[0;34m)\u001b[0m\u001b[0;34m\u001b[0m\u001b[0m\n\u001b[0m\u001b[1;32m      4\u001b[0m \u001b[0mplt\u001b[0m\u001b[0;34m.\u001b[0m\u001b[0maxvline\u001b[0m\u001b[0;34m(\u001b[0m\u001b[0mgaia_ipta_sep\u001b[0m\u001b[0;34m,\u001b[0m \u001b[0mcolor\u001b[0m\u001b[0;34m=\u001b[0m\u001b[0;34m'red'\u001b[0m\u001b[0;34m,\u001b[0m \u001b[0mlabel\u001b[0m \u001b[0;34m=\u001b[0m \u001b[0;34m\"IPTA\"\u001b[0m\u001b[0;34m)\u001b[0m\u001b[0;34m\u001b[0m\u001b[0m\n\u001b[1;32m      5\u001b[0m \u001b[0mplt\u001b[0m\u001b[0;34m.\u001b[0m\u001b[0mxlabel\u001b[0m\u001b[0;34m(\u001b[0m\u001b[0;34mr\"J0437-4715, Angular Separation $\\theta$ (arcsecs)\"\u001b[0m\u001b[0;34m)\u001b[0m\u001b[0;34m\u001b[0m\u001b[0m\n",
      "\u001b[0;32m/anaconda2/envs/py3/lib/python3.6/site-packages/matplotlib/pyplot.py\u001b[0m in \u001b[0;36mhist\u001b[0;34m(x, bins, range, density, weights, cumulative, bottom, histtype, align, orientation, rwidth, log, color, label, stacked, normed, hold, data, **kwargs)\u001b[0m\n\u001b[1;32m   3130\u001b[0m                       \u001b[0mhisttype\u001b[0m\u001b[0;34m=\u001b[0m\u001b[0mhisttype\u001b[0m\u001b[0;34m,\u001b[0m \u001b[0malign\u001b[0m\u001b[0;34m=\u001b[0m\u001b[0malign\u001b[0m\u001b[0;34m,\u001b[0m \u001b[0morientation\u001b[0m\u001b[0;34m=\u001b[0m\u001b[0morientation\u001b[0m\u001b[0;34m,\u001b[0m\u001b[0;34m\u001b[0m\u001b[0m\n\u001b[1;32m   3131\u001b[0m                       \u001b[0mrwidth\u001b[0m\u001b[0;34m=\u001b[0m\u001b[0mrwidth\u001b[0m\u001b[0;34m,\u001b[0m \u001b[0mlog\u001b[0m\u001b[0;34m=\u001b[0m\u001b[0mlog\u001b[0m\u001b[0;34m,\u001b[0m \u001b[0mcolor\u001b[0m\u001b[0;34m=\u001b[0m\u001b[0mcolor\u001b[0m\u001b[0;34m,\u001b[0m \u001b[0mlabel\u001b[0m\u001b[0;34m=\u001b[0m\u001b[0mlabel\u001b[0m\u001b[0;34m,\u001b[0m\u001b[0;34m\u001b[0m\u001b[0m\n\u001b[0;32m-> 3132\u001b[0;31m                       stacked=stacked, normed=normed, data=data, **kwargs)\n\u001b[0m\u001b[1;32m   3133\u001b[0m     \u001b[0;32mfinally\u001b[0m\u001b[0;34m:\u001b[0m\u001b[0;34m\u001b[0m\u001b[0m\n\u001b[1;32m   3134\u001b[0m         \u001b[0max\u001b[0m\u001b[0;34m.\u001b[0m\u001b[0m_hold\u001b[0m \u001b[0;34m=\u001b[0m \u001b[0mwashold\u001b[0m\u001b[0;34m\u001b[0m\u001b[0m\n",
      "\u001b[0;32m/anaconda2/envs/py3/lib/python3.6/site-packages/matplotlib/__init__.py\u001b[0m in \u001b[0;36minner\u001b[0;34m(ax, *args, **kwargs)\u001b[0m\n\u001b[1;32m   1853\u001b[0m                         \u001b[0;34m\"the Matplotlib list!)\"\u001b[0m \u001b[0;34m%\u001b[0m \u001b[0;34m(\u001b[0m\u001b[0mlabel_namer\u001b[0m\u001b[0;34m,\u001b[0m \u001b[0mfunc\u001b[0m\u001b[0;34m.\u001b[0m\u001b[0m__name__\u001b[0m\u001b[0;34m)\u001b[0m\u001b[0;34m,\u001b[0m\u001b[0;34m\u001b[0m\u001b[0m\n\u001b[1;32m   1854\u001b[0m                         RuntimeWarning, stacklevel=2)\n\u001b[0;32m-> 1855\u001b[0;31m             \u001b[0;32mreturn\u001b[0m \u001b[0mfunc\u001b[0m\u001b[0;34m(\u001b[0m\u001b[0max\u001b[0m\u001b[0;34m,\u001b[0m \u001b[0;34m*\u001b[0m\u001b[0margs\u001b[0m\u001b[0;34m,\u001b[0m \u001b[0;34m**\u001b[0m\u001b[0mkwargs\u001b[0m\u001b[0;34m)\u001b[0m\u001b[0;34m\u001b[0m\u001b[0m\n\u001b[0m\u001b[1;32m   1856\u001b[0m \u001b[0;34m\u001b[0m\u001b[0m\n\u001b[1;32m   1857\u001b[0m         inner.__doc__ = _add_data_doc(inner.__doc__,\n",
      "\u001b[0;32m/anaconda2/envs/py3/lib/python3.6/site-packages/matplotlib/axes/_axes.py\u001b[0m in \u001b[0;36mhist\u001b[0;34m(***failed resolving arguments***)\u001b[0m\n\u001b[1;32m   6495\u001b[0m             \u001b[0;32mif\u001b[0m \u001b[0mwi\u001b[0m \u001b[0;32mis\u001b[0m \u001b[0;32mnot\u001b[0m \u001b[0;32mNone\u001b[0m \u001b[0;32mand\u001b[0m \u001b[0mlen\u001b[0m\u001b[0;34m(\u001b[0m\u001b[0mwi\u001b[0m\u001b[0;34m)\u001b[0m \u001b[0;34m!=\u001b[0m \u001b[0mlen\u001b[0m\u001b[0;34m(\u001b[0m\u001b[0mxi\u001b[0m\u001b[0;34m)\u001b[0m\u001b[0;34m:\u001b[0m\u001b[0;34m\u001b[0m\u001b[0m\n\u001b[1;32m   6496\u001b[0m                 raise ValueError(\n\u001b[0;32m-> 6497\u001b[0;31m                     'weights should have the same shape as x')\n\u001b[0m\u001b[1;32m   6498\u001b[0m \u001b[0;34m\u001b[0m\u001b[0m\n\u001b[1;32m   6499\u001b[0m         \u001b[0;32mif\u001b[0m \u001b[0mcolor\u001b[0m \u001b[0;32mis\u001b[0m \u001b[0;32mNone\u001b[0m\u001b[0;34m:\u001b[0m\u001b[0;34m\u001b[0m\u001b[0m\n",
      "\u001b[0;31mValueError\u001b[0m: weights should have the same shape as x"
     ]
    },
    {
     "data": {
      "image/png": "[encoded data removed]",
      "text/plain": [
       "<Figure size 244.354x151.019 with 1 Axes>"
      ]
     },
     "metadata": {},
     "output_type": "display_data"
    }
   ],
   "source": [
    "fig = plt.figure()\n",
    "ax = fig.add_subplot(111)\n",
    "plt.hist(seps, bin_list, weights=weights, alpha = 0.8, align='left', color = 'C0', label = \"Gaia\")\n",
    "plt.axvline(gaia_ipta_sep, color='red', label = \"IPTA\")\n",
    "plt.xlabel(r\"J0437-4715, Angular Separation $\\theta$ (arcsecs)\")\n",
    "plt.yticks([])\n",
    "#plt.ylabel(\"Probability\")\n",
    "plt.legend(frameon=False)\n",
    "plt.tight_layout()\n",
    "#plt.savefig(\"J0437_Theta_IPTA-GAIA-25Nov.pdf\")\n",
    "\n"
   ]
  },
  {
   "cell_type": "code",
   "execution_count": 66,
   "metadata": {
    "scrolled": false
   },
   "outputs": [],
   "source": [
    "ipta_ras = np.array(ipta_ras) - 69.31\n",
    "gaia_ras = np.array(gaia_ras) - 69.31"
   ]
  },
  {
   "cell_type": "code",
   "execution_count": 67,
   "metadata": {
    "scrolled": true
   },
   "outputs": [
    {
     "name": "stderr",
     "output_type": "stream",
     "text": [
      "/anaconda2/envs/py3/lib/python3.6/site-packages/ipykernel_launcher.py:7: DeprecationWarning: object of type <class 'numpy.float64'> cannot be safely interpreted as an integer.\n",
      "  import sys\n"
     ]
    }
   ],
   "source": [
    "bin_list = auto_bin(np.std(gaia_ras)/5,np.min(gaia_ras)-np.std(gaia_ras)/2,np.max(gaia_ras)+np.std(gaia_ras)/2)\n",
    "weights = hist_weight(gaia_ras)"
   ]
  },
  {
   "cell_type": "code",
   "execution_count": 68,
   "metadata": {},
   "outputs": [
    {
     "data": {
      "text/plain": [
       "0.0072627308293817805"
      ]
     },
     "execution_count": 68,
     "metadata": {},
     "output_type": "execute_result"
    }
   ],
   "source": [
    "max(gaia_ras)"
   ]
  },
  {
   "cell_type": "code",
   "execution_count": 69,
   "metadata": {},
   "outputs": [
    {
     "data": {
      "text/plain": [
       "0.006577914622397429"
      ]
     },
     "execution_count": 69,
     "metadata": {},
     "output_type": "execute_result"
    }
   ],
   "source": [
    "max(ipta_ras)"
   ]
  },
  {
   "cell_type": "code",
   "execution_count": 71,
   "metadata": {},
   "outputs": [
    {
     "data": {
      "image/png": "[encoded data removed]",
      "text/plain": [
       "<Figure size 244.354x151.019 with 1 Axes>"
      ]
     },
     "metadata": {},
     "output_type": "display_data"
    }
   ],
   "source": [
    "fig = plt.figure()\n",
    "ax = fig.add_subplot(111)\n",
    "plt.hist(gaia_ras, bin_list, weights=weights, alpha = 0.8, align='left', color = 'C0', label = \"Gaia\")\n",
    "plt.axvline(np.median(ipta_ras), color='red', label = \"IPTA\") #0.13 sigma\n",
    "plt.xlabel(\"RA - 69.31(deg)\")\n",
    "#plt.ylabel(\"Probability\")\n",
    "plt.yticks([])\n",
    "plt.legend(frameon=False)\n",
    "plt.tight_layout()\n",
    "#plt.savefig(\"J0437_RA_IPTA-GAIA-25Nov.pdf\")"
   ]
  },
  {
   "cell_type": "code",
   "execution_count": 72,
   "metadata": {},
   "outputs": [],
   "source": [
    "(mu, sigma) = norm.fit(gaia_ras)\n",
    "diff = (mu-np.median(ipta_ras))/sigma"
   ]
  },
  {
   "cell_type": "code",
   "execution_count": null,
   "metadata": {},
   "outputs": [],
   "source": []
  },
  {
   "cell_type": "code",
   "execution_count": 73,
   "metadata": {},
   "outputs": [
    {
     "data": {
      "text/plain": [
       "0.16473636724502366"
      ]
     },
     "execution_count": 73,
     "metadata": {},
     "output_type": "execute_result"
    }
   ],
   "source": [
    "diff"
   ]
  },
  {
   "cell_type": "code",
   "execution_count": 74,
   "metadata": {},
   "outputs": [
    {
     "name": "stderr",
     "output_type": "stream",
     "text": [
      "/anaconda2/envs/py3/lib/python3.6/site-packages/ipykernel_launcher.py:7: DeprecationWarning: object of type <class 'numpy.float64'> cannot be safely interpreted as an integer.\n",
      "  import sys\n"
     ]
    }
   ],
   "source": [
    "bin_list = auto_bin(np.std(gaia_decs)/4,np.min(gaia_decs)-np.std(gaia_decs)/2,np.max(gaia_decs)+np.std(gaia_decs)/2)\n",
    "weights = hist_weight(gaia_decs)"
   ]
  },
  {
   "cell_type": "code",
   "execution_count": 81,
   "metadata": {},
   "outputs": [],
   "source": [
    "ipta_decs = np.array(ipta_decs) - 47.25\n",
    "gaia_decs = np.array(gaia_decs) - 47.25"
   ]
  },
  {
   "cell_type": "code",
   "execution_count": 82,
   "metadata": {},
   "outputs": [
    {
     "data": {
      "text/plain": [
       "array([-47.25266788, -47.252668  , -47.25266823, ..., -47.25266788,\n",
       "       -47.25266785, -47.25266774])"
      ]
     },
     "execution_count": 82,
     "metadata": {},
     "output_type": "execute_result"
    }
   ],
   "source": [
    "ipta_decs"
   ]
  },
  {
   "cell_type": "code",
   "execution_count": 84,
   "metadata": {},
   "outputs": [
    {
     "data": {
      "image/png": "[encoded data removed]",
      "text/plain": [
       "<Figure size 244.354x151.019 with 1 Axes>"
      ]
     },
     "metadata": {},
     "output_type": "display_data"
    }
   ],
   "source": [
    "# DEC plot for J0437\n",
    "plt.hist(gaia_decs, bin_list, weights=weights, alpha = 0.8, align='left', color = 'C0', label = \"Gaia\")\n",
    "#plt.hist(ipta_decs, bin_list2, weights=weights2, alpha = 0.8, align='left', color = 'C1', label = \"IPTA\")\n",
    "plt.axvline(np.median(ipta_decs), color='red', label = \"IPTA\")\n",
    "##ax.set_xlim([np.min(ipta_decs),np.max(ipta_decs)])\n",
    "plt.xlabel(\"DEC - 47.25(deg)\")\n",
    "#plt.ylabel(\"Probability\")\n",
    "plt.yticks([])\n",
    "plt.legend(frameon=False)\n",
    "plt.tight_layout()\n",
    "#plt.savefig(\"J0437_DEC_IPTA-GAIA-25Nov.pdf\")"
   ]
  },
  {
   "cell_type": "code",
   "execution_count": null,
   "metadata": {},
   "outputs": [],
   "source": [
    "(mu, sigma) = norm.fit(gaia_decs)\n",
    "diff = (mu-np.median(ipta_decs))/sigma"
   ]
  },
  {
   "cell_type": "code",
   "execution_count": null,
   "metadata": {},
   "outputs": [],
   "source": [
    "diff"
   ]
  },
  {
   "cell_type": "code",
   "execution_count": null,
   "metadata": {},
   "outputs": [],
   "source": [
    "ipta_decs + 47.25"
   ]
  },
  {
   "cell_type": "markdown",
   "metadata": {},
   "source": [
    "## Pulsar J1024-0719"
   ]
  },
  {
   "cell_type": "code",
   "execution_count": 85,
   "metadata": {},
   "outputs": [
    {
     "data": {
      "text/plain": [
       "<SkyCoord (ICRS): (ra, dec, distance) in (deg, deg, kpc)\n",
       "    (156.16114741, -7.32206499, 1.)\n",
       " (pm_ra_cosdec, pm_dec) in mas / yr\n",
       "    (-35.3049269, -48.24394017)>"
      ]
     },
     "execution_count": 85,
     "metadata": {},
     "output_type": "execute_result"
    }
   ],
   "source": [
    "ind = np.where(np.array(Names) == 'J1024-0719')[0][0]\n",
    "\n",
    "ipta_pmra_err = pmra_err[ind]\n",
    "ipta_pmdec_err = pmdec_err[ind]\n",
    "ipta_posepoch = posepoch[ind]\n",
    "\n",
    "ipta_pmra_err = pmra_err[ind]\n",
    "ipta_pmdec_err = pmdec_err[ind]\n",
    "ipta_posepoch = posepoch[ind]\n",
    "\n",
    "\n",
    "ipta_coord = coords[ind]\n",
    "ipta_coord"
   ]
  },
  {
   "cell_type": "code",
   "execution_count": 86,
   "metadata": {},
   "outputs": [
    {
     "data": {
      "text/plain": [
       "<SkyCoord (ICRS): (ra, dec, distance) in (deg, deg, kpc)\n",
       "    (156.1610927, -7.32216529, 1.)\n",
       " (pm_ra_cosdec, pm_dec) in mas / yr\n",
       "    (-35.51929892, -47.93231066)>"
      ]
     },
     "execution_count": 86,
     "metadata": {},
     "output_type": "execute_result"
    }
   ],
   "source": [
    "gaia_time = Time(57023., format='mjd')\n",
    "gaia_match_coord =  SkyCoord(ra=156.1610927 * u.degree, \n",
    "                             dec=-7.322165289 * u.degree, frame='icrs',\n",
    "                         pm_ra_cosdec = -35.51929892*u.mas/u.yr,\n",
    "                         pm_dec= -47.93231066 *u.mas/u.yr,\n",
    "                         obstime=Time(2015.5, format='decimalyear'),\n",
    "                         distance=1. * u.kpc) # HACK\n",
    "gaia_ra_err = 0.42985265\n",
    "gaia_dec_err = 0.392656637\n",
    "gaia_match_coord"
   ]
  },
  {
   "cell_type": "code",
   "execution_count": 87,
   "metadata": {},
   "outputs": [
    {
     "data": {
      "text/plain": [
       "0.09388321101894358"
      ]
     },
     "execution_count": 87,
     "metadata": {},
     "output_type": "execute_result"
    }
   ],
   "source": [
    "gaia_ipta_sep = ipta_coord.apply_space_motion(new_obstime=gaia_time).separation(gaia_match_coord).arcsec\n",
    "gaia_ipta_sep"
   ]
  },
  {
   "cell_type": "code",
   "execution_count": 88,
   "metadata": {},
   "outputs": [
    {
     "name": "stderr",
     "output_type": "stream",
     "text": [
      "100%|██████████| 6000/6000 [12:14<00:00,  8.17it/s]\n"
     ]
    }
   ],
   "source": [
    "N = 6000\n",
    "seps = []\n",
    "ipta_ras = []\n",
    "ipta_decs = []\n",
    "gaia_ras = []\n",
    "gaia_decs = []\n",
    "for n in tqdm(range(N)):\n",
    "    c1 = SkyCoord(ra=ipta_coord.ra,\n",
    "                 dec=ipta_coord.dec, frame='icrs',\n",
    "                 pm_ra_cosdec=np.random.normal(ipta_coord.pm_ra_cosdec.value, \n",
    "                                               ipta_pmra_err) * u.mas/u.yr,\n",
    "                 pm_dec=np.random.normal(ipta_coord.pm_dec.value, \n",
    "                                               ipta_pmdec_err) * u.mas/u.yr,\n",
    "                 obstime=ipta_coord.obstime,\n",
    "                 distance=ipta_coord.distance)\n",
    "    c2 = SkyCoord(ra=np.random.normal(gaia_match_coord.ra.arcsec, gaia_ra_err) * u.arcsec,\n",
    "                 dec=np.random.normal(gaia_match_coord.dec.arcsec, gaia_dec_err) * u.arcsec, \n",
    "                 frame='icrs',\n",
    "                 pm_ra_cosdec=gaia_match_coord.pm_ra_cosdec, \n",
    "                 pm_dec=gaia_match_coord.pm_dec, \n",
    "                 obstime=gaia_match_coord.obstime,\n",
    "                 distance=gaia_match_coord.distance)\n",
    "    ipta_ras.append(c1.apply_space_motion(new_obstime=gaia_time).ra.degree)\n",
    "    ipta_decs.append(c1.apply_space_motion(new_obstime=gaia_time).dec.degree)\n",
    "    gaia_ras.append(c2.ra.degree)\n",
    "    gaia_decs.append(c2.dec.degree)\n",
    "    sep = c1.apply_space_motion(new_obstime=gaia_time).separation(c2).arcsec\n",
    "    seps.append(sep)"
   ]
  },
  {
   "cell_type": "code",
   "execution_count": 89,
   "metadata": {},
   "outputs": [
    {
     "name": "stderr",
     "output_type": "stream",
     "text": [
      "/anaconda2/envs/py3/lib/python3.6/site-packages/ipykernel_launcher.py:7: DeprecationWarning: object of type <class 'float'> cannot be safely interpreted as an integer.\n",
      "  import sys\n"
     ]
    }
   ],
   "source": [
    "bin_list = auto_bin(.08,0.0,1.8)\n",
    "weights = hist_weight(seps)"
   ]
  },
  {
   "cell_type": "code",
   "execution_count": 90,
   "metadata": {},
   "outputs": [
    {
     "data": {
      "image/png": "[encoded data removed]",
      "text/plain": [
       "<Figure size 244.354x151.019 with 1 Axes>"
      ]
     },
     "metadata": {},
     "output_type": "display_data"
    }
   ],
   "source": [
    "fig = plt.figure()\n",
    "ax = fig.add_subplot(111)\n",
    "plt.hist(seps, bin_list, weights=weights, alpha = 0.8, align='left', color = 'C0', label = \"Gaia\")\n",
    "plt.axvline(gaia_ipta_sep, color='red', label = \"IPTA\")\n",
    "plt.xlabel(r\"J1024-0719, Angular Separation $\\theta$ (arcsecs)\")\n",
    "plt.ylabel(\"Probability\")\n",
    "plt.legend(frameon=False)\n",
    "plt.tight_layout()\n",
    "plt.savefig(\"J1024_Theta_IPTA-GAIA.pdf\")"
   ]
  },
  {
   "cell_type": "code",
   "execution_count": 110,
   "metadata": {},
   "outputs": [],
   "source": [
    "gaia_ras = np.array(gaia_ras) + 1.5616e2"
   ]
  },
  {
   "cell_type": "code",
   "execution_count": 111,
   "metadata": {},
   "outputs": [],
   "source": [
    "ipta_ras = np.array(ipta_ras) + 1.5616e2"
   ]
  },
  {
   "cell_type": "code",
   "execution_count": 112,
   "metadata": {
    "scrolled": true
   },
   "outputs": [
    {
     "name": "stderr",
     "output_type": "stream",
     "text": [
      "/anaconda2/envs/py3/lib/python3.6/site-packages/ipykernel_launcher.py:7: DeprecationWarning: object of type <class 'numpy.float64'> cannot be safely interpreted as an integer.\n",
      "  import sys\n"
     ]
    }
   ],
   "source": [
    "bin_list = auto_bin(np.std(gaia_ras)/4,np.min(gaia_ras)-np.std(gaia_ras)/2,np.max(gaia_ras)+np.std(gaia_ras)/2)\n",
    "weights = hist_weight(gaia_ras)"
   ]
  },
  {
   "cell_type": "code",
   "execution_count": 113,
   "metadata": {},
   "outputs": [],
   "source": [
    "(mu, sigma) = norm.fit(gaia_ras)\n",
    "diff = (mu-np.median(ipta_ras))/sigma"
   ]
  },
  {
   "cell_type": "code",
   "execution_count": 114,
   "metadata": {},
   "outputs": [
    {
     "data": {
      "text/plain": [
       "-0.016031147001955497"
      ]
     },
     "execution_count": 114,
     "metadata": {},
     "output_type": "execute_result"
    }
   ],
   "source": [
    "diff"
   ]
  },
  {
   "cell_type": "code",
   "execution_count": 115,
   "metadata": {},
   "outputs": [
    {
     "data": {
      "image/png": "[encoded data removed]",
      "text/plain": [
       "<Figure size 244.354x151.019 with 1 Axes>"
      ]
     },
     "metadata": {},
     "output_type": "display_data"
    }
   ],
   "source": [
    "fig = plt.figure()\n",
    "ax = fig.add_subplot(111)\n",
    "plt.hist(gaia_ras, bin_list, weights=weights, alpha = 0.8, align='left', color = 'C0', label = \"Gaia\")\n",
    "plt.axvline(np.median(ipta_ras), color='red', label = \"IPTA\") #0.06 sigma, great fit!\n",
    "plt.xlabel(\"RA + 156.16 (deg)\")\n",
    "plt.yticks([])\n",
    "plt.legend(frameon=False)\n",
    "plt.tight_layout()\n",
    "#plt.savefig(\"J1024_RA_IPTA-GAIA.pdf\")"
   ]
  },
  {
   "cell_type": "code",
   "execution_count": 117,
   "metadata": {},
   "outputs": [
    {
     "name": "stderr",
     "output_type": "stream",
     "text": [
      "/anaconda2/envs/py3/lib/python3.6/site-packages/ipykernel_launcher.py:7: DeprecationWarning: object of type <class 'numpy.float64'> cannot be safely interpreted as an integer.\n",
      "  import sys\n"
     ]
    }
   ],
   "source": [
    "bin_list = auto_bin(np.std(gaia_decs)/4,np.min(gaia_decs)-np.std(gaia_decs)/2,np.max(gaia_decs)+np.std(gaia_decs)/2)\n",
    "weights = hist_weight(gaia_decs)\n"
   ]
  },
  {
   "cell_type": "code",
   "execution_count": 118,
   "metadata": {},
   "outputs": [],
   "source": [
    "(mu, sigma) = norm.fit(gaia_decs)\n",
    "diff = (mu-np.median(ipta_decs))/sigma\n",
    "\n"
   ]
  },
  {
   "cell_type": "code",
   "execution_count": 119,
   "metadata": {},
   "outputs": [
    {
     "data": {
      "text/plain": [
       "-0.22442351126693835"
      ]
     },
     "execution_count": 119,
     "metadata": {},
     "output_type": "execute_result"
    }
   ],
   "source": [
    "diff"
   ]
  },
  {
   "cell_type": "code",
   "execution_count": 120,
   "metadata": {},
   "outputs": [
    {
     "data": {
      "text/plain": [
       "-0.22442351126693835"
      ]
     },
     "execution_count": 120,
     "metadata": {},
     "output_type": "execute_result"
    }
   ],
   "source": [
    "diff"
   ]
  },
  {
   "cell_type": "code",
   "execution_count": 123,
   "metadata": {},
   "outputs": [
    {
     "data": {
      "image/png": "[encoded data removed]",
      "text/plain": [
       "<Figure size 244.354x151.019 with 1 Axes>"
      ]
     },
     "metadata": {},
     "output_type": "display_data"
    }
   ],
   "source": [
    "# DEC plot for J1024\n",
    "plt.hist(gaia_decs, bin_list, weights=weights, alpha = 0.8, align='left', color = 'C0', label = \"Gaia\")\n",
    "plt.axvline(np.median(ipta_decs), color='red', label = \"IPTA\") #0.2 sigma away\n",
    "#ax.set_xlim([np.min(ipta_decs),np.max(ipta_decs)])\n",
    "plt.xlabel(\"DEC (deg)\")\n",
    "plt.yticks([])\n",
    "\n",
    "plt.legend(frameon=False)\n",
    "plt.tight_layout()\n",
    "#plt.savefig(\"J1024_DEC_IPTA-GAIA-25Nov.pdf\")"
   ]
  },
  {
   "cell_type": "markdown",
   "metadata": {},
   "source": [
    "## not so great pulsar J1732-5049"
   ]
  },
  {
   "cell_type": "code",
   "execution_count": 52,
   "metadata": {},
   "outputs": [
    {
     "data": {
      "text/plain": [
       "<SkyCoord (ICRS): (ra, dec, distance) in (deg, deg, kpc)\n",
       "    (263.19902801, -50.81671992, 1.)\n",
       " (pm_ra_cosdec, pm_dec) in mas / yr\n",
       "    (-0.4321012, -9.90996085)>"
      ]
     },
     "execution_count": 52,
     "metadata": {},
     "output_type": "execute_result"
    }
   ],
   "source": [
    "ind = np.where(np.array(Names) == 'J1732-5049')[0][0]\n",
    "\n",
    "ipta_pmra_err = pmra_err[ind]\n",
    "ipta_pmdec_err = pmdec_err[ind]\n",
    "ipta_posepoch = posepoch[ind]\n",
    "\n",
    "ipta_pmra_err = pmra_err[ind]\n",
    "ipta_pmdec_err = pmdec_err[ind]\n",
    "ipta_posepoch = posepoch[ind]\n",
    "\n",
    "\n",
    "ipta_coord = coords[ind]\n",
    "ipta_coord"
   ]
  },
  {
   "cell_type": "code",
   "execution_count": 53,
   "metadata": {},
   "outputs": [
    {
     "data": {
      "text/plain": [
       "<SkyCoord (ICRS): (ra, dec, distance) in (deg, deg, kpc)\n",
       "    (263.200006, -50.8166163, 1.)\n",
       " (pm_ra_cosdec, pm_dec) in mas / yr\n",
       "    (-0.03184902, -10.483062)>"
      ]
     },
     "execution_count": 53,
     "metadata": {},
     "output_type": "execute_result"
    }
   ],
   "source": [
    "gaia_time = Time(57023., format='mjd')\n",
    "gaia_match_coord =  SkyCoord(ra=263.200006 * u.degree, \n",
    "                             dec=-50.8166163 * u.degree, frame='icrs',\n",
    "                         pm_ra_cosdec = -0.031849016*u.mas/u.yr,\n",
    "                         pm_dec= -10.483062*u.mas/u.yr,\n",
    "                         obstime=Time(2015.5, format='decimalyear'),\n",
    "                         distance=1. * u.kpc) # HACK\n",
    "gaia_ra_err = 2.168898313\n",
    "gaia_dec_err = 2.010098257\n",
    "gaia_match_coord"
   ]
  },
  {
   "cell_type": "code",
   "execution_count": 54,
   "metadata": {},
   "outputs": [
    {
     "data": {
      "text/plain": [
       "2.270753721341421"
      ]
     },
     "execution_count": 54,
     "metadata": {},
     "output_type": "execute_result"
    }
   ],
   "source": [
    "gaia_ipta_sep = ipta_coord.apply_space_motion(new_obstime=gaia_time).separation(gaia_match_coord).arcsec\n",
    "gaia_ipta_sep"
   ]
  },
  {
   "cell_type": "code",
   "execution_count": 55,
   "metadata": {},
   "outputs": [
    {
     "name": "stderr",
     "output_type": "stream",
     "text": [
      "100%|██████████| 6000/6000 [12:39<00:00,  7.90it/s]\n"
     ]
    }
   ],
   "source": [
    "N = 6000\n",
    "seps = []\n",
    "ipta_ras = []\n",
    "ipta_decs = []\n",
    "gaia_ras = []\n",
    "gaia_decs = []\n",
    "for n in tqdm(range(N)):\n",
    "    c1 = SkyCoord(ra=ipta_coord.ra,\n",
    "                 dec=ipta_coord.dec, frame='icrs',\n",
    "                 pm_ra_cosdec=np.random.normal(ipta_coord.pm_ra_cosdec.value, \n",
    "                                               ipta_pmra_err) * u.mas/u.yr,\n",
    "                 pm_dec=np.random.normal(ipta_coord.pm_dec.value, \n",
    "                                               ipta_pmdec_err) * u.mas/u.yr,\n",
    "                 obstime=ipta_coord.obstime,\n",
    "                 distance=ipta_coord.distance)\n",
    "    c2 = SkyCoord(ra=np.random.normal(gaia_match_coord.ra.arcsec, gaia_ra_err) * u.arcsec,\n",
    "                 dec=np.random.normal(gaia_match_coord.dec.arcsec, gaia_dec_err) * u.arcsec, \n",
    "                 frame='icrs',\n",
    "                 pm_ra_cosdec=gaia_match_coord.pm_ra_cosdec, \n",
    "                 pm_dec=gaia_match_coord.pm_dec, \n",
    "                 obstime=gaia_match_coord.obstime,\n",
    "                 distance=gaia_match_coord.distance)\n",
    "    ipta_ras.append(c1.apply_space_motion(new_obstime=gaia_time).ra.degree)\n",
    "    ipta_decs.append(c1.apply_space_motion(new_obstime=gaia_time).dec.degree)\n",
    "    gaia_ras.append(c2.ra.degree)\n",
    "    gaia_decs.append(c2.dec.degree)\n",
    "    sep = c1.apply_space_motion(new_obstime=gaia_time).separation(c2).arcsec\n",
    "    seps.append(sep)"
   ]
  },
  {
   "cell_type": "code",
   "execution_count": 56,
   "metadata": {},
   "outputs": [
    {
     "name": "stderr",
     "output_type": "stream",
     "text": [
      "/anaconda2/envs/py3/lib/python3.6/site-packages/ipykernel_launcher.py:7: DeprecationWarning: object of type <class 'float'> cannot be safely interpreted as an integer.\n",
      "  import sys\n"
     ]
    }
   ],
   "source": [
    "bin_list = auto_bin(.5,0.0,8.0)\n",
    "weights = hist_weight(seps)"
   ]
  },
  {
   "cell_type": "code",
   "execution_count": 57,
   "metadata": {},
   "outputs": [
    {
     "data": {
      "image/png": "[encoded data removed]",
      "text/plain": [
       "<Figure size 244.354x151.019 with 1 Axes>"
      ]
     },
     "metadata": {},
     "output_type": "display_data"
    }
   ],
   "source": [
    "fig = plt.figure()\n",
    "ax = fig.add_subplot(111)\n",
    "plt.hist(seps, bin_list, weights=weights, alpha = 0.8, align='left', color = 'C0', label = \"Gaia\")\n",
    "plt.axvline(gaia_ipta_sep, color='red', label = \"IPTA\")\n",
    "plt.xlabel(r\"J1732-5049, Angular Separation $\\theta$ (arcsecs)\")\n",
    "plt.ylabel(\"Probability\")\n",
    "plt.legend(frameon=False)\n",
    "plt.tight_layout()\n",
    "#plt.savefig(\"J1732_Theta_IPTA-GAIA.pdf\")"
   ]
  },
  {
   "cell_type": "code",
   "execution_count": 58,
   "metadata": {},
   "outputs": [],
   "source": [
    "ipta_ras = np.array(ipta_ras)-263.2"
   ]
  },
  {
   "cell_type": "code",
   "execution_count": 59,
   "metadata": {},
   "outputs": [],
   "source": [
    "gaia_ras = np.array(gaia_ras)-263.2"
   ]
  },
  {
   "cell_type": "code",
   "execution_count": 60,
   "metadata": {},
   "outputs": [
    {
     "name": "stderr",
     "output_type": "stream",
     "text": [
      "/anaconda2/envs/py3/lib/python3.6/site-packages/ipykernel_launcher.py:7: DeprecationWarning: object of type <class 'numpy.float64'> cannot be safely interpreted as an integer.\n",
      "  import sys\n"
     ]
    }
   ],
   "source": [
    "bin_list = auto_bin(np.std(gaia_ras)/4,np.min(gaia_ras)-np.std(gaia_ras)/2,np.max(gaia_ras)+np.std(gaia_ras)/2)\n",
    "weights = hist_weight(gaia_ras)"
   ]
  },
  {
   "cell_type": "code",
   "execution_count": 61,
   "metadata": {},
   "outputs": [
    {
     "data": {
      "text/plain": [
       "263.2"
      ]
     },
     "execution_count": 61,
     "metadata": {},
     "output_type": "execute_result"
    }
   ],
   "source": [
    "2.632e2"
   ]
  },
  {
   "cell_type": "code",
   "execution_count": 62,
   "metadata": {},
   "outputs": [
    {
     "data": {
      "image/png": "[encoded data removed]",
      "text/plain": [
       "<Figure size 244.354x151.019 with 1 Axes>"
      ]
     },
     "metadata": {},
     "output_type": "display_data"
    }
   ],
   "source": [
    "fig = plt.figure()\n",
    "ax = fig.add_subplot(111)\n",
    "plt.hist(gaia_ras, bin_list, weights=weights, alpha = 0.8, align='left', color = 'C0', label = \"Gaia\")\n",
    "plt.axvline(np.median(ipta_ras), color='red', label = \"IPTA\") #1.57 sigma\n",
    "plt.xlabel(\"RA - 263.2 (deg)\")\n",
    "plt.yticks([])\n",
    "plt.legend(frameon=False)\n",
    "plt.tight_layout()\n",
    "plt.savefig(\"J1732_RA_IPTA-GAIA-25Nov.pdf\")\n",
    "\n"
   ]
  },
  {
   "cell_type": "code",
   "execution_count": 66,
   "metadata": {},
   "outputs": [],
   "source": [
    "(mu, sigma) = norm.fit(gaia_ras)\n",
    "diff = (mu-np.median(ipta_ras))/sigma"
   ]
  },
  {
   "cell_type": "code",
   "execution_count": 67,
   "metadata": {},
   "outputs": [
    {
     "data": {
      "text/plain": [
       "1.6122090962956767e-05"
      ]
     },
     "execution_count": 67,
     "metadata": {},
     "output_type": "execute_result"
    }
   ],
   "source": [
    "mu"
   ]
  },
  {
   "cell_type": "code",
   "execution_count": 68,
   "metadata": {},
   "outputs": [
    {
     "data": {
      "text/plain": [
       "0.000598813137146556"
      ]
     },
     "execution_count": 68,
     "metadata": {},
     "output_type": "execute_result"
    }
   ],
   "source": [
    "sigma"
   ]
  },
  {
   "cell_type": "code",
   "execution_count": 69,
   "metadata": {},
   "outputs": [
    {
     "data": {
      "text/plain": [
       "1.6523055628361352"
      ]
     },
     "execution_count": 69,
     "metadata": {},
     "output_type": "execute_result"
    }
   ],
   "source": [
    "diff"
   ]
  },
  {
   "cell_type": "code",
   "execution_count": 84,
   "metadata": {},
   "outputs": [
    {
     "name": "stderr",
     "output_type": "stream",
     "text": [
      "/anaconda2/envs/py3/lib/python3.6/site-packages/ipykernel_launcher.py:7: DeprecationWarning: object of type <class 'numpy.float64'> cannot be safely interpreted as an integer.\n",
      "  import sys\n"
     ]
    }
   ],
   "source": [
    "bin_list = auto_bin(np.std(gaia_decs)/4,np.min(gaia_decs)-np.std(gaia_decs)/2,np.max(gaia_decs)+np.std(gaia_decs)/2)\n",
    "weights = hist_weight(gaia_decs)\n",
    "\n"
   ]
  },
  {
   "cell_type": "code",
   "execution_count": 79,
   "metadata": {},
   "outputs": [],
   "source": [
    "gaia_decs = np.array(gaia_decs) - 50.81"
   ]
  },
  {
   "cell_type": "code",
   "execution_count": 80,
   "metadata": {},
   "outputs": [],
   "source": [
    "ipta_decs = np.array(ipta_decs) - 50.81"
   ]
  },
  {
   "cell_type": "code",
   "execution_count": 83,
   "metadata": {},
   "outputs": [
    {
     "data": {
      "text/plain": [
       "array([-0.00651988, -0.0069777 , -0.00657283, ..., -0.00721477,\n",
       "       -0.00645463, -0.00696337])"
      ]
     },
     "execution_count": 83,
     "metadata": {},
     "output_type": "execute_result"
    }
   ],
   "source": [
    "gaia_decs"
   ]
  },
  {
   "cell_type": "code",
   "execution_count": 87,
   "metadata": {},
   "outputs": [
    {
     "data": {
      "image/png": "[encoded data removed]",
      "text/plain": [
       "<Figure size 244.354x151.019 with 1 Axes>"
      ]
     },
     "metadata": {},
     "output_type": "display_data"
    }
   ],
   "source": [
    "# DEC plot for J1024\n",
    "plt.hist(gaia_decs, bin_list, weights=weights, alpha = 0.8, align='left', color = 'C0', label = \"Gaia\")\n",
    "plt.axvline(np.median(ipta_decs), color='red', label = \"IPTA\") #0.26 sigma away\n",
    "#ax.set_xlim([np.min(ipta_decs),np.max(ipta_decs)])\n",
    "\n",
    "plt.xlabel(\"DEC + 50.81 (deg)\")\n",
    "plt.yticks([])\n",
    "plt.legend(frameon=False)\n",
    "plt.tight_layout()\n",
    "#plt.savefig(\"J1732_DEC_IPTA-GAIA-25Nov.pdf\")"
   ]
  },
  {
   "cell_type": "code",
   "execution_count": 26,
   "metadata": {},
   "outputs": [],
   "source": [
    "(mu, sigma) = norm.fit(gaia_decs)\n",
    "diff = (mu-np.median(ipta_decs))/sigma"
   ]
  },
  {
   "cell_type": "code",
   "execution_count": 27,
   "metadata": {},
   "outputs": [
    {
     "data": {
      "text/plain": [
       "0.19751778442651127"
      ]
     },
     "execution_count": 27,
     "metadata": {},
     "output_type": "execute_result"
    }
   ],
   "source": [
    "diff"
   ]
  },
  {
   "cell_type": "markdown",
   "metadata": {},
   "source": [
    "## Pulsar J1955+2908"
   ]
  },
  {
   "cell_type": "code",
   "execution_count": 33,
   "metadata": {},
   "outputs": [
    {
     "data": {
      "text/plain": [
       "<SkyCoord (ICRS): (ra, dec, distance) in (deg, deg, kpc)\n",
       "    (298.86614892, 29.14540536, 1.)\n",
       " (pm_ra_cosdec, pm_dec) in mas / yr\n",
       "    (-0.81162453, -4.06546809)>"
      ]
     },
     "execution_count": 33,
     "metadata": {},
     "output_type": "execute_result"
    }
   ],
   "source": [
    "ind = np.where(np.array(Names) == 'J1955+2908')[0][0]\n",
    "\n",
    "ipta_pmra_err = pmra_err[ind]\n",
    "ipta_pmdec_err = pmdec_err[ind]\n",
    "ipta_posepoch = posepoch[ind]\n",
    "\n",
    "ipta_pmra_err = pmra_err[ind]\n",
    "ipta_pmdec_err = pmdec_err[ind]\n",
    "ipta_posepoch = posepoch[ind]\n",
    "\n",
    "\n",
    "ipta_coord = coords[ind]\n",
    "ipta_coord"
   ]
  },
  {
   "cell_type": "code",
   "execution_count": 34,
   "metadata": {},
   "outputs": [
    {
     "data": {
      "text/plain": [
       "<SkyCoord (ICRS): (ra, dec, distance) in (deg, deg, kpc)\n",
       "    (298.8661015, 29.14538275, 1.)\n",
       " (pm_ra_cosdec, pm_dec) in mas / yr\n",
       "    (-3.09211605, -7.96299189)>"
      ]
     },
     "execution_count": 34,
     "metadata": {},
     "output_type": "execute_result"
    }
   ],
   "source": [
    "gaia_time = Time(57023., format='mjd')\n",
    "gaia_match_coord =  SkyCoord(ra=298.8661015 * u.degree, \n",
    "                             dec=29.14538275 * u.degree, frame='icrs',\n",
    "                         pm_ra_cosdec = -3.092116051*u.mas/u.yr,\n",
    "                         pm_dec= -7.962991888*u.mas/u.yr,\n",
    "                         obstime=Time(2015.5, format='decimalyear'),\n",
    "                         distance=1. * u.kpc) # HACK\n",
    "gaia_ra_err = 0.125519342\n",
    "gaia_dec_err = 0.165511548\n",
    "gaia_match_coord"
   ]
  },
  {
   "cell_type": "code",
   "execution_count": 35,
   "metadata": {},
   "outputs": [
    {
     "data": {
      "text/plain": [
       "0.15613751155802524"
      ]
     },
     "execution_count": 35,
     "metadata": {},
     "output_type": "execute_result"
    }
   ],
   "source": [
    "gaia_ipta_sep = ipta_coord.apply_space_motion(new_obstime=gaia_time).separation(gaia_match_coord).arcsec\n",
    "gaia_ipta_sep"
   ]
  },
  {
   "cell_type": "code",
   "execution_count": 36,
   "metadata": {},
   "outputs": [
    {
     "name": "stderr",
     "output_type": "stream",
     "text": [
      "100%|██████████| 6000/6000 [12:35<00:00,  7.94it/s]\n"
     ]
    }
   ],
   "source": [
    "N = 6000\n",
    "seps = []\n",
    "ipta_ras = []\n",
    "ipta_decs = []\n",
    "gaia_ras = []\n",
    "gaia_decs = []\n",
    "for n in tqdm(range(N)):\n",
    "    c1 = SkyCoord(ra=ipta_coord.ra,\n",
    "                 dec=ipta_coord.dec, frame='icrs',\n",
    "                 pm_ra_cosdec=np.random.normal(ipta_coord.pm_ra_cosdec.value, \n",
    "                                               ipta_pmra_err) * u.mas/u.yr,\n",
    "                 pm_dec=np.random.normal(ipta_coord.pm_dec.value, \n",
    "                                               ipta_pmdec_err) * u.mas/u.yr,\n",
    "                 obstime=ipta_coord.obstime,\n",
    "                 distance=ipta_coord.distance)\n",
    "    c2 = SkyCoord(ra=np.random.normal(gaia_match_coord.ra.arcsec, gaia_ra_err) * u.arcsec,\n",
    "                 dec=np.random.normal(gaia_match_coord.dec.arcsec, gaia_dec_err) * u.arcsec, \n",
    "                 frame='icrs',\n",
    "                 pm_ra_cosdec=gaia_match_coord.pm_ra_cosdec, \n",
    "                 pm_dec=gaia_match_coord.pm_dec, \n",
    "                 obstime=gaia_match_coord.obstime,\n",
    "                 distance=gaia_match_coord.distance)\n",
    "    ipta_ras.append(c1.apply_space_motion(new_obstime=gaia_time).ra.degree)\n",
    "    ipta_decs.append(c1.apply_space_motion(new_obstime=gaia_time).dec.degree)\n",
    "    gaia_ras.append(c2.ra.degree)\n",
    "    gaia_decs.append(c2.dec.degree)\n",
    "    sep = c1.apply_space_motion(new_obstime=gaia_time).separation(c2).arcsec\n",
    "    seps.append(sep)"
   ]
  },
  {
   "cell_type": "code",
   "execution_count": null,
   "metadata": {},
   "outputs": [],
   "source": []
  },
  {
   "cell_type": "code",
   "execution_count": null,
   "metadata": {},
   "outputs": [],
   "source": []
  },
  {
   "cell_type": "code",
   "execution_count": 37,
   "metadata": {},
   "outputs": [
    {
     "name": "stderr",
     "output_type": "stream",
     "text": [
      "/anaconda2/envs/py3/lib/python3.6/site-packages/ipykernel_launcher.py:7: DeprecationWarning: object of type <class 'float'> cannot be safely interpreted as an integer.\n",
      "  import sys\n"
     ]
    },
    {
     "data": {
      "image/png": "[encoded data removed]",
      "text/plain": [
       "<Figure size 244.354x151.019 with 1 Axes>"
      ]
     },
     "metadata": {},
     "output_type": "display_data"
    }
   ],
   "source": [
    "bin_list = auto_bin(.05,0.0,0.8)\n",
    "weights = hist_weight(seps)\n",
    "\n",
    "fig = plt.figure()\n",
    "ax = fig.add_subplot(111)\n",
    "plt.hist(seps, bin_list, weights=weights, alpha = 0.8, align='left', color = 'C0', label = \"Gaia\")\n",
    "plt.axvline(gaia_ipta_sep, color='red', label = \"IPTA\")\n",
    "plt.xlabel(r\"J1955+2908, Angular Separation $\\theta$ (arcsecs)\")\n",
    "plt.ylabel(\"Probability\")\n",
    "plt.legend(frameon=False)\n",
    "plt.tight_layout()\n",
    "#plt.savefig(\"J1955_Theta_IPTA-GAIA.pdf\")"
   ]
  },
  {
   "cell_type": "code",
   "execution_count": 38,
   "metadata": {},
   "outputs": [],
   "source": [
    "ipta_ras = np.array(ipta_ras) - 298.85"
   ]
  },
  {
   "cell_type": "code",
   "execution_count": 39,
   "metadata": {},
   "outputs": [],
   "source": [
    "gaia_ras = np.array(gaia_ras) - 298.85"
   ]
  },
  {
   "cell_type": "code",
   "execution_count": 40,
   "metadata": {},
   "outputs": [
    {
     "name": "stderr",
     "output_type": "stream",
     "text": [
      "/anaconda2/envs/py3/lib/python3.6/site-packages/ipykernel_launcher.py:7: DeprecationWarning: object of type <class 'numpy.float64'> cannot be safely interpreted as an integer.\n",
      "  import sys\n"
     ]
    }
   ],
   "source": [
    "bin_list = auto_bin(np.std(gaia_ras)/4,np.min(gaia_ras)-np.std(gaia_ras)/2,np.max(gaia_ras)+np.std(gaia_ras)/2)\n",
    "weights = hist_weight(gaia_ras)"
   ]
  },
  {
   "cell_type": "code",
   "execution_count": 42,
   "metadata": {},
   "outputs": [
    {
     "data": {
      "image/png": "[encoded data removed]",
      "text/plain": [
       "<Figure size 244.354x151.019 with 1 Axes>"
      ]
     },
     "metadata": {},
     "output_type": "display_data"
    }
   ],
   "source": [
    "fig = plt.figure()\n",
    "ax = fig.add_subplot(111)\n",
    "plt.hist(gaia_ras, bin_list, weights=weights, alpha = 0.8, align='left', color = 'C0', label = \"Gaia\")\n",
    "plt.axvline(np.median(ipta_ras), color='red', label = \"IPTA\") #1.3 sigma\n",
    "plt.xlabel(\"RA - 298.85 (deg)\")\n",
    "plt.yticks([])\n",
    "plt.legend(frameon=False)\n",
    "plt.tight_layout()\n",
    "plt.savefig(\"J1955_RA_IPTA-GAIA-25Nov.pdf\")"
   ]
  },
  {
   "cell_type": "code",
   "execution_count": 43,
   "metadata": {},
   "outputs": [],
   "source": [
    "(mu, sigma) = norm.fit(gaia_ras)\n",
    "diff = (mu-np.median(ipta_ras))/sigma"
   ]
  },
  {
   "cell_type": "code",
   "execution_count": 44,
   "metadata": {},
   "outputs": [
    {
     "data": {
      "text/plain": [
       "-1.3469136506191401"
      ]
     },
     "execution_count": 44,
     "metadata": {},
     "output_type": "execute_result"
    }
   ],
   "source": [
    "diff"
   ]
  },
  {
   "cell_type": "code",
   "execution_count": 45,
   "metadata": {},
   "outputs": [],
   "source": [
    "gaia_decs = np.array(gaia_decs) - 29.145"
   ]
  },
  {
   "cell_type": "code",
   "execution_count": 46,
   "metadata": {},
   "outputs": [],
   "source": [
    "ipta_decs = np.array(ipta_decs) - 29.145"
   ]
  },
  {
   "cell_type": "code",
   "execution_count": 47,
   "metadata": {},
   "outputs": [
    {
     "data": {
      "text/plain": [
       "0.0005553909565030324"
      ]
     },
     "execution_count": 47,
     "metadata": {},
     "output_type": "execute_result"
    }
   ],
   "source": [
    "max(gaia_decs)"
   ]
  },
  {
   "cell_type": "code",
   "execution_count": 48,
   "metadata": {},
   "outputs": [
    {
     "name": "stderr",
     "output_type": "stream",
     "text": [
      "/anaconda2/envs/py3/lib/python3.6/site-packages/ipykernel_launcher.py:7: DeprecationWarning: object of type <class 'numpy.float64'> cannot be safely interpreted as an integer.\n",
      "  import sys\n"
     ]
    }
   ],
   "source": [
    "bin_list = auto_bin(np.std(gaia_decs)/4,np.min(gaia_decs)-np.std(gaia_decs)/2,np.max(gaia_decs)+np.std(gaia_decs)/2)\n",
    "weights = hist_weight(gaia_decs)"
   ]
  },
  {
   "cell_type": "code",
   "execution_count": 49,
   "metadata": {},
   "outputs": [
    {
     "data": {
      "image/png": "[encoded data removed]",
      "text/plain": [
       "<Figure size 244.354x151.019 with 1 Axes>"
      ]
     },
     "metadata": {},
     "output_type": "display_data"
    }
   ],
   "source": [
    "# DEC plot for J1732\n",
    "plt.hist(gaia_decs, bin_list, weights=weights, alpha = 0.8, align='left', color = 'C0', label = \"Gaia\")\n",
    "plt.axvline(np.median(ipta_decs), color='red', label = \"IPTA\") #0.4 sigma\n",
    "ax.set_xlim([np.min(ipta_decs),np.max(ipta_decs)])\n",
    "plt.xlabel(\"DEC - 29.145 (deg)\")\n",
    "plt.legend(frameon=False)\n",
    "plt.yticks([])\n",
    "plt.tight_layout()\n",
    "#plt.savefig(\"J1955_DEC_IPTA-GAIA-25Nov.pdf\")"
   ]
  },
  {
   "cell_type": "code",
   "execution_count": 50,
   "metadata": {},
   "outputs": [],
   "source": [
    "(mu, sigma) = norm.fit(gaia_decs)\n",
    "diff = (mu-np.median(ipta_decs))/sigma\n"
   ]
  },
  {
   "cell_type": "code",
   "execution_count": 51,
   "metadata": {},
   "outputs": [
    {
     "data": {
      "text/plain": [
       "-0.3619188036866633"
      ]
     },
     "execution_count": 51,
     "metadata": {},
     "output_type": "execute_result"
    }
   ],
   "source": [
    "diff"
   ]
  },
  {
   "cell_type": "code",
   "execution_count": null,
   "metadata": {},
   "outputs": [],
   "source": []
  }
 ],
 "metadata": {
  "kernelspec": {
   "display_name": "Python 3",
   "language": "python",
   "name": "python3"
  },
  "language_info": {
   "codemirror_mode": {
    "name": "ipython",
    "version": 3
   },
   "file_extension": ".py",
   "mimetype": "text/x-python",
   "name": "python",
   "nbconvert_exporter": "python",
   "pygments_lexer": "ipython3",
   "version": "3.6.5"
  }
 },
 "nbformat": 4,
 "nbformat_minor": 2
}
