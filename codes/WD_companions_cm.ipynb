{
 "cells": [
  {
   "cell_type": "code",
   "execution_count": 1,
   "metadata": {},
   "outputs": [],
   "source": [
    "from __future__ import division\n",
    "from IPython.display import display, Math, Latex\n",
    "from math import sin, cos\n",
    "import numpy as np\n",
    "import matplotlib.pyplot as plt\n",
    "from matplotlib.ticker import FormatStrFormatter, LinearLocator, NullFormatter, NullLocator, MultipleLocator\n",
    "import matplotlib.ticker\n",
    "import matplotlib.colors\n",
    "from matplotlib.font_manager import FontProperties\n",
    "from matplotlib import rc, text\n",
    "from astropy.table import Table, Column, MaskedColumn\n",
    "from astropy.io import ascii\n",
    "\n",
    "%matplotlib inline\n",
    "%config InlineBackend.figure_format = \"retina\""
   ]
  },
  {
   "cell_type": "code",
   "execution_count": 2,
   "metadata": {},
   "outputs": [],
   "source": [
    "c=2.99792458*(10**8)\n",
    "G=6.67428*(10**(-11))\n",
    "s_mass=G*(1.98892*10**(30))/(c**3)\n",
    "\n",
    "# common function shortcuts\n",
    "log10 = np.log10\n",
    "pi = np.pi\n",
    "sqrt = np.sqrt\n"
   ]
  },
  {
   "cell_type": "code",
   "execution_count": 3,
   "metadata": {},
   "outputs": [],
   "source": [
    "def semi_a(theta,dist):\n",
    "    \"\"\"\n",
    "    input theta in arcseconds, input distance in pc, output \"a\" (semimajor axis) is AU\n",
    "    \"\"\"\n",
    "    ans = theta*dist\n",
    "    return ans"
   ]
  },
  {
   "cell_type": "code",
   "execution_count": 4,
   "metadata": {},
   "outputs": [],
   "source": [
    "AU_sec = 1.496e11/c"
   ]
  },
  {
   "cell_type": "code",
   "execution_count": 5,
   "metadata": {},
   "outputs": [
    {
     "data": {
      "text/plain": [
       "2095.849922949029"
      ]
     },
     "execution_count": 5,
     "metadata": {},
     "output_type": "execute_result"
    }
   ],
   "source": [
    " 1.496e11/c*4200/1e3"
   ]
  },
  {
   "cell_type": "code",
   "execution_count": 6,
   "metadata": {},
   "outputs": [],
   "source": [
    "def kep_P(a,Mtot):\n",
    "    \"\"\"\n",
    "    answer in days. \n",
    "    input \"a\" in AU and Mtot in solar masses.\n",
    "    \"\"\"\n",
    "    frac = 4*pi*pi*(a*AU_sec)**3/(Mtot*s_mass)\n",
    "    ans = sqrt(frac)\n",
    "    return ans/60/60/24\n",
    "\n",
    "def kep_a(P,Mtot):\n",
    "    \"\"\"\n",
    "    answer in AU. \n",
    "    input \"P\" in days and Mtot in solar masses.\n",
    "    \"\"\"\n",
    "    frac = (P*24*60*60)**2*(Mtot*s_mass)/(4*pi*pi)\n",
    "    ans = frac**(1/3)\n",
    "    return ans/AU_sec"
   ]
  },
  {
   "cell_type": "code",
   "execution_count": 7,
   "metadata": {},
   "outputs": [],
   "source": [
    "# plotting preamble\n",
    "\n",
    "fig_width_pt = 245.27 #513.17           # Get this from LaTeX using \\showthe\\columnwidth\n",
    "inches_per_pt = 1.0/72.27               # Convert pt to inches\n",
    "golden_mean = (np.sqrt(5)-1.0)/2.0      # Aesthetic ratio\n",
    "fig_width = fig_width_pt*inches_per_pt  # width in inches\n",
    "fig_height =fig_width*golden_mean       # height in inches\n",
    "fig_size = [fig_width,fig_height]\n",
    "\n",
    "params = {'backend': 'pdf',\n",
    "        'axes.labelsize': 7,\n",
    "        'lines.markersize': 2,\n",
    "        'font.size': 7,\n",
    "        'xtick.major.size':6,\n",
    "        'xtick.minor.size':3,  \n",
    "        'ytick.major.size':6,\n",
    "        'ytick.minor.size':3, \n",
    "        'xtick.major.width':0.5,\n",
    "        'ytick.major.width':0.5,\n",
    "        'xtick.minor.width':0.5,\n",
    "        'ytick.minor.width':0.5,\n",
    "        'lines.markeredgewidth':1,\n",
    "        'axes.linewidth':1.0,\n",
    "        'legend.fontsize': 7,\n",
    "        'xtick.labelsize': 7,\n",
    "        'ytick.labelsize': 7,\n",
    "        'savefig.dpi':200,\n",
    "        'path.simplify':True,\n",
    "        'font.family': 'serif',\n",
    "        'font.serif':'Times',\n",
    "        'text.latex.preamble': [r'\\usepackage{amsmath}'],\n",
    "        'text.usetex':True,\n",
    "        #'axes.color_cycle': ['b', 'lime', 'r', 'purple', 'g', 'c', 'm', 'orange', 'darkblue', \\\n",
    "        #                        'darkcyan', 'y','orangered','chartreuse','brown','deeppink','lightgreen', 'k'],\n",
    "        #'font.serif':cm,\n",
    "        'figure.figsize': fig_size}\n",
    "plt.rcParams.update(params)"
   ]
  },
  {
   "cell_type": "code",
   "execution_count": 40,
   "metadata": {},
   "outputs": [
    {
     "data": {
      "text/plain": [
       "1.0000576845303153"
      ]
     },
     "execution_count": 40,
     "metadata": {},
     "output_type": "execute_result"
    }
   ],
   "source": [
    "kep_a(365.25,1) # Earth, sanity check"
   ]
  },
  {
   "cell_type": "code",
   "execution_count": 41,
   "metadata": {},
   "outputs": [
    {
     "data": {
      "text/plain": [
       "365.21839836662093"
      ]
     },
     "execution_count": 41,
     "metadata": {},
     "output_type": "execute_result"
    }
   ],
   "source": [
    "kep_P(1,1) #Earth again, for dwindling sanity"
   ]
  },
  {
   "cell_type": "code",
   "execution_count": null,
   "metadata": {
    "collapsed": true
   },
   "outputs": [],
   "source": []
  },
  {
   "cell_type": "code",
   "execution_count": 42,
   "metadata": {
    "collapsed": true
   },
   "outputs": [],
   "source": [
    "data = ascii.read(\"ipta_3arcsec_wpm-result-CM-local.csv\")"
   ]
  },
  {
   "cell_type": "code",
   "execution_count": 43,
   "metadata": {
    "collapsed": true
   },
   "outputs": [],
   "source": [
    "pms =  ascii.read(\"pmra_dec_GAIA.csv\")"
   ]
  },
  {
   "cell_type": "code",
   "execution_count": 44,
   "metadata": {},
   "outputs": [
    {
     "data": {
      "text/html": [
       "<i>Table masked=True length=7</i>\n",
       "<table id=\"table34711282464\" class=\"table-striped table-bordered table-condensed\">\n",
       "<thead><tr><th>col1</th><th>col2</th><th>col3</th><th>col4</th><th>col5</th><th>col6</th><th>col7</th><th>col8</th><th>col9</th><th>col10</th><th>col11</th><th>col12</th><th>col13</th><th>col14</th><th>col15</th><th>col16</th><th>col17</th><th>col18</th><th>col19</th><th>col20</th><th>col21</th><th>col22</th><th>col23</th><th>col24</th><th>col25</th><th>col26</th><th>col27</th><th>col28</th><th>col29</th><th>col30</th><th>col31</th><th>col32</th><th>col33</th><th>col34</th><th>col35</th><th>col36</th><th>col37</th><th>col38</th><th>col39</th><th>col40</th><th>col41</th><th>col42</th><th>col43</th><th>col44</th><th>col45</th><th>col46</th><th>col47</th><th>col48</th><th>col49</th><th>col50</th><th>col51</th><th>col52</th><th>col53</th><th>col54</th><th>col55</th><th>col56</th><th>col57</th><th>col58</th><th>col59</th><th>col60</th><th>col61</th><th>col62</th><th>col63</th><th>col64</th><th>col65</th><th>col66</th><th>col67</th><th>col68</th><th>col69</th><th>col70</th><th>col71</th><th>col72</th><th>col73</th><th>col74</th><th>col75</th><th>col76</th><th>col77</th><th>col78</th><th>col79</th><th>col80</th><th>col81</th><th>col82</th><th>col83</th><th>col84</th><th>col85</th><th>col86</th><th>col87</th><th>col88</th><th>col89</th><th>col90</th><th>col91</th><th>col92</th><th>col93</th><th>col94</th><th>col95</th><th>col96</th><th>col97</th><th>col98</th><th>col99</th><th>col100</th><th>col101</th><th>col102</th><th>col103</th><th>col104</th><th>col105</th><th>col106</th><th>col107</th><th>col108</th><th>col109</th><th>col110</th><th>col111</th><th>col112</th><th>col113</th><th>col114</th><th>col115</th></tr></thead>\n",
       "<thead><tr><th>str11</th><th>str28</th><th>str11</th><th>str12</th><th>str9</th><th>str11</th><th>str11</th><th>str12</th><th>str11</th><th>str12</th><th>str14</th><th>str19</th><th>str12</th><th>str11</th><th>str12</th><th>str11</th><th>str12</th><th>str16</th><th>str12</th><th>str13</th><th>str17</th><th>str13</th><th>str14</th><th>str18</th><th>str19</th><th>str15</th><th>str20</th><th>str20</th><th>str25</th><th>str24</th><th>str18</th><th>str19</th><th>str24</th><th>str28</th><th>str25</th><th>str24</th><th>str21</th><th>str25</th><th>str31</th><th>str20</th><th>str32</th><th>str23</th><th>str23</th><th>str25</th><th>str20</th><th>str17</th><th>str12</th><th>str16</th><th>str22</th><th>str27</th><th>str15</th><th>str13</th><th>str17</th><th>str23</th><th>str28</th><th>str16</th><th>str13</th><th>str17</th><th>str23</th><th>str28</th><th>str16</th><th>str24</th><th>str14</th><th>str10</th><th>str12</th><th>str10</th><th>str15</th><th>str21</th><th>str14</th><th>str16</th><th>str16</th><th>str16</th><th>str18</th><th>str11</th><th>str12</th><th>str11</th><th>str12</th><th>str11</th><th>str8</th><th>str21</th><th>str21</th><th>str7</th><th>str20</th><th>str20</th><th>str15</th><th>str28</th><th>str28</th><th>str11</th><th>str10</th><th>str23</th><th>str23</th><th>str7</th><th>str20</th><th>str20</th><th>str77</th><th>str20</th><th>str12</th><th>str10</th><th>str11</th><th>str12</th><th>str12</th><th>str12</th><th>str5</th><th>str6</th><th>str8</th><th>str11</th><th>str8</th><th>str11</th><th>str11</th><th>str11</th><th>str11</th><th>str11</th><th>str13</th><th>str14</th><th>str14</th></tr></thead>\n",
       "<tr><td>solution_id</td><td>designation</td><td>source_id</td><td>random_index</td><td>ref_epoch</td><td>ra</td><td>ra_error</td><td>dec</td><td>dec_error</td><td>parallax</td><td>parallax_error</td><td>parallax_over_error</td><td>pmra</td><td>pmra_error</td><td>pmdec</td><td>pmdec_error</td><td>ra_dec_corr</td><td>ra_parallax_corr</td><td>ra_pmra_corr</td><td>ra_pmdec_corr</td><td>dec_parallax_corr</td><td>dec_pmra_corr</td><td>dec_pmdec_corr</td><td>parallax_pmra_corr</td><td>parallax_pmdec_corr</td><td>pmra_pmdec_corr</td><td>astrometric_n_obs_al</td><td>astrometric_n_obs_ac</td><td>astrometric_n_good_obs_al</td><td>astrometric_n_bad_obs_al</td><td>astrometric_gof_al</td><td>astrometric_chi2_al</td><td>astrometric_excess_noise</td><td>astrometric_excess_noise_sig</td><td>astrometric_params_solved</td><td>astrometric_primary_flag</td><td>astrometric_weight_al</td><td>astrometric_pseudo_colour</td><td>astrometric_pseudo_colour_error</td><td>mean_varpi_factor_al</td><td>astrometric_matched_observations</td><td>visibility_periods_used</td><td>astrometric_sigma5d_max</td><td>frame_rotator_object_type</td><td>matched_observations</td><td>duplicated_source</td><td>phot_g_n_obs</td><td>phot_g_mean_flux</td><td>phot_g_mean_flux_error</td><td>phot_g_mean_flux_over_error</td><td>phot_g_mean_mag</td><td>phot_bp_n_obs</td><td>phot_bp_mean_flux</td><td>phot_bp_mean_flux_error</td><td>phot_bp_mean_flux_over_error</td><td>phot_bp_mean_mag</td><td>phot_rp_n_obs</td><td>phot_rp_mean_flux</td><td>phot_rp_mean_flux_error</td><td>phot_rp_mean_flux_over_error</td><td>phot_rp_mean_mag</td><td>phot_bp_rp_excess_factor</td><td>phot_proc_mode</td><td>bp_rp</td><td>bp_g</td><td>g_rp</td><td>radial_velocity</td><td>radial_velocity_error</td><td>rv_nb_transits</td><td>rv_template_teff</td><td>rv_template_logg</td><td>rv_template_fe_h</td><td>phot_variable_flag</td><td>l</td><td>b</td><td>ecl_lon</td><td>ecl_lat</td><td>priam_flags</td><td>teff_val</td><td>teff_percentile_lower</td><td>teff_percentile_upper</td><td>a_g_val</td><td>a_g_percentile_lower</td><td>a_g_percentile_upper</td><td>e_bp_min_rp_val</td><td>e_bp_min_rp_percentile_lower</td><td>e_bp_min_rp_percentile_upper</td><td>flame_flags</td><td>radius_val</td><td>radius_percentile_lower</td><td>radius_percentile_upper</td><td>lum_val</td><td>lum_percentile_lower</td><td>lum_percentile_upper</td><td>datalink_url</td><td>epoch_photometry_url</td><td>ipta_wpm_oid</td><td>names</td><td>ra</td><td>dec</td><td>pmra</td><td>pmdec</td><td>dm</td><td>pepoch</td><td>posepoch</td><td>dmepoch</td><td>angdist</td><td>r_est</td><td>r_lo</td><td>r_hi</td><td>r_len</td><td>result_flag</td><td>modality_flag</td><td>angdist-arcsec</td><td>semimajor-axis</td></tr>\n",
       "<tr><td>1.63572E+18</td><td>Gaia DR2 4789864076732331648</td><td>4.78986E+18</td><td>526469615</td><td>2015.5</td><td>69.31660276</td><td>0.582326756</td><td>-47.25267778</td><td>0.738504992</td><td>8.325044168</td><td>0.677716044</td><td>12.283971</td><td>122.8637296</td><td>1.197017697</td><td>-71.16597382</td><td>1.669768175</td><td>-0.10719865</td><td>0.30817017</td><td>-0.13529737</td><td>0.3569604</td><td>0.24767695</td><td>0.4017074</td><td>-0.29011166</td><td>0.1647735</td><td>0.040686335</td><td>-0.48158062</td><td>168</td><td>0</td><td>167</td><td>1</td><td>0.30433777</td><td>166.8592</td><td>0</td><td>0</td><td>31</td><td>FALSE</td><td>0.03673703</td><td>1.676063374</td><td>0.183407835</td><td>-0.045911558</td><td>20</td><td>16</td><td>1.6285695</td><td>0</td><td>21</td><td>FALSE</td><td>178</td><td>129.2994962</td><td>1.076756097</td><td>120.082436</td><td>20.409374</td><td>16</td><td>54.59060883</td><td>6.523782872</td><td>8.367938</td><td>21.008593</td><td>21</td><td>132.0143904</td><td>8.906934103</td><td>14.82153</td><td>19.460367</td><td>1.4431998</td><td>0</td><td>1.5482254</td><td>0.59921837</td><td>0.94900703</td><td>--</td><td>--</td><td>0</td><td>--</td><td>--</td><td>--</td><td>NOT_AVAILABLE</td><td>253.3946297</td><td>-41.96313675</td><td>50.46873937</td><td>-67.87315632</td><td>--</td><td>--</td><td>--</td><td>--</td><td>--</td><td>--</td><td>--</td><td>--</td><td>--</td><td>--</td><td>--</td><td>--</td><td>--</td><td>--</td><td>--</td><td>--</td><td>--</td><td>http://geadata.esac.esa.int/data-server/datalink/links?ID=4789864076732331648</td><td>--</td><td>4</td><td>J0437-4715</td><td>69.31657736</td><td>-47.2526679</td><td>121.4399328</td><td>-71.47620158</td><td>54500</td><td>54500</td><td>54500</td><td>2.644571992</td><td>1.99E-05</td><td>121.0888862</td><td>111.651277</td><td>132.2388499</td><td>432.1387597</td><td>1</td><td>1</td><td>0.071544965</td><td>8.66330012</td></tr>\n",
       "<tr><td>1.63572E+18</td><td>Gaia DR2 851610861391010944</td><td>8.51611E+17</td><td>485068612</td><td>2015.5</td><td>153.1393303</td><td>0.241174616</td><td>53.11726303</td><td>0.302546482</td><td>1.32587877</td><td>0.414193189</td><td>3.201112</td><td>2.976959985</td><td>0.526105044</td><td>-26.94384758</td><td>0.632023953</td><td>-0.051121693</td><td>-0.1265725</td><td>-0.012555726</td><td>-0.032410998</td><td>-0.15004773</td><td>-0.13468888</td><td>-0.17837633</td><td>0.31024233</td><td>-0.24576698</td><td>-0.045818694</td><td>280</td><td>0</td><td>279</td><td>1</td><td>-0.29873604</td><td>266.41125</td><td>0</td><td>0</td><td>31</td><td>FALSE</td><td>0.10640784</td><td>1.708211111</td><td>0.084535055</td><td>0.003723455</td><td>32</td><td>16</td><td>0.5659281</td><td>0</td><td>35</td><td>FALSE</td><td>297</td><td>266.1406803</td><td>1.03812713</td><td>256.36618</td><td>19.625587</td><td>29</td><td>187.6084261</td><td>8.60580432</td><td>21.80022</td><td>19.668257</td><td>27</td><td>140.3311522</td><td>8.210140545</td><td>17.092419</td><td>19.394035</td><td>1.2322038</td><td>0</td><td>0.27422142</td><td>0.042669296</td><td>0.23155212</td><td>--</td><td>--</td><td>0</td><td>--</td><td>--</td><td>--</td><td>NOT_AVAILABLE</td><td>160.347199</td><td>50.85785533</td><td>133.3611331</td><td>38.75528668</td><td>--</td><td>--</td><td>--</td><td>--</td><td>--</td><td>--</td><td>--</td><td>--</td><td>--</td><td>--</td><td>--</td><td>--</td><td>--</td><td>--</td><td>--</td><td>--</td><td>--</td><td>http://geadata.esac.esa.int/data-server/datalink/links?ID=851610861391010944</td><td>--</td><td>11</td><td>J1012+5307</td><td>153.1393298</td><td>53.11726643</td><td>2.623712256</td><td>-25.45880892</td><td>55000</td><td>55000</td><td>55000</td><td>9.021803951</td><td>3.42E-06</td><td>734.4002117</td><td>549.3214144</td><td>1064.064939</td><td>357.5835102</td><td>1</td><td>1</td><td>0.012314592</td><td>9.043839262</td></tr>\n",
       "<tr><td>1.63572E+18</td><td>Gaia DR2 3775277872387310208</td><td>3.77528E+18</td><td>1140194975</td><td>2015.5</td><td>156.1610927</td><td>0.42985265</td><td>-7.322165289</td><td>0.392656637</td><td>0.528769548</td><td>0.425861846</td><td>1.2416457</td><td>-35.51929892</td><td>0.640337686</td><td>-47.93231066</td><td>0.659436543</td><td>-0.50286084</td><td>-0.66600096</td><td>-0.37353334</td><td>0.6126496</td><td>0.34525913</td><td>0.4762211</td><td>-0.65910816</td><td>0.31274474</td><td>-0.4774567</td><td>-0.307661</td><td>112</td><td>0</td><td>112</td><td>0</td><td>0.2379299</td><td>109.83869</td><td>0.20671447</td><td>0.07067352</td><td>31</td><td>FALSE</td><td>0.23592898</td><td>1.504766807</td><td>0.107864432</td><td>-0.109314986</td><td>13</td><td>8</td><td>0.7996634</td><td>0</td><td>15</td><td>FALSE</td><td>128</td><td>399.888251</td><td>1.527378998</td><td>261.8134</td><td>19.18352</td><td>14</td><td>122.1293379</td><td>10.52880298</td><td>11.599546</td><td>20.134338</td><td>14</td><td>384.4908701</td><td>8.831168117</td><td>43.53794</td><td>18.299706</td><td>1.2669045</td><td>0</td><td>1.8346329</td><td>0.950819</td><td>0.88381386</td><td>--</td><td>--</td><td>0</td><td>--</td><td>--</td><td>--</td><td>NOT_AVAILABLE</td><td>251.7016041</td><td>40.51538713</td><td>160.7343677</td><td>-16.04478101</td><td>--</td><td>--</td><td>--</td><td>--</td><td>--</td><td>--</td><td>--</td><td>--</td><td>--</td><td>--</td><td>--</td><td>--</td><td>--</td><td>--</td><td>--</td><td>--</td><td>--</td><td>http://geadata.esac.esa.int/data-server/datalink/links?ID=3775277872387310208</td><td>--</td><td>13</td><td>J1024-0719</td><td>156.1610927</td><td>-7.32213921</td><td>-35.3049269</td><td>-48.24394017</td><td>55000</td><td>55000</td><td>55000</td><td>6.486302523</td><td>2.61E-05</td><td>1272.432446</td><td>874.8160973</td><td>1954.594355</td><td>425.7673993</td><td>1</td><td>1</td><td>0.09388212</td><td>119.458655081</td></tr>\n",
       "<tr><td>1.63572E+18</td><td>Gaia DR2 5946288492263176704</td><td>5.94629E+18</td><td>446446546</td><td>2015.5</td><td>263.200006</td><td>2.168898313</td><td>-50.8166163</td><td>2.010098257</td><td>-1.183706877</td><td>2.844437175</td><td>-0.416148</td><td>-0.031849016</td><td>2.962724629</td><td>-10.483062</td><td>2.749171195</td><td>-0.4125646</td><td>-0.6542522</td><td>-0.5922476</td><td>0.15304743</td><td>0.5238898</td><td>0.20175713</td><td>-0.66204494</td><td>0.18435487</td><td>-0.09573718</td><td>-0.1065908</td><td>55</td><td>0</td><td>55</td><td>0</td><td>0.18056597</td><td>51.147663</td><td>0.599763119</td><td>0.049707584</td><td>31</td><td>FALSE</td><td>0.02447365</td><td>2.168830286</td><td>0.547992547</td><td>0.02131909</td><td>7</td><td>7</td><td>3.4817646</td><td>0</td><td>8</td><td>FALSE</td><td>64</td><td>82.92586752</td><td>1.076505205</td><td>77.03248</td><td>20.891642</td><td>7</td><td>57.46244025</td><td>14.42900949</td><td>3.9824245</td><td>20.952929</td><td>6</td><td>86.40010825</td><td>10.68179207</td><td>8.08854</td><td>19.920635</td><td>1.7348332</td><td>0</td><td>1.0322933</td><td>0.061286926</td><td>0.9710064</td><td>--</td><td>--</td><td>0</td><td>--</td><td>--</td><td>--</td><td>NOT_AVAILABLE</td><td>340.0291817</td><td>-9.454946469</td><td>265.1624689</td><td>-27.49146228</td><td>--</td><td>--</td><td>--</td><td>--</td><td>--</td><td>--</td><td>--</td><td>--</td><td>--</td><td>--</td><td>--</td><td>--</td><td>--</td><td>--</td><td>--</td><td>--</td><td>--</td><td>http://geadata.esac.esa.int/data-server/datalink/links?ID=5946288492263176704</td><td>--</td><td>23</td><td>J1732-5049</td><td>263.1990267</td><td>-50.81673894</td><td>-0.4321012</td><td>-9.909960846</td><td>54500</td><td>54500</td><td>54500</td><td>56.83615951</td><td>6.31E-04</td><td>3979.908095</td><td>1744.214557</td><td>7637.685524</td><td>1947.438885</td><td>1</td><td>1</td><td>2.270711328</td><td>9037.222395456</td></tr>\n",
       "<tr><td>1.63572E+18</td><td>Gaia DR2 4314046781982561920</td><td>4.31405E+18</td><td>1292218868</td><td>2015.5</td><td>287.5407215</td><td>0.576369178</td><td>12.94037301</td><td>0.623526292</td><td>-0.421914638</td><td>0.797195314</td><td>-0.5292488</td><td>-0.672057539</td><td>1.309755179</td><td>-5.449112763</td><td>1.316857376</td><td>0.5252612</td><td>-0.24194017</td><td>-0.14523456</td><td>-0.29109406</td><td>0.069169246</td><td>-0.27838513</td><td>0.111805916</td><td>0.063610524</td><td>0.119546756</td><td>0.67675227</td><td>347</td><td>0</td><td>346</td><td>1</td><td>1.8118145</td><td>389.80865</td><td>0</td><td>0</td><td>31</td><td>FALSE</td><td>0.044946644</td><td>1.513329206</td><td>0.105391256</td><td>-0.01873261</td><td>40</td><td>11</td><td>1.5004708</td><td>0</td><td>40</td><td>FALSE</td><td>344</td><td>129.2282312</td><td>0.667510795</td><td>193.59721</td><td>20.409973</td><td>23</td><td>96.32013908</td><td>18.94143189</td><td>5.085156</td><td>20.392096</td><td>28</td><td>201.369041</td><td>7.865263918</td><td>25.602325</td><td>19.001938</td><td>2.3035924</td><td>0</td><td>1.3901577</td><td>-0.017877579</td><td>1.4080353</td><td>--</td><td>--</td><td>0</td><td>--</td><td>--</td><td>--</td><td>NOT_AVAILABLE</td><td>46.56395873</td><td>1.794931788</td><td>291.0417784</td><td>35.10714477</td><td>--</td><td>--</td><td>--</td><td>--</td><td>--</td><td>--</td><td>--</td><td>--</td><td>--</td><td>--</td><td>--</td><td>--</td><td>--</td><td>--</td><td>--</td><td>--</td><td>--</td><td>http://geadata.esac.esa.int/data-server/datalink/links?ID=4314046781982561920</td><td>--</td><td>35</td><td>J1910+1256</td><td>287.540423</td><td>12.94040243</td><td>0.250610128</td><td>-6.934721358</td><td>55000</td><td>55000</td><td>55000</td><td>38.09212956</td><td>2.92E-04</td><td>3365.904933</td><td>1735.682161</td><td>6062.471318</td><td>1449.215213</td><td>1</td><td>1</td><td>1.052658208</td><td>3543.147455447</td></tr>\n",
       "<tr><td>1.63572E+18</td><td>Gaia DR2 2028584968839606784</td><td>2.02858E+18</td><td>303744199</td><td>2015.5</td><td>298.8661015</td><td>0.125519342</td><td>29.14538275</td><td>0.165511548</td><td>0.603398675</td><td>0.194242213</td><td>3.106424</td><td>-3.092116051</td><td>0.290284591</td><td>-7.962991888</td><td>0.323202135</td><td>-0.11264486</td><td>-0.0695298</td><td>-0.057907563</td><td>-0.028306583</td><td>0.29636532</td><td>-0.06449964</td><td>-0.06650842</td><td>-0.12102297</td><td>0.07518752</td><td>0.006341947</td><td>270</td><td>0</td><td>270</td><td>0</td><td>2.16849</td><td>317.37048</td><td>0.47689506</td><td>1.114126409</td><td>31</td><td>FALSE</td><td>0.39056793</td><td>1.271395243</td><td>0.041264309</td><td>0.013652412</td><td>31</td><td>16</td><td>0.285845</td><td>0</td><td>32</td><td>FALSE</td><td>278</td><td>617.3435149</td><td>1.12753379</td><td>547.51666</td><td>18.712048</td><td>29</td><td>104.5870223</td><td>6.746678546</td><td>15.502002</td><td>20.302694</td><td>27</td><td>894.5310539</td><td>8.643787502</td><td>103.48832</td><td>17.38293</td><td>1.6184151</td><td>0</td><td>2.9197636</td><td>1.5906467</td><td>1.3291168</td><td>--</td><td>--</td><td>0</td><td>--</td><td>--</td><td>--</td><td>NOT_AVAILABLE</td><td>65.83923509</td><td>0.443258817</td><td>309.6912993</td><td>48.68453764</td><td>--</td><td>--</td><td>--</td><td>--</td><td>--</td><td>--</td><td>--</td><td>--</td><td>--</td><td>--</td><td>--</td><td>--</td><td>--</td><td>--</td><td>--</td><td>--</td><td>--</td><td>http://geadata.esac.esa.int/data-server/datalink/links?ID=2028584968839606784</td><td>--</td><td>40</td><td>J1955+2908</td><td>298.8661475</td><td>29.14539911</td><td>-0.811624529</td><td>-4.065468091</td><td>55000</td><td>55000</td><td>55000</td><td>104.4660242</td><td>4.34E-05</td><td>1739.648678</td><td>1203.40219</td><td>2981.365398</td><td>1549.240981</td><td>1</td><td>1</td><td>0.156266848</td><td>271.849414982</td></tr>\n",
       "</table>"
      ],
      "text/plain": [
       "<Table masked=True length=7>\n",
       "    col1                col2             ...     col114         col115    \n",
       "   str11               str28             ...     str14          str14     \n",
       "----------- ---------------------------- ... -------------- --------------\n",
       "solution_id                  designation ... angdist-arcsec semimajor-axis\n",
       "1.63572E+18 Gaia DR2 4789864076732331648 ...    0.071544965     8.66330012\n",
       "1.63572E+18  Gaia DR2 851610861391010944 ...    0.012314592    9.043839262\n",
       "1.63572E+18 Gaia DR2 3775277872387310208 ...     0.09388212  119.458655081\n",
       "1.63572E+18 Gaia DR2 5946288492263176704 ...    2.270711328 9037.222395456\n",
       "1.63572E+18 Gaia DR2 4314046781982561920 ...    1.052658208 3543.147455447\n",
       "1.63572E+18 Gaia DR2 2028584968839606784 ...    0.156266848  271.849414982"
      ]
     },
     "execution_count": 44,
     "metadata": {},
     "output_type": "execute_result"
    }
   ],
   "source": [
    "data"
   ]
  },
  {
   "cell_type": "code",
   "execution_count": 45,
   "metadata": {
    "collapsed": true
   },
   "outputs": [],
   "source": [
    "# plotting GAIA RA, DEC and errors\n",
    "ra_col = np.array(data[5][:])\n",
    "ra_err = np.array(data[6][:])\n",
    "#dec_col = np.array(data[7][:])\n",
    "#dec_err = np.array(data[8][:])"
   ]
  },
  {
   "cell_type": "code",
   "execution_count": 46,
   "metadata": {
    "collapsed": true
   },
   "outputs": [],
   "source": [
    "dec_err = [0.738504992, 0.302546482, 0.392656637, 2.010098257, 0.623526292, 0.165511548] #HACK"
   ]
  },
  {
   "cell_type": "code",
   "execution_count": 47,
   "metadata": {
    "collapsed": true
   },
   "outputs": [],
   "source": [
    "dec_col = [-47.25267778, 53.11726303, -7.322165289, -50.8166163, 12.94037301, 29.14538275] #HACK"
   ]
  },
  {
   "cell_type": "code",
   "execution_count": 48,
   "metadata": {
    "collapsed": true
   },
   "outputs": [],
   "source": [
    "dec_err = np.array(dec_err)\n",
    "dec_col = np.array(dec_col)"
   ]
  },
  {
   "cell_type": "code",
   "execution_count": 49,
   "metadata": {
    "collapsed": true
   },
   "outputs": [],
   "source": [
    "# plotting RA, DEC and errors\n",
    "ra_col =  ra_col[1:].astype(\"float64\")\n",
    "ra_err = ra_err[1:].astype(\"float64\")\n",
    "#dec_col = dec_col[1:].astype(\"float64\")\n",
    "#dec_err = dec_err[1:].astype(\"float64\")"
   ]
  },
  {
   "cell_type": "code",
   "execution_count": 50,
   "metadata": {
    "collapsed": true
   },
   "outputs": [],
   "source": [
    "# PTA RA and DEC\n",
    "PTAra = [69.31657736, 153.1393298, 156.1610927, 263.1990267, 287.540423, 298.8661475]\n",
    "PTAdec = [-47.2526679, 53.11726643, -7.32213921, -50.81673894, 12.94040243, 29.14539911]"
   ]
  },
  {
   "cell_type": "code",
   "execution_count": 51,
   "metadata": {
    "collapsed": true
   },
   "outputs": [],
   "source": [
    "PTAra = np.array(PTAra)\n",
    "PTAdec = np.array(PTAdec)"
   ]
  },
  {
   "cell_type": "code",
   "execution_count": 52,
   "metadata": {
    "collapsed": true
   },
   "outputs": [],
   "source": [
    "# Plot position with errors x10 so we can see them"
   ]
  },
  {
   "cell_type": "code",
   "execution_count": 53,
   "metadata": {},
   "outputs": [
    {
     "name": "stderr",
     "output_type": "stream",
     "text": [
      "/anaconda2/envs/py3/lib/python3.6/site-packages/matplotlib/font_manager.py:1328: UserWarning: findfont: Font family ['serif'] not found. Falling back to DejaVu Sans\n",
      "  (prop.get_family(), self.defaultFamily[fontext]))\n",
      "/anaconda2/envs/py3/lib/python3.6/site-packages/matplotlib/font_manager.py:1328: UserWarning: findfont: Font family ['serif'] not found. Falling back to DejaVu Sans\n",
      "  (prop.get_family(), self.defaultFamily[fontext]))\n",
      "/anaconda2/envs/py3/lib/python3.6/site-packages/matplotlib/font_manager.py:1328: UserWarning: findfont: Font family ['serif'] not found. Falling back to DejaVu Sans\n",
      "  (prop.get_family(), self.defaultFamily[fontext]))\n",
      "/anaconda2/envs/py3/lib/python3.6/site-packages/matplotlib/font_manager.py:1328: UserWarning: findfont: Font family ['serif'] not found. Falling back to DejaVu Sans\n",
      "  (prop.get_family(), self.defaultFamily[fontext]))\n"
     ]
    },
    {
     "data": {
      "image/png": "[encoded data removed]",
      "text/plain": [
       "<Figure size 244.354x151.019 with 1 Axes>"
      ]
     },
     "metadata": {
      "image/png": {
       "height": 159,
       "width": 241
      }
     },
     "output_type": "display_data"
    }
   ],
   "source": [
    "plt.figure()\n",
    "plt.scatter(PTAdec, PTAra, color = \"C1\", label = \"Pulsar\")\n",
    "plt.errorbar(dec_col, ra_col, xerr=dec_err, yerr=ra_err, fmt='x', color = \"C0\", label = \"Gaia\")\n",
    "plt.xlabel(\"DECJ\")\n",
    "plt.ylabel(\"RAJ\")\n",
    "plt.tight_layout()\n",
    "plt.legend()\n",
    "plt.title(\"Gaia vs Pulsar Positions\")\n",
    "plt.savefig(\"xmatched_WDs_with_RADEC_errorsX10+PTA.pdf\")"
   ]
  },
  {
   "cell_type": "code",
   "execution_count": 54,
   "metadata": {},
   "outputs": [
    {
     "data": {
      "text/html": [
       "&lt;MaskedColumn name=&apos;col1&apos; dtype=&apos;str12&apos; length=7&gt;\n",
       "<table>\n",
       "<tr><td>pmra</td></tr>\n",
       "<tr><td>122.8637296</td></tr>\n",
       "<tr><td>2.976959985</td></tr>\n",
       "<tr><td>-35.51929892</td></tr>\n",
       "<tr><td>-0.031849016</td></tr>\n",
       "<tr><td>-0.672057539</td></tr>\n",
       "<tr><td>-3.092116051</td></tr>\n",
       "</table>"
      ],
      "text/plain": [
       "<MaskedColumn name='col1' dtype='str12' length=7>\n",
       "        pmra\n",
       " 122.8637296\n",
       " 2.976959985\n",
       "-35.51929892\n",
       "-0.031849016\n",
       "-0.672057539\n",
       "-3.092116051"
      ]
     },
     "execution_count": 54,
     "metadata": {},
     "output_type": "execute_result"
    }
   ],
   "source": [
    "pms[0][:]"
   ]
  },
  {
   "cell_type": "code",
   "execution_count": 55,
   "metadata": {
    "collapsed": true
   },
   "outputs": [],
   "source": [
    "# plotting GAIA proper motion\n",
    "pmra_col = np.array(pms[0][:])\n",
    "pmra_err = np.array(pms[1][:])\n",
    "pmdec_col = np.array(pms[2][:])\n",
    "pmdec_err = np.array(pms[3][:])"
   ]
  },
  {
   "cell_type": "code",
   "execution_count": 56,
   "metadata": {
    "collapsed": true
   },
   "outputs": [],
   "source": [
    "pmra_col = pmra_col[1:].astype(\"float64\")\n",
    "pmra_err = pmra_err[1:].astype(\"float64\")\n",
    "pmdec_col = pmdec_col[1:].astype(\"float64\")\n",
    "pmdec_err = pmdec_err[1:].astype(\"float64\")"
   ]
  },
  {
   "cell_type": "code",
   "execution_count": 57,
   "metadata": {
    "collapsed": true
   },
   "outputs": [],
   "source": [
    "# plotting PTA proper motion\n",
    "PTApmra_col = np.array(pms[5][:])\n",
    "PTApmra_err = np.array(pms[6][:])\n",
    "#PTApmdec_col = np.array(pms[7][:])\n",
    "#PTApmdec_err = np.array(pms[8][:])"
   ]
  },
  {
   "cell_type": "code",
   "execution_count": 58,
   "metadata": {
    "collapsed": true
   },
   "outputs": [],
   "source": [
    "PTApmdec_col = [-71.47620158, -25.45880892, -48.24394017, -9.909960846, -6.934721358, -4.065468091]"
   ]
  },
  {
   "cell_type": "code",
   "execution_count": 59,
   "metadata": {
    "collapsed": true
   },
   "outputs": [],
   "source": [
    "PTApmdec_err  = [0, 0.02704717620756740687,0.08132521485737251310, 0.19443960756786698996, 0.28654775359790257694, 0.66213598864487832607]"
   ]
  },
  {
   "cell_type": "code",
   "execution_count": 60,
   "metadata": {
    "collapsed": true
   },
   "outputs": [],
   "source": [
    "PTApmra_col = PTApmra_col[1:].astype(\"float64\")\n",
    "PTApmra_err = PTApmra_err[1:].astype(\"float64\")\n",
    "PTApmdec_col = np.array(PTApmdec_col)\n",
    "PTApmdec_err = np.array(PTApmdec_err)"
   ]
  },
  {
   "cell_type": "code",
   "execution_count": 61,
   "metadata": {},
   "outputs": [
    {
     "data": {
      "text/plain": [
       "0.3333333333333333"
      ]
     },
     "execution_count": 61,
     "metadata": {},
     "output_type": "execute_result"
    }
   ],
   "source": [
    "1/3"
   ]
  },
  {
   "cell_type": "code",
   "execution_count": 62,
   "metadata": {},
   "outputs": [
    {
     "name": "stderr",
     "output_type": "stream",
     "text": [
      "/anaconda2/envs/py3/lib/python3.6/site-packages/matplotlib/font_manager.py:1328: UserWarning: findfont: Font family ['serif'] not found. Falling back to DejaVu Sans\n",
      "  (prop.get_family(), self.defaultFamily[fontext]))\n"
     ]
    },
    {
     "data": {
      "text/plain": [
       "Text(0.5,1,'Proper motion comparison: Gaia vs Pulsar Timing')"
      ]
     },
     "execution_count": 62,
     "metadata": {},
     "output_type": "execute_result"
    },
    {
     "data": {
      "image/png": "[encoded data removed]",
      "text/plain": [
       "<Figure size 244.354x151.019 with 1 Axes>"
      ]
     },
     "metadata": {
      "image/png": {
       "height": 159,
       "width": 239
      }
     },
     "output_type": "display_data"
    }
   ],
   "source": [
    "plt.figure()\n",
    "plt.errorbar(pmdec_col, pmra_col, xerr=pmdec_err, yerr=pmra_err, fmt='o', color=\"C0\", label = \"Gaia\")\n",
    "plt.errorbar(PTApmdec_col, PTApmra_col, xerr=PTApmdec_err, yerr=PTApmra_err, fmt='o', color = \"C1\", label = \"PTA\")\n",
    "plt.xlabel(\"PM DECJ [mas/yr]\")\n",
    "plt.ylabel(\"PM RAJ [mas/yr]\")\n",
    "plt.legend()\n",
    "plt.tight_layout()\n",
    "plt.title(\"Proper motion comparison: Gaia vs Pulsar Timing\")\n",
    "#plt.savefig(\"xmatched_WDs_with_pms.pdf\")"
   ]
  },
  {
   "cell_type": "code",
   "execution_count": 63,
   "metadata": {},
   "outputs": [
    {
     "data": {
      "text/plain": [
       "array([ 0.31022776, -1.48503866,  0.31162951, -0.57310115,  1.4856086 ,\n",
       "       -3.8975238 ])"
      ]
     },
     "execution_count": 63,
     "metadata": {},
     "output_type": "execute_result"
    }
   ],
   "source": [
    "pmdec_col - PTApmdec_col"
   ]
  },
  {
   "cell_type": "code",
   "execution_count": 69,
   "metadata": {
    "collapsed": true
   },
   "outputs": [],
   "source": [
    "correctTheta = 0.0003"
   ]
  },
  {
   "cell_type": "markdown",
   "metadata": {},
   "source": [
    "# J1955+2908"
   ]
  },
  {
   "cell_type": "code",
   "execution_count": 70,
   "metadata": {
    "collapsed": true
   },
   "outputs": [],
   "source": [
    "# GAIA theta = 0.153068\n",
    "# dist = 1739.64867812642"
   ]
  },
  {
   "cell_type": "code",
   "execution_count": 71,
   "metadata": {},
   "outputs": [
    {
     "data": {
      "text/plain": [
       "0.08155482466152808"
      ]
     },
     "execution_count": 71,
     "metadata": {},
     "output_type": "execute_result"
    }
   ],
   "source": [
    "semi_a(0.156266848*correctTheta,1739.648678) # size of semimajor axis in AU based on pulsar distance (DM) and theta from GAIA"
   ]
  },
  {
   "cell_type": "code",
   "execution_count": 72,
   "metadata": {},
   "outputs": [
    {
     "data": {
      "text/plain": [
       "0.5359437727573382"
      ]
     },
     "execution_count": 72,
     "metadata": {},
     "output_type": "execute_result"
    }
   ],
   "source": [
    "kep_a(117,1.5)"
   ]
  },
  {
   "cell_type": "code",
   "execution_count": 34,
   "metadata": {
    "collapsed": true
   },
   "outputs": [],
   "source": [
    "# parallax and error are 0.6034, 0.1942\n",
    "d_est = 1/0.6034"
   ]
  },
  {
   "cell_type": "code",
   "execution_count": 35,
   "metadata": {
    "collapsed": true
   },
   "outputs": [],
   "source": [
    "sigma_d = (1/0.1942)/d_est**2 "
   ]
  },
  {
   "cell_type": "code",
   "execution_count": 36,
   "metadata": {},
   "outputs": [
    {
     "data": {
      "text/plain": [
       "1.87482780638517"
      ]
     },
     "execution_count": 36,
     "metadata": {},
     "output_type": "execute_result"
    }
   ],
   "source": [
    "sigma_d "
   ]
  },
  {
   "cell_type": "code",
   "execution_count": null,
   "metadata": {
    "collapsed": true
   },
   "outputs": [],
   "source": [
    "d_est + sigma_d"
   ]
  },
  {
   "cell_type": "markdown",
   "metadata": {},
   "source": [
    "# J1012+5307"
   ]
  },
  {
   "cell_type": "code",
   "execution_count": 74,
   "metadata": {},
   "outputs": [
    {
     "data": {
      "text/plain": [
       "1.5762791232169477e-05"
      ]
     },
     "execution_count": 74,
     "metadata": {},
     "output_type": "execute_result"
    }
   ],
   "source": [
    "semi_a(0.071544965*correctTheta,0.734400211678976)"
   ]
  },
  {
   "cell_type": "code",
   "execution_count": 38,
   "metadata": {},
   "outputs": [
    {
     "data": {
      "text/plain": [
       "0.01593784093920408"
      ]
     },
     "execution_count": 38,
     "metadata": {},
     "output_type": "execute_result"
    }
   ],
   "source": [
    "kep_a(0.6,1.5)"
   ]
  },
  {
   "cell_type": "markdown",
   "metadata": {},
   "source": [
    "# J0437-4715"
   ]
  },
  {
   "cell_type": "code",
   "execution_count": null,
   "metadata": {
    "collapsed": true
   },
   "outputs": [],
   "source": [
    "semi_a(0.071544965,0.121088886192142)"
   ]
  },
  {
   "cell_type": "code",
   "execution_count": 39,
   "metadata": {},
   "outputs": [
    {
     "data": {
      "text/plain": [
       "0.07148998815023719"
      ]
     },
     "execution_count": 39,
     "metadata": {},
     "output_type": "execute_result"
    }
   ],
   "source": [
    "kep_a(5.7,1.5)"
   ]
  },
  {
   "cell_type": "code",
   "execution_count": null,
   "metadata": {
    "collapsed": true
   },
   "outputs": [],
   "source": []
  },
  {
   "cell_type": "markdown",
   "metadata": {},
   "source": [
    "# J1744-1134"
   ]
  },
  {
   "cell_type": "code",
   "execution_count": null,
   "metadata": {
    "collapsed": true
   },
   "outputs": [],
   "source": [
    "semi_a(1.971,3.18833137078074) "
   ]
  },
  {
   "cell_type": "code",
   "execution_count": null,
   "metadata": {
    "collapsed": true
   },
   "outputs": [],
   "source": [
    "kep_P(6,1.6) # days"
   ]
  },
  {
   "cell_type": "code",
   "execution_count": null,
   "metadata": {
    "collapsed": true
   },
   "outputs": [],
   "source": [
    "kep_P(6,1.6)/365 # years"
   ]
  },
  {
   "cell_type": "code",
   "execution_count": null,
   "metadata": {
    "collapsed": true
   },
   "outputs": [],
   "source": [
    "# Could be in a 4,000 day orbit."
   ]
  },
  {
   "cell_type": "markdown",
   "metadata": {},
   "source": [
    "# J1843-1113"
   ]
  },
  {
   "cell_type": "code",
   "execution_count": null,
   "metadata": {
    "collapsed": true
   },
   "outputs": [],
   "source": [
    "semi_a(theta,dist)"
   ]
  },
  {
   "cell_type": "code",
   "execution_count": 27,
   "metadata": {
    "collapsed": true
   },
   "outputs": [],
   "source": [
    "t2 = semi_a(1.485199*0.0002778328571428571,2.84349320264736)"
   ]
  },
  {
   "cell_type": "code",
   "execution_count": 28,
   "metadata": {
    "collapsed": true
   },
   "outputs": [],
   "source": [
    "yrs = kep_P(4071.842137159, 2)/365 "
   ]
  },
  {
   "cell_type": "code",
   "execution_count": 30,
   "metadata": {},
   "outputs": [
    {
     "data": {
      "text/plain": [
       "0.0011733307366776575"
      ]
     },
     "execution_count": 30,
     "metadata": {},
     "output_type": "execute_result"
    }
   ],
   "source": [
    "t2"
   ]
  },
  {
   "cell_type": "code",
   "execution_count": null,
   "metadata": {
    "collapsed": true
   },
   "outputs": [],
   "source": [
    "kep_P(t2,1.6) # days "
   ]
  },
  {
   "cell_type": "code",
   "execution_count": null,
   "metadata": {
    "collapsed": true
   },
   "outputs": [],
   "source": [
    "kep_P(t2,1.6)/365 # years"
   ]
  },
  {
   "cell_type": "code",
   "execution_count": null,
   "metadata": {
    "collapsed": true
   },
   "outputs": [],
   "source": [
    "# Could be in a 2,500 day orbit. Need to follow up with GAIA data parallax measurements"
   ]
  },
  {
   "cell_type": "code",
   "execution_count": 11,
   "metadata": {
    "collapsed": true
   },
   "outputs": [],
   "source": [
    "# a = 4071.842137159  AU"
   ]
  },
  {
   "cell_type": "markdown",
   "metadata": {},
   "source": [
    "# J1939+2134"
   ]
  },
  {
   "cell_type": "code",
   "execution_count": null,
   "metadata": {
    "collapsed": true
   },
   "outputs": [],
   "source": [
    "t1939 = semi_a(2.138534,4.77262010957524)"
   ]
  },
  {
   "cell_type": "code",
   "execution_count": null,
   "metadata": {
    "collapsed": true
   },
   "outputs": [],
   "source": [
    "kep_P(t1939,1.6) # days"
   ]
  },
  {
   "cell_type": "code",
   "execution_count": null,
   "metadata": {
    "collapsed": true
   },
   "outputs": [],
   "source": [
    "kep_P(t1939,1.6)/365 # years"
   ]
  },
  {
   "cell_type": "markdown",
   "metadata": {},
   "source": [
    "# J1910+1256"
   ]
  },
  {
   "cell_type": "code",
   "execution_count": 41,
   "metadata": {
    "collapsed": true
   },
   "outputs": [],
   "source": [
    "t1910 = semi_a(1.052658208, 4.77262010957524)"
   ]
  },
  {
   "cell_type": "code",
   "execution_count": 42,
   "metadata": {},
   "outputs": [
    {
     "data": {
      "text/plain": [
       "0.0002822492220806645"
      ]
     },
     "execution_count": 42,
     "metadata": {},
     "output_type": "execute_result"
    }
   ],
   "source": [
    "kep_a(t1910,1.5)"
   ]
  },
  {
   "cell_type": "code",
   "execution_count": 43,
   "metadata": {},
   "outputs": [
    {
     "data": {
      "text/plain": [
       "0.0014140219414533633"
      ]
     },
     "execution_count": 43,
     "metadata": {},
     "output_type": "execute_result"
    }
   ],
   "source": [
    "t1910"
   ]
  },
  {
   "cell_type": "code",
   "execution_count": null,
   "metadata": {
    "collapsed": true
   },
   "outputs": [],
   "source": [
    "# So if I need to divide 1910 by 7200, and 1955 by 412, what is correct for 1910??"
   ]
  },
  {
   "cell_type": "code",
   "execution_count": null,
   "metadata": {
    "collapsed": true
   },
   "outputs": [],
   "source": [
    "# Could be in ~1,000 - 30,000 year orbit or longer"
   ]
  },
  {
   "cell_type": "markdown",
   "metadata": {
    "collapsed": true
   },
   "source": [
    "# J1732-5049"
   ]
  },
  {
   "cell_type": "code",
   "execution_count": 46,
   "metadata": {},
   "outputs": [
    {
     "data": {
      "text/plain": [
       "0.06778767650885477"
      ]
     },
     "execution_count": 46,
     "metadata": {},
     "output_type": "execute_result"
    }
   ],
   "source": [
    "kep_a(5.2629972182993119438,1.5)"
   ]
  },
  {
   "cell_type": "markdown",
   "metadata": {},
   "source": [
    "# J1024-0719"
   ]
  },
  {
   "cell_type": "code",
   "execution_count": 47,
   "metadata": {},
   "outputs": [
    {
     "data": {
      "text/plain": [
       "199.92025953413096"
      ]
     },
     "execution_count": 47,
     "metadata": {},
     "output_type": "execute_result"
    }
   ],
   "source": [
    "kep_a(2000*365,2.0) # P = 2 to 20 kyr"
   ]
  },
  {
   "cell_type": "code",
   "execution_count": 10,
   "metadata": {},
   "outputs": [
    {
     "data": {
      "text/plain": [
       "0.00023828444444444445"
      ]
     },
     "execution_count": 10,
     "metadata": {},
     "output_type": "execute_result"
    }
   ],
   "source": [
    "0.857824/3600 # minutes to arcseconds\n"
   ]
  },
  {
   "cell_type": "code",
   "execution_count": 9,
   "metadata": {},
   "outputs": [
    {
     "data": {
      "text/plain": [
       "0.45061353587836606"
      ]
     },
     "execution_count": 9,
     "metadata": {},
     "output_type": "execute_result"
    }
   ],
   "source": [
    "semi_a(0.00023828443777248 ,1891.0741301059)"
   ]
  },
  {
   "cell_type": "code",
   "execution_count": null,
   "metadata": {},
   "outputs": [],
   "source": [
    "0.45 AU"
   ]
  },
  {
   "cell_type": "code",
   "execution_count": 11,
   "metadata": {},
   "outputs": [
    {
     "data": {
      "text/plain": [
       "1622.2087745839635"
      ]
     },
     "execution_count": 11,
     "metadata": {},
     "output_type": "execute_result"
    }
   ],
   "source": [
    "semi_a(0.857824 ,1891.0741301059)"
   ]
  },
  {
   "cell_type": "code",
   "execution_count": 14,
   "metadata": {},
   "outputs": [
    {
     "data": {
      "text/plain": [
       "84.96228444306203"
      ]
     },
     "execution_count": 14,
     "metadata": {},
     "output_type": "execute_result"
    }
   ],
   "source": [
    "kep_P(semi_a(0.857824/3600 ,2000),2)"
   ]
  },
  {
   "cell_type": "code",
   "execution_count": 15,
   "metadata": {},
   "outputs": [
    {
     "ename": "SyntaxError",
     "evalue": "invalid syntax (<ipython-input-15-86539bf80329>, line 1)",
     "output_type": "error",
     "traceback": [
      "\u001b[0;36m  File \u001b[0;32m\"<ipython-input-15-86539bf80329>\"\u001b[0;36m, line \u001b[0;32m1\u001b[0m\n\u001b[0;31m    78 day binary orbit.\u001b[0m\n\u001b[0m         ^\u001b[0m\n\u001b[0;31mSyntaxError\u001b[0m\u001b[0;31m:\u001b[0m invalid syntax\n"
     ]
    }
   ],
   "source": [
    "78 day binary orbit. "
   ]
  },
  {
   "cell_type": "code",
   "execution_count": null,
   "metadata": {},
   "outputs": [],
   "source": []
  }
 ],
 "metadata": {
  "kernelspec": {
   "display_name": "Python 3",
   "language": "python",
   "name": "python3"
  },
  "language_info": {
   "codemirror_mode": {
    "name": "ipython",
    "version": 3
   },
   "file_extension": ".py",
   "mimetype": "text/x-python",
   "name": "python",
   "nbconvert_exporter": "python",
   "pygments_lexer": "ipython3",
   "version": "3.6.5"
  }
 },
 "nbformat": 4,
 "nbformat_minor": 2
}
