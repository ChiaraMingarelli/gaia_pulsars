{
 "cells": [
  {
   "cell_type": "markdown",
   "metadata": {},
   "source": [
    "# Number of wavecycles decomposed into pN contributions"
   ]
  },
  {
   "cell_type": "code",
   "execution_count": 1,
   "metadata": {
    "collapsed": true
   },
   "outputs": [],
   "source": [
    "### Chiara Mingarelli, adapted from my very old code, circa 2011. Will update!"
   ]
  },
  {
   "cell_type": "code",
   "execution_count": 2,
   "metadata": {
    "collapsed": true
   },
   "outputs": [],
   "source": [
    "from __future__ import division\n",
    "from IPython.display import display, Math, Latex\n",
    "import scipy as sp\n",
    "import scipy.integrate as ig\n",
    "import numpy as np\n",
    "from scipy.linalg import inv\n",
    "import matplotlib.pyplot as plt    "
   ]
  },
  {
   "cell_type": "code",
   "execution_count": null,
   "metadata": {
    "collapsed": true
   },
   "outputs": [],
   "source": []
  },
  {
   "cell_type": "code",
   "execution_count": 3,
   "metadata": {
    "collapsed": true
   },
   "outputs": [],
   "source": [
    "c=2.99792458*(10**8)\n",
    "G=6.67428*(10**(-11))\n",
    "s_mass=G*(1.98892*10**(30))/(c**3)\n",
    "\n",
    "# common function shortcuts\n",
    "log10 = np.log10\n",
    "pi = np.pi\n",
    "sqrt = np.sqrt"
   ]
  },
  {
   "cell_type": "code",
   "execution_count": 4,
   "metadata": {},
   "outputs": [
    {
     "ename": "SyntaxError",
     "evalue": "duplicate argument 'm1' in function definition (<ipython-input-4-ab06caa60441>, line 11)",
     "output_type": "error",
     "traceback": [
      "\u001b[0;36m  File \u001b[0;32m\"<ipython-input-4-ab06caa60441>\"\u001b[0;36m, line \u001b[0;32m11\u001b[0m\n\u001b[0;31m    def eta(m1,m1): return mu(m1,m2)/M(m1,m2)\u001b[0m\n\u001b[0;31mSyntaxError\u001b[0m\u001b[0;31m:\u001b[0m duplicate argument 'm1' in function definition\n"
     ]
    }
   ],
   "source": [
    "def MassSeconds(m):\n",
    "    m_secs=m*4.925e-6\n",
    "    return m_secs\n",
    "\n",
    "# Mass functions\n",
    "\n",
    "def mu(m1,m2): return s_mass*(m1*m2)/(m1+m2) # reduced mass\n",
    "\n",
    "def M(m1,m2):  return s_mass*(m1+m2) # total mass\n",
    "\n",
    "def eta(m1,m1): return mu(m1,m2)/M(m1,m2)\n",
    "\n",
    "def mchirp(m1,m2): return ((mu(m1,m2))**(3./5))*((M(m1,m2))**(2./5))  # chirp mass\n",
    "\n",
    "def mchirp_q(q,Mtot): \n",
    "    \"\"\"\n",
    "    chirp mass in terms of q and M_tot. Answer in seconds.\n",
    "    \"\"\"\n",
    "    ans = (q/(1+q)**2)**(3/5)*Mtot*s_mass\n",
    "    return ans\n",
    "\n",
    "def parsec2sec(d): return d*3.08568025e16/299792458"
   ]
  },
  {
   "cell_type": "code",
   "execution_count": 6,
   "metadata": {},
   "outputs": [
    {
     "name": "stdout",
     "output_type": "stream",
     "text": [
      "orbital velocity (v/c) 0.145723200512\n",
      "fdot and deltaF at NW 9.90910922181e-18 0.952265396216 20499.3045508\n",
      "fdot and deltaF at 1PN 6.09974524309e-19 0.0586185517861 1261.87463092\n",
      "fdot and deltaF at 1.5 (no spin) PN 3.85328012667e-19 0.0370300220173 797.14090407\n",
      "fdot and deltaF at 1.5 SO (in unit of beta) PN -3.06634289638e-20 -0.00294675552342 -63.4344576118\n",
      "fdot and deltaF at 2PN SS (in unit of sigma) PN 4.46837300728e-21 0.000429410645999 9.24387218592\n"
     ]
    }
   ],
   "source": [
    "# masses in solar masses\n",
    "m1 = 1.0e9\n",
    "m2 = 1.0e9\n",
    "\n",
    "# other mass parameters\n",
    "mtot = m1 + m2\n",
    "mred = m1*m2/mtot #reduced mass\n",
    "mchirp = pow(mtot,(2.0/5.0))*pow(mred,(3.0/5.0))\n",
    "eta = mred/mtot\n",
    "\n",
    "# GW frequency\n",
    "f = 1e-7\n",
    "\t\t\n",
    "# observation time\n",
    "Tobs = 3.1e7*10.0\n",
    "L1kpc = 3.08e18*65000.0/3.e10 # 150,000 light years, LMC\n",
    "\t\n",
    "# orbital velocity (v/c) \n",
    "vorb = pow((pi*MassSeconds(mtot)*f),(1.0/3.0))\n",
    "print \"orbital velocity (v/c)\",vorb\n",
    "\t\n",
    "# PN contributions\n",
    "dfdt_nw = (96.0/5.0)*pow(pi,(8.0/3.0))*pow(MassSeconds(mchirp),(5.0/3.0))*pow(f,(11.0/3.0))\n",
    "print \"fdot and deltaF at NW\",dfdt_nw, dfdt_nw*Tobs*Tobs, dfdt_nw*L1kpc*Tobs\n",
    "\t\n",
    "dfdt_1pn = dfdt_nw*((743.0/336.0) + (11.0*eta/4.0))*pow((pi*MassSeconds(mtot)*f),(2.0/3.0))\n",
    "print \"fdot and deltaF at 1PN\",dfdt_1pn,dfdt_1pn*Tobs*Tobs, dfdt_1pn*L1kpc*Tobs\n",
    "\t\n",
    "dfdt_15pn = dfdt_nw*4*pi*(pi*MassSeconds(mtot)*f)\n",
    "print \"fdot and deltaF at 1.5 (no spin) PN\",dfdt_15pn, dfdt_15pn*pow(Tobs,2), dfdt_15pn*L1kpc*Tobs\n",
    "print \"fdot and deltaF at 1.5 SO (in unit of beta) PN\", -dfdt_15pn/(4.0*pi), -dfdt_15pn*pow(Tobs,2)/(4.0*pi), -dfdt_15pn*L1kpc*Tobs/(4.0*pi)\n",
    "\t\n",
    "dfdt_2pn =  dfdt_nw*((34103.0/18144.0) + (13661.0/2016.0)*eta + (59.0/18.0)*eta**2*(pi*MassSeconds(mtot)*f)**(4.0/3.0))\n",
    "dfdt_2pn_ss =  dfdt_nw*pow((pi*MassSeconds(mtot)*f),(4.0/3.0))\n",
    "print \"fdot and deltaF at 2PN SS (in unit of sigma) PN\", dfdt_2pn_ss, dfdt_2pn_ss*Tobs*Tobs, dfdt_2pn_ss*L1kpc*Tobs\n",
    "\t"
   ]
  },
  {
   "cell_type": "code",
   "execution_count": null,
   "metadata": {
    "collapsed": true
   },
   "outputs": [],
   "source": []
  }
 ],
 "metadata": {
  "kernelspec": {
   "display_name": "Python 2",
   "language": "python",
   "name": "python2"
  },
  "language_info": {
   "codemirror_mode": {
    "name": "ipython",
    "version": 2
   },
   "file_extension": ".py",
   "mimetype": "text/x-python",
   "name": "python",
   "nbconvert_exporter": "python",
   "pygments_lexer": "ipython2",
   "version": "2.7.13"
  }
 },
 "nbformat": 4,
 "nbformat_minor": 1
}
