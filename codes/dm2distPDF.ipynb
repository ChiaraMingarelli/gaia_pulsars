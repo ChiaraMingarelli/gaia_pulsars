{
 "cells": [
  {
   "cell_type": "code",
   "execution_count": 21,
   "metadata": {},
   "outputs": [],
   "source": [
    "import numpy as np\n",
    "from scipy.integrate import cumtrapz\n",
    "from scipy.interpolate import interp1d\n",
    "import matplotlib.pyplot as plt\n",
    "%matplotlib inline"
   ]
  },
  {
   "cell_type": "code",
   "execution_count": 122,
   "metadata": {},
   "outputs": [],
   "source": [
    "def samples(x, pdf, N, plot=False):\n",
    "    randomNumbers = np.random.random(N)\n",
    "    cdf = cumtrapz(pdf, x)[:, None]\n",
    "    print('maximum of cdf should be 1, the value is: ', np.max(cdf))\n",
    "    difference = np.abs(cdf - randomNumbers)\n",
    "    indices = np.where(difference == np.min(difference, axis=0))\n",
    "    distSamples = 0.5*(x[indices[0]] + x[indices[0]+1])\n",
    "    return distSamples"
   ]
  },
  {
   "cell_type": "code",
   "execution_count": 113,
   "metadata": {},
   "outputs": [],
   "source": [
    "nsamples = 1000\n",
    "pdfInterpGrid = 1000\n",
    "nbins=20"
   ]
  },
  {
   "cell_type": "code",
   "execution_count": 119,
   "metadata": {},
   "outputs": [],
   "source": [
    "#replace with x values of DM pdf\n",
    "x = np.array([22, 23, 24, 25, 26, 27, 28, 29, 30.], dtype=np.float)\n",
    "#replace with y values of DM pdf\n",
    "pdf = np.array([0.0, 0.1, 0.25, 0.75, 1.0, 0.75, 0.25, 0.1, 0.0], dtype=np.float)\n",
    "area = cumtrapz(pdf, x)[-1]\n",
    "pdf /= area\n",
    "f = interp1d(x, pdf, fill_value=(np.array(0.0),np.array(0.0)), bounds_error=False)"
   ]
  },
  {
   "cell_type": "code",
   "execution_count": 123,
   "metadata": {},
   "outputs": [
    {
     "name": "stdout",
     "output_type": "stream",
     "text": [
      "maximum of cdf should be 1, the value is:  0.99999661824\n"
     ]
    }
   ],
   "source": [
    "xx = np.linspace(20, 32, pdfInterpGrid)\n",
    "samp = samples(xx, f(xx), nsamples)"
   ]
  },
  {
   "cell_type": "code",
   "execution_count": 124,
   "metadata": {},
   "outputs": [
    {
     "data": {
      "text/plain": [
       "(array([ 0.01113712,  0.03619565,  0.04176421,  0.06682274,  0.04733278,\n",
       "         0.15313545,  0.15870401,  0.23944816,  0.31462375,  0.28399666,\n",
       "         0.31740803,  0.25615385,  0.27564381,  0.19489967,  0.14199833,\n",
       "         0.08631271,  0.06125418,  0.03897993,  0.02784281,  0.03062709]),\n",
       " array([ 22.37237237,  22.73153153,  23.09069069,  23.44984985,\n",
       "         23.80900901,  24.16816817,  24.52732733,  24.88648649,\n",
       "         25.24564565,  25.6048048 ,  25.96396396,  26.32312312,\n",
       "         26.68228228,  27.04144144,  27.4006006 ,  27.75975976,\n",
       "         28.11891892,  28.47807808,  28.83723724,  29.1963964 ,  29.55555556]),\n",
       " <a list of 1 Patch objects>)"
      ]
     },
     "execution_count": 124,
     "metadata": {},
     "output_type": "execute_result"
    },
    {
     "data": {
      "image/png": "[encoded data removed]",
      "text/plain": [
       "<matplotlib.figure.Figure at 0x11efafcf8>"
      ]
     },
     "metadata": {},
     "output_type": "display_data"
    }
   ],
   "source": [
    "plt.plot(xx, f(xx))\n",
    "plt.hist(samp, density=True, histtype='step', bins=nbins)"
   ]
  },
  {
   "cell_type": "code",
   "execution_count": 136,
   "metadata": {},
   "outputs": [
    {
     "data": {
      "text/plain": [
       "['Gal: gl=   0.000 gb=  90.000 DM=    2.00 DM_Gal:    2.00 Dist:    196.7 log(tau_sc): -9.722 ']"
      ]
     },
     "execution_count": 136,
     "metadata": {},
     "output_type": "execute_result"
    }
   ],
   "source": [
    "#think about a way to loop through this and output into a file >> out.txt\n",
    "#calling sequence\n",
    "#ymw16 Gal l b dm 1 > out.txt \n",
    "%system ./ymw16/ymw16 Gal 0 90 3. 1 \n",
    "%system ./ymw16/ymw16 Gal 0 90 2. 1 \n"
   ]
  },
  {
   "cell_type": "code",
   "execution_count": null,
   "metadata": {},
   "outputs": [],
   "source": []
  }
 ],
 "metadata": {
  "kernelspec": {
   "display_name": "Python 3",
   "language": "python",
   "name": "python3"
  },
  "language_info": {
   "codemirror_mode": {
    "name": "ipython",
    "version": 3
   },
   "file_extension": ".py",
   "mimetype": "text/x-python",
   "name": "python",
   "nbconvert_exporter": "python",
   "pygments_lexer": "ipython3",
   "version": "3.6.3"
  }
 },
 "nbformat": 4,
 "nbformat_minor": 2
}
