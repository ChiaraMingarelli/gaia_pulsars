{
 "cells": [
  {
   "cell_type": "code",
   "execution_count": null,
   "metadata": {},
   "outputs": [],
   "source": [
    "import numpy as np\n",
    "import matplotlib.pyplot as plt\n",
    "from matplotlib.ticker import FormatStrFormatter, LinearLocator, NullFormatter, NullLocator, MultipleLocator\n",
    "import matplotlib.ticker\n",
    "import matplotlib.colors\n",
    "from matplotlib.font_manager import FontProperties\n",
    "from matplotlib import rc, text\n",
    "from dustmaps.sfd import SFDQuery\n",
    "from dustmaps.bayestar import BayestarQuery\n",
    "import astropy.coordinates as coord\n",
    "import astropy.units as u\n",
    "import scipy.stats\n",
    "from astroquery.gaia import Gaia\n",
    "from astropy.table import Table, unique, Column, hstack, vstack\n",
    "%matplotlib inline\n",
    "%config InlineBackend.figure_format = \"retina\""
   ]
  },
  {
   "cell_type": "code",
   "execution_count": null,
   "metadata": {},
   "outputs": [],
   "source": [
    "def dust(ra, dec, distance, plot=False, max_samples=10, mode='median', model='bayes'):\n",
    "    c = coord.SkyCoord(ra*u.deg, dec*u.deg, distance=distance*u.pc)\n",
    "    sfd = SFDQuery()\n",
    "    bayes = BayestarQuery(max_samples=max_samples)\n",
    "\n",
    "    return sfd(c), bayes(c, mode=mode, return_flags=True) #, iphas(c, mode=mode), marshall(c), chen(c)\n",
    "def getDust(G, bp, rp, ebv, maxnit=100):\n",
    "    \"\"\" Compute the Gaia extinctions assuming relations from Babusieux\n",
    "    Arguments: G, bp, rp, E(B-V)\n",
    "    maxnit -- number of iterations\n",
    "    Returns extinction in G,bp, rp\n",
    "    Author: Sergey Koposov skoposov@cmu.edu\n",
    "    \"\"\"\n",
    "    c1, c2, c3, c4, c5, c6, c7 = [0.9761, -0.1704,\n",
    "                                  0.0086, 0.0011, -0.0438, 0.0013, 0.0099]\n",
    "    d1, d2, d3, d4, d5, d6, d7 = [\n",
    "        1.1517, -0.0871, -0.0333, 0.0173, -0.0230, 0.0006, 0.0043]\n",
    "    e1, e2, e3, e4, e5, e6, e7 = [\n",
    "        0.6104, -0.0170, -0.0026, -0.0017, -0.0078, 0.00005, 0.0006]\n",
    "    A0 = 3.1*ebv\n",
    "    P1 = np.poly1d([c1, c2, c3, c4][::-1])\n",
    "\n",
    "    def F1(bprp): return np.poly1d(\n",
    "        [c1, c2, c3, c4][::-1])(bprp)+c5*A0+c6*A0**2+c7*bprp*A0\n",
    "\n",
    "    def F2(bprp): return np.poly1d(\n",
    "        [d1, d2, d3, d4][::-1])(bprp)+d5*A0+d6*A0**2+d7*bprp*A0\n",
    "\n",
    "    def F3(bprp): return np.poly1d(\n",
    "        [e1, e2, e3, e4][::-1])(bprp)+e5*A0+e6*A0**2+e7*bprp*A0\n",
    "    xind = np.isfinite(bp+rp+G)\n",
    "    curbp = bp-rp\n",
    "    for i in range(maxnit):\n",
    "        AG = F1(curbp)*A0\n",
    "        Abp = F2(curbp)*A0\n",
    "        Arp = F3(curbp)*A0\n",
    "        curbp1 = bp-rp-Abp+Arp\n",
    "\n",
    "        delta = np.abs(curbp1-curbp)[xind]\n",
    "        curbp = curbp1\n",
    "    print(scipy.stats.scoreatpercentile(delta[np.isfinite(delta)], 99))\n",
    "    AG = F1(curbp)*A0\n",
    "    Abp = F2(curbp)*A0\n",
    "    Arp = F3(curbp)*A0\n",
    "    return AG, Abp, Arp\n"
   ]
  },
  {
   "cell_type": "code",
   "execution_count": null,
   "metadata": {},
   "outputs": [],
   "source": [
    "fig_width_pt = 245.27 #513.17           # Get this from LaTeX using \\showthe\\columnwidth\n",
    "inches_per_pt = 1.0/72.27               # Convert pt to inches\n",
    "golden_mean = (np.sqrt(5)-1.0)/2.0      # Aesthetic ratio\n",
    "fig_width = fig_width_pt*inches_per_pt  # width in inches\n",
    "fig_height =fig_width*golden_mean       # height in inches\n",
    "fig_size = [fig_width,fig_height]\n",
    "\n",
    "params = {'backend': 'pdf',\n",
    "        'axes.labelsize': 7,\n",
    "        'lines.markersize': 2,\n",
    "        'font.size': 7,\n",
    "        'xtick.major.size':6,\n",
    "        'xtick.minor.size':3,  \n",
    "        'ytick.major.size':6,\n",
    "        'ytick.minor.size':3, \n",
    "        'xtick.major.width':0.5,\n",
    "        'ytick.major.width':0.5,\n",
    "        'xtick.minor.width':0.5,\n",
    "        'ytick.minor.width':0.5,\n",
    "        'lines.markeredgewidth':1,\n",
    "        'axes.linewidth':1.0,\n",
    "        'legend.fontsize': 7,\n",
    "        'xtick.labelsize': 7,\n",
    "        'ytick.labelsize': 7,\n",
    "        'savefig.dpi':200,\n",
    "        'path.simplify':True,\n",
    "        'font.family': 'serif',\n",
    "        'font.serif':'Times',\n",
    "        'text.latex.preamble': [r'\\usepackage{amsmath}'],\n",
    "        'text.usetex':True,\n",
    "        #'axes.color_cycle': ['b', 'lime', 'r', 'purple', 'g', 'c', 'm', 'orange', 'darkblue', \\\n",
    "        #                        'darkcyan', 'y','orangered','chartreuse','brown','deeppink','lightgreen', 'k'],\n",
    "        #'font.serif':cm,\n",
    "        'figure.figsize': fig_size}\n",
    "plt.rcParams.update(params)"
   ]
  },
  {
   "cell_type": "code",
   "execution_count": null,
   "metadata": {},
   "outputs": [],
   "source": [
    "query = \"SELECT TOP 10000 \\\n",
    "phot_g_mean_mag+5*log10(parallax)-10 AS mg, bp_rp FROM gaiadr2.gaia_source \\\n",
    "WHERE parallax_over_error > 100 \\\n",
    "AND phot_g_mean_flux_over_error>50 \\\n",
    "AND phot_rp_mean_flux_over_error>20 \\\n",
    "AND phot_bp_mean_flux_over_error>20 \\\n",
    "AND phot_bp_rp_excess_factor < 1.3+0.06*power(phot_bp_mean_mag-phot_rp_mean_mag,2) \\\n",
    "AND phot_bp_rp_excess_factor > 1.0+0.015*power(phot_bp_mean_mag-phot_rp_mean_mag,2) \\\n",
    "AND visibility_periods_used>8 \\\n",
    "AND astrometric_chi2_al/(astrometric_n_good_obs_al-5)<1.44*greatest(1,exp(-0.4*(phot_g_mean_mag-19.5))) \\\n",
    "AND (bp_rp > 2 \\\n",
    "OR phot_g_mean_mag+5*log10(parallax)-10 < 10+2.6*bp_rp)\""
   ]
  },
  {
   "cell_type": "code",
   "execution_count": null,
   "metadata": {},
   "outputs": [],
   "source": [
    "wd_query = \"SELECT TOP 1000 \\\n",
    "phot_g_mean_mag+5*log10(parallax)-10 AS mg, bp_rp FROM gaiadr2.gaia_source \\\n",
    "WHERE parallax_over_error > 20 \\\n",
    "AND phot_g_mean_flux_over_error>50 \\\n",
    "AND phot_rp_mean_flux_over_error>20 \\\n",
    "AND phot_bp_mean_flux_over_error>20 \\\n",
    "AND phot_bp_rp_excess_factor < 1.3+0.06*power(phot_bp_mean_mag-phot_rp_mean_mag,2) \\\n",
    "AND phot_bp_rp_excess_factor > 1.0+0.015*power(phot_bp_mean_mag-phot_rp_mean_mag,2) \\\n",
    "AND visibility_periods_used>8 \\\n",
    "AND astrometric_chi2_al/(astrometric_n_good_obs_al-5)<1.44*greatest(1,exp(-0.4*(phot_g_mean_mag-19.5))) \\\n",
    "AND bp_rp < 2 \\\n",
    "AND phot_g_mean_mag+5*log10(parallax)-10 > 10+2.6*bp_rp\""
   ]
  },
  {
   "cell_type": "code",
   "execution_count": null,
   "metadata": {},
   "outputs": [],
   "source": [
    "job = Gaia.launch_job(query)\n",
    "mainsequence = Table(job.get_results())"
   ]
  },
  {
   "cell_type": "code",
   "execution_count": null,
   "metadata": {},
   "outputs": [],
   "source": [
    "job = Gaia.launch_job(wd_query)\n",
    "data = Table(job.get_results())"
   ]
  },
  {
   "cell_type": "code",
   "execution_count": null,
   "metadata": {},
   "outputs": [],
   "source": [
    "fig, ax1 = plt.subplots()\n",
    "ax1.scatter(data['bp_rp'], data['mg'])\n",
    "ax1.scatter(mainsequence['bp_rp'], mainsequence['mg'])\n",
    "ax1.set_xlim([-1,3])\n",
    "ax1.set_ylim([17,-2])"
   ]
  },
  {
   "cell_type": "code",
   "execution_count": null,
   "metadata": {},
   "outputs": [],
   "source": [
    "pulsar_data = np.genfromtxt('ipta_3arcsec_wpm-result.csv', \n",
    "                            delimiter=',', names=True, dtype=None)"
   ]
  },
  {
   "cell_type": "code",
   "execution_count": null,
   "metadata": {},
   "outputs": [],
   "source": [
    "pulsar_data = Table(pulsar_data)\n",
    "pulsar_data.sort(['names', 'angdist'])\n",
    "pulsar_data = unique(pulsar_data, keys='names') # drop less-good duplicate matches"
   ]
  },
  {
   "cell_type": "code",
   "execution_count": null,
   "metadata": {},
   "outputs": [],
   "source": [
    "names_keep = ['J0437-4715', 'J1012+5307', 'J1024-0719', 'J1732-5049', 'J1910+1256', 'J1843-1113', 'J1955+2908']\n",
    "pulsar_data = pulsar_data[np.isin(pulsar_data['names'], names_keep)] # keep only the sources we wrote about"
   ]
  },
  {
   "cell_type": "code",
   "execution_count": null,
   "metadata": {},
   "outputs": [],
   "source": [
    "distance =      Column([156.7,  907, 1272, 4220, 1162, 1484, 1896], name='distance')\n",
    "distance_low =  Column([156.5,  777, 1072, 2854,  862, 992, 1496], name='distance_low')\n",
    "distance_high = Column([156.9, 1037, 1472, 5586, 1462, 1976, 2269], name='distance_high')\n",
    "pulsar_data.add_columns([distance, distance_low, distance_high])"
   ]
  },
  {
   "cell_type": "code",
   "execution_count": null,
   "metadata": {},
   "outputs": [],
   "source": [
    "pulsar_data['mg'] = pulsar_data['phot_g_mean_mag']*u.mag - coord.Distance(pulsar_data['distance']*u.pc).distmod\n",
    "pulsar_data['mg_lo'] = pulsar_data['phot_g_mean_mag']*u.mag - coord.Distance(pulsar_data['distance_high']*u.pc).distmod\n",
    "pulsar_data['mg_hi'] = pulsar_data['phot_g_mean_mag']*u.mag - coord.Distance(pulsar_data['distance_low']*u.pc).distmod\n",
    "mg_err = np.vstack((np.abs(pulsar_data['mg_lo'] - pulsar_data['mg']), \n",
    "                    np.abs(pulsar_data['mg_hi'] - pulsar_data['mg'])))\n",
    "color_err = np.sqrt((2.5 / np.log(10)*pulsar_data['phot_bp_mean_flux_error']/pulsar_data['phot_bp_mean_flux'])**2 + \n",
    "                    (2.5 / np.log(10)*pulsar_data['phot_rp_mean_flux_error']/pulsar_data['phot_rp_mean_flux'])**2)"
   ]
  },
  {
   "cell_type": "code",
   "execution_count": null,
   "metadata": {},
   "outputs": [],
   "source": [
    "fig, ax1 = plt.subplots()\n",
    "ax1.scatter(data['bp_rp'], data['mg'], color='C0', alpha=0.7, s=1)\n",
    "ax1.scatter(mainsequence['bp_rp'], mainsequence['mg'], color='C2', alpha=0.7, s=1)\n",
    "ax1.invert_yaxis()\n",
    "ax1.set_xlabel('Bp - Rp (mag)')\n",
    "ax1.set_ylabel('$M_G$')\n",
    "bprp = pulsar_data['bp_rp']\n",
    "absG = pulsar_data['mg']\n",
    "plt.tight_layout()\n",
    "#plt.savefig(\"../figures/hrd_wLabels-cm.pdf\")"
   ]
  },
  {
   "cell_type": "code",
   "execution_count": null,
   "metadata": {},
   "outputs": [],
   "source": [
    "sfd, bayesMid = dust(pulsar_data['ra'], pulsar_data['dec'], pulsar_data['distance'])\n",
    "sfdAG, sfdAbp, sfdArp = getDust(pulsar_data['phot_g_mean_mag'], pulsar_data['phot_bp_mean_mag'], pulsar_data['phot_rp_mean_mag'], sfd)\n",
    "bayesAG, bayesAbp, bayesArp = getDust(pulsar_data['phot_g_mean_mag'], pulsar_data['phot_bp_mean_mag'], pulsar_data['phot_rp_mean_mag'], bayesMid[0])"
   ]
  },
  {
   "cell_type": "code",
   "execution_count": null,
   "metadata": {},
   "outputs": [],
   "source": [
    "bestAG = bayesAG\n",
    "bestAG[np.isnan(bestAG)] = sfdAG[np.isnan(bestAG)]\n",
    "bestArp = bayesArp\n",
    "bestArp[np.isnan(bestArp)] = sfdArp[np.isnan(bestArp)]\n",
    "bestAbp = bayesAbp\n",
    "bestAbp[np.isnan(bestAbp)] = sfdAbp[np.isnan(bestAbp)]\n",
    "fig, ax1 = plt.subplots()\n",
    "bprp = pulsar_data['bp_rp'] - bestAbp + bestArp\n",
    "absG = pulsar_data['mg'] - bestAG\n",
    "ax1.scatter(data['bp_rp'], data['mg'], color='C0', alpha=0.7, s=1)\n",
    "ax1.scatter(mainsequence['bp_rp'], mainsequence['mg'], color='C2', alpha=0.7, s=1)\n",
    "ax1.errorbar(pulsar_data['bp_rp'] - bestAbp + bestArp, pulsar_data['mg'] - bestAG, yerr=mg_err, xerr=color_err, color='C1', fmt='o')\n",
    "ax1.set_xlim([-.7,3.5])\n",
    "ax1.set_ylim([15.5,5])\n",
    "#ax1.invert_yaxis()\n",
    "ax1.set_xlabel('Bp - Rp (mag)')\n",
    "ax1.set_ylabel('$M_G$')\n",
    "#for ii in range(6):\n",
    "#    ax1.annotate(pulsar_data['names'][ii], (data['bp_rp'][ii], data['mg'][ii]), color = 'black')\n",
    "for i in range(len(pulsar_data['names'])):\n",
    "    ax1.annotate(pulsar_data['names'][i], (bprp[i]+0.1, absG[i]), color = 'black')\n",
    "\n",
    "plt.tight_layout()\n",
    "plt.savefig(\"../figures/hrd_wLabels_wDust.pdf\")"
   ]
  },
  {
   "cell_type": "code",
   "execution_count": null,
   "metadata": {},
   "outputs": [],
   "source": [
    "import matplotlib as mpl"
   ]
  },
  {
   "cell_type": "code",
   "execution_count": null,
   "metadata": {},
   "outputs": [],
   "source": [
    "bestAG = bayesAG\n",
    "bestAG[np.isnan(bestAG)] = sfdAG[np.isnan(bestAG)]\n",
    "bestArp = bayesArp\n",
    "bestArp[np.isnan(bestArp)] = sfdArp[np.isnan(bestArp)]\n",
    "bestAbp = bayesAbp\n",
    "bestAbp[np.isnan(bestAbp)] = sfdAbp[np.isnan(bestAbp)]\n",
    "fig, ax1 = plt.subplots()\n",
    "\n",
    "bprp = pulsar_data['bp_rp'] - bestAbp + bestArp\n",
    "absG = pulsar_data['mg'] - bestAG\n",
    "\n",
    "nbins = 100\n",
    "xbins = np.linspace(-1, 3.5, nbins)\n",
    "ybins = np.linspace(4, 16, nbins)\n",
    "alldata = vstack((mainsequence, data))\n",
    "H, xe, ye = np.histogram2d(alldata['bp_rp'], alldata['mg'], bins=(xbins, ybins))\n",
    "cmapchosen = plt.get_cmap('Blues')\n",
    "cmapchosen.set_under(color='white')\n",
    "im = ax1.pcolormesh(xe, ye, H.T + 1,\n",
    "      norm=mpl.colors.LogNorm(), cmap=cmapchosen, vmax=40, vmin=2)#vmax=75))#, vmax=20) #, vmin=-100, vmax=100)\n",
    "im.set_rasterized(True)\n",
    "\n",
    "ax1.errorbar(pulsar_data['bp_rp'] - bestAbp + bestArp, pulsar_data['mg'] - bestAG, yerr=mg_err, xerr=color_err, color='C1', fmt='o')\n",
    "ax1.set_xlim([-.7,3.5])\n",
    "ax1.set_ylim([15.5,4])\n",
    "\n",
    "ax1.set_xlabel('Bp - Rp (mag)')\n",
    "ax1.set_ylabel('$M_G$')\n",
    "\n",
    "for i in range(len(pulsar_data['names'])):\n",
    "    if pulsar_data['names'][i] in ['J0437-4715', 'J1843-1113', 'J1955+2908']: x = bprp[i] - 0.3; y = absG[i] - 0.8\n",
    "    elif pulsar_data['names'][i] in ['J1910+1256', 'J1732-5049']: x = bprp[i] - 1.; y = absG[i] - 0.2\n",
    "    else: x = bprp[i] - 0.3; y = absG[i] + 1.25\n",
    "    ax1.annotate(pulsar_data['names'][i], (x, y), color = 'black')\n",
    "\n",
    "plt.tight_layout()\n",
    "plt.savefig(\"../figures/hrd_wLabels_wDust_hist.pdf\")"
   ]
  },
  {
   "cell_type": "code",
   "execution_count": null,
   "metadata": {},
   "outputs": [],
   "source": [
    "bestAG = sfdAG\n",
    "bestAG[np.isnan(bestAG)] = bayesAG[np.isnan(bestAG)]\n",
    "bestArp = sfdArp\n",
    "bestArp[np.isnan(bestArp)] = bayesArp[np.isnan(bestArp)]\n",
    "bestAbp = sfdAbp\n",
    "bestAbp[np.isnan(bestAbp)] = bayesAbp[np.isnan(bestAbp)]\n",
    "fig, ax1 = plt.subplots()\n",
    "bprp = pulsar_data['bp_rp'] - bestAbp + bestArp\n",
    "absG = pulsar_data['mg'] - bestAG\n",
    "ax1.scatter(data['bp_rp'], data['mg'], color='C0', alpha=0.7, s=1)\n",
    "ax1.scatter(mainsequence['bp_rp'], mainsequence['mg'], color='C2', alpha=0.7, s=1)\n",
    "ax1.errorbar(bprp, absG, yerr=mg_err, xerr=color_err,color='C1', fmt='o')\n",
    "ax1.set_xlim([-1.75,3.5])\n",
    "ax1.set_ylim([15.5,3])\n",
    "#ax1.invert_yaxis()\n",
    "ax1.set_xlabel('Bp - Rp (mag)')\n",
    "ax1.set_ylabel('$M_G$')\n",
    "for i in range(6):\n",
    "    ax1.annotate(pulsar_data['names'][i], (bprp[i]+0.1, absG[i]), color = 'black')\n",
    "plt.tight_layout()\n",
    "plt.savefig(\"../figures/hrd_wLabels_wDustSFD.pdf\")"
   ]
  },
  {
   "cell_type": "code",
   "execution_count": null,
   "metadata": {},
   "outputs": [],
   "source": []
  },
  {
   "cell_type": "code",
   "execution_count": null,
   "metadata": {},
   "outputs": [],
   "source": []
  }
 ],
 "metadata": {
  "kernelspec": {
   "display_name": "Python 3",
   "language": "python",
   "name": "python3"
  },
  "language_info": {
   "codemirror_mode": {
    "name": "ipython",
    "version": 3
   },
   "file_extension": ".py",
   "mimetype": "text/x-python",
   "name": "python",
   "nbconvert_exporter": "python",
   "pygments_lexer": "ipython3",
   "version": "3.6.5"
  }
 },
 "nbformat": 4,
 "nbformat_minor": 2
}
