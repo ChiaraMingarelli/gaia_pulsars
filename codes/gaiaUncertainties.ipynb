{
 "cells": [
  {
   "cell_type": "code",
   "execution_count": 1,
   "metadata": {
    "collapsed": true
   },
   "outputs": [],
   "source": [
    "from astropy.io import ascii "
   ]
  },
  {
   "cell_type": "code",
   "execution_count": 2,
   "metadata": {
    "collapsed": true
   },
   "outputs": [],
   "source": [
    "#data = ascii.read('pulsars_gaia_xmatch.csv')\n",
    "data = ascii.read('ipta_pulsars_gaia_xmatch.csv')"
   ]
  },
  {
   "cell_type": "code",
   "execution_count": 3,
   "metadata": {},
   "outputs": [
    {
     "data": {
      "text/plain": [
       "['angDist',\n",
       " 'col1',\n",
       " 'col2',\n",
       " 'col3',\n",
       " 'ra_ep2000',\n",
       " 'dec_ep2000',\n",
       " 'errHalfMaj',\n",
       " 'errHalfMin',\n",
       " 'errPosAng',\n",
       " 'ra',\n",
       " 'dec',\n",
       " 'source_id',\n",
       " 'ref_epoch',\n",
       " 'ra_error',\n",
       " 'dec_error',\n",
       " 'parallax',\n",
       " 'parallax_error',\n",
       " 'pmra',\n",
       " 'pmra_error',\n",
       " 'pmdec',\n",
       " 'pmdec_error',\n",
       " 'ra_dec_corr',\n",
       " 'duplicated_source',\n",
       " 'phot_g_n_obs',\n",
       " 'phot_g_mean_flux',\n",
       " 'phot_g_mean_flux_error',\n",
       " 'phot_g_mean_mag',\n",
       " 'phot_variable_flag',\n",
       " 'l',\n",
       " 'b']"
      ]
     },
     "execution_count": 3,
     "metadata": {},
     "output_type": "execute_result"
    }
   ],
   "source": [
    "data.keys()"
   ]
  },
  {
   "cell_type": "code",
   "execution_count": 5,
   "metadata": {},
   "outputs": [
    {
     "data": {
      "text/html": [
       "&lt;MaskedColumn name=&apos;phot_g_mean_mag&apos; dtype=&apos;float64&apos; length=19&gt;\n",
       "<table>\n",
       "<tr><td>20.255</td></tr>\n",
       "<tr><td>18.209</td></tr>\n",
       "<tr><td>19.557</td></tr>\n",
       "<tr><td>19.042</td></tr>\n",
       "<tr><td>20.31</td></tr>\n",
       "<tr><td>16.264</td></tr>\n",
       "<tr><td>20.56</td></tr>\n",
       "<tr><td>17.995</td></tr>\n",
       "<tr><td>19.323</td></tr>\n",
       "<tr><td>16.19</td></tr>\n",
       "<tr><td>14.464</td></tr>\n",
       "<tr><td>19.925</td></tr>\n",
       "<tr><td>19.534</td></tr>\n",
       "<tr><td>19.851</td></tr>\n",
       "<tr><td>20.25</td></tr>\n",
       "<tr><td>20.576</td></tr>\n",
       "<tr><td>18.489</td></tr>\n",
       "<tr><td>19.295</td></tr>\n",
       "<tr><td>10.23</td></tr>\n",
       "</table>"
      ],
      "text/plain": [
       "<MaskedColumn name='phot_g_mean_mag' dtype='float64' length=19>\n",
       "20.255\n",
       "18.209\n",
       "19.557\n",
       "19.042\n",
       " 20.31\n",
       "16.264\n",
       " 20.56\n",
       "17.995\n",
       "19.323\n",
       " 16.19\n",
       "14.464\n",
       "19.925\n",
       "19.534\n",
       "19.851\n",
       " 20.25\n",
       "20.576\n",
       "18.489\n",
       "19.295\n",
       " 10.23"
      ]
     },
     "execution_count": 5,
     "metadata": {},
     "output_type": "execute_result"
    }
   ],
   "source": [
    "data['phot_g_mean_mag']"
   ]
  },
  {
   "cell_type": "code",
   "execution_count": 6,
   "metadata": {
    "collapsed": true
   },
   "outputs": [],
   "source": [
    "from pygaia.errors.astrometric import parallaxErrorSkyAvg"
   ]
  },
  {
   "cell_type": "code",
   "execution_count": 7,
   "metadata": {
    "collapsed": true
   },
   "outputs": [],
   "source": [
    "sigmaPar=parallaxErrorSkyAvg(data['phot_g_mean_mag'], -0.5)"
   ]
  },
  {
   "cell_type": "code",
   "execution_count": 8,
   "metadata": {},
   "outputs": [
    {
     "data": {
      "text/html": [
       "&lt;MaskedColumn name=&apos;phot_g_mean_mag&apos; dtype=&apos;float64&apos; length=19&gt;\n",
       "<table>\n",
       "<tr><td>764.413239046</td></tr>\n",
       "<tr><td>155.291154722</td></tr>\n",
       "<tr><td>426.738127815</td></tr>\n",
       "<tr><td>284.110263824</td></tr>\n",
       "<tr><td>801.324056738</td></tr>\n",
       "<tr><td>49.0961397765</td></tr>\n",
       "<tr><td>994.683909138</td></tr>\n",
       "<tr><td>134.535895164</td></tr>\n",
       "<tr><td>353.720383404</td></tr>\n",
       "<tr><td>47.2409024277</td></tr>\n",
       "<tr><td>20.2084526652</td></tr>\n",
       "<tr><td>578.037076881</td></tr>\n",
       "<tr><td>418.857418104</td></tr>\n",
       "<tr><td>543.411725549</td></tr>\n",
       "<tr><td>761.149029102</td></tr>\n",
       "<tr><td>1008.63479988</td></tr>\n",
       "<tr><td>188.732045457</td></tr>\n",
       "<tr><td>345.971211971</td></tr>\n",
       "<tr><td>6.30317418513</td></tr>\n",
       "</table>"
      ],
      "text/plain": [
       "<MaskedColumn name='phot_g_mean_mag' dtype='float64' length=19>\n",
       "764.413239046\n",
       "155.291154722\n",
       "426.738127815\n",
       "284.110263824\n",
       "801.324056738\n",
       "49.0961397765\n",
       "994.683909138\n",
       "134.535895164\n",
       "353.720383404\n",
       "47.2409024277\n",
       "20.2084526652\n",
       "578.037076881\n",
       "418.857418104\n",
       "543.411725549\n",
       "761.149029102\n",
       "1008.63479988\n",
       "188.732045457\n",
       "345.971211971\n",
       "6.30317418513"
      ]
     },
     "execution_count": 8,
     "metadata": {},
     "output_type": "execute_result"
    }
   ],
   "source": [
    "sigmaPar"
   ]
  },
  {
   "cell_type": "code",
   "execution_count": 22,
   "metadata": {},
   "outputs": [
    {
     "data": {
      "text/html": [
       "&lt;MaskedColumn name=&apos;col1&apos; dtype=&apos;str11&apos; length=19&gt;\n",
       "<table>\n",
       "<tr><td>J0437-4715</td></tr>\n",
       "<tr><td>J0613-0200</td></tr>\n",
       "<tr><td>J1012+5307</td></tr>\n",
       "<tr><td>J1024-0719</td></tr>\n",
       "<tr><td>J1603-7202</td></tr>\n",
       "<tr><td>J1730-2304</td></tr>\n",
       "<tr><td>J1744-1134</td></tr>\n",
       "<tr><td>J1751-2857</td></tr>\n",
       "<tr><td>J1801-1417</td></tr>\n",
       "<tr><td>J1804-2717</td></tr>\n",
       "<tr><td>J1824-2452A</td></tr>\n",
       "<tr><td>J1843-1113</td></tr>\n",
       "<tr><td>J1853+1303</td></tr>\n",
       "<tr><td>J1857+0943</td></tr>\n",
       "<tr><td>J1910+1256</td></tr>\n",
       "<tr><td>J1939+2134</td></tr>\n",
       "<tr><td>J1955+2908</td></tr>\n",
       "<tr><td>J2019+2425</td></tr>\n",
       "<tr><td>J2033+1734</td></tr>\n",
       "</table>"
      ],
      "text/plain": [
       "<MaskedColumn name='col1' dtype='str11' length=19>\n",
       " J0437-4715\n",
       " J0613-0200\n",
       " J1012+5307\n",
       " J1024-0719\n",
       " J1603-7202\n",
       " J1730-2304\n",
       " J1744-1134\n",
       " J1751-2857\n",
       " J1801-1417\n",
       " J1804-2717\n",
       "J1824-2452A\n",
       " J1843-1113\n",
       " J1853+1303\n",
       " J1857+0943\n",
       " J1910+1256\n",
       " J1939+2134\n",
       " J1955+2908\n",
       " J2019+2425\n",
       " J2033+1734"
      ]
     },
     "execution_count": 22,
     "metadata": {},
     "output_type": "execute_result"
    }
   ],
   "source": [
    "data['col1']"
   ]
  },
  {
   "cell_type": "code",
   "execution_count": 9,
   "metadata": {},
   "outputs": [
    {
     "data": {
      "text/html": [
       "&lt;MaskedColumn name=&apos;phot_g_mean_mag&apos; dtype=&apos;float64&apos; length=19&gt;\n",
       "<table>\n",
       "<tr><td>0.261638587329</td></tr>\n",
       "<tr><td>1.28790336035</td></tr>\n",
       "<tr><td>0.468671503584</td></tr>\n",
       "<tr><td>0.703952040691</td></tr>\n",
       "<tr><td>0.249586915953</td></tr>\n",
       "<tr><td>4.07364002364</td></tr>\n",
       "<tr><td>0.201068900545</td></tr>\n",
       "<tr><td>1.48659210804</td></tr>\n",
       "<tr><td>0.565418362593</td></tr>\n",
       "<tr><td>4.23361937901</td></tr>\n",
       "<tr><td>9.8968487748</td></tr>\n",
       "<tr><td>0.345998566526</td></tr>\n",
       "<tr><td>0.4774894543</td></tr>\n",
       "<tr><td>0.368045057913</td></tr>\n",
       "<tr><td>0.262760632088</td></tr>\n",
       "<tr><td>0.198287824318</td></tr>\n",
       "<tr><td>1.05970345161</td></tr>\n",
       "<tr><td>0.578082779953</td></tr>\n",
       "<tr><td>31.7300449148</td></tr>\n",
       "</table>"
      ],
      "text/plain": [
       "<MaskedColumn name='phot_g_mean_mag' dtype='float64' length=19>\n",
       "0.261638587329\n",
       " 1.28790336035\n",
       "0.468671503584\n",
       "0.703952040691\n",
       "0.249586915953\n",
       " 4.07364002364\n",
       "0.201068900545\n",
       " 1.48659210804\n",
       "0.565418362593\n",
       " 4.23361937901\n",
       "  9.8968487748\n",
       "0.345998566526\n",
       "  0.4774894543\n",
       "0.368045057913\n",
       "0.262760632088\n",
       "0.198287824318\n",
       " 1.05970345161\n",
       "0.578082779953\n",
       " 31.7300449148"
      ]
     },
     "execution_count": 9,
     "metadata": {},
     "output_type": "execute_result"
    }
   ],
   "source": [
    "1/5./(sigmaPar*1e-3)"
   ]
  },
  {
   "cell_type": "code",
   "execution_count": 10,
   "metadata": {},
   "outputs": [
    {
     "data": {
      "text/html": [
       "&lt;MaskedColumn name=&apos;angDist&apos; dtype=&apos;float64&apos; length=19&gt;\n",
       "<table>\n",
       "<tr><td>0.556052</td></tr>\n",
       "<tr><td>4.436126</td></tr>\n",
       "<tr><td>0.360541</td></tr>\n",
       "<tr><td>0.857824</td></tr>\n",
       "<tr><td>4.894165</td></tr>\n",
       "<tr><td>3.64931</td></tr>\n",
       "<tr><td>1.858766</td></tr>\n",
       "<tr><td>3.00057</td></tr>\n",
       "<tr><td>4.497614</td></tr>\n",
       "<tr><td>2.720735</td></tr>\n",
       "<tr><td>2.936042</td></tr>\n",
       "<tr><td>3.364307</td></tr>\n",
       "<tr><td>4.825145</td></tr>\n",
       "<tr><td>3.690921</td></tr>\n",
       "<tr><td>1.080332</td></tr>\n",
       "<tr><td>2.632686</td></tr>\n",
       "<tr><td>0.20805</td></tr>\n",
       "<tr><td>4.270987</td></tr>\n",
       "<tr><td>0.000165</td></tr>\n",
       "</table>"
      ],
      "text/plain": [
       "<MaskedColumn name='angDist' dtype='float64' length=19>\n",
       "0.556052\n",
       "4.436126\n",
       "0.360541\n",
       "0.857824\n",
       "4.894165\n",
       " 3.64931\n",
       "1.858766\n",
       " 3.00057\n",
       "4.497614\n",
       "2.720735\n",
       "2.936042\n",
       "3.364307\n",
       "4.825145\n",
       "3.690921\n",
       "1.080332\n",
       "2.632686\n",
       " 0.20805\n",
       "4.270987\n",
       "0.000165"
      ]
     },
     "execution_count": 10,
     "metadata": {},
     "output_type": "execute_result"
    }
   ],
   "source": [
    "data['angDist']"
   ]
  },
  {
   "cell_type": "code",
   "execution_count": 11,
   "metadata": {
    "collapsed": true
   },
   "outputs": [],
   "source": [
    "def gaussian(mean, sigma, array, amplitude=1.0):\n",
    "    return amplitude/np.sqrt(2.*np.pi*sigma**2.)*np.exp(-(array - mean)**2./(2.*sigma**2.))"
   ]
  },
  {
   "cell_type": "code",
   "execution_count": 12,
   "metadata": {
    "collapsed": true
   },
   "outputs": [],
   "source": [
    "import matplotlib.pyplot as plt\n",
    "%matplotlib inline\n",
    "import numpy as np"
   ]
  },
  {
   "cell_type": "code",
   "execution_count": 13,
   "metadata": {
    "collapsed": true
   },
   "outputs": [],
   "source": [
    "x = np.linspace(0.01, 10, 10000)"
   ]
  },
  {
   "cell_type": "code",
   "execution_count": 14,
   "metadata": {},
   "outputs": [
    {
     "ename": "TypeError",
     "evalue": "gaussian() takes at least 3 arguments (1 given)",
     "output_type": "error",
     "traceback": [
      "\u001b[0;31m---------------------------------------------------------------------------\u001b[0m",
      "\u001b[0;31mTypeError\u001b[0m                                 Traceback (most recent call last)",
      "\u001b[0;32m<ipython-input-14-35ba7ecc50f0>\u001b[0m in \u001b[0;36m<module>\u001b[0;34m()\u001b[0m\n\u001b[1;32m      1\u001b[0m \u001b[0mdistance\u001b[0m \u001b[0;34m=\u001b[0m \u001b[0;36m100.\u001b[0m \u001b[0;31m#pc\u001b[0m\u001b[0;34m\u001b[0m\u001b[0m\n\u001b[1;32m      2\u001b[0m \u001b[0mparallax\u001b[0m \u001b[0;34m=\u001b[0m \u001b[0;36m1\u001b[0m\u001b[0;34m/\u001b[0m\u001b[0mdistance\u001b[0m\u001b[0;34m\u001b[0m\u001b[0m\n\u001b[0;32m----> 3\u001b[0;31m \u001b[0mplt\u001b[0m\u001b[0;34m.\u001b[0m\u001b[0mplot\u001b[0m\u001b[0;34m(\u001b[0m\u001b[0mx\u001b[0m\u001b[0;34m,\u001b[0m \u001b[0mgaussian\u001b[0m\u001b[0;34m(\u001b[0m\u001b[0mparallax\u001b[0m\u001b[0;34m,\u001b[0m \u001b[0;34m)\u001b[0m\u001b[0;34m)\u001b[0m\u001b[0;34m\u001b[0m\u001b[0m\n\u001b[0m",
      "\u001b[0;31mTypeError\u001b[0m: gaussian() takes at least 3 arguments (1 given)"
     ]
    }
   ],
   "source": [
    "distance = 100. #pc\n",
    "parallax = 1/distance\n",
    "plt.plot(x, gaussian(parallax, ))"
   ]
  },
  {
   "cell_type": "code",
   "execution_count": 15,
   "metadata": {
    "collapsed": true
   },
   "outputs": [],
   "source": [
    "distdata = ascii.read('ipta_pulsarDist_4Gaia.txt')"
   ]
  },
  {
   "cell_type": "code",
   "execution_count": 16,
   "metadata": {},
   "outputs": [
    {
     "data": {
      "text/plain": [
       "['name', 'distance', 'plus', 'minus']"
      ]
     },
     "execution_count": 16,
     "metadata": {},
     "output_type": "execute_result"
    }
   ],
   "source": [
    "distdata.keys()"
   ]
  },
  {
   "cell_type": "code",
   "execution_count": 23,
   "metadata": {},
   "outputs": [
    {
     "data": {
      "text/html": [
       "&lt;Table length=19&gt;\n",
       "<table id=\"table4518079696\" class=\"table-striped table-bordered table-condensed\">\n",
       "<thead><tr><th>name</th><th>distance</th><th>plus</th><th>minus</th></tr></thead>\n",
       "<thead><tr><th>str16</th><th>float64</th><th>float64</th><th>float64</th></tr></thead>\n",
       "<tr><td>J0437-4715</td><td>0.156</td><td>0.001</td><td>0.001</td></tr>\n",
       "<tr><td>J0613-0200</td><td>0.9</td><td>0.4</td><td>0.2</td></tr>\n",
       "<tr><td>J1012+5307</td><td>0.7</td><td>0.2</td><td>0.1</td></tr>\n",
       "<tr><td>J1024-0719</td><td>0.49</td><td>0.12</td><td>0.08</td></tr>\n",
       "<tr><td>J1603-8722-7202</td><td>1.2</td><td>0.2</td><td>0.2</td></tr>\n",
       "<tr><td>J1730-8722-2304</td><td>0.5</td><td>0.1</td><td>0.1</td></tr>\n",
       "<tr><td>J1744-8722-1134</td><td>0.42</td><td>0.02</td><td>0.02</td></tr>\n",
       "<tr><td>J1751-8722-2857</td><td>1.1</td><td>0.2</td><td>0.2</td></tr>\n",
       "<tr><td>J1801-8722-1417</td><td>1.5</td><td>0.3</td><td>0.3</td></tr>\n",
       "<tr><td>J1804-8722-2717</td><td>0.8</td><td>0.2</td><td>0.2</td></tr>\n",
       "<tr><td>J1824-8722-2452A</td><td>5.0</td><td>1.0</td><td>1.0</td></tr>\n",
       "<tr><td>J1843-8722-1113</td><td>1.7</td><td>0.3</td><td>0.3</td></tr>\n",
       "<tr><td>J1853+1303</td><td>2.09</td><td>0.4</td><td>0.4</td></tr>\n",
       "<tr><td>J1857+0943</td><td>0.9</td><td>0.2</td><td>0.2</td></tr>\n",
       "<tr><td>J1910+1256</td><td>2.3</td><td>0.5</td><td>0.5</td></tr>\n",
       "<tr><td>J1939+2134</td><td>5.0</td><td>2.0</td><td>1.0</td></tr>\n",
       "<tr><td>J1955+2908</td><td>4.6</td><td>0.9</td><td>0.9</td></tr>\n",
       "<tr><td>J2019+2425</td><td>1.5</td><td>0.3</td><td>0.3</td></tr>\n",
       "<tr><td>J2033+1734</td><td>2.0</td><td>0.4</td><td>0.4</td></tr>\n",
       "</table>"
      ],
      "text/plain": [
       "<Table length=19>\n",
       "      name       distance   plus   minus \n",
       "     str16       float64  float64 float64\n",
       "---------------- -------- ------- -------\n",
       "      J0437-4715    0.156   0.001   0.001\n",
       "      J0613-0200      0.9     0.4     0.2\n",
       "      J1012+5307      0.7     0.2     0.1\n",
       "      J1024-0719     0.49    0.12    0.08\n",
       " J1603-8722-7202      1.2     0.2     0.2\n",
       " J1730-8722-2304      0.5     0.1     0.1\n",
       " J1744-8722-1134     0.42    0.02    0.02\n",
       " J1751-8722-2857      1.1     0.2     0.2\n",
       " J1801-8722-1417      1.5     0.3     0.3\n",
       " J1804-8722-2717      0.8     0.2     0.2\n",
       "J1824-8722-2452A      5.0     1.0     1.0\n",
       " J1843-8722-1113      1.7     0.3     0.3\n",
       "      J1853+1303     2.09     0.4     0.4\n",
       "      J1857+0943      0.9     0.2     0.2\n",
       "      J1910+1256      2.3     0.5     0.5\n",
       "      J1939+2134      5.0     2.0     1.0\n",
       "      J1955+2908      4.6     0.9     0.9\n",
       "      J2019+2425      1.5     0.3     0.3\n",
       "      J2033+1734      2.0     0.4     0.4"
      ]
     },
     "execution_count": 23,
     "metadata": {},
     "output_type": "execute_result"
    }
   ],
   "source": [
    "distdata"
   ]
  },
  {
   "cell_type": "code",
   "execution_count": 18,
   "metadata": {
    "collapsed": true
   },
   "outputs": [],
   "source": [
    "distGaiaErr = sigmaPar*1e-3*distdata['distance']**2."
   ]
  },
  {
   "cell_type": "code",
   "execution_count": 19,
   "metadata": {},
   "outputs": [
    {
     "data": {
      "text/html": [
       "&lt;Column name=&apos;plus&apos; dtype=&apos;float64&apos; length=19&gt;\n",
       "<table>\n",
       "<tr><td>0.001</td></tr>\n",
       "<tr><td>0.4</td></tr>\n",
       "<tr><td>0.2</td></tr>\n",
       "<tr><td>0.12</td></tr>\n",
       "<tr><td>0.2</td></tr>\n",
       "<tr><td>0.1</td></tr>\n",
       "<tr><td>0.02</td></tr>\n",
       "<tr><td>0.2</td></tr>\n",
       "<tr><td>0.3</td></tr>\n",
       "<tr><td>0.2</td></tr>\n",
       "<tr><td>1.0</td></tr>\n",
       "<tr><td>0.3</td></tr>\n",
       "<tr><td>0.4</td></tr>\n",
       "<tr><td>0.2</td></tr>\n",
       "<tr><td>0.5</td></tr>\n",
       "<tr><td>2.0</td></tr>\n",
       "<tr><td>0.9</td></tr>\n",
       "<tr><td>0.3</td></tr>\n",
       "<tr><td>0.4</td></tr>\n",
       "</table>"
      ],
      "text/plain": [
       "<Column name='plus' dtype='float64' length=19>\n",
       "0.001\n",
       "  0.4\n",
       "  0.2\n",
       " 0.12\n",
       "  0.2\n",
       "  0.1\n",
       " 0.02\n",
       "  0.2\n",
       "  0.3\n",
       "  0.2\n",
       "  1.0\n",
       "  0.3\n",
       "  0.4\n",
       "  0.2\n",
       "  0.5\n",
       "  2.0\n",
       "  0.9\n",
       "  0.3\n",
       "  0.4"
      ]
     },
     "execution_count": 19,
     "metadata": {},
     "output_type": "execute_result"
    }
   ],
   "source": [
    "distdata['plus']"
   ]
  },
  {
   "cell_type": "code",
   "execution_count": 20,
   "metadata": {},
   "outputs": [
    {
     "data": {
      "text/plain": [
       "(0.1, 10)"
      ]
     },
     "execution_count": 20,
     "metadata": {},
     "output_type": "execute_result"
    },
    {
     "data": {
      "image/png": "[encoded data removed]",
      "text/plain": [
       "<matplotlib.figure.Figure at 0x10d4d7950>"
      ]
     },
     "metadata": {},
     "output_type": "display_data"
    }
   ],
   "source": [
    "plt.errorbar(distdata['distance'], distdata['distance'], fmt='o', xerr=sigmaPar*1e-3*distdata['distance']**2., yerr=[distdata['minus'], distdata['plus']])\n",
    "plt.xlabel('Gaia Errors', fontsize=20)\n",
    "plt.ylabel('DM Errors', fontsize=20)\n",
    "plt.yscale('log')\n",
    "plt.xscale('log')\n",
    "plt.xlim(0.1, 10)\n",
    "plt.ylim(0.1, 10)"
   ]
  },
  {
   "cell_type": "code",
   "execution_count": 96,
   "metadata": {},
   "outputs": [
    {
     "data": {
      "text/plain": [
       "Text(0,0.5,'DM Uncertainty')"
      ]
     },
     "execution_count": 96,
     "metadata": {},
     "output_type": "execute_result"
    },
    {
     "data": {
      "image/png": "[encoded data removed]",
      "text/plain": [
       "<matplotlib.figure.Figure at 0x112bcf390>"
      ]
     },
     "metadata": {},
     "output_type": "display_data"
    }
   ],
   "source": [
    "plt.scatter(distGaiaErr, distdata['plus'])\n",
    "plt.xscale('log')\n",
    "plt.yscale('log')\n",
    "plt.xlim(0.001, 25)\n",
    "plt.ylim(0.001, 25)\n",
    "plt.plot([0.001, 25], [0.001, 25])\n",
    "plt.xlabel('Gaia Uncertainty', fontsize=20)\n",
    "plt.ylabel('DM Uncertainty', fontsize=20)"
   ]
  },
  {
   "cell_type": "code",
   "execution_count": 25,
   "metadata": {},
   "outputs": [
    {
     "data": {
      "image/png": "[encoded data removed]",
      "text/plain": [
       "<matplotlib.figure.Figure at 0x115cbac10>"
      ]
     },
     "metadata": {},
     "output_type": "display_data"
    }
   ],
   "source": [
    "plt.scatter(distdata['distance'], distGaiaErr, label='Gaia Parallax Error (projected)')\n",
    "#plt.scatter(distdata['distance'], distdata['plus'], color='grey', label='DM minus')\n",
    "plt.scatter(distdata['distance'], distdata['minus'], color='black', label='DM erros')\n",
    "plt.xscale('log')\n",
    "plt.yscale('log')\n",
    "plt.xlim(0.1, 10)\n",
    "plt.ylim(0.0007, 150)\n",
    "plt.xlabel('distance [kpc]', fontsize=20)\n",
    "plt.ylabel('uncertainty [kpc]', fontsize=20)\n",
    "plt.legend(loc='upper left')\n",
    "plt.tight_layout()\n",
    "plt.savefig('futureGaiaUncertainties.pdf')"
   ]
  },
  {
   "cell_type": "code",
   "execution_count": 122,
   "metadata": {},
   "outputs": [
    {
     "data": {
      "image/png": "[encoded data removed]",
      "text/plain": [
       "<matplotlib.figure.Figure at 0x11348f5f8>"
      ]
     },
     "metadata": {},
     "output_type": "display_data"
    }
   ],
   "source": [
    "plt.scatter(distdata['distance'], 1./distdata['distance']/distGaiaErr)\n",
    "plt.yscale('log')\n",
    "plt.ylim(0.01, 400)\n",
    "plt.xscale('log')\n",
    "plt.xlim(0.1, 10)\n",
    "plt.xlabel('distance [kpc]', fontsize=20)\n",
    "plt.ylabel('S/N', fontsize=20)\n",
    "plt.tight_layout()\n",
    "plt.savefig('gaiaSN.pdf')"
   ]
  },
  {
   "cell_type": "code",
   "execution_count": null,
   "metadata": {
    "collapsed": true
   },
   "outputs": [],
   "source": []
  }
 ],
 "metadata": {
  "kernelspec": {
   "display_name": "Python 3",
   "language": "python",
   "name": "python3"
  },
  "language_info": {
   "codemirror_mode": {
    "name": "ipython",
    "version": 3
   },
   "file_extension": ".py",
   "mimetype": "text/x-python",
   "name": "python",
   "nbconvert_exporter": "python",
   "pygments_lexer": "ipython3",
   "version": "3.6.3"
  }
 },
 "nbformat": 4,
 "nbformat_minor": 2
}
