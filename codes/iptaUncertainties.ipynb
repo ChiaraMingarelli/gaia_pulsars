{
 "cells": [
  {
   "cell_type": "code",
   "execution_count": 1,
   "metadata": {},
   "outputs": [],
   "source": [
    "import numpy as np\n",
    "import matplotlib.pyplot as plt\n",
    "import glob\n",
    "from astropy import units as u\n",
    "from astropy.io import ascii\n",
    "from astroquery.xmatch import XMatch\n",
    "from astropy.table import Table, vstack\n",
    "from astropy.coordinates import SkyCoord, ICRS, Galactic, Angle\n",
    "from astropy.time import Time\n",
    "from tqdm import tqdm"
   ]
  },
  {
   "cell_type": "code",
   "execution_count": 2,
   "metadata": {},
   "outputs": [],
   "source": [
    "files = glob.glob('../IPTA_DR1/*/*.par')"
   ]
  },
  {
   "cell_type": "code",
   "execution_count": 63,
   "metadata": {},
   "outputs": [],
   "source": [
    "def hist_weight(lst):\n",
    "    return np.ones_like(lst)/len(lst)\n",
    "\n",
    "def auto_bin(bin_size, min_edge, max_edge):\n",
    "    #bin_size = 0.05; min_edge = -3.5; max_edge = -1\n",
    "    N = (max_edge-min_edge)/bin_size; Nplus1 = N + 1\n",
    "    bin_list = np.linspace(min_edge, max_edge, Nplus1)\n",
    "    return bin_list"
   ]
  },
  {
   "cell_type": "code",
   "execution_count": 3,
   "metadata": {},
   "outputs": [],
   "source": [
    "RAs = []\n",
    "DECs = []\n",
    "Names = []\n",
    "pmra = []\n",
    "pmra_err = []\n",
    "pmdec = []\n",
    "pmdec_err = []\n",
    "pepoch = []\n",
    "posepoch = []\n",
    "dmepoch = []\n",
    "dm = []\n",
    "coords = []"
   ]
  },
  {
   "cell_type": "code",
   "execution_count": 4,
   "metadata": {},
   "outputs": [
    {
     "name": "stdout",
     "output_type": "stream",
     "text": [
      "this file is missing uncertainties on RAJ: ../IPTA_DR1/J0437-4715/J0437-4715.par\n",
      "this file is missing uncertainties on DECJ: ../IPTA_DR1/J0437-4715/J0437-4715.par\n",
      "this file is missing uncertainties on PMRA: ../IPTA_DR1/J0437-4715/J0437-4715.par\n",
      "this file is missing uncertainties on PMDEC: ../IPTA_DR1/J0437-4715/J0437-4715.par\n",
      "this file is missing uncertainties on PX: ../IPTA_DR1/J0437-4715/J0437-4715.par\n",
      "this object has galactic coords: J1022+1001\n",
      "this file is missing uncertainties on RAJ: ../IPTA_DR1/J1643-1224/J1643-1224.par\n",
      "this file is missing uncertainties on DECJ: ../IPTA_DR1/J1643-1224/J1643-1224.par\n",
      "this file is missing uncertainties on PMRA: ../IPTA_DR1/J1643-1224/J1643-1224.par\n",
      "this file is missing uncertainties on PMDEC: ../IPTA_DR1/J1643-1224/J1643-1224.par\n",
      "this file is missing uncertainties on PX: ../IPTA_DR1/J1643-1224/J1643-1224.par\n"
     ]
    }
   ],
   "source": [
    "for file in files:\n",
    "    d = {}\n",
    "    with open(file) as f:\n",
    "        for line in f:\n",
    "            key = line.split()[0]\n",
    "            value = line.split()[1]\n",
    "            d[key] = value\n",
    "            if key in ['RAJ', 'DECJ', 'PMRA', 'PMDEC', 'PX']:\n",
    "                try:\n",
    "                    err = line.split()[3]\n",
    "                    d[key+'_ERR'] = err\n",
    "                except:\n",
    "                    print(\"this file is missing uncertainties \\\n",
    "on {0}: {1}\".format(key, file))\n",
    "                    d[key+'_ERR'] = 0.0\n",
    "    \n",
    "    try:\n",
    "        ra = Angle(d['RAJ'], u.hourangle).to(u.deg)\n",
    "        dec = Angle(d['DECJ'], u.degree)\n",
    "        coord = SkyCoord(ra=ra, dec=dec, frame='icrs',\n",
    "                         pm_ra_cosdec = float(d['PMRA'])*u.mas/u.yr,\n",
    "                         pm_dec=float(d['PMDEC'])*u.mas/u.yr,\n",
    "                         obstime=Time(float(d['POSEPOCH']), format='mjd'),\n",
    "                         distance=1. * u.kpc) # HACK\n",
    "        coords.append(coord)\n",
    "        RAs.append(ra.value)\n",
    "        DECs.append(dec.value)\n",
    "        Names.append(d['PSRJ'])\n",
    "        pmra.append(coord.pm_ra_cosdec.value)\n",
    "        pmra_err.append(float(d['PMRA_ERR']))\n",
    "        pmdec.append(coord.pm_dec.value)\n",
    "        pmdec_err.append(float(d['PMDEC_ERR']))\n",
    "        pepoch.append(d['PEPOCH'])\n",
    "        posepoch.append(d['POSEPOCH'])\n",
    "        dmepoch.append(d['DMEPOCH'])\n",
    "        dm.append(d['DM'])\n",
    "        \n",
    "    except KeyError:\n",
    "        lon = float(d['ELONG'])*u.deg\n",
    "        lat = float(d['ELAT'])*u.deg\n",
    "        coord = SkyCoord(l=lon, b=lat, frame='galactic',\n",
    "                             pm_l_cosb = float(d['PMELONG'])*u.mas/u.yr, \n",
    "                             pm_b=float(d['PMELAT'])*u.mas/u.yr,\n",
    "                             obstime=Time(float(d['POSEPOCH']), format='mjd'),\n",
    "                             distance=1. * u.kpc) # HACKITY HACK HACK\n",
    "        icrscoord = coord.transform_to(ICRS)\n",
    "        coords.append(icrscoord)\n",
    "        print(\"this object has galactic coords: {0}\".format(d['PSRJ']))\n",
    "        RAs.append(icrscoord.ra.to(u.deg).value)\n",
    "        DECs.append(icrscoord.dec.to(u.deg).value)\n",
    "        Names.append(d['PSRJ'])\n",
    "        pmra.append(icrscoord.pm_ra_cosdec.value)\n",
    "        pmra_err.append(0.0) # TEMPORARY HACK\n",
    "        pmdec.append(icrscoord.pm_dec.value)\n",
    "        pmdec_err.append(0.0) # TEMPORARY HACK\n",
    "        pepoch.append(d['PEPOCH'])\n",
    "        posepoch.append(d['POSEPOCH'])\n",
    "        dmepoch.append(d['DMEPOCH'])\n",
    "        dm.append(d['DM']) "
   ]
  },
  {
   "cell_type": "code",
   "execution_count": 27,
   "metadata": {},
   "outputs": [
    {
     "data": {
      "text/plain": [
       "['J0030+0451',\n",
       " 'J0034-0534',\n",
       " 'J0218+4232',\n",
       " 'J0437-4715',\n",
       " 'J0610-2100',\n",
       " 'J0613-0200',\n",
       " 'J0621+1002',\n",
       " 'J0711-6830',\n",
       " 'J0751+1807',\n",
       " 'J0900-3144',\n",
       " 'J1012+5307',\n",
       " 'J1022+1001',\n",
       " 'J1024-0719',\n",
       " 'J1045-4509',\n",
       " 'J1455-3330',\n",
       " 'J1600-3053',\n",
       " 'J1603-7202',\n",
       " 'J1640+2224',\n",
       " 'J1643-1224',\n",
       " 'J1713+0747',\n",
       " 'J1721-2457',\n",
       " 'J1730-2304',\n",
       " 'J1732-5049',\n",
       " 'J1738+0333',\n",
       " 'J1744-1134',\n",
       " 'J1751-2857',\n",
       " 'J1801-1417',\n",
       " 'J1802-2124',\n",
       " 'J1804-2717',\n",
       " 'J1824-2452A',\n",
       " 'J1843-1113',\n",
       " 'J1853+1303',\n",
       " 'J1857+0943',\n",
       " 'J1909-3744',\n",
       " 'J1910+1256',\n",
       " 'J1911+1347',\n",
       " 'J1911-1114',\n",
       " 'J1918-0642',\n",
       " 'J1939+2134',\n",
       " 'J1955+2908',\n",
       " 'J2010-1323',\n",
       " 'J2019+2425',\n",
       " 'J2033+1734',\n",
       " 'J2124-3358',\n",
       " 'J2129-5721',\n",
       " 'J2145-0750',\n",
       " 'J2229+2643',\n",
       " 'J2317+1439',\n",
       " 'J2322+2057']"
      ]
     },
     "execution_count": 27,
     "metadata": {},
     "output_type": "execute_result"
    }
   ],
   "source": [
    "Names"
   ]
  },
  {
   "cell_type": "markdown",
   "metadata": {},
   "source": [
    "### a bad case: J1910+1256"
   ]
  },
  {
   "cell_type": "code",
   "execution_count": 5,
   "metadata": {},
   "outputs": [],
   "source": [
    "ind = np.where(np.array(Names) == 'J1910+1256')[0][0]"
   ]
  },
  {
   "cell_type": "code",
   "execution_count": 6,
   "metadata": {},
   "outputs": [],
   "source": [
    "ipta_pmra_err = pmra_err[ind]\n",
    "ipta_pmdec_err = pmdec_err[ind]\n",
    "ipta_posepoch = posepoch[ind]"
   ]
  },
  {
   "cell_type": "code",
   "execution_count": 7,
   "metadata": {},
   "outputs": [
    {
     "data": {
      "text/plain": [
       "<SkyCoord (ICRS): (ra, dec, distance) in (deg, deg, kpc)\n",
       "    (287.54042259, 12.9404131, 1.)\n",
       " (pm_ra_cosdec, pm_dec) in mas / yr\n",
       "    (0.25061013, -6.93472136)>"
      ]
     },
     "execution_count": 7,
     "metadata": {},
     "output_type": "execute_result"
    }
   ],
   "source": [
    "ipta_coord = coords[ind]\n",
    "ipta_coord"
   ]
  },
  {
   "cell_type": "code",
   "execution_count": 8,
   "metadata": {},
   "outputs": [
    {
     "data": {
      "text/plain": [
       "<SkyCoord (ICRS): (ra, dec, distance) in (deg, deg, kpc)\n",
       "    (287.5407215, 12.94037301, 1.)\n",
       " (pm_ra_cosdec, pm_dec) in mas / yr\n",
       "    (-0.67205754, -5.44911276)>"
      ]
     },
     "execution_count": 8,
     "metadata": {},
     "output_type": "execute_result"
    }
   ],
   "source": [
    "gaia_time = Time(57023., format='mjd')\n",
    "gaia_match_coord =  SkyCoord(ra=287.5407215 * u.degree, \n",
    "                             dec=12.94037301 * u.degree, frame='icrs',\n",
    "                         pm_ra_cosdec = -0.672057539 *u.mas/u.yr,\n",
    "                         pm_dec= -5.449112763 *u.mas/u.yr,\n",
    "                         obstime=Time(2015.5, format='decimalyear'),\n",
    "                         distance=1. * u.kpc) # HACK\n",
    "gaia_ra_err = 0.576369178\n",
    "gaia_dec_err = 0.623526292\n",
    "gaia_match_coord"
   ]
  },
  {
   "cell_type": "code",
   "execution_count": 9,
   "metadata": {},
   "outputs": [
    {
     "data": {
      "text/plain": [
       "1.0526847597792082"
      ]
     },
     "execution_count": 9,
     "metadata": {},
     "output_type": "execute_result"
    }
   ],
   "source": [
    "gaia_ipta_sep = ipta_coord.apply_space_motion(new_obstime=gaia_time).separation(gaia_match_coord).arcsec\n",
    "gaia_ipta_sep"
   ]
  },
  {
   "cell_type": "code",
   "execution_count": 41,
   "metadata": {},
   "outputs": [
    {
     "name": "stderr",
     "output_type": "stream",
     "text": [
      "100%|██████████| 500/500 [00:59<00:00,  8.40it/s]\n"
     ]
    }
   ],
   "source": [
    "N = 500\n",
    "seps = []\n",
    "ipta_ras = []\n",
    "ipta_decs = []\n",
    "gaia_ras = []\n",
    "gaia_decs = []\n",
    "for n in tqdm(range(N)):\n",
    "    c1 = SkyCoord(ra=ipta_coord.ra,\n",
    "                 dec=ipta_coord.dec, frame='icrs',\n",
    "                 pm_ra_cosdec=np.random.normal(ipta_coord.pm_ra_cosdec.value, \n",
    "                                               ipta_pmra_err) * u.mas/u.yr,\n",
    "                 pm_dec=np.random.normal(ipta_coord.pm_dec.value, \n",
    "                                               ipta_pmdec_err) * u.mas/u.yr,\n",
    "                 obstime=ipta_coord.obstime,\n",
    "                 distance=ipta_coord.distance)\n",
    "    c2 = SkyCoord(ra=np.random.normal(gaia_match_coord.ra.arcsec, gaia_ra_err) * u.arcsec,\n",
    "                 dec=np.random.normal(gaia_match_coord.dec.arcsec, gaia_dec_err) * u.arcsec, \n",
    "                 frame='icrs',\n",
    "                 pm_ra_cosdec=gaia_match_coord.pm_ra_cosdec, \n",
    "                 pm_dec=gaia_match_coord.pm_dec, \n",
    "                 obstime=gaia_match_coord.obstime,\n",
    "                 distance=gaia_match_coord.distance)\n",
    "    ipta_ras.append(c1.apply_space_motion(new_obstime=gaia_time).ra.degree)\n",
    "    ipta_decs.append(c1.apply_space_motion(new_obstime=gaia_time).dec.degree)\n",
    "    gaia_ras.append(c2.ra.degree)\n",
    "    gaia_decs.append(c2.dec.degree)\n",
    "    sep = c1.apply_space_motion(new_obstime=gaia_time).separation(c2).arcsec\n",
    "    seps.append(sep)"
   ]
  },
  {
   "cell_type": "code",
   "execution_count": 42,
   "metadata": {},
   "outputs": [
    {
     "data": {
      "text/plain": [
       "69.31657691151423"
      ]
     },
     "execution_count": 42,
     "metadata": {},
     "output_type": "execute_result"
    }
   ],
   "source": [
    "np.min(ipta_ras)"
   ]
  },
  {
   "cell_type": "code",
   "execution_count": 43,
   "metadata": {},
   "outputs": [
    {
     "data": {
      "text/plain": [
       "0.00015911494445403624"
      ]
     },
     "execution_count": 43,
     "metadata": {},
     "output_type": "execute_result"
    }
   ],
   "source": [
    "np.std(gaia_ras)"
   ]
  },
  {
   "cell_type": "code",
   "execution_count": 44,
   "metadata": {},
   "outputs": [
    {
     "data": {
      "text/plain": [
       "<matplotlib.lines.Line2D at 0x81fffcd68>"
      ]
     },
     "execution_count": 44,
     "metadata": {},
     "output_type": "execute_result"
    },
    {
     "data": {
      "image/png": "[encoded data removed]",
      "text/plain": [
       "<Figure size 432x288 with 1 Axes>"
      ]
     },
     "metadata": {},
     "output_type": "display_data"
    }
   ],
   "source": [
    "fig = plt.figure()\n",
    "ax = fig.add_subplot(111)\n",
    "ax.hist(gaia_ras, alpha=0.5, color='blue')\n",
    "plt.axvline(np.median(ipta_ras), color='red')\n",
    "\n",
    "#ax.hist(ipta_ras, alpha=0.5, color='red')\n",
    "#ax.set_xlim([np.min(ipta_ras),np.max(ipta_ras)+0.00001])"
   ]
  },
  {
   "cell_type": "code",
   "execution_count": 45,
   "metadata": {},
   "outputs": [
    {
     "data": {
      "text/plain": [
       "(-47.252668392775306, -47.25266745815621)"
      ]
     },
     "execution_count": 45,
     "metadata": {},
     "output_type": "execute_result"
    },
    {
     "data": {
      "image/png": "[encoded data removed]",
      "text/plain": [
       "<Figure size 432x288 with 1 Axes>"
      ]
     },
     "metadata": {},
     "output_type": "display_data"
    }
   ],
   "source": [
    "#plt.hist(ipta_decs, alpha=0.5, color='red')\n",
    "plt.axvline(np.median(ipta_decs), color='red')\n",
    "plt.hist(gaia_decs, alpha=0.5, color='blue')\n",
    "ax.set_xlim([np.min(ipta_decs),np.max(ipta_decs)])"
   ]
  },
  {
   "cell_type": "code",
   "execution_count": 46,
   "metadata": {},
   "outputs": [
    {
     "data": {
      "text/plain": [
       "<matplotlib.lines.Line2D at 0x820453c18>"
      ]
     },
     "execution_count": 46,
     "metadata": {},
     "output_type": "execute_result"
    },
    {
     "data": {
      "image/png": "[encoded data removed]",
      "text/plain": [
       "<Figure size 432x288 with 1 Axes>"
      ]
     },
     "metadata": {},
     "output_type": "display_data"
    }
   ],
   "source": [
    "plt.hist(seps)\n",
    "plt.axvline(gaia_ipta_sep, c='red')"
   ]
  },
  {
   "cell_type": "markdown",
   "metadata": {},
   "source": [
    "## a not-so-bad disagreement case: J1012+5307"
   ]
  },
  {
   "cell_type": "code",
   "execution_count": 47,
   "metadata": {},
   "outputs": [],
   "source": [
    "ind = np.where(np.array(Names) == 'J1012+5307')[0][0]"
   ]
  },
  {
   "cell_type": "code",
   "execution_count": 48,
   "metadata": {},
   "outputs": [],
   "source": [
    "ipta_pmra_err = pmra_err[ind]\n",
    "ipta_pmdec_err = pmdec_err[ind]\n",
    "ipta_posepoch = posepoch[ind]"
   ]
  },
  {
   "cell_type": "code",
   "execution_count": 49,
   "metadata": {},
   "outputs": [
    {
     "data": {
      "text/plain": [
       "<SkyCoord (ICRS): (ra, dec, distance) in (deg, deg, kpc)\n",
       "    (153.13932304, 53.1173056, 1.)\n",
       " (pm_ra_cosdec, pm_dec) in mas / yr\n",
       "    (2.62371226, -25.45880892)>"
      ]
     },
     "execution_count": 49,
     "metadata": {},
     "output_type": "execute_result"
    }
   ],
   "source": [
    "ipta_coord = coords[ind]\n",
    "ipta_coord"
   ]
  },
  {
   "cell_type": "code",
   "execution_count": 50,
   "metadata": {},
   "outputs": [
    {
     "data": {
      "text/plain": [
       "<SkyCoord (ICRS): (ra, dec, distance) in (deg, deg, kpc)\n",
       "    (153.1393303, 53.11726303, 1.)\n",
       " (pm_ra_cosdec, pm_dec) in mas / yr\n",
       "    (2.97695999, -26.94384758)>"
      ]
     },
     "execution_count": 50,
     "metadata": {},
     "output_type": "execute_result"
    }
   ],
   "source": [
    "gaia_time = Time(57023., format='mjd')\n",
    "gaia_match_coord =  SkyCoord(ra=153.1393303 * u.degree, \n",
    "                             dec=53.11726303 * u.degree, frame='icrs',\n",
    "                         pm_ra_cosdec = 2.976959985 *u.mas/u.yr,\n",
    "                         pm_dec= -26.94384758 *u.mas/u.yr,\n",
    "                         obstime= gaia_time,\n",
    "                         distance=1. * u.kpc) # HACK\n",
    "gaia_ra_err = 0.241174616\n",
    "gaia_dec_err = 0.302546482\n",
    "gaia_match_coord"
   ]
  },
  {
   "cell_type": "code",
   "execution_count": 51,
   "metadata": {},
   "outputs": [
    {
     "data": {
      "text/plain": [
       "0.012298049411488533"
      ]
     },
     "execution_count": 51,
     "metadata": {},
     "output_type": "execute_result"
    }
   ],
   "source": [
    "gaia_ipta_sep = ipta_coord.apply_space_motion(new_obstime=gaia_time).separation(gaia_match_coord).arcsec\n",
    "gaia_ipta_sep"
   ]
  },
  {
   "cell_type": "code",
   "execution_count": 52,
   "metadata": {},
   "outputs": [
    {
     "name": "stderr",
     "output_type": "stream",
     "text": [
      "100%|██████████| 500/500 [00:45<00:00, 10.87it/s]\n"
     ]
    }
   ],
   "source": [
    "N = 500\n",
    "seps = []\n",
    "ipta_ras = []\n",
    "ipta_decs = []\n",
    "gaia_ras = []\n",
    "gaia_decs = []\n",
    "for n in tqdm(range(N)):\n",
    "    c1 = SkyCoord(ra=ipta_coord.ra,\n",
    "                 dec=ipta_coord.dec, frame='icrs',\n",
    "                 pm_ra_cosdec=np.random.normal(ipta_coord.pm_ra_cosdec.value, \n",
    "                                               ipta_pmra_err) * u.mas/u.yr,\n",
    "                 pm_dec=np.random.normal(ipta_coord.pm_dec.value, \n",
    "                                               ipta_pmdec_err) * u.mas/u.yr,\n",
    "                 obstime=ipta_coord.obstime,\n",
    "                 distance=ipta_coord.distance)\n",
    "    c2 = SkyCoord(ra=np.random.normal(gaia_match_coord.ra.arcsec, gaia_ra_err) * u.arcsec,\n",
    "                 dec=np.random.normal(gaia_match_coord.dec.arcsec, gaia_dec_err) * u.arcsec, \n",
    "                 frame='icrs',\n",
    "                 pm_ra_cosdec=gaia_match_coord.pm_ra_cosdec, \n",
    "                 pm_dec=gaia_match_coord.pm_dec, \n",
    "                 obstime=gaia_match_coord.obstime,\n",
    "                 distance=gaia_match_coord.distance)\n",
    "    ipta_ras.append(c1.apply_space_motion(new_obstime=gaia_time).ra.degree)\n",
    "    ipta_decs.append(c1.apply_space_motion(new_obstime=gaia_time).dec.degree)\n",
    "    gaia_ras.append(c2.ra.degree)\n",
    "    gaia_decs.append(c2.dec.degree)\n",
    "    sep = c1.apply_space_motion(new_obstime=gaia_time).separation(c2).arcsec\n",
    "    seps.append(sep)"
   ]
  },
  {
   "cell_type": "code",
   "execution_count": 54,
   "metadata": {},
   "outputs": [
    {
     "data": {
      "text/plain": [
       "<matplotlib.lines.Line2D at 0x82070c7f0>"
      ]
     },
     "execution_count": 54,
     "metadata": {},
     "output_type": "execute_result"
    },
    {
     "data": {
      "image/png": "[encoded data removed]",
      "text/plain": [
       "<Figure size 432x288 with 1 Axes>"
      ]
     },
     "metadata": {},
     "output_type": "display_data"
    }
   ],
   "source": [
    "plt.hist(seps)\n",
    "plt.axvline(gaia_ipta_sep, c='red')"
   ]
  },
  {
   "cell_type": "code",
   "execution_count": 55,
   "metadata": {},
   "outputs": [
    {
     "data": {
      "text/plain": [
       "<matplotlib.lines.Line2D at 0x8208b5dd8>"
      ]
     },
     "execution_count": 55,
     "metadata": {},
     "output_type": "execute_result"
    },
    {
     "data": {
      "image/png": "[encoded data removed]",
      "text/plain": [
       "<Figure size 432x288 with 1 Axes>"
      ]
     },
     "metadata": {},
     "output_type": "display_data"
    }
   ],
   "source": [
    "fig = plt.figure()\n",
    "ax = fig.add_subplot(111)\n",
    "ax.hist(gaia_ras, alpha=0.5, color='blue')\n",
    "plt.axvline(np.median(ipta_ras), color='red')\n",
    "\n",
    "#ax.hist(ipta_ras, alpha=0.5, color='red')\n",
    "#ax.set_xlim([np.min(ipta_ras),np.max(ipta_ras)+0.00001])"
   ]
  },
  {
   "cell_type": "code",
   "execution_count": 56,
   "metadata": {},
   "outputs": [
    {
     "data": {
      "text/plain": [
       "(53.117266316699315, 53.11726653964263)"
      ]
     },
     "execution_count": 56,
     "metadata": {},
     "output_type": "execute_result"
    },
    {
     "data": {
      "image/png": "[encoded data removed]",
      "text/plain": [
       "<Figure size 432x288 with 1 Axes>"
      ]
     },
     "metadata": {},
     "output_type": "display_data"
    }
   ],
   "source": [
    "#plt.hist(ipta_decs, alpha=0.5, color='red')\n",
    "plt.axvline(np.median(ipta_decs), color='red')\n",
    "plt.hist(gaia_decs, alpha=0.5, color='blue')\n",
    "ax.set_xlim([np.min(ipta_decs),np.max(ipta_decs)])"
   ]
  },
  {
   "cell_type": "markdown",
   "metadata": {},
   "source": [
    "## Best pulasr, J0437-4715\n"
   ]
  },
  {
   "cell_type": "code",
   "execution_count": 28,
   "metadata": {},
   "outputs": [],
   "source": [
    "ind = np.where(np.array(Names) == 'J0437-4715')[0][0]"
   ]
  },
  {
   "cell_type": "code",
   "execution_count": 30,
   "metadata": {},
   "outputs": [],
   "source": [
    "ipta_pmra_err = pmra_err[ind]\n",
    "ipta_pmdec_err = pmdec_err[ind]\n",
    "ipta_posepoch = posepoch[ind]"
   ]
  },
  {
   "cell_type": "code",
   "execution_count": 33,
   "metadata": {},
   "outputs": [],
   "source": [
    "ipta_pmra_err = 0.052 #Deller et al. 2008, Table 1\n",
    "ipta_pmdec_err = 0.086 #Deller et al. 2008\n",
    "ipta_posepoch = posepoch[ind]\n"
   ]
  },
  {
   "cell_type": "code",
   "execution_count": 34,
   "metadata": {
    "scrolled": true
   },
   "outputs": [
    {
     "data": {
      "text/plain": [
       "<SkyCoord (ICRS): (ra, dec, distance) in (deg, deg, kpc)\n",
       "    (69.31623406, -47.25253075, 1.)\n",
       " (pm_ra_cosdec, pm_dec) in mas / yr\n",
       "    (121.43993282, -71.47620158)>"
      ]
     },
     "execution_count": 34,
     "metadata": {},
     "output_type": "execute_result"
    }
   ],
   "source": [
    "ipta_coord = coords[ind]\n",
    "ipta_coord"
   ]
  },
  {
   "cell_type": "code",
   "execution_count": 35,
   "metadata": {
    "scrolled": true
   },
   "outputs": [
    {
     "data": {
      "text/plain": [
       "<SkyCoord (ICRS): (ra, dec, distance) in (deg, deg, kpc)\n",
       "    (69.31660276, -47.25267778, 1.)\n",
       " (pm_ra_cosdec, pm_dec) in mas / yr\n",
       "    (122.8637296, -71.16597382)>"
      ]
     },
     "execution_count": 35,
     "metadata": {},
     "output_type": "execute_result"
    }
   ],
   "source": [
    "gaia_time = Time(57023., format='mjd')\n",
    "gaia_match_coord =  SkyCoord(ra=69.31660276 * u.degree, \n",
    "                             dec=-47.25267778 * u.degree, frame='icrs',\n",
    "                         pm_ra_cosdec = 122.8637296 *u.mas/u.yr,\n",
    "                         pm_dec= -71.16597382 *u.mas/u.yr,\n",
    "                         obstime=Time(2015.5, format='decimalyear'),\n",
    "                         distance=1. * u.kpc) # HACK\n",
    "gaia_ra_err = 0.582326756\n",
    "gaia_dec_err = 0.738504992\n",
    "gaia_match_coord"
   ]
  },
  {
   "cell_type": "code",
   "execution_count": 36,
   "metadata": {},
   "outputs": [
    {
     "data": {
      "text/plain": [
       "0.07154597070179823"
      ]
     },
     "execution_count": 36,
     "metadata": {},
     "output_type": "execute_result"
    }
   ],
   "source": [
    "gaia_ipta_sep = ipta_coord.apply_space_motion(new_obstime=gaia_time).separation(gaia_match_coord).arcsec\n",
    "gaia_ipta_sep"
   ]
  },
  {
   "cell_type": "code",
   "execution_count": 59,
   "metadata": {},
   "outputs": [
    {
     "name": "stderr",
     "output_type": "stream",
     "text": [
      "100%|██████████| 500/500 [00:45<00:00, 11.02it/s]\n"
     ]
    }
   ],
   "source": [
    "N = 500\n",
    "seps = []\n",
    "ipta_ras = []\n",
    "ipta_decs = []\n",
    "gaia_ras = []\n",
    "gaia_decs = []\n",
    "for n in tqdm(range(N)):\n",
    "    c1 = SkyCoord(ra=ipta_coord.ra,\n",
    "                 dec=ipta_coord.dec, frame='icrs',\n",
    "                 pm_ra_cosdec=np.random.normal(ipta_coord.pm_ra_cosdec.value, \n",
    "                                               ipta_pmra_err) * u.mas/u.yr,\n",
    "                 pm_dec=np.random.normal(ipta_coord.pm_dec.value, \n",
    "                                               ipta_pmdec_err) * u.mas/u.yr,\n",
    "                 obstime=ipta_coord.obstime,\n",
    "                 distance=ipta_coord.distance)\n",
    "    c2 = SkyCoord(ra=np.random.normal(gaia_match_coord.ra.arcsec, gaia_ra_err) * u.arcsec,\n",
    "                 dec=np.random.normal(gaia_match_coord.dec.arcsec, gaia_dec_err) * u.arcsec, \n",
    "                 frame='icrs',\n",
    "                 pm_ra_cosdec=gaia_match_coord.pm_ra_cosdec, \n",
    "                 pm_dec=gaia_match_coord.pm_dec, \n",
    "                 obstime=gaia_match_coord.obstime,\n",
    "                 distance=gaia_match_coord.distance)\n",
    "    ipta_ras.append(c1.apply_space_motion(new_obstime=gaia_time).ra.degree)\n",
    "    ipta_decs.append(c1.apply_space_motion(new_obstime=gaia_time).dec.degree)\n",
    "    gaia_ras.append(c2.ra.degree)\n",
    "    gaia_decs.append(c2.dec.degree)\n",
    "    sep = c1.apply_space_motion(new_obstime=gaia_time).separation(c2).arcsec\n",
    "    seps.append(sep)"
   ]
  },
  {
   "cell_type": "code",
   "execution_count": 134,
   "metadata": {},
   "outputs": [
    {
     "name": "stderr",
     "output_type": "stream",
     "text": [
      "/anaconda2/envs/py3/lib/python3.6/site-packages/ipykernel_launcher.py:7: DeprecationWarning: object of type <class 'float'> cannot be safely interpreted as an integer.\n",
      "  import sys\n"
     ]
    }
   ],
   "source": [
    "bin_list = auto_bin(.08,-0.01,1)\n",
    "weights = hist_weight(seps)"
   ]
  },
  {
   "cell_type": "code",
   "execution_count": 136,
   "metadata": {},
   "outputs": [
    {
     "data": {
      "image/png": "[encoded data removed]",
      "text/plain": [
       "<Figure size 432x288 with 1 Axes>"
      ]
     },
     "metadata": {},
     "output_type": "display_data"
    }
   ],
   "source": [
    "fig = plt.figure()\n",
    "ax = fig.add_subplot(111)\n",
    "plt.hist(seps, bin_list, weights=weights, alpha = 0.8, align='left', color = 'C0', label = \"Gaia\")\n",
    "plt.axvline(gaia_ipta_sep, color='red', label = \"IPTA\")\n",
    "plt.xlabel(r\"J0437, Angular Separation $\\theta$ (arcsecs)\")\n",
    "plt.ylabel(\"Probability\")\n",
    "plt.legend(frameon=False)\n",
    "plt.tight_layout()\n",
    "#plt.savefig(\"J0437_Theta_IPTA-GAIA.pdf\")\n",
    "\n"
   ]
  },
  {
   "cell_type": "code",
   "execution_count": 138,
   "metadata": {
    "scrolled": true
   },
   "outputs": [
    {
     "name": "stderr",
     "output_type": "stream",
     "text": [
      "/anaconda2/envs/py3/lib/python3.6/site-packages/ipykernel_launcher.py:7: DeprecationWarning: object of type <class 'float'> cannot be safely interpreted as an integer.\n",
      "  import sys\n"
     ]
    }
   ],
   "source": [
    "bin_list = auto_bin(.00004,153.13905,153.13954)\n",
    "weights = hist_weight(gaia_ras)"
   ]
  },
  {
   "cell_type": "code",
   "execution_count": 139,
   "metadata": {
    "scrolled": false
   },
   "outputs": [
    {
     "data": {
      "text/plain": [
       "153.13907208337713"
      ]
     },
     "execution_count": 139,
     "metadata": {},
     "output_type": "execute_result"
    }
   ],
   "source": [
    "min(gaia_ras)"
   ]
  },
  {
   "cell_type": "code",
   "execution_count": 140,
   "metadata": {},
   "outputs": [
    {
     "data": {
      "text/plain": [
       "153.1395202226001"
      ]
     },
     "execution_count": 140,
     "metadata": {},
     "output_type": "execute_result"
    }
   ],
   "source": [
    "max(gaia_ras)"
   ]
  },
  {
   "cell_type": "code",
   "execution_count": 142,
   "metadata": {},
   "outputs": [
    {
     "data": {
      "image/png": "[encoded data removed]",
      "text/plain": [
       "<Figure size 432x288 with 1 Axes>"
      ]
     },
     "metadata": {},
     "output_type": "display_data"
    }
   ],
   "source": [
    "fig = plt.figure()\n",
    "ax = fig.add_subplot(111)\n",
    "plt.hist(gaia_ras, bin_list, weights=weights, alpha = 0.8, align='left', color = 'C0', label = \"Gaia\")\n",
    "plt.axvline(np.median(ipta_ras), color='red', label = \"IPTA\")\n",
    "plt.xlabel(\"J0437, RA (deg)\")\n",
    "plt.ylabel(\"Probability\")\n",
    "plt.legend(frameon=False)\n",
    "plt.tight_layout()\n",
    "#plt.savefig(\"J0437_RA_IPTA-GAIA.pdf\")"
   ]
  },
  {
   "cell_type": "code",
   "execution_count": 144,
   "metadata": {},
   "outputs": [
    {
     "name": "stderr",
     "output_type": "stream",
     "text": [
      "/anaconda2/envs/py3/lib/python3.6/site-packages/ipykernel_launcher.py:7: DeprecationWarning: object of type <class 'float'> cannot be safely interpreted as an integer.\n",
      "  import sys\n"
     ]
    }
   ],
   "source": [
    "bin_list = auto_bin(.00005,53.1168,53.1177)\n",
    "weights = hist_weight(gaia_decs)"
   ]
  },
  {
   "cell_type": "code",
   "execution_count": 145,
   "metadata": {},
   "outputs": [
    {
     "data": {
      "text/plain": [
       "53.11751571887467"
      ]
     },
     "execution_count": 145,
     "metadata": {},
     "output_type": "execute_result"
    }
   ],
   "source": [
    "max(gaia_decs)"
   ]
  },
  {
   "cell_type": "code",
   "execution_count": 147,
   "metadata": {},
   "outputs": [
    {
     "data": {
      "image/png": "[encoded data removed]",
      "text/plain": [
       "<Figure size 432x288 with 1 Axes>"
      ]
     },
     "metadata": {},
     "output_type": "display_data"
    }
   ],
   "source": [
    "# DEC plot for J0437\n",
    "plt.hist(gaia_decs, bin_list, weights=weights, alpha = 0.8, align='left', color = 'C0', label = \"Gaia\")\n",
    "plt.axvline(np.median(ipta_decs), color='red', label = \"IPTA\")\n",
    "ax.set_xlim([np.min(ipta_decs),np.max(ipta_decs)])\n",
    "plt.xlabel(\"J0437, DEC (deg)\")\n",
    "plt.ylabel(\"Probability\")\n",
    "plt.legend(frameon=False)\n",
    "plt.tight_layout()\n",
    "#plt.savefig(\"J0437_DEC_IPTA-GAIA.pdf\")"
   ]
  },
  {
   "cell_type": "markdown",
   "metadata": {},
   "source": [
    "## Pulsar J1024-0719"
   ]
  },
  {
   "cell_type": "code",
   "execution_count": 149,
   "metadata": {},
   "outputs": [
    {
     "data": {
      "text/plain": [
       "<SkyCoord (ICRS): (ra, dec, distance) in (deg, deg, kpc)\n",
       "    (156.16114741, -7.32206499, 1.)\n",
       " (pm_ra_cosdec, pm_dec) in mas / yr\n",
       "    (-35.3049269, -48.24394017)>"
      ]
     },
     "execution_count": 149,
     "metadata": {},
     "output_type": "execute_result"
    }
   ],
   "source": [
    "ind = np.where(np.array(Names) == 'J1024-0719')[0][0]\n",
    "\n",
    "ipta_pmra_err = pmra_err[ind]\n",
    "ipta_pmdec_err = pmdec_err[ind]\n",
    "ipta_posepoch = posepoch[ind]\n",
    "\n",
    "ipta_pmra_err = pmra_err[ind]\n",
    "ipta_pmdec_err = pmdec_err[ind]\n",
    "ipta_posepoch = posepoch[ind]\n",
    "\n",
    "\n",
    "ipta_coord = coords[ind]\n",
    "ipta_coord"
   ]
  },
  {
   "cell_type": "code",
   "execution_count": 150,
   "metadata": {},
   "outputs": [
    {
     "data": {
      "text/plain": [
       "<SkyCoord (ICRS): (ra, dec, distance) in (deg, deg, kpc)\n",
       "    (156.1610927, -7.32216529, 1.)\n",
       " (pm_ra_cosdec, pm_dec) in mas / yr\n",
       "    (-35.51929892, -47.93231066)>"
      ]
     },
     "execution_count": 150,
     "metadata": {},
     "output_type": "execute_result"
    }
   ],
   "source": [
    "gaia_time = Time(57023., format='mjd')\n",
    "gaia_match_coord =  SkyCoord(ra=156.1610927 * u.degree, \n",
    "                             dec=-7.322165289 * u.degree, frame='icrs',\n",
    "                         pm_ra_cosdec = -35.51929892*u.mas/u.yr,\n",
    "                         pm_dec= -47.93231066 *u.mas/u.yr,\n",
    "                         obstime=Time(2015.5, format='decimalyear'),\n",
    "                         distance=1. * u.kpc) # HACK\n",
    "gaia_ra_err = 0.42985265\n",
    "gaia_dec_err = 0.392656637\n",
    "gaia_match_coord"
   ]
  },
  {
   "cell_type": "code",
   "execution_count": 151,
   "metadata": {},
   "outputs": [
    {
     "data": {
      "text/plain": [
       "0.09388321101894358"
      ]
     },
     "execution_count": 151,
     "metadata": {},
     "output_type": "execute_result"
    }
   ],
   "source": [
    "gaia_ipta_sep = ipta_coord.apply_space_motion(new_obstime=gaia_time).separation(gaia_match_coord).arcsec\n",
    "gaia_ipta_sep"
   ]
  },
  {
   "cell_type": "code",
   "execution_count": 152,
   "metadata": {},
   "outputs": [
    {
     "name": "stderr",
     "output_type": "stream",
     "text": [
      "100%|██████████| 500/500 [01:00<00:00,  8.25it/s]\n"
     ]
    }
   ],
   "source": [
    "N = 500\n",
    "seps = []\n",
    "ipta_ras = []\n",
    "ipta_decs = []\n",
    "gaia_ras = []\n",
    "gaia_decs = []\n",
    "for n in tqdm(range(N)):\n",
    "    c1 = SkyCoord(ra=ipta_coord.ra,\n",
    "                 dec=ipta_coord.dec, frame='icrs',\n",
    "                 pm_ra_cosdec=np.random.normal(ipta_coord.pm_ra_cosdec.value, \n",
    "                                               ipta_pmra_err) * u.mas/u.yr,\n",
    "                 pm_dec=np.random.normal(ipta_coord.pm_dec.value, \n",
    "                                               ipta_pmdec_err) * u.mas/u.yr,\n",
    "                 obstime=ipta_coord.obstime,\n",
    "                 distance=ipta_coord.distance)\n",
    "    c2 = SkyCoord(ra=np.random.normal(gaia_match_coord.ra.arcsec, gaia_ra_err) * u.arcsec,\n",
    "                 dec=np.random.normal(gaia_match_coord.dec.arcsec, gaia_dec_err) * u.arcsec, \n",
    "                 frame='icrs',\n",
    "                 pm_ra_cosdec=gaia_match_coord.pm_ra_cosdec, \n",
    "                 pm_dec=gaia_match_coord.pm_dec, \n",
    "                 obstime=gaia_match_coord.obstime,\n",
    "                 distance=gaia_match_coord.distance)\n",
    "    ipta_ras.append(c1.apply_space_motion(new_obstime=gaia_time).ra.degree)\n",
    "    ipta_decs.append(c1.apply_space_motion(new_obstime=gaia_time).dec.degree)\n",
    "    gaia_ras.append(c2.ra.degree)\n",
    "    gaia_decs.append(c2.dec.degree)\n",
    "    sep = c1.apply_space_motion(new_obstime=gaia_time).separation(c2).arcsec\n",
    "    seps.append(sep)"
   ]
  },
  {
   "cell_type": "code",
   "execution_count": 159,
   "metadata": {},
   "outputs": [
    {
     "name": "stderr",
     "output_type": "stream",
     "text": [
      "/anaconda2/envs/py3/lib/python3.6/site-packages/ipykernel_launcher.py:7: DeprecationWarning: object of type <class 'float'> cannot be safely interpreted as an integer.\n",
      "  import sys\n"
     ]
    }
   ],
   "source": [
    "bin_list = auto_bin(.08,0.0,1.8)\n",
    "weights = hist_weight(seps)"
   ]
  },
  {
   "cell_type": "code",
   "execution_count": 160,
   "metadata": {},
   "outputs": [
    {
     "data": {
      "image/png": "[encoded data removed]",
      "text/plain": [
       "<Figure size 432x288 with 1 Axes>"
      ]
     },
     "metadata": {},
     "output_type": "display_data"
    }
   ],
   "source": [
    "fig = plt.figure()\n",
    "ax = fig.add_subplot(111)\n",
    "plt.hist(seps, bin_list, weights=weights, alpha = 0.8, align='left', color = 'C0', label = \"Gaia\")\n",
    "plt.axvline(gaia_ipta_sep, color='red', label = \"IPTA\")\n",
    "plt.xlabel(r\"J1024-0719, Angular Separation $\\theta$ (arcsecs)\")\n",
    "plt.ylabel(\"Probability\")\n",
    "plt.legend(frameon=False)\n",
    "plt.tight_layout()\n",
    "#plt.savefig(\"J1024_Theta_IPTA-GAIA.pdf\")"
   ]
  },
  {
   "cell_type": "code",
   "execution_count": 166,
   "metadata": {
    "scrolled": true
   },
   "outputs": [
    {
     "name": "stderr",
     "output_type": "stream",
     "text": [
      "/anaconda2/envs/py3/lib/python3.6/site-packages/ipykernel_launcher.py:7: DeprecationWarning: object of type <class 'float'> cannot be safely interpreted as an integer.\n",
      "  import sys\n"
     ]
    }
   ],
   "source": [
    "bin_list = auto_bin(.00004,156.16068395,156.16149774)\n",
    "weights = hist_weight(gaia_ras)"
   ]
  },
  {
   "cell_type": "code",
   "execution_count": 167,
   "metadata": {},
   "outputs": [
    {
     "data": {
      "image/png": "[encoded data removed]",
      "text/plain": [
       "<Figure size 432x288 with 1 Axes>"
      ]
     },
     "metadata": {},
     "output_type": "display_data"
    }
   ],
   "source": [
    "fig = plt.figure()\n",
    "ax = fig.add_subplot(111)\n",
    "plt.hist(gaia_ras, bin_list, weights=weights, alpha = 0.8, align='left', color = 'C0', label = \"Gaia\")\n",
    "plt.axvline(np.median(ipta_ras), color='red', label = \"IPTA\")\n",
    "plt.xlabel(\"J1024, RA (deg)\")\n",
    "plt.ylabel(\"Probability\")\n",
    "plt.legend(frameon=False)\n",
    "plt.tight_layout()\n",
    "#plt.savefig(\"J1024_RA_IPTA-GAIA.pdf\")"
   ]
  },
  {
   "cell_type": "code",
   "execution_count": null,
   "metadata": {},
   "outputs": [],
   "source": []
  },
  {
   "cell_type": "code",
   "execution_count": null,
   "metadata": {},
   "outputs": [],
   "source": [
    "# DEC plot for J1024\n",
    "plt.hist(gaia_decs, bin_list, weights=weights, alpha = 0.8, align='left', color = 'C0', label = \"Gaia\")\n",
    "plt.axvline(np.median(ipta_decs), color='red', label = \"IPTA\")\n",
    "ax.set_xlim([np.min(ipta_decs),np.max(ipta_decs)])\n",
    "plt.xlabel(\"J1024-0719, DEC (deg)\")\n",
    "plt.ylabel(\"Probability\")\n",
    "plt.legend(frameon=False)\n",
    "plt.tight_layout()\n",
    "#plt.savefig(\"J1024_DEC_IPTA-GAIA.pdf\")"
   ]
  },
  {
   "cell_type": "markdown",
   "metadata": {},
   "source": [
    "## not so great pulsar J1732-5049"
   ]
  },
  {
   "cell_type": "code",
   "execution_count": 169,
   "metadata": {},
   "outputs": [
    {
     "data": {
      "text/plain": [
       "<SkyCoord (ICRS): (ra, dec, distance) in (deg, deg, kpc)\n",
       "    (263.19902801, -50.81671992, 1.)\n",
       " (pm_ra_cosdec, pm_dec) in mas / yr\n",
       "    (-0.4321012, -9.90996085)>"
      ]
     },
     "execution_count": 169,
     "metadata": {},
     "output_type": "execute_result"
    }
   ],
   "source": [
    "ind = np.where(np.array(Names) == 'J1732-5049')[0][0]\n",
    "\n",
    "ipta_pmra_err = pmra_err[ind]\n",
    "ipta_pmdec_err = pmdec_err[ind]\n",
    "ipta_posepoch = posepoch[ind]\n",
    "\n",
    "ipta_pmra_err = pmra_err[ind]\n",
    "ipta_pmdec_err = pmdec_err[ind]\n",
    "ipta_posepoch = posepoch[ind]\n",
    "\n",
    "\n",
    "ipta_coord = coords[ind]\n",
    "ipta_coord"
   ]
  },
  {
   "cell_type": "code",
   "execution_count": 170,
   "metadata": {},
   "outputs": [
    {
     "data": {
      "text/plain": [
       "<SkyCoord (ICRS): (ra, dec, distance) in (deg, deg, kpc)\n",
       "    (263.200006, -50.8166163, 1.)\n",
       " (pm_ra_cosdec, pm_dec) in mas / yr\n",
       "    (-0.03184902, -10.483062)>"
      ]
     },
     "execution_count": 170,
     "metadata": {},
     "output_type": "execute_result"
    }
   ],
   "source": [
    "gaia_time = Time(57023., format='mjd')\n",
    "gaia_match_coord =  SkyCoord(ra=263.200006 * u.degree, \n",
    "                             dec=-50.8166163 * u.degree, frame='icrs',\n",
    "                         pm_ra_cosdec = -0.031849016*u.mas/u.yr,\n",
    "                         pm_dec= -10.483062*u.mas/u.yr,\n",
    "                         obstime=Time(2015.5, format='decimalyear'),\n",
    "                         distance=1. * u.kpc) # HACK\n",
    "gaia_ra_err = 2.168898313\n",
    "gaia_dec_err = 2.010098257\n",
    "gaia_match_coord"
   ]
  },
  {
   "cell_type": "code",
   "execution_count": 171,
   "metadata": {},
   "outputs": [
    {
     "data": {
      "text/plain": [
       "2.270753721341421"
      ]
     },
     "execution_count": 171,
     "metadata": {},
     "output_type": "execute_result"
    }
   ],
   "source": [
    "gaia_ipta_sep = ipta_coord.apply_space_motion(new_obstime=gaia_time).separation(gaia_match_coord).arcsec\n",
    "gaia_ipta_sep"
   ]
  },
  {
   "cell_type": "code",
   "execution_count": 172,
   "metadata": {},
   "outputs": [
    {
     "name": "stderr",
     "output_type": "stream",
     "text": [
      "100%|██████████| 500/500 [00:58<00:00,  8.51it/s]\n"
     ]
    }
   ],
   "source": [
    "N = 500\n",
    "seps = []\n",
    "ipta_ras = []\n",
    "ipta_decs = []\n",
    "gaia_ras = []\n",
    "gaia_decs = []\n",
    "for n in tqdm(range(N)):\n",
    "    c1 = SkyCoord(ra=ipta_coord.ra,\n",
    "                 dec=ipta_coord.dec, frame='icrs',\n",
    "                 pm_ra_cosdec=np.random.normal(ipta_coord.pm_ra_cosdec.value, \n",
    "                                               ipta_pmra_err) * u.mas/u.yr,\n",
    "                 pm_dec=np.random.normal(ipta_coord.pm_dec.value, \n",
    "                                               ipta_pmdec_err) * u.mas/u.yr,\n",
    "                 obstime=ipta_coord.obstime,\n",
    "                 distance=ipta_coord.distance)\n",
    "    c2 = SkyCoord(ra=np.random.normal(gaia_match_coord.ra.arcsec, gaia_ra_err) * u.arcsec,\n",
    "                 dec=np.random.normal(gaia_match_coord.dec.arcsec, gaia_dec_err) * u.arcsec, \n",
    "                 frame='icrs',\n",
    "                 pm_ra_cosdec=gaia_match_coord.pm_ra_cosdec, \n",
    "                 pm_dec=gaia_match_coord.pm_dec, \n",
    "                 obstime=gaia_match_coord.obstime,\n",
    "                 distance=gaia_match_coord.distance)\n",
    "    ipta_ras.append(c1.apply_space_motion(new_obstime=gaia_time).ra.degree)\n",
    "    ipta_decs.append(c1.apply_space_motion(new_obstime=gaia_time).dec.degree)\n",
    "    gaia_ras.append(c2.ra.degree)\n",
    "    gaia_decs.append(c2.dec.degree)\n",
    "    sep = c1.apply_space_motion(new_obstime=gaia_time).separation(c2).arcsec\n",
    "    seps.append(sep)"
   ]
  },
  {
   "cell_type": "code",
   "execution_count": 185,
   "metadata": {},
   "outputs": [
    {
     "name": "stderr",
     "output_type": "stream",
     "text": [
      "/anaconda2/envs/py3/lib/python3.6/site-packages/ipykernel_launcher.py:7: DeprecationWarning: object of type <class 'float'> cannot be safely interpreted as an integer.\n",
      "  import sys\n"
     ]
    }
   ],
   "source": [
    "bin_list = auto_bin(.5,0.0,8.0)\n",
    "weights = hist_weight(seps)"
   ]
  },
  {
   "cell_type": "code",
   "execution_count": 186,
   "metadata": {},
   "outputs": [
    {
     "data": {
      "image/png": "[encoded data removed]",
      "text/plain": [
       "<Figure size 432x288 with 1 Axes>"
      ]
     },
     "metadata": {},
     "output_type": "display_data"
    }
   ],
   "source": [
    "fig = plt.figure()\n",
    "ax = fig.add_subplot(111)\n",
    "plt.hist(seps, bin_list, weights=weights, alpha = 0.8, align='left', color = 'C0', label = \"Gaia\")\n",
    "plt.axvline(gaia_ipta_sep, color='red', label = \"IPTA\")\n",
    "plt.xlabel(r\"J1732-5049, Angular Separation $\\theta$ (arcsecs)\")\n",
    "plt.ylabel(\"Probability\")\n",
    "plt.legend(frameon=False)\n",
    "plt.tight_layout()\n",
    "#plt.savefig(\"J1732_Theta_IPTA-GAIA.pdf\")"
   ]
  },
  {
   "cell_type": "code",
   "execution_count": 196,
   "metadata": {},
   "outputs": [
    {
     "name": "stderr",
     "output_type": "stream",
     "text": [
      "/anaconda2/envs/py3/lib/python3.6/site-packages/ipykernel_launcher.py:7: DeprecationWarning: object of type <class 'float'> cannot be safely interpreted as an integer.\n",
      "  import sys\n"
     ]
    }
   ],
   "source": [
    "bin_list = auto_bin(.0002,263.1979,263.20179)\n",
    "weights = hist_weight(gaia_ras)"
   ]
  },
  {
   "cell_type": "code",
   "execution_count": 197,
   "metadata": {},
   "outputs": [
    {
     "data": {
      "image/png": "[encoded data removed]",
      "text/plain": [
       "<Figure size 432x288 with 1 Axes>"
      ]
     },
     "metadata": {},
     "output_type": "display_data"
    }
   ],
   "source": [
    "fig = plt.figure()\n",
    "ax = fig.add_subplot(111)\n",
    "plt.hist(gaia_ras, bin_list, weights=weights, alpha = 0.8, align='left', color = 'C0', label = \"Gaia\")\n",
    "plt.axvline(np.median(ipta_ras), color='red', label = \"IPTA\")\n",
    "plt.xlabel(\"J1732, RA (deg)\")\n",
    "plt.ylabel(\"Probability\")\n",
    "plt.legend(frameon=False)\n",
    "plt.tight_layout()\n",
    "#plt.savefig(\"J1024_RA_IPTA-GAIA.pdf\")\n",
    "\n"
   ]
  },
  {
   "cell_type": "code",
   "execution_count": 209,
   "metadata": {},
   "outputs": [
    {
     "name": "stderr",
     "output_type": "stream",
     "text": [
      "/anaconda2/envs/py3/lib/python3.6/site-packages/ipykernel_launcher.py:7: DeprecationWarning: object of type <class 'float'> cannot be safely interpreted as an integer.\n",
      "  import sys\n"
     ]
    }
   ],
   "source": [
    "bin_list = auto_bin(.0002,-50.8180,-50.81478)\n",
    "weights = hist_weight(gaia_decs)"
   ]
  },
  {
   "cell_type": "code",
   "execution_count": 214,
   "metadata": {},
   "outputs": [
    {
     "data": {
      "image/png": "[encoded data removed]",
      "text/plain": [
       "<Figure size 432x288 with 1 Axes>"
      ]
     },
     "metadata": {},
     "output_type": "display_data"
    }
   ],
   "source": [
    "# DEC plot for J1732\n",
    "plt.hist(gaia_decs, bin_list, weights=weights, alpha = 0.8, align='left', color = 'C0', label = \"Gaia\")\n",
    "plt.axvline(np.median(ipta_decs), color='red', label = \"IPTA\")\n",
    "ax.set_xlim([np.min(ipta_decs),np.max(ipta_decs)])\n",
    "plt.xlabel(\"J1732-5049, DEC (deg)\")\n",
    "plt.ylabel(\"Probability\")\n",
    "plt.legend(frameon=False)\n",
    "plt.tight_layout()\n",
    "#plt.savefig(\"J1732_DEC_IPTA-GAIA.pdf\")"
   ]
  },
  {
   "cell_type": "markdown",
   "metadata": {},
   "source": [
    "## Pulsar J1955+2908"
   ]
  },
  {
   "cell_type": "code",
   "execution_count": 217,
   "metadata": {},
   "outputs": [
    {
     "data": {
      "text/plain": [
       "<SkyCoord (ICRS): (ra, dec, distance) in (deg, deg, kpc)\n",
       "    (298.86614892, 29.14540536, 1.)\n",
       " (pm_ra_cosdec, pm_dec) in mas / yr\n",
       "    (-0.81162453, -4.06546809)>"
      ]
     },
     "execution_count": 217,
     "metadata": {},
     "output_type": "execute_result"
    }
   ],
   "source": [
    "ind = np.where(np.array(Names) == 'J1955+2908')[0][0]\n",
    "\n",
    "ipta_pmra_err = pmra_err[ind]\n",
    "ipta_pmdec_err = pmdec_err[ind]\n",
    "ipta_posepoch = posepoch[ind]\n",
    "\n",
    "ipta_pmra_err = pmra_err[ind]\n",
    "ipta_pmdec_err = pmdec_err[ind]\n",
    "ipta_posepoch = posepoch[ind]\n",
    "\n",
    "\n",
    "ipta_coord = coords[ind]\n",
    "ipta_coord"
   ]
  },
  {
   "cell_type": "code",
   "execution_count": 218,
   "metadata": {},
   "outputs": [
    {
     "data": {
      "text/plain": [
       "<SkyCoord (ICRS): (ra, dec, distance) in (deg, deg, kpc)\n",
       "    (298.8661015, 29.14538275, 1.)\n",
       " (pm_ra_cosdec, pm_dec) in mas / yr\n",
       "    (-3.09211605, -7.96299189)>"
      ]
     },
     "execution_count": 218,
     "metadata": {},
     "output_type": "execute_result"
    }
   ],
   "source": [
    "gaia_time = Time(57023., format='mjd')\n",
    "gaia_match_coord =  SkyCoord(ra=298.8661015 * u.degree, \n",
    "                             dec=29.14538275 * u.degree, frame='icrs',\n",
    "                         pm_ra_cosdec = -3.092116051*u.mas/u.yr,\n",
    "                         pm_dec= -7.962991888*u.mas/u.yr,\n",
    "                         obstime=Time(2015.5, format='decimalyear'),\n",
    "                         distance=1. * u.kpc) # HACK\n",
    "gaia_ra_err = 0.125519342\n",
    "gaia_dec_err = 0.165511548\n",
    "gaia_match_coord"
   ]
  },
  {
   "cell_type": "code",
   "execution_count": 219,
   "metadata": {},
   "outputs": [
    {
     "data": {
      "text/plain": [
       "0.15613751155802524"
      ]
     },
     "execution_count": 219,
     "metadata": {},
     "output_type": "execute_result"
    }
   ],
   "source": [
    "gaia_ipta_sep = ipta_coord.apply_space_motion(new_obstime=gaia_time).separation(gaia_match_coord).arcsec\n",
    "gaia_ipta_sep"
   ]
  },
  {
   "cell_type": "code",
   "execution_count": 220,
   "metadata": {},
   "outputs": [
    {
     "name": "stderr",
     "output_type": "stream",
     "text": [
      "100%|██████████| 500/500 [00:59<00:00,  8.37it/s]\n"
     ]
    }
   ],
   "source": [
    "N = 500\n",
    "seps = []\n",
    "ipta_ras = []\n",
    "ipta_decs = []\n",
    "gaia_ras = []\n",
    "gaia_decs = []\n",
    "for n in tqdm(range(N)):\n",
    "    c1 = SkyCoord(ra=ipta_coord.ra,\n",
    "                 dec=ipta_coord.dec, frame='icrs',\n",
    "                 pm_ra_cosdec=np.random.normal(ipta_coord.pm_ra_cosdec.value, \n",
    "                                               ipta_pmra_err) * u.mas/u.yr,\n",
    "                 pm_dec=np.random.normal(ipta_coord.pm_dec.value, \n",
    "                                               ipta_pmdec_err) * u.mas/u.yr,\n",
    "                 obstime=ipta_coord.obstime,\n",
    "                 distance=ipta_coord.distance)\n",
    "    c2 = SkyCoord(ra=np.random.normal(gaia_match_coord.ra.arcsec, gaia_ra_err) * u.arcsec,\n",
    "                 dec=np.random.normal(gaia_match_coord.dec.arcsec, gaia_dec_err) * u.arcsec, \n",
    "                 frame='icrs',\n",
    "                 pm_ra_cosdec=gaia_match_coord.pm_ra_cosdec, \n",
    "                 pm_dec=gaia_match_coord.pm_dec, \n",
    "                 obstime=gaia_match_coord.obstime,\n",
    "                 distance=gaia_match_coord.distance)\n",
    "    ipta_ras.append(c1.apply_space_motion(new_obstime=gaia_time).ra.degree)\n",
    "    ipta_decs.append(c1.apply_space_motion(new_obstime=gaia_time).dec.degree)\n",
    "    gaia_ras.append(c2.ra.degree)\n",
    "    gaia_decs.append(c2.dec.degree)\n",
    "    sep = c1.apply_space_motion(new_obstime=gaia_time).separation(c2).arcsec\n",
    "    seps.append(sep)"
   ]
  },
  {
   "cell_type": "code",
   "execution_count": null,
   "metadata": {},
   "outputs": [],
   "source": []
  },
  {
   "cell_type": "code",
   "execution_count": null,
   "metadata": {},
   "outputs": [],
   "source": []
  },
  {
   "cell_type": "code",
   "execution_count": 229,
   "metadata": {},
   "outputs": [
    {
     "name": "stderr",
     "output_type": "stream",
     "text": [
      "/anaconda2/envs/py3/lib/python3.6/site-packages/ipykernel_launcher.py:7: DeprecationWarning: object of type <class 'float'> cannot be safely interpreted as an integer.\n",
      "  import sys\n"
     ]
    },
    {
     "data": {
      "image/png": "[encoded data removed]",
      "text/plain": [
       "<Figure size 432x288 with 1 Axes>"
      ]
     },
     "metadata": {},
     "output_type": "display_data"
    }
   ],
   "source": [
    "bin_list = auto_bin(.05,0.0,0.8)\n",
    "weights = hist_weight(seps)\n",
    "\n",
    "fig = plt.figure()\n",
    "ax = fig.add_subplot(111)\n",
    "plt.hist(seps, bin_list, weights=weights, alpha = 0.8, align='left', color = 'C0', label = \"Gaia\")\n",
    "plt.axvline(gaia_ipta_sep, color='red', label = \"IPTA\")\n",
    "plt.xlabel(r\"J1955+2908, Angular Separation $\\theta$ (arcsecs)\")\n",
    "plt.ylabel(\"Probability\")\n",
    "plt.legend(frameon=False)\n",
    "plt.tight_layout()\n",
    "#plt.savefig(\"J1955_Theta_IPTA-GAIA.pdf\")"
   ]
  },
  {
   "cell_type": "code",
   "execution_count": 248,
   "metadata": {},
   "outputs": [
    {
     "name": "stderr",
     "output_type": "stream",
     "text": [
      "/anaconda2/envs/py3/lib/python3.6/site-packages/ipykernel_launcher.py:7: DeprecationWarning: object of type <class 'float'> cannot be safely interpreted as an integer.\n",
      "  import sys\n"
     ]
    }
   ],
   "source": [
    "bin_list = auto_bin(2e-5,298.865998,298.866200)\n",
    "weights = hist_weight(gaia_ras)"
   ]
  },
  {
   "cell_type": "code",
   "execution_count": 249,
   "metadata": {},
   "outputs": [
    {
     "data": {
      "image/png": "[encoded data removed]",
      "text/plain": [
       "<Figure size 432x288 with 1 Axes>"
      ]
     },
     "metadata": {},
     "output_type": "display_data"
    }
   ],
   "source": [
    "fig = plt.figure()\n",
    "ax = fig.add_subplot(111)\n",
    "plt.hist(gaia_ras, bin_list, weights=weights, alpha = 0.8, align='left', color = 'C0', label = \"Gaia\")\n",
    "plt.axvline(np.median(ipta_ras), color='red', label = \"IPTA\")\n",
    "plt.xlabel(\"J1955+2908, RA (deg)\")\n",
    "plt.ylabel(\"Probability\")\n",
    "plt.legend(frameon=False)\n",
    "plt.tight_layout()\n",
    "#plt.savefig(\"J1955_RA_IPTA-GAIA.pdf\")\n",
    "\n",
    "\n"
   ]
  },
  {
   "cell_type": "code",
   "execution_count": 250,
   "metadata": {},
   "outputs": [
    {
     "data": {
      "text/plain": [
       "29.145236817846868"
      ]
     },
     "execution_count": 250,
     "metadata": {},
     "output_type": "execute_result"
    }
   ],
   "source": [
    "min(gaia_decs)"
   ]
  },
  {
   "cell_type": "code",
   "execution_count": 251,
   "metadata": {},
   "outputs": [
    {
     "data": {
      "text/plain": [
       "29.14551175996111"
      ]
     },
     "execution_count": 251,
     "metadata": {},
     "output_type": "execute_result"
    }
   ],
   "source": [
    "max(gaia_decs)"
   ]
  },
  {
   "cell_type": "code",
   "execution_count": 252,
   "metadata": {},
   "outputs": [
    {
     "name": "stderr",
     "output_type": "stream",
     "text": [
      "/anaconda2/envs/py3/lib/python3.6/site-packages/ipykernel_launcher.py:7: DeprecationWarning: object of type <class 'float'> cannot be safely interpreted as an integer.\n",
      "  import sys\n"
     ]
    }
   ],
   "source": [
    "bin_list = auto_bin(2e-5,29.145236817846868,29.14551175996111)\n",
    "weights = hist_weight(gaia_decs)"
   ]
  },
  {
   "cell_type": "code",
   "execution_count": 254,
   "metadata": {},
   "outputs": [
    {
     "data": {
      "image/png": "[encoded data removed]",
      "text/plain": [
       "<Figure size 432x288 with 1 Axes>"
      ]
     },
     "metadata": {},
     "output_type": "display_data"
    }
   ],
   "source": [
    "# DEC plot for J1732\n",
    "plt.hist(gaia_decs, bin_list, weights=weights, alpha = 0.8, align='left', color = 'C0', label = \"Gaia\")\n",
    "plt.axvline(np.median(ipta_decs), color='red', label = \"IPTA\")\n",
    "ax.set_xlim([np.min(ipta_decs),np.max(ipta_decs)])\n",
    "plt.xlabel(\"J1955+2908, DEC (deg)\")\n",
    "plt.ylabel(\"Probability\")\n",
    "plt.legend(frameon=False)\n",
    "plt.tight_layout()\n",
    "#plt.savefig(\"J1955_DEC_IPTA-GAIA.pdf\")"
   ]
  },
  {
   "cell_type": "code",
   "execution_count": 257,
   "metadata": {},
   "outputs": [
    {
     "data": {
      "text/plain": [
       "(array([ 10.,  19.,  70.,  87., 143.,  76.,  63.,  26.,   4.,   2.]),\n",
       " array([29.14539646, 29.14539707, 29.14539768, 29.14539829, 29.14539891,\n",
       "        29.14539952, 29.14540013, 29.14540074, 29.14540135, 29.14540197,\n",
       "        29.14540258]),\n",
       " <a list of 10 Patch objects>)"
      ]
     },
     "execution_count": 257,
     "metadata": {},
     "output_type": "execute_result"
    },
    {
     "data": {
      "image/png": "[encoded data removed]",
      "text/plain": [
       "<Figure size 432x288 with 1 Axes>"
      ]
     },
     "metadata": {},
     "output_type": "display_data"
    }
   ],
   "source": [
    "plt.hist(gaia_decs)\n",
    "plt.hist(ipta_decs)\n"
   ]
  },
  {
   "cell_type": "raw",
   "metadata": {},
   "source": []
  }
 ],
 "metadata": {
  "kernelspec": {
   "display_name": "Python 3",
   "language": "python",
   "name": "python3"
  },
  "language_info": {
   "codemirror_mode": {
    "name": "ipython",
    "version": 3
   },
   "file_extension": ".py",
   "mimetype": "text/x-python",
   "name": "python",
   "nbconvert_exporter": "python",
   "pygments_lexer": "ipython3",
   "version": "3.6.5"
  }
 },
 "nbformat": 4,
 "nbformat_minor": 2
}
