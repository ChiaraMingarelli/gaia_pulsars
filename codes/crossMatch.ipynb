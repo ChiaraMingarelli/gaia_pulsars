{
 "cells": [
  {
   "cell_type": "code",
   "execution_count": 1,
   "metadata": {
    "collapsed": true
   },
   "outputs": [],
   "source": [
    "# %load query.py\n",
    "import numpy as np\n",
    "from astropy import units as u\n",
    "from astropy.io import ascii\n",
    "from astroquery.xmatch import XMatch\n",
    "import requests"
   ]
  },
  {
   "cell_type": "code",
   "execution_count": 2,
   "metadata": {
    "collapsed": true
   },
   "outputs": [],
   "source": [
    "# %load query.py\n",
    "import numpy as np\n",
    "import glob\n",
    "\n",
    "from astropy import units as u\n",
    "from astropy.io import ascii\n",
    "from astroquery.xmatch import XMatch\n",
    "from astropy.table import Table\n",
    "from astropy.coordinates import SkyCoord, ICRS, Galactic, Angle"
   ]
  },
  {
   "cell_type": "code",
   "execution_count": 3,
   "metadata": {
    "collapsed": true
   },
   "outputs": [],
   "source": [
    "files = glob.glob('../IPTA_DR1/*/*.par')"
   ]
  },
  {
   "cell_type": "code",
   "execution_count": 4,
   "metadata": {
    "collapsed": true
   },
   "outputs": [],
   "source": [
    "RAs = []\n",
    "DECs = []\n",
    "Names = []\n",
    "pmra = []\n",
    "pmdec = []\n",
    "pepoch = []\n",
    "posepoch = []\n",
    "dmepoch = []\n",
    "dm = []\n",
    "\n",
    "for file in files:\n",
    "    d = {}\n",
    "    with open(file) as f:\n",
    "        for line in f:\n",
    "            key = line.split()[0]\n",
    "            value = line.split()[1]\n",
    "            d[key] = value\n",
    "            \n",
    "    try:\n",
    "        RAs.append(Angle(d['RAJ'], u.hourangle).degree)\n",
    "        #print(d['PSRJ'], d['DECJ'])\n",
    "        DECs.append(Angle(d['DECJ'], u.degree).value)\n",
    "        Names.append(d['PSRJ'])\n",
    "        pmra.append(d['PMRA'])\n",
    "        pmdec.append(d['PMDEC'])\n",
    "        pepoch.append(d['PEPOCH'])\n",
    "        posepoch.append(d['POSEPOCH'])\n",
    "        dmepoch.append(d['DMEPOCH'])\n",
    "        dm.append(d['DM'])\n",
    "        \n",
    "    except KeyError:\n",
    "        coord = Galactic(l=float(d['ELONG'])*u.deg, b=float(d['ELAT'])*u.deg, pm_l_cosb = float(d['PMELONG'])*np.cos(float(d['ELAT'])*np.pi/180.)*u.mas/u.yr, pm_b=float(d['PMELAT'])*u.mas/u.yr)\n",
    "        icrscoord = coord.transform_to(ICRS)\n",
    "        #print(icrscoord)\n",
    "        #print(d['PSRJ'])\n",
    "        RAs.append(icrscoord.ra.to(u.deg).value)\n",
    "        DECs.append(icrscoord.dec.to(u.deg).value)\n",
    "        Names.append(d['PSRJ'])\n",
    "        pmra.append(icrscoord.pm_ra_cosdec/np.cos(icrscoord.dec.to(u.rad)))\n",
    "        pmdec.append(icrscoord.pm_dec)\n",
    "        pepoch.append(d['PEPOCH'])\n",
    "        posepoch.append(d['POSEPOCH'])\n",
    "        dmepoch.append(d['DMEPOCH'])\n",
    "        dm.append(d['DM'])        \n",
    "        #coord = SkyCoord(d[''])\n",
    "        \n",
    "        continue\n",
    "\n",
    "t = Table([Names, RAs, DECs, pmra, pmdec, pepoch, posepoch, dmepoch, dm], names=['names', 'ra', 'dec', 'pmra', 'pmdec', 'dm', 'pepoch', 'posepoch', 'dmepoch'])        \n",
    "tmin = Table([RAs, DECs], names=['ra', 'dec'])\n"
   ]
  },
  {
   "cell_type": "code",
   "execution_count": 9,
   "metadata": {},
   "outputs": [
    {
     "name": "stdout",
     "output_type": "stream",
     "text": [
      "[114.21427636874998, 128.86463933124998, 517.8973298749999, 1039.7435109335686, 1388.3497163312497, 1401.4984796999997, 1430.1321485999997, 1619.6368203312497, 1766.8222081124993, 2027.7470680687495, 2297.089845618749, 982.8453201782852, 2342.4172112124998, 2421.8866913249994, 3359.2481172062494, 3603.2439585249995, 3613.4798437499994, 3751.046551924999, 3763.6350928519673, 3876.845823512498, 3904.0936194250003, 3938.8542586187486, 3947.98542011875, 3970.872898306249, 3991.8379713624995, 4018.293324681249, 4056.942083906249, 4057.8334524499996, 4066.3208184874993, 4142.000494593749, 4213.828869424999, 4252.332423149999, 4266.024412593749, 4311.714598456249, 4313.106338924999, 4319.700292287499, 4319.330145331249, 4345.5020701375, 4423.660076293749, 4482.9922338125, 4540.37003979375, 4573.246305987498, 4625.469635562498, 4817.740488556248, 4835.1729355, 4896.903787437499, 5061.930338581249, 5239.327288387499, 5258.895952168749]\n"
     ]
    }
   ],
   "source": [
    "raAng = [Angle(ra, u.hourangle).degree for ra in RAs]\n",
    "print(raAng)"
   ]
  },
  {
   "cell_type": "code",
   "execution_count": 10,
   "metadata": {
    "collapsed": true
   },
   "outputs": [],
   "source": [
    "t.write('ipta_data.csv', format='csv', overwrite=True)\n",
    "tmin.write('ipta_data_nonames.csv', format='csv', overwrite=True)"
   ]
  },
  {
   "cell_type": "code",
   "execution_count": 11,
   "metadata": {
    "collapsed": true
   },
   "outputs": [],
   "source": [
    "r = requests.post(\n",
    "'http://cdsxmatch.u-strasbg.fr/xmatch/api/v1/sync',\n",
    "data={'request': 'xmatch', 'distMaxArcsec': 1.0, 'RESPONSEFORMAT': 'csv',\n",
    "'cat2': 'vizier:I/337/gaia', 'colRA1': 'ra', 'colDec1': 'dec'},\n",
    "files={'cat1': open('ipta_data.csv', 'r')})"
   ]
  },
  {
   "cell_type": "code",
   "execution_count": 12,
   "metadata": {},
   "outputs": [
    {
     "name": "stdout",
     "output_type": "stream",
     "text": [
      "angDist,names,ra,dec,pmra,pmdec,dm,pepoch,posepoch,dmepoch,ra_ep2000,dec_ep2000,errHalfMaj,errHalfMin,errPosAng,ra,dec,source_id,ref_epoch,ra_error,dec_error,parallax,parallax_error,pmra,pmra_error,pmdec,pmdec_error,ra_dec_corr,duplicated_source,phot_g_n_obs,phot_g_mean_flux,phot_g_mean_flux_error,phot_g_mean_mag,phot_variable_flag,l,b\n",
      "0.970148,J0437-4715,69.31623406223791,-47.25253075275593,121.43993281718667,-71.47620158262019,54500,54500,54500,2.644571992220118,69.3165765588,-47.2526670522,0.003,0.002,0,69.3165765588,-47.2526670522,4789864076732331648,2015.0,1.992,2.741,,,,,,,-0.671,0,65,1.28203e+02,2.46615e+00,20.255,NOT_AVAILABLE,253.3946170111,-41.9631552362\n",
      "0.140141,J1012+5307,153.13932304124995,53.1173056,2.6237122562025093,-25.458808920674365,55000,55000,55000,9.021803950562022,153.1393295862,53.1172668707,0.001,0.000,0,153.1393295862,53.1172668707,851610857095609984,2015.0,0.395,0.614,,,,,,,0.058,0,148,2.43759e+02,1.93173e+00,19.557,NOT_AVAILABLE,160.3471938161,50.8578532615\n",
      "0.379287,J1024-0719,156.16114741416666,-7.322064986111111,-35.30492690451154,-48.2439401720538,55000,55000,55000,6.486302522549919,156.1610974393,-7.3221579554,0.011,0.007,0,156.1610974393,-7.3221579554,3775277868091720192,2015.0,6.547,11.160,,,,,,,-0.857,0,33,3.91727e+02,4.93626e+00,19.042,NOT_AVAILABLE,251.7016017396,40.5153956229\n",
      "0.165908,J1955+2908,298.8661489208333,29.145405363888887,-0.8116245289559626,-4.06546809122938,55000,55000,55000,104.46602422967284,298.8661021667,29.1453839997,0.000,0.000,0,298.8661021667,29.1453839997,2028584968839606784,2015.0,0.458,0.479,,,,,,,0.502,0,112,6.51929e+02,2.06657e+00,18.489,NOT_AVAILABLE,65.8392364771,0.4432589324\n",
      "\n"
     ]
    }
   ],
   "source": [
    "print(r.text)"
   ]
  },
  {
   "cell_type": "code",
   "execution_count": 13,
   "metadata": {
    "collapsed": true
   },
   "outputs": [],
   "source": [
    "h = open('ipta_crossmatch_1arcsecond.csv', 'w')\n",
    "h.write(r.text)\n",
    "h.close()"
   ]
  },
  {
   "cell_type": "code",
   "execution_count": null,
   "metadata": {
    "collapsed": true
   },
   "outputs": [],
   "source": []
  },
  {
   "cell_type": "code",
   "execution_count": null,
   "metadata": {
    "collapsed": true
   },
   "outputs": [],
   "source": []
  },
  {
   "cell_type": "code",
   "execution_count": null,
   "metadata": {
    "collapsed": true
   },
   "outputs": [],
   "source": []
  }
 ],
 "metadata": {
  "kernelspec": {
   "display_name": "Python 2",
   "language": "python",
   "name": "python2"
  },
  "language_info": {
   "codemirror_mode": {
    "name": "ipython",
    "version": 2
   },
   "file_extension": ".py",
   "mimetype": "text/x-python",
   "name": "python",
   "nbconvert_exporter": "python",
   "pygments_lexer": "ipython2",
   "version": "2.7.13"
  }
 },
 "nbformat": 4,
 "nbformat_minor": 2
}
