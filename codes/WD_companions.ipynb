{
 "cells": [
  {
   "cell_type": "code",
   "execution_count": 1,
   "metadata": {
    "collapsed": true
   },
   "outputs": [],
   "source": [
    "from __future__ import division\n",
    "from IPython.display import display, Math, Latex\n",
    "from math import sin, cos\n",
    "import numpy as np\n",
    "import matplotlib.pyplot as plt\n",
    "from matplotlib.ticker import FormatStrFormatter, LinearLocator, NullFormatter, NullLocator, MultipleLocator\n",
    "import matplotlib.ticker\n",
    "import matplotlib.colors\n",
    "from matplotlib.font_manager import FontProperties\n",
    "from matplotlib import rc, text\n",
    "import healpy as hp\n",
    "from mpl_toolkits.basemap import Basemap\n",
    "from astropy.table import Table, Column, MaskedColumn\n",
    "\n",
    "%matplotlib inline\n",
    "%config InlineBackend.figure_format = \"retina\""
   ]
  },
  {
   "cell_type": "code",
   "execution_count": 2,
   "metadata": {
    "collapsed": true
   },
   "outputs": [],
   "source": [
    "c=2.99792458*(10**8)\n",
    "G=6.67428*(10**(-11))\n",
    "s_mass=G*(1.98892*10**(30))/(c**3)\n",
    "\n",
    "# common function shortcuts\n",
    "log10 = np.log10\n",
    "pi = np.pi\n",
    "sqrt = np.sqrt\n"
   ]
  },
  {
   "cell_type": "code",
   "execution_count": 3,
   "metadata": {
    "collapsed": true
   },
   "outputs": [],
   "source": [
    "def semi_a(theta,dist):\n",
    "    \"\"\"\n",
    "    input theta in arcseconds, input distance in pc, output \"a\" (semimajor axis) is AU\n",
    "    \"\"\"\n",
    "    ans = theta*dist\n",
    "    return ans"
   ]
  },
  {
   "cell_type": "code",
   "execution_count": 4,
   "metadata": {
    "collapsed": true
   },
   "outputs": [],
   "source": [
    "AU_sec = 1.496e11/c"
   ]
  },
  {
   "cell_type": "code",
   "execution_count": 5,
   "metadata": {
    "collapsed": true
   },
   "outputs": [],
   "source": [
    "def kep_P(a,Mtot):\n",
    "    \"\"\"\n",
    "    answer in days. \n",
    "    input \"a\" in AU and Mtot in solar masses.\n",
    "    \"\"\"\n",
    "    frac = 4*pi*pi*(a*AU_sec)**3/(Mtot*s_mass)\n",
    "    ans = sqrt(frac)\n",
    "    return ans/60/60/24\n",
    "\n",
    "def kep_a(P,Mtot):\n",
    "    \"\"\"\n",
    "    answer in AU. \n",
    "    input \"P\" in days and Mtot in solar masses.\n",
    "    \"\"\"\n",
    "    frac = (P*24*60*60)**2*(Mtot*s_mass)/(4*pi*pi)\n",
    "    ans = frac**(1/3)\n",
    "    return ans/AU_sec"
   ]
  },
  {
   "cell_type": "code",
   "execution_count": 6,
   "metadata": {},
   "outputs": [
    {
     "data": {
      "text/plain": [
       "1.0000576845303153"
      ]
     },
     "execution_count": 6,
     "metadata": {},
     "output_type": "execute_result"
    }
   ],
   "source": [
    "kep_a(365.25,1) # Earth, sanity check"
   ]
  },
  {
   "cell_type": "code",
   "execution_count": 7,
   "metadata": {},
   "outputs": [
    {
     "data": {
      "text/plain": [
       "365.21839836662093"
      ]
     },
     "execution_count": 7,
     "metadata": {},
     "output_type": "execute_result"
    }
   ],
   "source": [
    "kep_P(1,1)"
   ]
  },
  {
   "cell_type": "code",
   "execution_count": null,
   "metadata": {
    "collapsed": true
   },
   "outputs": [],
   "source": [
    "# ipta_3arcsec_wpm-result.csv"
   ]
  },
  {
   "cell_type": "code",
   "execution_count": 8,
   "metadata": {
    "collapsed": true
   },
   "outputs": [],
   "source": [
    "from astropy.io import ascii"
   ]
  },
  {
   "cell_type": "code",
   "execution_count": 17,
   "metadata": {},
   "outputs": [],
   "source": [
    "data = ascii.read(\"ipta_3arcsec_wpm-result.csv\")"
   ]
  },
  {
   "cell_type": "code",
   "execution_count": 76,
   "metadata": {},
   "outputs": [],
   "source": [
    "# plotting RA, DEC and errors\n",
    "ra_col = np.array(data[5][:])\n",
    "ra_err = np.array(data[6][:])\n",
    "dec_col = np.array(data[7][:])\n",
    "dec_err = np.array(data[8][:])"
   ]
  },
  {
   "cell_type": "code",
   "execution_count": 77,
   "metadata": {
    "collapsed": true
   },
   "outputs": [],
   "source": [
    "# plotting RA, DEC and errors\n",
    "ra_col =  ra_col[1:].astype(\"float64\")\n",
    "ra_err = ra_err[1:].astype(\"float64\")\n",
    "dec_col = dec_col[1:].astype(\"float64\")\n",
    "dec_err = dec_err[1:].astype(\"float64\")"
   ]
  },
  {
   "cell_type": "code",
   "execution_count": 80,
   "metadata": {},
   "outputs": [
    {
     "data": {
      "text/plain": [
       "<Container object of 3 artists>"
      ]
     },
     "execution_count": 80,
     "metadata": {},
     "output_type": "execute_result"
    },
    {
     "data": {
      "image/png": "[encoded data removed]",
      "text/plain": [
       "<matplotlib.figure.Figure at 0x113d82910>"
      ]
     },
     "metadata": {
      "image/png": {
       "height": 250,
       "width": 377
      }
     },
     "output_type": "display_data"
    }
   ],
   "source": [
    "plt.figure()\n",
    "plt.errorbar(dec_col, ra_col, xerr=dec_err, yerr=ra_err)"
   ]
  },
  {
   "cell_type": "code",
   "execution_count": 81,
   "metadata": {},
   "outputs": [
    {
     "data": {
      "text/plain": [
       "array([  69.31660276,   93.43331574,  153.1393303 ,  156.1610927 ,\n",
       "        263.200006  ,  266.1224646 ,  271.0877923 ,  271.0885103 ,\n",
       "        276.1331586 ,  276.1335113 ,  276.1330099 ,  280.9223272 ,\n",
       "        283.4892615 ,  287.5405352 ,  287.5398112 ,  287.5407215 ,\n",
       "        294.910978  ,  298.8661015 ,  308.3650317 ])"
      ]
     },
     "execution_count": 81,
     "metadata": {},
     "output_type": "execute_result"
    }
   ],
   "source": [
    "ra_col"
   ]
  },
  {
   "cell_type": "code",
   "execution_count": 75,
   "metadata": {},
   "outputs": [
    {
     "data": {
      "text/plain": [
       "[<matplotlib.lines.Line2D at 0x11c8dc0d0>]"
      ]
     },
     "execution_count": 75,
     "metadata": {},
     "output_type": "execute_result"
    },
    {
     "data": {
      "image/png": "[encoded data removed]",
      "text/plain": [
       "<matplotlib.figure.Figure at 0x113d02d10>"
      ]
     },
     "metadata": {
      "image/png": {
       "height": 250,
       "width": 380
      }
     },
     "output_type": "display_data"
    }
   ],
   "source": [
    "ra_err"
   ]
  },
  {
   "cell_type": "code",
   "execution_count": 70,
   "metadata": {
    "collapsed": true
   },
   "outputs": [],
   "source": [
    "ra_col = np.array(data[5][:])\n",
    "\n"
   ]
  },
  {
   "cell_type": "code",
   "execution_count": 72,
   "metadata": {},
   "outputs": [],
   "source": [
    "ra_col = ra_col[1:]"
   ]
  },
  {
   "cell_type": "code",
   "execution_count": 74,
   "metadata": {},
   "outputs": [
    {
     "data": {
      "text/plain": [
       "array([  69.31660276,   93.43331574,  153.1393303 ,  156.1610927 ,\n",
       "        263.200006  ,  266.1224646 ,  271.0877923 ,  271.0885103 ,\n",
       "        276.1331586 ,  276.1335113 ,  276.1330099 ,  280.9223272 ,\n",
       "        283.4892615 ,  287.5405352 ,  287.5398112 ,  287.5407215 ,\n",
       "        294.910978  ,  298.8661015 ,  308.3650317 ])"
      ]
     },
     "execution_count": 74,
     "metadata": {},
     "output_type": "execute_result"
    }
   ],
   "source": [
    "ra_col.astype(\"float64\")"
   ]
  },
  {
   "cell_type": "code",
   "execution_count": 69,
   "metadata": {},
   "outputs": [
    {
     "data": {
      "text/html": [
       "&lt;MaskedColumn name=&apos;col6&apos; dtype=&apos;str11&apos; length=20&gt;\n",
       "<table>\n",
       "<tr><td>ra</td></tr>\n",
       "<tr><td>69.31660276</td></tr>\n",
       "<tr><td>93.43331574</td></tr>\n",
       "<tr><td>153.1393303</td></tr>\n",
       "<tr><td>156.1610927</td></tr>\n",
       "<tr><td>263.200006</td></tr>\n",
       "<tr><td>266.1224646</td></tr>\n",
       "<tr><td>271.0877923</td></tr>\n",
       "<tr><td>271.0885103</td></tr>\n",
       "<tr><td>276.1331586</td></tr>\n",
       "<tr><td>276.1335113</td></tr>\n",
       "<tr><td>276.1330099</td></tr>\n",
       "<tr><td>280.9223272</td></tr>\n",
       "<tr><td>283.4892615</td></tr>\n",
       "<tr><td>287.5405352</td></tr>\n",
       "<tr><td>287.5398112</td></tr>\n",
       "<tr><td>287.5407215</td></tr>\n",
       "<tr><td>294.910978</td></tr>\n",
       "<tr><td>298.8661015</td></tr>\n",
       "<tr><td>308.3650317</td></tr>\n",
       "</table>"
      ],
      "text/plain": [
       "<MaskedColumn name='col6' dtype='str11' length=20>\n",
       "         ra\n",
       "69.31660276\n",
       "93.43331574\n",
       "153.1393303\n",
       "156.1610927\n",
       " 263.200006\n",
       "266.1224646\n",
       "271.0877923\n",
       "271.0885103\n",
       "276.1331586\n",
       "276.1335113\n",
       "276.1330099\n",
       "280.9223272\n",
       "283.4892615\n",
       "287.5405352\n",
       "287.5398112\n",
       "287.5407215\n",
       " 294.910978\n",
       "298.8661015\n",
       "308.3650317"
      ]
     },
     "execution_count": 69,
     "metadata": {},
     "output_type": "execute_result"
    }
   ],
   "source": [
    " data[5][:]"
   ]
  },
  {
   "cell_type": "code",
   "execution_count": 61,
   "metadata": {},
   "outputs": [
    {
     "ename": "ValueError",
     "evalue": "could not convert string to float: ra",
     "output_type": "error",
     "traceback": [
      "\u001b[0;31m---------------------------------------------------------------------------\u001b[0m",
      "\u001b[0;31mValueError\u001b[0m                                Traceback (most recent call last)",
      "\u001b[0;32m<ipython-input-61-f91066ad3fcd>\u001b[0m in \u001b[0;36m<module>\u001b[0;34m()\u001b[0m\n\u001b[0;32m----> 1\u001b[0;31m \u001b[0mt2\u001b[0m \u001b[0;34m=\u001b[0m \u001b[0mtest\u001b[0m\u001b[0;34m.\u001b[0m\u001b[0mastype\u001b[0m\u001b[0;34m(\u001b[0m\u001b[0;34m\"float64\"\u001b[0m\u001b[0;34m)\u001b[0m\u001b[0;34m\u001b[0m\u001b[0m\n\u001b[0m",
      "\u001b[0;32m/anaconda2/lib/python2.7/site-packages/numpy/ma/core.pyc\u001b[0m in \u001b[0;36mastype\u001b[0;34m(self, newtype)\u001b[0m\n\u001b[1;32m   3192\u001b[0m         \"\"\"\n\u001b[1;32m   3193\u001b[0m         \u001b[0mnewtype\u001b[0m \u001b[0;34m=\u001b[0m \u001b[0mnp\u001b[0m\u001b[0;34m.\u001b[0m\u001b[0mdtype\u001b[0m\u001b[0;34m(\u001b[0m\u001b[0mnewtype\u001b[0m\u001b[0;34m)\u001b[0m\u001b[0;34m\u001b[0m\u001b[0m\n\u001b[0;32m-> 3194\u001b[0;31m         \u001b[0moutput\u001b[0m \u001b[0;34m=\u001b[0m \u001b[0mself\u001b[0m\u001b[0;34m.\u001b[0m\u001b[0m_data\u001b[0m\u001b[0;34m.\u001b[0m\u001b[0mastype\u001b[0m\u001b[0;34m(\u001b[0m\u001b[0mnewtype\u001b[0m\u001b[0;34m)\u001b[0m\u001b[0;34m.\u001b[0m\u001b[0mview\u001b[0m\u001b[0;34m(\u001b[0m\u001b[0mtype\u001b[0m\u001b[0;34m(\u001b[0m\u001b[0mself\u001b[0m\u001b[0;34m)\u001b[0m\u001b[0;34m)\u001b[0m\u001b[0;34m\u001b[0m\u001b[0m\n\u001b[0m\u001b[1;32m   3195\u001b[0m         \u001b[0moutput\u001b[0m\u001b[0;34m.\u001b[0m\u001b[0m_update_from\u001b[0m\u001b[0;34m(\u001b[0m\u001b[0mself\u001b[0m\u001b[0;34m)\u001b[0m\u001b[0;34m\u001b[0m\u001b[0m\n\u001b[1;32m   3196\u001b[0m         \u001b[0mnames\u001b[0m \u001b[0;34m=\u001b[0m \u001b[0moutput\u001b[0m\u001b[0;34m.\u001b[0m\u001b[0mdtype\u001b[0m\u001b[0;34m.\u001b[0m\u001b[0mnames\u001b[0m\u001b[0;34m\u001b[0m\u001b[0m\n",
      "\u001b[0;31mValueError\u001b[0m: could not convert string to float: ra"
     ]
    }
   ],
   "source": [
    "t2 = test.astype(\"float64\")"
   ]
  },
  {
   "cell_type": "code",
   "execution_count": 19,
   "metadata": {},
   "outputs": [
    {
     "data": {
      "text/html": [
       "&lt;Table masked=True length=6&gt;\n",
       "<table id=\"table4608153360\" class=\"table-striped table-bordered table-condensed\">\n",
       "<thead><tr><th>col1</th><th>col2</th><th>col3</th><th>col4</th><th>col5</th><th>col6</th><th>col7</th><th>col8</th><th>col9</th><th>col10</th><th>col11</th><th>col12</th><th>col13</th><th>col14</th><th>col15</th><th>col16</th><th>col17</th><th>col18</th><th>col19</th><th>col20</th><th>col21</th><th>col22</th><th>col23</th><th>col24</th><th>col25</th><th>col26</th><th>col27</th><th>col28</th><th>col29</th><th>col30</th><th>col31</th><th>col32</th><th>col33</th><th>col34</th><th>col35</th><th>col36</th><th>col37</th><th>col38</th><th>col39</th><th>col40</th><th>col41</th><th>col42</th><th>col43</th><th>col44</th><th>col45</th><th>col46</th><th>col47</th><th>col48</th><th>col49</th><th>col50</th><th>col51</th><th>col52</th><th>col53</th><th>col54</th><th>col55</th><th>col56</th><th>col57</th><th>col58</th><th>col59</th><th>col60</th><th>col61</th><th>col62</th><th>col63</th><th>col64</th><th>col65</th><th>col66</th><th>col67</th><th>col68</th><th>col69</th><th>col70</th><th>col71</th><th>col72</th><th>col73</th><th>col74</th><th>col75</th><th>col76</th><th>col77</th><th>col78</th><th>col79</th><th>col80</th><th>col81</th><th>col82</th><th>col83</th><th>col84</th><th>col85</th><th>col86</th><th>col87</th><th>col88</th><th>col89</th><th>col90</th><th>col91</th><th>col92</th><th>col93</th><th>col94</th><th>col95</th><th>col96</th><th>col97</th><th>col98</th><th>col99</th><th>col100</th><th>col101</th><th>col102</th><th>col103</th><th>col104</th><th>col105</th><th>col106</th><th>col107</th><th>col108</th><th>col109</th><th>col110</th><th>col111</th><th>col112</th><th>col113</th><th>col114</th><th>col115</th></tr></thead>\n",
       "<thead><tr><th>str11</th><th>str28</th><th>str11</th><th>str12</th><th>str9</th><th>str11</th><th>str11</th><th>str12</th><th>str11</th><th>str12</th><th>str14</th><th>str19</th><th>str12</th><th>str11</th><th>str12</th><th>str11</th><th>str12</th><th>str16</th><th>str12</th><th>str13</th><th>str17</th><th>str13</th><th>str14</th><th>str18</th><th>str19</th><th>str15</th><th>str20</th><th>str20</th><th>str25</th><th>str24</th><th>str18</th><th>str19</th><th>str24</th><th>str28</th><th>str25</th><th>str24</th><th>str21</th><th>str25</th><th>str31</th><th>str20</th><th>str32</th><th>str23</th><th>str23</th><th>str25</th><th>str20</th><th>str17</th><th>str12</th><th>str16</th><th>str22</th><th>str27</th><th>str15</th><th>str13</th><th>str17</th><th>str23</th><th>str28</th><th>str16</th><th>str13</th><th>str17</th><th>str23</th><th>str28</th><th>str16</th><th>str24</th><th>str14</th><th>str10</th><th>str12</th><th>str10</th><th>str15</th><th>str21</th><th>str14</th><th>str16</th><th>str16</th><th>str16</th><th>str18</th><th>str11</th><th>str12</th><th>str11</th><th>str12</th><th>str11</th><th>str9</th><th>str21</th><th>str21</th><th>str7</th><th>str20</th><th>str20</th><th>str15</th><th>str28</th><th>str28</th><th>str11</th><th>str10</th><th>str23</th><th>str23</th><th>str7</th><th>str20</th><th>str20</th><th>str77</th><th>str20</th><th>str12</th><th>str11</th><th>str11</th><th>str12</th><th>str12</th><th>str12</th><th>str5</th><th>str6</th><th>str8</th><th>str11</th><th>str8</th><th>str11</th><th>str11</th><th>str11</th><th>str11</th><th>str11</th><th>str13</th><th>str14</th><th>str15</th></tr></thead>\n",
       "<tr><td>solution_id</td><td>designation</td><td>source_id</td><td>random_index</td><td>ref_epoch</td><td>ra</td><td>ra_error</td><td>dec</td><td>dec_error</td><td>parallax</td><td>parallax_error</td><td>parallax_over_error</td><td>pmra</td><td>pmra_error</td><td>pmdec</td><td>pmdec_error</td><td>ra_dec_corr</td><td>ra_parallax_corr</td><td>ra_pmra_corr</td><td>ra_pmdec_corr</td><td>dec_parallax_corr</td><td>dec_pmra_corr</td><td>dec_pmdec_corr</td><td>parallax_pmra_corr</td><td>parallax_pmdec_corr</td><td>pmra_pmdec_corr</td><td>astrometric_n_obs_al</td><td>astrometric_n_obs_ac</td><td>astrometric_n_good_obs_al</td><td>astrometric_n_bad_obs_al</td><td>astrometric_gof_al</td><td>astrometric_chi2_al</td><td>astrometric_excess_noise</td><td>astrometric_excess_noise_sig</td><td>astrometric_params_solved</td><td>astrometric_primary_flag</td><td>astrometric_weight_al</td><td>astrometric_pseudo_colour</td><td>astrometric_pseudo_colour_error</td><td>mean_varpi_factor_al</td><td>astrometric_matched_observations</td><td>visibility_periods_used</td><td>astrometric_sigma5d_max</td><td>frame_rotator_object_type</td><td>matched_observations</td><td>duplicated_source</td><td>phot_g_n_obs</td><td>phot_g_mean_flux</td><td>phot_g_mean_flux_error</td><td>phot_g_mean_flux_over_error</td><td>phot_g_mean_mag</td><td>phot_bp_n_obs</td><td>phot_bp_mean_flux</td><td>phot_bp_mean_flux_error</td><td>phot_bp_mean_flux_over_error</td><td>phot_bp_mean_mag</td><td>phot_rp_n_obs</td><td>phot_rp_mean_flux</td><td>phot_rp_mean_flux_error</td><td>phot_rp_mean_flux_over_error</td><td>phot_rp_mean_mag</td><td>phot_bp_rp_excess_factor</td><td>phot_proc_mode</td><td>bp_rp</td><td>bp_g</td><td>g_rp</td><td>radial_velocity</td><td>radial_velocity_error</td><td>rv_nb_transits</td><td>rv_template_teff</td><td>rv_template_logg</td><td>rv_template_fe_h</td><td>phot_variable_flag</td><td>l</td><td>b</td><td>ecl_lon</td><td>ecl_lat</td><td>priam_flags</td><td>teff_val</td><td>teff_percentile_lower</td><td>teff_percentile_upper</td><td>a_g_val</td><td>a_g_percentile_lower</td><td>a_g_percentile_upper</td><td>e_bp_min_rp_val</td><td>e_bp_min_rp_percentile_lower</td><td>e_bp_min_rp_percentile_upper</td><td>flame_flags</td><td>radius_val</td><td>radius_percentile_lower</td><td>radius_percentile_upper</td><td>lum_val</td><td>lum_percentile_lower</td><td>lum_percentile_upper</td><td>datalink_url</td><td>epoch_photometry_url</td><td>ipta_wpm_oid</td><td>names</td><td>ra</td><td>dec</td><td>pmra</td><td>pmdec</td><td>dm</td><td>pepoch</td><td>posepoch</td><td>dmepoch</td><td>angdist</td><td>r_est</td><td>r_lo</td><td>r_hi</td><td>r_len</td><td>result_flag</td><td>modality_flag</td><td>angdist-arcsec</td><td>semimajor-axis</td></tr>\n",
       "<tr><td>1.63572E+18</td><td>Gaia DR2 4789864076732331648</td><td>4.78986E+18</td><td>526469615</td><td>2015.5</td><td>69.31660276</td><td>0.582326756</td><td>-47.25267778</td><td>0.738504992</td><td>8.325044168</td><td>0.677716044</td><td>12.283971</td><td>122.8637296</td><td>1.197017697</td><td>-71.16597382</td><td>1.669768175</td><td>-0.10719865</td><td>0.30817017</td><td>-0.13529737</td><td>0.3569604</td><td>0.24767695</td><td>0.4017074</td><td>-0.29011166</td><td>0.1647735</td><td>0.040686335</td><td>-0.48158062</td><td>168</td><td>0</td><td>167</td><td>1</td><td>0.30433777</td><td>166.8592</td><td>0</td><td>0</td><td>31</td><td>FALSE</td><td>0.03673703</td><td>1.676063374</td><td>0.183407835</td><td>-0.045911558</td><td>20</td><td>16</td><td>1.6285695</td><td>0</td><td>21</td><td>FALSE</td><td>178</td><td>129.2994962</td><td>1.076756097</td><td>120.082436</td><td>20.409374</td><td>16</td><td>54.59060883</td><td>6.523782872</td><td>8.367938</td><td>21.008593</td><td>21</td><td>132.0143904</td><td>8.906934103</td><td>14.82153</td><td>19.460367</td><td>1.4431998</td><td>0</td><td>1.5482254</td><td>0.59921837</td><td>0.94900703</td><td>--</td><td>--</td><td>0</td><td>--</td><td>--</td><td>--</td><td>NOT_AVAILABLE</td><td>253.3946297</td><td>-41.96313675</td><td>50.46873937</td><td>-67.87315632</td><td>--</td><td>--</td><td>--</td><td>--</td><td>--</td><td>--</td><td>--</td><td>--</td><td>--</td><td>--</td><td>--</td><td>--</td><td>--</td><td>--</td><td>--</td><td>--</td><td>--</td><td>http://geadata.esac.esa.int/data-server/datalink/links?ID=4789864076732331648</td><td>--</td><td>4</td><td>J0437-4715</td><td>69.31657736</td><td>-47.2526679</td><td>121.4399328</td><td>-71.47620158</td><td>54500</td><td>54500</td><td>54500</td><td>2.644571992</td><td>1.99E-05</td><td>121.0888862</td><td>111.651277</td><td>132.2388499</td><td>432.1387597</td><td>1</td><td>1</td><td>0.071544965</td><td>8.663300120</td></tr>\n",
       "<tr><td>1.63572E+18</td><td>Gaia DR2 3118031705827298944</td><td>3.11803E+18</td><td>6424306</td><td>2015.5</td><td>93.43331574</td><td>0.186888271</td><td>-2.01365863</td><td>0.205636474</td><td>0.396128074</td><td>0.061687662</td><td>6.421512</td><td>2.905784443</td><td>0.26507361</td><td>-0.181662086</td><td>0.286610859</td><td>-0.9670992</td><td>-0.23961647</td><td>-0.9257831</td><td>0.95349294</td><td>0.18968174</td><td>0.92788064</td><td>-0.95473754</td><td>0.38133207</td><td>-0.29350442</td><td>-0.9376909</td><td>104</td><td>0</td><td>104</td><td>0</td><td>0.41752025</td><td>104.30024</td><td>0</td><td>0</td><td>31</td><td>FALSE</td><td>12.953661</td><td>1.576024153</td><td>0.014244295</td><td>-0.36199448</td><td>12</td><td>8</td><td>0.46135277</td><td>0</td><td>12</td><td>FALSE</td><td>102</td><td>11048.67056</td><td>8.676794306</td><td>1273.3586</td><td>15.5800905</td><td>9</td><td>5273.891067</td><td>25.26952153</td><td>208.70561</td><td>16.04606</td><td>10</td><td>8490.202006</td><td>19.00603087</td><td>446.71094</td><td>14.939625</td><td>1.2457691</td><td>0</td><td>1.1064358</td><td>0.46597004</td><td>0.64046574</td><td>--</td><td>--</td><td>0</td><td>--</td><td>--</td><td>--</td><td>NOT_AVAILABLE</td><td>210.4135724</td><td>-9.305080884</td><td>93.79913227</td><td>-25.4076726</td><td>100001</td><td>5056.16</td><td>4914.065</td><td>5451.93</td><td>--</td><td>--</td><td>--</td><td>--</td><td>--</td><td>--</td><td>--</td><td>--</td><td>--</td><td>--</td><td>--</td><td>--</td><td>--</td><td>http://geadata.esac.esa.int/data-server/datalink/links?ID=3118031705827298944</td><td>--</td><td>6</td><td>J0613-0200</td><td>93.43323479</td><td>-2.013134067</td><td>1.827795953</td><td>-10.33855774</td><td>55000</td><td>55000</td><td>55000</td><td>38.77753445</td><td>5.31E-04</td><td>2339.408615</td><td>2030.771863</td><td>2751.512658</td><td>1034.325105</td><td>1</td><td>1</td><td>1.910748763</td><td>4470.022117150</td></tr>\n",
       "<tr><td>1.63572E+18</td><td>Gaia DR2 851610861391010944</td><td>8.51611E+17</td><td>485068612</td><td>2015.5</td><td>153.1393303</td><td>0.241174616</td><td>53.11726303</td><td>0.302546482</td><td>1.32587877</td><td>0.414193189</td><td>3.201112</td><td>2.976959985</td><td>0.526105044</td><td>-26.94384758</td><td>0.632023953</td><td>-0.051121693</td><td>-0.1265725</td><td>-0.012555726</td><td>-0.032410998</td><td>-0.15004773</td><td>-0.13468888</td><td>-0.17837633</td><td>0.31024233</td><td>-0.24576698</td><td>-0.045818694</td><td>280</td><td>0</td><td>279</td><td>1</td><td>-0.29873604</td><td>266.41125</td><td>0</td><td>0</td><td>31</td><td>FALSE</td><td>0.10640784</td><td>1.708211111</td><td>0.084535055</td><td>0.003723455</td><td>32</td><td>16</td><td>0.5659281</td><td>0</td><td>35</td><td>FALSE</td><td>297</td><td>266.1406803</td><td>1.03812713</td><td>256.36618</td><td>19.625587</td><td>29</td><td>187.6084261</td><td>8.60580432</td><td>21.80022</td><td>19.668257</td><td>27</td><td>140.3311522</td><td>8.210140545</td><td>17.092419</td><td>19.394035</td><td>1.2322038</td><td>0</td><td>0.27422142</td><td>0.042669296</td><td>0.23155212</td><td>--</td><td>--</td><td>0</td><td>--</td><td>--</td><td>--</td><td>NOT_AVAILABLE</td><td>160.347199</td><td>50.85785533</td><td>133.3611331</td><td>38.75528668</td><td>--</td><td>--</td><td>--</td><td>--</td><td>--</td><td>--</td><td>--</td><td>--</td><td>--</td><td>--</td><td>--</td><td>--</td><td>--</td><td>--</td><td>--</td><td>--</td><td>--</td><td>http://geadata.esac.esa.int/data-server/datalink/links?ID=851610861391010944</td><td>--</td><td>11</td><td>J1012+5307</td><td>153.1393298</td><td>53.11726643</td><td>2.623712256</td><td>-25.45880892</td><td>55000</td><td>55000</td><td>55000</td><td>9.021803951</td><td>3.42E-06</td><td>734.4002117</td><td>549.3214144</td><td>1064.064939</td><td>357.5835102</td><td>1</td><td>1</td><td>0.012314592</td><td>9.043839262</td></tr>\n",
       "<tr><td>1.63572E+18</td><td>Gaia DR2 3775277872387310208</td><td>3.77528E+18</td><td>1140194975</td><td>2015.5</td><td>156.1610927</td><td>0.42985265</td><td>-7.322165289</td><td>0.392656637</td><td>0.528769548</td><td>0.425861846</td><td>1.2416457</td><td>-35.51929892</td><td>0.640337686</td><td>-47.93231066</td><td>0.659436543</td><td>-0.50286084</td><td>-0.66600096</td><td>-0.37353334</td><td>0.6126496</td><td>0.34525913</td><td>0.4762211</td><td>-0.65910816</td><td>0.31274474</td><td>-0.4774567</td><td>-0.307661</td><td>112</td><td>0</td><td>112</td><td>0</td><td>0.2379299</td><td>109.83869</td><td>0.20671447</td><td>0.07067352</td><td>31</td><td>FALSE</td><td>0.23592898</td><td>1.504766807</td><td>0.107864432</td><td>-0.109314986</td><td>13</td><td>8</td><td>0.7996634</td><td>0</td><td>15</td><td>FALSE</td><td>128</td><td>399.888251</td><td>1.527378998</td><td>261.8134</td><td>19.18352</td><td>14</td><td>122.1293379</td><td>10.52880298</td><td>11.599546</td><td>20.134338</td><td>14</td><td>384.4908701</td><td>8.831168117</td><td>43.53794</td><td>18.299706</td><td>1.2669045</td><td>0</td><td>1.8346329</td><td>0.950819</td><td>0.88381386</td><td>--</td><td>--</td><td>0</td><td>--</td><td>--</td><td>--</td><td>NOT_AVAILABLE</td><td>251.7016041</td><td>40.51538713</td><td>160.7343677</td><td>-16.04478101</td><td>--</td><td>--</td><td>--</td><td>--</td><td>--</td><td>--</td><td>--</td><td>--</td><td>--</td><td>--</td><td>--</td><td>--</td><td>--</td><td>--</td><td>--</td><td>--</td><td>--</td><td>http://geadata.esac.esa.int/data-server/datalink/links?ID=3775277872387310208</td><td>--</td><td>13</td><td>J1024-0719</td><td>156.1610927</td><td>-7.32213921</td><td>-35.3049269</td><td>-48.24394017</td><td>55000</td><td>55000</td><td>55000</td><td>6.486302523</td><td>2.61E-05</td><td>1272.432446</td><td>874.8160973</td><td>1954.594355</td><td>425.7673993</td><td>1</td><td>1</td><td>0.093882120</td><td>119.458655081</td></tr>\n",
       "<tr><td>1.63572E+18</td><td>Gaia DR2 5946288492263176704</td><td>5.94629E+18</td><td>446446546</td><td>2015.5</td><td>263.200006</td><td>2.168898313</td><td>-50.8166163</td><td>2.010098257</td><td>-1.183706877</td><td>2.844437175</td><td>-0.416148</td><td>-0.031849016</td><td>2.962724629</td><td>-10.483062</td><td>2.749171195</td><td>-0.4125646</td><td>-0.6542522</td><td>-0.5922476</td><td>0.15304743</td><td>0.5238898</td><td>0.20175713</td><td>-0.66204494</td><td>0.18435487</td><td>-0.09573718</td><td>-0.1065908</td><td>55</td><td>0</td><td>55</td><td>0</td><td>0.18056597</td><td>51.147663</td><td>0.599763119</td><td>0.049707584</td><td>31</td><td>FALSE</td><td>0.02447365</td><td>2.168830286</td><td>0.547992547</td><td>0.02131909</td><td>7</td><td>7</td><td>3.4817646</td><td>0</td><td>8</td><td>FALSE</td><td>64</td><td>82.92586752</td><td>1.076505205</td><td>77.03248</td><td>20.891642</td><td>7</td><td>57.46244025</td><td>14.42900949</td><td>3.9824245</td><td>20.952929</td><td>6</td><td>86.40010825</td><td>10.68179207</td><td>8.08854</td><td>19.920635</td><td>1.7348332</td><td>0</td><td>1.0322933</td><td>0.061286926</td><td>0.9710064</td><td>--</td><td>--</td><td>0</td><td>--</td><td>--</td><td>--</td><td>NOT_AVAILABLE</td><td>340.0291817</td><td>-9.454946469</td><td>265.1624689</td><td>-27.49146228</td><td>--</td><td>--</td><td>--</td><td>--</td><td>--</td><td>--</td><td>--</td><td>--</td><td>--</td><td>--</td><td>--</td><td>--</td><td>--</td><td>--</td><td>--</td><td>--</td><td>--</td><td>http://geadata.esac.esa.int/data-server/datalink/links?ID=5946288492263176704</td><td>--</td><td>23</td><td>J1732-5049</td><td>263.1990267</td><td>-50.81673894</td><td>-0.4321012</td><td>-9.909960846</td><td>54500</td><td>54500</td><td>54500</td><td>56.83615951</td><td>6.31E-04</td><td>3979.908095</td><td>1744.214557</td><td>7637.685524</td><td>1947.438885</td><td>1</td><td>1</td><td>2.270711328</td><td>9037.222395456</td></tr>\n",
       "</table>"
      ],
      "text/plain": [
       "<Table masked=True length=6>\n",
       "    col1                col2             ...     col114         col115    \n",
       "   str11               str28             ...     str14          str15     \n",
       "----------- ---------------------------- ... -------------- --------------\n",
       "solution_id                  designation ... angdist-arcsec semimajor-axis\n",
       "1.63572E+18 Gaia DR2 4789864076732331648 ...    0.071544965    8.663300120\n",
       "1.63572E+18 Gaia DR2 3118031705827298944 ...    1.910748763 4470.022117150\n",
       "1.63572E+18  Gaia DR2 851610861391010944 ...    0.012314592    9.043839262\n",
       "1.63572E+18 Gaia DR2 3775277872387310208 ...    0.093882120  119.458655081\n",
       "1.63572E+18 Gaia DR2 5946288492263176704 ...    2.270711328 9037.222395456"
      ]
     },
     "execution_count": 19,
     "metadata": {},
     "output_type": "execute_result"
    }
   ],
   "source": [
    "ra_lst"
   ]
  },
  {
   "cell_type": "markdown",
   "metadata": {},
   "source": [
    "# J1955+2908"
   ]
  },
  {
   "cell_type": "code",
   "execution_count": null,
   "metadata": {
    "collapsed": true
   },
   "outputs": [],
   "source": [
    "# GAIA theta = 0.153068\n",
    "# dist = 1739.64867812642"
   ]
  },
  {
   "cell_type": "code",
   "execution_count": 27,
   "metadata": {},
   "outputs": [
    {
     "data": {
      "text/plain": [
       "410.9708089310105"
      ]
     },
     "execution_count": 27,
     "metadata": {},
     "output_type": "execute_result"
    }
   ],
   "source": [
    "semi_a(0.116353,3.532103245563161*1000) # size of semimajor axis in AU based on pulsar distance (DM) and theta from GAIA"
   ]
  },
  {
   "cell_type": "code",
   "execution_count": 17,
   "metadata": {},
   "outputs": [
    {
     "data": {
      "text/plain": [
       "0.5359437727573382"
      ]
     },
     "execution_count": 17,
     "metadata": {},
     "output_type": "execute_result"
    }
   ],
   "source": [
    "kep_a(117,1.5)"
   ]
  },
  {
   "cell_type": "code",
   "execution_count": 20,
   "metadata": {
    "collapsed": true
   },
   "outputs": [],
   "source": [
    "# parallax and error are 0.6034, 0.1942\n",
    "d_est = 1/0.6034"
   ]
  },
  {
   "cell_type": "code",
   "execution_count": 21,
   "metadata": {
    "collapsed": true
   },
   "outputs": [],
   "source": [
    "sigma_d = (1/0.1942)/d_est**2 "
   ]
  },
  {
   "cell_type": "code",
   "execution_count": 24,
   "metadata": {},
   "outputs": [
    {
     "data": {
      "text/plain": [
       "1.87482780638517"
      ]
     },
     "execution_count": 24,
     "metadata": {},
     "output_type": "execute_result"
    }
   ],
   "source": [
    "sigma_d "
   ]
  },
  {
   "cell_type": "code",
   "execution_count": 26,
   "metadata": {},
   "outputs": [
    {
     "data": {
      "text/plain": [
       "3.532103245563161"
      ]
     },
     "execution_count": 26,
     "metadata": {},
     "output_type": "execute_result"
    }
   ],
   "source": [
    "d_est + sigma_d"
   ]
  },
  {
   "cell_type": "markdown",
   "metadata": {},
   "source": [
    "# J1012+5307"
   ]
  },
  {
   "cell_type": "code",
   "execution_count": null,
   "metadata": {
    "collapsed": true
   },
   "outputs": [],
   "source": [
    "semi_a(0.071544965,0.734400211678976)"
   ]
  },
  {
   "cell_type": "code",
   "execution_count": null,
   "metadata": {
    "collapsed": true
   },
   "outputs": [],
   "source": [
    "kep_a(0.6,1.5)"
   ]
  },
  {
   "cell_type": "markdown",
   "metadata": {},
   "source": [
    "# J0437-4715"
   ]
  },
  {
   "cell_type": "code",
   "execution_count": null,
   "metadata": {
    "collapsed": true
   },
   "outputs": [],
   "source": [
    "semi_a(0.071544965,0.121088886192142)"
   ]
  },
  {
   "cell_type": "code",
   "execution_count": null,
   "metadata": {
    "collapsed": true
   },
   "outputs": [],
   "source": [
    "kep_a(5.7,1.5)"
   ]
  },
  {
   "cell_type": "code",
   "execution_count": null,
   "metadata": {
    "collapsed": true
   },
   "outputs": [],
   "source": []
  },
  {
   "cell_type": "markdown",
   "metadata": {},
   "source": [
    "# J1744-1134"
   ]
  },
  {
   "cell_type": "code",
   "execution_count": null,
   "metadata": {
    "collapsed": true
   },
   "outputs": [],
   "source": [
    "semi_a(1.971,3.18833137078074) "
   ]
  },
  {
   "cell_type": "code",
   "execution_count": null,
   "metadata": {
    "collapsed": true
   },
   "outputs": [],
   "source": [
    "kep_P(6,1.6) # days"
   ]
  },
  {
   "cell_type": "code",
   "execution_count": null,
   "metadata": {
    "collapsed": true
   },
   "outputs": [],
   "source": [
    "kep_P(6,1.6)/365 # years"
   ]
  },
  {
   "cell_type": "code",
   "execution_count": null,
   "metadata": {
    "collapsed": true
   },
   "outputs": [],
   "source": [
    "# Could be in a 4,000 day orbit."
   ]
  },
  {
   "cell_type": "markdown",
   "metadata": {},
   "source": [
    "# J1843-1113"
   ]
  },
  {
   "cell_type": "code",
   "execution_count": null,
   "metadata": {
    "collapsed": true
   },
   "outputs": [],
   "source": [
    "t2 = semi_a(1.485199,2.84349320264736)"
   ]
  },
  {
   "cell_type": "code",
   "execution_count": null,
   "metadata": {
    "collapsed": true
   },
   "outputs": [],
   "source": [
    "t2"
   ]
  },
  {
   "cell_type": "code",
   "execution_count": null,
   "metadata": {
    "collapsed": true
   },
   "outputs": [],
   "source": [
    "kep_P(t2,1.6) # days "
   ]
  },
  {
   "cell_type": "code",
   "execution_count": null,
   "metadata": {
    "collapsed": true
   },
   "outputs": [],
   "source": [
    "kep_P(t2,1.6)/365 # years"
   ]
  },
  {
   "cell_type": "code",
   "execution_count": null,
   "metadata": {
    "collapsed": true
   },
   "outputs": [],
   "source": [
    "# Could be in a 2,500 day orbit. Need to follow up with GAIA data parallax measurements"
   ]
  },
  {
   "cell_type": "markdown",
   "metadata": {},
   "source": [
    "# J1939+2134"
   ]
  },
  {
   "cell_type": "code",
   "execution_count": null,
   "metadata": {
    "collapsed": true
   },
   "outputs": [],
   "source": [
    "t1939 = semi_a(2.138534,4.77262010957524)"
   ]
  },
  {
   "cell_type": "code",
   "execution_count": null,
   "metadata": {
    "collapsed": true
   },
   "outputs": [],
   "source": [
    "kep_P(t1939,1.6) # days"
   ]
  },
  {
   "cell_type": "code",
   "execution_count": null,
   "metadata": {
    "collapsed": true
   },
   "outputs": [],
   "source": [
    "kep_P(t1939,1.6)/365 # years"
   ]
  },
  {
   "cell_type": "markdown",
   "metadata": {},
   "source": [
    "# J1910+1256"
   ]
  },
  {
   "cell_type": "code",
   "execution_count": null,
   "metadata": {
    "collapsed": true
   },
   "outputs": [],
   "source": [
    "t1910 = semi_a(2.138534/7218, 4.77262010957524)"
   ]
  },
  {
   "cell_type": "code",
   "execution_count": null,
   "metadata": {
    "collapsed": true
   },
   "outputs": [],
   "source": [
    "kep_a(t1910,1.5)"
   ]
  },
  {
   "cell_type": "code",
   "execution_count": null,
   "metadata": {
    "collapsed": true
   },
   "outputs": [],
   "source": [
    "t1910"
   ]
  },
  {
   "cell_type": "code",
   "execution_count": null,
   "metadata": {
    "collapsed": true
   },
   "outputs": [],
   "source": [
    "# So if I need to divide 1910 by 7200, and 1955 by 412, what is correct for 1910??"
   ]
  },
  {
   "cell_type": "code",
   "execution_count": null,
   "metadata": {
    "collapsed": true
   },
   "outputs": [],
   "source": [
    "# Could be in ~1,000 - 30,000 year orbit or longer"
   ]
  },
  {
   "cell_type": "code",
   "execution_count": null,
   "metadata": {
    "collapsed": true
   },
   "outputs": [],
   "source": []
  }
 ],
 "metadata": {
  "kernelspec": {
   "display_name": "Python 2",
   "language": "python",
   "name": "python2"
  },
  "language_info": {
   "codemirror_mode": {
    "name": "ipython",
    "version": 2
   },
   "file_extension": ".py",
   "mimetype": "text/x-python",
   "name": "python",
   "nbconvert_exporter": "python",
   "pygments_lexer": "ipython2",
   "version": "2.7.13"
  }
 },
 "nbformat": 4,
 "nbformat_minor": 2
}
