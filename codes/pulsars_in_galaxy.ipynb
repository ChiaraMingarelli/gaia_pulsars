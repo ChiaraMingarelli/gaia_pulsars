{
 "cells": [
  {
   "cell_type": "code",
   "execution_count": null,
   "metadata": {
    "collapsed": true
   },
   "outputs": [],
   "source": []
  },
  {
   "cell_type": "code",
   "execution_count": 1,
   "metadata": {
    "collapsed": true
   },
   "outputs": [],
   "source": [
    "from __future__ import division\n",
    "from IPython.display import display, Math, Latex\n",
    "from math import sin, cos\n",
    "import numpy as np\n",
    "import matplotlib.pyplot as plt\n",
    "from matplotlib.ticker import FormatStrFormatter, LinearLocator, NullFormatter, NullLocator, MultipleLocator\n",
    "import matplotlib.ticker\n",
    "import matplotlib.colors\n",
    "from matplotlib.font_manager import FontProperties\n",
    "from matplotlib import rc, text\n",
    "import healpy as hp\n",
    "from scipy.stats import norm\n",
    "\n",
    "%matplotlib inline\n",
    "%config InlineBackend.figure_format = \"retina\""
   ]
  },
  {
   "cell_type": "code",
   "execution_count": 2,
   "metadata": {
    "collapsed": true
   },
   "outputs": [],
   "source": [
    "c=2.99792458*(10**8)\n",
    "G=6.67428*(10**(-11))\n",
    "s_mass=G*(1.98892*10**(30))/(c**3)\n",
    "\n",
    "# common function shortcuts\n",
    "log10 = np.log10\n",
    "pi = np.pi\n",
    "sqrt = np.sqrt\n",
    "\n",
    "\n"
   ]
  },
  {
   "cell_type": "code",
   "execution_count": 3,
   "metadata": {},
   "outputs": [
    {
     "data": {
      "text/plain": [
       "298.8661476721328"
      ]
     },
     "execution_count": 3,
     "metadata": {},
     "output_type": "execute_result"
    }
   ],
   "source": [
    "# list of RA values returned from x-match\n",
    "ra_vals = \n",
    "69.3164670790048\n",
    "93.43323479210069\n",
    "153.13932707788018\n",
    "156.1610930968198\n",
    "263.19902717881047\n",
    "266.1225603487001\n",
    "271.0880583354696\n",
    "271.0880583354696\n",
    "276.1333650767712\n",
    "276.1333650767712\n",
    "276.1333650767712\n",
    "280.9219217726489\n",
    "283.4888257439571\n",
    "287.5404229805687\n",
    "287.5404229805687\n",
    "287.5404229805687\n",
    "294.91067185002714\n",
    "298.8661476721328\n"
   ]
  },
  {
   "cell_type": "code",
   "execution_count": 4,
   "metadata": {},
   "outputs": [
    {
     "data": {
      "text/plain": [
       "29.14539910908471"
      ]
     },
     "execution_count": 4,
     "metadata": {},
     "output_type": "execute_result"
    }
   ],
   "source": [
    "#dec values\n",
    "-47.252667899419315\n",
    "-2.013134067189237\n",
    "53.117266431112\n",
    "-7.322139210377023\n",
    "-50.81673893722825\n",
    "-11.581873959021886\n",
    "-27.29207192105906\n",
    "-27.29207192105906\n",
    "-24.86967595339838\n",
    "-24.86967595339838\n",
    "-24.86967595339838\n",
    "-11.22530258844189\n",
    "13.062236957426391\n",
    "12.94040243356994\n",
    "12.94040243356994\n",
    "12.94040243356994\n",
    "21.583089834793128\n",
    "29.14539910908471"
   ]
  },
  {
   "cell_type": "code",
   "execution_count": null,
   "metadata": {
    "collapsed": true
   },
   "outputs": [],
   "source": [
    "# pulsar names\n",
    "J0437-4715\n",
    "J0613-0200\n",
    "J1012+5307\n",
    "J1024-0719\n",
    "J1732-5049\n",
    "J1744-1134\n",
    "J1804-2717\n",
    "J1804-2717\n",
    "J1824-2452A\n",
    "J1824-2452A\n",
    "J1824-2452A\n",
    "J1843-1113\n",
    "J1853+1303\n",
    "J1910+1256\n",
    "J1910+1256\n",
    "J1910+1256\n",
    "J1939+2134\n",
    "J1955+2908"
   ]
  }
 ],
 "metadata": {
  "kernelspec": {
   "display_name": "Python 2",
   "language": "python",
   "name": "python2"
  },
  "language_info": {
   "codemirror_mode": {
    "name": "ipython",
    "version": 2
   },
   "file_extension": ".py",
   "mimetype": "text/x-python",
   "name": "python",
   "nbconvert_exporter": "python",
   "pygments_lexer": "ipython2",
   "version": "2.7.13"
  }
 },
 "nbformat": 4,
 "nbformat_minor": 2
}
