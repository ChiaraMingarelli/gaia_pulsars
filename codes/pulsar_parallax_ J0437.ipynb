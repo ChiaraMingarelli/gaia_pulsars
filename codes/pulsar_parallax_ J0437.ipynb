{
 "cells": [
  {
   "cell_type": "code",
   "execution_count": 77,
   "metadata": {},
   "outputs": [],
   "source": [
    "from __future__ import division\n",
    "from IPython.display import display, Math, Latex\n",
    "from math import sin, cos\n",
    "import numpy as np\n",
    "import matplotlib.pyplot as plt\n",
    "from matplotlib.ticker import FormatStrFormatter, LinearLocator, NullFormatter, NullLocator, MultipleLocator\n",
    "import matplotlib.ticker\n",
    "import matplotlib.colors\n",
    "from matplotlib.font_manager import FontProperties\n",
    "from matplotlib import rc, text\n",
    "from scipy.stats import norm\n",
    "import scipy as sp\n",
    "from scipy.integrate import simps\n",
    "from numpy import trapz\n",
    "from scipy.optimize import curve_fit\n",
    "%matplotlib inline\n",
    "%config InlineBackend.figure_format = \"retina\""
   ]
  },
  {
   "cell_type": "code",
   "execution_count": 78,
   "metadata": {},
   "outputs": [],
   "source": [
    "c=2.99792458*(10**8)\n",
    "G=6.67428*(10**(-11))\n",
    "s_mass=G*(1.98892*10**(30))/(c**3)\n",
    "\n",
    "# common function shortcuts\n",
    "log10 = np.log10\n",
    "pi = np.pi\n",
    "sqrt = np.sqrt"
   ]
  },
  {
   "cell_type": "code",
   "execution_count": 79,
   "metadata": {},
   "outputs": [],
   "source": [
    "# pulasrs     (has binary params in par files, X is yes)\n",
    "#J0437-4715      X\n",
    "#J1012+5307      X\n",
    "#J1024-0719      X\n",
    "#J1732-5049      X  \n",
    "#J1910+1256      X \n",
    "#J1955+2908      X"
   ]
  },
  {
   "cell_type": "code",
   "execution_count": 80,
   "metadata": {},
   "outputs": [],
   "source": [
    "wzp = -0.029 # Quasar Correction; defined in Bailor-Jones but computed in Lindegren et al. 2018"
   ]
  },
  {
   "cell_type": "code",
   "execution_count": 81,
   "metadata": {},
   "outputs": [],
   "source": [
    "# Posterior PDF from Bailor-Jones et al.\n",
    "\n",
    "def pOfR(r, px, dpx, Lsph):\n",
    "    \"\"\"\n",
    "    This is Equation 2 in Bailer-Jones et al. 2018.\n",
    "    NB, r > 0\n",
    "    Here, input r in pc's.\n",
    "    \"\"\"\n",
    "    r = r/1000. #convert pc to kpc\n",
    "    #px = px + 0.029 #Quasar correction already accounted for \n",
    "    exponent = -r/Lsph - (px-wzp-1/r)**2/(2*dpx**2)\n",
    "    ans = r**2*np.exp(exponent)\n",
    "    return ans\n",
    "\n",
    "def gaussian(x, mu, sig):\n",
    "    \"\"\"\n",
    "    a gaussian function\n",
    "    \"\"\"\n",
    "    x = x/1000\n",
    "    ans = np.exp(-np.power(x - mu, 2.) / (2 * np.power(sig, 2.)))\n",
    "    return ans"
   ]
  },
  {
   "cell_type": "code",
   "execution_count": 82,
   "metadata": {},
   "outputs": [],
   "source": [
    "# plotting preamble\n",
    "\n",
    "fig_width_pt = 245.27 #513.17           # Get this from LaTeX using \\showthe\\columnwidth\n",
    "inches_per_pt = 1.0/72.27               # Convert pt to inches\n",
    "golden_mean = (np.sqrt(5)-1.0)/2.0      # Aesthetic ratio\n",
    "fig_width = fig_width_pt*inches_per_pt  # width in inches\n",
    "fig_height =fig_width*golden_mean       # height in inches\n",
    "fig_size = [fig_width,fig_height]\n",
    "\n",
    "params = {'backend': 'pdf',\n",
    "        'axes.labelsize': 7,\n",
    "        'lines.markersize': 2,\n",
    "        'font.size': 7,\n",
    "        'xtick.major.size':6,\n",
    "        'xtick.minor.size':3,  \n",
    "        'ytick.major.size':6,\n",
    "        'ytick.minor.size':3, \n",
    "        'xtick.major.width':0.5,\n",
    "        'ytick.major.width':0.5,\n",
    "        'xtick.minor.width':0.5,\n",
    "        'ytick.minor.width':0.5,\n",
    "        'lines.markeredgewidth':1,\n",
    "        'axes.linewidth':1.0,\n",
    "        'legend.fontsize': 7,\n",
    "        'xtick.labelsize': 7,\n",
    "        'ytick.labelsize': 7,\n",
    "        'savefig.dpi':200,\n",
    "        'path.simplify':True,\n",
    "        #'font.family': 'serif',\n",
    "        'font.serif':'Times',\n",
    "        'text.latex.preamble': [r'\\usepackage{amsmath}'],\n",
    "        'text.usetex':True,\n",
    "        #'axes.color_cycle': ['b', 'lime', 'r', 'purple', 'g', 'c', 'm', 'orange', 'darkblue', \\\n",
    "        #                        'darkcyan', 'y','orangered','chartreuse','brown','deeppink','lightgreen', 'k'],\n",
    "        #'font.serif':cm,\n",
    "        'figure.figsize': fig_size}\n",
    "plt.rcParams.update(params)"
   ]
  },
  {
   "cell_type": "markdown",
   "metadata": {},
   "source": [
    "# J0437-4715 parallax measurements"
   ]
  },
  {
   "cell_type": "code",
   "execution_count": 83,
   "metadata": {},
   "outputs": [],
   "source": [
    "# Deller et al. 2008\n",
    "pxD08 = 6.396 \n",
    "pxD08err = 0.054"
   ]
  },
  {
   "cell_type": "code",
   "execution_count": 84,
   "metadata": {},
   "outputs": [],
   "source": [
    "# Verbiest et al. timing values, should use straight D_k values.\n",
    "pxV08 = 6.65   \n",
    "pxV08err = 0.51"
   ]
  },
  {
   "cell_type": "code",
   "execution_count": 85,
   "metadata": {},
   "outputs": [],
   "source": [
    "# Dk (pc) from PPTA, Reardon et al. 2016\n",
    "R16 = 156.79\n",
    "R16err = 0.25"
   ]
  },
  {
   "cell_type": "code",
   "execution_count": 86,
   "metadata": {},
   "outputs": [],
   "source": [
    "# Gaia parallax\n",
    "pxGDR2 = 8.325 - wzp\n",
    "pxGDR2err = 0.6777"
   ]
  },
  {
   "cell_type": "code",
   "execution_count": 87,
   "metadata": {},
   "outputs": [
    {
     "data": {
      "text/plain": [
       "8.354"
      ]
     },
     "execution_count": 87,
     "metadata": {},
     "output_type": "execute_result"
    }
   ],
   "source": [
    "pxGDR2 "
   ]
  },
  {
   "cell_type": "code",
   "execution_count": 88,
   "metadata": {},
   "outputs": [],
   "source": [
    "pxmax = 5\n",
    "pxmin = 11\n",
    "gx = np.linspace(pxmax, pxmin, 1000)"
   ]
  },
  {
   "cell_type": "code",
   "execution_count": 89,
   "metadata": {},
   "outputs": [],
   "source": [
    "dx = np.linspace(1000/pxmin, 1000/pxmax,1000)"
   ]
  },
  {
   "cell_type": "code",
   "execution_count": 90,
   "metadata": {},
   "outputs": [],
   "source": [
    "valGDR2 = []\n",
    "valD08 = []\n",
    "valR16 = []\n",
    "\n",
    "# Gaia\n",
    "for xx in gx:\n",
    "    valGDR2.append(sp.stats.norm.pdf(xx, pxGDR2, pxGDR2err))\n",
    "\n",
    "# D08\n",
    "for yy in dx:\n",
    "    valD08.append(sp.stats.norm.pdf(yy, 156.3, 1.3))\n",
    "\n",
    "# R16, Pb_dot binary orbital period distance estimator\n",
    "for zz in dx:\n",
    "    valR16.append(sp.stats.norm.pdf(zz, R16, R16err))"
   ]
  },
  {
   "cell_type": "code",
   "execution_count": 91,
   "metadata": {},
   "outputs": [],
   "source": [
    "areaT = trapz(valD08, dx) # are curves really normalized to 1?\n",
    "\n",
    "areaS = simps(valGDR2, dx)"
   ]
  },
  {
   "cell_type": "code",
   "execution_count": 92,
   "metadata": {},
   "outputs": [
    {
     "data": {
      "text/plain": [
       "18.18095262069972"
      ]
     },
     "execution_count": 92,
     "metadata": {},
     "output_type": "execute_result"
    }
   ],
   "source": [
    "areaS"
   ]
  },
  {
   "cell_type": "code",
   "execution_count": 93,
   "metadata": {},
   "outputs": [],
   "source": [
    "# parallax distance measurement from VLBI observations\n",
    "d_pi_PTA_0437 = 156.3 \n",
    "eplus_pi_PTA_0437 = 1.3   # error on this\n",
    "eminus_pi_PTA_0437 = 1.3   # error on this\n",
    "\n",
    "# dispersion measure distance from NE 2001, https://www.nrl.navy.mil/rsd/RORF/ne2001/pulsar.cgi\n",
    "d_DM_NE = 139\n",
    "eplus_DM_NE = 33\n",
    "eminus_DM_NE = 29\n",
    "\n",
    "# YMW 16 DM model, http://www.atnf.csiro.au/research/pulsar/ymw16/\n",
    "d_DM_YMW = 156.1 # no errors reported here..."
   ]
  },
  {
   "cell_type": "code",
   "execution_count": 94,
   "metadata": {},
   "outputs": [],
   "source": [
    "x1 = d_pi_PTA_0437\n",
    "dx1p = x1 + eplus_pi_PTA_0437\n",
    "dx1m = x1 - eminus_pi_PTA_0437"
   ]
  },
  {
   "cell_type": "code",
   "execution_count": 95,
   "metadata": {},
   "outputs": [
    {
     "data": {
      "text/plain": [
       "1.581723257736576"
      ]
     },
     "execution_count": 95,
     "metadata": {},
     "output_type": "execute_result"
    }
   ],
   "source": [
    "np.max(valR16)"
   ]
  },
  {
   "cell_type": "code",
   "execution_count": 96,
   "metadata": {},
   "outputs": [
    {
     "data": {
      "text/plain": [
       "[<matplotlib.lines.Line2D at 0x1a1f3814e0>]"
      ]
     },
     "execution_count": 96,
     "metadata": {},
     "output_type": "execute_result"
    },
    {
     "data": {
      "image/png": "[encoded data removed]",
      "text/plain": [
       "<Figure size 244.354x151.019 with 1 Axes>"
      ]
     },
     "metadata": {
      "image/png": {
       "height": 147,
       "width": 232
      }
     },
     "output_type": "display_data"
    }
   ],
   "source": [
    "plt.plot(1/gx*1000, np.array(valGDR2)/areaS, label = \"Gaia\", color = \"C2\", linestyle='dashed')\n",
    "\n"
   ]
  },
  {
   "cell_type": "code",
   "execution_count": 97,
   "metadata": {},
   "outputs": [
    {
     "data": {
      "text/plain": [
       "<matplotlib.legend.Legend at 0x1a1f34e5c0>"
      ]
     },
     "execution_count": 97,
     "metadata": {},
     "output_type": "execute_result"
    },
    {
     "data": {
      "image/png": "[encoded data removed]",
      "text/plain": [
       "<Figure size 244.354x151.019 with 1 Axes>"
      ]
     },
     "metadata": {
      "image/png": {
       "height": 148,
       "width": 239
      }
     },
     "output_type": "display_data"
    }
   ],
   "source": [
    "fig, ax1 = plt.subplots()\n",
    "#plt.plot(dx, np.array(valR16), label = r\"$D_K$\", color = \"C4\", linestyle='-.')\n",
    "plt.axvline(156.79, label = r\"$D_K$\", color = \"C4\", linestyle='-.') \n",
    "ax1.axvspan(156.79-.25, 156.79+.25, alpha=0.3, color = \"C4\")\n",
    "\n",
    "\n",
    "\n",
    "plt.plot(dx, np.array(valD08), label = \"VLBI\", color = \"C3\", linestyle ='-.')\n",
    "plt.plot(dx, np.array(valGDR2)/areaS, label = \"Gaia\", color = \"C2\", linestyle='dashed')\n",
    "\n",
    "# DM NE 2001 model\n",
    "ax1.axvspan(d_DM_NE - eminus_DM_NE, d_DM_NE+ eplus_DM_NE, alpha=0.3, color = \"C0\", label = \"NE 2001\")\n",
    "plt.axvline(d_DM_NE, ymin=0, ymax=1, color = \"C0\", linestyle =':')\n",
    "\n",
    "# DM YMW16 model\n",
    "ax1.axvspan(d_DM_YMW*.8, d_DM_YMW*1.2, alpha=0.35, color = \"C1\", label = \"YMW 16\")\n",
    "#plt.axvline(d_DM_YMW, ymin=0, ymax=1, color = \"C1\", linestyle =':')\n",
    "\n",
    "plt.xlim(105, 190)\n",
    "plt.yticks([])\n",
    "plt.xlabel(\"Distance (pc)\")\n",
    "plt.tight_layout()\n",
    "plt.legend()\n",
    "#plt.savefig(\"normedDist_0437_final.pdf\")"
   ]
  },
  {
   "cell_type": "code",
   "execution_count": 111,
   "metadata": {},
   "outputs": [],
   "source": [
    "testingPI = np.array(valD08)*np.array(valR16) #gaia data has no effect here\n",
    "#testingPI = np.array(valD08)*np.array(valR16)*np.array(valGDR2) #gaia data has no effect here\n",
    "\n",
    "\n",
    "#testingPI = np.array(valGDR2) #gaia data has no effect here"
   ]
  },
  {
   "cell_type": "code",
   "execution_count": 112,
   "metadata": {},
   "outputs": [],
   "source": [
    "normPI = simps(testingPI, dx)"
   ]
  },
  {
   "cell_type": "code",
   "execution_count": 113,
   "metadata": {},
   "outputs": [
    {
     "data": {
      "text/plain": [
       "0.28140444371635875"
      ]
     },
     "execution_count": 113,
     "metadata": {},
     "output_type": "execute_result"
    }
   ],
   "source": [
    "normPI"
   ]
  },
  {
   "cell_type": "code",
   "execution_count": 114,
   "metadata": {},
   "outputs": [],
   "source": [
    "normedPInew = np.array(testingPI)/normPI"
   ]
  },
  {
   "cell_type": "code",
   "execution_count": 115,
   "metadata": {},
   "outputs": [
    {
     "data": {
      "text/plain": [
       "<matplotlib.legend.Legend at 0x1a1f7ed908>"
      ]
     },
     "execution_count": 115,
     "metadata": {},
     "output_type": "execute_result"
    },
    {
     "data": {
      "image/png": "[encoded data removed]",
      "text/plain": [
       "<Figure size 244.354x151.019 with 1 Axes>"
      ]
     },
     "metadata": {
      "image/png": {
       "height": 148,
       "width": 237
      }
     },
     "output_type": "display_data"
    }
   ],
   "source": [
    "fig, ax1 = plt.subplots()\n",
    "plt.plot(dx, normedPInew, label = \"combined\", color = \"C4\", linestyle='solid')\n",
    "\n",
    "\n",
    "plt.plot(dx, np.array(valD08),label = \"VLBI\", color = \"C3\", linestyle ='-.')\n",
    "#plt.plot(dx, np.array(valR16), label = r\"$D_K$\", color = \"C1\", linestyle='-.')\n",
    "\n",
    "#plt.yticks([])\n",
    "#plt.xlim(150,160)\n",
    "plt.xlabel(\"Distance (pc)\")\n",
    "plt.tight_layout()\n",
    "plt.legend()"
   ]
  },
  {
   "cell_type": "code",
   "execution_count": 116,
   "metadata": {},
   "outputs": [],
   "source": [
    "newx = (dx/1000)\n",
    "newy = (normedPInew)"
   ]
  },
  {
   "cell_type": "code",
   "execution_count": 117,
   "metadata": {},
   "outputs": [],
   "source": [
    "# Create a function which returns a Gaussian (normal) distribution.\n",
    "def gauss(x, *p):\n",
    "    a, b, c, d = p\n",
    "    y = a*np.exp(-np.power((x - b), 2.)/(2. * c**2.)) + d\n",
    "    return y"
   ]
  },
  {
   "cell_type": "code",
   "execution_count": 118,
   "metadata": {},
   "outputs": [],
   "source": [
    "p_initial = [1.0, .157, 0.05, 0.0]"
   ]
  },
  {
   "cell_type": "code",
   "execution_count": 119,
   "metadata": {},
   "outputs": [],
   "source": [
    "popt, pcov = curve_fit(gauss, newx, newy, p0=p_initial)"
   ]
  },
  {
   "cell_type": "code",
   "execution_count": 120,
   "metadata": {},
   "outputs": [],
   "source": [
    "y_fit = gauss(newx, *popt)"
   ]
  },
  {
   "cell_type": "code",
   "execution_count": 121,
   "metadata": {},
   "outputs": [
    {
     "data": {
      "text/plain": [
       "[<matplotlib.lines.Line2D at 0x1a1f858748>]"
      ]
     },
     "execution_count": 121,
     "metadata": {},
     "output_type": "execute_result"
    },
    {
     "data": {
      "image/png": "[encoded data removed]",
      "text/plain": [
       "<Figure size 244.354x151.019 with 1 Axes>"
      ]
     },
     "metadata": {
      "image/png": {
       "height": 147,
       "width": 228
      }
     },
     "output_type": "display_data"
    }
   ],
   "source": [
    "fig, ax = plt.subplots()\n",
    "ax.plot(newx, y_fit, color = 'red')\n",
    "plt.plot(dx/1000, newy  , label = \"Combined\", color = \"C4\", linestyle='solid')\n",
    "plt.plot(dx/1000, np.array(valGDR2)/areaS, label = \"Gaia\", color = \"C2\", linestyle='dashed')\n",
    "\n"
   ]
  },
  {
   "cell_type": "code",
   "execution_count": 122,
   "metadata": {},
   "outputs": [
    {
     "data": {
      "text/plain": [
       "156.77252496433667"
      ]
     },
     "execution_count": 122,
     "metadata": {},
     "output_type": "execute_result"
    }
   ],
   "source": [
    "# mean distance from fit\n",
    "popt[1]*1000"
   ]
  },
  {
   "cell_type": "code",
   "execution_count": 123,
   "metadata": {},
   "outputs": [
    {
     "data": {
      "text/plain": [
       "0.24550161174402677"
      ]
     },
     "execution_count": 123,
     "metadata": {},
     "output_type": "execute_result"
    }
   ],
   "source": [
    "# 1-sigma error on distance fit\n",
    "popt[2]*1000"
   ]
  },
  {
   "cell_type": "code",
   "execution_count": null,
   "metadata": {},
   "outputs": [],
   "source": []
  },
  {
   "cell_type": "code",
   "execution_count": null,
   "metadata": {},
   "outputs": [],
   "source": []
  },
  {
   "cell_type": "code",
   "execution_count": null,
   "metadata": {},
   "outputs": [],
   "source": []
  },
  {
   "cell_type": "code",
   "execution_count": 109,
   "metadata": {},
   "outputs": [
    {
     "data": {
      "text/plain": [
       "156.77058787196506"
      ]
     },
     "execution_count": 109,
     "metadata": {},
     "output_type": "execute_result"
    }
   ],
   "source": [
    "# mean distance from fit\n",
    "popt[1]*1000"
   ]
  },
  {
   "cell_type": "code",
   "execution_count": 110,
   "metadata": {},
   "outputs": [
    {
     "data": {
      "text/plain": [
       "0.24545289769063874"
      ]
     },
     "execution_count": 110,
     "metadata": {},
     "output_type": "execute_result"
    }
   ],
   "source": [
    "# 1-sigma error on distance fit\n",
    "popt[2]*1000"
   ]
  },
  {
   "cell_type": "code",
   "execution_count": 34,
   "metadata": {},
   "outputs": [],
   "source": [
    "# compare to 156.79 \\pm 0.25"
   ]
  }
 ],
 "metadata": {
  "kernelspec": {
   "display_name": "Python 3",
   "language": "python",
   "name": "python3"
  },
  "language_info": {
   "codemirror_mode": {
    "name": "ipython",
    "version": 3
   },
   "file_extension": ".py",
   "mimetype": "text/x-python",
   "name": "python",
   "nbconvert_exporter": "python",
   "pygments_lexer": "ipython3",
   "version": "3.6.5"
  }
 },
 "nbformat": 4,
 "nbformat_minor": 2
}
