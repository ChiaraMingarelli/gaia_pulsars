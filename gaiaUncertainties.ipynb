{
 "cells": [
  {
   "cell_type": "code",
   "execution_count": 1,
   "metadata": {},
   "outputs": [],
   "source": [
    "from astropy.io import ascii "
   ]
  },
  {
   "cell_type": "code",
   "execution_count": 56,
   "metadata": {},
   "outputs": [],
   "source": [
    "#data = ascii.read('pulsars_gaia_xmatch.csv')\n",
    "data = ascii.read('ipta_pulsars_gaia_xmatch.csv')"
   ]
  },
  {
   "cell_type": "code",
   "execution_count": 57,
   "metadata": {},
   "outputs": [
    {
     "data": {
      "text/plain": [
       "['angDist',\n",
       " 'col1',\n",
       " 'col2',\n",
       " 'col3',\n",
       " 'ra_ep2000',\n",
       " 'dec_ep2000',\n",
       " 'errHalfMaj',\n",
       " 'errHalfMin',\n",
       " 'errPosAng',\n",
       " 'ra',\n",
       " 'dec',\n",
       " 'source_id',\n",
       " 'ref_epoch',\n",
       " 'ra_error',\n",
       " 'dec_error',\n",
       " 'parallax',\n",
       " 'parallax_error',\n",
       " 'pmra',\n",
       " 'pmra_error',\n",
       " 'pmdec',\n",
       " 'pmdec_error',\n",
       " 'ra_dec_corr',\n",
       " 'duplicated_source',\n",
       " 'phot_g_n_obs',\n",
       " 'phot_g_mean_flux',\n",
       " 'phot_g_mean_flux_error',\n",
       " 'phot_g_mean_mag',\n",
       " 'phot_variable_flag',\n",
       " 'l',\n",
       " 'b']"
      ]
     },
     "execution_count": 57,
     "metadata": {},
     "output_type": "execute_result"
    }
   ],
   "source": [
    "data.keys()"
   ]
  },
  {
   "cell_type": "code",
   "execution_count": 58,
   "metadata": {},
   "outputs": [
    {
     "data": {
      "text/html": [
       "&lt;MaskedColumn name=&apos;phot_g_mean_mag&apos; dtype=&apos;float64&apos; length=19&gt;\n",
       "<table>\n",
       "<tr><td>20.255</td></tr>\n",
       "<tr><td>18.209</td></tr>\n",
       "<tr><td>19.557</td></tr>\n",
       "<tr><td>19.042</td></tr>\n",
       "<tr><td>20.31</td></tr>\n",
       "<tr><td>16.264</td></tr>\n",
       "<tr><td>20.56</td></tr>\n",
       "<tr><td>17.995</td></tr>\n",
       "<tr><td>19.323</td></tr>\n",
       "<tr><td>16.19</td></tr>\n",
       "<tr><td>14.464</td></tr>\n",
       "<tr><td>19.925</td></tr>\n",
       "<tr><td>19.534</td></tr>\n",
       "<tr><td>19.851</td></tr>\n",
       "<tr><td>20.25</td></tr>\n",
       "<tr><td>20.576</td></tr>\n",
       "<tr><td>18.489</td></tr>\n",
       "<tr><td>19.295</td></tr>\n",
       "<tr><td>10.23</td></tr>\n",
       "</table>"
      ],
      "text/plain": [
       "<MaskedColumn name='phot_g_mean_mag' dtype='float64' length=19>\n",
       "20.255\n",
       "18.209\n",
       "19.557\n",
       "19.042\n",
       " 20.31\n",
       "16.264\n",
       " 20.56\n",
       "17.995\n",
       "19.323\n",
       " 16.19\n",
       "14.464\n",
       "19.925\n",
       "19.534\n",
       "19.851\n",
       " 20.25\n",
       "20.576\n",
       "18.489\n",
       "19.295\n",
       " 10.23"
      ]
     },
     "execution_count": 58,
     "metadata": {},
     "output_type": "execute_result"
    }
   ],
   "source": [
    "data['phot_g_mean_mag']"
   ]
  },
  {
   "cell_type": "code",
   "execution_count": 59,
   "metadata": {},
   "outputs": [],
   "source": [
    "from pygaia.errors.astrometric import parallaxErrorSkyAvg"
   ]
  },
  {
   "cell_type": "code",
   "execution_count": 60,
   "metadata": {},
   "outputs": [],
   "source": [
    "sigmaPar=parallaxErrorSkyAvg(data['phot_g_mean_mag'], -0.5)"
   ]
  },
  {
   "cell_type": "code",
   "execution_count": 61,
   "metadata": {},
   "outputs": [
    {
     "data": {
      "text/html": [
       "&lt;MaskedColumn name=&apos;phot_g_mean_mag&apos; dtype=&apos;float64&apos; length=19&gt;\n",
       "<table>\n",
       "<tr><td>764.413239046</td></tr>\n",
       "<tr><td>155.291154722</td></tr>\n",
       "<tr><td>426.738127815</td></tr>\n",
       "<tr><td>284.110263824</td></tr>\n",
       "<tr><td>801.324056738</td></tr>\n",
       "<tr><td>49.0961397765</td></tr>\n",
       "<tr><td>994.683909138</td></tr>\n",
       "<tr><td>134.535895164</td></tr>\n",
       "<tr><td>353.720383404</td></tr>\n",
       "<tr><td>47.2409024277</td></tr>\n",
       "<tr><td>20.2084526652</td></tr>\n",
       "<tr><td>578.037076881</td></tr>\n",
       "<tr><td>418.857418104</td></tr>\n",
       "<tr><td>543.411725549</td></tr>\n",
       "<tr><td>761.149029102</td></tr>\n",
       "<tr><td>1008.63479988</td></tr>\n",
       "<tr><td>188.732045457</td></tr>\n",
       "<tr><td>345.971211971</td></tr>\n",
       "<tr><td>6.30317418513</td></tr>\n",
       "</table>"
      ],
      "text/plain": [
       "<MaskedColumn name='phot_g_mean_mag' dtype='float64' length=19>\n",
       "764.413239046\n",
       "155.291154722\n",
       "426.738127815\n",
       "284.110263824\n",
       "801.324056738\n",
       "49.0961397765\n",
       "994.683909138\n",
       "134.535895164\n",
       "353.720383404\n",
       "47.2409024277\n",
       "20.2084526652\n",
       "578.037076881\n",
       "418.857418104\n",
       "543.411725549\n",
       "761.149029102\n",
       "1008.63479988\n",
       "188.732045457\n",
       "345.971211971\n",
       "6.30317418513"
      ]
     },
     "execution_count": 61,
     "metadata": {},
     "output_type": "execute_result"
    }
   ],
   "source": [
    "sigmaPar"
   ]
  },
  {
   "cell_type": "code",
   "execution_count": 49,
   "metadata": {},
   "outputs": [
    {
     "data": {
      "text/html": [
       "&lt;MaskedColumn name=&apos;phot_g_mean_mag&apos; dtype=&apos;float64&apos; length=24&gt;\n",
       "<table>\n",
       "<tr><td>764.413239046</td></tr>\n",
       "<tr><td>32.8793508045</td></tr>\n",
       "<tr><td>155.291154722</td></tr>\n",
       "<tr><td>426.738127815</td></tr>\n",
       "<tr><td>284.110263824</td></tr>\n",
       "<tr><td>801.324056738</td></tr>\n",
       "<tr><td>49.0961397765</td></tr>\n",
       "<tr><td>994.683909138</td></tr>\n",
       "<tr><td>134.535895164</td></tr>\n",
       "<tr><td>353.720383404</td></tr>\n",
       "<tr><td>47.2409024277</td></tr>\n",
       "<tr><td>20.2084526652</td></tr>\n",
       "<tr><td>468.320165773</td></tr>\n",
       "<tr><td>578.037076881</td></tr>\n",
       "<tr><td>418.857418104</td></tr>\n",
       "<tr><td>543.411725549</td></tr>\n",
       "<tr><td>761.149029102</td></tr>\n",
       "<tr><td>427.084506718</td></tr>\n",
       "<tr><td>517.859565017</td></tr>\n",
       "<tr><td>1008.63479988</td></tr>\n",
       "<tr><td>188.732045457</td></tr>\n",
       "<tr><td>345.971211971</td></tr>\n",
       "<tr><td>140.925525483</td></tr>\n",
       "<tr><td>6.30317418513</td></tr>\n",
       "</table>"
      ],
      "text/plain": [
       "<MaskedColumn name='phot_g_mean_mag' dtype='float64' length=24>\n",
       "764.413239046\n",
       "32.8793508045\n",
       "155.291154722\n",
       "426.738127815\n",
       "284.110263824\n",
       "801.324056738\n",
       "49.0961397765\n",
       "994.683909138\n",
       "134.535895164\n",
       "353.720383404\n",
       "47.2409024277\n",
       "20.2084526652\n",
       "468.320165773\n",
       "578.037076881\n",
       "418.857418104\n",
       "543.411725549\n",
       "761.149029102\n",
       "427.084506718\n",
       "517.859565017\n",
       "1008.63479988\n",
       "188.732045457\n",
       "345.971211971\n",
       "140.925525483\n",
       "6.30317418513"
      ]
     },
     "execution_count": 49,
     "metadata": {},
     "output_type": "execute_result"
    }
   ],
   "source": []
  },
  {
   "cell_type": "code",
   "execution_count": 33,
   "metadata": {},
   "outputs": [
    {
     "data": {
      "text/html": [
       "&lt;MaskedColumn name=&apos;phot_g_mean_mag&apos; dtype=&apos;float64&apos; length=17&gt;\n",
       "<table>\n",
       "<tr><td>0.468671503584</td></tr>\n",
       "<tr><td>0.700180976507</td></tr>\n",
       "<tr><td>0.4774894543</td></tr>\n",
       "<tr><td>0.368045057913</td></tr>\n",
       "<tr><td>2.39000413219</td></tr>\n",
       "<tr><td>0.793100355089</td></tr>\n",
       "<tr><td>0.262760632088</td></tr>\n",
       "<tr><td>0.468291396326</td></tr>\n",
       "<tr><td>0.386205090165</td></tr>\n",
       "<tr><td>0.725829298004</td></tr>\n",
       "<tr><td>0.980034982642</td></tr>\n",
       "<tr><td>0.36287056622</td></tr>\n",
       "<tr><td>1.05970345161</td></tr>\n",
       "<tr><td>0.739226515472</td></tr>\n",
       "<tr><td>0.992135262328</td></tr>\n",
       "<tr><td>1.69585332677</td></tr>\n",
       "<tr><td>2.48240968988</td></tr>\n",
       "</table>"
      ],
      "text/plain": [
       "<MaskedColumn name='phot_g_mean_mag' dtype='float64' length=17>\n",
       "0.468671503584\n",
       "0.700180976507\n",
       "  0.4774894543\n",
       "0.368045057913\n",
       " 2.39000413219\n",
       "0.793100355089\n",
       "0.262760632088\n",
       "0.468291396326\n",
       "0.386205090165\n",
       "0.725829298004\n",
       "0.980034982642\n",
       " 0.36287056622\n",
       " 1.05970345161\n",
       "0.739226515472\n",
       "0.992135262328\n",
       " 1.69585332677\n",
       " 2.48240968988"
      ]
     },
     "execution_count": 33,
     "metadata": {},
     "output_type": "execute_result"
    }
   ],
   "source": [
    "1/5./(sigmaPar*1e-3)"
   ]
  },
  {
   "cell_type": "code",
   "execution_count": 16,
   "metadata": {},
   "outputs": [
    {
     "data": {
      "text/html": [
       "&lt;MaskedColumn name=&apos;angDist&apos; dtype=&apos;float64&apos; length=17&gt;\n",
       "<table>\n",
       "<tr><td>0.119974</td></tr>\n",
       "<tr><td>0.974099</td></tr>\n",
       "<tr><td>4.838918</td></tr>\n",
       "<tr><td>3.682673</td></tr>\n",
       "<tr><td>2.277743</td></tr>\n",
       "<tr><td>2.904775</td></tr>\n",
       "<tr><td>1.055505</td></tr>\n",
       "<tr><td>3.036515</td></tr>\n",
       "<tr><td>3.905552</td></tr>\n",
       "<tr><td>3.374726</td></tr>\n",
       "<tr><td>2.065513</td></tr>\n",
       "<tr><td>2.469269</td></tr>\n",
       "<tr><td>0.154594</td></tr>\n",
       "<tr><td>4.928324</td></tr>\n",
       "<tr><td>3.480447</td></tr>\n",
       "<tr><td>2.947122</td></tr>\n",
       "<tr><td>2.484155</td></tr>\n",
       "</table>"
      ],
      "text/plain": [
       "<MaskedColumn name='angDist' dtype='float64' length=17>\n",
       "0.119974\n",
       "0.974099\n",
       "4.838918\n",
       "3.682673\n",
       "2.277743\n",
       "2.904775\n",
       "1.055505\n",
       "3.036515\n",
       "3.905552\n",
       "3.374726\n",
       "2.065513\n",
       "2.469269\n",
       "0.154594\n",
       "4.928324\n",
       "3.480447\n",
       "2.947122\n",
       "2.484155"
      ]
     },
     "execution_count": 16,
     "metadata": {},
     "output_type": "execute_result"
    }
   ],
   "source": [
    "data['angDist']"
   ]
  },
  {
   "cell_type": "code",
   "execution_count": 34,
   "metadata": {},
   "outputs": [],
   "source": [
    "def gaussian(mean, sigma, array, amplitude=1.0):\n",
    "    return amplitude/np.sqrt(2.*np.pi*sigma**2.)*np.exp(-(array - mean)**2./(2.*sigma**2.))"
   ]
  },
  {
   "cell_type": "code",
   "execution_count": 37,
   "metadata": {},
   "outputs": [],
   "source": [
    "import matplotlib.pyplot as plt\n",
    "%matplotlib inline\n",
    "import numpy as np"
   ]
  },
  {
   "cell_type": "code",
   "execution_count": 38,
   "metadata": {},
   "outputs": [],
   "source": [
    "x = np.linspace(0.01, 10, 10000)"
   ]
  },
  {
   "cell_type": "code",
   "execution_count": null,
   "metadata": {},
   "outputs": [],
   "source": [
    "distance = 100. #pc\n",
    "parallax = 1/distance\n",
    "plt.plot(x, gaussian(parallax, ))"
   ]
  },
  {
   "cell_type": "code",
   "execution_count": 53,
   "metadata": {},
   "outputs": [],
   "source": [
    "distdata = ascii.read('ipta_pulsarDist_4Gaia.txt')"
   ]
  },
  {
   "cell_type": "code",
   "execution_count": 54,
   "metadata": {},
   "outputs": [
    {
     "data": {
      "text/plain": [
       "['name', 'distance', 'plus', 'minus']"
      ]
     },
     "execution_count": 54,
     "metadata": {},
     "output_type": "execute_result"
    }
   ],
   "source": [
    "distdata.keys()"
   ]
  },
  {
   "cell_type": "code",
   "execution_count": 55,
   "metadata": {},
   "outputs": [
    {
     "data": {
      "text/html": [
       "&lt;Column name=&apos;distance&apos; dtype=&apos;float64&apos; length=19&gt;\n",
       "<table>\n",
       "<tr><td>0.156</td></tr>\n",
       "<tr><td>0.9</td></tr>\n",
       "<tr><td>0.7</td></tr>\n",
       "<tr><td>0.49</td></tr>\n",
       "<tr><td>1.2</td></tr>\n",
       "<tr><td>0.5</td></tr>\n",
       "<tr><td>0.42</td></tr>\n",
       "<tr><td>1.1</td></tr>\n",
       "<tr><td>1.5</td></tr>\n",
       "<tr><td>0.8</td></tr>\n",
       "<tr><td>5.0</td></tr>\n",
       "<tr><td>1.7</td></tr>\n",
       "<tr><td>2.09</td></tr>\n",
       "<tr><td>0.9</td></tr>\n",
       "<tr><td>2.3</td></tr>\n",
       "<tr><td>5.0</td></tr>\n",
       "<tr><td>4.6</td></tr>\n",
       "<tr><td>1.5</td></tr>\n",
       "<tr><td>2.0</td></tr>\n",
       "</table>"
      ],
      "text/plain": [
       "<Column name='distance' dtype='float64' length=19>\n",
       "0.156\n",
       "  0.9\n",
       "  0.7\n",
       " 0.49\n",
       "  1.2\n",
       "  0.5\n",
       " 0.42\n",
       "  1.1\n",
       "  1.5\n",
       "  0.8\n",
       "  5.0\n",
       "  1.7\n",
       " 2.09\n",
       "  0.9\n",
       "  2.3\n",
       "  5.0\n",
       "  4.6\n",
       "  1.5\n",
       "  2.0"
      ]
     },
     "execution_count": 55,
     "metadata": {},
     "output_type": "execute_result"
    }
   ],
   "source": [
    "distdata['distance']"
   ]
  },
  {
   "cell_type": "code",
   "execution_count": 73,
   "metadata": {},
   "outputs": [],
   "source": [
    "distGaiaErr = sigmaPar*1e-3*distdata['distance']**2."
   ]
  },
  {
   "cell_type": "code",
   "execution_count": 64,
   "metadata": {},
   "outputs": [
    {
     "data": {
      "text/html": [
       "&lt;Column name=&apos;plus&apos; dtype=&apos;float64&apos; length=19&gt;\n",
       "<table>\n",
       "<tr><td>0.001</td></tr>\n",
       "<tr><td>0.4</td></tr>\n",
       "<tr><td>0.2</td></tr>\n",
       "<tr><td>0.12</td></tr>\n",
       "<tr><td>0.2</td></tr>\n",
       "<tr><td>0.1</td></tr>\n",
       "<tr><td>0.02</td></tr>\n",
       "<tr><td>0.2</td></tr>\n",
       "<tr><td>0.3</td></tr>\n",
       "<tr><td>0.2</td></tr>\n",
       "<tr><td>1.0</td></tr>\n",
       "<tr><td>0.3</td></tr>\n",
       "<tr><td>0.4</td></tr>\n",
       "<tr><td>0.2</td></tr>\n",
       "<tr><td>0.5</td></tr>\n",
       "<tr><td>2.0</td></tr>\n",
       "<tr><td>0.9</td></tr>\n",
       "<tr><td>0.3</td></tr>\n",
       "<tr><td>0.4</td></tr>\n",
       "</table>"
      ],
      "text/plain": [
       "<Column name='plus' dtype='float64' length=19>\n",
       "0.001\n",
       "  0.4\n",
       "  0.2\n",
       " 0.12\n",
       "  0.2\n",
       "  0.1\n",
       " 0.02\n",
       "  0.2\n",
       "  0.3\n",
       "  0.2\n",
       "  1.0\n",
       "  0.3\n",
       "  0.4\n",
       "  0.2\n",
       "  0.5\n",
       "  2.0\n",
       "  0.9\n",
       "  0.3\n",
       "  0.4"
      ]
     },
     "execution_count": 64,
     "metadata": {},
     "output_type": "execute_result"
    }
   ],
   "source": [
    "distdata['plus']"
   ]
  },
  {
   "cell_type": "code",
   "execution_count": 72,
   "metadata": {},
   "outputs": [
    {
     "data": {
      "text/plain": [
       "(0.1, 10)"
      ]
     },
     "execution_count": 72,
     "metadata": {},
     "output_type": "execute_result"
    },
    {
     "data": {
      "image/png": "[encoded data removed]",
      "text/plain": [
       "<matplotlib.figure.Figure at 0x111844630>"
      ]
     },
     "metadata": {},
     "output_type": "display_data"
    }
   ],
   "source": [
    "plt.errorbar(distdata['distance'], distdata['distance'], fmt='o', xerr=sigmaPar*1e-3*distdata['distance']**2., yerr=[distdata['minus'], distdata['plus']])\n",
    "plt.xlabel('Gaia Errors', fontsize=20)\n",
    "plt.ylabel('DM Errors', fontsize=20)\n",
    "plt.yscale('log')\n",
    "plt.xscale('log')\n",
    "plt.xlim(0.1, 10)\n",
    "plt.ylim(0.1, 10)"
   ]
  },
  {
   "cell_type": "code",
   "execution_count": 96,
   "metadata": {},
   "outputs": [
    {
     "data": {
      "text/plain": [
       "Text(0,0.5,'DM Uncertainty')"
      ]
     },
     "execution_count": 96,
     "metadata": {},
     "output_type": "execute_result"
    },
    {
     "data": {
      "image/png": "[encoded data removed]",
      "text/plain": [
       "<matplotlib.figure.Figure at 0x112bcf390>"
      ]
     },
     "metadata": {},
     "output_type": "display_data"
    }
   ],
   "source": [
    "plt.scatter(distGaiaErr, distdata['plus'])\n",
    "plt.xscale('log')\n",
    "plt.yscale('log')\n",
    "plt.xlim(0.001, 25)\n",
    "plt.ylim(0.001, 25)\n",
    "plt.plot([0.001, 25], [0.001, 25])\n",
    "plt.xlabel('Gaia Uncertainty', fontsize=20)\n",
    "plt.ylabel('DM Uncertainty', fontsize=20)"
   ]
  },
  {
   "cell_type": "code",
   "execution_count": 121,
   "metadata": {},
   "outputs": [
    {
     "data": {
      "image/png": "[encoded data removed]",
      "text/plain": [
       "<matplotlib.figure.Figure at 0x113076748>"
      ]
     },
     "metadata": {},
     "output_type": "display_data"
    }
   ],
   "source": [
    "plt.scatter(distdata['distance'], distGaiaErr, label='Gaia')\n",
    "plt.scatter(distdata['distance'], distdata['plus'], color='grey', label='DM minus')\n",
    "plt.scatter(distdata['distance'], distdata['minus'], color='black', label='DM plus')\n",
    "plt.xscale('log')\n",
    "plt.yscale('log')\n",
    "plt.xlim(0.1, 10)\n",
    "plt.ylim(0.0007, 150)\n",
    "plt.xlabel('distance [kpc]', fontsize=20)\n",
    "plt.ylabel('uncertainty [kpc]', fontsize=20)\n",
    "plt.legend(loc='upper left')\n",
    "plt.tight_layout()\n",
    "plt.savefig('futureGaiaUncertainties.pdf')"
   ]
  },
  {
   "cell_type": "code",
   "execution_count": 122,
   "metadata": {},
   "outputs": [
    {
     "data": {
      "image/png": "[encoded data removed]",
      "text/plain": [
       "<matplotlib.figure.Figure at 0x11348f5f8>"
      ]
     },
     "metadata": {},
     "output_type": "display_data"
    }
   ],
   "source": [
    "plt.scatter(distdata['distance'], 1./distdata['distance']/distGaiaErr)\n",
    "plt.yscale('log')\n",
    "plt.ylim(0.01, 400)\n",
    "plt.xscale('log')\n",
    "plt.xlim(0.1, 10)\n",
    "plt.xlabel('distance [kpc]', fontsize=20)\n",
    "plt.ylabel('S/N', fontsize=20)\n",
    "plt.tight_layout()\n",
    "plt.savefig('gaiaSN.pdf')"
   ]
  },
  {
   "cell_type": "code",
   "execution_count": null,
   "metadata": {},
   "outputs": [],
   "source": []
  }
 ],
 "metadata": {
  "kernelspec": {
   "display_name": "Python 3",
   "language": "python",
   "name": "python3"
  },
  "language_info": {
   "codemirror_mode": {
    "name": "ipython",
    "version": 3
   },
   "file_extension": ".py",
   "mimetype": "text/x-python",
   "name": "python",
   "nbconvert_exporter": "python",
   "pygments_lexer": "ipython3",
   "version": "3.6.3"
  }
 },
 "nbformat": 4,
 "nbformat_minor": 2
}
