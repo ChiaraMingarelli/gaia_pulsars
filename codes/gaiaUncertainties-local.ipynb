{
 "cells": [
  {
   "cell_type": "code",
   "execution_count": 1,
   "metadata": {
    "collapsed": true
   },
   "outputs": [],
   "source": [
    "from astropy.io import ascii "
   ]
  },
  {
   "cell_type": "code",
   "execution_count": 2,
   "metadata": {
    "collapsed": true
   },
   "outputs": [],
   "source": [
    "#data = ascii.read('pulsars_gaia_xmatch.csv')\n",
    "data = ascii.read('ipta_pulsars_gaia_xmatch.csv')"
   ]
  },
  {
   "cell_type": "code",
   "execution_count": 3,
   "metadata": {},
   "outputs": [
    {
     "data": {
      "text/plain": [
       "['angDist',\n",
       " 'col1',\n",
       " 'col2',\n",
       " 'col3',\n",
       " 'ra_ep2000',\n",
       " 'dec_ep2000',\n",
       " 'errHalfMaj',\n",
       " 'errHalfMin',\n",
       " 'errPosAng',\n",
       " 'ra',\n",
       " 'dec',\n",
       " 'source_id',\n",
       " 'ref_epoch',\n",
       " 'ra_error',\n",
       " 'dec_error',\n",
       " 'parallax',\n",
       " 'parallax_error',\n",
       " 'pmra',\n",
       " 'pmra_error',\n",
       " 'pmdec',\n",
       " 'pmdec_error',\n",
       " 'ra_dec_corr',\n",
       " 'duplicated_source',\n",
       " 'phot_g_n_obs',\n",
       " 'phot_g_mean_flux',\n",
       " 'phot_g_mean_flux_error',\n",
       " 'phot_g_mean_mag',\n",
       " 'phot_variable_flag',\n",
       " 'l',\n",
       " 'b']"
      ]
     },
     "execution_count": 3,
     "metadata": {},
     "output_type": "execute_result"
    }
   ],
   "source": [
    "data.keys()"
   ]
  },
  {
   "cell_type": "code",
   "execution_count": 4,
   "metadata": {},
   "outputs": [
    {
     "data": {
      "text/html": [
       "&lt;MaskedColumn name=&apos;phot_g_mean_mag&apos; dtype=&apos;float64&apos; length=19&gt;\n",
       "<table>\n",
       "<tr><td>20.255</td></tr>\n",
       "<tr><td>18.209</td></tr>\n",
       "<tr><td>19.557</td></tr>\n",
       "<tr><td>19.042</td></tr>\n",
       "<tr><td>20.31</td></tr>\n",
       "<tr><td>16.264</td></tr>\n",
       "<tr><td>20.56</td></tr>\n",
       "<tr><td>17.995</td></tr>\n",
       "<tr><td>19.323</td></tr>\n",
       "<tr><td>16.19</td></tr>\n",
       "<tr><td>14.464</td></tr>\n",
       "<tr><td>19.925</td></tr>\n",
       "<tr><td>19.534</td></tr>\n",
       "<tr><td>19.851</td></tr>\n",
       "<tr><td>20.25</td></tr>\n",
       "<tr><td>20.576</td></tr>\n",
       "<tr><td>18.489</td></tr>\n",
       "<tr><td>19.295</td></tr>\n",
       "<tr><td>10.23</td></tr>\n",
       "</table>"
      ],
      "text/plain": [
       "<MaskedColumn name='phot_g_mean_mag' dtype='float64' length=19>\n",
       "20.255\n",
       "18.209\n",
       "19.557\n",
       "19.042\n",
       " 20.31\n",
       "16.264\n",
       " 20.56\n",
       "17.995\n",
       "19.323\n",
       " 16.19\n",
       "14.464\n",
       "19.925\n",
       "19.534\n",
       "19.851\n",
       " 20.25\n",
       "20.576\n",
       "18.489\n",
       "19.295\n",
       " 10.23"
      ]
     },
     "execution_count": 4,
     "metadata": {},
     "output_type": "execute_result"
    }
   ],
   "source": [
    "data['phot_g_mean_mag']"
   ]
  },
  {
   "cell_type": "code",
   "execution_count": 5,
   "metadata": {
    "collapsed": true
   },
   "outputs": [],
   "source": [
    "from pygaia.errors.astrometric import parallaxErrorSkyAvg"
   ]
  },
  {
   "cell_type": "code",
   "execution_count": 6,
   "metadata": {
    "collapsed": true
   },
   "outputs": [],
   "source": [
    "sigmaPar=parallaxErrorSkyAvg(data['phot_g_mean_mag'], -0.5)"
   ]
  },
  {
   "cell_type": "code",
   "execution_count": 38,
   "metadata": {},
   "outputs": [
    {
     "data": {
      "text/html": [
       "&lt;MaskedColumn name=&apos;phot_g_mean_mag&apos; dtype=&apos;float64&apos; length=19&gt;\n",
       "<table>\n",
       "<tr><td>764.413239046</td></tr>\n",
       "<tr><td>155.291154722</td></tr>\n",
       "<tr><td>426.738127815</td></tr>\n",
       "<tr><td>284.110263824</td></tr>\n",
       "<tr><td>801.324056738</td></tr>\n",
       "<tr><td>49.0961397765</td></tr>\n",
       "<tr><td>994.683909138</td></tr>\n",
       "<tr><td>134.535895164</td></tr>\n",
       "<tr><td>353.720383404</td></tr>\n",
       "<tr><td>47.2409024277</td></tr>\n",
       "<tr><td>20.2084526652</td></tr>\n",
       "<tr><td>578.037076881</td></tr>\n",
       "<tr><td>418.857418104</td></tr>\n",
       "<tr><td>543.411725549</td></tr>\n",
       "<tr><td>761.149029102</td></tr>\n",
       "<tr><td>1008.63479988</td></tr>\n",
       "<tr><td>188.732045457</td></tr>\n",
       "<tr><td>345.971211971</td></tr>\n",
       "<tr><td>6.30317418513</td></tr>\n",
       "</table>"
      ],
      "text/plain": [
       "<MaskedColumn name='phot_g_mean_mag' dtype='float64' length=19>\n",
       "764.413239046\n",
       "155.291154722\n",
       "426.738127815\n",
       "284.110263824\n",
       "801.324056738\n",
       "49.0961397765\n",
       "994.683909138\n",
       "134.535895164\n",
       "353.720383404\n",
       "47.2409024277\n",
       "20.2084526652\n",
       "578.037076881\n",
       "418.857418104\n",
       "543.411725549\n",
       "761.149029102\n",
       "1008.63479988\n",
       "188.732045457\n",
       "345.971211971\n",
       "6.30317418513"
      ]
     },
     "execution_count": 38,
     "metadata": {},
     "output_type": "execute_result"
    }
   ],
   "source": [
    "sigmaPar "
   ]
  },
  {
   "cell_type": "code",
   "execution_count": 39,
   "metadata": {},
   "outputs": [
    {
     "data": {
      "text/html": [
       "&lt;MaskedColumn name=&apos;col1&apos; dtype=&apos;str11&apos; length=19&gt;\n",
       "<table>\n",
       "<tr><td>J0437-4715</td></tr>\n",
       "<tr><td>J0613-0200</td></tr>\n",
       "<tr><td>J1012+5307</td></tr>\n",
       "<tr><td>J1024-0719</td></tr>\n",
       "<tr><td>J1603-7202</td></tr>\n",
       "<tr><td>J1730-2304</td></tr>\n",
       "<tr><td>J1744-1134</td></tr>\n",
       "<tr><td>J1751-2857</td></tr>\n",
       "<tr><td>J1801-1417</td></tr>\n",
       "<tr><td>J1804-2717</td></tr>\n",
       "<tr><td>J1824-2452A</td></tr>\n",
       "<tr><td>J1843-1113</td></tr>\n",
       "<tr><td>J1853+1303</td></tr>\n",
       "<tr><td>J1857+0943</td></tr>\n",
       "<tr><td>J1910+1256</td></tr>\n",
       "<tr><td>J1939+2134</td></tr>\n",
       "<tr><td>J1955+2908</td></tr>\n",
       "<tr><td>J2019+2425</td></tr>\n",
       "<tr><td>J2033+1734</td></tr>\n",
       "</table>"
      ],
      "text/plain": [
       "<MaskedColumn name='col1' dtype='str11' length=19>\n",
       " J0437-4715\n",
       " J0613-0200\n",
       " J1012+5307\n",
       " J1024-0719\n",
       " J1603-7202\n",
       " J1730-2304\n",
       " J1744-1134\n",
       " J1751-2857\n",
       " J1801-1417\n",
       " J1804-2717\n",
       "J1824-2452A\n",
       " J1843-1113\n",
       " J1853+1303\n",
       " J1857+0943\n",
       " J1910+1256\n",
       " J1939+2134\n",
       " J1955+2908\n",
       " J2019+2425\n",
       " J2033+1734"
      ]
     },
     "execution_count": 39,
     "metadata": {},
     "output_type": "execute_result"
    }
   ],
   "source": [
    "data['col1']"
   ]
  },
  {
   "cell_type": "code",
   "execution_count": 8,
   "metadata": {},
   "outputs": [
    {
     "data": {
      "text/html": [
       "&lt;MaskedColumn name=&apos;col1&apos; dtype=&apos;str11&apos; length=19&gt;\n",
       "<table>\n",
       "<tr><td>J0437-4715</td></tr>\n",
       "<tr><td>J0613-0200</td></tr>\n",
       "<tr><td>J1012+5307</td></tr>\n",
       "<tr><td>J1024-0719</td></tr>\n",
       "<tr><td>J1603-7202</td></tr>\n",
       "<tr><td>J1730-2304</td></tr>\n",
       "<tr><td>J1744-1134</td></tr>\n",
       "<tr><td>J1751-2857</td></tr>\n",
       "<tr><td>J1801-1417</td></tr>\n",
       "<tr><td>J1804-2717</td></tr>\n",
       "<tr><td>J1824-2452A</td></tr>\n",
       "<tr><td>J1843-1113</td></tr>\n",
       "<tr><td>J1853+1303</td></tr>\n",
       "<tr><td>J1857+0943</td></tr>\n",
       "<tr><td>J1910+1256</td></tr>\n",
       "<tr><td>J1939+2134</td></tr>\n",
       "<tr><td>J1955+2908</td></tr>\n",
       "<tr><td>J2019+2425</td></tr>\n",
       "<tr><td>J2033+1734</td></tr>\n",
       "</table>"
      ],
      "text/plain": [
       "<MaskedColumn name='col1' dtype='str11' length=19>\n",
       " J0437-4715\n",
       " J0613-0200\n",
       " J1012+5307\n",
       " J1024-0719\n",
       " J1603-7202\n",
       " J1730-2304\n",
       " J1744-1134\n",
       " J1751-2857\n",
       " J1801-1417\n",
       " J1804-2717\n",
       "J1824-2452A\n",
       " J1843-1113\n",
       " J1853+1303\n",
       " J1857+0943\n",
       " J1910+1256\n",
       " J1939+2134\n",
       " J1955+2908\n",
       " J2019+2425\n",
       " J2033+1734"
      ]
     },
     "execution_count": 8,
     "metadata": {},
     "output_type": "execute_result"
    }
   ],
   "source": [
    "data['col1']"
   ]
  },
  {
   "cell_type": "code",
   "execution_count": 9,
   "metadata": {},
   "outputs": [
    {
     "data": {
      "text/html": [
       "&lt;MaskedColumn name=&apos;phot_g_mean_mag&apos; dtype=&apos;float64&apos; length=19&gt;\n",
       "<table>\n",
       "<tr><td>0.261638587329</td></tr>\n",
       "<tr><td>1.28790336035</td></tr>\n",
       "<tr><td>0.468671503584</td></tr>\n",
       "<tr><td>0.703952040691</td></tr>\n",
       "<tr><td>0.249586915953</td></tr>\n",
       "<tr><td>4.07364002364</td></tr>\n",
       "<tr><td>0.201068900545</td></tr>\n",
       "<tr><td>1.48659210804</td></tr>\n",
       "<tr><td>0.565418362593</td></tr>\n",
       "<tr><td>4.23361937901</td></tr>\n",
       "<tr><td>9.8968487748</td></tr>\n",
       "<tr><td>0.345998566526</td></tr>\n",
       "<tr><td>0.4774894543</td></tr>\n",
       "<tr><td>0.368045057913</td></tr>\n",
       "<tr><td>0.262760632088</td></tr>\n",
       "<tr><td>0.198287824318</td></tr>\n",
       "<tr><td>1.05970345161</td></tr>\n",
       "<tr><td>0.578082779953</td></tr>\n",
       "<tr><td>31.7300449148</td></tr>\n",
       "</table>"
      ],
      "text/plain": [
       "<MaskedColumn name='phot_g_mean_mag' dtype='float64' length=19>\n",
       "0.261638587329\n",
       " 1.28790336035\n",
       "0.468671503584\n",
       "0.703952040691\n",
       "0.249586915953\n",
       " 4.07364002364\n",
       "0.201068900545\n",
       " 1.48659210804\n",
       "0.565418362593\n",
       " 4.23361937901\n",
       "  9.8968487748\n",
       "0.345998566526\n",
       "  0.4774894543\n",
       "0.368045057913\n",
       "0.262760632088\n",
       "0.198287824318\n",
       " 1.05970345161\n",
       "0.578082779953\n",
       " 31.7300449148"
      ]
     },
     "execution_count": 9,
     "metadata": {},
     "output_type": "execute_result"
    }
   ],
   "source": [
    "1/5./(sigmaPar*1e-3)"
   ]
  },
  {
   "cell_type": "code",
   "execution_count": 10,
   "metadata": {},
   "outputs": [
    {
     "data": {
      "text/html": [
       "&lt;MaskedColumn name=&apos;angDist&apos; dtype=&apos;float64&apos; length=19&gt;\n",
       "<table>\n",
       "<tr><td>0.556052</td></tr>\n",
       "<tr><td>4.436126</td></tr>\n",
       "<tr><td>0.360541</td></tr>\n",
       "<tr><td>0.857824</td></tr>\n",
       "<tr><td>4.894165</td></tr>\n",
       "<tr><td>3.64931</td></tr>\n",
       "<tr><td>1.858766</td></tr>\n",
       "<tr><td>3.00057</td></tr>\n",
       "<tr><td>4.497614</td></tr>\n",
       "<tr><td>2.720735</td></tr>\n",
       "<tr><td>2.936042</td></tr>\n",
       "<tr><td>3.364307</td></tr>\n",
       "<tr><td>4.825145</td></tr>\n",
       "<tr><td>3.690921</td></tr>\n",
       "<tr><td>1.080332</td></tr>\n",
       "<tr><td>2.632686</td></tr>\n",
       "<tr><td>0.20805</td></tr>\n",
       "<tr><td>4.270987</td></tr>\n",
       "<tr><td>0.000165</td></tr>\n",
       "</table>"
      ],
      "text/plain": [
       "<MaskedColumn name='angDist' dtype='float64' length=19>\n",
       "0.556052\n",
       "4.436126\n",
       "0.360541\n",
       "0.857824\n",
       "4.894165\n",
       " 3.64931\n",
       "1.858766\n",
       " 3.00057\n",
       "4.497614\n",
       "2.720735\n",
       "2.936042\n",
       "3.364307\n",
       "4.825145\n",
       "3.690921\n",
       "1.080332\n",
       "2.632686\n",
       " 0.20805\n",
       "4.270987\n",
       "0.000165"
      ]
     },
     "execution_count": 10,
     "metadata": {},
     "output_type": "execute_result"
    }
   ],
   "source": [
    "data['angDist']"
   ]
  },
  {
   "cell_type": "code",
   "execution_count": 11,
   "metadata": {
    "collapsed": true
   },
   "outputs": [],
   "source": [
    "def gaussian(mean, sigma, array, amplitude=1.0):\n",
    "    return amplitude/np.sqrt(2.*np.pi*sigma**2.)*np.exp(-(array - mean)**2./(2.*sigma**2.))"
   ]
  },
  {
   "cell_type": "code",
   "execution_count": 12,
   "metadata": {
    "collapsed": true
   },
   "outputs": [],
   "source": [
    "import matplotlib.pyplot as plt\n",
    "%matplotlib inline\n",
    "import numpy as np"
   ]
  },
  {
   "cell_type": "code",
   "execution_count": 13,
   "metadata": {
    "collapsed": true
   },
   "outputs": [],
   "source": [
    "x = np.linspace(0.01, 10, 10000)"
   ]
  },
  {
   "cell_type": "code",
   "execution_count": 14,
   "metadata": {},
   "outputs": [
    {
     "ename": "TypeError",
     "evalue": "gaussian() takes at least 3 arguments (1 given)",
     "output_type": "error",
     "traceback": [
      "\u001b[0;31m---------------------------------------------------------------------------\u001b[0m",
      "\u001b[0;31mTypeError\u001b[0m                                 Traceback (most recent call last)",
      "\u001b[0;32m<ipython-input-14-35ba7ecc50f0>\u001b[0m in \u001b[0;36m<module>\u001b[0;34m()\u001b[0m\n\u001b[1;32m      1\u001b[0m \u001b[0mdistance\u001b[0m \u001b[0;34m=\u001b[0m \u001b[0;36m100.\u001b[0m \u001b[0;31m#pc\u001b[0m\u001b[0;34m\u001b[0m\u001b[0m\n\u001b[1;32m      2\u001b[0m \u001b[0mparallax\u001b[0m \u001b[0;34m=\u001b[0m \u001b[0;36m1\u001b[0m\u001b[0;34m/\u001b[0m\u001b[0mdistance\u001b[0m\u001b[0;34m\u001b[0m\u001b[0m\n\u001b[0;32m----> 3\u001b[0;31m \u001b[0mplt\u001b[0m\u001b[0;34m.\u001b[0m\u001b[0mplot\u001b[0m\u001b[0;34m(\u001b[0m\u001b[0mx\u001b[0m\u001b[0;34m,\u001b[0m \u001b[0mgaussian\u001b[0m\u001b[0;34m(\u001b[0m\u001b[0mparallax\u001b[0m\u001b[0;34m,\u001b[0m \u001b[0;34m)\u001b[0m\u001b[0;34m)\u001b[0m\u001b[0;34m\u001b[0m\u001b[0m\n\u001b[0m",
      "\u001b[0;31mTypeError\u001b[0m: gaussian() takes at least 3 arguments (1 given)"
     ]
    }
   ],
   "source": [
    "distance = 100. #pc\n",
    "parallax = 1/distance\n",
    "plt.plot(x, gaussian(parallax, ))"
   ]
  },
  {
   "cell_type": "code",
   "execution_count": 15,
   "metadata": {
    "collapsed": true
   },
   "outputs": [],
   "source": [
    "distdata = ascii.read('ipta_pulsarDist_4Gaia.txt')"
   ]
  },
  {
   "cell_type": "code",
   "execution_count": 16,
   "metadata": {},
   "outputs": [
    {
     "data": {
      "text/plain": [
       "['name', 'distance', 'plus', 'minus']"
      ]
     },
     "execution_count": 16,
     "metadata": {},
     "output_type": "execute_result"
    }
   ],
   "source": [
    "distdata.keys()"
   ]
  },
  {
   "cell_type": "code",
   "execution_count": 17,
   "metadata": {},
   "outputs": [
    {
     "data": {
      "text/html": [
       "&lt;Table length=19&gt;\n",
       "<table id=\"table4479777744\" class=\"table-striped table-bordered table-condensed\">\n",
       "<thead><tr><th>name</th><th>distance</th><th>plus</th><th>minus</th></tr></thead>\n",
       "<thead><tr><th>str16</th><th>float64</th><th>float64</th><th>float64</th></tr></thead>\n",
       "<tr><td>J0437-4715</td><td>0.156</td><td>0.001</td><td>0.001</td></tr>\n",
       "<tr><td>J0613-0200</td><td>0.9</td><td>0.4</td><td>0.2</td></tr>\n",
       "<tr><td>J1012+5307</td><td>0.7</td><td>0.2</td><td>0.1</td></tr>\n",
       "<tr><td>J1024-0719</td><td>0.49</td><td>0.12</td><td>0.08</td></tr>\n",
       "<tr><td>J1603-8722-7202</td><td>1.2</td><td>0.2</td><td>0.2</td></tr>\n",
       "<tr><td>J1730-8722-2304</td><td>0.5</td><td>0.1</td><td>0.1</td></tr>\n",
       "<tr><td>J1744-8722-1134</td><td>0.42</td><td>0.02</td><td>0.02</td></tr>\n",
       "<tr><td>J1751-8722-2857</td><td>1.1</td><td>0.2</td><td>0.2</td></tr>\n",
       "<tr><td>J1801-8722-1417</td><td>1.5</td><td>0.3</td><td>0.3</td></tr>\n",
       "<tr><td>J1804-8722-2717</td><td>0.8</td><td>0.2</td><td>0.2</td></tr>\n",
       "<tr><td>J1824-8722-2452A</td><td>5.0</td><td>1.0</td><td>1.0</td></tr>\n",
       "<tr><td>J1843-8722-1113</td><td>1.7</td><td>0.3</td><td>0.3</td></tr>\n",
       "<tr><td>J1853+1303</td><td>2.09</td><td>0.4</td><td>0.4</td></tr>\n",
       "<tr><td>J1857+0943</td><td>0.9</td><td>0.2</td><td>0.2</td></tr>\n",
       "<tr><td>J1910+1256</td><td>2.3</td><td>0.5</td><td>0.5</td></tr>\n",
       "<tr><td>J1939+2134</td><td>5.0</td><td>2.0</td><td>1.0</td></tr>\n",
       "<tr><td>J1955+2908</td><td>4.6</td><td>0.9</td><td>0.9</td></tr>\n",
       "<tr><td>J2019+2425</td><td>1.5</td><td>0.3</td><td>0.3</td></tr>\n",
       "<tr><td>J2033+1734</td><td>2.0</td><td>0.4</td><td>0.4</td></tr>\n",
       "</table>"
      ],
      "text/plain": [
       "<Table length=19>\n",
       "      name       distance   plus   minus \n",
       "     str16       float64  float64 float64\n",
       "---------------- -------- ------- -------\n",
       "      J0437-4715    0.156   0.001   0.001\n",
       "      J0613-0200      0.9     0.4     0.2\n",
       "      J1012+5307      0.7     0.2     0.1\n",
       "      J1024-0719     0.49    0.12    0.08\n",
       " J1603-8722-7202      1.2     0.2     0.2\n",
       " J1730-8722-2304      0.5     0.1     0.1\n",
       " J1744-8722-1134     0.42    0.02    0.02\n",
       " J1751-8722-2857      1.1     0.2     0.2\n",
       " J1801-8722-1417      1.5     0.3     0.3\n",
       " J1804-8722-2717      0.8     0.2     0.2\n",
       "J1824-8722-2452A      5.0     1.0     1.0\n",
       " J1843-8722-1113      1.7     0.3     0.3\n",
       "      J1853+1303     2.09     0.4     0.4\n",
       "      J1857+0943      0.9     0.2     0.2\n",
       "      J1910+1256      2.3     0.5     0.5\n",
       "      J1939+2134      5.0     2.0     1.0\n",
       "      J1955+2908      4.6     0.9     0.9\n",
       "      J2019+2425      1.5     0.3     0.3\n",
       "      J2033+1734      2.0     0.4     0.4"
      ]
     },
     "execution_count": 17,
     "metadata": {},
     "output_type": "execute_result"
    }
   ],
   "source": [
    "distdata"
   ]
  },
  {
   "cell_type": "code",
   "execution_count": 33,
   "metadata": {},
   "outputs": [
    {
     "data": {
      "text/html": [
       "&lt;Table masked=True length=19&gt;\n",
       "<table id=\"table4463874320\" class=\"table-striped table-bordered table-condensed\">\n",
       "<thead><tr><th>angDist</th><th>col1</th><th>col2</th><th>col3</th><th>ra_ep2000</th><th>dec_ep2000</th><th>errHalfMaj</th><th>errHalfMin</th><th>errPosAng</th><th>ra</th><th>dec</th><th>source_id</th><th>ref_epoch</th><th>ra_error</th><th>dec_error</th><th>parallax</th><th>parallax_error</th><th>pmra</th><th>pmra_error</th><th>pmdec</th><th>pmdec_error</th><th>ra_dec_corr</th><th>duplicated_source</th><th>phot_g_n_obs</th><th>phot_g_mean_flux</th><th>phot_g_mean_flux_error</th><th>phot_g_mean_mag</th><th>phot_variable_flag</th><th>l</th><th>b</th></tr></thead>\n",
       "<thead><tr><th>float64</th><th>str11</th><th>float64</th><th>float64</th><th>float64</th><th>float64</th><th>float64</th><th>float64</th><th>int64</th><th>float64</th><th>float64</th><th>float64</th><th>int64</th><th>float64</th><th>float64</th><th>float64</th><th>float64</th><th>float64</th><th>float64</th><th>float64</th><th>float64</th><th>float64</th><th>int64</th><th>int64</th><th>float64</th><th>float64</th><th>float64</th><th>str13</th><th>float64</th><th>float64</th></tr></thead>\n",
       "<tr><td>0.556052</td><td>J0437-4715</td><td>69.3163808</td><td>-47.2525883</td><td>69.31657656</td><td>-47.25266705</td><td>0.003</td><td>0.002</td><td>0</td><td>69.31657656</td><td>-47.25266705</td><td>4.78986e+18</td><td>2015</td><td>1.992</td><td>2.741</td><td>--</td><td>--</td><td>--</td><td>--</td><td>--</td><td>--</td><td>-0.671</td><td>0</td><td>65</td><td>128.0</td><td>2.47</td><td>20.255</td><td>NOT_AVAILABLE</td><td>253.394617</td><td>-41.96315524</td></tr>\n",
       "<tr><td>4.436126</td><td>J0613-0200</td><td>93.4332329</td><td>-2.0131189</td><td>93.43200102</td><td>-2.013171942</td><td>0.012</td><td>0.011</td><td>90</td><td>93.43200102</td><td>-2.013171942</td><td>3.11803e+18</td><td>2015</td><td>12.242</td><td>11.475</td><td>--</td><td>--</td><td>--</td><td>--</td><td>--</td><td>--</td><td>-0.999</td><td>0</td><td>53</td><td>844.0</td><td>3.08</td><td>18.209</td><td>NOT_AVAILABLE</td><td>210.4125257</td><td>-9.306027617</td></tr>\n",
       "<tr><td>0.360541</td><td>J1012+5307</td><td>153.139333</td><td>53.117367</td><td>153.1393296</td><td>53.11726687</td><td>0.001</td><td>0.0</td><td>0</td><td>153.1393296</td><td>53.11726687</td><td>8.51611e+17</td><td>2015</td><td>0.395</td><td>0.614</td><td>--</td><td>--</td><td>--</td><td>--</td><td>--</td><td>--</td><td>0.058</td><td>0</td><td>148</td><td>244.0</td><td>1.93</td><td>19.557</td><td>NOT_AVAILABLE</td><td>160.3471938</td><td>50.85785326</td></tr>\n",
       "<tr><td>0.857824</td><td>J1024-0719</td><td>156.161237</td><td>-7.321964</td><td>156.1610974</td><td>-7.322157955</td><td>0.011</td><td>0.007</td><td>0</td><td>156.1610974</td><td>-7.322157955</td><td>3.77528e+18</td><td>2015</td><td>6.547</td><td>11.16</td><td>--</td><td>--</td><td>--</td><td>--</td><td>--</td><td>--</td><td>-0.857</td><td>0</td><td>33</td><td>392.0</td><td>4.94</td><td>19.042</td><td>NOT_AVAILABLE</td><td>251.7016017</td><td>40.51539562</td></tr>\n",
       "<tr><td>4.894165</td><td>J1603-7202</td><td>240.8986658</td><td>-72.04241622</td><td>240.8960554</td><td>-72.0435119</td><td>0.009</td><td>0.004</td><td>90</td><td>240.8960554</td><td>-72.0435119</td><td>5.80668e+18</td><td>2015</td><td>9.32</td><td>4.287</td><td>--</td><td>--</td><td>--</td><td>--</td><td>--</td><td>--</td><td>0.779</td><td>0</td><td>58</td><td>122.0</td><td>2.18</td><td>20.31</td><td>NOT_AVAILABLE</td><td>316.6282976</td><td>-14.49575836</td></tr>\n",
       "<tr><td>3.64931</td><td>J1730-2304</td><td>262.5902012</td><td>-23.0753889</td><td>262.5908742</td><td>-23.07458625</td><td>0.001</td><td>0.001</td><td>90</td><td>262.5908742</td><td>-23.07458625</td><td>4.11143e+18</td><td>2015</td><td>0.94</td><td>0.692</td><td>--</td><td>--</td><td>--</td><td>--</td><td>--</td><td>--</td><td>0.96</td><td>0</td><td>69</td><td>5060.0</td><td>9.41</td><td>16.264</td><td>NOT_AVAILABLE</td><td>3.138109656</td><td>6.023224423</td></tr>\n",
       "<tr><td>1.858766</td><td>J1744-1134</td><td>266.1225429</td><td>-11.5818686</td><td>266.1224655</td><td>-11.58135787</td><td>0.008</td><td>0.007</td><td>90</td><td>266.1224655</td><td>-11.58135787</td><td>4.16235e+18</td><td>2015</td><td>8.326</td><td>7.263</td><td>--</td><td>--</td><td>--</td><td>--</td><td>--</td><td>--</td><td>0.967</td><td>0</td><td>35</td><td>96.8</td><td>2.98</td><td>20.56</td><td>NOT_AVAILABLE</td><td>14.7942774</td><td>9.18002811</td></tr>\n",
       "<tr><td>3.00057</td><td>J1751-2857</td><td>267.886238</td><td>-28.962917</td><td>267.8869194</td><td>-28.96349948</td><td>0.003</td><td>0.003</td><td>90</td><td>267.8869194</td><td>-28.96349948</td><td>4.05735e+18</td><td>2015</td><td>2.953</td><td>2.642</td><td>--</td><td>--</td><td>--</td><td>--</td><td>--</td><td>--</td><td>0.984</td><td>0</td><td>70</td><td>1030.0</td><td>4.68</td><td>17.995</td><td>NOT_AVAILABLE</td><td>0.645370511</td><td>-1.125092443</td></tr>\n",
       "<tr><td>4.497614</td><td>J1801-1417</td><td>270.4628212</td><td>-14.2929297</td><td>270.4628377</td><td>-14.29417894</td><td>0.012</td><td>0.011</td><td>90</td><td>270.4628377</td><td>-14.29417894</td><td>4.14707e+18</td><td>2015</td><td>11.562</td><td>10.968</td><td>--</td><td>--</td><td>--</td><td>--</td><td>--</td><td>--</td><td>0.999</td><td>0</td><td>71</td><td>302.0</td><td>2.34</td><td>19.323</td><td>NOT_AVAILABLE</td><td>14.54519204</td><td>4.161222507</td></tr>\n",
       "<tr><td>2.720735</td><td>J1804-2717</td><td>271.0880467</td><td>-27.292</td><td>271.0885037</td><td>-27.29136263</td><td>0.01</td><td>0.01</td><td>90</td><td>271.0885037</td><td>-27.29136263</td><td>4.06314e+18</td><td>2015</td><td>10.332</td><td>9.752</td><td>--</td><td>--</td><td>--</td><td>--</td><td>--</td><td>--</td><td>0.938</td><td>0</td><td>55</td><td>5420.0</td><td>136.0</td><td>16.19</td><td>NOT_AVAILABLE</td><td>3.505883867</td><td>-2.735640652</td></tr>\n",
       "<tr><td>2.936042</td><td>J1824-2452A</td><td>276.133371</td><td>-24.86975</td><td>276.133524</td><td>-24.87055367</td><td>0.021</td><td>0.018</td><td>90</td><td>276.133524</td><td>-24.87055367</td><td>4.07719e+18</td><td>2015</td><td>21.187</td><td>17.637</td><td>--</td><td>--</td><td>--</td><td>--</td><td>--</td><td>--</td><td>0.007</td><td>0</td><td>25</td><td>26600.0</td><td>149.0</td><td>14.464</td><td>NOT_AVAILABLE</td><td>7.796083113</td><td>-5.578172296</td></tr>\n",
       "<tr><td>3.364307</td><td>J1843-1113</td><td>280.9219258</td><td>-11.2252922</td><td>280.921539</td><td>-11.22614626</td><td>0.02</td><td>0.018</td><td>0</td><td>280.921539</td><td>-11.22614626</td><td>4.10682e+18</td><td>2015</td><td>17.932</td><td>19.559</td><td>--</td><td>--</td><td>--</td><td>--</td><td>--</td><td>--</td><td>0.998</td><td>0</td><td>36</td><td>174.0</td><td>4.65</td><td>19.925</td><td>NOT_AVAILABLE</td><td>22.05375765</td><td>-3.396819031</td></tr>\n",
       "<tr><td>4.825145</td><td>J1853+1303</td><td>283.4888261</td><td>13.0622468</td><td>283.4875676</td><td>13.06278855</td><td>0.002</td><td>0.002</td><td>90</td><td>283.4875676</td><td>13.06278855</td><td>4.50616e+18</td><td>2015</td><td>2.406</td><td>1.764</td><td>--</td><td>--</td><td>--</td><td>--</td><td>--</td><td>--</td><td>0.91</td><td>0</td><td>66</td><td>249.0</td><td>4.89</td><td>19.534</td><td>NOT_AVAILABLE</td><td>44.87446417</td><td>5.368288677</td></tr>\n",
       "<tr><td>3.690921</td><td>J1857+0943</td><td>284.4016317</td><td>9.72145339</td><td>284.402388</td><td>9.720749449</td><td>0.001</td><td>0.001</td><td>90</td><td>284.402388</td><td>9.720749449</td><td>4.31089e+18</td><td>2015</td><td>1.346</td><td>0.996</td><td>--</td><td>--</td><td>--</td><td>--</td><td>--</td><td>--</td><td>0.298</td><td>0</td><td>103</td><td>186.0</td><td>1.68</td><td>19.851</td><td>NOT_AVAILABLE</td><td>42.29001346</td><td>3.059433242</td></tr>\n",
       "<tr><td>1.080332</td><td>J1910+1256</td><td>287.5404184</td><td>12.9404243</td><td>287.5407218</td><td>12.94037311</td><td>0.003</td><td>0.002</td><td>90</td><td>287.5407218</td><td>12.94037311</td><td>4.31405e+18</td><td>2015</td><td>2.674</td><td>2.197</td><td>--</td><td>--</td><td>--</td><td>--</td><td>--</td><td>--</td><td>0.453</td><td>0</td><td>61</td><td>129.0</td><td>2.9</td><td>20.25</td><td>NOT_AVAILABLE</td><td>46.56395895</td><td>1.794931567</td></tr>\n",
       "<tr><td>2.632686</td><td>J1939+2134</td><td>294.9151</td><td>21.6227</td><td>294.9144727</td><td>21.62314131</td><td>0.003</td><td>0.003</td><td>90</td><td>294.9144727</td><td>21.62314131</td><td>1.82617e+18</td><td>2015</td><td>2.99</td><td>2.947</td><td>--</td><td>--</td><td>--</td><td>--</td><td>--</td><td>--</td><td>0.7</td><td>0</td><td>62</td><td>95.4</td><td>2.15</td><td>20.576</td><td>NOT_AVAILABLE</td><td>57.54548636</td><td>-0.272954791</td></tr>\n",
       "<tr><td>0.20805</td><td>J1955+2908</td><td>298.8661488</td><td>29.145425</td><td>298.8661022</td><td>29.145384</td><td>0.0</td><td>0.0</td><td>0</td><td>298.8661022</td><td>29.145384</td><td>2.02858e+18</td><td>2015</td><td>0.458</td><td>0.479</td><td>--</td><td>--</td><td>--</td><td>--</td><td>--</td><td>--</td><td>0.502</td><td>0</td><td>112</td><td>652.0</td><td>2.07</td><td>18.489</td><td>NOT_AVAILABLE</td><td>65.83923648</td><td>0.443258932</td></tr>\n",
       "<tr><td>4.270987</td><td>J2019+2425</td><td>304.8831208</td><td>24.42091772</td><td>304.884155</td><td>24.42019605</td><td>0.002</td><td>0.001</td><td>0</td><td>304.884155</td><td>24.42019605</td><td>1.83216e+18</td><td>2015</td><td>1.33</td><td>1.824</td><td>--</td><td>--</td><td>--</td><td>--</td><td>--</td><td>--</td><td>-0.522</td><td>0</td><td>145</td><td>310.0</td><td>1.94</td><td>19.295</td><td>NOT_AVAILABLE</td><td>64.74589794</td><td>-6.625396606</td></tr>\n",
       "<tr><td>0.000165</td><td>J2033+1734</td><td>308.3204775</td><td>17.6300194</td><td>308.3204775</td><td>17.63001936</td><td>0.035</td><td>0.021</td><td>90</td><td>308.3204978</td><td>17.63001858</td><td>1.81206e+18</td><td>2015</td><td>0.307</td><td>0.202</td><td>1.46</td><td>0.64</td><td>4.64</td><td>2.313</td><td>-0.187</td><td>1.397</td><td>0.746</td><td>0</td><td>68</td><td>1310000.0</td><td>1270.0</td><td>10.23</td><td>NOT_AVAILABLE</td><td>60.87209541</td><td>-13.09284074</td></tr>\n",
       "</table>"
      ],
      "text/plain": [
       "<Table masked=True length=19>\n",
       "angDist      col1        col2    ... phot_variable_flag      l           b      \n",
       "float64     str11      float64   ...       str13          float64     float64   \n",
       "-------- ----------- ----------- ... ------------------ ----------- ------------\n",
       "0.556052  J0437-4715  69.3163808 ...      NOT_AVAILABLE  253.394617 -41.96315524\n",
       "4.436126  J0613-0200  93.4332329 ...      NOT_AVAILABLE 210.4125257 -9.306027617\n",
       "0.360541  J1012+5307  153.139333 ...      NOT_AVAILABLE 160.3471938  50.85785326\n",
       "0.857824  J1024-0719  156.161237 ...      NOT_AVAILABLE 251.7016017  40.51539562\n",
       "4.894165  J1603-7202 240.8986658 ...      NOT_AVAILABLE 316.6282976 -14.49575836\n",
       " 3.64931  J1730-2304 262.5902012 ...      NOT_AVAILABLE 3.138109656  6.023224423\n",
       "1.858766  J1744-1134 266.1225429 ...      NOT_AVAILABLE  14.7942774   9.18002811\n",
       " 3.00057  J1751-2857  267.886238 ...      NOT_AVAILABLE 0.645370511 -1.125092443\n",
       "4.497614  J1801-1417 270.4628212 ...      NOT_AVAILABLE 14.54519204  4.161222507\n",
       "2.720735  J1804-2717 271.0880467 ...      NOT_AVAILABLE 3.505883867 -2.735640652\n",
       "2.936042 J1824-2452A  276.133371 ...      NOT_AVAILABLE 7.796083113 -5.578172296\n",
       "3.364307  J1843-1113 280.9219258 ...      NOT_AVAILABLE 22.05375765 -3.396819031\n",
       "4.825145  J1853+1303 283.4888261 ...      NOT_AVAILABLE 44.87446417  5.368288677\n",
       "3.690921  J1857+0943 284.4016317 ...      NOT_AVAILABLE 42.29001346  3.059433242\n",
       "1.080332  J1910+1256 287.5404184 ...      NOT_AVAILABLE 46.56395895  1.794931567\n",
       "2.632686  J1939+2134    294.9151 ...      NOT_AVAILABLE 57.54548636 -0.272954791\n",
       " 0.20805  J1955+2908 298.8661488 ...      NOT_AVAILABLE 65.83923648  0.443258932\n",
       "4.270987  J2019+2425 304.8831208 ...      NOT_AVAILABLE 64.74589794 -6.625396606\n",
       "0.000165  J2033+1734 308.3204775 ...      NOT_AVAILABLE 60.87209541 -13.09284074"
      ]
     },
     "execution_count": 33,
     "metadata": {},
     "output_type": "execute_result"
    }
   ],
   "source": [
    "data"
   ]
  },
  {
   "cell_type": "code",
   "execution_count": 18,
   "metadata": {
    "collapsed": true
   },
   "outputs": [],
   "source": [
    "distGaiaErr = sigmaPar*1e-3*distdata['distance']**2."
   ]
  },
  {
   "cell_type": "code",
   "execution_count": 19,
   "metadata": {},
   "outputs": [
    {
     "data": {
      "text/html": [
       "&lt;Column name=&apos;plus&apos; dtype=&apos;float64&apos; length=19&gt;\n",
       "<table>\n",
       "<tr><td>0.001</td></tr>\n",
       "<tr><td>0.4</td></tr>\n",
       "<tr><td>0.2</td></tr>\n",
       "<tr><td>0.12</td></tr>\n",
       "<tr><td>0.2</td></tr>\n",
       "<tr><td>0.1</td></tr>\n",
       "<tr><td>0.02</td></tr>\n",
       "<tr><td>0.2</td></tr>\n",
       "<tr><td>0.3</td></tr>\n",
       "<tr><td>0.2</td></tr>\n",
       "<tr><td>1.0</td></tr>\n",
       "<tr><td>0.3</td></tr>\n",
       "<tr><td>0.4</td></tr>\n",
       "<tr><td>0.2</td></tr>\n",
       "<tr><td>0.5</td></tr>\n",
       "<tr><td>2.0</td></tr>\n",
       "<tr><td>0.9</td></tr>\n",
       "<tr><td>0.3</td></tr>\n",
       "<tr><td>0.4</td></tr>\n",
       "</table>"
      ],
      "text/plain": [
       "<Column name='plus' dtype='float64' length=19>\n",
       "0.001\n",
       "  0.4\n",
       "  0.2\n",
       " 0.12\n",
       "  0.2\n",
       "  0.1\n",
       " 0.02\n",
       "  0.2\n",
       "  0.3\n",
       "  0.2\n",
       "  1.0\n",
       "  0.3\n",
       "  0.4\n",
       "  0.2\n",
       "  0.5\n",
       "  2.0\n",
       "  0.9\n",
       "  0.3\n",
       "  0.4"
      ]
     },
     "execution_count": 19,
     "metadata": {},
     "output_type": "execute_result"
    }
   ],
   "source": [
    "distdata['plus']"
   ]
  },
  {
   "cell_type": "code",
   "execution_count": 34,
   "metadata": {},
   "outputs": [
    {
     "data": {
      "text/plain": [
       "(0.1, 10)"
      ]
     },
     "execution_count": 34,
     "metadata": {},
     "output_type": "execute_result"
    },
    {
     "data": {
      "image/png": "[encoded data removed]",
      "text/plain": [
       "<matplotlib.figure.Figure at 0x110a68c90>"
      ]
     },
     "metadata": {},
     "output_type": "display_data"
    }
   ],
   "source": [
    "plt.errorbar(distdata['distance'], distdata['distance'], fmt='o', xerr=sigmaPar*1e-3*distdata['distance']**2.,\\\n",
    "             yerr=[distdata['minus'], distdata['plus']])\n",
    "plt.xlabel('Gaia Errors [kpc]')\n",
    "plt.ylabel('DM Errors [kpc]')\n",
    "plt.yscale('log')\n",
    "plt.xscale('log')\n",
    "plt.xlim(0.1, 10)\n",
    "plt.ylim(0.1, 10)"
   ]
  },
  {
   "cell_type": "code",
   "execution_count": 21,
   "metadata": {},
   "outputs": [
    {
     "data": {
      "text/plain": [
       "Text(0,0.5,u'DM Uncertainty')"
      ]
     },
     "execution_count": 21,
     "metadata": {},
     "output_type": "execute_result"
    },
    {
     "data": {
      "image/png": "[encoded data removed]",
      "text/plain": [
       "<matplotlib.figure.Figure at 0x1103837d0>"
      ]
     },
     "metadata": {},
     "output_type": "display_data"
    }
   ],
   "source": [
    "plt.scatter(distGaiaErr, distdata['plus'])\n",
    "plt.xscale('log')\n",
    "plt.yscale('log')\n",
    "plt.xlim(0.001, 25)\n",
    "plt.ylim(0.001, 25)\n",
    "plt.plot([0.001, 25], [0.001, 25])\n",
    "plt.xlabel('Gaia Uncertainty', fontsize=20)\n",
    "plt.ylabel('DM Uncertainty', fontsize=20)"
   ]
  },
  {
   "cell_type": "code",
   "execution_count": 30,
   "metadata": {},
   "outputs": [
    {
     "data": {
      "image/png": "[encoded data removed]",
      "text/plain": [
       "<matplotlib.figure.Figure at 0x11463cfd0>"
      ]
     },
     "metadata": {},
     "output_type": "display_data"
    }
   ],
   "source": [
    "plt.scatter(distdata['distance'], distGaiaErr, label='Gaia (estimated)')\n",
    "#plt.scatter(distdata['distance'], distdata['plus'], color='grey', label='DM minus')\n",
    "plt.scatter(distdata['distance'], distdata['minus'], color='black', label='DM error (IPTA)')\n",
    "plt.xscale('log')\n",
    "plt.yscale('log')\n",
    "plt.xlim(0.1, 10)\n",
    "plt.ylim(0.0007, 150)\n",
    "plt.xlabel('distance [kpc]')\n",
    "plt.ylabel('uncertainty [kpc]')\n",
    "plt.legend(loc='upper left')\n",
    "plt.tight_layout()\n",
    "plt.savefig('futureGaiaUncertainties.jpg')"
   ]
  },
  {
   "cell_type": "code",
   "execution_count": 29,
   "metadata": {},
   "outputs": [
    {
     "data": {
      "image/png": "[encoded data removed]",
      "text/plain": [
       "<matplotlib.figure.Figure at 0x110e9c050>"
      ]
     },
     "metadata": {},
     "output_type": "display_data"
    }
   ],
   "source": [
    "plt.scatter(distdata['distance'], 1./distdata['distance']/distGaiaErr)\n",
    "plt.yscale('log')\n",
    "plt.ylim(0.01, 400)\n",
    "plt.xscale('log')\n",
    "plt.xlim(0.1, 10)\n",
    "plt.xlabel('distance [kpc]')\n",
    "plt.ylabel('S/N')\n",
    "plt.tight_layout()\n",
    "plt.savefig('gaiaSN.jpg')"
   ]
  },
  {
   "cell_type": "code",
   "execution_count": 36,
   "metadata": {},
   "outputs": [
    {
     "data": {
      "text/html": [
       "&lt;MaskedColumn name=&apos;phot_g_mean_mag&apos; dtype=&apos;float64&apos; length=19&gt;\n",
       "<table>\n",
       "<tr><td>18.6027605854</td></tr>\n",
       "<tr><td>125.785835325</td></tr>\n",
       "<tr><td>209.101682629</td></tr>\n",
       "<tr><td>68.2148743441</td></tr>\n",
       "<tr><td>1153.9066417</td></tr>\n",
       "<tr><td>12.2740349441</td></tr>\n",
       "<tr><td>175.462241572</td></tr>\n",
       "<tr><td>162.788433149</td></tr>\n",
       "<tr><td>795.870862659</td></tr>\n",
       "<tr><td>30.2341775538</td></tr>\n",
       "<tr><td>505.21131663</td></tr>\n",
       "<tr><td>1670.52715219</td></tr>\n",
       "<tr><td>1829.61108802</td></tr>\n",
       "<tr><td>440.163497694</td></tr>\n",
       "<tr><td>4026.47836395</td></tr>\n",
       "<tr><td>25215.869997</td></tr>\n",
       "<tr><td>3993.57008187</td></tr>\n",
       "<tr><td>778.435226935</td></tr>\n",
       "<tr><td>25.2126967405</td></tr>\n",
       "</table>"
      ],
      "text/plain": [
       "<MaskedColumn name='phot_g_mean_mag' dtype='float64' length=19>\n",
       "18.6027605854\n",
       "125.785835325\n",
       "209.101682629\n",
       "68.2148743441\n",
       " 1153.9066417\n",
       "12.2740349441\n",
       "175.462241572\n",
       "162.788433149\n",
       "795.870862659\n",
       "30.2341775538\n",
       " 505.21131663\n",
       "1670.52715219\n",
       "1829.61108802\n",
       "440.163497694\n",
       "4026.47836395\n",
       " 25215.869997\n",
       "3993.57008187\n",
       "778.435226935\n",
       "25.2126967405"
      ]
     },
     "execution_count": 36,
     "metadata": {},
     "output_type": "execute_result"
    }
   ],
   "source": [
    "distGaiaErr*1000"
   ]
  },
  {
   "cell_type": "code",
   "execution_count": null,
   "metadata": {
    "collapsed": true
   },
   "outputs": [],
   "source": []
  },
  {
   "cell_type": "code",
   "execution_count": null,
   "metadata": {
    "collapsed": true
   },
   "outputs": [],
   "source": []
  },
  {
   "cell_type": "code",
   "execution_count": 24,
   "metadata": {
    "collapsed": true
   },
   "outputs": [],
   "source": [
    "fig_width_pt = 245.27 #513.17           # Get this from LaTeX using \\showthe\\columnwidth\n",
    "inches_per_pt = 1.0/72.27               # Convert pt to inches\n",
    "golden_mean = (np.sqrt(5)-1.0)/2.0      # Aesthetic ratio\n",
    "fig_width = fig_width_pt*inches_per_pt  # width in inches\n",
    "fig_height =fig_width*golden_mean       # height in inches\n",
    "fig_size = [fig_width,fig_height]\n",
    "\n",
    "params = {'backend': 'pdf',\n",
    "        'axes.labelsize': 7,\n",
    "        'lines.markersize': 4,\n",
    "        'font.size': 7,\n",
    "        'xtick.major.size':6,\n",
    "        'xtick.minor.size':3,  \n",
    "        'ytick.major.size':6,\n",
    "        'ytick.minor.size':3, \n",
    "        'xtick.major.width':0.5,\n",
    "        'ytick.major.width':0.5,\n",
    "        'xtick.minor.width':0.5,\n",
    "        'ytick.minor.width':0.5,\n",
    "        'lines.markeredgewidth':1,\n",
    "        'axes.linewidth':1.2,\n",
    "        'legend.fontsize': 7,\n",
    "        'xtick.labelsize': 7,\n",
    "        'ytick.labelsize': 7,\n",
    "        'savefig.dpi':200,\n",
    "        'path.simplify':True,\n",
    "        'font.family': 'serif',\n",
    "        'font.serif':'Times',\n",
    "        'text.latex.preamble': [r'\\usepackage{amsmath}'],\n",
    "        'text.usetex':True,\n",
    "        #'axes.color_cycle': ['b', 'lime', 'r', 'purple', 'g', 'c', 'm', 'orange', 'darkblue', \\\n",
    "        #                        'darkcyan', 'y','orangered','chartreuse','brown','deeppink','lightgreen', 'k'],\n",
    "        #'font.serif':cm,\n",
    "        'figure.figsize': fig_size}\n",
    "plt.rcParams.update(params)"
   ]
  },
  {
   "cell_type": "code",
   "execution_count": 41,
   "metadata": {
    "collapsed": true
   },
   "outputs": [],
   "source": [
    "NG11_RA = 308.364632875\n",
    "NG11_DEC = 17.582909611111113"
   ]
  },
  {
   "cell_type": "code",
   "execution_count": 42,
   "metadata": {
    "collapsed": true
   },
   "outputs": [],
   "source": [
    "G_RA = 308.365031534108\n",
    "G_DEC = 17.58363472799394"
   ]
  },
  {
   "cell_type": "code",
   "execution_count": 44,
   "metadata": {
    "collapsed": true
   },
   "outputs": [],
   "source": [
    "diff_RA = NG11_RA-G_RA\n",
    "diff_DEC = NG11_DEC - G_DEC"
   ]
  },
  {
   "cell_type": "code",
   "execution_count": 46,
   "metadata": {
    "collapsed": true
   },
   "outputs": [],
   "source": [
    "import math"
   ]
  },
  {
   "cell_type": "code",
   "execution_count": 47,
   "metadata": {},
   "outputs": [],
   "source": [
    "error_RA = diff_RA*3600*math.cos(NG11_DEC*math.pi/180.)"
   ]
  },
  {
   "cell_type": "code",
   "execution_count": 48,
   "metadata": {},
   "outputs": [
    {
     "data": {
      "text/plain": [
       "-1.3681226893001448"
      ]
     },
     "execution_count": 48,
     "metadata": {},
     "output_type": "execute_result"
    }
   ],
   "source": [
    "error_RA"
   ]
  },
  {
   "cell_type": "code",
   "execution_count": null,
   "metadata": {
    "collapsed": true
   },
   "outputs": [],
   "source": [
    "Delta_RA = (308.3650315341085-308.364632875)*3600.*math.cos(17.58363*(math.pi/180)) = 1.4 arcsec = 1400 mas\n",
    "Delat=Dec = (17.58363472799394-17.582909611111113)*3600. = 2.6 arcsec = 2600 mas"
   ]
  }
 ],
 "metadata": {
  "kernelspec": {
   "display_name": "Python 3",
   "language": "python",
   "name": "python3"
  },
  "language_info": {
   "codemirror_mode": {
    "name": "ipython",
    "version": 3
   },
   "file_extension": ".py",
   "mimetype": "text/x-python",
   "name": "python",
   "nbconvert_exporter": "python",
   "pygments_lexer": "ipython3",
   "version": "3.6.5"
  }
 },
 "nbformat": 4,
 "nbformat_minor": 2
}
