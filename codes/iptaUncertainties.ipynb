{
 "cells": [
  {
   "cell_type": "code",
   "execution_count": 1,
   "metadata": {},
   "outputs": [],
   "source": [
    "import numpy as np\n",
    "import matplotlib.pyplot as plt\n",
    "import glob\n",
    "from astropy import units as u\n",
    "from astropy.io import ascii\n",
    "from astroquery.xmatch import XMatch\n",
    "from astropy.table import Table, vstack\n",
    "from astropy.coordinates import SkyCoord, ICRS, Galactic, Angle\n",
    "from astropy.time import Time\n",
    "from tqdm import tqdm"
   ]
  },
  {
   "cell_type": "code",
   "execution_count": 2,
   "metadata": {},
   "outputs": [],
   "source": [
    "files = glob.glob('../IPTA_DR1/*/*.par')"
   ]
  },
  {
   "cell_type": "code",
   "execution_count": 3,
   "metadata": {},
   "outputs": [],
   "source": [
    "RAs = []\n",
    "DECs = []\n",
    "Names = []\n",
    "pmra = []\n",
    "pmra_err = []\n",
    "pmdec = []\n",
    "pmdec_err = []\n",
    "pepoch = []\n",
    "posepoch = []\n",
    "dmepoch = []\n",
    "dm = []\n",
    "coords = []"
   ]
  },
  {
   "cell_type": "code",
   "execution_count": 4,
   "metadata": {},
   "outputs": [
    {
     "name": "stdout",
     "output_type": "stream",
     "text": [
      "this file is missing uncertainties on RAJ: ../IPTA_DR1/J0437-4715/J0437-4715.par\n",
      "this file is missing uncertainties on DECJ: ../IPTA_DR1/J0437-4715/J0437-4715.par\n",
      "this file is missing uncertainties on PX: ../IPTA_DR1/J0437-4715/J0437-4715.par\n",
      "this object has galactic coords: J1022+1001\n",
      "this file is missing uncertainties on RAJ: ../IPTA_DR1/J1643-1224/J1643-1224.par\n",
      "this file is missing uncertainties on DECJ: ../IPTA_DR1/J1643-1224/J1643-1224.par\n",
      "this file is missing uncertainties on PMRA: ../IPTA_DR1/J1643-1224/J1643-1224.par\n",
      "this file is missing uncertainties on PMDEC: ../IPTA_DR1/J1643-1224/J1643-1224.par\n",
      "this file is missing uncertainties on PX: ../IPTA_DR1/J1643-1224/J1643-1224.par\n"
     ]
    }
   ],
   "source": [
    "for file in files:\n",
    "    d = {}\n",
    "    with open(file) as f:\n",
    "        for line in f:\n",
    "            key = line.split()[0]\n",
    "            value = line.split()[1]\n",
    "            d[key] = value\n",
    "            if key in ['RAJ', 'DECJ', 'PMRA', 'PMDEC', 'PX']:\n",
    "                try:\n",
    "                    err = line.split()[3]\n",
    "                    d[key+'_ERR'] = err\n",
    "                except:\n",
    "                    print(\"this file is missing uncertainties \\\n",
    "on {0}: {1}\".format(key, file))\n",
    "                    d[key+'_ERR'] = 0.0\n",
    "    \n",
    "    try:\n",
    "        ra = Angle(d['RAJ'], u.hourangle).to(u.deg)\n",
    "        dec = Angle(d['DECJ'], u.degree)\n",
    "        coord = SkyCoord(ra=ra, dec=dec, frame='icrs',\n",
    "                         pm_ra_cosdec = float(d['PMRA'])*u.mas/u.yr,\n",
    "                         pm_dec=float(d['PMDEC'])*u.mas/u.yr,\n",
    "                         obstime=Time(float(d['POSEPOCH']), format='mjd'),\n",
    "                         distance=1. * u.kpc) # HACK\n",
    "        coords.append(coord)\n",
    "        RAs.append(ra.value)\n",
    "        DECs.append(dec.value)\n",
    "        Names.append(d['PSRJ'])\n",
    "        pmra.append(coord.pm_ra_cosdec.value)\n",
    "        pmra_err.append(float(d['PMRA_ERR']))\n",
    "        pmdec.append(coord.pm_dec.value)\n",
    "        pmdec_err.append(float(d['PMDEC_ERR']))\n",
    "        pepoch.append(d['PEPOCH'])\n",
    "        posepoch.append(d['POSEPOCH'])\n",
    "        dmepoch.append(d['DMEPOCH'])\n",
    "        dm.append(d['DM'])\n",
    "        \n",
    "    except KeyError:\n",
    "        lon = float(d['ELONG'])*u.deg\n",
    "        lat = float(d['ELAT'])*u.deg\n",
    "        coord = SkyCoord(l=lon, b=lat, frame='galactic',\n",
    "                             pm_l_cosb = float(d['PMELONG'])*u.mas/u.yr, \n",
    "                             pm_b=float(d['PMELAT'])*u.mas/u.yr,\n",
    "                             obstime=Time(float(d['POSEPOCH']), format='mjd'),\n",
    "                             distance=1. * u.kpc) # HACKITY HACK HACK\n",
    "        icrscoord = coord.transform_to(ICRS)\n",
    "        coords.append(icrscoord)\n",
    "        print(\"this object has galactic coords: {0}\".format(d['PSRJ']))\n",
    "        RAs.append(icrscoord.ra.to(u.deg).value)\n",
    "        DECs.append(icrscoord.dec.to(u.deg).value)\n",
    "        Names.append(d['PSRJ'])\n",
    "        pmra.append(icrscoord.pm_ra_cosdec.value)\n",
    "        pmra_err.append(0.0) # TEMPORARY HACK\n",
    "        pmdec.append(icrscoord.pm_dec.value)\n",
    "        pmdec_err.append(0.0) # TEMPORARY HACK\n",
    "        pepoch.append(d['PEPOCH'])\n",
    "        posepoch.append(d['POSEPOCH'])\n",
    "        dmepoch.append(d['DMEPOCH'])\n",
    "        dm.append(d['DM']) "
   ]
  },
  {
   "cell_type": "markdown",
   "metadata": {},
   "source": [
    "### a bad case: J1910+1256"
   ]
  },
  {
   "cell_type": "code",
   "execution_count": 19,
   "metadata": {},
   "outputs": [],
   "source": [
    "ind = np.where(np.array(Names) == 'J1910+1256')[0][0]"
   ]
  },
  {
   "cell_type": "code",
   "execution_count": 20,
   "metadata": {},
   "outputs": [],
   "source": [
    "ipta_pmra_err = pmra_err[ind]\n",
    "ipta_pmdec_err = pmdec_err[ind]\n",
    "ipta_posepoch = posepoch[ind]"
   ]
  },
  {
   "cell_type": "code",
   "execution_count": 21,
   "metadata": {},
   "outputs": [
    {
     "data": {
      "text/plain": [
       "<SkyCoord (ICRS): (ra, dec, distance) in (deg, deg, kpc)\n",
       "    (287.54042259, 12.9404131, 1.)\n",
       " (pm_ra_cosdec, pm_dec) in mas / yr\n",
       "    (0.25061013, -6.93472136)>"
      ]
     },
     "execution_count": 21,
     "metadata": {},
     "output_type": "execute_result"
    }
   ],
   "source": [
    "ipta_coord = coords[ind]\n",
    "ipta_coord"
   ]
  },
  {
   "cell_type": "code",
   "execution_count": 22,
   "metadata": {},
   "outputs": [
    {
     "data": {
      "text/plain": [
       "<SkyCoord (ICRS): (ra, dec, distance) in (deg, deg, kpc)\n",
       "    (287.5407215, 12.94037301, 1.)\n",
       " (pm_ra_cosdec, pm_dec) in mas / yr\n",
       "    (-0.67205754, -5.44911276)>"
      ]
     },
     "execution_count": 22,
     "metadata": {},
     "output_type": "execute_result"
    }
   ],
   "source": [
    "gaia_time = Time(57023., format='mjd')\n",
    "gaia_match_coord =  SkyCoord(ra=287.5407215 * u.degree, \n",
    "                             dec=12.94037301 * u.degree, frame='icrs',\n",
    "                         pm_ra_cosdec = -0.672057539 *u.mas/u.yr,\n",
    "                         pm_dec= -5.449112763 *u.mas/u.yr,\n",
    "                         obstime=Time(2015.5, format='decimalyear'),\n",
    "                         distance=1. * u.kpc) # HACK\n",
    "gaia_ra_err = 0.576369178\n",
    "gaia_dec_err = 0.623526292\n",
    "gaia_match_coord"
   ]
  },
  {
   "cell_type": "code",
   "execution_count": 23,
   "metadata": {},
   "outputs": [
    {
     "data": {
      "text/plain": [
       "1.0526847597792082"
      ]
     },
     "execution_count": 23,
     "metadata": {},
     "output_type": "execute_result"
    }
   ],
   "source": [
    "gaia_ipta_sep = ipta_coord.apply_space_motion(new_obstime=gaia_time).separation(gaia_match_coord).arcsec\n",
    "gaia_ipta_sep"
   ]
  },
  {
   "cell_type": "code",
   "execution_count": 24,
   "metadata": {},
   "outputs": [
    {
     "name": "stderr",
     "output_type": "stream",
     "text": [
      "100%|██████████| 100/100 [00:26<00:00,  3.72it/s]\n"
     ]
    }
   ],
   "source": [
    "N = 100\n",
    "seps = []\n",
    "ipta_ras = []\n",
    "ipta_decs = []\n",
    "gaia_ras = []\n",
    "gaia_decs = []\n",
    "for n in tqdm(range(N)):\n",
    "    c1 = SkyCoord(ra=ipta_coord.ra,\n",
    "                 dec=ipta_coord.dec, frame='icrs',\n",
    "                 pm_ra_cosdec=np.random.normal(ipta_coord.pm_ra_cosdec.value, \n",
    "                                               ipta_pmra_err) * u.mas/u.yr,\n",
    "                 pm_dec=np.random.normal(ipta_coord.pm_dec.value, \n",
    "                                               ipta_pmdec_err) * u.mas/u.yr,\n",
    "                 obstime=ipta_coord.obstime,\n",
    "                 distance=ipta_coord.distance)\n",
    "    c2 = SkyCoord(ra=np.random.normal(gaia_match_coord.ra.arcsec, gaia_ra_err) * u.arcsec,\n",
    "                 dec=np.random.normal(gaia_match_coord.dec.arcsec, gaia_dec_err) * u.arcsec, \n",
    "                 frame='icrs',\n",
    "                 pm_ra_cosdec=gaia_match_coord.pm_ra_cosdec, \n",
    "                 pm_dec=gaia_match_coord.pm_dec, \n",
    "                 obstime=gaia_match_coord.obstime,\n",
    "                 distance=gaia_match_coord.distance)\n",
    "    ipta_ras.append(c1.apply_space_motion(new_obstime=gaia_time).ra.degree)\n",
    "    ipta_decs.append(c1.apply_space_motion(new_obstime=gaia_time).dec.degree)\n",
    "    gaia_ras.append(c2.ra.degree)\n",
    "    gaia_decs.append(c2.dec.degree)\n",
    "    sep = c1.apply_space_motion(new_obstime=gaia_time).separation(c2).arcsec\n",
    "    seps.append(sep)"
   ]
  },
  {
   "cell_type": "code",
   "execution_count": 40,
   "metadata": {},
   "outputs": [
    {
     "data": {
      "text/plain": [
       "287.54042248890147"
      ]
     },
     "execution_count": 40,
     "metadata": {},
     "output_type": "execute_result"
    }
   ],
   "source": [
    "np.min(ipta_ras)"
   ]
  },
  {
   "cell_type": "code",
   "execution_count": 38,
   "metadata": {},
   "outputs": [
    {
     "data": {
      "text/plain": [
       "0.00016668193966642284"
      ]
     },
     "execution_count": 38,
     "metadata": {},
     "output_type": "execute_result"
    }
   ],
   "source": [
    "np.std(gaia_ras)"
   ]
  },
  {
   "cell_type": "code",
   "execution_count": 49,
   "metadata": {},
   "outputs": [
    {
     "data": {
      "text/plain": [
       "<matplotlib.lines.Line2D at 0x108bc3a90>"
      ]
     },
     "execution_count": 49,
     "metadata": {},
     "output_type": "execute_result"
    },
    {
     "data": {
      "image/png": "[encoded data removed]",
      "text/plain": [
       "<Figure size 432x288 with 1 Axes>"
      ]
     },
     "metadata": {},
     "output_type": "display_data"
    }
   ],
   "source": [
    "fig = plt.figure()\n",
    "ax = fig.add_subplot(111)\n",
    "ax.hist(gaia_ras, alpha=0.5, color='blue')\n",
    "plt.axvline(np.median(ipta_ras), color='red')\n",
    "\n",
    "#ax.hist(ipta_ras, alpha=0.5, color='red')\n",
    "#ax.set_xlim([np.min(ipta_ras),np.max(ipta_ras)+0.00001])"
   ]
  },
  {
   "cell_type": "code",
   "execution_count": 48,
   "metadata": {},
   "outputs": [
    {
     "data": {
      "text/plain": [
       "(12.940401391187363, 12.940403738064273)"
      ]
     },
     "execution_count": 48,
     "metadata": {},
     "output_type": "execute_result"
    },
    {
     "data": {
      "image/png": "[encoded data removed]",
      "text/plain": [
       "<Figure size 432x288 with 1 Axes>"
      ]
     },
     "metadata": {},
     "output_type": "display_data"
    }
   ],
   "source": [
    "#plt.hist(ipta_decs, alpha=0.5, color='red')\n",
    "plt.axvline(np.median(ipta_decs), color='red')\n",
    "plt.hist(gaia_decs, alpha=0.5, color='blue')\n",
    "ax.set_xlim([np.min(ipta_decs),np.max(ipta_decs)])"
   ]
  },
  {
   "cell_type": "code",
   "execution_count": 11,
   "metadata": {},
   "outputs": [
    {
     "data": {
      "text/plain": [
       "<matplotlib.lines.Line2D at 0x107ae3668>"
      ]
     },
     "execution_count": 11,
     "metadata": {},
     "output_type": "execute_result"
    },
    {
     "data": {
      "image/png": "[encoded data removed]",
      "text/plain": [
       "<Figure size 432x288 with 1 Axes>"
      ]
     },
     "metadata": {},
     "output_type": "display_data"
    }
   ],
   "source": [
    "plt.hist(seps)\n",
    "plt.axvline(gaia_ipta_sep, c='red')"
   ]
  },
  {
   "cell_type": "markdown",
   "metadata": {},
   "source": [
    "## a not-so-bad disagreement case: J1012+5307"
   ]
  },
  {
   "cell_type": "code",
   "execution_count": 50,
   "metadata": {},
   "outputs": [],
   "source": [
    "ind = np.where(np.array(Names) == 'J1012+5307')[0][0]"
   ]
  },
  {
   "cell_type": "code",
   "execution_count": 51,
   "metadata": {},
   "outputs": [],
   "source": [
    "ipta_pmra_err = pmra_err[ind]\n",
    "ipta_pmdec_err = pmdec_err[ind]\n",
    "ipta_posepoch = posepoch[ind]"
   ]
  },
  {
   "cell_type": "code",
   "execution_count": 52,
   "metadata": {},
   "outputs": [
    {
     "data": {
      "text/plain": [
       "<SkyCoord (ICRS): (ra, dec, distance) in (deg, deg, kpc)\n",
       "    (153.13932304, 53.1173056, 1.)\n",
       " (pm_ra_cosdec, pm_dec) in mas / yr\n",
       "    (2.62371226, -25.45880892)>"
      ]
     },
     "execution_count": 52,
     "metadata": {},
     "output_type": "execute_result"
    }
   ],
   "source": [
    "ipta_coord = coords[ind]\n",
    "ipta_coord"
   ]
  },
  {
   "cell_type": "code",
   "execution_count": 53,
   "metadata": {},
   "outputs": [
    {
     "data": {
      "text/plain": [
       "<SkyCoord (ICRS): (ra, dec, distance) in (deg, deg, kpc)\n",
       "    (153.1393303, 53.11726303, 1.)\n",
       " (pm_ra_cosdec, pm_dec) in mas / yr\n",
       "    (2.97695999, -26.94384758)>"
      ]
     },
     "execution_count": 53,
     "metadata": {},
     "output_type": "execute_result"
    }
   ],
   "source": [
    "gaia_time = Time(57023., format='mjd')\n",
    "gaia_match_coord =  SkyCoord(ra=153.1393303 * u.degree, \n",
    "                             dec=53.11726303 * u.degree, frame='icrs',\n",
    "                         pm_ra_cosdec = 2.976959985 *u.mas/u.yr,\n",
    "                         pm_dec= -26.94384758 *u.mas/u.yr,\n",
    "                         obstime= gaia_time,\n",
    "                         distance=1. * u.kpc) # HACK\n",
    "gaia_ra_err = 0.241174616\n",
    "gaia_dec_err = 0.302546482\n",
    "gaia_match_coord"
   ]
  },
  {
   "cell_type": "code",
   "execution_count": 54,
   "metadata": {},
   "outputs": [
    {
     "data": {
      "text/plain": [
       "0.012298049411488533"
      ]
     },
     "execution_count": 54,
     "metadata": {},
     "output_type": "execute_result"
    }
   ],
   "source": [
    "gaia_ipta_sep = ipta_coord.apply_space_motion(new_obstime=gaia_time).separation(gaia_match_coord).arcsec\n",
    "gaia_ipta_sep"
   ]
  },
  {
   "cell_type": "code",
   "execution_count": 55,
   "metadata": {},
   "outputs": [
    {
     "name": "stderr",
     "output_type": "stream",
     "text": [
      "100%|██████████| 100/100 [00:17<00:00,  5.59it/s]\n"
     ]
    }
   ],
   "source": [
    "N = 100\n",
    "seps = []\n",
    "ipta_ras = []\n",
    "ipta_decs = []\n",
    "gaia_ras = []\n",
    "gaia_decs = []\n",
    "for n in tqdm(range(N)):\n",
    "    c1 = SkyCoord(ra=ipta_coord.ra,\n",
    "                 dec=ipta_coord.dec, frame='icrs',\n",
    "                 pm_ra_cosdec=np.random.normal(ipta_coord.pm_ra_cosdec.value, \n",
    "                                               ipta_pmra_err) * u.mas/u.yr,\n",
    "                 pm_dec=np.random.normal(ipta_coord.pm_dec.value, \n",
    "                                               ipta_pmdec_err) * u.mas/u.yr,\n",
    "                 obstime=ipta_coord.obstime,\n",
    "                 distance=ipta_coord.distance)\n",
    "    c2 = SkyCoord(ra=np.random.normal(gaia_match_coord.ra.arcsec, gaia_ra_err) * u.arcsec,\n",
    "                 dec=np.random.normal(gaia_match_coord.dec.arcsec, gaia_dec_err) * u.arcsec, \n",
    "                 frame='icrs',\n",
    "                 pm_ra_cosdec=gaia_match_coord.pm_ra_cosdec, \n",
    "                 pm_dec=gaia_match_coord.pm_dec, \n",
    "                 obstime=gaia_match_coord.obstime,\n",
    "                 distance=gaia_match_coord.distance)\n",
    "    ipta_ras.append(c1.apply_space_motion(new_obstime=gaia_time).ra.degree)\n",
    "    ipta_decs.append(c1.apply_space_motion(new_obstime=gaia_time).dec.degree)\n",
    "    gaia_ras.append(c2.ra.degree)\n",
    "    gaia_decs.append(c2.dec.degree)\n",
    "    sep = c1.apply_space_motion(new_obstime=gaia_time).separation(c2).arcsec\n",
    "    seps.append(sep)"
   ]
  },
  {
   "cell_type": "code",
   "execution_count": 56,
   "metadata": {},
   "outputs": [
    {
     "data": {
      "text/plain": [
       "<matplotlib.lines.Line2D at 0x108d142e8>"
      ]
     },
     "execution_count": 56,
     "metadata": {},
     "output_type": "execute_result"
    },
    {
     "data": {
      "image/png": "[encoded data removed]",
      "text/plain": [
       "<Figure size 432x288 with 1 Axes>"
      ]
     },
     "metadata": {},
     "output_type": "display_data"
    }
   ],
   "source": [
    "plt.hist(seps)\n",
    "plt.axvline(gaia_ipta_sep, c='red')"
   ]
  },
  {
   "cell_type": "code",
   "execution_count": 57,
   "metadata": {},
   "outputs": [
    {
     "data": {
      "text/plain": [
       "<matplotlib.lines.Line2D at 0x108dcc080>"
      ]
     },
     "execution_count": 57,
     "metadata": {},
     "output_type": "execute_result"
    },
    {
     "data": {
      "image/png": "[encoded data removed]",
      "text/plain": [
       "<Figure size 432x288 with 1 Axes>"
      ]
     },
     "metadata": {},
     "output_type": "display_data"
    }
   ],
   "source": [
    "fig = plt.figure()\n",
    "ax = fig.add_subplot(111)\n",
    "ax.hist(gaia_ras, alpha=0.5, color='blue')\n",
    "plt.axvline(np.median(ipta_ras), color='red')\n",
    "\n",
    "#ax.hist(ipta_ras, alpha=0.5, color='red')\n",
    "#ax.set_xlim([np.min(ipta_ras),np.max(ipta_ras)+0.00001])"
   ]
  },
  {
   "cell_type": "code",
   "execution_count": 58,
   "metadata": {},
   "outputs": [
    {
     "data": {
      "text/plain": [
       "(53.117266299183584, 53.11726654308136)"
      ]
     },
     "execution_count": 58,
     "metadata": {},
     "output_type": "execute_result"
    },
    {
     "data": {
      "image/png": "[encoded data removed]",
      "text/plain": [
       "<Figure size 432x288 with 1 Axes>"
      ]
     },
     "metadata": {},
     "output_type": "display_data"
    }
   ],
   "source": [
    "#plt.hist(ipta_decs, alpha=0.5, color='red')\n",
    "plt.axvline(np.median(ipta_decs), color='red')\n",
    "plt.hist(gaia_decs, alpha=0.5, color='blue')\n",
    "ax.set_xlim([np.min(ipta_decs),np.max(ipta_decs)])"
   ]
  },
  {
   "cell_type": "code",
   "execution_count": null,
   "metadata": {},
   "outputs": [],
   "source": []
  }
 ],
 "metadata": {
  "kernelspec": {
   "display_name": "Python 3",
   "language": "python",
   "name": "python3"
  },
  "language_info": {
   "codemirror_mode": {
    "name": "ipython",
    "version": 3
   },
   "file_extension": ".py",
   "mimetype": "text/x-python",
   "name": "python",
   "nbconvert_exporter": "python",
   "pygments_lexer": "ipython3",
   "version": "3.6.0"
  }
 },
 "nbformat": 4,
 "nbformat_minor": 2
}
