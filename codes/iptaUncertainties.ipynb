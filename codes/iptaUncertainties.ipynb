{
 "cells": [
  {
   "cell_type": "code",
   "execution_count": 1,
   "metadata": {},
   "outputs": [],
   "source": [
    "import numpy as np\n",
    "import matplotlib.pyplot as plt\n",
    "import glob\n",
    "from astropy import units as u\n",
    "from astropy.io import ascii\n",
    "from astroquery.xmatch import XMatch\n",
    "from astropy.table import Table, vstack\n",
    "from astropy.coordinates import SkyCoord, ICRS, Galactic, Angle\n",
    "from astropy.time import Time\n",
    "from tqdm import tqdm\n",
    "from scipy.stats import norm\n",
    "import scipy.stats"
   ]
  },
  {
   "cell_type": "code",
   "execution_count": 2,
   "metadata": {},
   "outputs": [],
   "source": [
    "pi = np.pi\n",
    "sin = np.sin\n",
    "cos = np.cos\n",
    "log10 = np.log10\n",
    "sqrt = np.sqrt\n",
    "\n",
    "c=2.99792458*(10**8)\n",
    "G=6.67428*(10**(-11))\n",
    "s_mass=G*(1.98892*10**(30))/(c**3)"
   ]
  },
  {
   "cell_type": "code",
   "execution_count": 3,
   "metadata": {},
   "outputs": [],
   "source": [
    "files = glob.glob('../IPTA_DR1/*/*.par')"
   ]
  },
  {
   "cell_type": "code",
   "execution_count": 64,
   "metadata": {},
   "outputs": [],
   "source": [
    "def hist_weight(lst):\n",
    "    return np.ones_like(lst)/len(lst)\n",
    "\n",
    "def auto_bin(bin_size, min_edge, max_edge):\n",
    "    #bin_size = 0.05; min_edge = -3.5; max_edge = -1\n",
    "    N = (max_edge-min_edge)/bin_size; Nplus1 = N + 1\n",
    "    bin_list = np.linspace(min_edge, max_edge, Nplus1)\n",
    "    return bin_list\n",
    "\n",
    "def ang_dist(alpha1, alpha2, delta1, delta2):\n",
    "    \"\"\"\n",
    "    RA (alpha) and DEC (delta) are both in radians.\n",
    "    returns angular distance in arcseconds.\n",
    "    \"\"\"\n",
    "    alpha1 = alpha1*pi/180\n",
    "    alpha2 = alpha2*pi/180\n",
    "    delta1 = delta1*pi/180\n",
    "    delta2 = delta2*pi/180\n",
    "\n",
    "    arg = sin(delta1)*sin(delta2)+cos(delta1)*cos(delta2)*cos(alpha1-alpha2)\n",
    "    theta = np.arccos(arg)*180/pi*3600\n",
    "    est = np.sqrt(2*(1-arg))\n",
    "    return theta\n",
    "\n",
    "# plotting preamble\n",
    "\n",
    "fig_width_pt = 245.27 #513.17           # Get this from LaTeX using \\showthe\\columnwidth\n",
    "inches_per_pt = 1.0/72.27               # Convert pt to inches\n",
    "golden_mean = (np.sqrt(5)-1.0)/2.0      # Aesthetic ratio\n",
    "fig_width = fig_width_pt*inches_per_pt  # width in inches\n",
    "fig_height =fig_width*golden_mean       # height in inches\n",
    "fig_size = [fig_width,fig_height]\n",
    "\n",
    "params = {'backend': 'pdf',\n",
    "        'axes.labelsize': 7,\n",
    "        'lines.markersize': 2,\n",
    "        'font.size': 7,\n",
    "        'xtick.major.size':6,\n",
    "        'xtick.minor.size':3,  \n",
    "        'ytick.major.size':6,\n",
    "        'ytick.minor.size':3, \n",
    "        'xtick.major.width':0.5,\n",
    "        'ytick.major.width':0.5,\n",
    "        'xtick.minor.width':0.5,\n",
    "        'ytick.minor.width':0.5,\n",
    "        'lines.markeredgewidth':1,\n",
    "        'axes.linewidth':1.0,\n",
    "        'legend.fontsize': 7,\n",
    "        'xtick.labelsize': 7,\n",
    "        'ytick.labelsize': 7,\n",
    "        'savefig.dpi':200,\n",
    "        'path.simplify':True,\n",
    "        #'font.family': 'serif',\n",
    "        'font.serif':'Times',\n",
    "        'text.latex.preamble': [r'\\usepackage{amsmath}'],\n",
    "        'text.usetex':True,\n",
    "        #'axes.color_cycle': ['b', 'lime', 'r', 'purple', 'g', 'c', 'm', 'orange', 'darkblue', \\\n",
    "        #                        'darkcyan', 'y','orangered','chartreuse','brown','deeppink','lightgreen', 'k'],\n",
    "        #'font.serif':cm,\n",
    "        'figure.figsize': fig_size}\n",
    "plt.rcParams.update(params)"
   ]
  },
  {
   "cell_type": "code",
   "execution_count": 5,
   "metadata": {},
   "outputs": [
    {
     "data": {
      "text/plain": [
       "18.088373065939425"
      ]
     },
     "execution_count": 5,
     "metadata": {},
     "output_type": "execute_result"
    }
   ],
   "source": [
    "ang_dist(60, 60.005, 10,10.001)"
   ]
  },
  {
   "cell_type": "code",
   "execution_count": 6,
   "metadata": {},
   "outputs": [],
   "source": [
    "RAs = []\n",
    "DECs = []\n",
    "Names = []\n",
    "pmra = []\n",
    "pmra_err = []\n",
    "pmdec = []\n",
    "pmdec_err = []\n",
    "pepoch = []\n",
    "posepoch = []\n",
    "dmepoch = []\n",
    "dm = []\n",
    "coords = []"
   ]
  },
  {
   "cell_type": "code",
   "execution_count": 7,
   "metadata": {},
   "outputs": [
    {
     "name": "stdout",
     "output_type": "stream",
     "text": [
      "this file is missing uncertainties on RAJ: ../IPTA_DR1/J0437-4715/J0437-4715.par\n",
      "this file is missing uncertainties on DECJ: ../IPTA_DR1/J0437-4715/J0437-4715.par\n",
      "this file is missing uncertainties on PMRA: ../IPTA_DR1/J0437-4715/J0437-4715.par\n",
      "this file is missing uncertainties on PMDEC: ../IPTA_DR1/J0437-4715/J0437-4715.par\n",
      "this file is missing uncertainties on PX: ../IPTA_DR1/J0437-4715/J0437-4715.par\n",
      "this object has galactic coords: J1022+1001\n",
      "this file is missing uncertainties on RAJ: ../IPTA_DR1/J1643-1224/J1643-1224.par\n",
      "this file is missing uncertainties on DECJ: ../IPTA_DR1/J1643-1224/J1643-1224.par\n",
      "this file is missing uncertainties on PMRA: ../IPTA_DR1/J1643-1224/J1643-1224.par\n",
      "this file is missing uncertainties on PMDEC: ../IPTA_DR1/J1643-1224/J1643-1224.par\n",
      "this file is missing uncertainties on PX: ../IPTA_DR1/J1643-1224/J1643-1224.par\n"
     ]
    }
   ],
   "source": [
    "for file in files:\n",
    "    d = {}\n",
    "    with open(file) as f:\n",
    "        for line in f:\n",
    "            key = line.split()[0]\n",
    "            value = line.split()[1]\n",
    "            d[key] = value\n",
    "            if key in ['RAJ', 'DECJ', 'PMRA', 'PMDEC', 'PX']:\n",
    "                try:\n",
    "                    err = line.split()[3]\n",
    "                    d[key+'_ERR'] = err\n",
    "                except:\n",
    "                    print(\"this file is missing uncertainties \\\n",
    "on {0}: {1}\".format(key, file))\n",
    "                    d[key+'_ERR'] = 0.0\n",
    "    \n",
    "    try:\n",
    "        ra = Angle(d['RAJ'], u.hourangle).to(u.deg)\n",
    "        dec = Angle(d['DECJ'], u.degree)\n",
    "        coord = SkyCoord(ra=ra, dec=dec, frame='icrs',\n",
    "                         pm_ra_cosdec = float(d['PMRA'])*u.mas/u.yr,\n",
    "                         pm_dec=float(d['PMDEC'])*u.mas/u.yr,\n",
    "                         obstime=Time(float(d['POSEPOCH']), format='mjd'),\n",
    "                         distance=1. * u.kpc) # HACK\n",
    "        coords.append(coord)\n",
    "        RAs.append(ra.value)\n",
    "        DECs.append(dec.value)\n",
    "        Names.append(d['PSRJ'])\n",
    "        pmra.append(coord.pm_ra_cosdec.value)\n",
    "        pmra_err.append(float(d['PMRA_ERR']))\n",
    "        pmdec.append(coord.pm_dec.value)\n",
    "        pmdec_err.append(float(d['PMDEC_ERR']))\n",
    "        pepoch.append(d['PEPOCH'])\n",
    "        posepoch.append(d['POSEPOCH'])\n",
    "        dmepoch.append(d['DMEPOCH'])\n",
    "        dm.append(d['DM'])\n",
    "        \n",
    "    except KeyError:\n",
    "        lon = float(d['ELONG'])*u.deg\n",
    "        lat = float(d['ELAT'])*u.deg\n",
    "        coord = SkyCoord(l=lon, b=lat, frame='galactic',\n",
    "                             pm_l_cosb = float(d['PMELONG'])*u.mas/u.yr, \n",
    "                             pm_b=float(d['PMELAT'])*u.mas/u.yr,\n",
    "                             obstime=Time(float(d['POSEPOCH']), format='mjd'),\n",
    "                             distance=1. * u.kpc) # HACKITY HACK HACK\n",
    "        icrscoord = coord.transform_to(ICRS)\n",
    "        coords.append(icrscoord)\n",
    "        print(\"this object has galactic coords: {0}\".format(d['PSRJ']))\n",
    "        RAs.append(icrscoord.ra.to(u.deg).value)\n",
    "        DECs.append(icrscoord.dec.to(u.deg).value)\n",
    "        Names.append(d['PSRJ'])\n",
    "        pmra.append(icrscoord.pm_ra_cosdec.value)\n",
    "        pmra_err.append(0.0) # TEMPORARY HACK\n",
    "        pmdec.append(icrscoord.pm_dec.value)\n",
    "        pmdec_err.append(0.0) # TEMPORARY HACK\n",
    "        pepoch.append(d['PEPOCH'])\n",
    "        posepoch.append(d['POSEPOCH'])\n",
    "        dmepoch.append(d['DMEPOCH'])\n",
    "        dm.append(d['DM']) "
   ]
  },
  {
   "cell_type": "code",
   "execution_count": 8,
   "metadata": {},
   "outputs": [
    {
     "data": {
      "text/plain": [
       "['J0030+0451',\n",
       " 'J0034-0534',\n",
       " 'J0218+4232',\n",
       " 'J0437-4715',\n",
       " 'J0610-2100',\n",
       " 'J0613-0200',\n",
       " 'J0621+1002',\n",
       " 'J0711-6830',\n",
       " 'J0751+1807',\n",
       " 'J0900-3144',\n",
       " 'J1012+5307',\n",
       " 'J1022+1001',\n",
       " 'J1024-0719',\n",
       " 'J1045-4509',\n",
       " 'J1455-3330',\n",
       " 'J1600-3053',\n",
       " 'J1603-7202',\n",
       " 'J1640+2224',\n",
       " 'J1643-1224',\n",
       " 'J1713+0747',\n",
       " 'J1721-2457',\n",
       " 'J1730-2304',\n",
       " 'J1732-5049',\n",
       " 'J1738+0333',\n",
       " 'J1744-1134',\n",
       " 'J1751-2857',\n",
       " 'J1801-1417',\n",
       " 'J1802-2124',\n",
       " 'J1804-2717',\n",
       " 'J1824-2452A',\n",
       " 'J1843-1113',\n",
       " 'J1853+1303',\n",
       " 'J1857+0943',\n",
       " 'J1909-3744',\n",
       " 'J1910+1256',\n",
       " 'J1911+1347',\n",
       " 'J1911-1114',\n",
       " 'J1918-0642',\n",
       " 'J1939+2134',\n",
       " 'J1955+2908',\n",
       " 'J2010-1323',\n",
       " 'J2019+2425',\n",
       " 'J2033+1734',\n",
       " 'J2124-3358',\n",
       " 'J2129-5721',\n",
       " 'J2145-0750',\n",
       " 'J2229+2643',\n",
       " 'J2317+1439',\n",
       " 'J2322+2057']"
      ]
     },
     "execution_count": 8,
     "metadata": {},
     "output_type": "execute_result"
    }
   ],
   "source": [
    "Names"
   ]
  },
  {
   "cell_type": "code",
   "execution_count": 9,
   "metadata": {},
   "outputs": [],
   "source": [
    "### J1804-2717"
   ]
  },
  {
   "cell_type": "code",
   "execution_count": 10,
   "metadata": {},
   "outputs": [],
   "source": [
    "ind = np.where(np.array(Names) == 'J1804-2717')[0][0]"
   ]
  },
  {
   "cell_type": "code",
   "execution_count": 11,
   "metadata": {},
   "outputs": [],
   "source": [
    "ipta_pmra_err = pmra_err[ind]\n",
    "ipta_pmdec_err = pmdec_err[ind]\n",
    "ipta_posepoch = posepoch[ind]"
   ]
  },
  {
   "cell_type": "code",
   "execution_count": 12,
   "metadata": {},
   "outputs": [
    {
     "data": {
      "text/plain": [
       "<SkyCoord (ICRS): (ra, dec, distance) in (deg, deg, kpc)\n",
       "    (271.08805457, -27.29203619, 1.)\n",
       " (pm_ra_cosdec, pm_dec) in mas / yr\n",
       "    (2.45016982, -23.22141798)>"
      ]
     },
     "execution_count": 12,
     "metadata": {},
     "output_type": "execute_result"
    }
   ],
   "source": [
    "ipta_coord = coords[ind]\n",
    "ipta_coord"
   ]
  },
  {
   "cell_type": "code",
   "execution_count": 13,
   "metadata": {},
   "outputs": [
    {
     "data": {
      "text/plain": [
       "<SkyCoord (ICRS): (ra, dec, distance) in (deg, deg, kpc)\n",
       "    (271.0877923, -27.29173662, 1.)\n",
       " (pm_ra_cosdec, pm_dec) in mas / yr\n",
       "    (0.49985325, -8.58735797)>"
      ]
     },
     "execution_count": 13,
     "metadata": {},
     "output_type": "execute_result"
    }
   ],
   "source": [
    "gaia_time = Time(57023., format='mjd')\n",
    "gaia_match_coord =  SkyCoord(ra=271.0877923 * u.degree, \n",
    "                             dec=-27.29173662* u.degree, frame='icrs',\n",
    "                         pm_ra_cosdec =  0.499853246*u.mas/u.yr,\n",
    "                         pm_dec= -8.587357973 *u.mas/u.yr,\n",
    "                         obstime=Time(2015.5, format='decimalyear'),\n",
    "                         distance=1. * u.kpc) # HACK\n",
    "gaia_ra_err = 0.242608527\n",
    "gaia_dec_err = 0.220162839\n",
    "gaia_match_coord"
   ]
  },
  {
   "cell_type": "code",
   "execution_count": 14,
   "metadata": {},
   "outputs": [
    {
     "data": {
      "text/plain": [
       "1.4778438817410968"
      ]
     },
     "execution_count": 14,
     "metadata": {},
     "output_type": "execute_result"
    }
   ],
   "source": [
    "gaia_ipta_sep = ipta_coord.apply_space_motion(new_obstime=gaia_time).separation(gaia_match_coord).arcsec\n",
    "gaia_ipta_sep"
   ]
  },
  {
   "cell_type": "code",
   "execution_count": 15,
   "metadata": {},
   "outputs": [
    {
     "name": "stderr",
     "output_type": "stream",
     "text": [
      "100%|██████████| 500/500 [01:02<00:00,  7.97it/s]\n"
     ]
    }
   ],
   "source": [
    "N = 500\n",
    "seps = []\n",
    "ipta_ras = []\n",
    "ipta_decs = []\n",
    "gaia_ras = []\n",
    "gaia_decs = []\n",
    "for n in tqdm(range(N)):\n",
    "    c1 = SkyCoord(ra=ipta_coord.ra,\n",
    "                 dec=ipta_coord.dec, frame='icrs',\n",
    "                 pm_ra_cosdec=np.random.normal(ipta_coord.pm_ra_cosdec.value, \n",
    "                                               ipta_pmra_err) * u.mas/u.yr,\n",
    "                 pm_dec=np.random.normal(ipta_coord.pm_dec.value, \n",
    "                                               ipta_pmdec_err) * u.mas/u.yr,\n",
    "                 obstime=ipta_coord.obstime,\n",
    "                 distance=ipta_coord.distance)\n",
    "    c2 = SkyCoord(ra=np.random.normal(gaia_match_coord.ra.arcsec, gaia_ra_err) * u.arcsec,\n",
    "                 dec=np.random.normal(gaia_match_coord.dec.arcsec, gaia_dec_err) * u.arcsec, \n",
    "                 frame='icrs',\n",
    "                 pm_ra_cosdec=gaia_match_coord.pm_ra_cosdec, \n",
    "                 pm_dec=gaia_match_coord.pm_dec, \n",
    "                 obstime=gaia_match_coord.obstime,\n",
    "                 distance=gaia_match_coord.distance)\n",
    "    ipta_ras.append(c1.apply_space_motion(new_obstime=gaia_time).ra.degree)\n",
    "    ipta_decs.append(c1.apply_space_motion(new_obstime=gaia_time).dec.degree)\n",
    "    gaia_ras.append(c2.ra.degree)\n",
    "    gaia_decs.append(c2.dec.degree)\n",
    "    sep = c1.apply_space_motion(new_obstime=gaia_time).separation(c2).arcsec\n",
    "    seps.append(sep)"
   ]
  },
  {
   "cell_type": "code",
   "execution_count": 16,
   "metadata": {},
   "outputs": [
    {
     "data": {
      "text/plain": [
       "(array([  4.,  16.,  40.,  84., 104., 120.,  81.,  37.,  11.,   3.]),\n",
       " array([271.08805694, 271.08805732, 271.0880577 , 271.08805808,\n",
       "        271.08805846, 271.08805884, 271.08805923, 271.08805961,\n",
       "        271.08805999, 271.08806037, 271.08806075]),\n",
       " <a list of 10 Patch objects>)"
      ]
     },
     "execution_count": 16,
     "metadata": {},
     "output_type": "execute_result"
    },
    {
     "data": {
      "image/png": "[encoded data removed]",
      "text/plain": [
       "<Figure size 432x288 with 1 Axes>"
      ]
     },
     "metadata": {},
     "output_type": "display_data"
    }
   ],
   "source": [
    "plt.hist(ipta_ras)"
   ]
  },
  {
   "cell_type": "code",
   "execution_count": 17,
   "metadata": {},
   "outputs": [
    {
     "name": "stderr",
     "output_type": "stream",
     "text": [
      "/anaconda2/envs/py3/lib/python3.6/site-packages/ipykernel_launcher.py:7: DeprecationWarning: object of type <class 'numpy.float64'> cannot be safely interpreted as an integer.\n",
      "  import sys\n"
     ]
    }
   ],
   "source": [
    "bin_list = auto_bin(np.std(gaia_ras)/5,np.min(gaia_ras)-np.std(gaia_ras),np.max(gaia_ras)+np.std(gaia_ras))\n",
    "weights = hist_weight(gaia_ras)"
   ]
  },
  {
   "cell_type": "code",
   "execution_count": 18,
   "metadata": {},
   "outputs": [
    {
     "data": {
      "image/png": "[encoded data removed]",
      "text/plain": [
       "<Figure size 432x288 with 1 Axes>"
      ]
     },
     "metadata": {},
     "output_type": "display_data"
    }
   ],
   "source": [
    "fig = plt.figure()\n",
    "ax = fig.add_subplot(111)\n",
    "plt.hist(np.array(gaia_ras), bin_list, weights=weights, alpha = 0.8, align='left', color = 'C0', label = \"Gaia\")\n",
    "plt.axvline(np.median(ipta_ras), color='red', label = \"IPTA\") #3.7 sigma fit\n",
    "#y = mlab.normpdf(bin_list, mu, sigma)\n",
    "#plt.plot(bin_list, normed, 'r--', linewidth=2, label=r\"Gaussian Fit\")\n",
    "plt.xlabel(\"J1804-2717, RA (deg)\")\n",
    "plt.ylabel(\"Probability\")\n",
    "plt.legend(frameon=False)\n",
    "plt.tight_layout()\n",
    "#plt.savefig(\"J1804_RA_IPTA-GAIA-final.pdf\")"
   ]
  },
  {
   "cell_type": "code",
   "execution_count": 19,
   "metadata": {},
   "outputs": [],
   "source": [
    "(mu, sigma) = norm.fit(gaia_ras)\n",
    "diff = (mu-np.median(ipta_ras))/sigma"
   ]
  },
  {
   "cell_type": "code",
   "execution_count": 20,
   "metadata": {},
   "outputs": [
    {
     "data": {
      "text/plain": [
       "-3.943573397239853"
      ]
     },
     "execution_count": 20,
     "metadata": {},
     "output_type": "execute_result"
    }
   ],
   "source": [
    "diff"
   ]
  },
  {
   "cell_type": "code",
   "execution_count": 21,
   "metadata": {},
   "outputs": [
    {
     "name": "stderr",
     "output_type": "stream",
     "text": [
      "/anaconda2/envs/py3/lib/python3.6/site-packages/ipykernel_launcher.py:7: DeprecationWarning: object of type <class 'numpy.float64'> cannot be safely interpreted as an integer.\n",
      "  import sys\n"
     ]
    }
   ],
   "source": [
    "bin_list = auto_bin(np.std(gaia_decs)/4,np.min(gaia_decs)-np.std(gaia_decs),np.max(gaia_decs)+np.std(gaia_decs))\n",
    "weights = hist_weight(gaia_decs)"
   ]
  },
  {
   "cell_type": "code",
   "execution_count": 22,
   "metadata": {},
   "outputs": [
    {
     "data": {
      "image/png": "[encoded data removed]",
      "text/plain": [
       "<Figure size 432x288 with 1 Axes>"
      ]
     },
     "metadata": {},
     "output_type": "display_data"
    }
   ],
   "source": [
    "fig = plt.figure()\n",
    "ax = fig.add_subplot(111)\n",
    "plt.hist(gaia_decs, bin_list, weights=weights, alpha = 0.8, align='left', color = 'C0', label = \"Gaia\")\n",
    "plt.axvline(np.median(ipta_decs), color='red', label = \"IPTA\") #3 sigma away\n",
    "plt.xlabel(\"J1804-2717, DEC (deg)\")\n",
    "plt.ylabel(\"Probability\")\n",
    "plt.legend(frameon=False)\n",
    "plt.tight_layout()\n",
    "#plt.savefig(\"J1804_DEC_IPTA-GAIA-final.pdf\")"
   ]
  },
  {
   "cell_type": "code",
   "execution_count": null,
   "metadata": {},
   "outputs": [],
   "source": []
  },
  {
   "cell_type": "code",
   "execution_count": null,
   "metadata": {},
   "outputs": [],
   "source": []
  },
  {
   "cell_type": "code",
   "execution_count": null,
   "metadata": {},
   "outputs": [],
   "source": []
  },
  {
   "cell_type": "code",
   "execution_count": null,
   "metadata": {},
   "outputs": [],
   "source": []
  },
  {
   "cell_type": "code",
   "execution_count": 8,
   "metadata": {},
   "outputs": [],
   "source": [
    "### J1744-1134"
   ]
  },
  {
   "cell_type": "code",
   "execution_count": 12,
   "metadata": {},
   "outputs": [],
   "source": [
    "ind = np.where(np.array(Names) == 'J1744-1134')[0][0]"
   ]
  },
  {
   "cell_type": "code",
   "execution_count": 13,
   "metadata": {},
   "outputs": [],
   "source": [
    "ipta_pmra_err = pmra_err[ind]\n",
    "ipta_pmdec_err = pmdec_err[ind]\n",
    "ipta_posepoch = posepoch[ind]"
   ]
  },
  {
   "cell_type": "code",
   "execution_count": 14,
   "metadata": {},
   "outputs": [
    {
     "data": {
      "text/plain": [
       "<SkyCoord (ICRS): (ra, dec, distance) in (deg, deg, kpc)\n",
       "    (266.12253142, -11.58185949, 1.)\n",
       " (pm_ra_cosdec, pm_dec) in mas / yr\n",
       "    (18.80023081, -9.40161871)>"
      ]
     },
     "execution_count": 14,
     "metadata": {},
     "output_type": "execute_result"
    }
   ],
   "source": [
    "ipta_coord = coords[ind]\n",
    "ipta_coord"
   ]
  },
  {
   "cell_type": "code",
   "execution_count": 15,
   "metadata": {},
   "outputs": [
    {
     "data": {
      "text/plain": [
       "'55000'"
      ]
     },
     "execution_count": 15,
     "metadata": {},
     "output_type": "execute_result"
    }
   ],
   "source": [
    "ipta_posepoch"
   ]
  },
  {
   "cell_type": "code",
   "execution_count": 16,
   "metadata": {},
   "outputs": [
    {
     "data": {
      "text/plain": [
       "-2023"
      ]
     },
     "execution_count": 16,
     "metadata": {},
     "output_type": "execute_result"
    }
   ],
   "source": [
    "55000-57023"
   ]
  },
  {
   "cell_type": "code",
   "execution_count": null,
   "metadata": {},
   "outputs": [],
   "source": []
  },
  {
   "cell_type": "code",
   "execution_count": null,
   "metadata": {},
   "outputs": [],
   "source": []
  },
  {
   "cell_type": "code",
   "execution_count": 17,
   "metadata": {},
   "outputs": [
    {
     "data": {
      "text/plain": [
       "<SkyCoord (ICRS): (ra, dec, distance) in (deg, deg, kpc)\n",
       "    (266.1224646, -11.58135898, 1.)\n",
       " (pm_ra_cosdec, pm_dec) in mas / yr\n",
       "    (-6.20108761, -6.5790721)>"
      ]
     },
     "execution_count": 17,
     "metadata": {},
     "output_type": "execute_result"
    }
   ],
   "source": [
    "gaia_time = Time(57023., format='mjd')\n",
    "gaia_match_coord =  SkyCoord(ra=266.1224646 * u.degree, \n",
    "                             dec=-11.58135898 * u.degree, frame='icrs',\n",
    "                         pm_ra_cosdec =  -6.201087609*u.mas/u.yr,\n",
    "                         pm_dec= -6.579072104 *u.mas/u.yr,\n",
    "                         obstime=Time(2015.5, format='decimalyear'),\n",
    "                         distance=1. * u.kpc) # HACK\n",
    "gaia_ra_err = 1.350768964\n",
    "gaia_dec_err = 0.623526292\n",
    "gaia_match_coord"
   ]
  },
  {
   "cell_type": "code",
   "execution_count": 18,
   "metadata": {},
   "outputs": [
    {
     "data": {
      "text/plain": [
       "1.8848072167342882"
      ]
     },
     "execution_count": 18,
     "metadata": {},
     "output_type": "execute_result"
    }
   ],
   "source": [
    "gaia_ipta_sep = ipta_coord.apply_space_motion(new_obstime=gaia_time).separation(gaia_match_coord).arcsec\n",
    "gaia_ipta_sep"
   ]
  },
  {
   "cell_type": "code",
   "execution_count": 14,
   "metadata": {},
   "outputs": [
    {
     "name": "stderr",
     "output_type": "stream",
     "text": [
      "100%|██████████| 500/500 [01:07<00:00,  7.39it/s]\n"
     ]
    }
   ],
   "source": [
    "N = 500\n",
    "seps = []\n",
    "ipta_ras = []\n",
    "ipta_decs = []\n",
    "gaia_ras = []\n",
    "gaia_decs = []\n",
    "for n in tqdm(range(N)):\n",
    "    c1 = SkyCoord(ra=ipta_coord.ra,\n",
    "                 dec=ipta_coord.dec, frame='icrs',\n",
    "                 pm_ra_cosdec=np.random.normal(ipta_coord.pm_ra_cosdec.value, \n",
    "                                               ipta_pmra_err) * u.mas/u.yr,\n",
    "                 pm_dec=np.random.normal(ipta_coord.pm_dec.value, \n",
    "                                               ipta_pmdec_err) * u.mas/u.yr,\n",
    "                 obstime=ipta_coord.obstime,\n",
    "                 distance=ipta_coord.distance)\n",
    "    c2 = SkyCoord(ra=np.random.normal(gaia_match_coord.ra.arcsec, gaia_ra_err) * u.arcsec,\n",
    "                 dec=np.random.normal(gaia_match_coord.dec.arcsec, gaia_dec_err) * u.arcsec, \n",
    "                 frame='icrs',\n",
    "                 pm_ra_cosdec=gaia_match_coord.pm_ra_cosdec, \n",
    "                 pm_dec=gaia_match_coord.pm_dec, \n",
    "                 obstime=gaia_match_coord.obstime,\n",
    "                 distance=gaia_match_coord.distance)\n",
    "    ipta_ras.append(c1.apply_space_motion(new_obstime=gaia_time).ra.degree)\n",
    "    ipta_decs.append(c1.apply_space_motion(new_obstime=gaia_time).dec.degree)\n",
    "    gaia_ras.append(c2.ra.degree)\n",
    "    gaia_decs.append(c2.dec.degree)\n",
    "    sep = c1.apply_space_motion(new_obstime=gaia_time).separation(c2).arcsec\n",
    "    seps.append(sep)"
   ]
  },
  {
   "cell_type": "code",
   "execution_count": 23,
   "metadata": {
    "scrolled": true
   },
   "outputs": [
    {
     "name": "stderr",
     "output_type": "stream",
     "text": [
      "/anaconda2/envs/py3/lib/python3.6/site-packages/ipykernel_launcher.py:7: DeprecationWarning: object of type <class 'numpy.float64'> cannot be safely interpreted as an integer.\n",
      "  import sys\n"
     ]
    }
   ],
   "source": [
    "bin_list = auto_bin(np.std(seps)/4,np.min(seps)-np.std(seps),np.max(seps)+np.std(seps))\n",
    "weights = hist_weight(seps)"
   ]
  },
  {
   "cell_type": "code",
   "execution_count": 24,
   "metadata": {},
   "outputs": [],
   "source": [
    "# sample angles drawn from IPTA RA and DEC, compare to Gaia"
   ]
  },
  {
   "cell_type": "code",
   "execution_count": 25,
   "metadata": {},
   "outputs": [
    {
     "ename": "NameError",
     "evalue": "name 'alpha1' is not defined",
     "output_type": "error",
     "traceback": [
      "\u001b[0;31m---------------------------------------------------------------------------\u001b[0m",
      "\u001b[0;31mNameError\u001b[0m                                 Traceback (most recent call last)",
      "\u001b[0;32m<ipython-input-25-63dca1bbf375>\u001b[0m in \u001b[0;36m<module>\u001b[0;34m()\u001b[0m\n\u001b[0;32m----> 1\u001b[0;31m \u001b[0mang_dist\u001b[0m\u001b[0;34m(\u001b[0m\u001b[0malpha1\u001b[0m\u001b[0;34m,\u001b[0m \u001b[0malpha2\u001b[0m\u001b[0;34m,\u001b[0m \u001b[0mdelta1\u001b[0m\u001b[0;34m,\u001b[0m \u001b[0mdelta2\u001b[0m\u001b[0;34m)\u001b[0m\u001b[0;34m\u001b[0m\u001b[0m\n\u001b[0m",
      "\u001b[0;31mNameError\u001b[0m: name 'alpha1' is not defined"
     ]
    }
   ],
   "source": [
    "ang_dist(alpha1, alpha2, delta1, delta2)"
   ]
  },
  {
   "cell_type": "code",
   "execution_count": 26,
   "metadata": {},
   "outputs": [
    {
     "data": {
      "text/plain": [
       "271.0880576814039"
      ]
     },
     "execution_count": 26,
     "metadata": {},
     "output_type": "execute_result"
    }
   ],
   "source": [
    "np.random.choice(ipta_ras)"
   ]
  },
  {
   "cell_type": "code",
   "execution_count": 27,
   "metadata": {},
   "outputs": [],
   "source": [
    "tmpAngles = []\n",
    "for j in range(5000):\n",
    "    tmpAngles.append(ang_dist(np.random.choice(ipta_ras), np.random.choice(gaia_ras), \n",
    "                              np.random.choice(ipta_decs), np.random.choice(gaia_decs)))"
   ]
  },
  {
   "cell_type": "code",
   "execution_count": 28,
   "metadata": {},
   "outputs": [],
   "source": [
    "(muG, sigmaG) = norm.fit(tmpAngles)\n"
   ]
  },
  {
   "cell_type": "code",
   "execution_count": 29,
   "metadata": {},
   "outputs": [
    {
     "data": {
      "text/plain": [
       "(1.4841693304637211, 0.2182013856347219)"
      ]
     },
     "execution_count": 29,
     "metadata": {},
     "output_type": "execute_result"
    }
   ],
   "source": [
    "(muG, sigmaG)"
   ]
  },
  {
   "cell_type": "code",
   "execution_count": null,
   "metadata": {},
   "outputs": [],
   "source": [
    "(mu, sigma) = norm.fit(gaia_ras)\n",
    "diff = (mu-np.median(ipta_ras))/sigma"
   ]
  },
  {
   "cell_type": "code",
   "execution_count": 34,
   "metadata": {},
   "outputs": [],
   "source": [
    "(muS, sigmaS) = norm.fit(seps)\n",
    "\n"
   ]
  },
  {
   "cell_type": "code",
   "execution_count": 35,
   "metadata": {},
   "outputs": [
    {
     "data": {
      "text/plain": [
       "(2.3276770207470094, 0.6823772470442181)"
      ]
     },
     "execution_count": 35,
     "metadata": {},
     "output_type": "execute_result"
    }
   ],
   "source": [
    "(muS, sigmaS)"
   ]
  },
  {
   "cell_type": "code",
   "execution_count": 40,
   "metadata": {},
   "outputs": [],
   "source": [
    "diff = (muS-muG)/sigmaG"
   ]
  },
  {
   "cell_type": "code",
   "execution_count": 41,
   "metadata": {},
   "outputs": [
    {
     "data": {
      "text/plain": [
       "0.003966366411505246"
      ]
     },
     "execution_count": 41,
     "metadata": {},
     "output_type": "execute_result"
    }
   ],
   "source": [
    "diff"
   ]
  },
  {
   "cell_type": "code",
   "execution_count": null,
   "metadata": {},
   "outputs": [],
   "source": []
  },
  {
   "cell_type": "code",
   "execution_count": 46,
   "metadata": {},
   "outputs": [
    {
     "data": {
      "text/plain": [
       "<matplotlib.lines.Line2D at 0x1a21db3978>"
      ]
     },
     "execution_count": 46,
     "metadata": {},
     "output_type": "execute_result"
    },
    {
     "data": {
      "image/png": "[encoded data removed]",
      "text/plain": [
       "<Figure size 432x288 with 1 Axes>"
      ]
     },
     "metadata": {},
     "output_type": "display_data"
    }
   ],
   "source": [
    "plt.hist(tmpAngles)\n",
    "plt.hist(seps)\n",
    "plt.axvline(np.median(tmpAngles), color='red', label = \"random draws\") #0.3 sigma fit\n",
    "plt.axvline(np.median(seps), color='green', label = \"seps\") #0.3 sigma fit\n",
    "plt.axvline(gaia_ipta_sep, color='blue', label = \"actual\") #0.3 sigma fit\n",
    "\n",
    "\n"
   ]
  },
  {
   "cell_type": "code",
   "execution_count": null,
   "metadata": {},
   "outputs": [],
   "source": []
  },
  {
   "cell_type": "code",
   "execution_count": null,
   "metadata": {},
   "outputs": [],
   "source": []
  },
  {
   "cell_type": "code",
   "execution_count": 30,
   "metadata": {},
   "outputs": [
    {
     "data": {
      "image/png": "[encoded data removed]",
      "text/plain": [
       "<Figure size 432x288 with 1 Axes>"
      ]
     },
     "metadata": {},
     "output_type": "display_data"
    }
   ],
   "source": [
    "fig = plt.figure()\n",
    "ax = fig.add_subplot(111)\n",
    "plt.hist(np.array(seps), bin_list, weights=weights, alpha = 0.8, align='left', color = 'C0', label = \"Gaia\")\n",
    "plt.axvline(np.median(gaia_ipta_sep), color='red', label = \"IPTA\")\n",
    "plt.xlabel(r\"J1744-1134, Angular Separation $\\theta$ (arcsecs)\")\n",
    "plt.ylabel(\"Probability\")\n",
    "plt.legend(frameon=False)\n",
    "plt.tight_layout()\n",
    "#plt.savefig(\"1744_thetas.pdf\")"
   ]
  },
  {
   "cell_type": "code",
   "execution_count": null,
   "metadata": {},
   "outputs": [],
   "source": [
    "\n"
   ]
  },
  {
   "cell_type": "code",
   "execution_count": 32,
   "metadata": {},
   "outputs": [],
   "source": [
    "gaia_ras = np.array(gaia_ras) - 266.12\n",
    "ipta_ras = np.array(ipta_ras) - 266.12"
   ]
  },
  {
   "cell_type": "code",
   "execution_count": 33,
   "metadata": {},
   "outputs": [
    {
     "name": "stderr",
     "output_type": "stream",
     "text": [
      "/anaconda2/envs/py3/lib/python3.6/site-packages/ipykernel_launcher.py:7: DeprecationWarning: object of type <class 'numpy.float64'> cannot be safely interpreted as an integer.\n",
      "  import sys\n"
     ]
    }
   ],
   "source": [
    "bin_list = auto_bin(np.std(gaia_ras)/5,np.min(gaia_ras)-np.std(gaia_ras),np.max(gaia_ras)+np.std(gaia_ras))\n",
    "weights = hist_weight(gaia_ras)"
   ]
  },
  {
   "cell_type": "code",
   "execution_count": 38,
   "metadata": {},
   "outputs": [
    {
     "data": {
      "image/png": "[encoded data removed]",
      "text/plain": [
       "<Figure size 432x288 with 1 Axes>"
      ]
     },
     "metadata": {},
     "output_type": "display_data"
    }
   ],
   "source": [
    "fig = plt.figure()\n",
    "ax = fig.add_subplot(111)\n",
    "plt.hist(np.array(gaia_ras), bin_list, weights=weights, alpha = 0.8, align='left', color = 'C0', label = \"Gaia\")\n",
    "plt.axvline(np.median(ipta_ras), color='red', label = \"PTA\") #0.3 sigma fit\n",
    "#y = mlab.normpdf(bin_list, mu, sigma)\n",
    "#plt.plot(bin_list, normed, 'r--', linewidth=2, label=r\"Gaussian Fit\")\n",
    "plt.xlabel(\"RA - 266.12 (deg)\")\n",
    "plt.ylabel(\"Probability\")\n",
    "plt.legend(frameon=False)\n",
    "plt.tight_layout()\n",
    "#plt.savefig(\"J1744_RA_IPTA-GAIA-final.pdf\")"
   ]
  },
  {
   "cell_type": "code",
   "execution_count": 39,
   "metadata": {},
   "outputs": [],
   "source": [
    "(mu, sigma) = norm.fit(gaia_ras)\n",
    "diff = (mu-np.median(ipta_ras))/sigma"
   ]
  },
  {
   "cell_type": "code",
   "execution_count": 40,
   "metadata": {},
   "outputs": [
    {
     "data": {
      "text/plain": [
       "266.12"
      ]
     },
     "execution_count": 40,
     "metadata": {},
     "output_type": "execute_result"
    }
   ],
   "source": [
    "2.6612e2"
   ]
  },
  {
   "cell_type": "code",
   "execution_count": 41,
   "metadata": {},
   "outputs": [
    {
     "data": {
      "text/plain": [
       "-3.943573396337823"
      ]
     },
     "execution_count": 41,
     "metadata": {},
     "output_type": "execute_result"
    }
   ],
   "source": [
    "diff"
   ]
  },
  {
   "cell_type": "code",
   "execution_count": 42,
   "metadata": {},
   "outputs": [],
   "source": [
    "gaia_decs = np.array(gaia_decs)+ 11.58\n",
    "ipta_decs = np.array(ipta_decs)+ 11.58\n",
    "\n"
   ]
  },
  {
   "cell_type": "code",
   "execution_count": 43,
   "metadata": {},
   "outputs": [
    {
     "name": "stderr",
     "output_type": "stream",
     "text": [
      "/anaconda2/envs/py3/lib/python3.6/site-packages/ipykernel_launcher.py:7: DeprecationWarning: object of type <class 'numpy.float64'> cannot be safely interpreted as an integer.\n",
      "  import sys\n"
     ]
    }
   ],
   "source": [
    "bin_list = auto_bin(np.std(gaia_decs)/4,np.min(gaia_decs)-np.std(gaia_decs),np.max(gaia_decs)+np.std(gaia_decs))\n",
    "weights = hist_weight(gaia_decs)"
   ]
  },
  {
   "cell_type": "code",
   "execution_count": 44,
   "metadata": {},
   "outputs": [
    {
     "data": {
      "image/png": "[encoded data removed]",
      "text/plain": [
       "<Figure size 432x288 with 1 Axes>"
      ]
     },
     "metadata": {},
     "output_type": "display_data"
    }
   ],
   "source": [
    "fig = plt.figure()\n",
    "ax = fig.add_subplot(111)\n",
    "plt.hist(gaia_decs, bin_list, weights=weights, alpha = 0.8, align='left', color = 'C0', label = \"Gaia\")\n",
    "plt.axvline(np.median(ipta_decs), color='red', label = \"IPTA\") #3 sigma away\n",
    "plt.xlabel(\"J1744-1134, DEC + 11.58 (deg)\")\n",
    "plt.ylabel(\"Probability\")\n",
    "plt.legend(frameon=False)\n",
    "plt.tight_layout()\n",
    "#plt.savefig(\"J1744_DEC_IPTA-GAIA-final.pdf\")"
   ]
  },
  {
   "cell_type": "code",
   "execution_count": null,
   "metadata": {},
   "outputs": [],
   "source": [
    "(mu, sigma) = norm.fit(gaia_decs)\n",
    "diff = (mu-np.median(ipta_decs))/sigma"
   ]
  },
  {
   "cell_type": "code",
   "execution_count": null,
   "metadata": {},
   "outputs": [],
   "source": [
    "diff"
   ]
  },
  {
   "cell_type": "code",
   "execution_count": null,
   "metadata": {},
   "outputs": [],
   "source": []
  },
  {
   "cell_type": "markdown",
   "metadata": {},
   "source": [
    "### a bad case: J1910+1256"
   ]
  },
  {
   "cell_type": "code",
   "execution_count": null,
   "metadata": {},
   "outputs": [],
   "source": [
    "ind = np.where(np.array(Names) == 'J1910+1256')[0][0]"
   ]
  },
  {
   "cell_type": "code",
   "execution_count": null,
   "metadata": {},
   "outputs": [],
   "source": [
    "ipta_pmra_err = pmra_err[ind]\n",
    "ipta_pmdec_err = pmdec_err[ind]\n",
    "ipta_posepoch = posepoch[ind]"
   ]
  },
  {
   "cell_type": "code",
   "execution_count": null,
   "metadata": {},
   "outputs": [],
   "source": [
    "ipta_coord = coords[ind]\n",
    "ipta_coord"
   ]
  },
  {
   "cell_type": "code",
   "execution_count": null,
   "metadata": {},
   "outputs": [],
   "source": [
    "gaia_time = Time(57023., format='mjd')\n",
    "gaia_match_coord =  SkyCoord(ra=287.5407215 * u.degree, \n",
    "                             dec=12.94037301 * u.degree, frame='icrs',\n",
    "                         pm_ra_cosdec = -0.672057539 *u.mas/u.yr,\n",
    "                         pm_dec= -5.449112763 *u.mas/u.yr,\n",
    "                         obstime=Time(2015.5, format='decimalyear'),\n",
    "                         distance=1. * u.kpc) # HACK\n",
    "gaia_ra_err = 0.576369178\n",
    "gaia_dec_err = 0.623526292\n",
    "gaia_match_coord"
   ]
  },
  {
   "cell_type": "code",
   "execution_count": null,
   "metadata": {},
   "outputs": [],
   "source": [
    "# My angular separation calc for 1910\n",
    "\n",
    "mySep = ang_dist(287.54042259, 287.5407215, 12.9404131, 12.94037301)\n"
   ]
  },
  {
   "cell_type": "code",
   "execution_count": null,
   "metadata": {},
   "outputs": [],
   "source": [
    "gaia_ipta_sep = ipta_coord.apply_space_motion(new_obstime=gaia_time).separation(gaia_match_coord).arcsec\n",
    "gaia_ipta_sep"
   ]
  },
  {
   "cell_type": "code",
   "execution_count": null,
   "metadata": {},
   "outputs": [],
   "source": []
  },
  {
   "cell_type": "code",
   "execution_count": null,
   "metadata": {},
   "outputs": [],
   "source": [
    "N = 500\n",
    "seps = []\n",
    "ipta_ras = []\n",
    "ipta_decs = []\n",
    "gaia_ras = []\n",
    "gaia_decs = []\n",
    "for n in tqdm(range(N)):\n",
    "    c1 = SkyCoord(ra=ipta_coord.ra,\n",
    "                 dec=ipta_coord.dec, frame='icrs',\n",
    "                 pm_ra_cosdec=np.random.normal(ipta_coord.pm_ra_cosdec.value, \n",
    "                                               ipta_pmra_err) * u.mas/u.yr,\n",
    "                 pm_dec=np.random.normal(ipta_coord.pm_dec.value, \n",
    "                                               ipta_pmdec_err) * u.mas/u.yr,\n",
    "                 obstime=ipta_coord.obstime,\n",
    "                 distance=ipta_coord.distance)\n",
    "    c2 = SkyCoord(ra=np.random.normal(gaia_match_coord.ra.arcsec, gaia_ra_err) * u.arcsec,\n",
    "                 dec=np.random.normal(gaia_match_coord.dec.arcsec, gaia_dec_err) * u.arcsec, \n",
    "                 frame='icrs',\n",
    "                 pm_ra_cosdec=gaia_match_coord.pm_ra_cosdec, \n",
    "                 pm_dec=gaia_match_coord.pm_dec, \n",
    "                 obstime=gaia_match_coord.obstime,\n",
    "                 distance=gaia_match_coord.distance)\n",
    "    ipta_ras.append(c1.apply_space_motion(new_obstime=gaia_time).ra.degree)\n",
    "    ipta_decs.append(c1.apply_space_motion(new_obstime=gaia_time).dec.degree)\n",
    "    gaia_ras.append(c2.ra.degree)\n",
    "    gaia_decs.append(c2.dec.degree)\n",
    "    sep = c1.apply_space_motion(new_obstime=gaia_time).separation(c2).arcsec\n",
    "    seps.append(sep)"
   ]
  },
  {
   "cell_type": "code",
   "execution_count": null,
   "metadata": {},
   "outputs": [],
   "source": [
    "gaia_ras = np.array(gaia_ras)+2*287.54\n",
    "#ipta_ras = np.array(ipta_ras)-287.54\n",
    "\n"
   ]
  },
  {
   "cell_type": "code",
   "execution_count": null,
   "metadata": {},
   "outputs": [],
   "source": []
  },
  {
   "cell_type": "code",
   "execution_count": null,
   "metadata": {},
   "outputs": [],
   "source": [
    "bin_list = auto_bin(np.std(gaia_ras)/5,np.min(gaia_ras)-np.std(gaia_ras),np.max(gaia_ras)+np.std(gaia_ras))\n",
    "weights = hist_weight(gaia_ras)"
   ]
  },
  {
   "cell_type": "code",
   "execution_count": null,
   "metadata": {},
   "outputs": [],
   "source": [
    "np.std(gaia_ras)"
   ]
  },
  {
   "cell_type": "code",
   "execution_count": null,
   "metadata": {},
   "outputs": [],
   "source": [
    "(mu, sigma) = norm.fit(gaia_ras)\n",
    "diff = (mu-np.median(ipta_ras))/sigma"
   ]
  },
  {
   "cell_type": "code",
   "execution_count": null,
   "metadata": {},
   "outputs": [],
   "source": [
    "(mu, sigma)"
   ]
  },
  {
   "cell_type": "code",
   "execution_count": null,
   "metadata": {},
   "outputs": [],
   "source": [
    "diff"
   ]
  },
  {
   "cell_type": "code",
   "execution_count": null,
   "metadata": {},
   "outputs": [],
   "source": [
    "# add a 'best fit' line\n",
    "y = norm.fit(gaia_ras)\n",
    "\n",
    "y = scipy.stats.norm.pdf(bin_list, mu, sigma)\n",
    "\n",
    "l = plt.plot(bin_list, y, 'r--', linewidth=2)"
   ]
  },
  {
   "cell_type": "code",
   "execution_count": null,
   "metadata": {},
   "outputs": [],
   "source": [
    "def gaussian(x, mu, sig):\n",
    "    return np.exp(-np.power(x - mu, 2.) / (2 * np.power(sig, 2.)))"
   ]
  },
  {
   "cell_type": "code",
   "execution_count": null,
   "metadata": {},
   "outputs": [],
   "source": [
    "normed = []\n",
    "for xx in range(len(bin_list)):\n",
    "    normed.append(gaussian(bin_list[xx], mu, sigma))"
   ]
  },
  {
   "cell_type": "code",
   "execution_count": null,
   "metadata": {},
   "outputs": [],
   "source": [
    "datos = gaia_ras\n",
    "(mu, sigma) = norm.fit(datos)\n",
    "\n",
    "# the histogram of the data\n",
    "n, bins, patches = plt.hist(datos, 20, normed=.12, facecolor='green', alpha=0.75)\n",
    "\n",
    "# add a 'best fit' line\n",
    "y = scipy.stats.norm.pdf(bins, mu, sigma)\n",
    "\n",
    "l = plt.plot(bins, y, 'r--', linewidth=2)\n",
    "plt.axvline(np.median(ipta_ras), color='red', label = \"IPTA\")\n",
    "\n"
   ]
  },
  {
   "cell_type": "code",
   "execution_count": null,
   "metadata": {},
   "outputs": [],
   "source": [
    "ipta_ras = np.array(ipta_ras)"
   ]
  },
  {
   "cell_type": "code",
   "execution_count": null,
   "metadata": {},
   "outputs": [],
   "source": [
    "fig = plt.figure()\n",
    "ax = fig.add_subplot(111)\n",
    "plt.hist(np.array(gaia_ras), bin_list, weights=weights, alpha = 0.8, align='left', color = 'C0', label = \"Gaia\")\n",
    "plt.axvline(np.median(ipta_ras), color='red', label = \"IPTA\")\n",
    "#y = mlab.normpdf(bin_list, mu, sigma)\n",
    "#plt.plot(bin_list, normed, 'r--', linewidth=2, label=r\"Gaussian Fit\")\n",
    "plt.xlabel(\"J1910+1256, RA - 287.54 (deg)\")\n",
    "plt.ylabel(\"Probability\")\n",
    "plt.legend(frameon=False)\n",
    "plt.tight_layout()\n",
    "plt.savefig(\"J1910_RA_IPTA-GAIA-final.pdf\")"
   ]
  },
  {
   "cell_type": "code",
   "execution_count": null,
   "metadata": {},
   "outputs": [],
   "source": [
    "2.8754e2"
   ]
  },
  {
   "cell_type": "code",
   "execution_count": null,
   "metadata": {},
   "outputs": [],
   "source": []
  },
  {
   "cell_type": "code",
   "execution_count": null,
   "metadata": {},
   "outputs": [],
   "source": [
    "sigmaRA"
   ]
  },
  {
   "cell_type": "code",
   "execution_count": null,
   "metadata": {},
   "outputs": [],
   "source": [
    "bin_list = auto_bin(np.std(gaia_decs)/4,np.min(gaia_decs)-np.std(gaia_decs),np.max(gaia_decs)+np.std(gaia_decs))\n",
    "weights = hist_weight(gaia_decs)"
   ]
  },
  {
   "cell_type": "code",
   "execution_count": null,
   "metadata": {},
   "outputs": [],
   "source": [
    "fig = plt.figure()\n",
    "ax = fig.add_subplot(111)\n",
    "plt.hist(gaia_decs, bin_list, weights=weights, alpha = 0.8, align='left', color = 'C0', label = \"Gaia\")\n",
    "plt.axvline(np.median(ipta_decs), color='red', label = \"IPTA\") #0.2 sigma\n",
    "plt.xlabel(\"J1910+1256, DEC (deg)\")\n",
    "plt.ylabel(\"Probability\")\n",
    "plt.legend(frameon=False)\n",
    "plt.tight_layout()\n",
    "#plt.savefig(\"J1012_RA_IPTA-GAIA-final.pdf\")"
   ]
  },
  {
   "cell_type": "code",
   "execution_count": null,
   "metadata": {},
   "outputs": [],
   "source": [
    "(mu, sigma) = norm.fit(gaia_decs)\n",
    "diff = (mu-np.median(ipta_decs))/sigma"
   ]
  },
  {
   "cell_type": "code",
   "execution_count": null,
   "metadata": {},
   "outputs": [],
   "source": [
    "diff"
   ]
  },
  {
   "cell_type": "code",
   "execution_count": null,
   "metadata": {},
   "outputs": [],
   "source": [
    "bin_list = auto_bin(np.std(seps)/3,np.min(seps)-np.std(seps),np.max(seps)+np.std(seps))\n",
    "weights = hist_weight(seps)"
   ]
  },
  {
   "cell_type": "code",
   "execution_count": null,
   "metadata": {},
   "outputs": [],
   "source": [
    "fig = plt.figure()\n",
    "ax = fig.add_subplot(111)\n",
    "plt.hist(np.array(seps), bin_list, weights=weights, alpha = 0.8, align='left', color = 'C0', label = \"Gaia\")\n",
    "plt.axvline(np.median(gaia_ipta_sep), color='red', label = \"IPTA\")\n",
    "plt.xlabel(r\"J1910+1256, Angular Separation $\\theta$ (arcsecs)\") #0.35 sigma\n",
    "plt.ylabel(\"Probability\")\n",
    "plt.legend(frameon=False)\n",
    "plt.tight_layout()\n",
    "plt.savefig(\"1910_thetas.pdf\")"
   ]
  },
  {
   "cell_type": "code",
   "execution_count": null,
   "metadata": {},
   "outputs": [],
   "source": [
    "(mu, sigma) = norm.fit(seps)\n",
    "diff = (mu-np.median(gaia_ipta_sep))/sigma"
   ]
  },
  {
   "cell_type": "code",
   "execution_count": null,
   "metadata": {},
   "outputs": [],
   "source": [
    "diff"
   ]
  },
  {
   "cell_type": "code",
   "execution_count": null,
   "metadata": {},
   "outputs": [],
   "source": [
    "bin_listIPTA = auto_bin(np.std(gaia_ipta_sep)/3,np.min(gaia_ipta_sep)\n",
    "                        -np.std(gaia_ipta_sep),np.max(gaia_ipta_sep)+np.std(gaia_ipta_sep))\n",
    "weightsIPTA = hist_weight(gaia_ipta_sep)"
   ]
  },
  {
   "cell_type": "markdown",
   "metadata": {},
   "source": [
    "## a not-so-bad disagreement case: J1012+5307"
   ]
  },
  {
   "cell_type": "code",
   "execution_count": 45,
   "metadata": {},
   "outputs": [],
   "source": [
    "ind = np.where(np.array(Names) == 'J1012+5307')[0][0]"
   ]
  },
  {
   "cell_type": "code",
   "execution_count": 46,
   "metadata": {},
   "outputs": [],
   "source": [
    "ipta_pmra_err = pmra_err[ind]\n",
    "ipta_pmdec_err = pmdec_err[ind]\n",
    "ipta_posepoch = posepoch[ind]"
   ]
  },
  {
   "cell_type": "code",
   "execution_count": 47,
   "metadata": {},
   "outputs": [
    {
     "data": {
      "text/plain": [
       "<SkyCoord (ICRS): (ra, dec, distance) in (deg, deg, kpc)\n",
       "    (153.13932304, 53.1173056, 1.)\n",
       " (pm_ra_cosdec, pm_dec) in mas / yr\n",
       "    (2.62371226, -25.45880892)>"
      ]
     },
     "execution_count": 47,
     "metadata": {},
     "output_type": "execute_result"
    }
   ],
   "source": [
    "ipta_coord = coords[ind]\n",
    "ipta_coord"
   ]
  },
  {
   "cell_type": "code",
   "execution_count": 48,
   "metadata": {},
   "outputs": [
    {
     "data": {
      "text/plain": [
       "<SkyCoord (ICRS): (ra, dec, distance) in (deg, deg, kpc)\n",
       "    (153.1393303, 53.11726303, 1.)\n",
       " (pm_ra_cosdec, pm_dec) in mas / yr\n",
       "    (2.97695999, -26.94384758)>"
      ]
     },
     "execution_count": 48,
     "metadata": {},
     "output_type": "execute_result"
    }
   ],
   "source": [
    "gaia_time = Time(57023., format='mjd')\n",
    "gaia_match_coord =  SkyCoord(ra=153.1393303 * u.degree, \n",
    "                             dec=53.11726303 * u.degree, frame='icrs',\n",
    "                         pm_ra_cosdec = 2.976959985 *u.mas/u.yr,\n",
    "                         pm_dec= -26.94384758 *u.mas/u.yr,\n",
    "                         obstime= gaia_time,\n",
    "                         distance=1. * u.kpc) # HACK\n",
    "gaia_ra_err = 0.241174616\n",
    "gaia_dec_err = 0.302546482\n",
    "gaia_match_coord"
   ]
  },
  {
   "cell_type": "code",
   "execution_count": 49,
   "metadata": {},
   "outputs": [
    {
     "data": {
      "text/plain": [
       "0.012298049411488533"
      ]
     },
     "execution_count": 49,
     "metadata": {},
     "output_type": "execute_result"
    }
   ],
   "source": [
    "gaia_ipta_sep = ipta_coord.apply_space_motion(new_obstime=gaia_time).separation(gaia_match_coord).arcsec\n",
    "gaia_ipta_sep"
   ]
  },
  {
   "cell_type": "code",
   "execution_count": 67,
   "metadata": {},
   "outputs": [
    {
     "name": "stderr",
     "output_type": "stream",
     "text": [
      "100%|██████████| 1000/1000 [01:40<00:00,  9.91it/s]\n"
     ]
    }
   ],
   "source": [
    "N = 1000\n",
    "seps = []\n",
    "ipta_ras = []\n",
    "ipta_decs = []\n",
    "gaia_ras = []\n",
    "gaia_decs = []\n",
    "for n in tqdm(range(N)):\n",
    "    c1 = SkyCoord(ra=ipta_coord.ra,\n",
    "                 dec=ipta_coord.dec, frame='icrs',\n",
    "                 pm_ra_cosdec=np.random.normal(ipta_coord.pm_ra_cosdec.value, \n",
    "                                               ipta_pmra_err) * u.mas/u.yr,\n",
    "                 pm_dec=np.random.normal(ipta_coord.pm_dec.value, \n",
    "                                               ipta_pmdec_err) * u.mas/u.yr,\n",
    "                 obstime=ipta_coord.obstime,\n",
    "                 distance=ipta_coord.distance)\n",
    "    c2 = SkyCoord(ra=np.random.normal(gaia_match_coord.ra.arcsec, gaia_ra_err) * u.arcsec,\n",
    "                 dec=np.random.normal(gaia_match_coord.dec.arcsec, gaia_dec_err) * u.arcsec, \n",
    "                 frame='icrs',\n",
    "                 pm_ra_cosdec=gaia_match_coord.pm_ra_cosdec, \n",
    "                 pm_dec=gaia_match_coord.pm_dec, \n",
    "                 obstime=gaia_match_coord.obstime,\n",
    "                 distance=gaia_match_coord.distance)\n",
    "    ipta_ras.append(c1.apply_space_motion(new_obstime=gaia_time).ra.degree)\n",
    "    ipta_decs.append(c1.apply_space_motion(new_obstime=gaia_time).dec.degree)\n",
    "    gaia_ras.append(c2.ra.degree)\n",
    "    gaia_decs.append(c2.dec.degree)\n",
    "    sep = c1.apply_space_motion(new_obstime=gaia_time).separation(c2).arcsec\n",
    "    seps.append(sep)"
   ]
  },
  {
   "cell_type": "code",
   "execution_count": 68,
   "metadata": {},
   "outputs": [
    {
     "name": "stderr",
     "output_type": "stream",
     "text": [
      "/anaconda2/envs/py3/lib/python3.6/site-packages/ipykernel_launcher.py:7: DeprecationWarning: object of type <class 'numpy.float64'> cannot be safely interpreted as an integer.\n",
      "  import sys\n"
     ]
    }
   ],
   "source": [
    "bin_list = auto_bin(np.std(seps)/4,np.min(seps)-np.std(seps),np.max(seps)+np.std(seps))\n",
    "weights = hist_weight(seps)"
   ]
  },
  {
   "cell_type": "code",
   "execution_count": 69,
   "metadata": {},
   "outputs": [
    {
     "data": {
      "image/png": "[encoded data removed]",
      "text/plain": [
       "<Figure size 244.354x151.019 with 1 Axes>"
      ]
     },
     "metadata": {},
     "output_type": "display_data"
    }
   ],
   "source": [
    "fig = plt.figure()\n",
    "ax = fig.add_subplot(111)\n",
    "plt.hist(np.array(seps), bin_list, weights=weights, alpha = 0.8, align='left', color = 'C0', label = \"Gaia\")\n",
    "plt.axvline(np.median(gaia_ipta_sep), color='red', label = \"IPTA\")\n",
    "plt.xlabel(r\"J1012+5307, Angular Separation $\\theta$ (arcsecs)\") #1.6 sigma\n",
    "plt.ylabel(\"Probability\")\n",
    "plt.legend(frameon=False)\n",
    "plt.tight_layout()\n",
    "#plt.savefig(\"1012_thetas.pdf\")"
   ]
  },
  {
   "cell_type": "code",
   "execution_count": 70,
   "metadata": {},
   "outputs": [],
   "source": [
    "(mu, sigma) = norm.fit(seps)\n",
    "diff = (mu-np.median(gaia_ipta_sep))/sigma"
   ]
  },
  {
   "cell_type": "code",
   "execution_count": 71,
   "metadata": {},
   "outputs": [
    {
     "data": {
      "text/plain": [
       "1.6380910987664827"
      ]
     },
     "execution_count": 71,
     "metadata": {},
     "output_type": "execute_result"
    }
   ],
   "source": [
    "diff"
   ]
  },
  {
   "cell_type": "code",
   "execution_count": 72,
   "metadata": {},
   "outputs": [
    {
     "data": {
      "text/plain": [
       "<matplotlib.lines.Line2D at 0x1a17bc2b38>"
      ]
     },
     "execution_count": 72,
     "metadata": {},
     "output_type": "execute_result"
    },
    {
     "data": {
      "image/png": "[encoded data removed]",
      "text/plain": [
       "<Figure size 244.354x151.019 with 1 Axes>"
      ]
     },
     "metadata": {},
     "output_type": "display_data"
    }
   ],
   "source": [
    "plt.hist(seps)\n",
    "plt.axvline(gaia_ipta_sep, c='red')"
   ]
  },
  {
   "cell_type": "code",
   "execution_count": 73,
   "metadata": {},
   "outputs": [],
   "source": [
    "gaia_ras = np.array(gaia_ras) -1.53139e2 #for better plotting"
   ]
  },
  {
   "cell_type": "code",
   "execution_count": 74,
   "metadata": {},
   "outputs": [
    {
     "name": "stderr",
     "output_type": "stream",
     "text": [
      "/anaconda2/envs/py3/lib/python3.6/site-packages/ipykernel_launcher.py:7: DeprecationWarning: object of type <class 'numpy.float64'> cannot be safely interpreted as an integer.\n",
      "  import sys\n"
     ]
    }
   ],
   "source": [
    "bin_list = auto_bin(np.std(gaia_ras)/4,np.min(gaia_ras)-np.std(gaia_ras)/2,np.max(gaia_ras)+np.std(gaia_ras)/2)\n",
    "weights = hist_weight(gaia_ras)"
   ]
  },
  {
   "cell_type": "code",
   "execution_count": 75,
   "metadata": {},
   "outputs": [],
   "source": [
    "(mu, sigma) = norm.fit(gaia_ras)\n",
    "diff = (mu-np.median(ipta_ras))/sigma"
   ]
  },
  {
   "cell_type": "code",
   "execution_count": 76,
   "metadata": {},
   "outputs": [
    {
     "data": {
      "text/plain": [
       "0.00033083878700057313"
      ]
     },
     "execution_count": 76,
     "metadata": {},
     "output_type": "execute_result"
    }
   ],
   "source": [
    "mu"
   ]
  },
  {
   "cell_type": "code",
   "execution_count": 77,
   "metadata": {},
   "outputs": [
    {
     "data": {
      "text/plain": [
       "-2286055.5213250276"
      ]
     },
     "execution_count": 77,
     "metadata": {},
     "output_type": "execute_result"
    }
   ],
   "source": [
    "diff"
   ]
  },
  {
   "cell_type": "code",
   "execution_count": 78,
   "metadata": {},
   "outputs": [],
   "source": [
    "ipta_ras = np.array(ipta_ras) -153.139"
   ]
  },
  {
   "cell_type": "code",
   "execution_count": 80,
   "metadata": {},
   "outputs": [
    {
     "data": {
      "image/png": "[encoded data removed]",
      "text/plain": [
       "<Figure size 244.354x151.019 with 1 Axes>"
      ]
     },
     "metadata": {},
     "output_type": "display_data"
    }
   ],
   "source": [
    "fig = plt.figure()\n",
    "ax = fig.add_subplot(111)\n",
    "plt.hist(np.array(gaia_ras), bin_list, weights=weights, alpha = 0.8, align='left', color = 'C0', label = \"Gaia\")\n",
    "plt.axvline(np.median(ipta_ras), color='red', label = \"PTA\")\n",
    "#y = mlab.normpdf(bin_list, mu, sigma)\n",
    "#plt.plot(bin_list, normed, 'r--', linewidth=2, label=r\"Gaussian Fit\") # this is 0.04 sigma from mean\n",
    "plt.xlabel(\"RA + 153.139 (deg)\")\n",
    "plt.ylabel(\"Probability\")\n",
    "plt.legend(frameon=False)\n",
    "plt.tight_layout()\n",
    "#plt.savefig(\"J1012_RA_IPTA-GAIA.pdf\")"
   ]
  },
  {
   "cell_type": "code",
   "execution_count": null,
   "metadata": {},
   "outputs": [],
   "source": [
    "gaia_decs=np.array(gaia_decs) -53.117"
   ]
  },
  {
   "cell_type": "code",
   "execution_count": null,
   "metadata": {},
   "outputs": [],
   "source": [
    "bin_list = auto_bin(np.std(gaia_decs)/4,np.min(gaia_decs)-np.std(gaia_decs)/2,np.max(gaia_decs)+np.std(gaia_decs)/2)\n",
    "weights = hist_weight(gaia_decs)"
   ]
  },
  {
   "cell_type": "code",
   "execution_count": null,
   "metadata": {},
   "outputs": [],
   "source": [
    "(mu, sigma) = norm.fit(gaia_decs)\n",
    "diff = (mu-np.median(ipta_decs))/sigma"
   ]
  },
  {
   "cell_type": "code",
   "execution_count": null,
   "metadata": {},
   "outputs": [],
   "source": [
    "ipta_decs = np.array(ipta_decs) - 53.117"
   ]
  },
  {
   "cell_type": "code",
   "execution_count": null,
   "metadata": {},
   "outputs": [],
   "source": [
    "diff"
   ]
  },
  {
   "cell_type": "code",
   "execution_count": null,
   "metadata": {},
   "outputs": [],
   "source": [
    "ipta_decs = np.array(ipta_decs) - 53.117"
   ]
  },
  {
   "cell_type": "code",
   "execution_count": null,
   "metadata": {},
   "outputs": [],
   "source": [
    "fig = plt.figure()\n",
    "ax = fig.add_subplot(111)\n",
    "plt.hist(np.array(gaia_decs), bin_list, weights=weights, alpha = 0.8, align='left', color = 'C0', label = \"Gaia\")\n",
    "plt.axvline(np.median(ipta_decs), color='red', label = \"IPTA\")\n",
    "#y = mlab.normpdf(bin_list, mu, sigma)\n",
    "#plt.plot(bin_list, normed, 'r--', linewidth=2, label=r\"Gaussian Fit\") # this is 0.04 sigma from mean\n",
    "plt.xlabel(\"J1012+5307, DEC + 53.117 (deg)\")\n",
    "plt.ylabel(\"Probability\")\n",
    "plt.legend(frameon=False)\n",
    "plt.tight_layout()\n",
    "#plt.savefig(\"J1012_DEC_IPTA-GAIA.pdf\")"
   ]
  },
  {
   "cell_type": "code",
   "execution_count": null,
   "metadata": {},
   "outputs": [],
   "source": [
    "5.3117e1\n"
   ]
  },
  {
   "cell_type": "code",
   "execution_count": null,
   "metadata": {},
   "outputs": [],
   "source": []
  },
  {
   "cell_type": "markdown",
   "metadata": {},
   "source": [
    "## Best pulasr, J0437-4715\n"
   ]
  },
  {
   "cell_type": "code",
   "execution_count": 19,
   "metadata": {},
   "outputs": [],
   "source": [
    "ind = np.where(np.array(Names) == 'J0437-4715')[0][0]"
   ]
  },
  {
   "cell_type": "code",
   "execution_count": 20,
   "metadata": {},
   "outputs": [],
   "source": [
    "ipta_pmra_err = pmra_err[ind]\n",
    "ipta_pmdec_err = pmdec_err[ind]\n",
    "ipta_posepoch = posepoch[ind]"
   ]
  },
  {
   "cell_type": "code",
   "execution_count": 21,
   "metadata": {},
   "outputs": [],
   "source": [
    "ipta_pmra_err = 0.052 #Deller et al. 2008, Table 1\n",
    "ipta_pmdec_err = 0.086 #Deller et al. 2008\n",
    "ipta_posepoch = posepoch[ind]\n"
   ]
  },
  {
   "cell_type": "code",
   "execution_count": 22,
   "metadata": {},
   "outputs": [
    {
     "data": {
      "text/plain": [
       "'54500'"
      ]
     },
     "execution_count": 22,
     "metadata": {},
     "output_type": "execute_result"
    }
   ],
   "source": [
    "ipta_posepoch"
   ]
  },
  {
   "cell_type": "code",
   "execution_count": 28,
   "metadata": {},
   "outputs": [],
   "source": [
    "arcSec2Deg = 0.000277778"
   ]
  },
  {
   "cell_type": "code",
   "execution_count": 29,
   "metadata": {},
   "outputs": [],
   "source": [
    "yrMotion = abs(54500-57023)/365"
   ]
  },
  {
   "cell_type": "code",
   "execution_count": 52,
   "metadata": {},
   "outputs": [],
   "source": [
    "tmpRA = 69.31623406 + 121.43993282*1e-3*yrMotion*arcSec2Deg * cos(-47.25253075*pi/180)*180/pi"
   ]
  },
  {
   "cell_type": "code",
   "execution_count": 53,
   "metadata": {},
   "outputs": [],
   "source": [
    "GaiaPTA_diff = tmpRA - 69.31657761960786\n"
   ]
  },
  {
   "cell_type": "code",
   "execution_count": 54,
   "metadata": {},
   "outputs": [
    {
     "data": {
      "text/plain": [
       "-0.00011038365990145849"
      ]
     },
     "execution_count": 54,
     "metadata": {},
     "output_type": "execute_result"
    }
   ],
   "source": [
    "GaiaPTA_diff"
   ]
  },
  {
   "cell_type": "code",
   "execution_count": 57,
   "metadata": {},
   "outputs": [
    {
     "data": {
      "text/plain": [
       "0.6787683099042595"
      ]
     },
     "execution_count": 57,
     "metadata": {},
     "output_type": "execute_result"
    }
   ],
   "source": [
    "cos(-47.25253075*pi/180)*180/pi"
   ]
  },
  {
   "cell_type": "code",
   "execution_count": 58,
   "metadata": {},
   "outputs": [
    {
     "data": {
      "text/plain": [
       "-0.8247122414873655"
      ]
     },
     "execution_count": 58,
     "metadata": {},
     "output_type": "execute_result"
    }
   ],
   "source": [
    "-47.25253075*pi/180"
   ]
  },
  {
   "cell_type": "code",
   "execution_count": null,
   "metadata": {},
   "outputs": [],
   "source": []
  },
  {
   "cell_type": "code",
   "execution_count": 43,
   "metadata": {},
   "outputs": [
    {
     "data": {
      "text/plain": [
       "0.009068343060552427"
      ]
     },
     "execution_count": 43,
     "metadata": {},
     "output_type": "execute_result"
    }
   ],
   "source": [
    "121.43993282*1e-3*yrMotion*arcSec2Deg*cos(-47.25253075*pi/180)*180/pi\n"
   ]
  },
  {
   "cell_type": "code",
   "execution_count": 37,
   "metadata": {},
   "outputs": [],
   "source": [
    "GaiaDec = -47.25267778"
   ]
  },
  {
   "cell_type": "code",
   "execution_count": 33,
   "metadata": {},
   "outputs": [],
   "source": [
    "GaiaRA = 69.31660276"
   ]
  },
  {
   "cell_type": "code",
   "execution_count": 34,
   "metadata": {},
   "outputs": [
    {
     "data": {
      "text/plain": [
       "-0.000599949251878229"
      ]
     },
     "execution_count": 34,
     "metadata": {},
     "output_type": "execute_result"
    }
   ],
   "source": [
    "tmpRA-GaiaRA"
   ]
  },
  {
   "cell_type": "code",
   "execution_count": 35,
   "metadata": {},
   "outputs": [],
   "source": [
    "tmpDec = -47.25253075-71.47620158*1e-3*yrMotion*arcSec2Deg"
   ]
  },
  {
   "cell_type": "code",
   "execution_count": 38,
   "metadata": {},
   "outputs": [
    {
     "data": {
      "text/plain": [
       "9.789055667397406e-06"
      ]
     },
     "execution_count": 38,
     "metadata": {},
     "output_type": "execute_result"
    }
   ],
   "source": [
    "tmpDec - GaiaDec"
   ]
  },
  {
   "cell_type": "code",
   "execution_count": 53,
   "metadata": {
    "scrolled": true
   },
   "outputs": [
    {
     "data": {
      "text/plain": [
       "<SkyCoord (ICRS): (ra, dec, distance) in (deg, deg, kpc)\n",
       "    (69.31623406, -47.25253075, 1.)\n",
       " (pm_ra_cosdec, pm_dec) in mas / yr\n",
       "    (121.43993282, -71.47620158)>"
      ]
     },
     "execution_count": 53,
     "metadata": {},
     "output_type": "execute_result"
    }
   ],
   "source": [
    "ipta_coord = coords[ind]\n",
    "ipta_coord"
   ]
  },
  {
   "cell_type": "code",
   "execution_count": 54,
   "metadata": {
    "scrolled": true
   },
   "outputs": [
    {
     "data": {
      "text/plain": [
       "<SkyCoord (ICRS): (ra, dec, distance) in (deg, deg, kpc)\n",
       "    (69.31660276, -47.25267778, 1.)\n",
       " (pm_ra_cosdec, pm_dec) in mas / yr\n",
       "    (122.8637296, -71.16597382)>"
      ]
     },
     "execution_count": 54,
     "metadata": {},
     "output_type": "execute_result"
    }
   ],
   "source": [
    "gaia_time = Time(57023., format='mjd') # CHECK THAT THIS IS REALLY 2015.5 IN MJD\n",
    "gaia_match_coord =  SkyCoord(ra=69.31660276 * u.degree, \n",
    "                             dec=-47.25267778 * u.degree, frame='icrs',\n",
    "                         pm_ra_cosdec = 122.8637296 *u.mas/u.yr,\n",
    "                         pm_dec= -71.16597382 *u.mas/u.yr,\n",
    "                         obstime=Time(2015.5, format='decimalyear'),\n",
    "                         distance=1. * u.kpc) # HACK\n",
    "gaia_ra_err = 0.582326756\n",
    "gaia_dec_err = 0.738504992\n",
    "gaia_match_coord"
   ]
  },
  {
   "cell_type": "code",
   "execution_count": 55,
   "metadata": {},
   "outputs": [
    {
     "data": {
      "text/plain": [
       "0.07154597070179823"
      ]
     },
     "execution_count": 55,
     "metadata": {},
     "output_type": "execute_result"
    }
   ],
   "source": [
    "gaia_ipta_sep = ipta_coord.apply_space_motion(new_obstime=gaia_time).separation(gaia_match_coord).arcsec\n",
    "gaia_ipta_sep"
   ]
  },
  {
   "cell_type": "code",
   "execution_count": null,
   "metadata": {},
   "outputs": [],
   "source": [
    "0.071544965"
   ]
  },
  {
   "cell_type": "code",
   "execution_count": 84,
   "metadata": {},
   "outputs": [
    {
     "data": {
      "text/plain": [
       "0.33492207114758443"
      ]
     },
     "execution_count": 84,
     "metadata": {},
     "output_type": "execute_result"
    }
   ],
   "source": [
    "ang_dist(tmpRA, 69.31660276,tmpDec , -47.25267778)"
   ]
  },
  {
   "cell_type": "code",
   "execution_count": null,
   "metadata": {},
   "outputs": [],
   "source": [
    "# WORK BACKWARDS FROM THETA AND TRY TO DERIVE A CONTRADICTION"
   ]
  },
  {
   "cell_type": "code",
   "execution_count": null,
   "metadata": {},
   "outputs": [],
   "source": []
  },
  {
   "cell_type": "code",
   "execution_count": null,
   "metadata": {},
   "outputs": [],
   "source": []
  },
  {
   "cell_type": "code",
   "execution_count": null,
   "metadata": {},
   "outputs": [],
   "source": []
  },
  {
   "cell_type": "code",
   "execution_count": 77,
   "metadata": {},
   "outputs": [
    {
     "name": "stderr",
     "output_type": "stream",
     "text": [
      "100%|██████████| 1/1 [00:00<00:00,  7.07it/s]"
     ]
    },
    {
     "name": "stdout",
     "output_type": "stream",
     "text": [
      "[69.31657761960786]\n"
     ]
    },
    {
     "name": "stderr",
     "output_type": "stream",
     "text": [
      "\n"
     ]
    }
   ],
   "source": [
    "N = 1\n",
    "seps = []\n",
    "ipta_ras = []\n",
    "ipta_decs = []\n",
    "gaia_ras = []\n",
    "gaia_decs = []\n",
    "for n in tqdm(range(N)):\n",
    "    c1 = SkyCoord(ra=ipta_coord.ra,\n",
    "                 dec=ipta_coord.dec, frame='icrs',\n",
    "                 pm_ra_cosdec=np.random.normal(ipta_coord.pm_ra_cosdec.value, \n",
    "                                               ipta_pmra_err) * u.mas/u.yr,\n",
    "                 pm_dec=np.random.normal(ipta_coord.pm_dec.value, \n",
    "                                               ipta_pmdec_err) * u.mas/u.yr,\n",
    "                 obstime=ipta_coord.obstime,\n",
    "                 distance=ipta_coord.distance)\n",
    "    c2 = SkyCoord(ra=np.random.normal(gaia_match_coord.ra.arcsec, gaia_ra_err) * u.arcsec,\n",
    "                 dec=np.random.normal(gaia_match_coord.dec.arcsec, gaia_dec_err) * u.arcsec, \n",
    "                 frame='icrs',\n",
    "                 pm_ra_cosdec=gaia_match_coord.pm_ra_cosdec, \n",
    "                 pm_dec=gaia_match_coord.pm_dec, \n",
    "                 obstime=gaia_match_coord.obstime,\n",
    "                 distance=gaia_match_coord.distance)\n",
    "    ipta_ras.append(c1.apply_space_motion(new_obstime=gaia_time).ra.degree)\n",
    "    print(ipta_ras)\n",
    "    ipta_decs.append(c1.apply_space_motion(new_obstime=gaia_time).dec.degree)\n",
    "    gaia_ras.append(c2.ra.degree)\n",
    "    gaia_decs.append(c2.dec.degree)\n",
    "    sep = c1.apply_space_motion(new_obstime=gaia_time).separation(c2).arcsec\n",
    "    seps.append(sep)"
   ]
  },
  {
   "cell_type": "code",
   "execution_count": null,
   "metadata": {},
   "outputs": [],
   "source": [
    "bin_list = auto_bin(.05,-0.01,1)\n",
    "weights = hist_weight(seps)"
   ]
  },
  {
   "cell_type": "code",
   "execution_count": null,
   "metadata": {},
   "outputs": [],
   "source": [
    "fig = plt.figure()\n",
    "ax = fig.add_subplot(111)\n",
    "plt.hist(seps, bin_list, weights=weights, alpha = 0.8, align='left', color = 'C0', label = \"Gaia\")\n",
    "plt.axvline(gaia_ipta_sep, color='red', label = \"IPTA\")\n",
    "plt.xlabel(r\"J0437-4715, Angular Separation $\\theta$ (arcsecs)\")\n",
    "plt.ylabel(\"Probability\")\n",
    "plt.legend(frameon=False)\n",
    "plt.tight_layout()\n",
    "#plt.savefig(\"J0437_Theta_IPTA-GAIA.pdf\")\n",
    "\n"
   ]
  },
  {
   "cell_type": "code",
   "execution_count": null,
   "metadata": {
    "scrolled": false
   },
   "outputs": [],
   "source": [
    "ipta_ras = np.array(ipta_ras) - 69.31\n",
    "gaia_ras = np.array(gaia_ras) - 69.31"
   ]
  },
  {
   "cell_type": "code",
   "execution_count": null,
   "metadata": {
    "scrolled": true
   },
   "outputs": [],
   "source": [
    "bin_list = auto_bin(np.std(gaia_ras)/5,np.min(gaia_ras)-np.std(gaia_ras)/2,np.max(gaia_ras)+np.std(gaia_ras)/2)\n",
    "weights = hist_weight(gaia_ras)"
   ]
  },
  {
   "cell_type": "code",
   "execution_count": null,
   "metadata": {},
   "outputs": [],
   "source": [
    "max(gaia_ras)"
   ]
  },
  {
   "cell_type": "code",
   "execution_count": null,
   "metadata": {},
   "outputs": [],
   "source": [
    "fig = plt.figure()\n",
    "ax = fig.add_subplot(111)\n",
    "plt.hist(gaia_ras, bin_list, weights=weights, alpha = 0.8, align='left', color = 'C0', label = \"Gaia\")\n",
    "plt.axvline(np.median(ipta_ras), color='red', label = \"IPTA\") #0.13 sigma\n",
    "plt.xlabel(\"J0437-4715, RA - 69.31(deg)\")\n",
    "plt.ylabel(\"Probability\")\n",
    "plt.legend(frameon=False)\n",
    "plt.tight_layout()\n",
    "#plt.savefig(\"J0437_RA_IPTA-GAIA.pdf\")"
   ]
  },
  {
   "cell_type": "code",
   "execution_count": null,
   "metadata": {},
   "outputs": [],
   "source": [
    "(mu, sigma) = norm.fit(gaia_ras)\n",
    "diff = (mu-np.median(ipta_ras))/sigma"
   ]
  },
  {
   "cell_type": "code",
   "execution_count": null,
   "metadata": {},
   "outputs": [],
   "source": [
    "bin_list = auto_bin(np.std(gaia_decs)/4,np.min(gaia_decs)-np.std(gaia_decs)/2,np.max(gaia_decs)+np.std(gaia_decs)/2)\n",
    "weights = hist_weight(gaia_decs)"
   ]
  },
  {
   "cell_type": "code",
   "execution_count": null,
   "metadata": {},
   "outputs": [],
   "source": [
    "ipta_decs = np.array(ipta_decs) + 47.25\n",
    "gaia_decs = np.array(gaia_decs) + 47.25"
   ]
  },
  {
   "cell_type": "code",
   "execution_count": null,
   "metadata": {},
   "outputs": [],
   "source": []
  },
  {
   "cell_type": "code",
   "execution_count": null,
   "metadata": {},
   "outputs": [],
   "source": [
    "# DEC plot for J0437\n",
    "plt.hist(gaia_decs, bin_list, weights=weights, alpha = 0.8, align='left', color = 'C0', label = \"Gaia\")\n",
    "#plt.hist(ipta_decs, bin_list2, weights=weights2, alpha = 0.8, align='left', color = 'C1', label = \"IPTA\")\n",
    "plt.axvline(np.median(ipta_decs), color='red', label = \"IPTA\")\n",
    "#plt.hist(ipta_decs)\n",
    "##ax.set_xlim([np.min(ipta_decs),np.max(ipta_decs)])\n",
    "plt.xlabel(\"J0437-4715, DEC + 47.25(deg)\")\n",
    "plt.ylabel(\"Probability\")\n",
    "plt.legend(frameon=False)\n",
    "plt.tight_layout()\n",
    "plt.savefig(\"J0437_DEC_IPTA-GAIA.pdf\")"
   ]
  },
  {
   "cell_type": "code",
   "execution_count": null,
   "metadata": {},
   "outputs": [],
   "source": [
    "4.725e1"
   ]
  },
  {
   "cell_type": "code",
   "execution_count": null,
   "metadata": {},
   "outputs": [],
   "source": [
    "ipta_decs + 47.25"
   ]
  },
  {
   "cell_type": "markdown",
   "metadata": {},
   "source": [
    "## Pulsar J1024-0719"
   ]
  },
  {
   "cell_type": "code",
   "execution_count": null,
   "metadata": {},
   "outputs": [],
   "source": [
    "ind = np.where(np.array(Names) == 'J1024-0719')[0][0]\n",
    "\n",
    "ipta_pmra_err = pmra_err[ind]\n",
    "ipta_pmdec_err = pmdec_err[ind]\n",
    "ipta_posepoch = posepoch[ind]\n",
    "\n",
    "ipta_pmra_err = pmra_err[ind]\n",
    "ipta_pmdec_err = pmdec_err[ind]\n",
    "ipta_posepoch = posepoch[ind]\n",
    "\n",
    "\n",
    "ipta_coord = coords[ind]\n",
    "ipta_coord"
   ]
  },
  {
   "cell_type": "code",
   "execution_count": null,
   "metadata": {},
   "outputs": [],
   "source": [
    "gaia_time = Time(57023., format='mjd')\n",
    "gaia_match_coord =  SkyCoord(ra=156.1610927 * u.degree, \n",
    "                             dec=-7.322165289 * u.degree, frame='icrs',\n",
    "                         pm_ra_cosdec = -35.51929892*u.mas/u.yr,\n",
    "                         pm_dec= -47.93231066 *u.mas/u.yr,\n",
    "                         obstime=Time(2015.5, format='decimalyear'),\n",
    "                         distance=1. * u.kpc) # HACK\n",
    "gaia_ra_err = 0.42985265\n",
    "gaia_dec_err = 0.392656637\n",
    "gaia_match_coord"
   ]
  },
  {
   "cell_type": "code",
   "execution_count": null,
   "metadata": {},
   "outputs": [],
   "source": [
    "gaia_ipta_sep = ipta_coord.apply_space_motion(new_obstime=gaia_time).separation(gaia_match_coord).arcsec\n",
    "gaia_ipta_sep"
   ]
  },
  {
   "cell_type": "code",
   "execution_count": null,
   "metadata": {},
   "outputs": [],
   "source": [
    "N = 500\n",
    "seps = []\n",
    "ipta_ras = []\n",
    "ipta_decs = []\n",
    "gaia_ras = []\n",
    "gaia_decs = []\n",
    "for n in tqdm(range(N)):\n",
    "    c1 = SkyCoord(ra=ipta_coord.ra,\n",
    "                 dec=ipta_coord.dec, frame='icrs',\n",
    "                 pm_ra_cosdec=np.random.normal(ipta_coord.pm_ra_cosdec.value, \n",
    "                                               ipta_pmra_err) * u.mas/u.yr,\n",
    "                 pm_dec=np.random.normal(ipta_coord.pm_dec.value, \n",
    "                                               ipta_pmdec_err) * u.mas/u.yr,\n",
    "                 obstime=ipta_coord.obstime,\n",
    "                 distance=ipta_coord.distance)\n",
    "    c2 = SkyCoord(ra=np.random.normal(gaia_match_coord.ra.arcsec, gaia_ra_err) * u.arcsec,\n",
    "                 dec=np.random.normal(gaia_match_coord.dec.arcsec, gaia_dec_err) * u.arcsec, \n",
    "                 frame='icrs',\n",
    "                 pm_ra_cosdec=gaia_match_coord.pm_ra_cosdec, \n",
    "                 pm_dec=gaia_match_coord.pm_dec, \n",
    "                 obstime=gaia_match_coord.obstime,\n",
    "                 distance=gaia_match_coord.distance)\n",
    "    ipta_ras.append(c1.apply_space_motion(new_obstime=gaia_time).ra.degree)\n",
    "    ipta_decs.append(c1.apply_space_motion(new_obstime=gaia_time).dec.degree)\n",
    "    gaia_ras.append(c2.ra.degree)\n",
    "    gaia_decs.append(c2.dec.degree)\n",
    "    sep = c1.apply_space_motion(new_obstime=gaia_time).separation(c2).arcsec\n",
    "    seps.append(sep)"
   ]
  },
  {
   "cell_type": "code",
   "execution_count": null,
   "metadata": {},
   "outputs": [],
   "source": [
    "bin_list = auto_bin(.08,0.0,1.8)\n",
    "weights = hist_weight(seps)"
   ]
  },
  {
   "cell_type": "code",
   "execution_count": null,
   "metadata": {},
   "outputs": [],
   "source": [
    "fig = plt.figure()\n",
    "ax = fig.add_subplot(111)\n",
    "plt.hist(seps, bin_list, weights=weights, alpha = 0.8, align='left', color = 'C0', label = \"Gaia\")\n",
    "plt.axvline(gaia_ipta_sep, color='red', label = \"IPTA\")\n",
    "plt.xlabel(r\"J1024-0719, Angular Separation $\\theta$ (arcsecs)\")\n",
    "plt.ylabel(\"Probability\")\n",
    "plt.legend(frameon=False)\n",
    "plt.tight_layout()\n",
    "plt.savefig(\"J1024_Theta_IPTA-GAIA.pdf\")"
   ]
  },
  {
   "cell_type": "code",
   "execution_count": null,
   "metadata": {},
   "outputs": [],
   "source": [
    "gaia_ras = np.array(gaia_ras) - 1.5616e2"
   ]
  },
  {
   "cell_type": "code",
   "execution_count": null,
   "metadata": {},
   "outputs": [],
   "source": [
    "ipta_ras = np.array(ipta_ras) - 1.5616e2"
   ]
  },
  {
   "cell_type": "code",
   "execution_count": null,
   "metadata": {
    "scrolled": true
   },
   "outputs": [],
   "source": [
    "bin_list = auto_bin(np.std(gaia_ras)/4,np.min(gaia_ras)-np.std(gaia_ras)/2,np.max(gaia_ras)+np.std(gaia_ras)/2)\n",
    "weights = hist_weight(gaia_ras)"
   ]
  },
  {
   "cell_type": "code",
   "execution_count": null,
   "metadata": {},
   "outputs": [],
   "source": [
    "(mu, sigma) = norm.fit(gaia_ras)\n",
    "diff = (mu-np.median(ipta_ras))/sigma"
   ]
  },
  {
   "cell_type": "code",
   "execution_count": null,
   "metadata": {},
   "outputs": [],
   "source": [
    "1.5616e2"
   ]
  },
  {
   "cell_type": "code",
   "execution_count": null,
   "metadata": {},
   "outputs": [],
   "source": [
    "fig = plt.figure()\n",
    "ax = fig.add_subplot(111)\n",
    "plt.hist(gaia_ras, bin_list, weights=weights, alpha = 0.8, align='left', color = 'C0', label = \"Gaia\")\n",
    "plt.axvline(np.median(ipta_ras), color='red', label = \"IPTA\") #0.06 sigma, great fit!\n",
    "plt.xlabel(\"J1024-0719, RA + 156.16 (deg)\")\n",
    "plt.ylabel(\"Probability\")\n",
    "plt.legend(frameon=False)\n",
    "plt.tight_layout()\n",
    "#plt.savefig(\"J1024_RA_IPTA-GAIA.pdf\")"
   ]
  },
  {
   "cell_type": "code",
   "execution_count": null,
   "metadata": {},
   "outputs": [],
   "source": [
    "bin_list = auto_bin(np.std(gaia_decs)/4,np.min(gaia_decs)-np.std(gaia_decs)/2,np.max(gaia_decs)+np.std(gaia_decs)/2)\n",
    "weights = hist_weight(gaia_decs)\n"
   ]
  },
  {
   "cell_type": "code",
   "execution_count": null,
   "metadata": {},
   "outputs": [],
   "source": [
    "(mu, sigma) = norm.fit(gaia_decs)\n",
    "diff = (mu-np.median(ipta_decs))/sigma\n",
    "\n"
   ]
  },
  {
   "cell_type": "code",
   "execution_count": null,
   "metadata": {},
   "outputs": [],
   "source": []
  },
  {
   "cell_type": "code",
   "execution_count": null,
   "metadata": {},
   "outputs": [],
   "source": [
    "diff"
   ]
  },
  {
   "cell_type": "code",
   "execution_count": null,
   "metadata": {},
   "outputs": [],
   "source": [
    "# DEC plot for J1024\n",
    "plt.hist(gaia_decs, bin_list, weights=weights, alpha = 0.8, align='left', color = 'C0', label = \"Gaia\")\n",
    "plt.axvline(np.median(ipta_decs), color='red', label = \"IPTA\") #0.2 sigma away\n",
    "#ax.set_xlim([np.min(ipta_decs),np.max(ipta_decs)])\n",
    "plt.xlabel(\"J1024-0719, DEC (deg)\")\n",
    "plt.ylabel(\"Probability\")\n",
    "plt.legend(frameon=False)\n",
    "plt.tight_layout()\n",
    "#plt.savefig(\"J1024_DEC_IPTA-GAIA.pdf\")"
   ]
  },
  {
   "cell_type": "markdown",
   "metadata": {},
   "source": [
    "## not so great pulsar J1732-5049"
   ]
  },
  {
   "cell_type": "code",
   "execution_count": null,
   "metadata": {},
   "outputs": [],
   "source": [
    "ind = np.where(np.array(Names) == 'J1732-5049')[0][0]\n",
    "\n",
    "ipta_pmra_err = pmra_err[ind]\n",
    "ipta_pmdec_err = pmdec_err[ind]\n",
    "ipta_posepoch = posepoch[ind]\n",
    "\n",
    "ipta_pmra_err = pmra_err[ind]\n",
    "ipta_pmdec_err = pmdec_err[ind]\n",
    "ipta_posepoch = posepoch[ind]\n",
    "\n",
    "\n",
    "ipta_coord = coords[ind]\n",
    "ipta_coord"
   ]
  },
  {
   "cell_type": "code",
   "execution_count": null,
   "metadata": {},
   "outputs": [],
   "source": [
    "gaia_time = Time(57023., format='mjd')\n",
    "gaia_match_coord =  SkyCoord(ra=263.200006 * u.degree, \n",
    "                             dec=-50.8166163 * u.degree, frame='icrs',\n",
    "                         pm_ra_cosdec = -0.031849016*u.mas/u.yr,\n",
    "                         pm_dec= -10.483062*u.mas/u.yr,\n",
    "                         obstime=Time(2015.5, format='decimalyear'),\n",
    "                         distance=1. * u.kpc) # HACK\n",
    "gaia_ra_err = 2.168898313\n",
    "gaia_dec_err = 2.010098257\n",
    "gaia_match_coord"
   ]
  },
  {
   "cell_type": "code",
   "execution_count": null,
   "metadata": {},
   "outputs": [],
   "source": [
    "gaia_ipta_sep = ipta_coord.apply_space_motion(new_obstime=gaia_time).separation(gaia_match_coord).arcsec\n",
    "gaia_ipta_sep"
   ]
  },
  {
   "cell_type": "code",
   "execution_count": null,
   "metadata": {},
   "outputs": [],
   "source": [
    "N = 500\n",
    "seps = []\n",
    "ipta_ras = []\n",
    "ipta_decs = []\n",
    "gaia_ras = []\n",
    "gaia_decs = []\n",
    "for n in tqdm(range(N)):\n",
    "    c1 = SkyCoord(ra=ipta_coord.ra,\n",
    "                 dec=ipta_coord.dec, frame='icrs',\n",
    "                 pm_ra_cosdec=np.random.normal(ipta_coord.pm_ra_cosdec.value, \n",
    "                                               ipta_pmra_err) * u.mas/u.yr,\n",
    "                 pm_dec=np.random.normal(ipta_coord.pm_dec.value, \n",
    "                                               ipta_pmdec_err) * u.mas/u.yr,\n",
    "                 obstime=ipta_coord.obstime,\n",
    "                 distance=ipta_coord.distance)\n",
    "    c2 = SkyCoord(ra=np.random.normal(gaia_match_coord.ra.arcsec, gaia_ra_err) * u.arcsec,\n",
    "                 dec=np.random.normal(gaia_match_coord.dec.arcsec, gaia_dec_err) * u.arcsec, \n",
    "                 frame='icrs',\n",
    "                 pm_ra_cosdec=gaia_match_coord.pm_ra_cosdec, \n",
    "                 pm_dec=gaia_match_coord.pm_dec, \n",
    "                 obstime=gaia_match_coord.obstime,\n",
    "                 distance=gaia_match_coord.distance)\n",
    "    ipta_ras.append(c1.apply_space_motion(new_obstime=gaia_time).ra.degree)\n",
    "    ipta_decs.append(c1.apply_space_motion(new_obstime=gaia_time).dec.degree)\n",
    "    gaia_ras.append(c2.ra.degree)\n",
    "    gaia_decs.append(c2.dec.degree)\n",
    "    sep = c1.apply_space_motion(new_obstime=gaia_time).separation(c2).arcsec\n",
    "    seps.append(sep)"
   ]
  },
  {
   "cell_type": "code",
   "execution_count": null,
   "metadata": {},
   "outputs": [],
   "source": [
    "bin_list = auto_bin(.5,0.0,8.0)\n",
    "weights = hist_weight(seps)"
   ]
  },
  {
   "cell_type": "code",
   "execution_count": null,
   "metadata": {},
   "outputs": [],
   "source": [
    "fig = plt.figure()\n",
    "ax = fig.add_subplot(111)\n",
    "plt.hist(seps, bin_list, weights=weights, alpha = 0.8, align='left', color = 'C0', label = \"Gaia\")\n",
    "plt.axvline(gaia_ipta_sep, color='red', label = \"IPTA\")\n",
    "plt.xlabel(r\"J1732-5049, Angular Separation $\\theta$ (arcsecs)\")\n",
    "plt.ylabel(\"Probability\")\n",
    "plt.legend(frameon=False)\n",
    "plt.tight_layout()\n",
    "#plt.savefig(\"J1732_Theta_IPTA-GAIA.pdf\")"
   ]
  },
  {
   "cell_type": "code",
   "execution_count": null,
   "metadata": {},
   "outputs": [],
   "source": [
    "ipta_ras = np.array(ipta_ras)-263.2"
   ]
  },
  {
   "cell_type": "code",
   "execution_count": null,
   "metadata": {},
   "outputs": [],
   "source": [
    "gaia_ras = np.array(gaia_ras)-263.2"
   ]
  },
  {
   "cell_type": "code",
   "execution_count": null,
   "metadata": {},
   "outputs": [],
   "source": [
    "bin_list = auto_bin(np.std(gaia_ras)/4,np.min(gaia_ras)-np.std(gaia_ras)/2,np.max(gaia_ras)+np.std(gaia_ras)/2)\n",
    "weights = hist_weight(gaia_ras)"
   ]
  },
  {
   "cell_type": "code",
   "execution_count": null,
   "metadata": {},
   "outputs": [],
   "source": [
    "2.632e2"
   ]
  },
  {
   "cell_type": "code",
   "execution_count": null,
   "metadata": {},
   "outputs": [],
   "source": [
    "fig = plt.figure()\n",
    "ax = fig.add_subplot(111)\n",
    "plt.hist(gaia_ras, bin_list, weights=weights, alpha = 0.8, align='left', color = 'C0', label = \"Gaia\")\n",
    "plt.axvline(np.median(ipta_ras), color='red', label = \"IPTA\") #1.57 sigma\n",
    "plt.xlabel(\"J1732, RA - 263.2 (deg)\")\n",
    "plt.ylabel(\"Probability\")\n",
    "plt.legend(frameon=False)\n",
    "plt.tight_layout()\n",
    "#plt.savefig(\"J1732_RA_IPTA-GAIA.pdf\")\n",
    "\n"
   ]
  },
  {
   "cell_type": "code",
   "execution_count": null,
   "metadata": {},
   "outputs": [],
   "source": [
    "(mu, sigma) = norm.fit(gaia_ras)\n",
    "diff = (mu-np.median(ipta_ras))/sigma"
   ]
  },
  {
   "cell_type": "code",
   "execution_count": null,
   "metadata": {},
   "outputs": [],
   "source": [
    "mu"
   ]
  },
  {
   "cell_type": "code",
   "execution_count": null,
   "metadata": {},
   "outputs": [],
   "source": [
    "sigma"
   ]
  },
  {
   "cell_type": "code",
   "execution_count": null,
   "metadata": {},
   "outputs": [],
   "source": [
    "diff"
   ]
  },
  {
   "cell_type": "code",
   "execution_count": null,
   "metadata": {},
   "outputs": [],
   "source": [
    "bin_list = auto_bin(np.std(gaia_decs)/4,np.min(gaia_decs)-np.std(gaia_decs)/2,np.max(gaia_decs)+np.std(gaia_decs)/2)\n",
    "weights = hist_weight(gaia_decs)\n",
    "\n"
   ]
  },
  {
   "cell_type": "code",
   "execution_count": null,
   "metadata": {},
   "outputs": [],
   "source": [
    "gaia_decs = np.array(gaia_decs)- 50.81"
   ]
  },
  {
   "cell_type": "code",
   "execution_count": null,
   "metadata": {},
   "outputs": [],
   "source": [
    "ipta_decs = np.array(ipta_decs)+ 50.81"
   ]
  },
  {
   "cell_type": "code",
   "execution_count": null,
   "metadata": {},
   "outputs": [],
   "source": []
  },
  {
   "cell_type": "code",
   "execution_count": null,
   "metadata": {},
   "outputs": [],
   "source": [
    "# DEC plot for J1024\n",
    "plt.hist(gaia_decs, bin_list, weights=weights, alpha = 0.8, align='left', color = 'C0', label = \"Gaia\")\n",
    "plt.axvline(np.median(ipta_decs), color='red', label = \"IPTA\") #0.26 sigma away\n",
    "#ax.set_xlim([np.min(ipta_decs),np.max(ipta_decs)])\n",
    "plt.xlabel(\"J1732 + 50.81, DEC (deg)\")\n",
    "plt.ylabel(\"Probability\")\n",
    "plt.legend(frameon=False)\n",
    "plt.tight_layout()\n",
    "#plt.savefig(\"J1732_DEC_IPTA-GAIA.pdf\")"
   ]
  },
  {
   "cell_type": "code",
   "execution_count": null,
   "metadata": {},
   "outputs": [],
   "source": [
    "(mu, sigma) = norm.fit(gaia_decs)\n",
    "diff = (mu-np.median(ipta_decs))/sigma"
   ]
  },
  {
   "cell_type": "code",
   "execution_count": null,
   "metadata": {},
   "outputs": [],
   "source": [
    "diff"
   ]
  },
  {
   "cell_type": "markdown",
   "metadata": {},
   "source": [
    "## Pulsar J1955+2908"
   ]
  },
  {
   "cell_type": "code",
   "execution_count": null,
   "metadata": {},
   "outputs": [],
   "source": [
    "ind = np.where(np.array(Names) == 'J1955+2908')[0][0]\n",
    "\n",
    "ipta_pmra_err = pmra_err[ind]\n",
    "ipta_pmdec_err = pmdec_err[ind]\n",
    "ipta_posepoch = posepoch[ind]\n",
    "\n",
    "ipta_pmra_err = pmra_err[ind]\n",
    "ipta_pmdec_err = pmdec_err[ind]\n",
    "ipta_posepoch = posepoch[ind]\n",
    "\n",
    "\n",
    "ipta_coord = coords[ind]\n",
    "ipta_coord"
   ]
  },
  {
   "cell_type": "code",
   "execution_count": null,
   "metadata": {},
   "outputs": [],
   "source": [
    "gaia_time = Time(57023., format='mjd')\n",
    "gaia_match_coord =  SkyCoord(ra=298.8661015 * u.degree, \n",
    "                             dec=29.14538275 * u.degree, frame='icrs',\n",
    "                         pm_ra_cosdec = -3.092116051*u.mas/u.yr,\n",
    "                         pm_dec= -7.962991888*u.mas/u.yr,\n",
    "                         obstime=Time(2015.5, format='decimalyear'),\n",
    "                         distance=1. * u.kpc) # HACK\n",
    "gaia_ra_err = 0.125519342\n",
    "gaia_dec_err = 0.165511548\n",
    "gaia_match_coord"
   ]
  },
  {
   "cell_type": "code",
   "execution_count": null,
   "metadata": {},
   "outputs": [],
   "source": [
    "gaia_ipta_sep = ipta_coord.apply_space_motion(new_obstime=gaia_time).separation(gaia_match_coord).arcsec\n",
    "gaia_ipta_sep"
   ]
  },
  {
   "cell_type": "code",
   "execution_count": null,
   "metadata": {},
   "outputs": [],
   "source": [
    "N = 500\n",
    "seps = []\n",
    "ipta_ras = []\n",
    "ipta_decs = []\n",
    "gaia_ras = []\n",
    "gaia_decs = []\n",
    "for n in tqdm(range(N)):\n",
    "    c1 = SkyCoord(ra=ipta_coord.ra,\n",
    "                 dec=ipta_coord.dec, frame='icrs',\n",
    "                 pm_ra_cosdec=np.random.normal(ipta_coord.pm_ra_cosdec.value, \n",
    "                                               ipta_pmra_err) * u.mas/u.yr,\n",
    "                 pm_dec=np.random.normal(ipta_coord.pm_dec.value, \n",
    "                                               ipta_pmdec_err) * u.mas/u.yr,\n",
    "                 obstime=ipta_coord.obstime,\n",
    "                 distance=ipta_coord.distance)\n",
    "    c2 = SkyCoord(ra=np.random.normal(gaia_match_coord.ra.arcsec, gaia_ra_err) * u.arcsec,\n",
    "                 dec=np.random.normal(gaia_match_coord.dec.arcsec, gaia_dec_err) * u.arcsec, \n",
    "                 frame='icrs',\n",
    "                 pm_ra_cosdec=gaia_match_coord.pm_ra_cosdec, \n",
    "                 pm_dec=gaia_match_coord.pm_dec, \n",
    "                 obstime=gaia_match_coord.obstime,\n",
    "                 distance=gaia_match_coord.distance)\n",
    "    ipta_ras.append(c1.apply_space_motion(new_obstime=gaia_time).ra.degree)\n",
    "    ipta_decs.append(c1.apply_space_motion(new_obstime=gaia_time).dec.degree)\n",
    "    gaia_ras.append(c2.ra.degree)\n",
    "    gaia_decs.append(c2.dec.degree)\n",
    "    sep = c1.apply_space_motion(new_obstime=gaia_time).separation(c2).arcsec\n",
    "    seps.append(sep)"
   ]
  },
  {
   "cell_type": "code",
   "execution_count": null,
   "metadata": {},
   "outputs": [],
   "source": []
  },
  {
   "cell_type": "code",
   "execution_count": null,
   "metadata": {},
   "outputs": [],
   "source": []
  },
  {
   "cell_type": "code",
   "execution_count": null,
   "metadata": {},
   "outputs": [],
   "source": [
    "bin_list = auto_bin(.05,0.0,0.8)\n",
    "weights = hist_weight(seps)\n",
    "\n",
    "fig = plt.figure()\n",
    "ax = fig.add_subplot(111)\n",
    "plt.hist(seps, bin_list, weights=weights, alpha = 0.8, align='left', color = 'C0', label = \"Gaia\")\n",
    "plt.axvline(gaia_ipta_sep, color='red', label = \"IPTA\")\n",
    "plt.xlabel(r\"J1955+2908, Angular Separation $\\theta$ (arcsecs)\")\n",
    "plt.ylabel(\"Probability\")\n",
    "plt.legend(frameon=False)\n",
    "plt.tight_layout()\n",
    "#plt.savefig(\"J1955_Theta_IPTA-GAIA.pdf\")"
   ]
  },
  {
   "cell_type": "code",
   "execution_count": null,
   "metadata": {},
   "outputs": [],
   "source": [
    "ipta_ras = np.array(ipta_ras) - 298.85"
   ]
  },
  {
   "cell_type": "code",
   "execution_count": null,
   "metadata": {},
   "outputs": [],
   "source": [
    "gaia_ras = np.array(gaia_ras) - 298.85"
   ]
  },
  {
   "cell_type": "code",
   "execution_count": null,
   "metadata": {},
   "outputs": [],
   "source": [
    "bin_list = auto_bin(np.std(gaia_ras)/4,np.min(gaia_ras)-np.std(gaia_ras)/2,np.max(gaia_ras)+np.std(gaia_ras)/2)\n",
    "weights = hist_weight(gaia_ras)"
   ]
  },
  {
   "cell_type": "code",
   "execution_count": null,
   "metadata": {},
   "outputs": [],
   "source": [
    "fig = plt.figure()\n",
    "ax = fig.add_subplot(111)\n",
    "plt.hist(gaia_ras, bin_list, weights=weights, alpha = 0.8, align='left', color = 'C0', label = \"Gaia\")\n",
    "plt.axvline(np.median(ipta_ras), color='red', label = \"IPTA\") #1.3 sigma\n",
    "plt.xlabel(\"J1955+2908, RA - 298.85 (deg)\")\n",
    "plt.ylabel(\"Probability\")\n",
    "plt.legend(frameon=False)\n",
    "plt.tight_layout()\n",
    "#plt.savefig(\"J1955_RA_IPTA-GAIA.pdf\")"
   ]
  },
  {
   "cell_type": "code",
   "execution_count": null,
   "metadata": {},
   "outputs": [],
   "source": [
    "(mu, sigma) = norm.fit(gaia_ras)\n",
    "diff = (mu-np.median(ipta_ras))/sigma"
   ]
  },
  {
   "cell_type": "code",
   "execution_count": null,
   "metadata": {},
   "outputs": [],
   "source": [
    "diff"
   ]
  },
  {
   "cell_type": "code",
   "execution_count": null,
   "metadata": {},
   "outputs": [],
   "source": [
    "gaia_decs = np.array(gaia_decs) - 29.145"
   ]
  },
  {
   "cell_type": "code",
   "execution_count": null,
   "metadata": {},
   "outputs": [],
   "source": [
    "ipta_decs = np.array(ipta_decs) - 29.145"
   ]
  },
  {
   "cell_type": "code",
   "execution_count": null,
   "metadata": {},
   "outputs": [],
   "source": [
    "max(gaia_decs)"
   ]
  },
  {
   "cell_type": "code",
   "execution_count": null,
   "metadata": {},
   "outputs": [],
   "source": [
    "bin_list = auto_bin(np.std(gaia_decs)/4,np.min(gaia_decs)-np.std(gaia_decs)/2,np.max(gaia_decs)+np.std(gaia_decs)/2)\n",
    "weights = hist_weight(gaia_decs)"
   ]
  },
  {
   "cell_type": "code",
   "execution_count": null,
   "metadata": {},
   "outputs": [],
   "source": [
    "# DEC plot for J1732\n",
    "plt.hist(gaia_decs, bin_list, weights=weights, alpha = 0.8, align='left', color = 'C0', label = \"Gaia\")\n",
    "plt.axvline(np.median(ipta_decs), color='red', label = \"IPTA\") #0.4 sigma\n",
    "ax.set_xlim([np.min(ipta_decs),np.max(ipta_decs)])\n",
    "plt.xlabel(\"J1955+2908, DEC - 29.145 (deg)\")\n",
    "plt.ylabel(\"Probability\")\n",
    "plt.legend(frameon=False)\n",
    "plt.tight_layout()\n",
    "#plt.savefig(\"J1955_DEC_IPTA-GAIA.pdf\")"
   ]
  },
  {
   "cell_type": "code",
   "execution_count": null,
   "metadata": {},
   "outputs": [],
   "source": [
    "(mu, sigma) = norm.fit(gaia_decs)\n",
    "diff = (mu-np.median(ipta_decs))/sigma\n"
   ]
  },
  {
   "cell_type": "code",
   "execution_count": null,
   "metadata": {},
   "outputs": [],
   "source": [
    "diff"
   ]
  },
  {
   "cell_type": "markdown",
   "metadata": {},
   "source": [
    "# Potential new binary"
   ]
  },
  {
   "cell_type": "code",
   "execution_count": null,
   "metadata": {},
   "outputs": [],
   "source": [
    "ind = np.where(np.array(Names) == 'J1843-1113')[0][0]\n",
    "\n",
    "ipta_pmra_err = pmra_err[ind]\n",
    "ipta_pmdec_err = pmdec_err[ind]\n",
    "ipta_posepoch = posepoch[ind]\n",
    "\n",
    "ipta_pmra_err = pmra_err[ind]\n",
    "ipta_pmdec_err = pmdec_err[ind]\n",
    "ipta_posepoch = posepoch[ind]\n",
    "\n",
    "\n",
    "ipta_coord = coords[ind]\n",
    "ipta_coord"
   ]
  },
  {
   "cell_type": "code",
   "execution_count": null,
   "metadata": {},
   "outputs": [],
   "source": [
    "gaia_time = Time(57023., format='mjd')\n",
    "gaia_match_coord =  SkyCoord(ra=280.9223272 * u.degree, \n",
    "                             dec= -11.22530736* u.degree, frame='icrs',\n",
    "                         pm_ra_cosdec = -3.241264413*u.mas/u.yr,\n",
    "                         pm_dec= -7.274383834*u.mas/u.yr,\n",
    "                         obstime=Time(2015.5, format='decimalyear'),\n",
    "                         distance=1. * u.kpc) # HACK\n",
    "gaia_ra_err = 0.666668976\n",
    "gaia_dec_err = 0.644355643\n",
    "gaia_match_coord"
   ]
  },
  {
   "cell_type": "code",
   "execution_count": null,
   "metadata": {},
   "outputs": [],
   "source": [
    "gaia_ipta_sep = ipta_coord.apply_space_motion(new_obstime=gaia_time).separation(gaia_match_coord).arcsec\n",
    "gaia_ipta_sep"
   ]
  },
  {
   "cell_type": "code",
   "execution_count": null,
   "metadata": {},
   "outputs": [],
   "source": [
    "N = 500\n",
    "seps = []\n",
    "ipta_ras = []\n",
    "ipta_decs = []\n",
    "gaia_ras = []\n",
    "gaia_decs = []\n",
    "for n in tqdm(range(N)):\n",
    "    c1 = SkyCoord(ra=ipta_coord.ra,\n",
    "                 dec=ipta_coord.dec, frame='icrs',\n",
    "                 pm_ra_cosdec=np.random.normal(ipta_coord.pm_ra_cosdec.value, \n",
    "                                               ipta_pmra_err) * u.mas/u.yr,\n",
    "                 pm_dec=np.random.normal(ipta_coord.pm_dec.value, \n",
    "                                               ipta_pmdec_err) * u.mas/u.yr,\n",
    "                 obstime=ipta_coord.obstime,\n",
    "                 distance=ipta_coord.distance)\n",
    "    c2 = SkyCoord(ra=np.random.normal(gaia_match_coord.ra.arcsec, gaia_ra_err) * u.arcsec,\n",
    "                 dec=np.random.normal(gaia_match_coord.dec.arcsec, gaia_dec_err) * u.arcsec, \n",
    "                 frame='icrs',\n",
    "                 pm_ra_cosdec=gaia_match_coord.pm_ra_cosdec, \n",
    "                 pm_dec=gaia_match_coord.pm_dec, \n",
    "                 obstime=gaia_match_coord.obstime,\n",
    "                 distance=gaia_match_coord.distance)\n",
    "    ipta_ras.append(c1.apply_space_motion(new_obstime=gaia_time).ra.degree)\n",
    "    ipta_decs.append(c1.apply_space_motion(new_obstime=gaia_time).dec.degree)\n",
    "    gaia_ras.append(c2.ra.degree)\n",
    "    gaia_decs.append(c2.dec.degree)\n",
    "    sep = c1.apply_space_motion(new_obstime=gaia_time).separation(c2).arcsec\n",
    "    seps.append(sep)"
   ]
  },
  {
   "cell_type": "code",
   "execution_count": null,
   "metadata": {},
   "outputs": [],
   "source": [
    "plt.hist(seps)\n",
    "plt.axvline(np.median(seps), color='red', label = \"IPTA\")"
   ]
  },
  {
   "cell_type": "code",
   "execution_count": null,
   "metadata": {},
   "outputs": [],
   "source": [
    "plt.hist(gaia_ras)\n",
    "plt.axvline(np.median(ipta_ras), color='red', label = \"IPTA\")"
   ]
  },
  {
   "cell_type": "code",
   "execution_count": null,
   "metadata": {},
   "outputs": [],
   "source": [
    "plt.hist(gaia_decs)\n",
    "plt.axvline(np.median(ipta_decs), color='red', label = \"IPTA\")"
   ]
  },
  {
   "cell_type": "code",
   "execution_count": null,
   "metadata": {},
   "outputs": [],
   "source": [
    "import statsmodels.api as sm\n",
    "import matplotlib.mlab as ml\n",
    "from scipy.stats import norm\n",
    "\n",
    "\n"
   ]
  },
  {
   "cell_type": "code",
   "execution_count": null,
   "metadata": {},
   "outputs": [],
   "source": [
    "bin_list = auto_bin(.1,0,3.5)\n",
    "weights = hist_weight(seps)\n",
    "\n",
    "(mu, sigma) = norm.fit(seps)\n",
    "y = mlab.normpdf(bin_list, mu, sigma)\n",
    "l = plt.plot(bin_list, y, 'r--', linewidth=2)\n",
    "plt.axvline(np.median(seps), color='red', label = \"IPTA\")\n",
    "plt.hist(seps, bin_list, weights = weights, edgecolor = 'black', alpha =0.8, align='left')\n",
    "plt.ylabel(\"Probability\")\n",
    "plt.xlabel(\"binary separation\")\n",
    "plt.tight_layout()"
   ]
  },
  {
   "cell_type": "code",
   "execution_count": null,
   "metadata": {},
   "outputs": [],
   "source": [
    "mu"
   ]
  },
  {
   "cell_type": "code",
   "execution_count": null,
   "metadata": {},
   "outputs": [],
   "source": [
    "sigma"
   ]
  },
  {
   "cell_type": "code",
   "execution_count": null,
   "metadata": {},
   "outputs": [],
   "source": [
    "plt.plot(bin_list, y, 'r--', linewidth=2)\n",
    "\n"
   ]
  },
  {
   "cell_type": "code",
   "execution_count": null,
   "metadata": {},
   "outputs": [],
   "source": [
    "frac = [0.00027815, 0.00027772, 0.00027801, 0.00027789, 0.00027739, 0.00027773, 0.00027794]"
   ]
  },
  {
   "cell_type": "code",
   "execution_count": null,
   "metadata": {},
   "outputs": [],
   "source": [
    "plt.hist(np.log10(frac))"
   ]
  },
  {
   "cell_type": "code",
   "execution_count": null,
   "metadata": {},
   "outputs": [],
   "source": [
    "bin_list = auto_bin(1e-5,-3.5570, -3.5560)\n",
    "weights = hist_weight(frac)\n",
    "\n",
    "#(mu, sigma) = norm.fit(np.log10(frac))\n",
    "#y = mlab.normpdf(bin_list, mu, sigma)\n",
    "#l = plt.plot(bin_list, y, 'r--', linewidth=2)\n",
    "#plt.axvline(np.median(seps), color='red', label = \"IPTA\")\n",
    "plt.hist(np.log10(frac), bin_list, weights = weights, edgecolor = 'black', alpha =0.8, align='left')\n",
    "plt.ylabel(\"Probability\")\n",
    "plt.xlabel(\"Gaia/IPTA\")\n",
    "plt.tight_layout()"
   ]
  },
  {
   "cell_type": "code",
   "execution_count": null,
   "metadata": {},
   "outputs": [],
   "source": [
    "np.average(frac)"
   ]
  },
  {
   "cell_type": "code",
   "execution_count": null,
   "metadata": {},
   "outputs": [],
   "source": [
    "np.mean(frac)"
   ]
  },
  {
   "cell_type": "code",
   "execution_count": null,
   "metadata": {},
   "outputs": [],
   "source": [
    "normConst = np.average(frac)"
   ]
  },
  {
   "cell_type": "code",
   "execution_count": null,
   "metadata": {},
   "outputs": [],
   "source": []
  }
 ],
 "metadata": {
  "kernelspec": {
   "display_name": "Python 3",
   "language": "python",
   "name": "python3"
  },
  "language_info": {
   "codemirror_mode": {
    "name": "ipython",
    "version": 3
   },
   "file_extension": ".py",
   "mimetype": "text/x-python",
   "name": "python",
   "nbconvert_exporter": "python",
   "pygments_lexer": "ipython3",
   "version": "3.6.5"
  }
 },
 "nbformat": 4,
 "nbformat_minor": 2
}
